{
 "cells": [
  {
   "cell_type": "markdown",
   "metadata": {},
   "source": [
    "# Carga de librerias"
   ]
  },
  {
   "cell_type": "code",
   "execution_count": 1,
   "metadata": {},
   "outputs": [],
   "source": [
    "from pymongo import MongoClient\n",
    "import time\n",
    "from datetime import datetime, timedelta\n",
    "\n",
    "client = MongoClient('localhost', 27017)\n",
    "db = client[\"test_mongo\"]"
   ]
  },
  {
   "cell_type": "markdown",
   "metadata": {},
   "source": [
    "# Consultas a la base de datos con 1 millón de registros y todos los campos indexados"
   ]
  },
  {
   "cell_type": "markdown",
   "metadata": {},
   "source": [
    "En esta sección se revisará la operación de búsqueda para la colección de 1 millón de documentos ya indexados"
   ]
  },
  {
   "cell_type": "code",
   "execution_count": 2,
   "metadata": {},
   "outputs": [
    {
     "data": {
      "text/plain": [
       "{'_id_': {'v': 2, 'key': [('_id', 1)]},\n",
       " 'fecha_1': {'v': 2, 'key': [('fecha', 1)]},\n",
       " 'agencia_1': {'v': 2, 'key': [('agencia', 1)]},\n",
       " 'monto_1': {'v': 2, 'key': [('monto', 1)]},\n",
       " 'saldo_1': {'v': 2, 'key': [('saldo', 1)]},\n",
       " 'descripcion_1': {'v': 2, 'key': [('descripcion', 1)]},\n",
       " 'nota_1': {'v': 2, 'key': [('nota', 1)]}}"
      ]
     },
     "execution_count": 2,
     "metadata": {},
     "output_type": "execute_result"
    }
   ],
   "source": [
    "coll = db[\"extracto_cuenta_1m2\"]\n",
    "coll.index_information()"
   ]
  },
  {
   "cell_type": "markdown",
   "metadata": {},
   "source": [
    "## Consulta 1: Todos los datos"
   ]
  },
  {
   "cell_type": "markdown",
   "metadata": {},
   "source": [
    "Se realizará una búsqueda sobre todos los campos en la colección"
   ]
  },
  {
   "cell_type": "code",
   "execution_count": 267,
   "metadata": {},
   "outputs": [
    {
     "name": "stdout",
     "output_type": "stream",
     "text": [
      "====================================================================================================\n",
      "{'_id': ObjectId('636db33ddfb1bbbb1b7d41fa'), 'fecha': '1956-04-20 13:40:08', 'agencia': 'Cochabamba', 'monto': 28791.8, 'descripcion': 'Pago de cheque compensado', 'saldo': 3922743.44, 'nota': 'aspernatur soluta earum totam consectetur culpa atque nobis dolor assumenda quaerat'}\n",
      "\n",
      "{'_id': ObjectId('636db33ddfb1bbbb1b7d41fb'), 'fecha': '1995-02-16 01:20:10', 'agencia': 'Chuquisaca', 'monto': 298799.98, 'descripcion': 'Ingreso en efectivo', 'saldo': 411060.2, 'nota': 'facilis assumenda voluptate illo exercitationem repudiandae at officiis laboriosam quia aliquid adipisci'}\n",
      "\n",
      "{'_id': ObjectId('636db33ddfb1bbbb1b7d41fc'), 'fecha': '1956-09-04 21:08:47', 'agencia': 'Beni', 'monto': 92841.99, 'descripcion': 'Pago de nómina', 'saldo': 3349136.75, 'nota': 'iusto commodi ducimus aliquam'}\n",
      "\n",
      "{'_id': ObjectId('636db33ddfb1bbbb1b7d41fd'), 'fecha': '2003-11-11 15:10:18', 'agencia': 'Santa Cruz', 'monto': 79639.42, 'descripcion': 'Cobro seguro', 'saldo': 6523331.21, 'nota': 'aperiam a architecto eligendi nam saepe perferendis dolorum'}\n",
      "\n",
      "{'_id': ObjectId('636db33ddfb1bbbb1b7d41fe'), 'fecha': '1983-06-07 17:48:33', 'agencia': 'Santa Cruz', 'monto': 310835.49, 'descripcion': 'Retiro en efectivo', 'saldo': 8995130.49, 'nota': 'commodi saepe fugiat debitis veniam hic dolores nesciunt'}\n",
      "\n",
      "{'_id': ObjectId('636db33ddfb1bbbb1b7d41ff'), 'fecha': '1996-04-20 21:43:23', 'agencia': 'Oruro', 'monto': 280829.89, 'descripcion': 'Pago en línea - Servicio de internet', 'saldo': 5027086.25, 'nota': 'recusandae expedita optio deleniti assumenda corporis facilis quo error quidem perferendis'}\n",
      "\n",
      "{'_id': ObjectId('636db33ddfb1bbbb1b7d4200'), 'fecha': '1954-07-01 13:25:24', 'agencia': 'Beni', 'monto': 156471.92, 'descripcion': 'Retención IVA', 'saldo': 4839090.36, 'nota': 'harum aspernatur eligendi cumque deserunt velit explicabo esse'}\n",
      "\n",
      "{'_id': ObjectId('636db33ddfb1bbbb1b7d4201'), 'fecha': '2020-05-12 16:38:04', 'agencia': 'Tarija', 'monto': 126941.7, 'descripcion': 'Retención IVA', 'saldo': 9103704.71, 'nota': 'id quaerat'}\n",
      "\n",
      "{'_id': ObjectId('636db33ddfb1bbbb1b7d4202'), 'fecha': '1952-05-27 14:38:53', 'agencia': 'Oruro', 'monto': 298866.58, 'descripcion': 'Cobro seguro', 'saldo': 2023462.97, 'nota': 'facere rerum exercitationem quisquam assumenda'}\n",
      "\n",
      "{'_id': ObjectId('636db33ddfb1bbbb1b7d4203'), 'fecha': '2018-12-18 22:11:13', 'agencia': 'Santa Cruz', 'monto': 2262.59, 'descripcion': 'Reintegro cajero automático', 'saldo': 1166753.44, 'nota': 'corporis nemo earum quia odio'}\n",
      "\n",
      "====================================================================================================\n",
      " Consulta realizada en un tiempo de 0.1731 milisegundos\n",
      "====================================================================================================\n"
     ]
    }
   ],
   "source": [
    "start_time = time.time()\n",
    "results = coll.find({})\n",
    "end_time = time.time()\n",
    "\n",
    "print(\"=\"*100)\n",
    "\n",
    "for r in results[:10]:\n",
    "    print(r)\n",
    "    print(\"\")\n",
    "\n",
    "print(\"=\"*100)\n",
    "print(f\" Consulta realizada en un tiempo de {round((end_time - start_time)*1000, 4)} milisegundos\")\n",
    "print(\"=\"*100)"
   ]
  },
  {
   "cell_type": "markdown",
   "metadata": {},
   "source": [
    "## Consulta 2: Fecha y agencia"
   ]
  },
  {
   "cell_type": "markdown",
   "metadata": {},
   "source": [
    "Se realizará una búsqueda sobre los campos fecha y agencia. Siendo los parámetros de entrada una fecha inicial, una fecha final y una agencia."
   ]
  },
  {
   "cell_type": "code",
   "execution_count": 44,
   "metadata": {},
   "outputs": [],
   "source": [
    "def busqueda_fecha_agencia(start_date, end_date, agencia):\n",
    "    from_date_str = start_date + \"T00:00:00+00:00\"\n",
    "    to_date_str = end_date + \"T23:59:59+00:00\"\n",
    "    from_date = datetime.strptime(from_date_str, '%Y-%m-%dT%H:%M:%S%z')\n",
    "    to_date = datetime.strptime(to_date_str, '%Y-%m-%dT%H:%M:%S%z')\n",
    "    \n",
    "\n",
    "    search_criteria = {\n",
    "        \n",
    "        \"$and\":\n",
    "        [\n",
    "            {\n",
    "                \"fecha\":\n",
    "                {\n",
    "                    \"$gte\": str(from_date),\n",
    "                    \"$lte\": str(to_date)\n",
    "                }\n",
    "            },\n",
    "            {\n",
    "                \"agencia\": agencia\n",
    "            }\n",
    "        ]\n",
    "    }\n",
    "\n",
    "    return coll.find(search_criteria)"
   ]
  },
  {
   "cell_type": "code",
   "execution_count": 269,
   "metadata": {},
   "outputs": [
    {
     "name": "stdout",
     "output_type": "stream",
     "text": [
      "====================================================================================================\n",
      "{'_id': ObjectId('636db342dfb1bbbb1b8bd379'), 'fecha': '2019-01-31 03:44:08', 'agencia': 'Cochabamba', 'monto': 37969.85, 'descripcion': 'Pago de cheque compensado', 'saldo': 4372410.9, 'nota': 'aspernatur unde'}\n",
      "\n",
      "{'_id': ObjectId('636db33edfb1bbbb1b7dad5e'), 'fecha': '2019-01-31 04:23:01', 'agencia': 'Cochabamba', 'monto': 61430.41, 'descripcion': 'Consignación en efectivo', 'saldo': 4018354.02, 'nota': 'voluptate suscipit aliquid repellendus corrupti exercitationem iste'}\n",
      "\n",
      "{'_id': ObjectId('636db33fdfb1bbbb1b820cb8'), 'fecha': '2019-01-31 10:32:24', 'agencia': 'Cochabamba', 'monto': 277161.29, 'descripcion': 'Transferencia interbancaria SIMPLE', 'saldo': 2900425.22, 'nota': 'totam non sunt'}\n",
      "\n",
      "{'_id': ObjectId('636db342dfb1bbbb1b89476e'), 'fecha': '2019-01-31 11:19:20', 'agencia': 'Cochabamba', 'monto': 80681.37, 'descripcion': 'Pago recibo de agua', 'saldo': 1233506.96, 'nota': 'ex'}\n",
      "\n",
      "{'_id': ObjectId('636db343dfb1bbbb1b8c338b'), 'fecha': '2019-01-31 12:22:15', 'agencia': 'Cochabamba', 'monto': 108856.88, 'descripcion': 'Pago en línea - Servicio de internet', 'saldo': 2772864.15, 'nota': 'natus molestias unde corporis obcaecati quas debitis modi assumenda voluptatem quaerat eaque error'}\n",
      "\n",
      "{'_id': ObjectId('636db341dfb1bbbb1b88f40e'), 'fecha': '2019-01-31 17:16:26', 'agencia': 'Cochabamba', 'monto': 250193.98, 'descripcion': 'Retención IVA', 'saldo': 2528310.46, 'nota': 'molestiae tempora cumque amet possimus delectus iusto'}\n",
      "\n",
      "{'_id': ObjectId('636db342dfb1bbbb1b89f065'), 'fecha': '2019-01-31 17:29:54', 'agencia': 'Cochabamba', 'monto': 371305.74, 'descripcion': 'Retiro en efectivo', 'saldo': 652429.28, 'nota': 'quaerat harum quod quis'}\n",
      "\n",
      "{'_id': ObjectId('636db342dfb1bbbb1b8aaa77'), 'fecha': '2019-02-01 02:36:11', 'agencia': 'Cochabamba', 'monto': 193629.23, 'descripcion': 'Apertura de caja de ahorros', 'saldo': 2613411.74, 'nota': 'in soluta voluptatibus incidunt beatae animi et odit'}\n",
      "\n",
      "{'_id': ObjectId('636db342dfb1bbbb1b8ba999'), 'fecha': '2019-02-01 05:53:27', 'agencia': 'Cochabamba', 'monto': 199420.89, 'descripcion': 'Cobro seguro', 'saldo': 192098.55, 'nota': 'architecto'}\n",
      "\n",
      "{'_id': ObjectId('636db342dfb1bbbb1b898971'), 'fecha': '2019-02-01 11:56:37', 'agencia': 'Cochabamba', 'monto': 225306.0, 'descripcion': 'DEB.CTA.P/C.INTERNET', 'saldo': 1324197.93, 'nota': 'dolor repellendus non aut aliquam maiores'}\n",
      "\n",
      "====================================================================================================\n",
      " Consulta realizada en un tiempo de 0.3712 milisegundos\n",
      "====================================================================================================\n"
     ]
    }
   ],
   "source": [
    "start_date = \"2019-01-31\" \n",
    "end_date = \"2019-12-31\"\n",
    "agencia = \"Cochabamba\"\n",
    "\n",
    "start_time = time.time()\n",
    "results = busqueda_fecha_agencia(start_date, end_date, agencia)\n",
    "end_time = time.time()\n",
    "\n",
    "print(\"=\"*100)\n",
    "\n",
    "for r in results[:10]:\n",
    "    print(r)\n",
    "    print(\"\")\n",
    "\n",
    "print(\"=\"*100)\n",
    "print(f\" Consulta realizada en un tiempo de {round((end_time - start_time)*1000, 4)} milisegundos\")\n",
    "print(\"=\"*100)"
   ]
  },
  {
   "cell_type": "markdown",
   "metadata": {},
   "source": [
    "## Consulta 3: Rango de saldo, dos opciones de agencias y descripción"
   ]
  },
  {
   "cell_type": "markdown",
   "metadata": {},
   "source": [
    "Se realizará una búsqueda sobre los campos saldo, agencia (OR 2 opciones) y descripción. Los parámetros de entrada son un rango de saldos, dos opciones de agencias, y una descripción."
   ]
  },
  {
   "cell_type": "code",
   "execution_count": 45,
   "metadata": {},
   "outputs": [],
   "source": [
    "def busqueda_saldo_agencias_descripcion(saldo_min, saldo_max, agencia1, agencia2, descripcion):\n",
    "    criteria = {\n",
    "        \"$and\": [\n",
    "            {\"$or\":\n",
    "                [\n",
    "                    {\"agencia\": agencia1},\n",
    "                    {\"agencia\": agencia2}\n",
    "                ]\n",
    "                    \n",
    "            },\n",
    "            {\"saldo\":\n",
    "                {\n",
    "                    \"$gte\": saldo_min,\n",
    "                    \"$lte\": saldo_max\n",
    "                }\n",
    "            },\n",
    "            {\"descripcion\":\n",
    "                    descripcion\n",
    "            }\n",
    "        ]}\n",
    "\n",
    "    return coll.find(criteria)"
   ]
  },
  {
   "cell_type": "code",
   "execution_count": 271,
   "metadata": {},
   "outputs": [
    {
     "name": "stdout",
     "output_type": "stream",
     "text": [
      "====================================================================================================\n",
      "{'_id': ObjectId('636db33ddfb1bbbb1b7d41fe'), 'fecha': '1983-06-07 17:48:33', 'agencia': 'Santa Cruz', 'monto': 310835.49, 'descripcion': 'Retiro en efectivo', 'saldo': 8995130.49, 'nota': 'commodi saepe fugiat debitis veniam hic dolores nesciunt'}\n",
      "\n",
      "{'_id': ObjectId('636db33ddfb1bbbb1b7d425f'), 'fecha': '1950-11-02 15:53:33', 'agencia': 'La Paz', 'monto': 74017.15, 'descripcion': 'Retiro en efectivo', 'saldo': 9533088.85, 'nota': 'laborum libero voluptatem eligendi corrupti quod labore atque laboriosam suscipit'}\n",
      "\n",
      "{'_id': ObjectId('636db33ddfb1bbbb1b7d430f'), 'fecha': '1995-12-22 19:08:33', 'agencia': 'La Paz', 'monto': 298367.78, 'descripcion': 'Retiro en efectivo', 'saldo': 4408981.8, 'nota': 'at odit expedita laudantium velit praesentium'}\n",
      "\n",
      "{'_id': ObjectId('636db33ddfb1bbbb1b7d439f'), 'fecha': '1992-10-14 18:10:50', 'agencia': 'Santa Cruz', 'monto': 109711.13, 'descripcion': 'Retiro en efectivo', 'saldo': 5800061.73, 'nota': 'aspernatur'}\n",
      "\n",
      "{'_id': ObjectId('636db33ddfb1bbbb1b7d44a6'), 'fecha': '1986-09-10 08:42:58', 'agencia': 'Santa Cruz', 'monto': 166347.14, 'descripcion': 'Retiro en efectivo', 'saldo': 3814290.17, 'nota': 'aperiam placeat fugit ex officiis minima amet doloremque iusto'}\n",
      "\n",
      "{'_id': ObjectId('636db33ddfb1bbbb1b7d44aa'), 'fecha': '1984-05-21 23:48:38', 'agencia': 'Santa Cruz', 'monto': 222373.33, 'descripcion': 'Retiro en efectivo', 'saldo': 4525272.74, 'nota': 'eligendi esse voluptatibus'}\n",
      "\n",
      "{'_id': ObjectId('636db33ddfb1bbbb1b7d44dc'), 'fecha': '2005-02-20 05:03:29', 'agencia': 'La Paz', 'monto': 63034.27, 'descripcion': 'Retiro en efectivo', 'saldo': 1027359.46, 'nota': 'fugit'}\n",
      "\n",
      "{'_id': ObjectId('636db33ddfb1bbbb1b7d4668'), 'fecha': '1966-01-30 00:22:43', 'agencia': 'La Paz', 'monto': 306101.64, 'descripcion': 'Retiro en efectivo', 'saldo': 7153563.3, 'nota': 'itaque nulla hic saepe'}\n",
      "\n",
      "{'_id': ObjectId('636db33ddfb1bbbb1b7d470e'), 'fecha': '1989-03-03 18:59:59', 'agencia': 'Santa Cruz', 'monto': 124728.46, 'descripcion': 'Retiro en efectivo', 'saldo': 8314350.91, 'nota': 'voluptatem quas fugit omnis minus'}\n",
      "\n",
      "{'_id': ObjectId('636db33ddfb1bbbb1b7d4743'), 'fecha': '1977-04-03 23:37:39', 'agencia': 'La Paz', 'monto': 295277.2, 'descripcion': 'Retiro en efectivo', 'saldo': 6524128.2, 'nota': 'sed enim voluptatem veritatis reiciendis labore delectus optio'}\n",
      "\n",
      "====================================================================================================\n",
      " Consulta realizada en un tiempo de 0.1886 milisegundos\n",
      "====================================================================================================\n"
     ]
    }
   ],
   "source": [
    "saldo_min = 162342\n",
    "saldo_max = 382304513\n",
    "agencia1 = \"La Paz\"\n",
    "agencia2 = \"Santa Cruz\"\n",
    "descripcion = \"Retiro en efectivo\"\n",
    "\n",
    "start_time = time.time()\n",
    "results = busqueda_saldo_agencias_descripcion(saldo_min, saldo_max, agencia1, agencia2, descripcion)\n",
    "end_time = time.time()\n",
    "\n",
    "print(\"=\"*100)\n",
    "\n",
    "for r in results[:10]:\n",
    "    print(r)\n",
    "    print(\"\")\n",
    "\n",
    "print(\"=\"*100)\n",
    "print(f\" Consulta realizada en un tiempo de {round((end_time - start_time)*1000, 4)} milisegundos\")\n",
    "print(\"=\"*100)"
   ]
  },
  {
   "cell_type": "markdown",
   "metadata": {},
   "source": [
    "## Agregación 1: Suma de saldos de una agencia"
   ]
  },
  {
   "cell_type": "markdown",
   "metadata": {},
   "source": [
    "Se calculará la suma de los saldos de los datos agrupados de una agencia en específico."
   ]
  },
  {
   "cell_type": "code",
   "execution_count": 46,
   "metadata": {},
   "outputs": [],
   "source": [
    "def suma_saldo_agencia(agencia):\n",
    "\n",
    "    criteria = [\n",
    "        {\n",
    "        \"$group\" : \n",
    "            {\n",
    "                \"_id\":\n",
    "                {\n",
    "                    \"agencia\": agencia\n",
    "                },  \n",
    "                \"suma\":\n",
    "                {\n",
    "                    \"$sum\" : \"$saldo\"\n",
    "                }\n",
    "            }\n",
    "        }\n",
    "     ]\n",
    "\n",
    "    return coll.aggregate(criteria)"
   ]
  },
  {
   "cell_type": "code",
   "execution_count": 273,
   "metadata": {},
   "outputs": [
    {
     "name": "stdout",
     "output_type": "stream",
     "text": [
      "====================================================================================================\n",
      "{'_id': {'agencia': 'Beni'}, 'suma': 5005602059074.02}\n",
      "\n",
      "====================================================================================================\n",
      " Consulta realizada en un tiempo de 0:00:03.087911\n",
      "====================================================================================================\n"
     ]
    }
   ],
   "source": [
    "agencia = \"Beni\"\n",
    "\n",
    "start_time = time.time()\n",
    "results = suma_saldo_agencia(agencia)\n",
    "end_time = time.time()\n",
    "\n",
    "print(\"=\"*100)\n",
    "\n",
    "for r in results:\n",
    "    print(r)\n",
    "    print(\"\")\n",
    "\n",
    "print(\"=\"*100)\n",
    "print(f\" Consulta realizada en un tiempo de {str(timedelta(seconds = (end_time - start_time)))}\")\n",
    "print(\"=\"*100)"
   ]
  },
  {
   "cell_type": "markdown",
   "metadata": {},
   "source": [
    "## Agregación 2: Promedio de montos por descripción"
   ]
  },
  {
   "cell_type": "code",
   "execution_count": 47,
   "metadata": {},
   "outputs": [],
   "source": [
    "def promedio_montos_agencia():\n",
    "\n",
    "    aggregation = [\n",
    "        {\n",
    "            \"$group\" : \n",
    "                {\n",
    "                    \"_id\": \"$agencia\", \n",
    "                    \"Promedio de montos\":\n",
    "                    {\n",
    "                        \"$avg\" : \"$saldo\"\n",
    "                    }\n",
    "                }\n",
    "        },\n",
    "        {\n",
    "            \"$sort\" : {\"Suma de montos\": -1}\n",
    "        },\n",
    "        {\n",
    "            \"$limit\": 5\n",
    "        }\n",
    "     ]\n",
    "\n",
    "    return coll.aggregate(aggregation)"
   ]
  },
  {
   "cell_type": "code",
   "execution_count": 7,
   "metadata": {},
   "outputs": [
    {
     "name": "stdout",
     "output_type": "stream",
     "text": [
      "====================================================================================================\n",
      "{'_id': 'Oruro', 'Promedio de montos': 5005883.093573329}\n",
      "\n",
      "{'_id': 'Santa Cruz', 'Promedio de montos': 4996247.226858266}\n",
      "\n",
      "{'_id': 'Cochabamba', 'Promedio de montos': 5016002.851214867}\n",
      "\n",
      "{'_id': 'La Paz', 'Promedio de montos': 4997975.865542692}\n",
      "\n",
      "{'_id': 'Tarija', 'Promedio de montos': 4999937.056731841}\n",
      "\n",
      "====================================================================================================\n",
      " Consulta realizada en un tiempo de 0:00:01.148753\n",
      "====================================================================================================\n"
     ]
    }
   ],
   "source": [
    "start_time = time.time()\n",
    "results = promedio_montos_agencia()\n",
    "end_time = time.time()\n",
    "\n",
    "print(\"=\"*100)\n",
    "\n",
    "for r in results:\n",
    "    print(r)\n",
    "    print(\"\")\n",
    "\n",
    "print(\"=\"*100)\n",
    "print(f\" Consulta realizada en un tiempo de {str(timedelta(seconds = (end_time - start_time)))}\")\n",
    "print(\"=\"*100)"
   ]
  },
  {
   "cell_type": "markdown",
   "metadata": {},
   "source": [
    "| Tabla resumen de resultados | Valor obtenido |\n",
    "|-----------------------------|----------------|\n",
    "| Tiempo consulta 1           | 0.1731 ms      |\n",
    "| Tiempo consulta 2           | 0.3712 ms      |\n",
    "| Tiempo consulta 3           | 0.1886 ms      |\n",
    "| Tiempo agregación 1         | 3.0879 s       |\n",
    "| Tiempo agregación 2         | 1.1487 s       |"
   ]
  },
  {
   "cell_type": "markdown",
   "metadata": {},
   "source": [
    "---------------------"
   ]
  },
  {
   "cell_type": "markdown",
   "metadata": {},
   "source": [
    "# Consultas a la base de datos con 10 millones de registros y todos los campos indexados"
   ]
  },
  {
   "cell_type": "markdown",
   "metadata": {},
   "source": [
    "En esta sección se revisará la operación de búsqueda para la colección de 10 millones de documentos indexados"
   ]
  },
  {
   "cell_type": "code",
   "execution_count": 3,
   "metadata": {},
   "outputs": [
    {
     "data": {
      "text/plain": [
       "{'_id_': {'v': 2, 'key': [('_id', 1)]},\n",
       " 'fecha_1': {'v': 2, 'key': [('fecha', 1)]},\n",
       " 'agencia_1': {'v': 2, 'key': [('agencia', 1)]},\n",
       " 'monto_1': {'v': 2, 'key': [('monto', 1)]},\n",
       " 'saldo_1': {'v': 2, 'key': [('saldo', 1)]},\n",
       " 'descripcion_1': {'v': 2, 'key': [('descripcion', 1)]},\n",
       " 'nota_1': {'v': 2, 'key': [('nota', 1)]}}"
      ]
     },
     "execution_count": 3,
     "metadata": {},
     "output_type": "execute_result"
    }
   ],
   "source": [
    "coll = db[\"extracto_cuenta_10m2\"]\n",
    "coll.index_information()"
   ]
  },
  {
   "cell_type": "markdown",
   "metadata": {},
   "source": [
    "## Consulta 1: Todos los datos"
   ]
  },
  {
   "cell_type": "markdown",
   "metadata": {},
   "source": [
    "Se realizará una búsqueda sobre todos los campos en la collección"
   ]
  },
  {
   "cell_type": "code",
   "execution_count": 277,
   "metadata": {},
   "outputs": [
    {
     "name": "stdout",
     "output_type": "stream",
     "text": [
      "====================================================================================================\n",
      "{'_id': ObjectId('636dafcedfb1bba8ecc7b225'), 'fecha': '1956-04-20 13:40:08', 'agencia': 'Cochabamba', 'monto': 28791.8, 'descripcion': 'Pago de cheque compensado', 'saldo': 3922743.44, 'nota': 'aspernatur soluta earum totam consectetur culpa atque nobis dolor assumenda quaerat'}\n",
      "\n",
      "{'_id': ObjectId('636dafcedfb1bba8ecc7b226'), 'fecha': '1995-02-16 01:20:10', 'agencia': 'Chuquisaca', 'monto': 298799.98, 'descripcion': 'Ingreso en efectivo', 'saldo': 411060.2, 'nota': 'facilis assumenda voluptate illo exercitationem repudiandae at officiis laboriosam quia aliquid adipisci'}\n",
      "\n",
      "{'_id': ObjectId('636dafcedfb1bba8ecc7b227'), 'fecha': '1956-09-04 21:08:47', 'agencia': 'Beni', 'monto': 92841.99, 'descripcion': 'Pago de nómina', 'saldo': 3349136.75, 'nota': 'iusto commodi ducimus aliquam'}\n",
      "\n",
      "{'_id': ObjectId('636dafcedfb1bba8ecc7b228'), 'fecha': '2003-11-11 15:10:18', 'agencia': 'Santa Cruz', 'monto': 79639.42, 'descripcion': 'Cobro seguro', 'saldo': 6523331.21, 'nota': 'aperiam a architecto eligendi nam saepe perferendis dolorum'}\n",
      "\n",
      "{'_id': ObjectId('636dafcedfb1bba8ecc7b229'), 'fecha': '1983-06-07 17:48:33', 'agencia': 'Santa Cruz', 'monto': 310835.49, 'descripcion': 'Retiro en efectivo', 'saldo': 8995130.49, 'nota': 'commodi saepe fugiat debitis veniam hic dolores nesciunt'}\n",
      "\n",
      "{'_id': ObjectId('636dafcedfb1bba8ecc7b22a'), 'fecha': '1996-04-20 21:43:23', 'agencia': 'Oruro', 'monto': 280829.89, 'descripcion': 'Pago en línea - Servicio de internet', 'saldo': 5027086.25, 'nota': 'recusandae expedita optio deleniti assumenda corporis facilis quo error quidem perferendis'}\n",
      "\n",
      "{'_id': ObjectId('636dafcedfb1bba8ecc7b22b'), 'fecha': '1954-07-01 13:25:24', 'agencia': 'Beni', 'monto': 156471.92, 'descripcion': 'Retención IVA', 'saldo': 4839090.36, 'nota': 'harum aspernatur eligendi cumque deserunt velit explicabo esse'}\n",
      "\n",
      "{'_id': ObjectId('636dafcedfb1bba8ecc7b22c'), 'fecha': '2020-05-12 16:38:04', 'agencia': 'Tarija', 'monto': 126941.7, 'descripcion': 'Retención IVA', 'saldo': 9103704.71, 'nota': 'id quaerat'}\n",
      "\n",
      "{'_id': ObjectId('636dafcedfb1bba8ecc7b22d'), 'fecha': '1952-05-27 14:38:53', 'agencia': 'Oruro', 'monto': 298866.58, 'descripcion': 'Cobro seguro', 'saldo': 2023462.97, 'nota': 'facere rerum exercitationem quisquam assumenda'}\n",
      "\n",
      "{'_id': ObjectId('636dafcedfb1bba8ecc7b22e'), 'fecha': '2018-12-18 22:11:13', 'agencia': 'Santa Cruz', 'monto': 2262.59, 'descripcion': 'Reintegro cajero automático', 'saldo': 1166753.44, 'nota': 'corporis nemo earum quia odio'}\n",
      "\n",
      "====================================================================================================\n",
      " Consulta realizada en un tiempo de 0.1621 milisegundos\n",
      "====================================================================================================\n"
     ]
    }
   ],
   "source": [
    "start_time = time.time()\n",
    "results = coll.find({})\n",
    "end_time = time.time()\n",
    "\n",
    "print(\"=\"*100)\n",
    "\n",
    "for r in results[:10]:\n",
    "    print(r)\n",
    "    print(\"\")\n",
    "\n",
    "print(\"=\"*100)\n",
    "print(f\" Consulta realizada en un tiempo de {round((end_time - start_time)*1000, 4)} milisegundos\")\n",
    "print(\"=\"*100)"
   ]
  },
  {
   "cell_type": "markdown",
   "metadata": {},
   "source": [
    "## Consulta 2: Fecha y agencia"
   ]
  },
  {
   "cell_type": "markdown",
   "metadata": {},
   "source": [
    "Se realizará una búsqueda sobre los campos fecha y agencia. Siendo los parámetros de entrada una fecha inicial, una fecha final y una agencia."
   ]
  },
  {
   "cell_type": "code",
   "execution_count": 278,
   "metadata": {},
   "outputs": [
    {
     "name": "stdout",
     "output_type": "stream",
     "text": [
      "====================================================================================================\n",
      "{'_id': ObjectId('636db05ddfb1bba8ec2a31e5'), 'fecha': '2019-01-31 00:18:50', 'agencia': 'Cochabamba', 'monto': 77775.17, 'descripcion': 'Pago recibo de gas', 'saldo': 9791669.21, 'nota': 'corporis quos omnis aut cumque est natus culpa libero recusandae accusantium'}\n",
      "\n",
      "{'_id': ObjectId('636daffcdfb1bba8ece9603e'), 'fecha': '2019-01-31 00:48:17', 'agencia': 'Cochabamba', 'monto': 310299.88, 'descripcion': 'Reintegro cajero automático', 'saldo': 597145.53, 'nota': 'dolor animi error quia officia'}\n",
      "\n",
      "{'_id': ObjectId('636db092dfb1bba8ec4d79fe'), 'fecha': '2019-01-31 00:54:46', 'agencia': 'Cochabamba', 'monto': 125951.39, 'descripcion': 'Compra en comercio', 'saldo': 3481199.55, 'nota': 'odit corporis adipisci dolorem sapiente facilis sit sequi dicta ullam provident deleniti'}\n",
      "\n",
      "{'_id': ObjectId('636db02edfb1bba8ec0d787b'), 'fecha': '2019-01-31 01:05:48', 'agencia': 'Cochabamba', 'monto': 51541.02, 'descripcion': 'Capitalización de intereses premio', 'saldo': 5292368.52, 'nota': 'ullam id provident earum iusto exercitationem voluptatem rem nobis sunt'}\n",
      "\n",
      "{'_id': ObjectId('636db090dfb1bba8ec497433'), 'fecha': '2019-01-31 01:20:05', 'agencia': 'Cochabamba', 'monto': 351280.81, 'descripcion': 'Capitalización de intereses premio', 'saldo': 1698992.16, 'nota': 'reprehenderit placeat illum obcaecati impedit perferendis cum maiores libero corporis dolorum consequuntur officiis'}\n",
      "\n",
      "{'_id': ObjectId('636daffbdfb1bba8ece7521a'), 'fecha': '2019-01-31 03:24:47', 'agencia': 'Cochabamba', 'monto': 30473.67, 'descripcion': 'Pago en interés', 'saldo': 7913719.09, 'nota': 'dolores repellat ipsum perspiciatis eius fugiat qui hic delectus voluptatum'}\n",
      "\n",
      "{'_id': ObjectId('636db047dfb1bba8ec197f33'), 'fecha': '2019-01-31 03:40:34', 'agencia': 'Cochabamba', 'monto': 281532.31, 'descripcion': 'Ingreso en efectivo', 'saldo': 7815609.56, 'nota': 'non veritatis vero animi'}\n",
      "\n",
      "{'_id': ObjectId('636dafd4dfb1bba8ecd643a4'), 'fecha': '2019-01-31 03:44:08', 'agencia': 'Cochabamba', 'monto': 37969.85, 'descripcion': 'Pago de cheque compensado', 'saldo': 4372410.9, 'nota': 'aspernatur unde'}\n",
      "\n",
      "{'_id': ObjectId('636db048dfb1bba8ec1b2f17'), 'fecha': '2019-01-31 04:14:20', 'agencia': 'Cochabamba', 'monto': 23213.04, 'descripcion': 'Consignación en efectivo', 'saldo': 6380082.93, 'nota': 'error libero distinctio'}\n",
      "\n",
      "{'_id': ObjectId('636dafcedfb1bba8ecc81d89'), 'fecha': '2019-01-31 04:23:01', 'agencia': 'Cochabamba', 'monto': 61430.41, 'descripcion': 'Consignación en efectivo', 'saldo': 4018354.02, 'nota': 'voluptate suscipit aliquid repellendus corrupti exercitationem iste'}\n",
      "\n",
      "====================================================================================================\n",
      " Consulta realizada en un tiempo de 0.3347 milisegundos\n",
      "====================================================================================================\n"
     ]
    }
   ],
   "source": [
    "start_date = \"2019-01-31\" \n",
    "end_date = \"2019-12-31\"\n",
    "agencia = \"Cochabamba\"\n",
    "\n",
    "start_time = time.time()\n",
    "results = busqueda_fecha_agencia(start_date, end_date, agencia)\n",
    "end_time = time.time()\n",
    "\n",
    "print(\"=\"*100)\n",
    "\n",
    "for r in results[:10]:\n",
    "    print(r)\n",
    "    print(\"\")\n",
    "\n",
    "print(\"=\"*100)\n",
    "print(f\" Consulta realizada en un tiempo de {round((end_time - start_time)*1000, 4)} milisegundos\")\n",
    "print(\"=\"*100)"
   ]
  },
  {
   "cell_type": "markdown",
   "metadata": {},
   "source": [
    "## Consulta 3: Rango de saldo, dos opciones de agencias y descripción"
   ]
  },
  {
   "cell_type": "markdown",
   "metadata": {},
   "source": [
    "Se realizará una búsqueda sobre los campos saldo, agencia (OR 2 opciones) y descripción. Los parámetros de entrada son un rango de saldos, dos opciones de agencias, y una descripción."
   ]
  },
  {
   "cell_type": "code",
   "execution_count": 279,
   "metadata": {},
   "outputs": [
    {
     "name": "stdout",
     "output_type": "stream",
     "text": [
      "====================================================================================================\n",
      "{'_id': ObjectId('636dafcedfb1bba8ecc7b229'), 'fecha': '1983-06-07 17:48:33', 'agencia': 'Santa Cruz', 'monto': 310835.49, 'descripcion': 'Retiro en efectivo', 'saldo': 8995130.49, 'nota': 'commodi saepe fugiat debitis veniam hic dolores nesciunt'}\n",
      "\n",
      "{'_id': ObjectId('636dafcedfb1bba8ecc7b28a'), 'fecha': '1950-11-02 15:53:33', 'agencia': 'La Paz', 'monto': 74017.15, 'descripcion': 'Retiro en efectivo', 'saldo': 9533088.85, 'nota': 'laborum libero voluptatem eligendi corrupti quod labore atque laboriosam suscipit'}\n",
      "\n",
      "{'_id': ObjectId('636dafcedfb1bba8ecc7b33a'), 'fecha': '1995-12-22 19:08:33', 'agencia': 'La Paz', 'monto': 298367.78, 'descripcion': 'Retiro en efectivo', 'saldo': 4408981.8, 'nota': 'at odit expedita laudantium velit praesentium'}\n",
      "\n",
      "{'_id': ObjectId('636dafcedfb1bba8ecc7b3ca'), 'fecha': '1992-10-14 18:10:50', 'agencia': 'Santa Cruz', 'monto': 109711.13, 'descripcion': 'Retiro en efectivo', 'saldo': 5800061.73, 'nota': 'aspernatur'}\n",
      "\n",
      "{'_id': ObjectId('636dafcedfb1bba8ecc7b4d1'), 'fecha': '1986-09-10 08:42:58', 'agencia': 'Santa Cruz', 'monto': 166347.14, 'descripcion': 'Retiro en efectivo', 'saldo': 3814290.17, 'nota': 'aperiam placeat fugit ex officiis minima amet doloremque iusto'}\n",
      "\n",
      "{'_id': ObjectId('636dafcedfb1bba8ecc7b4d5'), 'fecha': '1984-05-21 23:48:38', 'agencia': 'Santa Cruz', 'monto': 222373.33, 'descripcion': 'Retiro en efectivo', 'saldo': 4525272.74, 'nota': 'eligendi esse voluptatibus'}\n",
      "\n",
      "{'_id': ObjectId('636dafcedfb1bba8ecc7b507'), 'fecha': '2005-02-20 05:03:29', 'agencia': 'La Paz', 'monto': 63034.27, 'descripcion': 'Retiro en efectivo', 'saldo': 1027359.46, 'nota': 'fugit'}\n",
      "\n",
      "{'_id': ObjectId('636dafcedfb1bba8ecc7b693'), 'fecha': '1966-01-30 00:22:43', 'agencia': 'La Paz', 'monto': 306101.64, 'descripcion': 'Retiro en efectivo', 'saldo': 7153563.3, 'nota': 'itaque nulla hic saepe'}\n",
      "\n",
      "{'_id': ObjectId('636dafcedfb1bba8ecc7b739'), 'fecha': '1989-03-03 18:59:59', 'agencia': 'Santa Cruz', 'monto': 124728.46, 'descripcion': 'Retiro en efectivo', 'saldo': 8314350.91, 'nota': 'voluptatem quas fugit omnis minus'}\n",
      "\n",
      "{'_id': ObjectId('636dafcedfb1bba8ecc7b76e'), 'fecha': '1977-04-03 23:37:39', 'agencia': 'La Paz', 'monto': 295277.2, 'descripcion': 'Retiro en efectivo', 'saldo': 6524128.2, 'nota': 'sed enim voluptatem veritatis reiciendis labore delectus optio'}\n",
      "\n",
      "====================================================================================================\n",
      " Consulta realizada en un tiempo de 0.1764 milisegundos\n",
      "====================================================================================================\n"
     ]
    }
   ],
   "source": [
    "saldo_min = 162342\n",
    "saldo_max = 382304513\n",
    "agencia1 = \"La Paz\"\n",
    "agencia2 = \"Santa Cruz\"\n",
    "descripcion = \"Retiro en efectivo\"\n",
    "\n",
    "start_time = time.time()\n",
    "results = busqueda_saldo_agencias_descripcion(saldo_min, saldo_max, agencia1, agencia2, descripcion)\n",
    "end_time = time.time()\n",
    "\n",
    "print(\"=\"*100)\n",
    "\n",
    "for r in results[:10]:\n",
    "    print(r)\n",
    "    print(\"\")\n",
    "\n",
    "print(\"=\"*100)\n",
    "print(f\" Consulta realizada en un tiempo de {round((end_time - start_time)*1000, 4)} milisegundos\")\n",
    "print(\"=\"*100)"
   ]
  },
  {
   "cell_type": "markdown",
   "metadata": {},
   "source": [
    "## Agregación 1: Suma de saldos de una agencia"
   ]
  },
  {
   "cell_type": "code",
   "execution_count": 282,
   "metadata": {},
   "outputs": [
    {
     "name": "stdout",
     "output_type": "stream",
     "text": [
      "====================================================================================================\n",
      "{'_id': {'agencia': 'Beni'}, 'suma': 49995171479223.2}\n",
      "\n",
      "====================================================================================================\n",
      " Consulta realizada en un tiempo de 0:00:11.997082\n",
      "====================================================================================================\n"
     ]
    }
   ],
   "source": [
    "agencia = \"Beni\"\n",
    "\n",
    "start_time = time.time()\n",
    "results = suma_saldo_agencia(agencia)\n",
    "end_time = time.time()\n",
    "\n",
    "print(\"=\"*100)\n",
    "\n",
    "for r in results:\n",
    "    print(r)\n",
    "    print(\"\")\n",
    "\n",
    "print(\"=\"*100)\n",
    "print(f\" Consulta realizada en un tiempo de {str(timedelta(seconds = (end_time - start_time)))}\")\n",
    "print(\"=\"*100)"
   ]
  },
  {
   "cell_type": "markdown",
   "metadata": {},
   "source": [
    "## Agregación 2: Promedio de montos por agencia"
   ]
  },
  {
   "cell_type": "code",
   "execution_count": 16,
   "metadata": {},
   "outputs": [
    {
     "name": "stdout",
     "output_type": "stream",
     "text": [
      "====================================================================================================\n",
      "{'_id': 'Tarija', 'Promedio de montos': 4996711.953560543}\n",
      "\n",
      "{'_id': 'Beni', 'Promedio de montos': 5004452.928049985}\n",
      "\n",
      "{'_id': 'Santa Cruz', 'Promedio de montos': 4996610.398056968}\n",
      "\n",
      "{'_id': 'Oruro', 'Promedio de montos': 4997994.325706912}\n",
      "\n",
      "{'_id': 'Pando', 'Promedio de montos': 4995192.7123481585}\n",
      "\n",
      "====================================================================================================\n",
      " Consulta realizada en un tiempo de 0:00:29.414090\n",
      "====================================================================================================\n"
     ]
    }
   ],
   "source": [
    "start_time = time.time()\n",
    "results = promedio_montos_agencia()\n",
    "end_time = time.time()\n",
    "\n",
    "print(\"=\"*100)\n",
    "\n",
    "for r in results:\n",
    "    print(r)\n",
    "    print(\"\")\n",
    "\n",
    "print(\"=\"*100)\n",
    "print(f\" Consulta realizada en un tiempo de {str(timedelta(seconds = (end_time - start_time)))}\")\n",
    "print(\"=\"*100)"
   ]
  },
  {
   "cell_type": "markdown",
   "metadata": {},
   "source": [
    "| Tabla resumen de resultados | Valor obtenido |\n",
    "|-----------------------------|----------------|\n",
    "| Tiempo consulta 1           | 0.1621 ms      |\n",
    "| Tiempo consulta 2           | 0.3347 ms      |\n",
    "| Tiempo consulta 3           | 0.1764 ms      |\n",
    "| Tiempo agregación 1         | 11.9971 s      |\n",
    "| Tiempo agregación 2         | 29.4141 s      |"
   ]
  },
  {
   "cell_type": "markdown",
   "metadata": {},
   "source": [
    "-----------------"
   ]
  },
  {
   "cell_type": "markdown",
   "metadata": {},
   "source": [
    "# Consultas a la base de datos con 30 millones de registros y todos los campos indexados"
   ]
  },
  {
   "cell_type": "markdown",
   "metadata": {},
   "source": [
    "En esta sección se revisará la operación de búsqueda para la colección de 30 millones de documentos indexados"
   ]
  },
  {
   "cell_type": "code",
   "execution_count": 4,
   "metadata": {},
   "outputs": [
    {
     "data": {
      "text/plain": [
       "{'_id_': {'v': 2, 'key': [('_id', 1)]},\n",
       " 'fecha_1': {'v': 2, 'key': [('fecha', 1)]},\n",
       " 'agencia_1': {'v': 2, 'key': [('agencia', 1)]},\n",
       " 'monto_1': {'v': 2, 'key': [('monto', 1)]},\n",
       " 'saldo_1': {'v': 2, 'key': [('saldo', 1)]},\n",
       " 'descripcion_1': {'v': 2, 'key': [('descripcion', 1)]},\n",
       " 'nota_1': {'v': 2, 'key': [('nota', 1)]}}"
      ]
     },
     "execution_count": 4,
     "metadata": {},
     "output_type": "execute_result"
    }
   ],
   "source": [
    "coll = db[\"extracto_cuenta_30m\"]\n",
    "coll.index_information()"
   ]
  },
  {
   "cell_type": "markdown",
   "metadata": {},
   "source": [
    "## Consulta 1: Todos los datos"
   ]
  },
  {
   "cell_type": "markdown",
   "metadata": {},
   "source": [
    "Se realizará una búsqueda sobre todos los campos en la collección"
   ]
  },
  {
   "cell_type": "code",
   "execution_count": 285,
   "metadata": {},
   "outputs": [
    {
     "name": "stdout",
     "output_type": "stream",
     "text": [
      "====================================================================================================\n",
      "{'_id': ObjectId('636d3f10dfb1bb4dd6b9d01d'), 'fecha': '1956-04-20 13:40:08', 'agencia': 'Cochabamba', 'monto': 28791.8, 'descripcion': 'Pago de cheque compensado', 'saldo': 3922743.44, 'nota': 'aspernatur soluta earum totam consectetur culpa atque nobis dolor assumenda quaerat'}\n",
      "\n",
      "{'_id': ObjectId('636d3f10dfb1bb4dd6b9d01e'), 'fecha': '1995-02-16 01:20:10', 'agencia': 'Chuquisaca', 'monto': 298799.98, 'descripcion': 'Ingreso en efectivo', 'saldo': 411060.2, 'nota': 'facilis assumenda voluptate illo exercitationem repudiandae at officiis laboriosam quia aliquid adipisci'}\n",
      "\n",
      "{'_id': ObjectId('636d3f10dfb1bb4dd6b9d01f'), 'fecha': '1956-09-04 21:08:47', 'agencia': 'Beni', 'monto': 92841.99, 'descripcion': 'Pago de nómina', 'saldo': 3349136.75, 'nota': 'iusto commodi ducimus aliquam'}\n",
      "\n",
      "{'_id': ObjectId('636d3f10dfb1bb4dd6b9d020'), 'fecha': '2003-11-11 15:10:18', 'agencia': 'Santa Cruz', 'monto': 79639.42, 'descripcion': 'Cobro seguro', 'saldo': 6523331.21, 'nota': 'aperiam a architecto eligendi nam saepe perferendis dolorum'}\n",
      "\n",
      "{'_id': ObjectId('636d3f10dfb1bb4dd6b9d021'), 'fecha': '1983-06-07 17:48:33', 'agencia': 'Santa Cruz', 'monto': 310835.49, 'descripcion': 'Retiro en efectivo', 'saldo': 8995130.49, 'nota': 'commodi saepe fugiat debitis veniam hic dolores nesciunt'}\n",
      "\n",
      "{'_id': ObjectId('636d3f10dfb1bb4dd6b9d022'), 'fecha': '1996-04-20 21:43:23', 'agencia': 'Oruro', 'monto': 280829.89, 'descripcion': 'Pago en línea - Servicio de internet', 'saldo': 5027086.25, 'nota': 'recusandae expedita optio deleniti assumenda corporis facilis quo error quidem perferendis'}\n",
      "\n",
      "{'_id': ObjectId('636d3f10dfb1bb4dd6b9d023'), 'fecha': '1954-07-01 13:25:24', 'agencia': 'Beni', 'monto': 156471.92, 'descripcion': 'Retención IVA', 'saldo': 4839090.36, 'nota': 'harum aspernatur eligendi cumque deserunt velit explicabo esse'}\n",
      "\n",
      "{'_id': ObjectId('636d3f10dfb1bb4dd6b9d024'), 'fecha': '2020-05-12 16:38:04', 'agencia': 'Tarija', 'monto': 126941.7, 'descripcion': 'Retención IVA', 'saldo': 9103704.71, 'nota': 'id quaerat'}\n",
      "\n",
      "{'_id': ObjectId('636d3f10dfb1bb4dd6b9d025'), 'fecha': '1952-05-27 14:38:53', 'agencia': 'Oruro', 'monto': 298866.58, 'descripcion': 'Cobro seguro', 'saldo': 2023462.97, 'nota': 'facere rerum exercitationem quisquam assumenda'}\n",
      "\n",
      "{'_id': ObjectId('636d3f10dfb1bb4dd6b9d026'), 'fecha': '2018-12-18 22:11:13', 'agencia': 'Santa Cruz', 'monto': 2262.59, 'descripcion': 'Reintegro cajero automático', 'saldo': 1166753.44, 'nota': 'corporis nemo earum quia odio'}\n",
      "\n",
      "====================================================================================================\n",
      " Consulta realizada en un tiempo de 0.1769 milisegundos\n",
      "====================================================================================================\n"
     ]
    }
   ],
   "source": [
    "start_time = time.time()\n",
    "results = coll.find({})\n",
    "end_time = time.time()\n",
    "\n",
    "print(\"=\"*100)\n",
    "\n",
    "for r in results[:10]:\n",
    "    print(r)\n",
    "    print(\"\")\n",
    "\n",
    "print(\"=\"*100)\n",
    "print(f\" Consulta realizada en un tiempo de {round((end_time - start_time)*1000, 4)} milisegundos\")\n",
    "print(\"=\"*100)"
   ]
  },
  {
   "cell_type": "markdown",
   "metadata": {},
   "source": [
    "## Consulta 2: Fecha y agencia"
   ]
  },
  {
   "cell_type": "markdown",
   "metadata": {},
   "source": [
    "Se realizará una búsqueda sobre los campos fecha y agencia. Siendo los parámetros de entrada una fecha inicial, una fecha final y una agencia."
   ]
  },
  {
   "cell_type": "code",
   "execution_count": 286,
   "metadata": {},
   "outputs": [
    {
     "name": "stdout",
     "output_type": "stream",
     "text": [
      "====================================================================================================\n",
      "{'_id': ObjectId('636d3fa0dfb1bb4dd61c4fdd'), 'fecha': '2019-01-31 00:18:50', 'agencia': 'Cochabamba', 'monto': 77775.17, 'descripcion': 'Pago recibo de gas', 'saldo': 9791669.21, 'nota': 'corporis quos omnis aut cumque est natus culpa libero recusandae accusantium'}\n",
      "\n",
      "{'_id': ObjectId('636d4139dfb1bb4dd62a1831'), 'fecha': '2019-01-31 00:22:35', 'agencia': 'Cochabamba', 'monto': 83669.19, 'descripcion': 'Pago recibo de agua', 'saldo': 1739565.27, 'nota': 'aperiam minus ducimus excepturi earum impedit deleniti laudantium sint id doloribus cum'}\n",
      "\n",
      "{'_id': ObjectId('636d3f49dfb1bb4dd6db7e36'), 'fecha': '2019-01-31 00:48:17', 'agencia': 'Cochabamba', 'monto': 310299.88, 'descripcion': 'Reintegro cajero automático', 'saldo': 597145.53, 'nota': 'dolor animi error quia officia'}\n",
      "\n",
      "{'_id': ObjectId('636d3fd1dfb1bb4dd63f97f6'), 'fecha': '2019-01-31 00:54:46', 'agencia': 'Cochabamba', 'monto': 125951.39, 'descripcion': 'Compra en comercio', 'saldo': 3481199.55, 'nota': 'odit corporis adipisci dolorem sapiente facilis sit sequi dicta ullam provident deleniti'}\n",
      "\n",
      "{'_id': ObjectId('636d3f73dfb1bb4dd6ff9672'), 'fecha': '2019-01-31 01:05:48', 'agencia': 'Cochabamba', 'monto': 51541.02, 'descripcion': 'Capitalización de intereses premio', 'saldo': 5292368.52, 'nota': 'ullam id provident earum iusto exercitationem voluptatem rem nobis sunt'}\n",
      "\n",
      "{'_id': ObjectId('636d3fd0dfb1bb4dd63b922b'), 'fecha': '2019-01-31 01:20:05', 'agencia': 'Cochabamba', 'monto': 351280.81, 'descripcion': 'Capitalización de intereses premio', 'saldo': 1698992.16, 'nota': 'reprehenderit placeat illum obcaecati impedit perferendis cum maiores libero corporis dolorum consequuntur officiis'}\n",
      "\n",
      "{'_id': ObjectId('636d4043dfb1bb4dd68d623b'), 'fecha': '2019-01-31 01:20:58', 'agencia': 'Cochabamba', 'monto': 397128.77, 'descripcion': 'Debito Cta por compra', 'saldo': 426507.65, 'nota': 'quasi illo ratione ducimus rerum modi dolore quod'}\n",
      "\n",
      "{'_id': ObjectId('636d4011dfb1bb4dd661dad3'), 'fecha': '2019-01-31 01:21:08', 'agencia': 'Cochabamba', 'monto': 354948.11, 'descripcion': 'Debito Cta por compra', 'saldo': 1021487.32, 'nota': 'hic reprehenderit velit rerum natus ex consequuntur dolore porro assumenda nobis quae'}\n",
      "\n",
      "{'_id': ObjectId('636d416adfb1bb4dd648795f'), 'fecha': '2019-01-31 01:45:58', 'agencia': 'Cochabamba', 'monto': 24142.33, 'descripcion': 'Transferencia de fondos de ahorros', 'saldo': 6939429.67, 'nota': 'vitae'}\n",
      "\n",
      "{'_id': ObjectId('636d418fdfb1bb4dd663088f'), 'fecha': '2019-01-31 02:21:08', 'agencia': 'Cochabamba', 'monto': 63354.29, 'descripcion': 'Debito Cta por pago de Seguro', 'saldo': 6323155.53, 'nota': 'quam soluta cupiditate itaque omnis'}\n",
      "\n",
      "====================================================================================================\n",
      " Consulta realizada en un tiempo de 1.7519 milisegundos\n",
      "====================================================================================================\n"
     ]
    }
   ],
   "source": [
    "start_date = \"2019-01-31\" \n",
    "end_date = \"2019-12-31\"\n",
    "agencia = \"Cochabamba\"\n",
    "\n",
    "start_time = time.time()\n",
    "results = busqueda_fecha_agencia(start_date, end_date, agencia)\n",
    "end_time = time.time()\n",
    "\n",
    "print(\"=\"*100)\n",
    "\n",
    "for r in results[:10]:\n",
    "    print(r)\n",
    "    print(\"\")\n",
    "\n",
    "print(\"=\"*100)\n",
    "print(f\" Consulta realizada en un tiempo de {round((end_time - start_time)*1000, 4)} milisegundos\")\n",
    "print(\"=\"*100)"
   ]
  },
  {
   "cell_type": "markdown",
   "metadata": {},
   "source": [
    "## Consulta 3: Rango de saldo, dos opciones de agencias y descripción"
   ]
  },
  {
   "cell_type": "markdown",
   "metadata": {},
   "source": [
    "Se realizará una búsqueda sobre los campos saldo, agencia (OR 2 opciones) y descripción. Los parámetros de entrada son un rango de saldos, dos opciones de agencias, y una descripción."
   ]
  },
  {
   "cell_type": "code",
   "execution_count": 287,
   "metadata": {},
   "outputs": [
    {
     "name": "stdout",
     "output_type": "stream",
     "text": [
      "====================================================================================================\n",
      "{'_id': ObjectId('636d3f10dfb1bb4dd6b9d021'), 'fecha': '1983-06-07 17:48:33', 'agencia': 'Santa Cruz', 'monto': 310835.49, 'descripcion': 'Retiro en efectivo', 'saldo': 8995130.49, 'nota': 'commodi saepe fugiat debitis veniam hic dolores nesciunt'}\n",
      "\n",
      "{'_id': ObjectId('636d3f10dfb1bb4dd6b9d082'), 'fecha': '1950-11-02 15:53:33', 'agencia': 'La Paz', 'monto': 74017.15, 'descripcion': 'Retiro en efectivo', 'saldo': 9533088.85, 'nota': 'laborum libero voluptatem eligendi corrupti quod labore atque laboriosam suscipit'}\n",
      "\n",
      "{'_id': ObjectId('636d3f10dfb1bb4dd6b9d132'), 'fecha': '1995-12-22 19:08:33', 'agencia': 'La Paz', 'monto': 298367.78, 'descripcion': 'Retiro en efectivo', 'saldo': 4408981.8, 'nota': 'at odit expedita laudantium velit praesentium'}\n",
      "\n",
      "{'_id': ObjectId('636d3f10dfb1bb4dd6b9d1c2'), 'fecha': '1992-10-14 18:10:50', 'agencia': 'Santa Cruz', 'monto': 109711.13, 'descripcion': 'Retiro en efectivo', 'saldo': 5800061.73, 'nota': 'aspernatur'}\n",
      "\n",
      "{'_id': ObjectId('636d3f10dfb1bb4dd6b9d2c9'), 'fecha': '1986-09-10 08:42:58', 'agencia': 'Santa Cruz', 'monto': 166347.14, 'descripcion': 'Retiro en efectivo', 'saldo': 3814290.17, 'nota': 'aperiam placeat fugit ex officiis minima amet doloremque iusto'}\n",
      "\n",
      "{'_id': ObjectId('636d3f10dfb1bb4dd6b9d2cd'), 'fecha': '1984-05-21 23:48:38', 'agencia': 'Santa Cruz', 'monto': 222373.33, 'descripcion': 'Retiro en efectivo', 'saldo': 4525272.74, 'nota': 'eligendi esse voluptatibus'}\n",
      "\n",
      "{'_id': ObjectId('636d3f10dfb1bb4dd6b9d2ff'), 'fecha': '2005-02-20 05:03:29', 'agencia': 'La Paz', 'monto': 63034.27, 'descripcion': 'Retiro en efectivo', 'saldo': 1027359.46, 'nota': 'fugit'}\n",
      "\n",
      "{'_id': ObjectId('636d3f10dfb1bb4dd6b9d48b'), 'fecha': '1966-01-30 00:22:43', 'agencia': 'La Paz', 'monto': 306101.64, 'descripcion': 'Retiro en efectivo', 'saldo': 7153563.3, 'nota': 'itaque nulla hic saepe'}\n",
      "\n",
      "{'_id': ObjectId('636d3f10dfb1bb4dd6b9d531'), 'fecha': '1989-03-03 18:59:59', 'agencia': 'Santa Cruz', 'monto': 124728.46, 'descripcion': 'Retiro en efectivo', 'saldo': 8314350.91, 'nota': 'voluptatem quas fugit omnis minus'}\n",
      "\n",
      "{'_id': ObjectId('636d3f10dfb1bb4dd6b9d566'), 'fecha': '1977-04-03 23:37:39', 'agencia': 'La Paz', 'monto': 295277.2, 'descripcion': 'Retiro en efectivo', 'saldo': 6524128.2, 'nota': 'sed enim voluptatem veritatis reiciendis labore delectus optio'}\n",
      "\n",
      "====================================================================================================\n",
      " Consulta realizada en un tiempo de 0.2115 milisegundos\n",
      "====================================================================================================\n"
     ]
    }
   ],
   "source": [
    "saldo_min = 162342\n",
    "saldo_max = 382304513\n",
    "agencia1 = \"La Paz\"\n",
    "agencia2 = \"Santa Cruz\"\n",
    "descripcion = \"Retiro en efectivo\"\n",
    "\n",
    "start_time = time.time()\n",
    "results = busqueda_saldo_agencias_descripcion(saldo_min, saldo_max, agencia1, agencia2, descripcion)\n",
    "end_time = time.time()\n",
    "\n",
    "print(\"=\"*100)\n",
    "\n",
    "for r in results[:10]:\n",
    "    print(r)\n",
    "    print(\"\")\n",
    "\n",
    "print(\"=\"*100)\n",
    "print(f\" Consulta realizada en un tiempo de {round((end_time - start_time)*1000, 4)} milisegundos\")\n",
    "print(\"=\"*100)"
   ]
  },
  {
   "cell_type": "markdown",
   "metadata": {},
   "source": [
    "## Agregación 1: Suma de saldos de una agencia"
   ]
  },
  {
   "cell_type": "code",
   "execution_count": 288,
   "metadata": {},
   "outputs": [
    {
     "name": "stdout",
     "output_type": "stream",
     "text": [
      "====================================================================================================\n",
      "{'_id': {'agencia': 'Beni'}, 'suma': 149979123171265.12}\n",
      "\n",
      "====================================================================================================\n",
      " Consulta realizada en un tiempo de 0:11:00.092000\n",
      "====================================================================================================\n"
     ]
    }
   ],
   "source": [
    "agencia = \"Beni\"\n",
    "\n",
    "start_time = time.time()\n",
    "results = suma_saldo_agencia(agencia)\n",
    "end_time = time.time()\n",
    "\n",
    "print(\"=\"*100)\n",
    "\n",
    "for r in results:\n",
    "    print(r)\n",
    "    print(\"\")\n",
    "\n",
    "print(\"=\"*100)\n",
    "print(f\" Consulta realizada en un tiempo de {str(timedelta(seconds = (end_time - start_time)))}\")\n",
    "print(\"=\"*100)"
   ]
  },
  {
   "cell_type": "markdown",
   "metadata": {},
   "source": [
    "## Agregación 2: Promedio de montos por agencia"
   ]
  },
  {
   "cell_type": "code",
   "execution_count": 18,
   "metadata": {},
   "outputs": [
    {
     "name": "stdout",
     "output_type": "stream",
     "text": [
      "====================================================================================================\n",
      "{'_id': 'Santa Cruz', 'Promedio de montos': 4998317.884811896}\n",
      "\n",
      "{'_id': 'Beni', 'Promedio de montos': 5000906.687422729}\n",
      "\n",
      "{'_id': 'Tarija', 'Promedio de montos': 4996939.1596396165}\n",
      "\n",
      "{'_id': 'Cochabamba', 'Promedio de montos': 4999107.784366417}\n",
      "\n",
      "{'_id': 'Oruro', 'Promedio de montos': 4999753.750790663}\n",
      "\n",
      "====================================================================================================\n",
      " Consulta realizada en un tiempo de 0:46:31.060006\n",
      "====================================================================================================\n"
     ]
    }
   ],
   "source": [
    "start_time = time.time()\n",
    "results = promedio_montos_agencia()\n",
    "end_time = time.time()\n",
    "\n",
    "print(\"=\"*100)\n",
    "\n",
    "for r in results:\n",
    "    print(r)\n",
    "    print(\"\")\n",
    "\n",
    "print(\"=\"*100)\n",
    "print(f\" Consulta realizada en un tiempo de {str(timedelta(seconds = (end_time - start_time)))}\")\n",
    "print(\"=\"*100)"
   ]
  },
  {
   "cell_type": "markdown",
   "metadata": {},
   "source": [
    "| Tabla resumen de resultados | Valor obtenido   |\n",
    "|-----------------------------|------------------|\n",
    "| Tiempo consulta 1           | 0.1769 ms        |\n",
    "| Tiempo consulta 2           | 1.7519 ms        |\n",
    "| Tiempo consulta 3           | 0.2115 ms        |\n",
    "| Tiempo agregación 1         | 11 min 0.0920 s  |\n",
    "| Tiempo agregación 2         | 46 min 31.0600 s |"
   ]
  },
  {
   "cell_type": "markdown",
   "metadata": {},
   "source": [
    "----------------"
   ]
  },
  {
   "cell_type": "markdown",
   "metadata": {},
   "source": [
    "# Consultas a la base de datos con 10 millones de registros y 3 campos indexados (fecha, descripcion, nota)"
   ]
  },
  {
   "cell_type": "markdown",
   "metadata": {},
   "source": [
    "En esta sección se revisará la operación de búsqueda para la colección de 10 millones de documentos indexados solamente en 3 campos: fecha, descripcion y nota."
   ]
  },
  {
   "cell_type": "code",
   "execution_count": 65,
   "metadata": {},
   "outputs": [
    {
     "data": {
      "text/plain": [
       "{'_id_': {'v': 2, 'key': [('_id', 1)]},\n",
       " 'fecha_1': {'v': 2, 'key': [('fecha', 1)]},\n",
       " 'descripcion_1': {'v': 2, 'key': [('descripcion', 1)]},\n",
       " 'nota_text': {'v': 2,\n",
       "  'key': [('_fts', 'text'), ('_ftsx', 1)],\n",
       "  'weights': SON([('nota', 1)]),\n",
       "  'default_language': 'english',\n",
       "  'language_override': 'language',\n",
       "  'textIndexVersion': 3}}"
      ]
     },
     "execution_count": 65,
     "metadata": {},
     "output_type": "execute_result"
    }
   ],
   "source": [
    "coll = db[\"extracto_cuenta_10m_3idx\"]\n",
    "coll.index_information()"
   ]
  },
  {
   "cell_type": "markdown",
   "metadata": {},
   "source": [
    "## Consulta 1: Todos los datos"
   ]
  },
  {
   "cell_type": "markdown",
   "metadata": {},
   "source": [
    "Se realizará una búsqueda sobre todos los campos en la collección"
   ]
  },
  {
   "cell_type": "code",
   "execution_count": 42,
   "metadata": {},
   "outputs": [
    {
     "name": "stdout",
     "output_type": "stream",
     "text": [
      "====================================================================================================\n",
      "{'_id': ObjectId('63740c18dfb1bb2837b052b3'), 'fecha': '1956-04-20 13:40:08', 'agencia': 'Cochabamba', 'monto': 28791.8, 'descripcion': 'Pago de cheque compensado', 'saldo': 3922743.44, 'nota': 'aspernatur soluta earum totam consectetur culpa atque nobis dolor assumenda quaerat'}\n",
      "\n",
      "{'_id': ObjectId('63740c18dfb1bb2837b052b4'), 'fecha': '1995-02-16 01:20:10', 'agencia': 'Chuquisaca', 'monto': 298799.98, 'descripcion': 'Ingreso en efectivo', 'saldo': 411060.2, 'nota': 'facilis assumenda voluptate illo exercitationem repudiandae at officiis laboriosam quia aliquid adipisci'}\n",
      "\n",
      "{'_id': ObjectId('63740c18dfb1bb2837b052b5'), 'fecha': '1956-09-04 21:08:47', 'agencia': 'Beni', 'monto': 92841.99, 'descripcion': 'Pago de nómina', 'saldo': 3349136.75, 'nota': 'iusto commodi ducimus aliquam'}\n",
      "\n",
      "{'_id': ObjectId('63740c18dfb1bb2837b052b6'), 'fecha': '2003-11-11 15:10:18', 'agencia': 'Santa Cruz', 'monto': 79639.42, 'descripcion': 'Cobro seguro', 'saldo': 6523331.21, 'nota': 'aperiam a architecto eligendi nam saepe perferendis dolorum'}\n",
      "\n",
      "{'_id': ObjectId('63740c18dfb1bb2837b052b7'), 'fecha': '1983-06-07 17:48:33', 'agencia': 'Santa Cruz', 'monto': 310835.49, 'descripcion': 'Retiro en efectivo', 'saldo': 8995130.49, 'nota': 'commodi saepe fugiat debitis veniam hic dolores nesciunt'}\n",
      "\n",
      "{'_id': ObjectId('63740c18dfb1bb2837b052b8'), 'fecha': '1996-04-20 21:43:23', 'agencia': 'Oruro', 'monto': 280829.89, 'descripcion': 'Pago en línea - Servicio de internet', 'saldo': 5027086.25, 'nota': 'recusandae expedita optio deleniti assumenda corporis facilis quo error quidem perferendis'}\n",
      "\n",
      "{'_id': ObjectId('63740c18dfb1bb2837b052b9'), 'fecha': '1954-07-01 13:25:24', 'agencia': 'Beni', 'monto': 156471.92, 'descripcion': 'Retención IVA', 'saldo': 4839090.36, 'nota': 'harum aspernatur eligendi cumque deserunt velit explicabo esse'}\n",
      "\n",
      "{'_id': ObjectId('63740c18dfb1bb2837b052ba'), 'fecha': '2020-05-12 16:38:04', 'agencia': 'Tarija', 'monto': 126941.7, 'descripcion': 'Retención IVA', 'saldo': 9103704.71, 'nota': 'id quaerat'}\n",
      "\n",
      "{'_id': ObjectId('63740c18dfb1bb2837b052bb'), 'fecha': '1952-05-27 14:38:53', 'agencia': 'Oruro', 'monto': 298866.58, 'descripcion': 'Cobro seguro', 'saldo': 2023462.97, 'nota': 'facere rerum exercitationem quisquam assumenda'}\n",
      "\n",
      "{'_id': ObjectId('63740c18dfb1bb2837b052bc'), 'fecha': '2018-12-18 22:11:13', 'agencia': 'Santa Cruz', 'monto': 2262.59, 'descripcion': 'Reintegro cajero automático', 'saldo': 1166753.44, 'nota': 'corporis nemo earum quia odio'}\n",
      "\n",
      "====================================================================================================\n",
      " Consulta realizada en un tiempo de 0.174 milisegundos\n",
      "====================================================================================================\n"
     ]
    }
   ],
   "source": [
    "start_time = time.time()\n",
    "results = coll.find({})\n",
    "end_time = time.time()\n",
    "\n",
    "print(\"=\"*100)\n",
    "\n",
    "for r in results[:10]:\n",
    "    print(r)\n",
    "    print(\"\")\n",
    "\n",
    "print(\"=\"*100)\n",
    "print(f\" Consulta realizada en un tiempo de {round((end_time - start_time)*1000, 4)} milisegundos\")\n",
    "print(\"=\"*100)"
   ]
  },
  {
   "cell_type": "markdown",
   "metadata": {},
   "source": [
    "## Consulta 2: Fecha y agencia"
   ]
  },
  {
   "cell_type": "markdown",
   "metadata": {},
   "source": [
    "Se realizará una búsqueda sobre los campos fecha y agencia. Siendo los parámetros de entrada una fecha inicial, una fecha final y una agencia."
   ]
  },
  {
   "cell_type": "code",
   "execution_count": 49,
   "metadata": {},
   "outputs": [
    {
     "name": "stdout",
     "output_type": "stream",
     "text": [
      "====================================================================================================\n",
      "{'_id': ObjectId('63740ca2dfb1bb283712d273'), 'fecha': '2019-01-31 00:18:50', 'agencia': 'Cochabamba', 'monto': 77775.17, 'descripcion': 'Pago recibo de gas', 'saldo': 9791669.21, 'nota': 'corporis quos omnis aut cumque est natus culpa libero recusandae accusantium'}\n",
      "\n",
      "{'_id': ObjectId('63740c4cdfb1bb2837d200cc'), 'fecha': '2019-01-31 00:48:17', 'agencia': 'Cochabamba', 'monto': 310299.88, 'descripcion': 'Reintegro cajero automático', 'saldo': 597145.53, 'nota': 'dolor animi error quia officia'}\n",
      "\n",
      "{'_id': ObjectId('63740ccfdfb1bb2837361a8c'), 'fecha': '2019-01-31 00:54:46', 'agencia': 'Cochabamba', 'monto': 125951.39, 'descripcion': 'Compra en comercio', 'saldo': 3481199.55, 'nota': 'odit corporis adipisci dolorem sapiente facilis sit sequi dicta ullam provident deleniti'}\n",
      "\n",
      "{'_id': ObjectId('63740c79dfb1bb2837f61908'), 'fecha': '2019-01-31 01:05:48', 'agencia': 'Cochabamba', 'monto': 51541.02, 'descripcion': 'Capitalización de intereses premio', 'saldo': 5292368.52, 'nota': 'ullam id provident earum iusto exercitationem voluptatem rem nobis sunt'}\n",
      "\n",
      "{'_id': ObjectId('63740ccedfb1bb28373214c1'), 'fecha': '2019-01-31 01:20:05', 'agencia': 'Cochabamba', 'monto': 351280.81, 'descripcion': 'Capitalización de intereses premio', 'saldo': 1698992.16, 'nota': 'reprehenderit placeat illum obcaecati impedit perferendis cum maiores libero corporis dolorum consequuntur officiis'}\n",
      "\n",
      "{'_id': ObjectId('63740c4bdfb1bb2837cff2a8'), 'fecha': '2019-01-31 03:24:47', 'agencia': 'Cochabamba', 'monto': 30473.67, 'descripcion': 'Pago en interés', 'saldo': 7913719.09, 'nota': 'dolores repellat ipsum perspiciatis eius fugiat qui hic delectus voluptatum'}\n",
      "\n",
      "{'_id': ObjectId('63740c8ddfb1bb2837021fc1'), 'fecha': '2019-01-31 03:40:34', 'agencia': 'Cochabamba', 'monto': 281532.31, 'descripcion': 'Ingreso en efectivo', 'saldo': 7815609.56, 'nota': 'non veritatis vero animi'}\n",
      "\n",
      "{'_id': ObjectId('63740c1ddfb1bb2837bee432'), 'fecha': '2019-01-31 03:44:08', 'agencia': 'Cochabamba', 'monto': 37969.85, 'descripcion': 'Pago de cheque compensado', 'saldo': 4372410.9, 'nota': 'aspernatur unde'}\n",
      "\n",
      "{'_id': ObjectId('63740c8ddfb1bb283703cfa5'), 'fecha': '2019-01-31 04:14:20', 'agencia': 'Cochabamba', 'monto': 23213.04, 'descripcion': 'Consignación en efectivo', 'saldo': 6380082.93, 'nota': 'error libero distinctio'}\n",
      "\n",
      "{'_id': ObjectId('63740c18dfb1bb2837b0be17'), 'fecha': '2019-01-31 04:23:01', 'agencia': 'Cochabamba', 'monto': 61430.41, 'descripcion': 'Consignación en efectivo', 'saldo': 4018354.02, 'nota': 'voluptate suscipit aliquid repellendus corrupti exercitationem iste'}\n",
      "\n",
      "====================================================================================================\n",
      " Consulta realizada en un tiempo de 0.3581 milisegundos\n",
      "====================================================================================================\n"
     ]
    }
   ],
   "source": [
    "start_date = \"2019-01-31\" \n",
    "end_date = \"2019-12-31\"\n",
    "agencia = \"Cochabamba\"\n",
    "\n",
    "start_time = time.time()\n",
    "results = busqueda_fecha_agencia(start_date, end_date, agencia)\n",
    "end_time = time.time()\n",
    "\n",
    "print(\"=\"*100)\n",
    "\n",
    "for r in results[:10]:\n",
    "    print(r)\n",
    "    print(\"\")\n",
    "\n",
    "print(\"=\"*100)\n",
    "print(f\" Consulta realizada en un tiempo de {round((end_time - start_time)*1000, 4)} milisegundos\")\n",
    "print(\"=\"*100)"
   ]
  },
  {
   "cell_type": "markdown",
   "metadata": {},
   "source": [
    "## Consulta 3: Rango de saldo, dos opciones de agencias y descripción"
   ]
  },
  {
   "cell_type": "markdown",
   "metadata": {},
   "source": [
    "Se realizará una búsqueda sobre los campos saldo, agencia (OR 2 opciones) y descripción. Los parámetros de entrada son un rango de saldos, dos opciones de agencias, y una descripción."
   ]
  },
  {
   "cell_type": "code",
   "execution_count": 50,
   "metadata": {},
   "outputs": [
    {
     "name": "stdout",
     "output_type": "stream",
     "text": [
      "====================================================================================================\n",
      "{'_id': ObjectId('63740c18dfb1bb2837b052b7'), 'fecha': '1983-06-07 17:48:33', 'agencia': 'Santa Cruz', 'monto': 310835.49, 'descripcion': 'Retiro en efectivo', 'saldo': 8995130.49, 'nota': 'commodi saepe fugiat debitis veniam hic dolores nesciunt'}\n",
      "\n",
      "{'_id': ObjectId('63740c18dfb1bb2837b05318'), 'fecha': '1950-11-02 15:53:33', 'agencia': 'La Paz', 'monto': 74017.15, 'descripcion': 'Retiro en efectivo', 'saldo': 9533088.85, 'nota': 'laborum libero voluptatem eligendi corrupti quod labore atque laboriosam suscipit'}\n",
      "\n",
      "{'_id': ObjectId('63740c18dfb1bb2837b053c8'), 'fecha': '1995-12-22 19:08:33', 'agencia': 'La Paz', 'monto': 298367.78, 'descripcion': 'Retiro en efectivo', 'saldo': 4408981.8, 'nota': 'at odit expedita laudantium velit praesentium'}\n",
      "\n",
      "{'_id': ObjectId('63740c18dfb1bb2837b05458'), 'fecha': '1992-10-14 18:10:50', 'agencia': 'Santa Cruz', 'monto': 109711.13, 'descripcion': 'Retiro en efectivo', 'saldo': 5800061.73, 'nota': 'aspernatur'}\n",
      "\n",
      "{'_id': ObjectId('63740c18dfb1bb2837b0555f'), 'fecha': '1986-09-10 08:42:58', 'agencia': 'Santa Cruz', 'monto': 166347.14, 'descripcion': 'Retiro en efectivo', 'saldo': 3814290.17, 'nota': 'aperiam placeat fugit ex officiis minima amet doloremque iusto'}\n",
      "\n",
      "{'_id': ObjectId('63740c18dfb1bb2837b05563'), 'fecha': '1984-05-21 23:48:38', 'agencia': 'Santa Cruz', 'monto': 222373.33, 'descripcion': 'Retiro en efectivo', 'saldo': 4525272.74, 'nota': 'eligendi esse voluptatibus'}\n",
      "\n",
      "{'_id': ObjectId('63740c18dfb1bb2837b05595'), 'fecha': '2005-02-20 05:03:29', 'agencia': 'La Paz', 'monto': 63034.27, 'descripcion': 'Retiro en efectivo', 'saldo': 1027359.46, 'nota': 'fugit'}\n",
      "\n",
      "{'_id': ObjectId('63740c18dfb1bb2837b05721'), 'fecha': '1966-01-30 00:22:43', 'agencia': 'La Paz', 'monto': 306101.64, 'descripcion': 'Retiro en efectivo', 'saldo': 7153563.3, 'nota': 'itaque nulla hic saepe'}\n",
      "\n",
      "{'_id': ObjectId('63740c18dfb1bb2837b057c7'), 'fecha': '1989-03-03 18:59:59', 'agencia': 'Santa Cruz', 'monto': 124728.46, 'descripcion': 'Retiro en efectivo', 'saldo': 8314350.91, 'nota': 'voluptatem quas fugit omnis minus'}\n",
      "\n",
      "{'_id': ObjectId('63740c18dfb1bb2837b057fc'), 'fecha': '1977-04-03 23:37:39', 'agencia': 'La Paz', 'monto': 295277.2, 'descripcion': 'Retiro en efectivo', 'saldo': 6524128.2, 'nota': 'sed enim voluptatem veritatis reiciendis labore delectus optio'}\n",
      "\n",
      "====================================================================================================\n",
      " Consulta realizada en un tiempo de 0.185 milisegundos\n",
      "====================================================================================================\n"
     ]
    }
   ],
   "source": [
    "saldo_min = 162342\n",
    "saldo_max = 382304513\n",
    "agencia1 = \"La Paz\"\n",
    "agencia2 = \"Santa Cruz\"\n",
    "descripcion = \"Retiro en efectivo\"\n",
    "\n",
    "start_time = time.time()\n",
    "results = busqueda_saldo_agencias_descripcion(saldo_min, saldo_max, agencia1, agencia2, descripcion)\n",
    "end_time = time.time()\n",
    "\n",
    "print(\"=\"*100)\n",
    "\n",
    "for r in results[:10]:\n",
    "    print(r)\n",
    "    print(\"\")\n",
    "\n",
    "print(\"=\"*100)\n",
    "print(f\" Consulta realizada en un tiempo de {round((end_time - start_time)*1000, 4)} milisegundos\")\n",
    "print(\"=\"*100)"
   ]
  },
  {
   "cell_type": "markdown",
   "metadata": {},
   "source": [
    "## Consulta 4: Fecha, descripción y nota"
   ]
  },
  {
   "cell_type": "markdown",
   "metadata": {},
   "source": [
    "Se realizará una búsqueda sobre los campos fecha, descripcion y nota. Los parámetros de entrada son un rango de fechas, una descripción, y tres palabras del lorem ipsum."
   ]
  },
  {
   "cell_type": "code",
   "execution_count": 57,
   "metadata": {},
   "outputs": [],
   "source": [
    "def fecha_descripcion_nota(start_date, end_date, descripcion, words):    \n",
    "    from_date_str = start_date + \"T00:00:00+00:00\"\n",
    "    to_date_str = end_date + \"T23:59:59+00:00\"\n",
    "    from_date = datetime.strptime(from_date_str, '%Y-%m-%dT%H:%M:%S%z')\n",
    "    to_date = datetime.strptime(to_date_str, '%Y-%m-%dT%H:%M:%S%z')\n",
    "\n",
    "    search_criteria = {\n",
    "        \n",
    "        \"$and\":\n",
    "        [\n",
    "            {\n",
    "                \"fecha\":\n",
    "                {\n",
    "                    \"$gte\": str(from_date),\n",
    "                    \"$lte\": str(to_date)\n",
    "                }\n",
    "            },\n",
    "            {\n",
    "                \"descripcion\": descripcion\n",
    "            },\n",
    "            {\n",
    "                \"$text\": {\"$search\": words}\n",
    "            }\n",
    "        ]\n",
    "    }\n",
    "\n",
    "    return coll.find(search_criteria)"
   ]
  },
  {
   "cell_type": "code",
   "execution_count": 66,
   "metadata": {},
   "outputs": [
    {
     "name": "stdout",
     "output_type": "stream",
     "text": [
      "====================================================================================================\n",
      "{'_id': ObjectId('63740cb7dfb1bb28371fe5d3'), 'fecha': '2019-12-05 14:37:46', 'agencia': 'Beni', 'monto': 186710.76, 'descripcion': 'Retiro en efectivo', 'saldo': 4128920.84, 'nota': 'ipsum'}\n",
      "\n",
      "{'_id': ObjectId('63740cbadfb1bb28372733ea'), 'fecha': '2019-08-18 10:17:08', 'agencia': 'Pando', 'monto': 120456.19, 'descripcion': 'Retiro en efectivo', 'saldo': 4622608.35, 'nota': 'mollitia ipsum'}\n",
      "\n",
      "{'_id': ObjectId('63740ca1dfb1bb28370f1ba6'), 'fecha': '2019-12-22 15:01:01', 'agencia': 'Beni', 'monto': 81562.84, 'descripcion': 'Retiro en efectivo', 'saldo': 1342224.84, 'nota': 'ipsum neque'}\n",
      "\n",
      "{'_id': ObjectId('63740c7adfb1bb2837f8709d'), 'fecha': '2019-05-11 07:50:17', 'agencia': 'Santa Cruz', 'monto': 257114.43, 'descripcion': 'Retiro en efectivo', 'saldo': 2480857.91, 'nota': 'ipsum magni'}\n",
      "\n",
      "{'_id': ObjectId('63740c65dfb1bb2837e9a6c8'), 'fecha': '2019-12-22 15:13:39', 'agencia': 'Pando', 'monto': 222750.08, 'descripcion': 'Retiro en efectivo', 'saldo': 503592.65, 'nota': 'architecto ipsum'}\n",
      "\n",
      "{'_id': ObjectId('63740c35dfb1bb2837c36390'), 'fecha': '2019-11-19 19:48:15', 'agencia': 'Santa Cruz', 'monto': 184572.59, 'descripcion': 'Retiro en efectivo', 'saldo': 3893282.4, 'nota': 'ipsum itaque'}\n",
      "\n",
      "{'_id': ObjectId('63740c1adfb1bb2837b421ef'), 'fecha': '2019-10-11 07:31:43', 'agencia': 'Beni', 'monto': 206866.19, 'descripcion': 'Retiro en efectivo', 'saldo': 1432714.1, 'nota': 'ad ipsum'}\n",
      "\n",
      "{'_id': ObjectId('63740c19dfb1bb2837b2a477'), 'fecha': '2019-06-15 02:09:01', 'agencia': 'Chuquisaca', 'monto': 76239.58, 'descripcion': 'Retiro en efectivo', 'saldo': 5520159.71, 'nota': 'ipsum tenetur'}\n",
      "\n",
      "{'_id': ObjectId('63740ce2dfb1bb28373e8efe'), 'fecha': '2019-06-30 17:34:29', 'agencia': 'Oruro', 'monto': 236192.63, 'descripcion': 'Retiro en efectivo', 'saldo': 3718720.54, 'nota': 'placeat ipsum numquam'}\n",
      "\n",
      "{'_id': ObjectId('63740ca4dfb1bb2837190b90'), 'fecha': '2019-12-10 08:23:23', 'agencia': 'Chuquisaca', 'monto': 369297.88, 'descripcion': 'Retiro en efectivo', 'saldo': 8890130.19, 'nota': 'ipsum libero enim'}\n",
      "\n",
      "====================================================================================================\n",
      " Consulta realizada en un tiempo de 0.2942 milisegundos\n",
      "====================================================================================================\n"
     ]
    }
   ],
   "source": [
    "words = 'lorem ipsum omnis'\n",
    "descripcion = \"Retiro en efectivo\"\n",
    "start_date = \"2019-01-31\" \n",
    "end_date = \"2019-12-31\"\n",
    "\n",
    "start_time = time.time()\n",
    "results = fecha_descripcion_nota(start_date, end_date, descripcion, words)\n",
    "end_time = time.time()\n",
    "\n",
    "print(\"=\"*100)\n",
    "\n",
    "for r in results[:10]:\n",
    "    print(r)\n",
    "    print(\"\")\n",
    "\n",
    "print(\"=\"*100)\n",
    "print(f\" Consulta realizada en un tiempo de {round((end_time - start_time)*1000, 4)} milisegundos\")\n",
    "print(\"=\"*100)"
   ]
  },
  {
   "cell_type": "markdown",
   "metadata": {},
   "source": [
    "## Agregación 1: Suma de saldos de una agencia"
   ]
  },
  {
   "cell_type": "code",
   "execution_count": 52,
   "metadata": {},
   "outputs": [
    {
     "name": "stdout",
     "output_type": "stream",
     "text": [
      "====================================================================================================\n",
      "{'_id': {'agencia': 'Beni'}, 'suma': 49995171479223.2}\n",
      "\n",
      "====================================================================================================\n",
      " Consulta realizada en un tiempo de 0:01:56.482251\n",
      "====================================================================================================\n"
     ]
    }
   ],
   "source": [
    "agencia = \"Beni\"\n",
    "\n",
    "start_time = time.time()\n",
    "results = suma_saldo_agencia(agencia)\n",
    "end_time = time.time()\n",
    "\n",
    "print(\"=\"*100)\n",
    "\n",
    "for r in results:\n",
    "    print(r)\n",
    "    print(\"\")\n",
    "\n",
    "print(\"=\"*100)\n",
    "print(f\" Consulta realizada en un tiempo de {str(timedelta(seconds = (end_time - start_time)))}\")\n",
    "print(\"=\"*100)"
   ]
  },
  {
   "cell_type": "markdown",
   "metadata": {},
   "source": [
    "## Agregación 2: Promedio de montos por agencia"
   ]
  },
  {
   "cell_type": "code",
   "execution_count": 53,
   "metadata": {},
   "outputs": [
    {
     "name": "stdout",
     "output_type": "stream",
     "text": [
      "====================================================================================================\n",
      "{'_id': 'Tarija', 'Promedio de montos': 4996711.953560543}\n",
      "\n",
      "{'_id': 'Cochabamba', 'Promedio de montos': 5000650.992326564}\n",
      "\n",
      "{'_id': 'Beni', 'Promedio de montos': 5004452.928049985}\n",
      "\n",
      "{'_id': 'Chuquisaca', 'Promedio de montos': 5004312.36702801}\n",
      "\n",
      "{'_id': 'Oruro', 'Promedio de montos': 4997994.325706912}\n",
      "\n",
      "====================================================================================================\n",
      " Consulta realizada en un tiempo de 0:00:14.817012\n",
      "====================================================================================================\n"
     ]
    }
   ],
   "source": [
    "start_time = time.time()\n",
    "results = promedio_montos_agencia()\n",
    "end_time = time.time()\n",
    "\n",
    "print(\"=\"*100)\n",
    "\n",
    "for r in results:\n",
    "    print(r)\n",
    "    print(\"\")\n",
    "\n",
    "print(\"=\"*100)\n",
    "print(f\" Consulta realizada en un tiempo de {str(timedelta(seconds = (end_time - start_time)))}\")\n",
    "print(\"=\"*100)"
   ]
  },
  {
   "cell_type": "markdown",
   "metadata": {},
   "source": [
    "| Tabla resumen de resultados | Valor obtenido  |\n",
    "|-----------------------------|-----------------|\n",
    "| Tiempo consulta 1           | 0.1740 ms       |\n",
    "| Tiempo consulta 2           | 0.3581 ms       |\n",
    "| Tiempo consulta 3           | 0.1850 ms       |\n",
    "| Tiempo consulta 4           | 0.2942 ms       |\n",
    "| Tiempo agregación 1         | 1 min 56.4822 s |\n",
    "| Tiempo agregación 2         | 14.8170 s       |"
   ]
  },
  {
   "cell_type": "markdown",
   "metadata": {},
   "source": [
    "----------------------------"
   ]
  },
  {
   "cell_type": "markdown",
   "metadata": {},
   "source": [
    "# Consultas a la base de datos con 30 millones de registros y 3 campos indexados (fecha, descripcion, nota)"
   ]
  },
  {
   "cell_type": "markdown",
   "metadata": {},
   "source": [
    "En esta sección se revisará la operación de búsqueda para la colección de 30 millones de documentos indexados solamente en 3 campos: fecha, descripcion y nota."
   ]
  },
  {
   "cell_type": "code",
   "execution_count": 67,
   "metadata": {},
   "outputs": [
    {
     "data": {
      "text/plain": [
       "{'_id_': {'v': 2, 'key': [('_id', 1)]},\n",
       " 'fecha_1': {'v': 2, 'key': [('fecha', 1)]},\n",
       " 'descripcion_1': {'v': 2, 'key': [('descripcion', 1)]},\n",
       " 'nota_text': {'v': 2,\n",
       "  'key': [('_fts', 'text'), ('_ftsx', 1)],\n",
       "  'weights': SON([('nota', 1)]),\n",
       "  'default_language': 'english',\n",
       "  'language_override': 'language',\n",
       "  'textIndexVersion': 3}}"
      ]
     },
     "execution_count": 67,
     "metadata": {},
     "output_type": "execute_result"
    }
   ],
   "source": [
    "coll = db[\"extracto_cuenta_30m_3idx\"]\n",
    "coll.index_information()"
   ]
  },
  {
   "cell_type": "markdown",
   "metadata": {},
   "source": [
    "## Consulta 1: Todos los datos"
   ]
  },
  {
   "cell_type": "markdown",
   "metadata": {},
   "source": [
    "Se realizará una búsqueda sobre todos los campos en la collección"
   ]
  },
  {
   "cell_type": "code",
   "execution_count": 68,
   "metadata": {},
   "outputs": [
    {
     "name": "stdout",
     "output_type": "stream",
     "text": [
      "====================================================================================================\n",
      "{'_id': ObjectId('63740eecdfb1bb3887b98884'), 'fecha': '1956-04-20 13:40:08', 'agencia': 'Cochabamba', 'monto': 28791.8, 'descripcion': 'Pago de cheque compensado', 'saldo': 3922743.44, 'nota': 'aspernatur soluta earum totam consectetur culpa atque nobis dolor assumenda quaerat'}\n",
      "\n",
      "{'_id': ObjectId('63740eecdfb1bb3887b98885'), 'fecha': '1995-02-16 01:20:10', 'agencia': 'Chuquisaca', 'monto': 298799.98, 'descripcion': 'Ingreso en efectivo', 'saldo': 411060.2, 'nota': 'facilis assumenda voluptate illo exercitationem repudiandae at officiis laboriosam quia aliquid adipisci'}\n",
      "\n",
      "{'_id': ObjectId('63740eecdfb1bb3887b98886'), 'fecha': '1956-09-04 21:08:47', 'agencia': 'Beni', 'monto': 92841.99, 'descripcion': 'Pago de nómina', 'saldo': 3349136.75, 'nota': 'iusto commodi ducimus aliquam'}\n",
      "\n",
      "{'_id': ObjectId('63740eecdfb1bb3887b98887'), 'fecha': '2003-11-11 15:10:18', 'agencia': 'Santa Cruz', 'monto': 79639.42, 'descripcion': 'Cobro seguro', 'saldo': 6523331.21, 'nota': 'aperiam a architecto eligendi nam saepe perferendis dolorum'}\n",
      "\n",
      "{'_id': ObjectId('63740eecdfb1bb3887b98888'), 'fecha': '1983-06-07 17:48:33', 'agencia': 'Santa Cruz', 'monto': 310835.49, 'descripcion': 'Retiro en efectivo', 'saldo': 8995130.49, 'nota': 'commodi saepe fugiat debitis veniam hic dolores nesciunt'}\n",
      "\n",
      "{'_id': ObjectId('63740eecdfb1bb3887b98889'), 'fecha': '1996-04-20 21:43:23', 'agencia': 'Oruro', 'monto': 280829.89, 'descripcion': 'Pago en línea - Servicio de internet', 'saldo': 5027086.25, 'nota': 'recusandae expedita optio deleniti assumenda corporis facilis quo error quidem perferendis'}\n",
      "\n",
      "{'_id': ObjectId('63740eecdfb1bb3887b9888a'), 'fecha': '1954-07-01 13:25:24', 'agencia': 'Beni', 'monto': 156471.92, 'descripcion': 'Retención IVA', 'saldo': 4839090.36, 'nota': 'harum aspernatur eligendi cumque deserunt velit explicabo esse'}\n",
      "\n",
      "{'_id': ObjectId('63740eecdfb1bb3887b9888b'), 'fecha': '2020-05-12 16:38:04', 'agencia': 'Tarija', 'monto': 126941.7, 'descripcion': 'Retención IVA', 'saldo': 9103704.71, 'nota': 'id quaerat'}\n",
      "\n",
      "{'_id': ObjectId('63740eecdfb1bb3887b9888c'), 'fecha': '1952-05-27 14:38:53', 'agencia': 'Oruro', 'monto': 298866.58, 'descripcion': 'Cobro seguro', 'saldo': 2023462.97, 'nota': 'facere rerum exercitationem quisquam assumenda'}\n",
      "\n",
      "{'_id': ObjectId('63740eecdfb1bb3887b9888d'), 'fecha': '2018-12-18 22:11:13', 'agencia': 'Santa Cruz', 'monto': 2262.59, 'descripcion': 'Reintegro cajero automático', 'saldo': 1166753.44, 'nota': 'corporis nemo earum quia odio'}\n",
      "\n",
      "====================================================================================================\n",
      " Consulta realizada en un tiempo de 0.1862 milisegundos\n",
      "====================================================================================================\n"
     ]
    }
   ],
   "source": [
    "start_time = time.time()\n",
    "results = coll.find({})\n",
    "end_time = time.time()\n",
    "\n",
    "print(\"=\"*100)\n",
    "\n",
    "for r in results[:10]:\n",
    "    print(r)\n",
    "    print(\"\")\n",
    "\n",
    "print(\"=\"*100)\n",
    "print(f\" Consulta realizada en un tiempo de {round((end_time - start_time)*1000, 4)} milisegundos\")\n",
    "print(\"=\"*100)"
   ]
  },
  {
   "cell_type": "markdown",
   "metadata": {},
   "source": [
    "## Consulta 2: Fecha y agencia"
   ]
  },
  {
   "cell_type": "markdown",
   "metadata": {},
   "source": [
    "Se realizará una búsqueda sobre los campos fecha y agencia. Siendo los parámetros de entrada una fecha inicial, una fecha final y una agencia."
   ]
  },
  {
   "cell_type": "code",
   "execution_count": 69,
   "metadata": {},
   "outputs": [
    {
     "name": "stdout",
     "output_type": "stream",
     "text": [
      "====================================================================================================\n",
      "{'_id': ObjectId('63740f7fdfb1bb38871c0844'), 'fecha': '2019-01-31 00:18:50', 'agencia': 'Cochabamba', 'monto': 77775.17, 'descripcion': 'Pago recibo de gas', 'saldo': 9791669.21, 'nota': 'corporis quos omnis aut cumque est natus culpa libero recusandae accusantium'}\n",
      "\n",
      "{'_id': ObjectId('637410f2dfb1bb388729d098'), 'fecha': '2019-01-31 00:22:35', 'agencia': 'Cochabamba', 'monto': 83669.19, 'descripcion': 'Pago recibo de agua', 'saldo': 1739565.27, 'nota': 'aperiam minus ducimus excepturi earum impedit deleniti laudantium sint id doloribus cum'}\n",
      "\n",
      "{'_id': ObjectId('63740f24dfb1bb3887db369d'), 'fecha': '2019-01-31 00:48:17', 'agencia': 'Cochabamba', 'monto': 310299.88, 'descripcion': 'Reintegro cajero automático', 'saldo': 597145.53, 'nota': 'dolor animi error quia officia'}\n",
      "\n",
      "{'_id': ObjectId('63740fa9dfb1bb38873f505d'), 'fecha': '2019-01-31 00:54:46', 'agencia': 'Cochabamba', 'monto': 125951.39, 'descripcion': 'Compra en comercio', 'saldo': 3481199.55, 'nota': 'odit corporis adipisci dolorem sapiente facilis sit sequi dicta ullam provident deleniti'}\n",
      "\n",
      "{'_id': ObjectId('63740f58dfb1bb3887ff4ed9'), 'fecha': '2019-01-31 01:05:48', 'agencia': 'Cochabamba', 'monto': 51541.02, 'descripcion': 'Capitalización de intereses premio', 'saldo': 5292368.52, 'nota': 'ullam id provident earum iusto exercitationem voluptatem rem nobis sunt'}\n",
      "\n",
      "{'_id': ObjectId('63740fa8dfb1bb38873b4a92'), 'fecha': '2019-01-31 01:20:05', 'agencia': 'Cochabamba', 'monto': 351280.81, 'descripcion': 'Capitalización de intereses premio', 'saldo': 1698992.16, 'nota': 'reprehenderit placeat illum obcaecati impedit perferendis cum maiores libero corporis dolorum consequuntur officiis'}\n",
      "\n",
      "{'_id': ObjectId('6374101adfb1bb38878d1aa2'), 'fecha': '2019-01-31 01:20:58', 'agencia': 'Cochabamba', 'monto': 397128.77, 'descripcion': 'Debito Cta por compra', 'saldo': 426507.65, 'nota': 'quasi illo ratione ducimus rerum modi dolore quod'}\n",
      "\n",
      "{'_id': ObjectId('63740febdfb1bb388761933a'), 'fecha': '2019-01-31 01:21:08', 'agencia': 'Cochabamba', 'monto': 354948.11, 'descripcion': 'Debito Cta por compra', 'saldo': 1021487.32, 'nota': 'hic reprehenderit velit rerum natus ex consequuntur dolore porro assumenda nobis quae'}\n",
      "\n",
      "{'_id': ObjectId('63741118dfb1bb38874831c6'), 'fecha': '2019-01-31 01:45:58', 'agencia': 'Cochabamba', 'monto': 24142.33, 'descripcion': 'Transferencia de fondos de ahorros', 'saldo': 6939429.67, 'nota': 'vitae'}\n",
      "\n",
      "{'_id': ObjectId('63741130dfb1bb388762c0f6'), 'fecha': '2019-01-31 02:21:08', 'agencia': 'Cochabamba', 'monto': 63354.29, 'descripcion': 'Debito Cta por pago de Seguro', 'saldo': 6323155.53, 'nota': 'quam soluta cupiditate itaque omnis'}\n",
      "\n",
      "====================================================================================================\n",
      " Consulta realizada en un tiempo de 0.2246 milisegundos\n",
      "====================================================================================================\n"
     ]
    }
   ],
   "source": [
    "start_date = \"2019-01-31\" \n",
    "end_date = \"2019-12-31\"\n",
    "agencia = \"Cochabamba\"\n",
    "\n",
    "start_time = time.time()\n",
    "results = busqueda_fecha_agencia(start_date, end_date, agencia, coll)\n",
    "end_time = time.time()\n",
    "\n",
    "print(\"=\"*100)\n",
    "\n",
    "for r in results[:10]:\n",
    "    print(r)\n",
    "    print(\"\")\n",
    "\n",
    "print(\"=\"*100)\n",
    "print(f\" Consulta realizada en un tiempo de {round((end_time - start_time)*1000, 4)} milisegundos\")\n",
    "print(\"=\"*100)"
   ]
  },
  {
   "cell_type": "markdown",
   "metadata": {},
   "source": [
    "## Consulta 3: Rango de saldo, dos opciones de agencias y descripción"
   ]
  },
  {
   "cell_type": "markdown",
   "metadata": {},
   "source": [
    "Se realizará una búsqueda sobre los campos saldo, agencia (OR 2 opciones) y descripción. Los parámetros de entrada son un rango de saldos, dos opciones de agencias, y una descripción."
   ]
  },
  {
   "cell_type": "code",
   "execution_count": 70,
   "metadata": {},
   "outputs": [
    {
     "name": "stdout",
     "output_type": "stream",
     "text": [
      "====================================================================================================\n",
      "{'_id': ObjectId('63740eecdfb1bb3887b98888'), 'fecha': '1983-06-07 17:48:33', 'agencia': 'Santa Cruz', 'monto': 310835.49, 'descripcion': 'Retiro en efectivo', 'saldo': 8995130.49, 'nota': 'commodi saepe fugiat debitis veniam hic dolores nesciunt'}\n",
      "\n",
      "{'_id': ObjectId('63740eecdfb1bb3887b988e9'), 'fecha': '1950-11-02 15:53:33', 'agencia': 'La Paz', 'monto': 74017.15, 'descripcion': 'Retiro en efectivo', 'saldo': 9533088.85, 'nota': 'laborum libero voluptatem eligendi corrupti quod labore atque laboriosam suscipit'}\n",
      "\n",
      "{'_id': ObjectId('63740eecdfb1bb3887b98999'), 'fecha': '1995-12-22 19:08:33', 'agencia': 'La Paz', 'monto': 298367.78, 'descripcion': 'Retiro en efectivo', 'saldo': 4408981.8, 'nota': 'at odit expedita laudantium velit praesentium'}\n",
      "\n",
      "{'_id': ObjectId('63740eecdfb1bb3887b98a29'), 'fecha': '1992-10-14 18:10:50', 'agencia': 'Santa Cruz', 'monto': 109711.13, 'descripcion': 'Retiro en efectivo', 'saldo': 5800061.73, 'nota': 'aspernatur'}\n",
      "\n",
      "{'_id': ObjectId('63740eecdfb1bb3887b98b30'), 'fecha': '1986-09-10 08:42:58', 'agencia': 'Santa Cruz', 'monto': 166347.14, 'descripcion': 'Retiro en efectivo', 'saldo': 3814290.17, 'nota': 'aperiam placeat fugit ex officiis minima amet doloremque iusto'}\n",
      "\n",
      "{'_id': ObjectId('63740eecdfb1bb3887b98b34'), 'fecha': '1984-05-21 23:48:38', 'agencia': 'Santa Cruz', 'monto': 222373.33, 'descripcion': 'Retiro en efectivo', 'saldo': 4525272.74, 'nota': 'eligendi esse voluptatibus'}\n",
      "\n",
      "{'_id': ObjectId('63740eecdfb1bb3887b98b66'), 'fecha': '2005-02-20 05:03:29', 'agencia': 'La Paz', 'monto': 63034.27, 'descripcion': 'Retiro en efectivo', 'saldo': 1027359.46, 'nota': 'fugit'}\n",
      "\n",
      "{'_id': ObjectId('63740eecdfb1bb3887b98cf2'), 'fecha': '1966-01-30 00:22:43', 'agencia': 'La Paz', 'monto': 306101.64, 'descripcion': 'Retiro en efectivo', 'saldo': 7153563.3, 'nota': 'itaque nulla hic saepe'}\n",
      "\n",
      "{'_id': ObjectId('63740eecdfb1bb3887b98d98'), 'fecha': '1989-03-03 18:59:59', 'agencia': 'Santa Cruz', 'monto': 124728.46, 'descripcion': 'Retiro en efectivo', 'saldo': 8314350.91, 'nota': 'voluptatem quas fugit omnis minus'}\n",
      "\n",
      "{'_id': ObjectId('63740eecdfb1bb3887b98dcd'), 'fecha': '1977-04-03 23:37:39', 'agencia': 'La Paz', 'monto': 295277.2, 'descripcion': 'Retiro en efectivo', 'saldo': 6524128.2, 'nota': 'sed enim voluptatem veritatis reiciendis labore delectus optio'}\n",
      "\n",
      "====================================================================================================\n",
      " Consulta realizada en un tiempo de 0.1528 milisegundos\n",
      "====================================================================================================\n"
     ]
    }
   ],
   "source": [
    "saldo_min = 162342\n",
    "saldo_max = 382304513\n",
    "agencia1 = \"La Paz\"\n",
    "agencia2 = \"Santa Cruz\"\n",
    "descripcion = \"Retiro en efectivo\"\n",
    "\n",
    "start_time = time.time()\n",
    "results = busqueda_saldo_agencias_descripcion(saldo_min, saldo_max, agencia1, agencia2, descripcion)\n",
    "end_time = time.time()\n",
    "\n",
    "print(\"=\"*100)\n",
    "\n",
    "for r in results[:10]:\n",
    "    print(r)\n",
    "    print(\"\")\n",
    "\n",
    "print(\"=\"*100)\n",
    "print(f\" Consulta realizada en un tiempo de {round((end_time - start_time)*1000, 4)} milisegundos\")\n",
    "print(\"=\"*100)"
   ]
  },
  {
   "cell_type": "markdown",
   "metadata": {},
   "source": [
    "## Consulta 4: Fecha, descripción y nota"
   ]
  },
  {
   "cell_type": "markdown",
   "metadata": {},
   "source": [
    "Se realizará una búsqueda sobre los campos fecha, descripcion y nota. Los parámetros de entrada son un rango de fechas, una descripción, y tres palabras del lorem ipsum."
   ]
  },
  {
   "cell_type": "code",
   "execution_count": 75,
   "metadata": {},
   "outputs": [
    {
     "name": "stdout",
     "output_type": "stream",
     "text": [
      "====================================================================================================\n",
      "{'_id': ObjectId('63741106dfb1bb38873ba25c'), 'fecha': '2019-06-25 15:31:50', 'agencia': 'Oruro', 'monto': 399452.49, 'descripcion': 'Retiro en efectivo', 'saldo': 9229518.64, 'nota': 'ipsum'}\n",
      "\n",
      "{'_id': ObjectId('63740f94dfb1bb3887291ba4'), 'fecha': '2019-12-05 14:37:46', 'agencia': 'Beni', 'monto': 186710.76, 'descripcion': 'Retiro en efectivo', 'saldo': 4128920.84, 'nota': 'ipsum'}\n",
      "\n",
      "{'_id': ObjectId('63741109dfb1bb388743e20e'), 'fecha': '2019-10-12 03:42:02', 'agencia': 'Beni', 'monto': 185366.08, 'descripcion': 'Retiro en efectivo', 'saldo': 4732418.74, 'nota': 'distinctio ipsum'}\n",
      "\n",
      "{'_id': ObjectId('63741105dfb1bb388739c56a'), 'fecha': '2019-03-08 20:17:11', 'agencia': 'Oruro', 'monto': 295444.29, 'descripcion': 'Retiro en efectivo', 'saldo': 8149006.35, 'nota': 'ipsum voluptatibus'}\n",
      "\n",
      "{'_id': ObjectId('637410e1dfb1bb38871cd05a'), 'fecha': '2019-06-01 20:45:35', 'agencia': 'Cochabamba', 'monto': 275929.16, 'descripcion': 'Retiro en efectivo', 'saldo': 1700276.11, 'nota': 'itaque ipsum'}\n",
      "\n",
      "{'_id': ObjectId('6374103bdfb1bb3887a0c5b4'), 'fecha': '2019-03-14 12:01:09', 'agencia': 'Tarija', 'monto': 331675.59, 'descripcion': 'Retiro en efectivo', 'saldo': 6786874.15, 'nota': 'ea ipsum'}\n",
      "\n",
      "{'_id': ObjectId('6374102cdfb1bb38879a08b5'), 'fecha': '2019-07-15 08:54:16', 'agencia': 'Pando', 'monto': 370319.11, 'descripcion': 'Retiro en efectivo', 'saldo': 938832.96, 'nota': 'ipsum laudantium'}\n",
      "\n",
      "{'_id': ObjectId('63741005dfb1bb3887796a48'), 'fecha': '2019-06-12 22:08:13', 'agencia': 'Beni', 'monto': 342281.78, 'descripcion': 'Retiro en efectivo', 'saldo': 3779658.54, 'nota': 'ipsum nostrum'}\n",
      "\n",
      "{'_id': ObjectId('63740fecdfb1bb38876489e0'), 'fecha': '2019-12-07 17:53:56', 'agencia': 'Cochabamba', 'monto': 132840.15, 'descripcion': 'Retiro en efectivo', 'saldo': 1360673.63, 'nota': 'ipsum deserunt'}\n",
      "\n",
      "{'_id': ObjectId('63740f96dfb1bb38873069bb'), 'fecha': '2019-08-18 10:17:08', 'agencia': 'Pando', 'monto': 120456.19, 'descripcion': 'Retiro en efectivo', 'saldo': 4622608.35, 'nota': 'mollitia ipsum'}\n",
      "\n",
      "====================================================================================================\n",
      " Consulta realizada en un tiempo de 0.2358 milisegundos\n",
      "====================================================================================================\n"
     ]
    }
   ],
   "source": [
    "words = 'lorem ipsum omnis'\n",
    "descripcion = \"Retiro en efectivo\"\n",
    "start_date = \"2019-01-31\" \n",
    "end_date = \"2019-12-31\"\n",
    "\n",
    "start_time = time.time()\n",
    "results = fecha_descripcion_nota(start_date, end_date, descripcion, words)\n",
    "end_time = time.time()\n",
    "\n",
    "print(\"=\"*100)\n",
    "\n",
    "for r in results[:10]:\n",
    "    print(r)\n",
    "    print(\"\")\n",
    "\n",
    "print(\"=\"*100)\n",
    "print(f\" Consulta realizada en un tiempo de {round((end_time - start_time)*1000, 4)} milisegundos\")\n",
    "print(\"=\"*100)"
   ]
  },
  {
   "cell_type": "markdown",
   "metadata": {},
   "source": [
    "## Agregación 1: Suma de saldos de una agencia"
   ]
  },
  {
   "cell_type": "code",
   "execution_count": 76,
   "metadata": {},
   "outputs": [
    {
     "name": "stdout",
     "output_type": "stream",
     "text": [
      "====================================================================================================\n",
      "{'_id': {'agencia': 'Beni'}, 'suma': 149979123171265.12}\n",
      "\n",
      "====================================================================================================\n",
      " Consulta realizada en un tiempo de 0:06:32.652452\n",
      "====================================================================================================\n"
     ]
    }
   ],
   "source": [
    "agencia = \"Beni\"\n",
    "\n",
    "start_time = time.time()\n",
    "results = suma_saldo_agencia(agencia)\n",
    "end_time = time.time()\n",
    "\n",
    "print(\"=\"*100)\n",
    "\n",
    "for r in results:\n",
    "    print(r)\n",
    "    print(\"\")\n",
    "\n",
    "print(\"=\"*100)\n",
    "print(f\" Consulta realizada en un tiempo de {str(timedelta(seconds = (end_time - start_time)))}\")\n",
    "print(\"=\"*100)"
   ]
  },
  {
   "cell_type": "markdown",
   "metadata": {},
   "source": [
    "## Agregación 2: Promedio de montos por descripción"
   ]
  },
  {
   "cell_type": "code",
   "execution_count": 77,
   "metadata": {},
   "outputs": [
    {
     "name": "stdout",
     "output_type": "stream",
     "text": [
      "====================================================================================================\n",
      "{'_id': 'Beni', 'Promedio de montos': 5000906.687422729}\n",
      "\n",
      "{'_id': 'Oruro', 'Promedio de montos': 4999753.750790663}\n",
      "\n",
      "{'_id': 'Tarija', 'Promedio de montos': 4996939.1596396165}\n",
      "\n",
      "{'_id': 'Cochabamba', 'Promedio de montos': 4999107.784366417}\n",
      "\n",
      "{'_id': 'Pando', 'Promedio de montos': 4997057.697427729}\n",
      "\n",
      "====================================================================================================\n",
      " Consulta realizada en un tiempo de 0:10:11.458729\n",
      "====================================================================================================\n"
     ]
    }
   ],
   "source": [
    "start_time = time.time()\n",
    "results = promedio_montos_agencia()\n",
    "end_time = time.time()\n",
    "\n",
    "print(\"=\"*100)\n",
    "\n",
    "for r in results:\n",
    "    print(r)\n",
    "    print(\"\")\n",
    "\n",
    "print(\"=\"*100)\n",
    "print(f\" Consulta realizada en un tiempo de {str(timedelta(seconds = (end_time - start_time)))}\")\n",
    "print(\"=\"*100)"
   ]
  },
  {
   "cell_type": "markdown",
   "metadata": {},
   "source": [
    "| Tabla resumen de resultados | Valor obtenido   |\n",
    "|-----------------------------|------------------|\n",
    "| Tiempo consulta 1           | 0.1862 ms        |\n",
    "| Tiempo consulta 2           | 0.2246 ms        |\n",
    "| Tiempo consulta 3           | 0.1528 ms        |\n",
    "| Tiempo consulta 4           | 0.2358 ms        |\n",
    "| Tiempo agregación 1         | 6 min 32.6524  s |\n",
    "| Tiempo agregación 2         | 10 min 11.4587 s |"
   ]
  }
 ],
 "metadata": {
  "kernelspec": {
   "display_name": "Python 3.8.10 64-bit",
   "language": "python",
   "name": "python3"
  },
  "language_info": {
   "codemirror_mode": {
    "name": "ipython",
    "version": 3
   },
   "file_extension": ".py",
   "mimetype": "text/x-python",
   "name": "python",
   "nbconvert_exporter": "python",
   "pygments_lexer": "ipython3",
   "version": "3.8.10"
  },
  "orig_nbformat": 4,
  "vscode": {
   "interpreter": {
    "hash": "31f2aee4e71d21fbe5cf8b01ff0e069b9275f58929596ceb00d14d90e3e16cd6"
   }
  }
 },
 "nbformat": 4,
 "nbformat_minor": 2
}

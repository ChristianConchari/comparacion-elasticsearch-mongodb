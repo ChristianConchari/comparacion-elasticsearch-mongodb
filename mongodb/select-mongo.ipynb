{
 "cells": [
  {
   "cell_type": "markdown",
   "metadata": {},
   "source": [
    "# Carga de librerias"
   ]
  },
  {
   "cell_type": "code",
   "execution_count": 1,
   "metadata": {},
   "outputs": [],
   "source": [
    "from pymongo import MongoClient\n",
    "import time\n",
    "from datetime import datetime, timedelta\n",
    "\n",
    "client = MongoClient('localhost', 27017)\n",
    "db = client[\"test_mongo\"]"
   ]
  },
  {
   "cell_type": "markdown",
   "metadata": {},
   "source": [
    "# Consultas a la base de datos con 1 millón de registros y todos los campos indexados"
   ]
  },
  {
   "cell_type": "markdown",
   "metadata": {},
   "source": [
    "En esta sección se revisará la operación de búsqueda para la colección de 1 millón de documentos ya indexados"
   ]
  },
  {
   "cell_type": "code",
   "execution_count": 2,
   "metadata": {},
   "outputs": [
    {
     "data": {
      "text/plain": [
       "{'_id_': {'v': 2, 'key': [('_id', 1)]},\n",
       " 'fecha_1': {'v': 2, 'key': [('fecha', 1)]},\n",
       " 'agencia_1': {'v': 2, 'key': [('agencia', 1)]},\n",
       " 'monto_1': {'v': 2, 'key': [('monto', 1)]},\n",
       " 'saldo_1': {'v': 2, 'key': [('saldo', 1)]},\n",
       " 'descripcion_1': {'v': 2, 'key': [('descripcion', 1)]},\n",
       " 'nota_1': {'v': 2, 'key': [('nota', 1)]}}"
      ]
     },
     "execution_count": 2,
     "metadata": {},
     "output_type": "execute_result"
    }
   ],
   "source": [
    "coll = db[\"extracto_cuenta_1m2\"]\n",
    "coll.index_information()"
   ]
  },
  {
   "cell_type": "markdown",
   "metadata": {},
   "source": [
    "## Consulta 1: Todos los datos"
   ]
  },
  {
   "cell_type": "markdown",
   "metadata": {},
   "source": [
    "Se realizará una búsqueda sobre todos los campos en la colección"
   ]
  },
  {
   "cell_type": "code",
   "execution_count": 267,
   "metadata": {},
   "outputs": [
    {
     "name": "stdout",
     "output_type": "stream",
     "text": [
      "====================================================================================================\n",
      "{'_id': ObjectId('636db33ddfb1bbbb1b7d41fa'), 'fecha': '1956-04-20 13:40:08', 'agencia': 'Cochabamba', 'monto': 28791.8, 'descripcion': 'Pago de cheque compensado', 'saldo': 3922743.44, 'nota': 'aspernatur soluta earum totam consectetur culpa atque nobis dolor assumenda quaerat'}\n",
      "\n",
      "{'_id': ObjectId('636db33ddfb1bbbb1b7d41fb'), 'fecha': '1995-02-16 01:20:10', 'agencia': 'Chuquisaca', 'monto': 298799.98, 'descripcion': 'Ingreso en efectivo', 'saldo': 411060.2, 'nota': 'facilis assumenda voluptate illo exercitationem repudiandae at officiis laboriosam quia aliquid adipisci'}\n",
      "\n",
      "{'_id': ObjectId('636db33ddfb1bbbb1b7d41fc'), 'fecha': '1956-09-04 21:08:47', 'agencia': 'Beni', 'monto': 92841.99, 'descripcion': 'Pago de nómina', 'saldo': 3349136.75, 'nota': 'iusto commodi ducimus aliquam'}\n",
      "\n",
      "{'_id': ObjectId('636db33ddfb1bbbb1b7d41fd'), 'fecha': '2003-11-11 15:10:18', 'agencia': 'Santa Cruz', 'monto': 79639.42, 'descripcion': 'Cobro seguro', 'saldo': 6523331.21, 'nota': 'aperiam a architecto eligendi nam saepe perferendis dolorum'}\n",
      "\n",
      "{'_id': ObjectId('636db33ddfb1bbbb1b7d41fe'), 'fecha': '1983-06-07 17:48:33', 'agencia': 'Santa Cruz', 'monto': 310835.49, 'descripcion': 'Retiro en efectivo', 'saldo': 8995130.49, 'nota': 'commodi saepe fugiat debitis veniam hic dolores nesciunt'}\n",
      "\n",
      "{'_id': ObjectId('636db33ddfb1bbbb1b7d41ff'), 'fecha': '1996-04-20 21:43:23', 'agencia': 'Oruro', 'monto': 280829.89, 'descripcion': 'Pago en línea - Servicio de internet', 'saldo': 5027086.25, 'nota': 'recusandae expedita optio deleniti assumenda corporis facilis quo error quidem perferendis'}\n",
      "\n",
      "{'_id': ObjectId('636db33ddfb1bbbb1b7d4200'), 'fecha': '1954-07-01 13:25:24', 'agencia': 'Beni', 'monto': 156471.92, 'descripcion': 'Retención IVA', 'saldo': 4839090.36, 'nota': 'harum aspernatur eligendi cumque deserunt velit explicabo esse'}\n",
      "\n",
      "{'_id': ObjectId('636db33ddfb1bbbb1b7d4201'), 'fecha': '2020-05-12 16:38:04', 'agencia': 'Tarija', 'monto': 126941.7, 'descripcion': 'Retención IVA', 'saldo': 9103704.71, 'nota': 'id quaerat'}\n",
      "\n",
      "{'_id': ObjectId('636db33ddfb1bbbb1b7d4202'), 'fecha': '1952-05-27 14:38:53', 'agencia': 'Oruro', 'monto': 298866.58, 'descripcion': 'Cobro seguro', 'saldo': 2023462.97, 'nota': 'facere rerum exercitationem quisquam assumenda'}\n",
      "\n",
      "{'_id': ObjectId('636db33ddfb1bbbb1b7d4203'), 'fecha': '2018-12-18 22:11:13', 'agencia': 'Santa Cruz', 'monto': 2262.59, 'descripcion': 'Reintegro cajero automático', 'saldo': 1166753.44, 'nota': 'corporis nemo earum quia odio'}\n",
      "\n",
      "====================================================================================================\n",
      " Consulta realizada en un tiempo de 0.1731 milisegundos\n",
      "====================================================================================================\n"
     ]
    }
   ],
   "source": [
    "start_time = time.time()\n",
    "results = coll.find({})\n",
    "end_time = time.time()\n",
    "\n",
    "print(\"=\"*100)\n",
    "\n",
    "for r in results[:10]:\n",
    "    print(r)\n",
    "    print(\"\")\n",
    "\n",
    "print(\"=\"*100)\n",
    "print(f\" Consulta realizada en un tiempo de {round((end_time - start_time)*1000, 4)} milisegundos\")\n",
    "print(\"=\"*100)"
   ]
  },
  {
   "cell_type": "markdown",
   "metadata": {},
   "source": [
    "## Consulta 2: Fecha y agencia"
   ]
  },
  {
   "cell_type": "markdown",
   "metadata": {},
   "source": [
    "Se realizará una búsqueda sobre los campos fecha y agencia. Siendo los parámetros de entrada una fecha inicial, una fecha final y una agencia."
   ]
  },
  {
   "cell_type": "code",
   "execution_count": 268,
   "metadata": {},
   "outputs": [],
   "source": [
    "def busqueda_fecha_agencia(start_date, end_date, agencia, coll):\n",
    "    from_date_str = start_date + \"T00:00:00+00:00\"\n",
    "    to_date_str = end_date + \"T23:59:59+00:00\"\n",
    "    from_date = datetime.strptime(from_date_str, '%Y-%m-%dT%H:%M:%S%z')\n",
    "    to_date = datetime.strptime(to_date_str, '%Y-%m-%dT%H:%M:%S%z')\n",
    "    \n",
    "\n",
    "    search_criteria = {\n",
    "        \n",
    "        \"$and\":\n",
    "        [\n",
    "            {\n",
    "                \"fecha\":\n",
    "                {\n",
    "                    \"$gte\": str(from_date),\n",
    "                    \"$lte\": str(to_date)\n",
    "                }\n",
    "            },\n",
    "            {\n",
    "                \"agencia\": agencia\n",
    "            }\n",
    "        ]\n",
    "    }\n",
    "\n",
    "    return coll.find(search_criteria)"
   ]
  },
  {
   "cell_type": "code",
   "execution_count": 269,
   "metadata": {},
   "outputs": [
    {
     "name": "stdout",
     "output_type": "stream",
     "text": [
      "====================================================================================================\n",
      "{'_id': ObjectId('636db342dfb1bbbb1b8bd379'), 'fecha': '2019-01-31 03:44:08', 'agencia': 'Cochabamba', 'monto': 37969.85, 'descripcion': 'Pago de cheque compensado', 'saldo': 4372410.9, 'nota': 'aspernatur unde'}\n",
      "\n",
      "{'_id': ObjectId('636db33edfb1bbbb1b7dad5e'), 'fecha': '2019-01-31 04:23:01', 'agencia': 'Cochabamba', 'monto': 61430.41, 'descripcion': 'Consignación en efectivo', 'saldo': 4018354.02, 'nota': 'voluptate suscipit aliquid repellendus corrupti exercitationem iste'}\n",
      "\n",
      "{'_id': ObjectId('636db33fdfb1bbbb1b820cb8'), 'fecha': '2019-01-31 10:32:24', 'agencia': 'Cochabamba', 'monto': 277161.29, 'descripcion': 'Transferencia interbancaria SIMPLE', 'saldo': 2900425.22, 'nota': 'totam non sunt'}\n",
      "\n",
      "{'_id': ObjectId('636db342dfb1bbbb1b89476e'), 'fecha': '2019-01-31 11:19:20', 'agencia': 'Cochabamba', 'monto': 80681.37, 'descripcion': 'Pago recibo de agua', 'saldo': 1233506.96, 'nota': 'ex'}\n",
      "\n",
      "{'_id': ObjectId('636db343dfb1bbbb1b8c338b'), 'fecha': '2019-01-31 12:22:15', 'agencia': 'Cochabamba', 'monto': 108856.88, 'descripcion': 'Pago en línea - Servicio de internet', 'saldo': 2772864.15, 'nota': 'natus molestias unde corporis obcaecati quas debitis modi assumenda voluptatem quaerat eaque error'}\n",
      "\n",
      "{'_id': ObjectId('636db341dfb1bbbb1b88f40e'), 'fecha': '2019-01-31 17:16:26', 'agencia': 'Cochabamba', 'monto': 250193.98, 'descripcion': 'Retención IVA', 'saldo': 2528310.46, 'nota': 'molestiae tempora cumque amet possimus delectus iusto'}\n",
      "\n",
      "{'_id': ObjectId('636db342dfb1bbbb1b89f065'), 'fecha': '2019-01-31 17:29:54', 'agencia': 'Cochabamba', 'monto': 371305.74, 'descripcion': 'Retiro en efectivo', 'saldo': 652429.28, 'nota': 'quaerat harum quod quis'}\n",
      "\n",
      "{'_id': ObjectId('636db342dfb1bbbb1b8aaa77'), 'fecha': '2019-02-01 02:36:11', 'agencia': 'Cochabamba', 'monto': 193629.23, 'descripcion': 'Apertura de caja de ahorros', 'saldo': 2613411.74, 'nota': 'in soluta voluptatibus incidunt beatae animi et odit'}\n",
      "\n",
      "{'_id': ObjectId('636db342dfb1bbbb1b8ba999'), 'fecha': '2019-02-01 05:53:27', 'agencia': 'Cochabamba', 'monto': 199420.89, 'descripcion': 'Cobro seguro', 'saldo': 192098.55, 'nota': 'architecto'}\n",
      "\n",
      "{'_id': ObjectId('636db342dfb1bbbb1b898971'), 'fecha': '2019-02-01 11:56:37', 'agencia': 'Cochabamba', 'monto': 225306.0, 'descripcion': 'DEB.CTA.P/C.INTERNET', 'saldo': 1324197.93, 'nota': 'dolor repellendus non aut aliquam maiores'}\n",
      "\n",
      "====================================================================================================\n",
      " Consulta realizada en un tiempo de 0.3712 milisegundos\n",
      "====================================================================================================\n"
     ]
    }
   ],
   "source": [
    "start_date = \"2019-01-31\" \n",
    "end_date = \"2019-12-31\"\n",
    "agencia = \"Cochabamba\"\n",
    "\n",
    "start_time = time.time()\n",
    "results = busqueda_fecha_agencia(start_date, end_date, agencia, coll)\n",
    "end_time = time.time()\n",
    "\n",
    "print(\"=\"*100)\n",
    "\n",
    "for r in results[:10]:\n",
    "    print(r)\n",
    "    print(\"\")\n",
    "\n",
    "print(\"=\"*100)\n",
    "print(f\" Consulta realizada en un tiempo de {round((end_time - start_time)*1000, 4)} milisegundos\")\n",
    "print(\"=\"*100)"
   ]
  },
  {
   "cell_type": "markdown",
   "metadata": {},
   "source": [
    "## Consulta 3: Rango de saldo, dos opciones de agencias y descripción"
   ]
  },
  {
   "cell_type": "markdown",
   "metadata": {},
   "source": [
    "Se realizará una búsqueda sobre los campos saldo, agencia (OR 2 opciones) y descripción. Los parámetros de entrada son un rango de saldos, dos opciones de agencias, y una descripción."
   ]
  },
  {
   "cell_type": "code",
   "execution_count": 270,
   "metadata": {},
   "outputs": [],
   "source": [
    "def busqueda_saldo_agencias_descripcion(saldo_min, saldo_max, agencia1, agencia2, descripcion):\n",
    "    criteria = {\n",
    "        \"$and\": [\n",
    "            {\"$or\":\n",
    "                [\n",
    "                    {\"agencia\": agencia1},\n",
    "                    {\"agencia\": agencia2}\n",
    "                ]\n",
    "                    \n",
    "            },\n",
    "            {\"saldo\":\n",
    "                {\n",
    "                    \"$gte\": saldo_min,\n",
    "                    \"$lte\": saldo_max\n",
    "                }\n",
    "            },\n",
    "            {\"descripcion\":\n",
    "                    descripcion\n",
    "            }\n",
    "        ]}\n",
    "\n",
    "    return coll.find(criteria)"
   ]
  },
  {
   "cell_type": "code",
   "execution_count": 271,
   "metadata": {},
   "outputs": [
    {
     "name": "stdout",
     "output_type": "stream",
     "text": [
      "====================================================================================================\n",
      "{'_id': ObjectId('636db33ddfb1bbbb1b7d41fe'), 'fecha': '1983-06-07 17:48:33', 'agencia': 'Santa Cruz', 'monto': 310835.49, 'descripcion': 'Retiro en efectivo', 'saldo': 8995130.49, 'nota': 'commodi saepe fugiat debitis veniam hic dolores nesciunt'}\n",
      "\n",
      "{'_id': ObjectId('636db33ddfb1bbbb1b7d425f'), 'fecha': '1950-11-02 15:53:33', 'agencia': 'La Paz', 'monto': 74017.15, 'descripcion': 'Retiro en efectivo', 'saldo': 9533088.85, 'nota': 'laborum libero voluptatem eligendi corrupti quod labore atque laboriosam suscipit'}\n",
      "\n",
      "{'_id': ObjectId('636db33ddfb1bbbb1b7d430f'), 'fecha': '1995-12-22 19:08:33', 'agencia': 'La Paz', 'monto': 298367.78, 'descripcion': 'Retiro en efectivo', 'saldo': 4408981.8, 'nota': 'at odit expedita laudantium velit praesentium'}\n",
      "\n",
      "{'_id': ObjectId('636db33ddfb1bbbb1b7d439f'), 'fecha': '1992-10-14 18:10:50', 'agencia': 'Santa Cruz', 'monto': 109711.13, 'descripcion': 'Retiro en efectivo', 'saldo': 5800061.73, 'nota': 'aspernatur'}\n",
      "\n",
      "{'_id': ObjectId('636db33ddfb1bbbb1b7d44a6'), 'fecha': '1986-09-10 08:42:58', 'agencia': 'Santa Cruz', 'monto': 166347.14, 'descripcion': 'Retiro en efectivo', 'saldo': 3814290.17, 'nota': 'aperiam placeat fugit ex officiis minima amet doloremque iusto'}\n",
      "\n",
      "{'_id': ObjectId('636db33ddfb1bbbb1b7d44aa'), 'fecha': '1984-05-21 23:48:38', 'agencia': 'Santa Cruz', 'monto': 222373.33, 'descripcion': 'Retiro en efectivo', 'saldo': 4525272.74, 'nota': 'eligendi esse voluptatibus'}\n",
      "\n",
      "{'_id': ObjectId('636db33ddfb1bbbb1b7d44dc'), 'fecha': '2005-02-20 05:03:29', 'agencia': 'La Paz', 'monto': 63034.27, 'descripcion': 'Retiro en efectivo', 'saldo': 1027359.46, 'nota': 'fugit'}\n",
      "\n",
      "{'_id': ObjectId('636db33ddfb1bbbb1b7d4668'), 'fecha': '1966-01-30 00:22:43', 'agencia': 'La Paz', 'monto': 306101.64, 'descripcion': 'Retiro en efectivo', 'saldo': 7153563.3, 'nota': 'itaque nulla hic saepe'}\n",
      "\n",
      "{'_id': ObjectId('636db33ddfb1bbbb1b7d470e'), 'fecha': '1989-03-03 18:59:59', 'agencia': 'Santa Cruz', 'monto': 124728.46, 'descripcion': 'Retiro en efectivo', 'saldo': 8314350.91, 'nota': 'voluptatem quas fugit omnis minus'}\n",
      "\n",
      "{'_id': ObjectId('636db33ddfb1bbbb1b7d4743'), 'fecha': '1977-04-03 23:37:39', 'agencia': 'La Paz', 'monto': 295277.2, 'descripcion': 'Retiro en efectivo', 'saldo': 6524128.2, 'nota': 'sed enim voluptatem veritatis reiciendis labore delectus optio'}\n",
      "\n",
      "====================================================================================================\n",
      " Consulta realizada en un tiempo de 0.1886 milisegundos\n",
      "====================================================================================================\n"
     ]
    }
   ],
   "source": [
    "saldo_min = 162342\n",
    "saldo_max = 382304513\n",
    "agencia1 = \"La Paz\"\n",
    "agencia2 = \"Santa Cruz\"\n",
    "descripcion = \"Retiro en efectivo\"\n",
    "\n",
    "start_time = time.time()\n",
    "results = busqueda_saldo_agencias_descripcion(saldo_min, saldo_max, agencia1, agencia2, descripcion)\n",
    "end_time = time.time()\n",
    "\n",
    "print(\"=\"*100)\n",
    "\n",
    "for r in results[:10]:\n",
    "    print(r)\n",
    "    print(\"\")\n",
    "\n",
    "print(\"=\"*100)\n",
    "print(f\" Consulta realizada en un tiempo de {round((end_time - start_time)*1000, 4)} milisegundos\")\n",
    "print(\"=\"*100)"
   ]
  },
  {
   "cell_type": "markdown",
   "metadata": {},
   "source": [
    "## Agregación 1: Suma de saldos de una agencia"
   ]
  },
  {
   "cell_type": "markdown",
   "metadata": {},
   "source": [
    "Se calculará la suma de los saldos de los datos agrupados de una agencia en específico."
   ]
  },
  {
   "cell_type": "code",
   "execution_count": 272,
   "metadata": {},
   "outputs": [],
   "source": [
    "def suma_saldo_agencia(agencia):\n",
    "\n",
    "    criteria = [\n",
    "        {\n",
    "        \"$group\" : \n",
    "            {\n",
    "                \"_id\":\n",
    "                {\n",
    "                    \"agencia\": agencia\n",
    "                },  \n",
    "                \"suma\":\n",
    "                {\n",
    "                    \"$sum\" : \"$saldo\"\n",
    "                }\n",
    "            }\n",
    "        }\n",
    "     ]\n",
    "\n",
    "    return coll.aggregate(criteria)"
   ]
  },
  {
   "cell_type": "code",
   "execution_count": 273,
   "metadata": {},
   "outputs": [
    {
     "name": "stdout",
     "output_type": "stream",
     "text": [
      "====================================================================================================\n",
      "{'_id': {'agencia': 'Beni'}, 'suma': 5005602059074.02}\n",
      "\n",
      "====================================================================================================\n",
      " Consulta realizada en un tiempo de 0:00:03.087911\n",
      "====================================================================================================\n"
     ]
    }
   ],
   "source": [
    "agencia = \"Beni\"\n",
    "\n",
    "start_time = time.time()\n",
    "results = suma_saldo_agencia(agencia)\n",
    "end_time = time.time()\n",
    "\n",
    "print(\"=\"*100)\n",
    "\n",
    "for r in results:\n",
    "    print(r)\n",
    "    print(\"\")\n",
    "\n",
    "print(\"=\"*100)\n",
    "print(f\" Consulta realizada en un tiempo de {str(timedelta(seconds = (end_time - start_time)))}\")\n",
    "print(\"=\"*100)"
   ]
  },
  {
   "cell_type": "markdown",
   "metadata": {},
   "source": [
    "## Agregación 2: Promedio de montos por descripción"
   ]
  },
  {
   "cell_type": "code",
   "execution_count": 6,
   "metadata": {},
   "outputs": [],
   "source": [
    "def promedio_montos_agencia():\n",
    "\n",
    "    aggregation = [\n",
    "        {\n",
    "            \"$group\" : \n",
    "                {\n",
    "                    \"_id\": \"$agencia\", \n",
    "                    \"Promedio de montos\":\n",
    "                    {\n",
    "                        \"$avg\" : \"$saldo\"\n",
    "                    }\n",
    "                }\n",
    "        },\n",
    "        {\n",
    "            \"$sort\" : {\"Suma de montos\": -1}\n",
    "        },\n",
    "        {\n",
    "            \"$limit\": 5\n",
    "        }\n",
    "     ]\n",
    "\n",
    "    return coll.aggregate(aggregation)"
   ]
  },
  {
   "cell_type": "code",
   "execution_count": 7,
   "metadata": {},
   "outputs": [
    {
     "name": "stdout",
     "output_type": "stream",
     "text": [
      "====================================================================================================\n",
      "{'_id': 'Oruro', 'Promedio de montos': 5005883.093573329}\n",
      "\n",
      "{'_id': 'Santa Cruz', 'Promedio de montos': 4996247.226858266}\n",
      "\n",
      "{'_id': 'Cochabamba', 'Promedio de montos': 5016002.851214867}\n",
      "\n",
      "{'_id': 'La Paz', 'Promedio de montos': 4997975.865542692}\n",
      "\n",
      "{'_id': 'Tarija', 'Promedio de montos': 4999937.056731841}\n",
      "\n",
      "====================================================================================================\n",
      " Consulta realizada en un tiempo de 0:00:01.148753\n",
      "====================================================================================================\n"
     ]
    }
   ],
   "source": [
    "start_time = time.time()\n",
    "results = promedio_montos_agencia()\n",
    "end_time = time.time()\n",
    "\n",
    "print(\"=\"*100)\n",
    "\n",
    "for r in results:\n",
    "    print(r)\n",
    "    print(\"\")\n",
    "\n",
    "print(\"=\"*100)\n",
    "print(f\" Consulta realizada en un tiempo de {str(timedelta(seconds = (end_time - start_time)))}\")\n",
    "print(\"=\"*100)"
   ]
  },
  {
   "cell_type": "markdown",
   "metadata": {},
   "source": [
    "| Tabla resumen de resultados | Valor obtenido |\n",
    "|-----------------------------|----------------|\n",
    "| Tiempo consulta 1           | 0.1731 ms      |\n",
    "| Tiempo consulta 2           | 0.3712 ms      |\n",
    "| Tiempo consulta 3           | 0.1886 ms      |\n",
    "| Tiempo agregación 1         | 3.0879 s       |\n",
    "| Tiempo agregación 2         | 1.1487 s       |"
   ]
  },
  {
   "cell_type": "markdown",
   "metadata": {},
   "source": [
    "# Consultas a la base de datos con 10 millones de registros y todos los campos indexados"
   ]
  },
  {
   "cell_type": "markdown",
   "metadata": {},
   "source": [
    "En esta sección se revisará la operación de búsqueda para la colección de 10 millones de documentos indexados"
   ]
  },
  {
   "cell_type": "code",
   "execution_count": 3,
   "metadata": {},
   "outputs": [
    {
     "data": {
      "text/plain": [
       "{'_id_': {'v': 2, 'key': [('_id', 1)]},\n",
       " 'fecha_1': {'v': 2, 'key': [('fecha', 1)]},\n",
       " 'agencia_1': {'v': 2, 'key': [('agencia', 1)]},\n",
       " 'monto_1': {'v': 2, 'key': [('monto', 1)]},\n",
       " 'saldo_1': {'v': 2, 'key': [('saldo', 1)]},\n",
       " 'descripcion_1': {'v': 2, 'key': [('descripcion', 1)]},\n",
       " 'nota_1': {'v': 2, 'key': [('nota', 1)]}}"
      ]
     },
     "execution_count": 3,
     "metadata": {},
     "output_type": "execute_result"
    }
   ],
   "source": [
    "coll = db[\"extracto_cuenta_10m2\"]\n",
    "coll.index_information()"
   ]
  },
  {
   "cell_type": "markdown",
   "metadata": {},
   "source": [
    "## Consulta 1: Todos los datos"
   ]
  },
  {
   "cell_type": "markdown",
   "metadata": {},
   "source": [
    "Se realizará una búsqueda sobre todos los campos en la collección"
   ]
  },
  {
   "cell_type": "code",
   "execution_count": 277,
   "metadata": {},
   "outputs": [
    {
     "name": "stdout",
     "output_type": "stream",
     "text": [
      "====================================================================================================\n",
      "{'_id': ObjectId('636dafcedfb1bba8ecc7b225'), 'fecha': '1956-04-20 13:40:08', 'agencia': 'Cochabamba', 'monto': 28791.8, 'descripcion': 'Pago de cheque compensado', 'saldo': 3922743.44, 'nota': 'aspernatur soluta earum totam consectetur culpa atque nobis dolor assumenda quaerat'}\n",
      "\n",
      "{'_id': ObjectId('636dafcedfb1bba8ecc7b226'), 'fecha': '1995-02-16 01:20:10', 'agencia': 'Chuquisaca', 'monto': 298799.98, 'descripcion': 'Ingreso en efectivo', 'saldo': 411060.2, 'nota': 'facilis assumenda voluptate illo exercitationem repudiandae at officiis laboriosam quia aliquid adipisci'}\n",
      "\n",
      "{'_id': ObjectId('636dafcedfb1bba8ecc7b227'), 'fecha': '1956-09-04 21:08:47', 'agencia': 'Beni', 'monto': 92841.99, 'descripcion': 'Pago de nómina', 'saldo': 3349136.75, 'nota': 'iusto commodi ducimus aliquam'}\n",
      "\n",
      "{'_id': ObjectId('636dafcedfb1bba8ecc7b228'), 'fecha': '2003-11-11 15:10:18', 'agencia': 'Santa Cruz', 'monto': 79639.42, 'descripcion': 'Cobro seguro', 'saldo': 6523331.21, 'nota': 'aperiam a architecto eligendi nam saepe perferendis dolorum'}\n",
      "\n",
      "{'_id': ObjectId('636dafcedfb1bba8ecc7b229'), 'fecha': '1983-06-07 17:48:33', 'agencia': 'Santa Cruz', 'monto': 310835.49, 'descripcion': 'Retiro en efectivo', 'saldo': 8995130.49, 'nota': 'commodi saepe fugiat debitis veniam hic dolores nesciunt'}\n",
      "\n",
      "{'_id': ObjectId('636dafcedfb1bba8ecc7b22a'), 'fecha': '1996-04-20 21:43:23', 'agencia': 'Oruro', 'monto': 280829.89, 'descripcion': 'Pago en línea - Servicio de internet', 'saldo': 5027086.25, 'nota': 'recusandae expedita optio deleniti assumenda corporis facilis quo error quidem perferendis'}\n",
      "\n",
      "{'_id': ObjectId('636dafcedfb1bba8ecc7b22b'), 'fecha': '1954-07-01 13:25:24', 'agencia': 'Beni', 'monto': 156471.92, 'descripcion': 'Retención IVA', 'saldo': 4839090.36, 'nota': 'harum aspernatur eligendi cumque deserunt velit explicabo esse'}\n",
      "\n",
      "{'_id': ObjectId('636dafcedfb1bba8ecc7b22c'), 'fecha': '2020-05-12 16:38:04', 'agencia': 'Tarija', 'monto': 126941.7, 'descripcion': 'Retención IVA', 'saldo': 9103704.71, 'nota': 'id quaerat'}\n",
      "\n",
      "{'_id': ObjectId('636dafcedfb1bba8ecc7b22d'), 'fecha': '1952-05-27 14:38:53', 'agencia': 'Oruro', 'monto': 298866.58, 'descripcion': 'Cobro seguro', 'saldo': 2023462.97, 'nota': 'facere rerum exercitationem quisquam assumenda'}\n",
      "\n",
      "{'_id': ObjectId('636dafcedfb1bba8ecc7b22e'), 'fecha': '2018-12-18 22:11:13', 'agencia': 'Santa Cruz', 'monto': 2262.59, 'descripcion': 'Reintegro cajero automático', 'saldo': 1166753.44, 'nota': 'corporis nemo earum quia odio'}\n",
      "\n",
      "====================================================================================================\n",
      " Consulta realizada en un tiempo de 0.1621 milisegundos\n",
      "====================================================================================================\n"
     ]
    }
   ],
   "source": [
    "start_time = time.time()\n",
    "results = coll.find({})\n",
    "end_time = time.time()\n",
    "\n",
    "print(\"=\"*100)\n",
    "\n",
    "for r in results[:10]:\n",
    "    print(r)\n",
    "    print(\"\")\n",
    "\n",
    "print(\"=\"*100)\n",
    "print(f\" Consulta realizada en un tiempo de {round((end_time - start_time)*1000, 4)} milisegundos\")\n",
    "print(\"=\"*100)"
   ]
  },
  {
   "cell_type": "markdown",
   "metadata": {},
   "source": [
    "## Consulta 2: Fecha y agencia"
   ]
  },
  {
   "cell_type": "markdown",
   "metadata": {},
   "source": [
    "Se realizará una búsqueda sobre los campos fecha y agencia. Siendo los parámetros de entrada una fecha inicial, una fecha final y una agencia."
   ]
  },
  {
   "cell_type": "code",
   "execution_count": 278,
   "metadata": {},
   "outputs": [
    {
     "name": "stdout",
     "output_type": "stream",
     "text": [
      "====================================================================================================\n",
      "{'_id': ObjectId('636db05ddfb1bba8ec2a31e5'), 'fecha': '2019-01-31 00:18:50', 'agencia': 'Cochabamba', 'monto': 77775.17, 'descripcion': 'Pago recibo de gas', 'saldo': 9791669.21, 'nota': 'corporis quos omnis aut cumque est natus culpa libero recusandae accusantium'}\n",
      "\n",
      "{'_id': ObjectId('636daffcdfb1bba8ece9603e'), 'fecha': '2019-01-31 00:48:17', 'agencia': 'Cochabamba', 'monto': 310299.88, 'descripcion': 'Reintegro cajero automático', 'saldo': 597145.53, 'nota': 'dolor animi error quia officia'}\n",
      "\n",
      "{'_id': ObjectId('636db092dfb1bba8ec4d79fe'), 'fecha': '2019-01-31 00:54:46', 'agencia': 'Cochabamba', 'monto': 125951.39, 'descripcion': 'Compra en comercio', 'saldo': 3481199.55, 'nota': 'odit corporis adipisci dolorem sapiente facilis sit sequi dicta ullam provident deleniti'}\n",
      "\n",
      "{'_id': ObjectId('636db02edfb1bba8ec0d787b'), 'fecha': '2019-01-31 01:05:48', 'agencia': 'Cochabamba', 'monto': 51541.02, 'descripcion': 'Capitalización de intereses premio', 'saldo': 5292368.52, 'nota': 'ullam id provident earum iusto exercitationem voluptatem rem nobis sunt'}\n",
      "\n",
      "{'_id': ObjectId('636db090dfb1bba8ec497433'), 'fecha': '2019-01-31 01:20:05', 'agencia': 'Cochabamba', 'monto': 351280.81, 'descripcion': 'Capitalización de intereses premio', 'saldo': 1698992.16, 'nota': 'reprehenderit placeat illum obcaecati impedit perferendis cum maiores libero corporis dolorum consequuntur officiis'}\n",
      "\n",
      "{'_id': ObjectId('636daffbdfb1bba8ece7521a'), 'fecha': '2019-01-31 03:24:47', 'agencia': 'Cochabamba', 'monto': 30473.67, 'descripcion': 'Pago en interés', 'saldo': 7913719.09, 'nota': 'dolores repellat ipsum perspiciatis eius fugiat qui hic delectus voluptatum'}\n",
      "\n",
      "{'_id': ObjectId('636db047dfb1bba8ec197f33'), 'fecha': '2019-01-31 03:40:34', 'agencia': 'Cochabamba', 'monto': 281532.31, 'descripcion': 'Ingreso en efectivo', 'saldo': 7815609.56, 'nota': 'non veritatis vero animi'}\n",
      "\n",
      "{'_id': ObjectId('636dafd4dfb1bba8ecd643a4'), 'fecha': '2019-01-31 03:44:08', 'agencia': 'Cochabamba', 'monto': 37969.85, 'descripcion': 'Pago de cheque compensado', 'saldo': 4372410.9, 'nota': 'aspernatur unde'}\n",
      "\n",
      "{'_id': ObjectId('636db048dfb1bba8ec1b2f17'), 'fecha': '2019-01-31 04:14:20', 'agencia': 'Cochabamba', 'monto': 23213.04, 'descripcion': 'Consignación en efectivo', 'saldo': 6380082.93, 'nota': 'error libero distinctio'}\n",
      "\n",
      "{'_id': ObjectId('636dafcedfb1bba8ecc81d89'), 'fecha': '2019-01-31 04:23:01', 'agencia': 'Cochabamba', 'monto': 61430.41, 'descripcion': 'Consignación en efectivo', 'saldo': 4018354.02, 'nota': 'voluptate suscipit aliquid repellendus corrupti exercitationem iste'}\n",
      "\n",
      "====================================================================================================\n",
      " Consulta realizada en un tiempo de 0.3347 milisegundos\n",
      "====================================================================================================\n"
     ]
    }
   ],
   "source": [
    "start_date = \"2019-01-31\" \n",
    "end_date = \"2019-12-31\"\n",
    "agencia = \"Cochabamba\"\n",
    "\n",
    "start_time = time.time()\n",
    "results = busqueda_fecha_agencia(start_date, end_date, agencia, coll)\n",
    "end_time = time.time()\n",
    "\n",
    "print(\"=\"*100)\n",
    "\n",
    "for r in results[:10]:\n",
    "    print(r)\n",
    "    print(\"\")\n",
    "\n",
    "print(\"=\"*100)\n",
    "print(f\" Consulta realizada en un tiempo de {round((end_time - start_time)*1000, 4)} milisegundos\")\n",
    "print(\"=\"*100)"
   ]
  },
  {
   "cell_type": "markdown",
   "metadata": {},
   "source": [
    "## Consulta 3: Rango de saldo, dos opciones de agencias y descripción"
   ]
  },
  {
   "cell_type": "markdown",
   "metadata": {},
   "source": [
    "Se realizará una búsqueda sobre los campos saldo, agencia (OR 2 opciones) y descripción. Los parámetros de entrada son un rango de saldos, dos opciones de agencias, y una descripción."
   ]
  },
  {
   "cell_type": "code",
   "execution_count": 279,
   "metadata": {},
   "outputs": [
    {
     "name": "stdout",
     "output_type": "stream",
     "text": [
      "====================================================================================================\n",
      "{'_id': ObjectId('636dafcedfb1bba8ecc7b229'), 'fecha': '1983-06-07 17:48:33', 'agencia': 'Santa Cruz', 'monto': 310835.49, 'descripcion': 'Retiro en efectivo', 'saldo': 8995130.49, 'nota': 'commodi saepe fugiat debitis veniam hic dolores nesciunt'}\n",
      "\n",
      "{'_id': ObjectId('636dafcedfb1bba8ecc7b28a'), 'fecha': '1950-11-02 15:53:33', 'agencia': 'La Paz', 'monto': 74017.15, 'descripcion': 'Retiro en efectivo', 'saldo': 9533088.85, 'nota': 'laborum libero voluptatem eligendi corrupti quod labore atque laboriosam suscipit'}\n",
      "\n",
      "{'_id': ObjectId('636dafcedfb1bba8ecc7b33a'), 'fecha': '1995-12-22 19:08:33', 'agencia': 'La Paz', 'monto': 298367.78, 'descripcion': 'Retiro en efectivo', 'saldo': 4408981.8, 'nota': 'at odit expedita laudantium velit praesentium'}\n",
      "\n",
      "{'_id': ObjectId('636dafcedfb1bba8ecc7b3ca'), 'fecha': '1992-10-14 18:10:50', 'agencia': 'Santa Cruz', 'monto': 109711.13, 'descripcion': 'Retiro en efectivo', 'saldo': 5800061.73, 'nota': 'aspernatur'}\n",
      "\n",
      "{'_id': ObjectId('636dafcedfb1bba8ecc7b4d1'), 'fecha': '1986-09-10 08:42:58', 'agencia': 'Santa Cruz', 'monto': 166347.14, 'descripcion': 'Retiro en efectivo', 'saldo': 3814290.17, 'nota': 'aperiam placeat fugit ex officiis minima amet doloremque iusto'}\n",
      "\n",
      "{'_id': ObjectId('636dafcedfb1bba8ecc7b4d5'), 'fecha': '1984-05-21 23:48:38', 'agencia': 'Santa Cruz', 'monto': 222373.33, 'descripcion': 'Retiro en efectivo', 'saldo': 4525272.74, 'nota': 'eligendi esse voluptatibus'}\n",
      "\n",
      "{'_id': ObjectId('636dafcedfb1bba8ecc7b507'), 'fecha': '2005-02-20 05:03:29', 'agencia': 'La Paz', 'monto': 63034.27, 'descripcion': 'Retiro en efectivo', 'saldo': 1027359.46, 'nota': 'fugit'}\n",
      "\n",
      "{'_id': ObjectId('636dafcedfb1bba8ecc7b693'), 'fecha': '1966-01-30 00:22:43', 'agencia': 'La Paz', 'monto': 306101.64, 'descripcion': 'Retiro en efectivo', 'saldo': 7153563.3, 'nota': 'itaque nulla hic saepe'}\n",
      "\n",
      "{'_id': ObjectId('636dafcedfb1bba8ecc7b739'), 'fecha': '1989-03-03 18:59:59', 'agencia': 'Santa Cruz', 'monto': 124728.46, 'descripcion': 'Retiro en efectivo', 'saldo': 8314350.91, 'nota': 'voluptatem quas fugit omnis minus'}\n",
      "\n",
      "{'_id': ObjectId('636dafcedfb1bba8ecc7b76e'), 'fecha': '1977-04-03 23:37:39', 'agencia': 'La Paz', 'monto': 295277.2, 'descripcion': 'Retiro en efectivo', 'saldo': 6524128.2, 'nota': 'sed enim voluptatem veritatis reiciendis labore delectus optio'}\n",
      "\n",
      "====================================================================================================\n",
      " Consulta realizada en un tiempo de 0.1764 milisegundos\n",
      "====================================================================================================\n"
     ]
    }
   ],
   "source": [
    "saldo_min = 162342\n",
    "saldo_max = 382304513\n",
    "agencia1 = \"La Paz\"\n",
    "agencia2 = \"Santa Cruz\"\n",
    "descripcion = \"Retiro en efectivo\"\n",
    "\n",
    "start_time = time.time()\n",
    "results = busqueda_saldo_agencias_descripcion(saldo_min, saldo_max, agencia1, agencia2, descripcion)\n",
    "end_time = time.time()\n",
    "\n",
    "print(\"=\"*100)\n",
    "\n",
    "for r in results[:10]:\n",
    "    print(r)\n",
    "    print(\"\")\n",
    "\n",
    "print(\"=\"*100)\n",
    "print(f\" Consulta realizada en un tiempo de {round((end_time - start_time)*1000, 4)} milisegundos\")\n",
    "print(\"=\"*100)"
   ]
  },
  {
   "cell_type": "markdown",
   "metadata": {},
   "source": [
    "## Agregación 1: Suma de saldos de una agencia"
   ]
  },
  {
   "cell_type": "code",
   "execution_count": 282,
   "metadata": {},
   "outputs": [
    {
     "name": "stdout",
     "output_type": "stream",
     "text": [
      "====================================================================================================\n",
      "{'_id': {'agencia': 'Beni'}, 'suma': 49995171479223.2}\n",
      "\n",
      "====================================================================================================\n",
      " Consulta realizada en un tiempo de 0:00:11.997082\n",
      "====================================================================================================\n"
     ]
    }
   ],
   "source": [
    "agencia = \"Beni\"\n",
    "\n",
    "start_time = time.time()\n",
    "results = suma_saldo_agencia(agencia, coll)\n",
    "end_time = time.time()\n",
    "\n",
    "print(\"=\"*100)\n",
    "\n",
    "for r in results:\n",
    "    print(r)\n",
    "    print(\"\")\n",
    "\n",
    "print(\"=\"*100)\n",
    "print(f\" Consulta realizada en un tiempo de {str(timedelta(seconds = (end_time - start_time)))}\")\n",
    "print(\"=\"*100)"
   ]
  },
  {
   "cell_type": "markdown",
   "metadata": {},
   "source": [
    "## Agregación 2: Promedio de montos por agencia"
   ]
  },
  {
   "cell_type": "code",
   "execution_count": 16,
   "metadata": {},
   "outputs": [
    {
     "name": "stdout",
     "output_type": "stream",
     "text": [
      "====================================================================================================\n",
      "{'_id': 'Tarija', 'Promedio de montos': 4996711.953560543}\n",
      "\n",
      "{'_id': 'Beni', 'Promedio de montos': 5004452.928049985}\n",
      "\n",
      "{'_id': 'Santa Cruz', 'Promedio de montos': 4996610.398056968}\n",
      "\n",
      "{'_id': 'Oruro', 'Promedio de montos': 4997994.325706912}\n",
      "\n",
      "{'_id': 'Pando', 'Promedio de montos': 4995192.7123481585}\n",
      "\n",
      "====================================================================================================\n",
      " Consulta realizada en un tiempo de 0:00:29.414090\n",
      "====================================================================================================\n"
     ]
    }
   ],
   "source": [
    "start_time = time.time()\n",
    "results = promedio_montos_agencia()\n",
    "end_time = time.time()\n",
    "\n",
    "print(\"=\"*100)\n",
    "\n",
    "for r in results:\n",
    "    print(r)\n",
    "    print(\"\")\n",
    "\n",
    "print(\"=\"*100)\n",
    "print(f\" Consulta realizada en un tiempo de {str(timedelta(seconds = (end_time - start_time)))}\")\n",
    "print(\"=\"*100)"
   ]
  },
  {
   "cell_type": "markdown",
   "metadata": {},
   "source": [
    "| Tabla resumen de resultados | Valor obtenido |\n",
    "|-----------------------------|----------------|\n",
    "| Tiempo consulta 1           | 0.1621 ms      |\n",
    "| Tiempo consulta 2           | 0.3347 ms      |\n",
    "| Tiempo consulta 3           | 0.1764 ms      |\n",
    "| Tiempo agregación 1         | 11.9971 s      |\n",
    "| Tiempo agregación 2         | 29.4141 s      |"
   ]
  },
  {
   "cell_type": "markdown",
   "metadata": {},
   "source": [
    "# Consultas a la base de datos con 30 millones de registros y todos los campos indexados"
   ]
  },
  {
   "cell_type": "markdown",
   "metadata": {},
   "source": [
    "En esta sección se revisará la operación de búsqueda para la colección de 30 millones de documentos indexados"
   ]
  },
  {
   "cell_type": "code",
   "execution_count": 4,
   "metadata": {},
   "outputs": [
    {
     "data": {
      "text/plain": [
       "{'_id_': {'v': 2, 'key': [('_id', 1)]},\n",
       " 'fecha_1': {'v': 2, 'key': [('fecha', 1)]},\n",
       " 'agencia_1': {'v': 2, 'key': [('agencia', 1)]},\n",
       " 'monto_1': {'v': 2, 'key': [('monto', 1)]},\n",
       " 'saldo_1': {'v': 2, 'key': [('saldo', 1)]},\n",
       " 'descripcion_1': {'v': 2, 'key': [('descripcion', 1)]},\n",
       " 'nota_1': {'v': 2, 'key': [('nota', 1)]}}"
      ]
     },
     "execution_count": 4,
     "metadata": {},
     "output_type": "execute_result"
    }
   ],
   "source": [
    "coll = db[\"extracto_cuenta_30m\"]\n",
    "coll.index_information()"
   ]
  },
  {
   "cell_type": "markdown",
   "metadata": {},
   "source": [
    "## Consulta 1: Todos los datos"
   ]
  },
  {
   "cell_type": "markdown",
   "metadata": {},
   "source": [
    "Se realizará una búsqueda sobre todos los campos en la collección"
   ]
  },
  {
   "cell_type": "code",
   "execution_count": 285,
   "metadata": {},
   "outputs": [
    {
     "name": "stdout",
     "output_type": "stream",
     "text": [
      "====================================================================================================\n",
      "{'_id': ObjectId('636d3f10dfb1bb4dd6b9d01d'), 'fecha': '1956-04-20 13:40:08', 'agencia': 'Cochabamba', 'monto': 28791.8, 'descripcion': 'Pago de cheque compensado', 'saldo': 3922743.44, 'nota': 'aspernatur soluta earum totam consectetur culpa atque nobis dolor assumenda quaerat'}\n",
      "\n",
      "{'_id': ObjectId('636d3f10dfb1bb4dd6b9d01e'), 'fecha': '1995-02-16 01:20:10', 'agencia': 'Chuquisaca', 'monto': 298799.98, 'descripcion': 'Ingreso en efectivo', 'saldo': 411060.2, 'nota': 'facilis assumenda voluptate illo exercitationem repudiandae at officiis laboriosam quia aliquid adipisci'}\n",
      "\n",
      "{'_id': ObjectId('636d3f10dfb1bb4dd6b9d01f'), 'fecha': '1956-09-04 21:08:47', 'agencia': 'Beni', 'monto': 92841.99, 'descripcion': 'Pago de nómina', 'saldo': 3349136.75, 'nota': 'iusto commodi ducimus aliquam'}\n",
      "\n",
      "{'_id': ObjectId('636d3f10dfb1bb4dd6b9d020'), 'fecha': '2003-11-11 15:10:18', 'agencia': 'Santa Cruz', 'monto': 79639.42, 'descripcion': 'Cobro seguro', 'saldo': 6523331.21, 'nota': 'aperiam a architecto eligendi nam saepe perferendis dolorum'}\n",
      "\n",
      "{'_id': ObjectId('636d3f10dfb1bb4dd6b9d021'), 'fecha': '1983-06-07 17:48:33', 'agencia': 'Santa Cruz', 'monto': 310835.49, 'descripcion': 'Retiro en efectivo', 'saldo': 8995130.49, 'nota': 'commodi saepe fugiat debitis veniam hic dolores nesciunt'}\n",
      "\n",
      "{'_id': ObjectId('636d3f10dfb1bb4dd6b9d022'), 'fecha': '1996-04-20 21:43:23', 'agencia': 'Oruro', 'monto': 280829.89, 'descripcion': 'Pago en línea - Servicio de internet', 'saldo': 5027086.25, 'nota': 'recusandae expedita optio deleniti assumenda corporis facilis quo error quidem perferendis'}\n",
      "\n",
      "{'_id': ObjectId('636d3f10dfb1bb4dd6b9d023'), 'fecha': '1954-07-01 13:25:24', 'agencia': 'Beni', 'monto': 156471.92, 'descripcion': 'Retención IVA', 'saldo': 4839090.36, 'nota': 'harum aspernatur eligendi cumque deserunt velit explicabo esse'}\n",
      "\n",
      "{'_id': ObjectId('636d3f10dfb1bb4dd6b9d024'), 'fecha': '2020-05-12 16:38:04', 'agencia': 'Tarija', 'monto': 126941.7, 'descripcion': 'Retención IVA', 'saldo': 9103704.71, 'nota': 'id quaerat'}\n",
      "\n",
      "{'_id': ObjectId('636d3f10dfb1bb4dd6b9d025'), 'fecha': '1952-05-27 14:38:53', 'agencia': 'Oruro', 'monto': 298866.58, 'descripcion': 'Cobro seguro', 'saldo': 2023462.97, 'nota': 'facere rerum exercitationem quisquam assumenda'}\n",
      "\n",
      "{'_id': ObjectId('636d3f10dfb1bb4dd6b9d026'), 'fecha': '2018-12-18 22:11:13', 'agencia': 'Santa Cruz', 'monto': 2262.59, 'descripcion': 'Reintegro cajero automático', 'saldo': 1166753.44, 'nota': 'corporis nemo earum quia odio'}\n",
      "\n",
      "====================================================================================================\n",
      " Consulta realizada en un tiempo de 0.1769 milisegundos\n",
      "====================================================================================================\n"
     ]
    }
   ],
   "source": [
    "start_time = time.time()\n",
    "results = coll.find({})\n",
    "end_time = time.time()\n",
    "\n",
    "print(\"=\"*100)\n",
    "\n",
    "for r in results[:10]:\n",
    "    print(r)\n",
    "    print(\"\")\n",
    "\n",
    "print(\"=\"*100)\n",
    "print(f\" Consulta realizada en un tiempo de {round((end_time - start_time)*1000, 4)} milisegundos\")\n",
    "print(\"=\"*100)"
   ]
  },
  {
   "cell_type": "markdown",
   "metadata": {},
   "source": [
    "## Consulta 2: Fecha y agencia"
   ]
  },
  {
   "cell_type": "markdown",
   "metadata": {},
   "source": [
    "Se realizará una búsqueda sobre los campos fecha y agencia. Siendo los parámetros de entrada una fecha inicial, una fecha final y una agencia."
   ]
  },
  {
   "cell_type": "code",
   "execution_count": 286,
   "metadata": {},
   "outputs": [
    {
     "name": "stdout",
     "output_type": "stream",
     "text": [
      "====================================================================================================\n",
      "{'_id': ObjectId('636d3fa0dfb1bb4dd61c4fdd'), 'fecha': '2019-01-31 00:18:50', 'agencia': 'Cochabamba', 'monto': 77775.17, 'descripcion': 'Pago recibo de gas', 'saldo': 9791669.21, 'nota': 'corporis quos omnis aut cumque est natus culpa libero recusandae accusantium'}\n",
      "\n",
      "{'_id': ObjectId('636d4139dfb1bb4dd62a1831'), 'fecha': '2019-01-31 00:22:35', 'agencia': 'Cochabamba', 'monto': 83669.19, 'descripcion': 'Pago recibo de agua', 'saldo': 1739565.27, 'nota': 'aperiam minus ducimus excepturi earum impedit deleniti laudantium sint id doloribus cum'}\n",
      "\n",
      "{'_id': ObjectId('636d3f49dfb1bb4dd6db7e36'), 'fecha': '2019-01-31 00:48:17', 'agencia': 'Cochabamba', 'monto': 310299.88, 'descripcion': 'Reintegro cajero automático', 'saldo': 597145.53, 'nota': 'dolor animi error quia officia'}\n",
      "\n",
      "{'_id': ObjectId('636d3fd1dfb1bb4dd63f97f6'), 'fecha': '2019-01-31 00:54:46', 'agencia': 'Cochabamba', 'monto': 125951.39, 'descripcion': 'Compra en comercio', 'saldo': 3481199.55, 'nota': 'odit corporis adipisci dolorem sapiente facilis sit sequi dicta ullam provident deleniti'}\n",
      "\n",
      "{'_id': ObjectId('636d3f73dfb1bb4dd6ff9672'), 'fecha': '2019-01-31 01:05:48', 'agencia': 'Cochabamba', 'monto': 51541.02, 'descripcion': 'Capitalización de intereses premio', 'saldo': 5292368.52, 'nota': 'ullam id provident earum iusto exercitationem voluptatem rem nobis sunt'}\n",
      "\n",
      "{'_id': ObjectId('636d3fd0dfb1bb4dd63b922b'), 'fecha': '2019-01-31 01:20:05', 'agencia': 'Cochabamba', 'monto': 351280.81, 'descripcion': 'Capitalización de intereses premio', 'saldo': 1698992.16, 'nota': 'reprehenderit placeat illum obcaecati impedit perferendis cum maiores libero corporis dolorum consequuntur officiis'}\n",
      "\n",
      "{'_id': ObjectId('636d4043dfb1bb4dd68d623b'), 'fecha': '2019-01-31 01:20:58', 'agencia': 'Cochabamba', 'monto': 397128.77, 'descripcion': 'Debito Cta por compra', 'saldo': 426507.65, 'nota': 'quasi illo ratione ducimus rerum modi dolore quod'}\n",
      "\n",
      "{'_id': ObjectId('636d4011dfb1bb4dd661dad3'), 'fecha': '2019-01-31 01:21:08', 'agencia': 'Cochabamba', 'monto': 354948.11, 'descripcion': 'Debito Cta por compra', 'saldo': 1021487.32, 'nota': 'hic reprehenderit velit rerum natus ex consequuntur dolore porro assumenda nobis quae'}\n",
      "\n",
      "{'_id': ObjectId('636d416adfb1bb4dd648795f'), 'fecha': '2019-01-31 01:45:58', 'agencia': 'Cochabamba', 'monto': 24142.33, 'descripcion': 'Transferencia de fondos de ahorros', 'saldo': 6939429.67, 'nota': 'vitae'}\n",
      "\n",
      "{'_id': ObjectId('636d418fdfb1bb4dd663088f'), 'fecha': '2019-01-31 02:21:08', 'agencia': 'Cochabamba', 'monto': 63354.29, 'descripcion': 'Debito Cta por pago de Seguro', 'saldo': 6323155.53, 'nota': 'quam soluta cupiditate itaque omnis'}\n",
      "\n",
      "====================================================================================================\n",
      " Consulta realizada en un tiempo de 1.7519 milisegundos\n",
      "====================================================================================================\n"
     ]
    }
   ],
   "source": [
    "start_date = \"2019-01-31\" \n",
    "end_date = \"2019-12-31\"\n",
    "agencia = \"Cochabamba\"\n",
    "\n",
    "start_time = time.time()\n",
    "results = busqueda_fecha_agencia(start_date, end_date, agencia, coll)\n",
    "end_time = time.time()\n",
    "\n",
    "print(\"=\"*100)\n",
    "\n",
    "for r in results[:10]:\n",
    "    print(r)\n",
    "    print(\"\")\n",
    "\n",
    "print(\"=\"*100)\n",
    "print(f\" Consulta realizada en un tiempo de {round((end_time - start_time)*1000, 4)} milisegundos\")\n",
    "print(\"=\"*100)"
   ]
  },
  {
   "cell_type": "markdown",
   "metadata": {},
   "source": [
    "## Consulta 3: Rango de saldo, dos opciones de agencias y descripción"
   ]
  },
  {
   "cell_type": "markdown",
   "metadata": {},
   "source": [
    "Se realizará una búsqueda sobre los campos saldo, agencia (OR 2 opciones) y descripción. Los parámetros de entrada son un rango de saldos, dos opciones de agencias, y una descripción."
   ]
  },
  {
   "cell_type": "code",
   "execution_count": 287,
   "metadata": {},
   "outputs": [
    {
     "name": "stdout",
     "output_type": "stream",
     "text": [
      "====================================================================================================\n",
      "{'_id': ObjectId('636d3f10dfb1bb4dd6b9d021'), 'fecha': '1983-06-07 17:48:33', 'agencia': 'Santa Cruz', 'monto': 310835.49, 'descripcion': 'Retiro en efectivo', 'saldo': 8995130.49, 'nota': 'commodi saepe fugiat debitis veniam hic dolores nesciunt'}\n",
      "\n",
      "{'_id': ObjectId('636d3f10dfb1bb4dd6b9d082'), 'fecha': '1950-11-02 15:53:33', 'agencia': 'La Paz', 'monto': 74017.15, 'descripcion': 'Retiro en efectivo', 'saldo': 9533088.85, 'nota': 'laborum libero voluptatem eligendi corrupti quod labore atque laboriosam suscipit'}\n",
      "\n",
      "{'_id': ObjectId('636d3f10dfb1bb4dd6b9d132'), 'fecha': '1995-12-22 19:08:33', 'agencia': 'La Paz', 'monto': 298367.78, 'descripcion': 'Retiro en efectivo', 'saldo': 4408981.8, 'nota': 'at odit expedita laudantium velit praesentium'}\n",
      "\n",
      "{'_id': ObjectId('636d3f10dfb1bb4dd6b9d1c2'), 'fecha': '1992-10-14 18:10:50', 'agencia': 'Santa Cruz', 'monto': 109711.13, 'descripcion': 'Retiro en efectivo', 'saldo': 5800061.73, 'nota': 'aspernatur'}\n",
      "\n",
      "{'_id': ObjectId('636d3f10dfb1bb4dd6b9d2c9'), 'fecha': '1986-09-10 08:42:58', 'agencia': 'Santa Cruz', 'monto': 166347.14, 'descripcion': 'Retiro en efectivo', 'saldo': 3814290.17, 'nota': 'aperiam placeat fugit ex officiis minima amet doloremque iusto'}\n",
      "\n",
      "{'_id': ObjectId('636d3f10dfb1bb4dd6b9d2cd'), 'fecha': '1984-05-21 23:48:38', 'agencia': 'Santa Cruz', 'monto': 222373.33, 'descripcion': 'Retiro en efectivo', 'saldo': 4525272.74, 'nota': 'eligendi esse voluptatibus'}\n",
      "\n",
      "{'_id': ObjectId('636d3f10dfb1bb4dd6b9d2ff'), 'fecha': '2005-02-20 05:03:29', 'agencia': 'La Paz', 'monto': 63034.27, 'descripcion': 'Retiro en efectivo', 'saldo': 1027359.46, 'nota': 'fugit'}\n",
      "\n",
      "{'_id': ObjectId('636d3f10dfb1bb4dd6b9d48b'), 'fecha': '1966-01-30 00:22:43', 'agencia': 'La Paz', 'monto': 306101.64, 'descripcion': 'Retiro en efectivo', 'saldo': 7153563.3, 'nota': 'itaque nulla hic saepe'}\n",
      "\n",
      "{'_id': ObjectId('636d3f10dfb1bb4dd6b9d531'), 'fecha': '1989-03-03 18:59:59', 'agencia': 'Santa Cruz', 'monto': 124728.46, 'descripcion': 'Retiro en efectivo', 'saldo': 8314350.91, 'nota': 'voluptatem quas fugit omnis minus'}\n",
      "\n",
      "{'_id': ObjectId('636d3f10dfb1bb4dd6b9d566'), 'fecha': '1977-04-03 23:37:39', 'agencia': 'La Paz', 'monto': 295277.2, 'descripcion': 'Retiro en efectivo', 'saldo': 6524128.2, 'nota': 'sed enim voluptatem veritatis reiciendis labore delectus optio'}\n",
      "\n",
      "====================================================================================================\n",
      " Consulta realizada en un tiempo de 0.2115 milisegundos\n",
      "====================================================================================================\n"
     ]
    }
   ],
   "source": [
    "saldo_min = 162342\n",
    "saldo_max = 382304513\n",
    "agencia1 = \"La Paz\"\n",
    "agencia2 = \"Santa Cruz\"\n",
    "descripcion = \"Retiro en efectivo\"\n",
    "\n",
    "start_time = time.time()\n",
    "results = busqueda_saldo_agencias_descripcion(saldo_min, saldo_max, agencia1, agencia2, descripcion)\n",
    "end_time = time.time()\n",
    "\n",
    "print(\"=\"*100)\n",
    "\n",
    "for r in results[:10]:\n",
    "    print(r)\n",
    "    print(\"\")\n",
    "\n",
    "print(\"=\"*100)\n",
    "print(f\" Consulta realizada en un tiempo de {round((end_time - start_time)*1000, 4)} milisegundos\")\n",
    "print(\"=\"*100)"
   ]
  },
  {
   "cell_type": "markdown",
   "metadata": {},
   "source": [
    "## Agregación 1: Suma de saldos de una agencia"
   ]
  },
  {
   "cell_type": "code",
   "execution_count": 288,
   "metadata": {},
   "outputs": [
    {
     "name": "stdout",
     "output_type": "stream",
     "text": [
      "====================================================================================================\n",
      "{'_id': {'agencia': 'Beni'}, 'suma': 149979123171265.12}\n",
      "\n",
      "====================================================================================================\n",
      " Consulta realizada en un tiempo de 0:11:00.092000\n",
      "====================================================================================================\n"
     ]
    }
   ],
   "source": [
    "agencia = \"Beni\"\n",
    "\n",
    "start_time = time.time()\n",
    "results = suma_saldo_agencia(agencia, coll)\n",
    "end_time = time.time()\n",
    "\n",
    "print(\"=\"*100)\n",
    "\n",
    "for r in results:\n",
    "    print(r)\n",
    "    print(\"\")\n",
    "\n",
    "print(\"=\"*100)\n",
    "print(f\" Consulta realizada en un tiempo de {str(timedelta(seconds = (end_time - start_time)))}\")\n",
    "print(\"=\"*100)"
   ]
  },
  {
   "cell_type": "markdown",
   "metadata": {},
   "source": [
    "## Agregación 2: Promedio de montos por agencia"
   ]
  },
  {
   "cell_type": "code",
   "execution_count": 18,
   "metadata": {},
   "outputs": [
    {
     "name": "stdout",
     "output_type": "stream",
     "text": [
      "====================================================================================================\n",
      "{'_id': 'Santa Cruz', 'Promedio de montos': 4998317.884811896}\n",
      "\n",
      "{'_id': 'Beni', 'Promedio de montos': 5000906.687422729}\n",
      "\n",
      "{'_id': 'Tarija', 'Promedio de montos': 4996939.1596396165}\n",
      "\n",
      "{'_id': 'Cochabamba', 'Promedio de montos': 4999107.784366417}\n",
      "\n",
      "{'_id': 'Oruro', 'Promedio de montos': 4999753.750790663}\n",
      "\n",
      "====================================================================================================\n",
      " Consulta realizada en un tiempo de 0:46:31.060006\n",
      "====================================================================================================\n"
     ]
    }
   ],
   "source": [
    "start_time = time.time()\n",
    "results = promedio_montos_agencia()\n",
    "end_time = time.time()\n",
    "\n",
    "print(\"=\"*100)\n",
    "\n",
    "for r in results:\n",
    "    print(r)\n",
    "    print(\"\")\n",
    "\n",
    "print(\"=\"*100)\n",
    "print(f\" Consulta realizada en un tiempo de {str(timedelta(seconds = (end_time - start_time)))}\")\n",
    "print(\"=\"*100)"
   ]
  },
  {
   "cell_type": "markdown",
   "metadata": {},
   "source": [
    "| Tabla resumen de resultados | Valor obtenido   |\n",
    "|-----------------------------|------------------|\n",
    "| Tiempo consulta 1           | 0.1769 ms        |\n",
    "| Tiempo consulta 2           | 1.7519 ms        |\n",
    "| Tiempo consulta 3           | 0.2115 ms        |\n",
    "| Tiempo agregación 1         | 11 min 0.0920 s  |\n",
    "| Tiempo agregación 2         | 46 min 31.0600 s |"
   ]
  },
  {
   "cell_type": "markdown",
   "metadata": {},
   "source": [
    "# Consultas a la base de datos con 10 millones de registros y 3 campos indexados (fecha, descripcion, nota)"
   ]
  },
  {
   "cell_type": "markdown",
   "metadata": {},
   "source": [
    "En esta sección se revisará la operación de búsqueda para la colección de 10 millones de documentos indexados solamente en 3 campos: fecha, descripcion y nota."
   ]
  },
  {
   "cell_type": "code",
   "execution_count": 5,
   "metadata": {},
   "outputs": [
    {
     "data": {
      "text/plain": [
       "{'_id_': {'v': 2, 'key': [('_id', 1)]},\n",
       " 'fecha_1': {'v': 2, 'key': [('fecha', 1)]},\n",
       " 'descripcion_1': {'v': 2, 'key': [('descripcion', 1)]},\n",
       " 'nota_1': {'v': 2, 'key': [('nota', 1)]}}"
      ]
     },
     "execution_count": 5,
     "metadata": {},
     "output_type": "execute_result"
    }
   ],
   "source": [
    "coll = db[\"extracto_cuenta_10m_3idx\"]\n",
    "coll.index_information()"
   ]
  },
  {
   "cell_type": "markdown",
   "metadata": {},
   "source": [
    "## Consulta 1: Todos los datos"
   ]
  },
  {
   "cell_type": "markdown",
   "metadata": {},
   "source": [
    "Se realizará una búsqueda sobre todos los campos en la collección"
   ]
  },
  {
   "cell_type": "code",
   "execution_count": 291,
   "metadata": {},
   "outputs": [
    {
     "name": "stdout",
     "output_type": "stream",
     "text": [
      "====================================================================================================\n",
      "{'_id': ObjectId('636e82b7dfb1bb5ea6a51a9e'), 'fecha': '1956-04-20 13:40:08', 'agencia': 'Cochabamba', 'monto': 28791.8, 'descripcion': 'Pago de cheque compensado', 'saldo': 3922743.44, 'nota': 'aspernatur soluta earum totam consectetur culpa atque nobis dolor assumenda quaerat'}\n",
      "\n",
      "{'_id': ObjectId('636e82b7dfb1bb5ea6a51a9f'), 'fecha': '1995-02-16 01:20:10', 'agencia': 'Chuquisaca', 'monto': 298799.98, 'descripcion': 'Ingreso en efectivo', 'saldo': 411060.2, 'nota': 'facilis assumenda voluptate illo exercitationem repudiandae at officiis laboriosam quia aliquid adipisci'}\n",
      "\n",
      "{'_id': ObjectId('636e82b7dfb1bb5ea6a51aa0'), 'fecha': '1956-09-04 21:08:47', 'agencia': 'Beni', 'monto': 92841.99, 'descripcion': 'Pago de nómina', 'saldo': 3349136.75, 'nota': 'iusto commodi ducimus aliquam'}\n",
      "\n",
      "{'_id': ObjectId('636e82b7dfb1bb5ea6a51aa1'), 'fecha': '2003-11-11 15:10:18', 'agencia': 'Santa Cruz', 'monto': 79639.42, 'descripcion': 'Cobro seguro', 'saldo': 6523331.21, 'nota': 'aperiam a architecto eligendi nam saepe perferendis dolorum'}\n",
      "\n",
      "{'_id': ObjectId('636e82b7dfb1bb5ea6a51aa2'), 'fecha': '1983-06-07 17:48:33', 'agencia': 'Santa Cruz', 'monto': 310835.49, 'descripcion': 'Retiro en efectivo', 'saldo': 8995130.49, 'nota': 'commodi saepe fugiat debitis veniam hic dolores nesciunt'}\n",
      "\n",
      "{'_id': ObjectId('636e82b7dfb1bb5ea6a51aa3'), 'fecha': '1996-04-20 21:43:23', 'agencia': 'Oruro', 'monto': 280829.89, 'descripcion': 'Pago en línea - Servicio de internet', 'saldo': 5027086.25, 'nota': 'recusandae expedita optio deleniti assumenda corporis facilis quo error quidem perferendis'}\n",
      "\n",
      "{'_id': ObjectId('636e82b7dfb1bb5ea6a51aa4'), 'fecha': '1954-07-01 13:25:24', 'agencia': 'Beni', 'monto': 156471.92, 'descripcion': 'Retención IVA', 'saldo': 4839090.36, 'nota': 'harum aspernatur eligendi cumque deserunt velit explicabo esse'}\n",
      "\n",
      "{'_id': ObjectId('636e82b7dfb1bb5ea6a51aa5'), 'fecha': '2020-05-12 16:38:04', 'agencia': 'Tarija', 'monto': 126941.7, 'descripcion': 'Retención IVA', 'saldo': 9103704.71, 'nota': 'id quaerat'}\n",
      "\n",
      "{'_id': ObjectId('636e82b7dfb1bb5ea6a51aa6'), 'fecha': '1952-05-27 14:38:53', 'agencia': 'Oruro', 'monto': 298866.58, 'descripcion': 'Cobro seguro', 'saldo': 2023462.97, 'nota': 'facere rerum exercitationem quisquam assumenda'}\n",
      "\n",
      "{'_id': ObjectId('636e82b7dfb1bb5ea6a51aa7'), 'fecha': '2018-12-18 22:11:13', 'agencia': 'Santa Cruz', 'monto': 2262.59, 'descripcion': 'Reintegro cajero automático', 'saldo': 1166753.44, 'nota': 'corporis nemo earum quia odio'}\n",
      "\n",
      "====================================================================================================\n",
      " Consulta realizada en un tiempo de 0.5572 milisegundos\n",
      "====================================================================================================\n"
     ]
    }
   ],
   "source": [
    "start_time = time.time()\n",
    "results = coll.find({})\n",
    "end_time = time.time()\n",
    "\n",
    "print(\"=\"*100)\n",
    "\n",
    "for r in results[:10]:\n",
    "    print(r)\n",
    "    print(\"\")\n",
    "\n",
    "print(\"=\"*100)\n",
    "print(f\" Consulta realizada en un tiempo de {round((end_time - start_time)*1000, 4)} milisegundos\")\n",
    "print(\"=\"*100)"
   ]
  },
  {
   "cell_type": "markdown",
   "metadata": {},
   "source": [
    "## Consulta 2: Fecha y agencia"
   ]
  },
  {
   "cell_type": "markdown",
   "metadata": {},
   "source": [
    "Se realizará una búsqueda sobre los campos fecha y agencia. Siendo los parámetros de entrada una fecha inicial, una fecha final y una agencia."
   ]
  },
  {
   "cell_type": "code",
   "execution_count": 292,
   "metadata": {},
   "outputs": [
    {
     "name": "stdout",
     "output_type": "stream",
     "text": [
      "====================================================================================================\n",
      "{'_id': ObjectId('636e8342dfb1bb5ea6079a5e'), 'fecha': '2019-01-31 00:18:50', 'agencia': 'Cochabamba', 'monto': 77775.17, 'descripcion': 'Pago recibo de gas', 'saldo': 9791669.21, 'nota': 'corporis quos omnis aut cumque est natus culpa libero recusandae accusantium'}\n",
      "\n",
      "{'_id': ObjectId('636e82e5dfb1bb5ea6c6c8b7'), 'fecha': '2019-01-31 00:48:17', 'agencia': 'Cochabamba', 'monto': 310299.88, 'descripcion': 'Reintegro cajero automático', 'saldo': 597145.53, 'nota': 'dolor animi error quia officia'}\n",
      "\n",
      "{'_id': ObjectId('636e8377dfb1bb5ea62ae277'), 'fecha': '2019-01-31 00:54:46', 'agencia': 'Cochabamba', 'monto': 125951.39, 'descripcion': 'Compra en comercio', 'saldo': 3481199.55, 'nota': 'odit corporis adipisci dolorem sapiente facilis sit sequi dicta ullam provident deleniti'}\n",
      "\n",
      "{'_id': ObjectId('636e8314dfb1bb5ea6eae0f3'), 'fecha': '2019-01-31 01:05:48', 'agencia': 'Cochabamba', 'monto': 51541.02, 'descripcion': 'Capitalización de intereses premio', 'saldo': 5292368.52, 'nota': 'ullam id provident earum iusto exercitationem voluptatem rem nobis sunt'}\n",
      "\n",
      "{'_id': ObjectId('636e8375dfb1bb5ea626dcac'), 'fecha': '2019-01-31 01:20:05', 'agencia': 'Cochabamba', 'monto': 351280.81, 'descripcion': 'Capitalización de intereses premio', 'saldo': 1698992.16, 'nota': 'reprehenderit placeat illum obcaecati impedit perferendis cum maiores libero corporis dolorum consequuntur officiis'}\n",
      "\n",
      "{'_id': ObjectId('636e82e4dfb1bb5ea6c4ba93'), 'fecha': '2019-01-31 03:24:47', 'agencia': 'Cochabamba', 'monto': 30473.67, 'descripcion': 'Pago en interés', 'saldo': 7913719.09, 'nota': 'dolores repellat ipsum perspiciatis eius fugiat qui hic delectus voluptatum'}\n",
      "\n",
      "{'_id': ObjectId('636e832adfb1bb5ea6f6e7ab'), 'fecha': '2019-01-31 03:40:34', 'agencia': 'Cochabamba', 'monto': 281532.31, 'descripcion': 'Ingreso en efectivo', 'saldo': 7815609.56, 'nota': 'non veritatis vero animi'}\n",
      "\n",
      "{'_id': ObjectId('636e82bcdfb1bb5ea6b3ac1d'), 'fecha': '2019-01-31 03:44:08', 'agencia': 'Cochabamba', 'monto': 37969.85, 'descripcion': 'Pago de cheque compensado', 'saldo': 4372410.9, 'nota': 'aspernatur unde'}\n",
      "\n",
      "{'_id': ObjectId('636e832bdfb1bb5ea6f8978f'), 'fecha': '2019-01-31 04:14:20', 'agencia': 'Cochabamba', 'monto': 23213.04, 'descripcion': 'Consignación en efectivo', 'saldo': 6380082.93, 'nota': 'error libero distinctio'}\n",
      "\n",
      "{'_id': ObjectId('636e82b7dfb1bb5ea6a58602'), 'fecha': '2019-01-31 04:23:01', 'agencia': 'Cochabamba', 'monto': 61430.41, 'descripcion': 'Consignación en efectivo', 'saldo': 4018354.02, 'nota': 'voluptate suscipit aliquid repellendus corrupti exercitationem iste'}\n",
      "\n",
      "====================================================================================================\n",
      " Consulta realizada en un tiempo de 68.6729 milisegundos\n",
      "====================================================================================================\n"
     ]
    }
   ],
   "source": [
    "start_date = \"2019-01-31\" \n",
    "end_date = \"2019-12-31\"\n",
    "agencia = \"Cochabamba\"\n",
    "\n",
    "start_time = time.time()\n",
    "results = busqueda_fecha_agencia(start_date, end_date, agencia, coll)\n",
    "end_time = time.time()\n",
    "\n",
    "print(\"=\"*100)\n",
    "\n",
    "for r in results[:10]:\n",
    "    print(r)\n",
    "    print(\"\")\n",
    "\n",
    "print(\"=\"*100)\n",
    "print(f\" Consulta realizada en un tiempo de {round((end_time - start_time)*1000, 4)} milisegundos\")\n",
    "print(\"=\"*100)"
   ]
  },
  {
   "cell_type": "markdown",
   "metadata": {},
   "source": [
    "## Consulta 3: Rango de saldo, dos opciones de agencias y descripción"
   ]
  },
  {
   "cell_type": "markdown",
   "metadata": {},
   "source": [
    "Se realizará una búsqueda sobre los campos saldo, agencia (OR 2 opciones) y descripción. Los parámetros de entrada son un rango de saldos, dos opciones de agencias, y una descripción."
   ]
  },
  {
   "cell_type": "code",
   "execution_count": 293,
   "metadata": {},
   "outputs": [
    {
     "name": "stdout",
     "output_type": "stream",
     "text": [
      "====================================================================================================\n",
      "{'_id': ObjectId('636e82b7dfb1bb5ea6a51aa2'), 'fecha': '1983-06-07 17:48:33', 'agencia': 'Santa Cruz', 'monto': 310835.49, 'descripcion': 'Retiro en efectivo', 'saldo': 8995130.49, 'nota': 'commodi saepe fugiat debitis veniam hic dolores nesciunt'}\n",
      "\n",
      "{'_id': ObjectId('636e82b7dfb1bb5ea6a51b03'), 'fecha': '1950-11-02 15:53:33', 'agencia': 'La Paz', 'monto': 74017.15, 'descripcion': 'Retiro en efectivo', 'saldo': 9533088.85, 'nota': 'laborum libero voluptatem eligendi corrupti quod labore atque laboriosam suscipit'}\n",
      "\n",
      "{'_id': ObjectId('636e82b7dfb1bb5ea6a51bb3'), 'fecha': '1995-12-22 19:08:33', 'agencia': 'La Paz', 'monto': 298367.78, 'descripcion': 'Retiro en efectivo', 'saldo': 4408981.8, 'nota': 'at odit expedita laudantium velit praesentium'}\n",
      "\n",
      "{'_id': ObjectId('636e82b7dfb1bb5ea6a51c43'), 'fecha': '1992-10-14 18:10:50', 'agencia': 'Santa Cruz', 'monto': 109711.13, 'descripcion': 'Retiro en efectivo', 'saldo': 5800061.73, 'nota': 'aspernatur'}\n",
      "\n",
      "{'_id': ObjectId('636e82b7dfb1bb5ea6a51d4a'), 'fecha': '1986-09-10 08:42:58', 'agencia': 'Santa Cruz', 'monto': 166347.14, 'descripcion': 'Retiro en efectivo', 'saldo': 3814290.17, 'nota': 'aperiam placeat fugit ex officiis minima amet doloremque iusto'}\n",
      "\n",
      "{'_id': ObjectId('636e82b7dfb1bb5ea6a51d4e'), 'fecha': '1984-05-21 23:48:38', 'agencia': 'Santa Cruz', 'monto': 222373.33, 'descripcion': 'Retiro en efectivo', 'saldo': 4525272.74, 'nota': 'eligendi esse voluptatibus'}\n",
      "\n",
      "{'_id': ObjectId('636e82b7dfb1bb5ea6a51d80'), 'fecha': '2005-02-20 05:03:29', 'agencia': 'La Paz', 'monto': 63034.27, 'descripcion': 'Retiro en efectivo', 'saldo': 1027359.46, 'nota': 'fugit'}\n",
      "\n",
      "{'_id': ObjectId('636e82b7dfb1bb5ea6a51f0c'), 'fecha': '1966-01-30 00:22:43', 'agencia': 'La Paz', 'monto': 306101.64, 'descripcion': 'Retiro en efectivo', 'saldo': 7153563.3, 'nota': 'itaque nulla hic saepe'}\n",
      "\n",
      "{'_id': ObjectId('636e82b7dfb1bb5ea6a51fb2'), 'fecha': '1989-03-03 18:59:59', 'agencia': 'Santa Cruz', 'monto': 124728.46, 'descripcion': 'Retiro en efectivo', 'saldo': 8314350.91, 'nota': 'voluptatem quas fugit omnis minus'}\n",
      "\n",
      "{'_id': ObjectId('636e82b7dfb1bb5ea6a51fe7'), 'fecha': '1977-04-03 23:37:39', 'agencia': 'La Paz', 'monto': 295277.2, 'descripcion': 'Retiro en efectivo', 'saldo': 6524128.2, 'nota': 'sed enim voluptatem veritatis reiciendis labore delectus optio'}\n",
      "\n",
      "====================================================================================================\n",
      " Consulta realizada en un tiempo de 0.2687 milisegundos\n",
      "====================================================================================================\n"
     ]
    }
   ],
   "source": [
    "saldo_min = 162342\n",
    "saldo_max = 382304513\n",
    "agencia1 = \"La Paz\"\n",
    "agencia2 = \"Santa Cruz\"\n",
    "descripcion = \"Retiro en efectivo\"\n",
    "\n",
    "start_time = time.time()\n",
    "results = busqueda_saldo_agencias_descripcion(saldo_min, saldo_max, agencia1, agencia2, descripcion)\n",
    "end_time = time.time()\n",
    "\n",
    "print(\"=\"*100)\n",
    "\n",
    "for r in results[:10]:\n",
    "    print(r)\n",
    "    print(\"\")\n",
    "\n",
    "print(\"=\"*100)\n",
    "print(f\" Consulta realizada en un tiempo de {round((end_time - start_time)*1000, 4)} milisegundos\")\n",
    "print(\"=\"*100)"
   ]
  },
  {
   "cell_type": "markdown",
   "metadata": {},
   "source": [
    "## Agregación 1: Suma de saldos de una agencia"
   ]
  },
  {
   "cell_type": "code",
   "execution_count": 294,
   "metadata": {},
   "outputs": [
    {
     "name": "stdout",
     "output_type": "stream",
     "text": [
      "====================================================================================================\n",
      "{'_id': {'agencia': 'Beni'}, 'suma': 49995171479223.2}\n",
      "\n",
      "====================================================================================================\n",
      " Consulta realizada en un tiempo de 0:05:31.856493\n",
      "====================================================================================================\n"
     ]
    }
   ],
   "source": [
    "agencia = \"Beni\"\n",
    "\n",
    "start_time = time.time()\n",
    "results = suma_saldo_agencia(agencia, coll)\n",
    "end_time = time.time()\n",
    "\n",
    "print(\"=\"*100)\n",
    "\n",
    "for r in results:\n",
    "    print(r)\n",
    "    print(\"\")\n",
    "\n",
    "print(\"=\"*100)\n",
    "print(f\" Consulta realizada en un tiempo de {str(timedelta(seconds = (end_time - start_time)))}\")\n",
    "print(\"=\"*100)"
   ]
  },
  {
   "cell_type": "markdown",
   "metadata": {},
   "source": [
    "## Agregación 2: Promedio de montos por agencia"
   ]
  },
  {
   "cell_type": "code",
   "execution_count": 23,
   "metadata": {},
   "outputs": [
    {
     "name": "stdout",
     "output_type": "stream",
     "text": [
      "====================================================================================================\n",
      "{'_id': 'Pando', 'Promedio de montos': 4995192.7123481585}\n",
      "\n",
      "{'_id': 'Chuquisaca', 'Promedio de montos': 5004312.36702801}\n",
      "\n",
      "{'_id': 'Cochabamba', 'Promedio de montos': 5000650.992326564}\n",
      "\n",
      "{'_id': 'La Paz', 'Promedio de montos': 4999297.688533924}\n",
      "\n",
      "{'_id': 'Tarija', 'Promedio de montos': 4996711.953560543}\n",
      "\n",
      "====================================================================================================\n",
      " Consulta realizada en un tiempo de 0:10:57.495066\n",
      "====================================================================================================\n"
     ]
    }
   ],
   "source": [
    "start_time = time.time()\n",
    "results = promedio_montos_agencia()\n",
    "end_time = time.time()\n",
    "\n",
    "print(\"=\"*100)\n",
    "\n",
    "for r in results:\n",
    "    print(r)\n",
    "    print(\"\")\n",
    "\n",
    "print(\"=\"*100)\n",
    "print(f\" Consulta realizada en un tiempo de {str(timedelta(seconds = (end_time - start_time)))}\")\n",
    "print(\"=\"*100)"
   ]
  },
  {
   "cell_type": "markdown",
   "metadata": {},
   "source": [
    "| Tabla resumen de resultados | Valor obtenido  |\n",
    "|-----------------------------|-----------------|\n",
    "| Tiempo consulta 1           | 0.5572 ms       |\n",
    "| Tiempo consulta 2           | 68.6729 ms      |\n",
    "| Tiempo consulta 3           | 0.2687 ms       |\n",
    "| Tiempo agregación 1         | 5 min 31.8664 s |\n",
    "| Tiempo agregación 2         | 10 min 57.4951 s       |"
   ]
  },
  {
   "cell_type": "markdown",
   "metadata": {},
   "source": [
    "# Consultas a la base de datos con 30 millones de registros y 3 campos indexados (fecha, descripcion, nota)"
   ]
  },
  {
   "cell_type": "markdown",
   "metadata": {},
   "source": [
    "En esta sección se revisará la operación de búsqueda para la colección de 30 millones de documentos indexados solamente en 3 campos: fecha, descripcion y nota."
   ]
  },
  {
   "cell_type": "code",
   "execution_count": 6,
   "metadata": {},
   "outputs": [
    {
     "data": {
      "text/plain": [
       "{'_id_': {'v': 2, 'key': [('_id', 1)]},\n",
       " 'fecha_1': {'v': 2, 'key': [('fecha', 1)]},\n",
       " 'descripcion_1': {'v': 2, 'key': [('descripcion', 1)]},\n",
       " 'nota_1': {'v': 2, 'key': [('nota', 1)]}}"
      ]
     },
     "execution_count": 6,
     "metadata": {},
     "output_type": "execute_result"
    }
   ],
   "source": [
    "coll = db[\"extracto_cuenta_30m_3idx\"]\n",
    "coll.index_information()"
   ]
  },
  {
   "cell_type": "markdown",
   "metadata": {},
   "source": [
    "## Consulta 1: Todos los datos"
   ]
  },
  {
   "cell_type": "markdown",
   "metadata": {},
   "source": [
    "Se realizará una búsqueda sobre todos los campos en la collección"
   ]
  },
  {
   "cell_type": "code",
   "execution_count": 297,
   "metadata": {},
   "outputs": [
    {
     "name": "stdout",
     "output_type": "stream",
     "text": [
      "====================================================================================================\n",
      "{'_id': ObjectId('636e78bddfb1bb4100512f70'), 'fecha': '1956-04-20 13:40:08', 'agencia': 'Cochabamba', 'monto': 28791.8, 'descripcion': 'Pago de cheque compensado', 'saldo': 3922743.44, 'nota': 'aspernatur soluta earum totam consectetur culpa atque nobis dolor assumenda quaerat'}\n",
      "\n",
      "{'_id': ObjectId('636e78bddfb1bb4100512f71'), 'fecha': '1995-02-16 01:20:10', 'agencia': 'Chuquisaca', 'monto': 298799.98, 'descripcion': 'Ingreso en efectivo', 'saldo': 411060.2, 'nota': 'facilis assumenda voluptate illo exercitationem repudiandae at officiis laboriosam quia aliquid adipisci'}\n",
      "\n",
      "{'_id': ObjectId('636e78bddfb1bb4100512f72'), 'fecha': '1956-09-04 21:08:47', 'agencia': 'Beni', 'monto': 92841.99, 'descripcion': 'Pago de nómina', 'saldo': 3349136.75, 'nota': 'iusto commodi ducimus aliquam'}\n",
      "\n",
      "{'_id': ObjectId('636e78bddfb1bb4100512f73'), 'fecha': '2003-11-11 15:10:18', 'agencia': 'Santa Cruz', 'monto': 79639.42, 'descripcion': 'Cobro seguro', 'saldo': 6523331.21, 'nota': 'aperiam a architecto eligendi nam saepe perferendis dolorum'}\n",
      "\n",
      "{'_id': ObjectId('636e78bddfb1bb4100512f74'), 'fecha': '1983-06-07 17:48:33', 'agencia': 'Santa Cruz', 'monto': 310835.49, 'descripcion': 'Retiro en efectivo', 'saldo': 8995130.49, 'nota': 'commodi saepe fugiat debitis veniam hic dolores nesciunt'}\n",
      "\n",
      "{'_id': ObjectId('636e78bddfb1bb4100512f75'), 'fecha': '1996-04-20 21:43:23', 'agencia': 'Oruro', 'monto': 280829.89, 'descripcion': 'Pago en línea - Servicio de internet', 'saldo': 5027086.25, 'nota': 'recusandae expedita optio deleniti assumenda corporis facilis quo error quidem perferendis'}\n",
      "\n",
      "{'_id': ObjectId('636e78bddfb1bb4100512f76'), 'fecha': '1954-07-01 13:25:24', 'agencia': 'Beni', 'monto': 156471.92, 'descripcion': 'Retención IVA', 'saldo': 4839090.36, 'nota': 'harum aspernatur eligendi cumque deserunt velit explicabo esse'}\n",
      "\n",
      "{'_id': ObjectId('636e78bddfb1bb4100512f77'), 'fecha': '2020-05-12 16:38:04', 'agencia': 'Tarija', 'monto': 126941.7, 'descripcion': 'Retención IVA', 'saldo': 9103704.71, 'nota': 'id quaerat'}\n",
      "\n",
      "{'_id': ObjectId('636e78bddfb1bb4100512f78'), 'fecha': '1952-05-27 14:38:53', 'agencia': 'Oruro', 'monto': 298866.58, 'descripcion': 'Cobro seguro', 'saldo': 2023462.97, 'nota': 'facere rerum exercitationem quisquam assumenda'}\n",
      "\n",
      "{'_id': ObjectId('636e78bddfb1bb4100512f79'), 'fecha': '2018-12-18 22:11:13', 'agencia': 'Santa Cruz', 'monto': 2262.59, 'descripcion': 'Reintegro cajero automático', 'saldo': 1166753.44, 'nota': 'corporis nemo earum quia odio'}\n",
      "\n",
      "====================================================================================================\n",
      " Consulta realizada en un tiempo de 0.2053 milisegundos\n",
      "====================================================================================================\n"
     ]
    }
   ],
   "source": [
    "start_time = time.time()\n",
    "results = coll.find({})\n",
    "end_time = time.time()\n",
    "\n",
    "print(\"=\"*100)\n",
    "\n",
    "for r in results[:10]:\n",
    "    print(r)\n",
    "    print(\"\")\n",
    "\n",
    "print(\"=\"*100)\n",
    "print(f\" Consulta realizada en un tiempo de {round((end_time - start_time)*1000, 4)} milisegundos\")\n",
    "print(\"=\"*100)"
   ]
  },
  {
   "cell_type": "markdown",
   "metadata": {},
   "source": [
    "## Consulta 2: Fecha y agencia"
   ]
  },
  {
   "cell_type": "markdown",
   "metadata": {},
   "source": [
    "Se realizará una búsqueda sobre los campos fecha y agencia. Siendo los parámetros de entrada una fecha inicial, una fecha final y una agencia."
   ]
  },
  {
   "cell_type": "code",
   "execution_count": 298,
   "metadata": {},
   "outputs": [
    {
     "name": "stdout",
     "output_type": "stream",
     "text": [
      "====================================================================================================\n",
      "{'_id': ObjectId('636e7955dfb1bb4100b3af2f'), 'fecha': '2019-01-31 00:18:50', 'agencia': 'Cochabamba', 'monto': 77775.17, 'descripcion': 'Pago recibo de gas', 'saldo': 9791669.21, 'nota': 'corporis quos omnis aut cumque est natus culpa libero recusandae accusantium'}\n",
      "\n",
      "{'_id': ObjectId('636e7b17dfb1bb4100c17783'), 'fecha': '2019-01-31 00:22:35', 'agencia': 'Cochabamba', 'monto': 83669.19, 'descripcion': 'Pago recibo de agua', 'saldo': 1739565.27, 'nota': 'aperiam minus ducimus excepturi earum impedit deleniti laudantium sint id doloribus cum'}\n",
      "\n",
      "{'_id': ObjectId('636e78efdfb1bb410072dd89'), 'fecha': '2019-01-31 00:48:17', 'agencia': 'Cochabamba', 'monto': 310299.88, 'descripcion': 'Reintegro cajero automático', 'saldo': 597145.53, 'nota': 'dolor animi error quia officia'}\n",
      "\n",
      "{'_id': ObjectId('636e7988dfb1bb4100d6f748'), 'fecha': '2019-01-31 00:54:46', 'agencia': 'Cochabamba', 'monto': 125951.39, 'descripcion': 'Compra en comercio', 'saldo': 3481199.55, 'nota': 'odit corporis adipisci dolorem sapiente facilis sit sequi dicta ullam provident deleniti'}\n",
      "\n",
      "{'_id': ObjectId('636e7921dfb1bb410096f5c5'), 'fecha': '2019-01-31 01:05:48', 'agencia': 'Cochabamba', 'monto': 51541.02, 'descripcion': 'Capitalización de intereses premio', 'saldo': 5292368.52, 'nota': 'ullam id provident earum iusto exercitationem voluptatem rem nobis sunt'}\n",
      "\n",
      "{'_id': ObjectId('636e7986dfb1bb4100d2f17d'), 'fecha': '2019-01-31 01:20:05', 'agencia': 'Cochabamba', 'monto': 351280.81, 'descripcion': 'Capitalización de intereses premio', 'saldo': 1698992.16, 'nota': 'reprehenderit placeat illum obcaecati impedit perferendis cum maiores libero corporis dolorum consequuntur officiis'}\n",
      "\n",
      "{'_id': ObjectId('636e7a05dfb1bb410024c18e'), 'fecha': '2019-01-31 01:20:58', 'agencia': 'Cochabamba', 'monto': 397128.77, 'descripcion': 'Debito Cta por compra', 'saldo': 426507.65, 'nota': 'quasi illo ratione ducimus rerum modi dolore quod'}\n",
      "\n",
      "{'_id': ObjectId('636e79c9dfb1bb4100f93a25'), 'fecha': '2019-01-31 01:21:08', 'agencia': 'Cochabamba', 'monto': 354948.11, 'descripcion': 'Debito Cta por compra', 'saldo': 1021487.32, 'nota': 'hic reprehenderit velit rerum natus ex consequuntur dolore porro assumenda nobis quae'}\n",
      "\n",
      "{'_id': ObjectId('636e7b45dfb1bb4100dfd8b1'), 'fecha': '2019-01-31 01:45:58', 'agencia': 'Cochabamba', 'monto': 24142.33, 'descripcion': 'Transferencia de fondos de ahorros', 'saldo': 6939429.67, 'nota': 'vitae'}\n",
      "\n",
      "{'_id': ObjectId('636e7b64dfb1bb4100fa67e1'), 'fecha': '2019-01-31 02:21:08', 'agencia': 'Cochabamba', 'monto': 63354.29, 'descripcion': 'Debito Cta por pago de Seguro', 'saldo': 6323155.53, 'nota': 'quam soluta cupiditate itaque omnis'}\n",
      "\n",
      "====================================================================================================\n",
      " Consulta realizada en un tiempo de 0.2785 milisegundos\n",
      "====================================================================================================\n"
     ]
    }
   ],
   "source": [
    "start_date = \"2019-01-31\" \n",
    "end_date = \"2019-12-31\"\n",
    "agencia = \"Cochabamba\"\n",
    "\n",
    "start_time = time.time()\n",
    "results = busqueda_fecha_agencia(start_date, end_date, agencia, coll)\n",
    "end_time = time.time()\n",
    "\n",
    "print(\"=\"*100)\n",
    "\n",
    "for r in results[:10]:\n",
    "    print(r)\n",
    "    print(\"\")\n",
    "\n",
    "print(\"=\"*100)\n",
    "print(f\" Consulta realizada en un tiempo de {round((end_time - start_time)*1000, 4)} milisegundos\")\n",
    "print(\"=\"*100)"
   ]
  },
  {
   "cell_type": "markdown",
   "metadata": {},
   "source": [
    "## Consulta 3: Rango de saldo, dos opciones de agencias y descripción"
   ]
  },
  {
   "cell_type": "markdown",
   "metadata": {},
   "source": [
    "Se realizará una búsqueda sobre los campos saldo, agencia (OR 2 opciones) y descripción. Los parámetros de entrada son un rango de saldos, dos opciones de agencias, y una descripción."
   ]
  },
  {
   "cell_type": "code",
   "execution_count": 299,
   "metadata": {},
   "outputs": [
    {
     "name": "stdout",
     "output_type": "stream",
     "text": [
      "====================================================================================================\n",
      "{'_id': ObjectId('636e78bddfb1bb4100512f74'), 'fecha': '1983-06-07 17:48:33', 'agencia': 'Santa Cruz', 'monto': 310835.49, 'descripcion': 'Retiro en efectivo', 'saldo': 8995130.49, 'nota': 'commodi saepe fugiat debitis veniam hic dolores nesciunt'}\n",
      "\n",
      "{'_id': ObjectId('636e78bddfb1bb4100512fd5'), 'fecha': '1950-11-02 15:53:33', 'agencia': 'La Paz', 'monto': 74017.15, 'descripcion': 'Retiro en efectivo', 'saldo': 9533088.85, 'nota': 'laborum libero voluptatem eligendi corrupti quod labore atque laboriosam suscipit'}\n",
      "\n",
      "{'_id': ObjectId('636e78bddfb1bb4100513085'), 'fecha': '1995-12-22 19:08:33', 'agencia': 'La Paz', 'monto': 298367.78, 'descripcion': 'Retiro en efectivo', 'saldo': 4408981.8, 'nota': 'at odit expedita laudantium velit praesentium'}\n",
      "\n",
      "{'_id': ObjectId('636e78bddfb1bb4100513115'), 'fecha': '1992-10-14 18:10:50', 'agencia': 'Santa Cruz', 'monto': 109711.13, 'descripcion': 'Retiro en efectivo', 'saldo': 5800061.73, 'nota': 'aspernatur'}\n",
      "\n",
      "{'_id': ObjectId('636e78bddfb1bb410051321c'), 'fecha': '1986-09-10 08:42:58', 'agencia': 'Santa Cruz', 'monto': 166347.14, 'descripcion': 'Retiro en efectivo', 'saldo': 3814290.17, 'nota': 'aperiam placeat fugit ex officiis minima amet doloremque iusto'}\n",
      "\n",
      "{'_id': ObjectId('636e78bddfb1bb4100513220'), 'fecha': '1984-05-21 23:48:38', 'agencia': 'Santa Cruz', 'monto': 222373.33, 'descripcion': 'Retiro en efectivo', 'saldo': 4525272.74, 'nota': 'eligendi esse voluptatibus'}\n",
      "\n",
      "{'_id': ObjectId('636e78bddfb1bb4100513252'), 'fecha': '2005-02-20 05:03:29', 'agencia': 'La Paz', 'monto': 63034.27, 'descripcion': 'Retiro en efectivo', 'saldo': 1027359.46, 'nota': 'fugit'}\n",
      "\n",
      "{'_id': ObjectId('636e78bddfb1bb41005133de'), 'fecha': '1966-01-30 00:22:43', 'agencia': 'La Paz', 'monto': 306101.64, 'descripcion': 'Retiro en efectivo', 'saldo': 7153563.3, 'nota': 'itaque nulla hic saepe'}\n",
      "\n",
      "{'_id': ObjectId('636e78bddfb1bb4100513484'), 'fecha': '1989-03-03 18:59:59', 'agencia': 'Santa Cruz', 'monto': 124728.46, 'descripcion': 'Retiro en efectivo', 'saldo': 8314350.91, 'nota': 'voluptatem quas fugit omnis minus'}\n",
      "\n",
      "{'_id': ObjectId('636e78bddfb1bb41005134b9'), 'fecha': '1977-04-03 23:37:39', 'agencia': 'La Paz', 'monto': 295277.2, 'descripcion': 'Retiro en efectivo', 'saldo': 6524128.2, 'nota': 'sed enim voluptatem veritatis reiciendis labore delectus optio'}\n",
      "\n",
      "====================================================================================================\n",
      " Consulta realizada en un tiempo de 0.1755 milisegundos\n",
      "====================================================================================================\n"
     ]
    }
   ],
   "source": [
    "saldo_min = 162342\n",
    "saldo_max = 382304513\n",
    "agencia1 = \"La Paz\"\n",
    "agencia2 = \"Santa Cruz\"\n",
    "descripcion = \"Retiro en efectivo\"\n",
    "\n",
    "start_time = time.time()\n",
    "results = busqueda_saldo_agencias_descripcion(saldo_min, saldo_max, agencia1, agencia2, descripcion)\n",
    "end_time = time.time()\n",
    "\n",
    "print(\"=\"*100)\n",
    "\n",
    "for r in results[:10]:\n",
    "    print(r)\n",
    "    print(\"\")\n",
    "\n",
    "print(\"=\"*100)\n",
    "print(f\" Consulta realizada en un tiempo de {round((end_time - start_time)*1000, 4)} milisegundos\")\n",
    "print(\"=\"*100)"
   ]
  },
  {
   "cell_type": "markdown",
   "metadata": {},
   "source": [
    "## Agregación 1: Suma de saldos de una agencia"
   ]
  },
  {
   "cell_type": "code",
   "execution_count": 300,
   "metadata": {},
   "outputs": [
    {
     "name": "stdout",
     "output_type": "stream",
     "text": [
      "====================================================================================================\n",
      "{'_id': {'agencia': 'Beni'}, 'suma': 149979123171265.12}\n",
      "\n",
      "====================================================================================================\n",
      " Consulta realizada en un tiempo de 0:13:12.576533\n",
      "====================================================================================================\n"
     ]
    }
   ],
   "source": [
    "agencia = \"Beni\"\n",
    "\n",
    "start_time = time.time()\n",
    "results = suma_saldo_agencia(agencia)\n",
    "end_time = time.time()\n",
    "\n",
    "print(\"=\"*100)\n",
    "\n",
    "for r in results:\n",
    "    print(r)\n",
    "    print(\"\")\n",
    "\n",
    "print(\"=\"*100)\n",
    "print(f\" Consulta realizada en un tiempo de {str(timedelta(seconds = (end_time - start_time)))}\")\n",
    "print(\"=\"*100)"
   ]
  },
  {
   "cell_type": "markdown",
   "metadata": {},
   "source": [
    "## Agregación 2: Promedio de montos por descripción"
   ]
  },
  {
   "cell_type": "code",
   "execution_count": 20,
   "metadata": {},
   "outputs": [
    {
     "name": "stdout",
     "output_type": "stream",
     "text": [
      "====================================================================================================\n",
      "{'_id': 'Cochabamba', 'Promedio de montos': 4999107.784366417}\n",
      "\n",
      "{'_id': 'Chuquisaca', 'Promedio de montos': 5000899.281786353}\n",
      "\n",
      "{'_id': 'Pando', 'Promedio de montos': 4997057.697427729}\n",
      "\n",
      "{'_id': 'Oruro', 'Promedio de montos': 4999753.750790663}\n",
      "\n",
      "{'_id': 'La Paz', 'Promedio de montos': 5001268.757715594}\n",
      "\n",
      "====================================================================================================\n",
      " Consulta realizada en un tiempo de 0:27:32.902112\n",
      "====================================================================================================\n"
     ]
    }
   ],
   "source": [
    "start_time = time.time()\n",
    "results = promedio_montos_agencia()\n",
    "end_time = time.time()\n",
    "\n",
    "print(\"=\"*100)\n",
    "\n",
    "for r in results:\n",
    "    print(r)\n",
    "    print(\"\")\n",
    "\n",
    "print(\"=\"*100)\n",
    "print(f\" Consulta realizada en un tiempo de {str(timedelta(seconds = (end_time - start_time)))}\")\n",
    "print(\"=\"*100)"
   ]
  },
  {
   "cell_type": "markdown",
   "metadata": {},
   "source": [
    "| Tabla resumen de resultados | Valor obtenido   |\n",
    "|-----------------------------|------------------|\n",
    "| Tiempo consulta 1           | 0.2053 ms        |\n",
    "| Tiempo consulta 2           | 0.2785 ms        |\n",
    "| Tiempo consulta 3           | 0.1755 ms        |\n",
    "| Tiempo agregación 1         | 13 min 12.5765 s |\n",
    "| Tiempo agregación 2         | 27 min 32.9021 s  |"
   ]
  },
  {
   "cell_type": "markdown",
   "metadata": {},
   "source": []
  }
 ],
 "metadata": {
  "kernelspec": {
   "display_name": "Python 3.9.12 ('base')",
   "language": "python",
   "name": "python3"
  },
  "language_info": {
   "codemirror_mode": {
    "name": "ipython",
    "version": 3
   },
   "file_extension": ".py",
   "mimetype": "text/x-python",
   "name": "python",
   "nbconvert_exporter": "python",
   "pygments_lexer": "ipython3",
   "version": "3.9.12"
  },
  "orig_nbformat": 4,
  "vscode": {
   "interpreter": {
    "hash": "d7e5a1f785ed82844e2da5d30522181462e1597dbd1807cbc4c5c0cc1d5a2e0b"
   }
  }
 },
 "nbformat": 4,
 "nbformat_minor": 2
}

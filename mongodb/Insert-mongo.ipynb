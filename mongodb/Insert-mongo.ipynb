{
 "cells": [
  {
   "cell_type": "markdown",
   "metadata": {},
   "source": [
    "# Carga de librerias"
   ]
  },
  {
   "cell_type": "code",
   "execution_count": 1,
   "metadata": {},
   "outputs": [],
   "source": [
    "from pymongo import MongoClient\n",
    "from json import dumps\n",
    "import numpy as np\n",
    "import os\n",
    "\n",
    "client = MongoClient('localhost', 27017)\n",
    "db = client[f\"test_mongo\"]"
   ]
  },
  {
   "cell_type": "markdown",
   "metadata": {},
   "source": [
    "# Inserción de 1 millón de documentos en campos ya indexados"
   ]
  },
  {
   "cell_type": "markdown",
   "metadata": {},
   "source": [
    "En esta sección se revisará la carga y el tamaño de almacenamiento de 1 millón de documentos indexados en la base de datos."
   ]
  },
  {
   "cell_type": "markdown",
   "metadata": {},
   "source": [
    "## Carga de documento"
   ]
  },
  {
   "cell_type": "markdown",
   "metadata": {},
   "source": [
    "La carga de documentos se llevará a cabo mediante el script de python ```load-documents-mongo.py``` localizado en el mismo directorio de este cuaderno. Para cargar la cantidad de datos en cuestión se ejecuta el siguiente comando:"
   ]
  },
  {
   "cell_type": "markdown",
   "metadata": {},
   "source": [
    "```\n",
    "python load-documents-mongo.py -n 1\n",
    "\n",
    "```"
   ]
  },
  {
   "cell_type": "markdown",
   "metadata": {},
   "source": [
    "El script antes mencionado revise como entrada la cantidad de documentos que cargará a la base de datos. Secuencialmente, el código creará la nueva colección donde se cargarán los datos, creará los índices correspondientes a todos los campos y cargará la información almacenada en un documento JSON de forma masiva."
   ]
  },
  {
   "cell_type": "markdown",
   "metadata": {},
   "source": [
    "**Nota:** es recomendable ejecutar el comando en una terminal aparte de este cuaderno, ya que se trata de una operación que dependiendo la cantidad de documentos, puede llegar a ocupar una considerable cantidad de memoria del sistema."
   ]
  },
  {
   "cell_type": "markdown",
   "metadata": {},
   "source": [
    "![Cargando 1 millón de documentos](../imagenes-de-soporte/mongo-insert/load_1M_documents_mongo.png)"
   ]
  },
  {
   "cell_type": "markdown",
   "metadata": {},
   "source": [
    "Como se puede ver en la imagen superior, cargar 1 millón de documentos ha tomado un tiempo de **1 minuto y 1.51 segundos**."
   ]
  },
  {
   "cell_type": "markdown",
   "metadata": {},
   "source": [
    "Una vez cargados los documentos en la base de datos, podemos verificar la cantidad total de documentos en la colección ```extracto_cuenta_1m``` de la siguiente manera."
   ]
  },
  {
   "cell_type": "code",
   "execution_count": 116,
   "metadata": {},
   "outputs": [
    {
     "name": "stdout",
     "output_type": "stream",
     "text": [
      "Actualmente existen 1000000 documentos en la colección 'extracto_cuenta_1m'\n"
     ]
    }
   ],
   "source": [
    "cnt = db.extracto_cuenta_1m.count_documents({})\n",
    "print(f\"Actualmente existen {cnt} documentos en la colección 'extracto_cuenta_1m'\")"
   ]
  },
  {
   "cell_type": "markdown",
   "metadata": {},
   "source": [
    "## Tamaño de almacenamiento de datos"
   ]
  },
  {
   "cell_type": "markdown",
   "metadata": {},
   "source": [
    "Para encontrar el tamaño de los archivos JSON en su forma bruta, antes de cargarse a la base de datos, se utilizará el siguiente script:"
   ]
  },
  {
   "cell_type": "code",
   "execution_count": 124,
   "metadata": {},
   "outputs": [
    {
     "name": "stdout",
     "output_type": "stream",
     "text": [
      "Documento random-generated-data-1.json con tamaño en memoria de 259734499 bytes\n"
     ]
    }
   ],
   "source": [
    "file_sizes = []\n",
    "n = 1\n",
    "\n",
    "for i, json_file in enumerate(sorted(os.listdir(\"../json-generated-data\"))):\n",
    "    file_stat = os.stat(os.path.join(\"../json-generated-data\", json_file))\n",
    "    file_sizes.append(file_stat)\n",
    "\n",
    "    if i+1 == n:\n",
    "        break\n",
    "\n",
    "for file in file_sizes:\n",
    "    print(f'Documento {json_file} con tamaño en memoria de {file.st_size} bytes')"
   ]
  },
  {
   "cell_type": "markdown",
   "metadata": {},
   "source": [
    "Para obtener las estadísticas de uso de disco por parte de la colección ```extracto_cuenta_1m``` en la base de datos ejecutaremos el siguiente comando:"
   ]
  },
  {
   "cell_type": "code",
   "execution_count": 5,
   "metadata": {},
   "outputs": [
    {
     "name": "stdout",
     "output_type": "stream",
     "text": [
      "{\n",
      " \"ns\": \"test_mongo.extracto_cuenta_1m\",\n",
      " \"size\": 206123814,\n",
      " \"count\": 1000000,\n",
      " \"avgObjSize\": 206,\n",
      " \"numOrphanDocs\": 0,\n",
      " \"storageSize\": 103682048,\n",
      " \"freeStorageSize\": 409600,\n",
      " \"capped\": false,\n",
      " \"wiredTiger\": {\n",
      "  \"metadata\": {\n",
      "   \"formatVersion\": 1\n",
      "  },\n",
      "  \"creationString\": \"access_pattern_hint=none\n",
      "...\n"
     ]
    }
   ],
   "source": [
    "r = dumps(db.command(\n",
    "   {\n",
    "     \"collStats\": \"extracto_cuenta_1m\",\n",
    "     \"scale\": 1\n",
    "   }\n",
    "), indent=1)\n",
    "\n",
    "print(r[:300])\n",
    "print(\"...\")\n"
   ]
  },
  {
   "cell_type": "code",
   "execution_count": null,
   "metadata": {},
   "outputs": [
    {
     "name": "stdout",
     "output_type": "stream",
     "text": [
      "...\n",
      "\"indexBuilds\": [],\n",
      " \"totalIndexSize\": 243048448,\n",
      " \"totalSize\": 346730496,\n",
      " \"indexSizes\": {\n",
      "  \"_id_\": 11104256,\n",
      "  \"fecha_1\": 41160704,\n",
      "  \"agencia_1\": 6668288,\n",
      "  \"monto_1\": 34279424,\n",
      "  \"saldo_1\": 36990976,\n",
      "  \"descripcion_1\": 6410240,\n",
      "  \"nota_1\": 106434560\n",
      " },\n",
      " \"scaleFactor\": 1,\n",
      " \"ok\": 1.0\n",
      "}\n"
     ]
    }
   ],
   "source": [
    "print(\"...\")\n",
    "print(r[109825:])"
   ]
  },
  {
   "cell_type": "markdown",
   "metadata": {},
   "source": [
    "Extrayendo información importante de los datos recién obtenidos. El tamaño de almacenamiento aproximado de 1 documento de 1 millón de registros con un peso en bruto de 247.70 mb (en escala base binario $2^{20}$), una vez comprimido en la base de datos es **98.87 mb** (en escala base binario $2^{20}$). Esto nos da un radio de compresión de 0.3991 y una reducción de tamaño en memoria del 60.08%."
   ]
  },
  {
   "cell_type": "markdown",
   "metadata": {},
   "source": [
    "![Cargando 1 millón de documentos](../imagenes-de-soporte/mongo-insert/storage_compass_1M_documents.png)"
   ]
  },
  {
   "cell_type": "markdown",
   "metadata": {},
   "source": [
    "Mediante la herramienta gráfica compass se puede ver un reporte de 103.27 MB (en escala base decimal $10^{6}$) de tamaño de almacenamiento, lo cual convertido a escala binaria resulta en 98.23 mb, un número aproximado al obtenido mediante el script de python."
   ]
  },
  {
   "cell_type": "markdown",
   "metadata": {},
   "source": [
    "Otro número importante que se meustra en compass es el tamaño total de los índices (7 índices en este caso), siendo 243.05 MB (en escala base decimal $10^{6}$) o según los datos extraídos mediante python **231.79 mb** (en escala base binario $2^{20}$)."
   ]
  },
  {
   "cell_type": "markdown",
   "metadata": {},
   "source": [
    "Una última métrica importante ha revisar es la suma del espacio asignado tanto a los documentos como a los índices en la colección. Es la suma de storageSize y indexSize. En el presente caso resultando un valor de **330.67 mb**.\n",
    "\n"
   ]
  },
  {
   "cell_type": "markdown",
   "metadata": {},
   "source": [
    "| Tabla resumen de resultados              | Valor obtenido |\n",
    "|------------------------------------------|----------------|\n",
    "| Tamaño JSON bruto                        | 247.70 mb      |\n",
    "| Tamaño de almacenamiento en mongoDB      | 98.87 mb       |\n",
    "| Tamaño total de los índices              | 231.79 mb      |\n",
    "| Tamaño total de almacenamiento colección | 330.67 mb      |"
   ]
  },
  {
   "cell_type": "markdown",
   "metadata": {},
   "source": [
    "# Inserción de 10 millones de documentos en campos ya indexados"
   ]
  },
  {
   "cell_type": "markdown",
   "metadata": {},
   "source": [
    "En esta sección se revisará la carga y el tamaño de almacenamiento de 10 millones de documentos indexados en la base de datos."
   ]
  },
  {
   "cell_type": "markdown",
   "metadata": {},
   "source": [
    "## Carga de documento"
   ]
  },
  {
   "cell_type": "markdown",
   "metadata": {},
   "source": [
    "La carga de documentos se llevará a cabo mediante el script de python ```load-documents-mongo.py``` localizado en el mismo directorio de este cuaderno. Para cargar la cantidad de datos en cuestión se ejecuta el siguiente comando:"
   ]
  },
  {
   "cell_type": "markdown",
   "metadata": {},
   "source": [
    "```\n",
    "python load-documents-mongo.py -n 10\n",
    "\n",
    "```"
   ]
  },
  {
   "cell_type": "markdown",
   "metadata": {},
   "source": [
    "**Nota:** es recomendable ejecutar el comando en una terminal aparte de este cuaderno, ya que se trata de una operación que dependiendo la cantidad de documentos, puede llegar a ocupar una considerable cantidad de memoria del sistema."
   ]
  },
  {
   "cell_type": "markdown",
   "metadata": {},
   "source": [
    "![Cargando 1 millón de documentos](../imagenes-de-soporte/mongo-insert/load_10M_indexed_documents_mongo.png)"
   ]
  },
  {
   "cell_type": "markdown",
   "metadata": {},
   "source": [
    "Como se puede ver en la imagen superior, cargar 1 millón de documentos ha tomado un tiempo de **3 horas 12 minutos y 37.32 segundos**."
   ]
  },
  {
   "cell_type": "markdown",
   "metadata": {},
   "source": [
    "Una vez cargados los documentos en la base de datos, podemos verificar la cantidad total de documentos en la colección ```extracto_cuenta_1m``` de la siguiente manera."
   ]
  },
  {
   "cell_type": "code",
   "execution_count": 112,
   "metadata": {},
   "outputs": [
    {
     "name": "stdout",
     "output_type": "stream",
     "text": [
      "Actualmente existen 10000000 documentos en 'extracto_cuenta_10m'\n"
     ]
    }
   ],
   "source": [
    "cnt = db.extracto_cuenta_10m.count_documents({})\n",
    "print(f\"Actualmente existen {cnt} documentos en 'extracto_cuenta_10m'\")"
   ]
  },
  {
   "cell_type": "markdown",
   "metadata": {},
   "source": [
    "## Tamaño de almacenamiento de datos"
   ]
  },
  {
   "cell_type": "markdown",
   "metadata": {},
   "source": [
    "Para encontrar el tamaño de los archivos JSON en su forma bruta, antes de cargarse a la base de datos, se utilizará el siguiente script:"
   ]
  },
  {
   "cell_type": "code",
   "execution_count": 184,
   "metadata": {},
   "outputs": [
    {
     "name": "stdout",
     "output_type": "stream",
     "text": [
      "Documento random-generated-data-1.json con tamaño en memoria de 259734499 bytes\n",
      "Documento random-generated-data-10.json con tamaño en memoria de 259687666 bytes\n",
      "Documento random-generated-data-11.json con tamaño en memoria de 259697531 bytes\n",
      "Documento random-generated-data-12.json con tamaño en memoria de 259660386 bytes\n",
      "Documento random-generated-data-13.json con tamaño en memoria de 259651170 bytes\n",
      "Documento random-generated-data-14.json con tamaño en memoria de 259696780 bytes\n",
      "Documento random-generated-data-15.json con tamaño en memoria de 259771941 bytes\n",
      "Documento random-generated-data-16.json con tamaño en memoria de 259765264 bytes\n",
      "Documento random-generated-data-17.json con tamaño en memoria de 259736398 bytes\n",
      "Documento random-generated-data-18.json con tamaño en memoria de 259722533 bytes\n",
      "\n",
      "Sumando un total de 52730502614 bytes\n"
     ]
    }
   ],
   "source": [
    "file_sizes = []\n",
    "file_names = []\n",
    "\n",
    "n = 10\n",
    "\n",
    "for i, json_file in enumerate(sorted(os.listdir(\"../json-generated-data\"))):\n",
    "    file_stat = os.stat(os.path.join(\"../json-generated-data\", json_file))\n",
    "    file_sizes.append(file_stat)\n",
    "    file_names.append(json_file)\n",
    "\n",
    "    if i+1 == n:\n",
    "        break\n",
    "\n",
    "for file, f_name in zip(file_sizes, file_names):\n",
    "    print(f'Documento {f_name} con tamaño en memoria de {file.st_size} bytes')\n",
    "\n",
    "size_sum = np.sum(np.asarray(file_sizes))\n",
    "\n",
    "print(\"\")\n",
    "print(f'Sumando un total de {size_sum} bytes')"
   ]
  },
  {
   "cell_type": "markdown",
   "metadata": {},
   "source": [
    "Para obtener las estadísticas de uso de disco por parte de la colección ```extracto_cuenta_1m``` en la base de datos ejecutaremos el siguiente comando:"
   ]
  },
  {
   "cell_type": "code",
   "execution_count": null,
   "metadata": {},
   "outputs": [
    {
     "name": "stdout",
     "output_type": "stream",
     "text": [
      "{\n",
      " \"ns\": \"test_mongo.extracto_cuenta_1m\",\n",
      " \"size\": 206123814,\n",
      " \"count\": 1000000,\n",
      " \"avgObjSize\": 206,\n",
      " \"numOrphanDocs\": 0,\n",
      " \"storageSize\": 103682048,\n",
      " \"freeStorageSize\": 409600,\n",
      " \"capped\": false,\n",
      " \"wiredTiger\": {\n",
      "  \"metadata\": {\n",
      "   \"formatVersion\": 1\n",
      "  },\n",
      "  \"creationString\": \"access_pattern_hint=none\n",
      "...\n"
     ]
    }
   ],
   "source": [
    "r = dumps(db.command(\n",
    "   {\n",
    "     \"collStats\": \"extracto_cuenta_1m\",\n",
    "     \"scale\": 1\n",
    "   }\n",
    "), indent=1)\n",
    "\n",
    "print(r[:300])\n",
    "print(\"...\")\n"
   ]
  },
  {
   "cell_type": "code",
   "execution_count": null,
   "metadata": {},
   "outputs": [
    {
     "name": "stdout",
     "output_type": "stream",
     "text": [
      "...\n",
      "\"indexBuilds\": [],\n",
      " \"totalIndexSize\": 243048448,\n",
      " \"totalSize\": 346730496,\n",
      " \"indexSizes\": {\n",
      "  \"_id_\": 11104256,\n",
      "  \"fecha_1\": 41160704,\n",
      "  \"agencia_1\": 6668288,\n",
      "  \"monto_1\": 34279424,\n",
      "  \"saldo_1\": 36990976,\n",
      "  \"descripcion_1\": 6410240,\n",
      "  \"nota_1\": 106434560\n",
      " },\n",
      " \"scaleFactor\": 1,\n",
      " \"ok\": 1.0\n",
      "}\n"
     ]
    }
   ],
   "source": [
    "print(\"...\")\n",
    "print(r[109825:])"
   ]
  },
  {
   "cell_type": "markdown",
   "metadata": {},
   "source": [
    "Para obtener las estadísticas de uso de disco por parte de la colección ```extracto_cuenta_10m``` en la base de datos ejecutaremos el siguiente comando:"
   ]
  },
  {
   "cell_type": "code",
   "execution_count": 115,
   "metadata": {},
   "outputs": [
    {
     "name": "stdout",
     "output_type": "stream",
     "text": [
      "{\n",
      " \"ns\": \"test_mongo.extracto_cuenta_10m\",\n",
      " \"size\": 2061015647,\n",
      " \"count\": 10000000,\n",
      " \"avgObjSize\": 206,\n",
      " \"numOrphanDocs\": 0,\n",
      " \"storageSize\": 1043173376,\n",
      " \"freeStorageSize\": 2236416,\n",
      " \"capped\": false,\n",
      " \"wiredTiger\": {\n",
      "  \"metadata\": {\n",
      "   \"formatVersion\": 1\n",
      "  },\n",
      "  \"creationString\": \"access_pattern_hint=none,allocation_size=4KB,app_metadata=(formatVersion=1),assert=(commit_timestamp=none,durable_timestamp=none,read_timestamp=none,write_timestamp=off),block_allocation=best,block_compressor=snappy,cac\n"
     ]
    }
   ],
   "source": [
    "r = dumps(db.command(\n",
    "   {\n",
    "     \"collStats\": \"extracto_cuenta_10m\",\n",
    "     \"scale\": 1\n",
    "   }\n",
    "), indent=1)\n",
    "\n",
    "print(r[:500])"
   ]
  },
  {
   "cell_type": "markdown",
   "metadata": {},
   "source": [
    "Extrayendo información importante de los datos recién obtenidos. El tamaño de almacenamiento de 1 documento de 1 millón de registros con un peso en bruto de 259.73 mb (en escala base 10), **una vez comprimido en la base de datos es 103.27 mb (en escala base 10)**. Esto nos da un radio de compresión de 2.52 y una reducción de tamaño en memoria del 60.24%."
   ]
  },
  {
   "cell_type": "code",
   "execution_count": 2,
   "metadata": {},
   "outputs": [
    {
     "name": "stdout",
     "output_type": "stream",
     "text": [
      "Actualmente existen 30000000 documentos en 'extracto_cuenta_30m'\n"
     ]
    }
   ],
   "source": [
    "cnt = db.extracto_cuenta_30m.count_documents({})\n",
    "print(f\"Actualmente existen {cnt} documentos en 'extracto_cuenta_30m'\")"
   ]
  },
  {
   "cell_type": "code",
   "execution_count": 3,
   "metadata": {},
   "outputs": [
    {
     "name": "stdout",
     "output_type": "stream",
     "text": [
      "{\n",
      " \"ns\": \"test_mongo.extracto_cuenta_30m\",\n",
      " \"size\": 6182911222,\n",
      " \"count\": 30000000,\n",
      " \"avgObjSize\": 206,\n",
      " \"numOrphanDocs\": 0,\n",
      " \"storageSize\": 2984677376,\n",
      " \"freeStorageSize\": 954368,\n",
      " \"capped\": false,\n",
      " \"wiredTiger\": {\n",
      "  \"metadata\": {\n",
      "   \"formatVersion\": 1\n",
      "  },\n",
      "  \"creationString\": \"access_pattern_hint=none,allocation_size=4KB,app_metadata=(formatVersion=1),assert=(commit_timestamp=none,durable_timestamp=none,read_timestamp=none,write_timestamp=off),block_allocation=best,block_compressor=snappy,cach\n"
     ]
    }
   ],
   "source": [
    "r = dumps(db.command(\n",
    "   {\n",
    "     \"collStats\": \"extracto_cuenta_30m\",\n",
    "     \"scale\": 1\n",
    "   }\n",
    "), indent=1)\n",
    "\n",
    "print(r[:500])"
   ]
  },
  {
   "cell_type": "code",
   "execution_count": 4,
   "metadata": {},
   "outputs": [
    {
     "name": "stdout",
     "output_type": "stream",
     "text": [
      "...\n",
      "llback to stable skipping stable rle\": 0,\n",
      "    \"rollback to stable sweeping history store keys\": 0,\n",
      "    \"rollback to stable updates removed from history store\": 0,\n",
      "    \"transaction checkpoints due to obsolete pages\": 0,\n",
      "    \"update conflicts\": 0\n",
      "   }\n",
      "  }\n",
      " },\n",
      " \"indexBuilds\": [],\n",
      " \"totalIndexSize\": 3570143232,\n",
      " \"totalSize\": 6554820608,\n",
      " \"indexSizes\": {\n",
      "  \"_id_\": 331038720,\n",
      "  \"fecha_1\": 512319488,\n",
      "  \"agencia_1\": 160526336,\n",
      "  \"monto_1\": 468492288,\n",
      "  \"saldo_1\": 493805568,\n",
      "  \"descripcion_1\": 166879232,\n",
      "  \"nota_1\": 1437081600\n",
      " },\n",
      " \"scaleFactor\": 1,\n",
      " \"ok\": 1.0\n",
      "}\n"
     ]
    }
   ],
   "source": [
    "print(\"...\")\n",
    "print(r[109825:])"
   ]
  },
  {
   "cell_type": "code",
   "execution_count": null,
   "metadata": {},
   "outputs": [],
   "source": []
  }
 ],
 "metadata": {
  "kernelspec": {
   "display_name": "Python 3.9.12 ('base')",
   "language": "python",
   "name": "python3"
  },
  "language_info": {
   "codemirror_mode": {
    "name": "ipython",
    "version": 3
   },
   "file_extension": ".py",
   "mimetype": "text/x-python",
   "name": "python",
   "nbconvert_exporter": "python",
   "pygments_lexer": "ipython3",
   "version": "3.9.12"
  },
  "orig_nbformat": 4,
  "vscode": {
   "interpreter": {
    "hash": "d7e5a1f785ed82844e2da5d30522181462e1597dbd1807cbc4c5c0cc1d5a2e0b"
   }
  }
 },
 "nbformat": 4,
 "nbformat_minor": 2
}

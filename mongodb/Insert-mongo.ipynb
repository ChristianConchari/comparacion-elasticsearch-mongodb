{
 "cells": [
  {
   "cell_type": "markdown",
   "metadata": {},
   "source": [
    "# Carga de librerias"
   ]
  },
  {
   "cell_type": "code",
   "execution_count": 3,
   "metadata": {},
   "outputs": [],
   "source": [
    "from pymongo import MongoClient\n",
    "import json\n",
    "import time\n",
    "from datetime import timedelta\n",
    "from flask import jsonify\n",
    "import os\n",
    "\n",
    "client = MongoClient('localhost', 27017)"
   ]
  },
  {
   "cell_type": "code",
   "execution_count": 4,
   "metadata": {},
   "outputs": [],
   "source": [
    "def declare_indexes(n_db):\n",
    "    n_db.extracto_cuenta.create_index('fecha')\n",
    "    n_db.extracto_cuenta.create_index('agencia')\n",
    "    n_db.extracto_cuenta.create_index('monto')\n",
    "    n_db.extracto_cuenta.create_index('saldo')\n",
    "    n_db.extracto_cuenta.create_index('descripcion')\n",
    "    n_db.extracto_cuenta.create_index('nota')\n",
    "\n",
    "    return print(f\"índices creados en {n_db}\")"
   ]
  },
  {
   "cell_type": "markdown",
   "metadata": {},
   "source": [
    "# Carga de 1 millón de documentos"
   ]
  },
  {
   "cell_type": "code",
   "execution_count": 5,
   "metadata": {},
   "outputs": [
    {
     "data": {
      "text/plain": [
       "Collection(Database(MongoClient(host=['localhost:27017'], document_class=dict, tz_aware=False, connect=True), 'test_mongo_1M'), 'extracto_cuenta')"
      ]
     },
     "execution_count": 5,
     "metadata": {},
     "output_type": "execute_result"
    }
   ],
   "source": [
    "db1 = client[\"test_mongo_1M\"]\n",
    "db1.create_collection(\"extracto_cuenta\")"
   ]
  },
  {
   "cell_type": "markdown",
   "metadata": {},
   "source": [
    "### Estadísticas de almacenamiento sin índices"
   ]
  },
  {
   "cell_type": "code",
   "execution_count": 6,
   "metadata": {},
   "outputs": [
    {
     "data": {
      "text/plain": [
       "{'db': 'test_mongo_1M',\n",
       " 'collections': 1,\n",
       " 'views': 0,\n",
       " 'objects': 0,\n",
       " 'avgObjSize': 0.0,\n",
       " 'dataSize': 0.0,\n",
       " 'storageSize': 4096.0,\n",
       " 'indexes': 1,\n",
       " 'indexSize': 4096.0,\n",
       " 'totalSize': 8192.0,\n",
       " 'scaleFactor': 1.0,\n",
       " 'fsUsedSize': 270406385664.0,\n",
       " 'fsTotalSize': 331915800576.0,\n",
       " 'ok': 1.0}"
      ]
     },
     "execution_count": 6,
     "metadata": {},
     "output_type": "execute_result"
    }
   ],
   "source": [
    "db1.command(\"dbStats\")"
   ]
  },
  {
   "cell_type": "code",
   "execution_count": 7,
   "metadata": {},
   "outputs": [
    {
     "name": "stdout",
     "output_type": "stream",
     "text": [
      "Tiempo de carga de 1M de documentos: 0:00:23.321967\n"
     ]
    }
   ],
   "source": [
    "start_time = time.time()\n",
    "for i, json_file in enumerate(os.listdir(\"../json-generated-data\")):\n",
    "    with open(os.path.join(\"../json-generated-data\", json_file)) as file:\n",
    "        file_dict = json.load(file)\n",
    "    \n",
    "    db1.extracto_cuenta.insert_many(file_dict)\n",
    "\n",
    "    if i+1 == 1:\n",
    "        break\n",
    "\n",
    "end_time = time.time()\n",
    "# Mostramos los resultados en consola\n",
    "print(f'Tiempo de carga de 1M de documentos: {str(timedelta(seconds = (end_time - start_time)))}')"
   ]
  },
  {
   "cell_type": "code",
   "execution_count": 8,
   "metadata": {},
   "outputs": [
    {
     "name": "stdout",
     "output_type": "stream",
     "text": [
      "1000000 documentos insertados en la base de datos 1 en 0:00:00.573240\n"
     ]
    }
   ],
   "source": [
    "start_time = time.time()\n",
    "cnt = db1.extracto_cuenta.count_documents({})\n",
    "end_time = time.time()\n",
    "\n",
    "print(f\"{cnt} documentos insertados en la base de datos 1 en {str(timedelta(seconds = (end_time - start_time)))}\")"
   ]
  },
  {
   "cell_type": "code",
   "execution_count": 9,
   "metadata": {},
   "outputs": [
    {
     "data": {
      "text/plain": [
       "{'db': 'test_mongo_1M',\n",
       " 'collections': 1,\n",
       " 'views': 0,\n",
       " 'objects': 1000000,\n",
       " 'avgObjSize': 206.122817,\n",
       " 'dataSize': 206.122817,\n",
       " 'storageSize': 65.257472,\n",
       " 'indexes': 1,\n",
       " 'indexSize': 6.7584,\n",
       " 'totalSize': 72.015872,\n",
       " 'scaleFactor': 1000000.0,\n",
       " 'fsUsedSize': 270478.548992,\n",
       " 'fsTotalSize': 331915.800576,\n",
       " 'ok': 1.0}"
      ]
     },
     "execution_count": 9,
     "metadata": {},
     "output_type": "execute_result"
    }
   ],
   "source": [
    "db1.command({\"dbStats\": 1, \"scale\": 1000000})"
   ]
  },
  {
   "cell_type": "code",
   "execution_count": 10,
   "metadata": {},
   "outputs": [
    {
     "name": "stdout",
     "output_type": "stream",
     "text": [
      "índices creados en Database(MongoClient(host=['localhost:27017'], document_class=dict, tz_aware=False, connect=True), 'test_mongo_1M')\n"
     ]
    }
   ],
   "source": [
    "declare_indexes(db1)"
   ]
  },
  {
   "cell_type": "code",
   "execution_count": 11,
   "metadata": {},
   "outputs": [
    {
     "data": {
      "text/plain": [
       "{'db': 'test_mongo_1M',\n",
       " 'collections': 1,\n",
       " 'views': 0,\n",
       " 'objects': 1000000,\n",
       " 'avgObjSize': 206.122817,\n",
       " 'dataSize': 206.122817,\n",
       " 'storageSize': 105.721856,\n",
       " 'indexes': 7,\n",
       " 'indexSize': 128.319488,\n",
       " 'totalSize': 234.041344,\n",
       " 'scaleFactor': 1000000.0,\n",
       " 'fsUsedSize': 270640.754688,\n",
       " 'fsTotalSize': 331915.800576,\n",
       " 'ok': 1.0}"
      ]
     },
     "execution_count": 11,
     "metadata": {},
     "output_type": "execute_result"
    }
   ],
   "source": [
    "db1.command({\"dbStats\": 1, \"scale\": 1000000})"
   ]
  },
  {
   "cell_type": "markdown",
   "metadata": {},
   "source": [
    "# Carga de 20 millón de documentos"
   ]
  },
  {
   "cell_type": "code",
   "execution_count": 69,
   "metadata": {},
   "outputs": [
    {
     "name": "stdout",
     "output_type": "stream",
     "text": [
      "índices creados en Database(MongoClient(host=['localhost:27017'], document_class=dict, tz_aware=False, connect=True), 'test_mongo_20M')\n"
     ]
    }
   ],
   "source": [
    "db2 = client[\"test_mongo_20M\"]\n",
    "db2.create_collection(\"extracto_cuenta\")\n",
    "declare_indexes(db2)"
   ]
  },
  {
   "cell_type": "code",
   "execution_count": 70,
   "metadata": {},
   "outputs": [],
   "source": [
    "start_time = time.time()\n",
    "for i, json_file in enumerate(os.listdir(\"../json-generated-data\")):\n",
    "    with open(os.path.join(\"../json-generated-data\", json_file)) as file:\n",
    "        file_dict = json.load(file)\n",
    "    \n",
    "    db2.extracto_cuenta.insert_many(file_dict) \n",
    "\n",
    "    if i+1 == 20:\n",
    "        break\n",
    "\n",
    "end_time = time.time()\n",
    "# Mostramos los resultados en consola\n",
    "print(f'Tiempo de carga de 20M de documentos: {str(timedelta(seconds = (end_time - start_time)))}')\n"
   ]
  },
  {
   "cell_type": "code",
   "execution_count": null,
   "metadata": {},
   "outputs": [],
   "source": [
    "print(f\"{db2.extracto_cuenta.count_documents({})} documentos insertados en la base de datos 2\")"
   ]
  },
  {
   "cell_type": "code",
   "execution_count": null,
   "metadata": {},
   "outputs": [],
   "source": [
    "db2.command({\"dbStats\": 1, \"scale\": 1000000})"
   ]
  },
  {
   "cell_type": "markdown",
   "metadata": {},
   "source": [
    "# Carga de 100 millones de documentos"
   ]
  },
  {
   "cell_type": "code",
   "execution_count": 15,
   "metadata": {},
   "outputs": [
    {
     "name": "stdout",
     "output_type": "stream",
     "text": [
      "índices creados en Database(MongoClient(host=['localhost:27017'], document_class=dict, tz_aware=False, connect=True), 'test_mongo_100M')\n"
     ]
    }
   ],
   "source": [
    "db3 = client[\"test_mongo_100M\"]\n",
    "db3.create_collection(\"extracto_cuenta\")\n",
    "declare_indexes(db3)"
   ]
  },
  {
   "cell_type": "code",
   "execution_count": 16,
   "metadata": {},
   "outputs": [
    {
     "data": {
      "text/plain": [
       "{'_id_': {'v': 2, 'key': [('_id', 1)]},\n",
       " 'fecha_1': {'v': 2, 'key': [('fecha', 1)]},\n",
       " 'agencia_1': {'v': 2, 'key': [('agencia', 1)]},\n",
       " 'monto_1': {'v': 2, 'key': [('monto', 1)]},\n",
       " 'saldo_1': {'v': 2, 'key': [('saldo', 1)]},\n",
       " 'descripcion_1': {'v': 2, 'key': [('descripcion', 1)]},\n",
       " 'nota_1': {'v': 2, 'key': [('nota', 1)]}}"
      ]
     },
     "execution_count": 16,
     "metadata": {},
     "output_type": "execute_result"
    }
   ],
   "source": [
    "db3.extracto_cuenta.index_information()"
   ]
  },
  {
   "cell_type": "code",
   "execution_count": 19,
   "metadata": {},
   "outputs": [
    {
     "ename": "KeyboardInterrupt",
     "evalue": "",
     "output_type": "error",
     "traceback": [
      "\u001b[0;31m---------------------------------------------------------------------------\u001b[0m",
      "\u001b[0;31mKeyboardInterrupt\u001b[0m                         Traceback (most recent call last)",
      "\u001b[1;32m/home/christian/Documents/comparacion-elasticsearch-mongodb/mongodb/Insert-mongo.ipynb Cell 21\u001b[0m in \u001b[0;36m<cell line: 2>\u001b[0;34m()\u001b[0m\n\u001b[1;32m      <a href='vscode-notebook-cell:/home/christian/Documents/comparacion-elasticsearch-mongodb/mongodb/Insert-mongo.ipynb#X41sZmlsZQ%3D%3D?line=2'>3</a>\u001b[0m \u001b[39mwith\u001b[39;00m \u001b[39mopen\u001b[39m(os\u001b[39m.\u001b[39mpath\u001b[39m.\u001b[39mjoin(\u001b[39m\"\u001b[39m\u001b[39m../json-generated-data\u001b[39m\u001b[39m\"\u001b[39m, json_file)) \u001b[39mas\u001b[39;00m file:\n\u001b[1;32m      <a href='vscode-notebook-cell:/home/christian/Documents/comparacion-elasticsearch-mongodb/mongodb/Insert-mongo.ipynb#X41sZmlsZQ%3D%3D?line=3'>4</a>\u001b[0m     file_dict \u001b[39m=\u001b[39m json\u001b[39m.\u001b[39mload(file)\n\u001b[0;32m----> <a href='vscode-notebook-cell:/home/christian/Documents/comparacion-elasticsearch-mongodb/mongodb/Insert-mongo.ipynb#X41sZmlsZQ%3D%3D?line=5'>6</a>\u001b[0m db3\u001b[39m.\u001b[39;49mextracto_cuenta\u001b[39m.\u001b[39;49minsert_many(file_dict) \n\u001b[1;32m      <a href='vscode-notebook-cell:/home/christian/Documents/comparacion-elasticsearch-mongodb/mongodb/Insert-mongo.ipynb#X41sZmlsZQ%3D%3D?line=7'>8</a>\u001b[0m \u001b[39mif\u001b[39;00m i\u001b[39m+\u001b[39m\u001b[39m1\u001b[39m \u001b[39m==\u001b[39m \u001b[39m100\u001b[39m:\n\u001b[1;32m      <a href='vscode-notebook-cell:/home/christian/Documents/comparacion-elasticsearch-mongodb/mongodb/Insert-mongo.ipynb#X41sZmlsZQ%3D%3D?line=8'>9</a>\u001b[0m     \u001b[39mbreak\u001b[39;00m\n",
      "File \u001b[0;32m~/anaconda3/lib/python3.9/site-packages/pymongo/collection.py:753\u001b[0m, in \u001b[0;36mCollection.insert_many\u001b[0;34m(self, documents, ordered, bypass_document_validation, session)\u001b[0m\n\u001b[1;32m    751\u001b[0m blk \u001b[39m=\u001b[39m _Bulk(\u001b[39mself\u001b[39m, ordered, bypass_document_validation)\n\u001b[1;32m    752\u001b[0m blk\u001b[39m.\u001b[39mops \u001b[39m=\u001b[39m [doc \u001b[39mfor\u001b[39;00m doc \u001b[39min\u001b[39;00m gen()]\n\u001b[0;32m--> 753\u001b[0m blk\u001b[39m.\u001b[39;49mexecute(write_concern, session\u001b[39m=\u001b[39;49msession)\n\u001b[1;32m    754\u001b[0m \u001b[39mreturn\u001b[39;00m InsertManyResult(inserted_ids, write_concern\u001b[39m.\u001b[39macknowledged)\n",
      "File \u001b[0;32m~/anaconda3/lib/python3.9/site-packages/pymongo/bulk.py:521\u001b[0m, in \u001b[0;36m_Bulk.execute\u001b[0;34m(self, write_concern, session)\u001b[0m\n\u001b[1;32m    519\u001b[0m         \u001b[39mself\u001b[39m\u001b[39m.\u001b[39mexecute_no_results(sock_info, generator)\n\u001b[1;32m    520\u001b[0m \u001b[39melse\u001b[39;00m:\n\u001b[0;32m--> 521\u001b[0m     \u001b[39mreturn\u001b[39;00m \u001b[39mself\u001b[39;49m\u001b[39m.\u001b[39;49mexecute_command(generator, write_concern, session)\n",
      "File \u001b[0;32m~/anaconda3/lib/python3.9/site-packages/pymongo/bulk.py:345\u001b[0m, in \u001b[0;36m_Bulk.execute_command\u001b[0;34m(self, generator, write_concern, session)\u001b[0m\n\u001b[1;32m    343\u001b[0m client \u001b[39m=\u001b[39m \u001b[39mself\u001b[39m\u001b[39m.\u001b[39mcollection\u001b[39m.\u001b[39mdatabase\u001b[39m.\u001b[39mclient\n\u001b[1;32m    344\u001b[0m \u001b[39mwith\u001b[39;00m client\u001b[39m.\u001b[39m_tmp_session(session) \u001b[39mas\u001b[39;00m s:\n\u001b[0;32m--> 345\u001b[0m     client\u001b[39m.\u001b[39;49m_retry_with_session(\n\u001b[1;32m    346\u001b[0m         \u001b[39mself\u001b[39;49m\u001b[39m.\u001b[39;49mis_retryable, retryable_bulk, s, \u001b[39mself\u001b[39;49m)\n\u001b[1;32m    348\u001b[0m \u001b[39mif\u001b[39;00m full_result[\u001b[39m\"\u001b[39m\u001b[39mwriteErrors\u001b[39m\u001b[39m\"\u001b[39m] \u001b[39mor\u001b[39;00m full_result[\u001b[39m\"\u001b[39m\u001b[39mwriteConcernErrors\u001b[39m\u001b[39m\"\u001b[39m]:\n\u001b[1;32m    349\u001b[0m     _raise_bulk_write_error(full_result)\n",
      "File \u001b[0;32m~/anaconda3/lib/python3.9/site-packages/pymongo/mongo_client.py:1201\u001b[0m, in \u001b[0;36mMongoClient._retry_with_session\u001b[0;34m(self, retryable, func, session, bulk)\u001b[0m\n\u001b[1;32m   1199\u001b[0m                 \u001b[39mraise\u001b[39;00m last_error\n\u001b[1;32m   1200\u001b[0m             retryable \u001b[39m=\u001b[39m \u001b[39mFalse\u001b[39;00m\n\u001b[0;32m-> 1201\u001b[0m         \u001b[39mreturn\u001b[39;00m func(session, sock_info, retryable)\n\u001b[1;32m   1202\u001b[0m \u001b[39mexcept\u001b[39;00m ServerSelectionTimeoutError:\n\u001b[1;32m   1203\u001b[0m     \u001b[39mif\u001b[39;00m is_retrying():\n\u001b[1;32m   1204\u001b[0m         \u001b[39m# The application may think the write was never attempted\u001b[39;00m\n\u001b[1;32m   1205\u001b[0m         \u001b[39m# if we raise ServerSelectionTimeoutError on the retry\u001b[39;00m\n\u001b[1;32m   1206\u001b[0m         \u001b[39m# attempt. Raise the original exception instead.\u001b[39;00m\n",
      "File \u001b[0;32m~/anaconda3/lib/python3.9/site-packages/pymongo/bulk.py:339\u001b[0m, in \u001b[0;36m_Bulk.execute_command.<locals>.retryable_bulk\u001b[0;34m(session, sock_info, retryable)\u001b[0m\n\u001b[1;32m    338\u001b[0m \u001b[39mdef\u001b[39;00m \u001b[39mretryable_bulk\u001b[39m(session, sock_info, retryable):\n\u001b[0;32m--> 339\u001b[0m     \u001b[39mself\u001b[39;49m\u001b[39m.\u001b[39;49m_execute_command(\n\u001b[1;32m    340\u001b[0m         generator, write_concern, session, sock_info, op_id,\n\u001b[1;32m    341\u001b[0m         retryable, full_result)\n",
      "File \u001b[0;32m~/anaconda3/lib/python3.9/site-packages/pymongo/bulk.py:294\u001b[0m, in \u001b[0;36m_Bulk._execute_command\u001b[0;34m(self, generator, write_concern, session, sock_info, op_id, retryable, full_result)\u001b[0m\n\u001b[1;32m    292\u001b[0m \u001b[39mif\u001b[39;00m \u001b[39mnot\u001b[39;00m to_send:\n\u001b[1;32m    293\u001b[0m     \u001b[39mraise\u001b[39;00m InvalidOperation(\u001b[39m\"\u001b[39m\u001b[39mcannot do an empty bulk write\u001b[39m\u001b[39m\"\u001b[39m)\n\u001b[0;32m--> 294\u001b[0m result \u001b[39m=\u001b[39m bwc\u001b[39m.\u001b[39;49mwrite_command(request_id, msg, to_send)\n\u001b[1;32m    295\u001b[0m client\u001b[39m.\u001b[39m_receive_cluster_time(result, session)\n\u001b[1;32m    297\u001b[0m \u001b[39m# Retryable writeConcernErrors halt the execution of this run.\u001b[39;00m\n",
      "File \u001b[0;32m~/anaconda3/lib/python3.9/site-packages/pymongo/message.py:920\u001b[0m, in \u001b[0;36m_BulkWriteContext.write_command\u001b[0;34m(self, request_id, msg, docs)\u001b[0m\n\u001b[1;32m    918\u001b[0m     start \u001b[39m=\u001b[39m datetime\u001b[39m.\u001b[39mdatetime\u001b[39m.\u001b[39mnow()\n\u001b[1;32m    919\u001b[0m \u001b[39mtry\u001b[39;00m:\n\u001b[0;32m--> 920\u001b[0m     reply \u001b[39m=\u001b[39m \u001b[39mself\u001b[39;49m\u001b[39m.\u001b[39;49msock_info\u001b[39m.\u001b[39;49mwrite_command(request_id, msg)\n\u001b[1;32m    921\u001b[0m     \u001b[39mif\u001b[39;00m \u001b[39mself\u001b[39m\u001b[39m.\u001b[39mpublish:\n\u001b[1;32m    922\u001b[0m         duration \u001b[39m=\u001b[39m (datetime\u001b[39m.\u001b[39mdatetime\u001b[39m.\u001b[39mnow() \u001b[39m-\u001b[39m start) \u001b[39m+\u001b[39m duration\n",
      "File \u001b[0;32m~/anaconda3/lib/python3.9/site-packages/pymongo/pool.py:651\u001b[0m, in \u001b[0;36mSocketInfo.write_command\u001b[0;34m(self, request_id, msg)\u001b[0m\n\u001b[1;32m    642\u001b[0m \u001b[39m\"\"\"Send \"insert\" etc. command, returning response as a dict.\u001b[39;00m\n\u001b[1;32m    643\u001b[0m \n\u001b[1;32m    644\u001b[0m \u001b[39mCan raise ConnectionFailure or OperationFailure.\u001b[39;00m\n\u001b[0;32m   (...)\u001b[0m\n\u001b[1;32m    648\u001b[0m \u001b[39m  - `msg`: bytes, the command message.\u001b[39;00m\n\u001b[1;32m    649\u001b[0m \u001b[39m\"\"\"\u001b[39;00m\n\u001b[1;32m    650\u001b[0m \u001b[39mself\u001b[39m\u001b[39m.\u001b[39msend_message(msg, \u001b[39m0\u001b[39m)\n\u001b[0;32m--> 651\u001b[0m reply \u001b[39m=\u001b[39m \u001b[39mself\u001b[39;49m\u001b[39m.\u001b[39;49mreceive_message(request_id)\n\u001b[1;32m    652\u001b[0m result \u001b[39m=\u001b[39m reply\u001b[39m.\u001b[39mcommand_response()\n\u001b[1;32m    654\u001b[0m \u001b[39m# Raises NotMasterError or OperationFailure.\u001b[39;00m\n",
      "File \u001b[0;32m~/anaconda3/lib/python3.9/site-packages/pymongo/pool.py:612\u001b[0m, in \u001b[0;36mSocketInfo.receive_message\u001b[0;34m(self, request_id)\u001b[0m\n\u001b[1;32m    609\u001b[0m     \u001b[39mreturn\u001b[39;00m receive_message(\u001b[39mself\u001b[39m\u001b[39m.\u001b[39msock, request_id,\n\u001b[1;32m    610\u001b[0m                            \u001b[39mself\u001b[39m\u001b[39m.\u001b[39mmax_message_size)\n\u001b[1;32m    611\u001b[0m \u001b[39mexcept\u001b[39;00m \u001b[39mBaseException\u001b[39;00m \u001b[39mas\u001b[39;00m error:\n\u001b[0;32m--> 612\u001b[0m     \u001b[39mself\u001b[39;49m\u001b[39m.\u001b[39;49m_raise_connection_failure(error)\n",
      "File \u001b[0;32m~/anaconda3/lib/python3.9/site-packages/pymongo/pool.py:745\u001b[0m, in \u001b[0;36mSocketInfo._raise_connection_failure\u001b[0;34m(self, error)\u001b[0m\n\u001b[1;32m    743\u001b[0m     _raise_connection_failure(\u001b[39mself\u001b[39m\u001b[39m.\u001b[39maddress, error)\n\u001b[1;32m    744\u001b[0m \u001b[39melse\u001b[39;00m:\n\u001b[0;32m--> 745\u001b[0m     \u001b[39mraise\u001b[39;00m error\n",
      "File \u001b[0;32m~/anaconda3/lib/python3.9/site-packages/pymongo/pool.py:609\u001b[0m, in \u001b[0;36mSocketInfo.receive_message\u001b[0;34m(self, request_id)\u001b[0m\n\u001b[1;32m    604\u001b[0m \u001b[39m\"\"\"Receive a raw BSON message or raise ConnectionFailure.\u001b[39;00m\n\u001b[1;32m    605\u001b[0m \n\u001b[1;32m    606\u001b[0m \u001b[39mIf any exception is raised, the socket is closed.\u001b[39;00m\n\u001b[1;32m    607\u001b[0m \u001b[39m\"\"\"\u001b[39;00m\n\u001b[1;32m    608\u001b[0m \u001b[39mtry\u001b[39;00m:\n\u001b[0;32m--> 609\u001b[0m     \u001b[39mreturn\u001b[39;00m receive_message(\u001b[39mself\u001b[39;49m\u001b[39m.\u001b[39;49msock, request_id,\n\u001b[1;32m    610\u001b[0m                            \u001b[39mself\u001b[39;49m\u001b[39m.\u001b[39;49mmax_message_size)\n\u001b[1;32m    611\u001b[0m \u001b[39mexcept\u001b[39;00m \u001b[39mBaseException\u001b[39;00m \u001b[39mas\u001b[39;00m error:\n\u001b[1;32m    612\u001b[0m     \u001b[39mself\u001b[39m\u001b[39m.\u001b[39m_raise_connection_failure(error)\n",
      "File \u001b[0;32m~/anaconda3/lib/python3.9/site-packages/pymongo/network.py:173\u001b[0m, in \u001b[0;36mreceive_message\u001b[0;34m(sock, request_id, max_message_size)\u001b[0m\n\u001b[1;32m    170\u001b[0m \u001b[39m\"\"\"Receive a raw BSON message or raise socket.error.\"\"\"\u001b[39;00m\n\u001b[1;32m    171\u001b[0m \u001b[39m# Ignore the response's request id.\u001b[39;00m\n\u001b[1;32m    172\u001b[0m length, _, response_to, op_code \u001b[39m=\u001b[39m _UNPACK_HEADER(\n\u001b[0;32m--> 173\u001b[0m     _receive_data_on_socket(sock, \u001b[39m16\u001b[39;49m))\n\u001b[1;32m    174\u001b[0m \u001b[39m# No request_id for exhaust cursor \"getMore\".\u001b[39;00m\n\u001b[1;32m    175\u001b[0m \u001b[39mif\u001b[39;00m request_id \u001b[39mis\u001b[39;00m \u001b[39mnot\u001b[39;00m \u001b[39mNone\u001b[39;00m:\n",
      "File \u001b[0;32m~/anaconda3/lib/python3.9/site-packages/pymongo/network.py:232\u001b[0m, in \u001b[0;36m_receive_data_on_socket\u001b[0;34m(sock, length)\u001b[0m\n\u001b[1;32m    230\u001b[0m \u001b[39mwhile\u001b[39;00m bytes_read \u001b[39m<\u001b[39m length:\n\u001b[1;32m    231\u001b[0m     \u001b[39mtry\u001b[39;00m:\n\u001b[0;32m--> 232\u001b[0m         chunk_length \u001b[39m=\u001b[39m sock\u001b[39m.\u001b[39;49mrecv_into(mv[bytes_read:])\n\u001b[1;32m    233\u001b[0m     \u001b[39mexcept\u001b[39;00m (\u001b[39mIOError\u001b[39;00m, \u001b[39mOSError\u001b[39;00m) \u001b[39mas\u001b[39;00m exc:\n\u001b[1;32m    234\u001b[0m         \u001b[39mif\u001b[39;00m _errno_from_exception(exc) \u001b[39m==\u001b[39m errno\u001b[39m.\u001b[39mEINTR:\n",
      "\u001b[0;31mKeyboardInterrupt\u001b[0m: "
     ]
    }
   ],
   "source": [
    "start_time = time.time()\n",
    "for i, json_file in enumerate(os.listdir(\"../json-generated-data\")):\n",
    "    with open(os.path.join(\"../json-generated-data\", json_file)) as file:\n",
    "        file_dict = json.load(file)\n",
    "    \n",
    "    db3.extracto_cuenta.insert_many(file_dict) \n",
    "\n",
    "    if i+1 == 100:\n",
    "        break\n",
    "    \n",
    "\n",
    "end_time = time.time()\n",
    "# Mostramos los resultados en consola\n",
    "print(f'Tiempo de carga de 100M de documentos: {str(timedelta(seconds = (end_time - start_time)))}')"
   ]
  },
  {
   "cell_type": "code",
   "execution_count": 17,
   "metadata": {},
   "outputs": [
    {
     "name": "stdout",
     "output_type": "stream",
     "text": [
      "0 documentos insertados en la base de datos 3\n"
     ]
    }
   ],
   "source": [
    "print(f\"{db3.extracto_cuenta.count_documents({})} documentos insertados en la base de datos 3\")"
   ]
  },
  {
   "cell_type": "code",
   "execution_count": 18,
   "metadata": {},
   "outputs": [
    {
     "data": {
      "text/plain": [
       "{'db': 'test_mongo_100M',\n",
       " 'collections': 1,\n",
       " 'views': 0,\n",
       " 'objects': 0,\n",
       " 'avgObjSize': 0.0,\n",
       " 'dataSize': 0.0,\n",
       " 'storageSize': 0.004096,\n",
       " 'indexes': 7,\n",
       " 'indexSize': 0.028672,\n",
       " 'totalSize': 0.032768,\n",
       " 'scaleFactor': 1000000.0,\n",
       " 'fsUsedSize': 270418.792448,\n",
       " 'fsTotalSize': 331915.800576,\n",
       " 'ok': 1.0}"
      ]
     },
     "execution_count": 18,
     "metadata": {},
     "output_type": "execute_result"
    }
   ],
   "source": [
    "db3.command({\"dbStats\": 1, \"scale\": 1000000})"
   ]
  },
  {
   "cell_type": "code",
   "execution_count": null,
   "metadata": {},
   "outputs": [],
   "source": []
  }
 ],
 "metadata": {
  "kernelspec": {
   "display_name": "Python 3.9.12 ('base')",
   "language": "python",
   "name": "python3"
  },
  "language_info": {
   "codemirror_mode": {
    "name": "ipython",
    "version": 3
   },
   "file_extension": ".py",
   "mimetype": "text/x-python",
   "name": "python",
   "nbconvert_exporter": "python",
   "pygments_lexer": "ipython3",
   "version": "3.9.12"
  },
  "orig_nbformat": 4,
  "vscode": {
   "interpreter": {
    "hash": "d7e5a1f785ed82844e2da5d30522181462e1597dbd1807cbc4c5c0cc1d5a2e0b"
   }
  }
 },
 "nbformat": 4,
 "nbformat_minor": 2
}

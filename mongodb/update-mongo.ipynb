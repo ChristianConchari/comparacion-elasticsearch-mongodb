{
 "cells": [
  {
   "cell_type": "code",
   "execution_count": 1,
   "metadata": {},
   "outputs": [],
   "source": [
    "from pymongo import MongoClient\n",
    "import time\n",
    "from datetime import datetime, timedelta\n",
    "\n",
    "client = MongoClient('localhost', 27017)\n",
    "db = client[\"test_mongo\"]"
   ]
  },
  {
   "cell_type": "markdown",
   "metadata": {},
   "source": [
    "# Actualizaciones a la base de datos con 1 millón de registros y todos los campos indexados"
   ]
  },
  {
   "cell_type": "markdown",
   "metadata": {},
   "source": [
    "En esta sección se revisará la operación de búsqueda para la colección de 1 millón de documentos ya indexados"
   ]
  },
  {
   "cell_type": "code",
   "execution_count": 25,
   "metadata": {},
   "outputs": [],
   "source": [
    "coll = db[\"extracto_cuenta_1m2\"]"
   ]
  },
  {
   "cell_type": "markdown",
   "metadata": {},
   "source": [
    "## Actualización 1: Monto por fecha"
   ]
  },
  {
   "cell_type": "markdown",
   "metadata": {},
   "source": [
    "Se actualizarán los campos monto y nota, dependiendo de una fecha especificada"
   ]
  },
  {
   "cell_type": "code",
   "execution_count": 4,
   "metadata": {},
   "outputs": [],
   "source": [
    "def actualizacion_fecha_monto(start_date, end_date, monto, coll):\n",
    "    from_date_str = start_date + \"T00:00:00+00:00\"\n",
    "    to_date_str = end_date + \"T23:59:59+00:00\"\n",
    "    \n",
    "    criteria = {\n",
    "        \"$and\":\n",
    "            [\n",
    "                {\n",
    "                    \"fecha\":\n",
    "                    {\n",
    "                        \"$gte\": from_date_str,\n",
    "                        \"$lte\": to_date_str\n",
    "                    }\n",
    "                }\n",
    "            ]\n",
    "        }\n",
    "    \n",
    "    new = {\n",
    "        \"$set\":\n",
    "            {\n",
    "                \"monto\": monto, \n",
    "                \"nota\": \"Monto actualizado por fecha\"\n",
    "            }\n",
    "        }\n",
    "\n",
    "    return coll.update_many(criteria, new)"
   ]
  },
  {
   "cell_type": "code",
   "execution_count": 5,
   "metadata": {},
   "outputs": [
    {
     "name": "stdout",
     "output_type": "stream",
     "text": [
      "====================================================================================================\n",
      " Se han actualizado 1152 documentos\n",
      "====================================================================================================\n",
      " Actualización realizada en un tiempo de 0:00:45.321720\n",
      "====================================================================================================\n"
     ]
    }
   ],
   "source": [
    "start_date = \"2021-08-01\"\n",
    "end_date = \"2021-08-31\"\n",
    "monto_actualizar = 7890\n",
    "\n",
    "start_time = time.time()\n",
    "results = actualizacion_fecha_monto(start_date, end_date, monto_actualizar, coll)\n",
    "end_time = time.time()\n",
    "\n",
    "print(\"=\"*100)\n",
    "print(f\" Se han actualizado {results.modified_count} documentos\")\n",
    "print(\"=\"*100)\n",
    "print(f\" Actualización realizada en un tiempo de {str(timedelta(seconds = (end_time - start_time)))}\")\n",
    "print(\"=\"*100)"
   ]
  },
  {
   "cell_type": "code",
   "execution_count": 6,
   "metadata": {},
   "outputs": [
    {
     "name": "stdout",
     "output_type": "stream",
     "text": [
      "{'_id': ObjectId('636db340dfb1bbbb1b844d21'), 'fecha': '2021-08-02 01:25:37', 'agencia': 'Santa Cruz', 'monto': 7890, 'descripcion': 'Apertura de cuenta corriente', 'saldo': 8837884.56, 'nota': 'Monto actualizado por fecha'}\n",
      "{'_id': ObjectId('636db340dfb1bbbb1b8365b0'), 'fecha': '2021-08-02 02:08:28', 'agencia': 'Oruro', 'monto': 7890, 'descripcion': 'Deposito a cuenta', 'saldo': 535334.66, 'nota': 'Monto actualizado por fecha'}\n",
      "{'_id': ObjectId('636db343dfb1bbbb1b8c7fba'), 'fecha': '2021-08-02 02:09:28', 'agencia': 'La Paz', 'monto': 7890, 'descripcion': 'Pago recibo de luz', 'saldo': 6480861.49, 'nota': 'Monto actualizado por fecha'}\n",
      "{'_id': ObjectId('636db33fdfb1bbbb1b80a223'), 'fecha': '2021-08-02 02:40:03', 'agencia': 'Pando', 'monto': 7890, 'descripcion': 'Pago recibo de gas', 'saldo': 3829466.48, 'nota': 'Monto actualizado por fecha'}\n",
      "{'_id': ObjectId('636db341dfb1bbbb1b866eef'), 'fecha': '2021-08-02 03:13:41', 'agencia': 'Beni', 'monto': 7890, 'descripcion': 'Pago en interés', 'saldo': 5994940.1, 'nota': 'Monto actualizado por fecha'}\n",
      "{'_id': ObjectId('636db33edfb1bbbb1b7ee41b'), 'fecha': '2021-08-02 03:26:19', 'agencia': 'Chuquisaca', 'monto': 7890, 'descripcion': 'Debito Cta por compra', 'saldo': 5348728.39, 'nota': 'Monto actualizado por fecha'}\n",
      "{'_id': ObjectId('636db342dfb1bbbb1b89fc5d'), 'fecha': '2021-08-02 03:55:06', 'agencia': 'Chuquisaca', 'monto': 7890, 'descripcion': 'Ingreso en efectivo', 'saldo': 1733796.73, 'nota': 'Monto actualizado por fecha'}\n",
      "{'_id': ObjectId('636db342dfb1bbbb1b8a3087'), 'fecha': '2021-08-02 04:06:25', 'agencia': 'Tarija', 'monto': 7890, 'descripcion': 'Capitalización de intereses premio', 'saldo': 7038393.2, 'nota': 'Monto actualizado por fecha'}\n",
      "{'_id': ObjectId('636db340dfb1bbbb1b85761f'), 'fecha': '2021-08-02 05:19:55', 'agencia': 'Beni', 'monto': 7890, 'descripcion': 'Reintegro cajero automático', 'saldo': 6705960.84, 'nota': 'Monto actualizado por fecha'}\n",
      "{'_id': ObjectId('636db342dfb1bbbb1b88fd80'), 'fecha': '2021-08-02 05:28:19', 'agencia': 'Chuquisaca', 'monto': 7890, 'descripcion': 'DEB.CTA.P/C.INTERNET', 'saldo': 3075507.42, 'nota': 'Monto actualizado por fecha'}\n"
     ]
    }
   ],
   "source": [
    "from_date_str = start_date + \"T00:00:00+00:00\"\n",
    "to_date_str = end_date + \"T23:59:59+00:00\"\n",
    "\n",
    "results = coll.find(\n",
    "    {\n",
    "        \"$and\":\n",
    "            [\n",
    "                {\n",
    "                    \"fecha\":\n",
    "                    {\n",
    "                        \"$gte\": from_date_str,\n",
    "                        \"$lte\": to_date_str\n",
    "                    }\n",
    "                }\n",
    "            ]\n",
    "        }\n",
    "    )\n",
    "\n",
    "for result in results[:10]:\n",
    "    print(result)"
   ]
  },
  {
   "cell_type": "markdown",
   "metadata": {},
   "source": [
    "## Actualización 2: Nota por descripción y fecha"
   ]
  },
  {
   "cell_type": "markdown",
   "metadata": {},
   "source": [
    "Se actualizarán los campos monto y nota, dependiendo de una descripción especificada."
   ]
  },
  {
   "cell_type": "code",
   "execution_count": 26,
   "metadata": {},
   "outputs": [],
   "source": [
    "def actualizacion_monto_descripcion_fecha(start_date, end_date, descripcion1, descripcion2, monto, coll):\n",
    "    from_date_str = start_date + \"T00:00:00+00:00\"\n",
    "    to_date_str = end_date + \"T23:59:59+00:00\"\n",
    "    \n",
    "    criteria = {\n",
    "        \"$and\":\n",
    "            [\n",
    "                {\n",
    "                    \"$or\":\n",
    "                    [\n",
    "                        {\n",
    "                            \"descripcion\": descripcion1\n",
    "                        },\n",
    "                        {\n",
    "                            \"descripcion\": descripcion2\n",
    "                        }\n",
    "                    ]\n",
    "                },\n",
    "                {\n",
    "                    \"fecha\":\n",
    "                    {\n",
    "                        \"$gte\": from_date_str,\n",
    "                        \"$lte\": to_date_str\n",
    "                    }\n",
    "                }\n",
    "            ]\n",
    "            \n",
    "        }\n",
    "    \n",
    "    new = {\n",
    "        \"$set\":\n",
    "            {\n",
    "                \"monto\": monto, \n",
    "                \"nota\": \"Monto actualizado por descripción\"\n",
    "            }\n",
    "        }\n",
    "\n",
    "    return coll.update_many(criteria, new)"
   ]
  },
  {
   "cell_type": "code",
   "execution_count": 27,
   "metadata": {},
   "outputs": [
    {
     "name": "stdout",
     "output_type": "stream",
     "text": [
      "====================================================================================================\n",
      " Se han actualizado 27 documentos\n",
      "====================================================================================================\n",
      " Actualización realizada en un tiempo de 0:00:05.853436\n",
      "====================================================================================================\n"
     ]
    }
   ],
   "source": [
    "start_date = \"1980-05-14\"\n",
    "end_date = \"1980-05-25\"\n",
    "descripcion1 = 'Aporte inversor'\n",
    "descripcion2 = 'Apertura de caja de ahorros'\n",
    "monto = 10.50\n",
    "\n",
    "start_time = time.time()\n",
    "results = actualizacion_monto_descripcion_fecha(start_date, end_date, descripcion1, descripcion2, monto, coll)\n",
    "end_time = time.time()\n",
    "\n",
    "print(\"=\"*100)\n",
    "print(f\" Se han actualizado {results.modified_count} documentos\")\n",
    "print(\"=\"*100)\n",
    "print(f\" Actualización realizada en un tiempo de {str(timedelta(seconds = (end_time - start_time)))}\")\n",
    "print(\"=\"*100)"
   ]
  },
  {
   "cell_type": "code",
   "execution_count": 29,
   "metadata": {},
   "outputs": [
    {
     "name": "stdout",
     "output_type": "stream",
     "text": [
      "{'_id': ObjectId('636db33edfb1bbbb1b7f063b'), 'fecha': '1980-05-15 08:32:48', 'agencia': 'Oruro', 'monto': 10.5, 'descripcion': 'Aporte inversor', 'saldo': 1253093.18, 'nota': 'Monto actualizado por descripción'}\n",
      "{'_id': ObjectId('636db33fdfb1bbbb1b80e07d'), 'fecha': '1980-05-16 17:50:02', 'agencia': 'La Paz', 'monto': 10.5, 'descripcion': 'Apertura de caja de ahorros', 'saldo': 6428046.41, 'nota': 'Monto actualizado por descripción'}\n",
      "{'_id': ObjectId('636db342dfb1bbbb1b8bdbc8'), 'fecha': '1980-05-16 23:32:03', 'agencia': 'Pando', 'monto': 10.5, 'descripcion': 'Aporte inversor', 'saldo': 2259769.54, 'nota': 'Monto actualizado por descripción'}\n",
      "{'_id': ObjectId('636db341dfb1bbbb1b87cc9b'), 'fecha': '1980-05-18 03:14:46', 'agencia': 'Oruro', 'monto': 10.5, 'descripcion': 'Apertura de caja de ahorros', 'saldo': 729783.05, 'nota': 'Monto actualizado por descripción'}\n",
      "{'_id': ObjectId('636db343dfb1bbbb1b8c6b11'), 'fecha': '1980-05-18 21:55:15', 'agencia': 'Chuquisaca', 'monto': 10.5, 'descripcion': 'Aporte inversor', 'saldo': 2114653.48, 'nota': 'Monto actualizado por descripción'}\n",
      "{'_id': ObjectId('636db342dfb1bbbb1b8a30ed'), 'fecha': '1980-05-19 00:15:48', 'agencia': 'Chuquisaca', 'monto': 10.5, 'descripcion': 'Apertura de caja de ahorros', 'saldo': 3998486.69, 'nota': 'Monto actualizado por descripción'}\n",
      "{'_id': ObjectId('636db33fdfb1bbbb1b82fa75'), 'fecha': '1980-05-19 05:03:13', 'agencia': 'Pando', 'monto': 10.5, 'descripcion': 'Apertura de caja de ahorros', 'saldo': 7121996.19, 'nota': 'Monto actualizado por descripción'}\n",
      "{'_id': ObjectId('636db33fdfb1bbbb1b826f45'), 'fecha': '1980-05-19 13:45:21', 'agencia': 'La Paz', 'monto': 10.5, 'descripcion': 'Apertura de caja de ahorros', 'saldo': 1637796.72, 'nota': 'Monto actualizado por descripción'}\n",
      "{'_id': ObjectId('636db33edfb1bbbb1b7e03d1'), 'fecha': '1980-05-19 20:12:09', 'agencia': 'Cochabamba', 'monto': 10.5, 'descripcion': 'Apertura de caja de ahorros', 'saldo': 8846838.45, 'nota': 'Monto actualizado por descripción'}\n",
      "{'_id': ObjectId('636db341dfb1bbbb1b886ffb'), 'fecha': '1980-05-20 23:30:46', 'agencia': 'Cochabamba', 'monto': 10.5, 'descripcion': 'Aporte inversor', 'saldo': 6886693.24, 'nota': 'Monto actualizado por descripción'}\n"
     ]
    }
   ],
   "source": [
    "from_date_str = start_date + \"T00:00:00+00:00\"\n",
    "to_date_str = end_date + \"T23:59:59+00:00\"\n",
    "\n",
    "results = coll.find(\n",
    "    {\n",
    "        \"$and\":\n",
    "            [\n",
    "                {\n",
    "                    \"$or\":\n",
    "                    [\n",
    "                        {\n",
    "                            \"descripcion\": descripcion1\n",
    "                        },\n",
    "                        {\n",
    "                            \"descripcion\": descripcion2\n",
    "                        }\n",
    "                    ]\n",
    "                },\n",
    "                {\n",
    "                    \"fecha\":\n",
    "                    {\n",
    "                        \"$gte\": from_date_str,\n",
    "                        \"$lte\": to_date_str\n",
    "                    }\n",
    "                }\n",
    "            ]\n",
    "            \n",
    "    }\n",
    ")\n",
    "\n",
    "for result in results[:10]:\n",
    "    print(result)"
   ]
  },
  {
   "cell_type": "markdown",
   "metadata": {},
   "source": [
    "## Actualización 3: Saldo por agencias, monto y descripcion"
   ]
  },
  {
   "cell_type": "markdown",
   "metadata": {},
   "source": [
    "Se actualizarán los campos monto y nota, dependiendo de una descripción especificada."
   ]
  },
  {
   "cell_type": "code",
   "execution_count": 30,
   "metadata": {},
   "outputs": [],
   "source": [
    "def actualizacion_saldo_monto_agencia(saldo, monto, agencia1, agencia2, descripcion, coll):\n",
    "    \n",
    "    criteria = {\n",
    "        \"$and\":\n",
    "            [\n",
    "                {\n",
    "                    \"monto\": {\"$lt\": monto}\n",
    "                },\n",
    "                {\n",
    "                    \"descripcion\": descripcion\n",
    "                },\n",
    "                {\n",
    "                    \"$or\":\n",
    "                        [\n",
    "                            {\n",
    "                                \"agencia\": agencia1\n",
    "                            },\n",
    "                            {\n",
    "                                \"agencia\": agencia2\n",
    "                            }  \n",
    "                        ]\n",
    "                }\n",
    "            ]\n",
    "        }\n",
    "    \n",
    "    new = {\n",
    "        \"$set\":\n",
    "            {\n",
    "                \"saldo\": saldo, \n",
    "                \"nota\": \"Saldo actualizado por monto y agencias\"\n",
    "            }\n",
    "        }\n",
    "\n",
    "    return coll.update_many(criteria, new)"
   ]
  },
  {
   "cell_type": "code",
   "execution_count": 38,
   "metadata": {},
   "outputs": [
    {
     "name": "stdout",
     "output_type": "stream",
     "text": [
      "====================================================================================================\n",
      " Se han actualizado 34 documentos\n",
      "====================================================================================================\n",
      " Actualización realizada en un tiempo de 0:00:01.197947\n",
      "====================================================================================================\n"
     ]
    }
   ],
   "source": [
    "agencia1 = \"La Paz\"\n",
    "agencia2 = \"Santa Cruz\"\n",
    "descripcion = 'Intereses'\n",
    "saldo = 1234.5\n",
    "monto = 2000\n",
    "\n",
    "start_time = time.time()\n",
    "results = actualizacion_saldo_monto_agencia(saldo, monto, agencia1, agencia2, descripcion, coll)\n",
    "end_time = time.time()\n",
    "\n",
    "print(\"=\"*100)\n",
    "print(f\" Se han actualizado {results.modified_count} documentos\")\n",
    "print(\"=\"*100)\n",
    "print(f\" Actualización realizada en un tiempo de {str(timedelta(seconds = (end_time - start_time)))}\")\n",
    "print(\"=\"*100)"
   ]
  },
  {
   "cell_type": "code",
   "execution_count": 39,
   "metadata": {},
   "outputs": [
    {
     "name": "stdout",
     "output_type": "stream",
     "text": [
      "{'_id': ObjectId('636db33edfb1bbbb1b7d6de2'), 'fecha': '1973-12-30 15:18:51', 'agencia': 'La Paz', 'monto': 1090.72, 'descripcion': 'Intereses', 'saldo': 1234.5, 'nota': 'Saldo actualizado por monto y agencias'}\n",
      "{'_id': ObjectId('636db33edfb1bbbb1b7fa0f8'), 'fecha': '1992-09-23 08:51:16', 'agencia': 'Santa Cruz', 'monto': 1183.89, 'descripcion': 'Intereses', 'saldo': 1234.5, 'nota': 'Saldo actualizado por monto y agencias'}\n",
      "{'_id': ObjectId('636db33edfb1bbbb1b7faa61'), 'fecha': '2019-05-05 09:15:43', 'agencia': 'Santa Cruz', 'monto': 1100.83, 'descripcion': 'Intereses', 'saldo': 1234.5, 'nota': 'Saldo actualizado por monto y agencias'}\n",
      "{'_id': ObjectId('636db33edfb1bbbb1b80004d'), 'fecha': '1964-02-17 19:22:34', 'agencia': 'La Paz', 'monto': 1803.68, 'descripcion': 'Intereses', 'saldo': 1234.5, 'nota': 'Saldo actualizado por monto y agencias'}\n",
      "{'_id': ObjectId('636db33fdfb1bbbb1b807973'), 'fecha': '1997-01-05 16:54:23', 'agencia': 'Santa Cruz', 'monto': 1687.35, 'descripcion': 'Intereses', 'saldo': 1234.5, 'nota': 'Saldo actualizado por monto y agencias'}\n",
      "{'_id': ObjectId('636db33fdfb1bbbb1b810263'), 'fecha': '2008-05-07 22:40:30', 'agencia': 'La Paz', 'monto': 226.56, 'descripcion': 'Intereses', 'saldo': 1234.5, 'nota': 'Saldo actualizado por monto y agencias'}\n",
      "{'_id': ObjectId('636db33fdfb1bbbb1b8132f4'), 'fecha': '2012-06-02 23:34:26', 'agencia': 'La Paz', 'monto': 1180.32, 'descripcion': 'Intereses', 'saldo': 1234.5, 'nota': 'Saldo actualizado por monto y agencias'}\n",
      "{'_id': ObjectId('636db33fdfb1bbbb1b817dc5'), 'fecha': '1995-09-28 09:15:03', 'agencia': 'Santa Cruz', 'monto': 1735.93, 'descripcion': 'Intereses', 'saldo': 1234.5, 'nota': 'Saldo actualizado por monto y agencias'}\n",
      "{'_id': ObjectId('636db33fdfb1bbbb1b81ff42'), 'fecha': '1992-11-22 23:03:01', 'agencia': 'Santa Cruz', 'monto': 1925.29, 'descripcion': 'Intereses', 'saldo': 1234.5, 'nota': 'Saldo actualizado por monto y agencias'}\n",
      "{'_id': ObjectId('636db33fdfb1bbbb1b82736d'), 'fecha': '1957-10-29 08:01:05', 'agencia': 'La Paz', 'monto': 1253.74, 'descripcion': 'Intereses', 'saldo': 1234.5, 'nota': 'Saldo actualizado por monto y agencias'}\n"
     ]
    }
   ],
   "source": [
    "results = coll.find(\n",
    "    {\n",
    "    \"$and\":\n",
    "        [\n",
    "            {\n",
    "                \"monto\": {\"$lt\": monto}\n",
    "            },\n",
    "            {\n",
    "                \"descripcion\": descripcion\n",
    "            },\n",
    "            {\n",
    "                \"$or\":\n",
    "                    [\n",
    "                        {\n",
    "                            \"agencia\": agencia1\n",
    "                        },\n",
    "                        {\n",
    "                            \"agencia\": agencia2\n",
    "                        }  \n",
    "                    ]\n",
    "            }\n",
    "        ]\n",
    "    }\n",
    ")\n",
    "\n",
    "for result in results[:10]:\n",
    "    print(result)"
   ]
  },
  {
   "cell_type": "markdown",
   "metadata": {},
   "source": [
    "| Tabla resumen de resultados | Valor obtenido |\n",
    "|-----------------------------|----------------|\n",
    "| Tiempo actualización 1      | 45.3217 s      |\n",
    "| Tiempo actualización 2      | 5.8534 s       |\n",
    "| Tiempo actualización 3      | 1.1979 s       |"
   ]
  },
  {
   "cell_type": "markdown",
   "metadata": {},
   "source": [
    "# Actualizaciones a la base de datos con 10 millones de registros y todos los campos indexados"
   ]
  },
  {
   "cell_type": "markdown",
   "metadata": {},
   "source": [
    "En esta sección se revisará la operación de búsqueda para la colección de 10 millones de documentos ya indexados"
   ]
  },
  {
   "cell_type": "code",
   "execution_count": 40,
   "metadata": {},
   "outputs": [],
   "source": [
    "coll = db[\"extracto_cuenta_10m2\"]"
   ]
  },
  {
   "cell_type": "markdown",
   "metadata": {},
   "source": [
    "## Actualización 1: Monto por fecha"
   ]
  },
  {
   "cell_type": "markdown",
   "metadata": {},
   "source": [
    "Se actualizarán los campos monto y nota, dependiendo de una fecha especificada"
   ]
  },
  {
   "cell_type": "code",
   "execution_count": 42,
   "metadata": {},
   "outputs": [
    {
     "name": "stdout",
     "output_type": "stream",
     "text": [
      "====================================================================================================\n",
      " Se han actualizado 11439 documentos\n",
      "====================================================================================================\n",
      " Actualización realizada en un tiempo de 0:04:33.459410\n",
      "====================================================================================================\n"
     ]
    }
   ],
   "source": [
    "start_date = \"2021-12-01\"\n",
    "end_date = \"2021-12-31\"\n",
    "monto_actualizar = 7890\n",
    "\n",
    "start_time = time.time()\n",
    "results = actualizacion_fecha_monto(start_date, end_date, monto_actualizar, coll)\n",
    "end_time = time.time()\n",
    "\n",
    "print(\"=\"*100)\n",
    "print(f\" Se han actualizado {results.modified_count} documentos\")\n",
    "print(\"=\"*100)\n",
    "print(f\" Actualización realizada en un tiempo de {str(timedelta(seconds = (end_time - start_time)))}\")\n",
    "print(\"=\"*100)"
   ]
  },
  {
   "cell_type": "code",
   "execution_count": 43,
   "metadata": {},
   "outputs": [
    {
     "name": "stdout",
     "output_type": "stream",
     "text": [
      "{'_id': ObjectId('636db08fdfb1bba8ec4915df'), 'fecha': '2021-12-02 00:00:54', 'agencia': 'Tarija', 'monto': 7890, 'descripcion': 'Pago de cheque compensado', 'saldo': 7895316.3, 'nota': 'Monto actualizado por fecha'}\n",
      "{'_id': ObjectId('636db05edfb1bba8ec2b16dd'), 'fecha': '2021-12-02 00:01:56', 'agencia': 'Santa Cruz', 'monto': 7890, 'descripcion': 'Pago recibo de agua', 'saldo': 1212965.69, 'nota': 'Monto actualizado por fecha'}\n",
      "{'_id': ObjectId('636db0a9dfb1bba8ec5a1379'), 'fecha': '2021-12-02 00:04:40', 'agencia': 'Cochabamba', 'monto': 7890, 'descripcion': 'Deposito a cuenta', 'saldo': 1100613.5, 'nota': 'Monto actualizado por fecha'}\n",
      "{'_id': ObjectId('636db013dfb1bba8ecfac0ce'), 'fecha': '2021-12-02 00:05:00', 'agencia': 'Oruro', 'monto': 7890, 'descripcion': 'Pago recibo de gas', 'saldo': 5367940.51, 'nota': 'Monto actualizado por fecha'}\n",
      "{'_id': ObjectId('636db0abdfb1bba8ec5fa176'), 'fecha': '2021-12-02 00:09:02', 'agencia': 'Oruro', 'monto': 7890, 'descripcion': 'DEB.CTA.P/C.INTERNET', 'saldo': 1357921.9, 'nota': 'Monto actualizado por fecha'}\n",
      "{'_id': ObjectId('636db08cdfb1bba8ec4205f0'), 'fecha': '2021-12-02 00:09:30', 'agencia': 'La Paz', 'monto': 7890, 'descripcion': 'Transferencia interbancaria SIMPLE', 'saldo': 1309924.57, 'nota': 'Monto actualizado por fecha'}\n",
      "{'_id': ObjectId('636dafe9dfb1bba8ece25dd5'), 'fecha': '2021-12-02 00:17:22', 'agencia': 'Chuquisaca', 'monto': 7890, 'descripcion': 'Transferencia interbancaria SIMPLE', 'saldo': 5921962.32, 'nota': 'Monto actualizado por fecha'}\n",
      "{'_id': ObjectId('636db02cdfb1bba8ec06f78a'), 'fecha': '2021-12-02 00:33:04', 'agencia': 'Tarija', 'monto': 7890, 'descripcion': 'AB.CTA.P/MOVIL', 'saldo': 1231798.56, 'nota': 'Monto actualizado por fecha'}\n",
      "{'_id': ObjectId('636dafe6dfb1bba8ecdbdf80'), 'fecha': '2021-12-02 00:36:21', 'agencia': 'Tarija', 'monto': 7890, 'descripcion': 'Deposito a cuenta', 'saldo': 6561699.64, 'nota': 'Monto actualizado por fecha'}\n",
      "{'_id': ObjectId('636dafd1dfb1bba8eccda251'), 'fecha': '2021-12-02 00:37:46', 'agencia': 'Tarija', 'monto': 7890, 'descripcion': 'Consignación en efectivo', 'saldo': 7904488.56, 'nota': 'Monto actualizado por fecha'}\n"
     ]
    }
   ],
   "source": [
    "from_date_str = start_date + \"T00:00:00+00:00\"\n",
    "to_date_str = end_date + \"T23:59:59+00:00\"\n",
    "\n",
    "results = coll.find(\n",
    "    {\n",
    "        \"$and\":\n",
    "            [\n",
    "                {\n",
    "                    \"fecha\":\n",
    "                    {\n",
    "                        \"$gte\": from_date_str,\n",
    "                        \"$lte\": to_date_str\n",
    "                    }\n",
    "                }\n",
    "            ]\n",
    "        }\n",
    "    )\n",
    "\n",
    "for result in results[:10]:\n",
    "    print(result)"
   ]
  },
  {
   "cell_type": "markdown",
   "metadata": {},
   "source": [
    "## Actualización 2: Nota por descripción"
   ]
  },
  {
   "cell_type": "markdown",
   "metadata": {},
   "source": [
    "Se actualizarán los campos monto y nota, dependiendo de una descripción especificada."
   ]
  },
  {
   "cell_type": "code",
   "execution_count": 46,
   "metadata": {},
   "outputs": [
    {
     "name": "stdout",
     "output_type": "stream",
     "text": [
      "====================================================================================================\n",
      " Se han actualizado 1241 documentos\n",
      "====================================================================================================\n",
      " Actualización realizada en un tiempo de 0:04:00.600043\n",
      "====================================================================================================\n"
     ]
    }
   ],
   "source": [
    "start_date = \"1980-01-14\"\n",
    "end_date = \"1980-04-25\"\n",
    "descripcion1 = 'Aporte inversor'\n",
    "descripcion2 = 'Apertura de caja de ahorros'\n",
    "monto = 10.50\n",
    "\n",
    "start_time = time.time()\n",
    "results = actualizacion_monto_descripcion_fecha(start_date, end_date, descripcion1, descripcion2, monto, coll)\n",
    "end_time = time.time()\n",
    "\n",
    "print(\"=\"*100)\n",
    "print(f\" Se han actualizado {results.modified_count} documentos\")\n",
    "print(\"=\"*100)\n",
    "print(f\" Actualización realizada en un tiempo de {str(timedelta(seconds = (end_time - start_time)))}\")\n",
    "print(\"=\"*100)"
   ]
  },
  {
   "cell_type": "code",
   "execution_count": 47,
   "metadata": {},
   "outputs": [
    {
     "name": "stdout",
     "output_type": "stream",
     "text": [
      "{'_id': ObjectId('636db0a9dfb1bba8ec58cd80'), 'fecha': '1980-01-15 00:24:34', 'agencia': 'Beni', 'monto': 10.5, 'descripcion': 'Aporte inversor', 'saldo': 5431030.18, 'nota': 'Monto actualizado por descripción'}\n",
      "{'_id': ObjectId('636db017dfb1bba8ec01cc35'), 'fecha': '1980-01-15 02:24:13', 'agencia': 'Beni', 'monto': 10.5, 'descripcion': 'Apertura de caja de ahorros', 'saldo': 1356620.84, 'nota': 'Monto actualizado por descripción'}\n",
      "{'_id': ObjectId('636db092dfb1bba8ec4ecb6e'), 'fecha': '1980-01-15 02:24:49', 'agencia': 'Chuquisaca', 'monto': 10.5, 'descripcion': 'Apertura de caja de ahorros', 'saldo': 215898.78, 'nota': 'Monto actualizado por descripción'}\n",
      "{'_id': ObjectId('636db0abdfb1bba8ec600b09'), 'fecha': '1980-01-15 03:49:51', 'agencia': 'Tarija', 'monto': 10.5, 'descripcion': 'Aporte inversor', 'saldo': 1483142.98, 'nota': 'Monto actualizado por descripción'}\n",
      "{'_id': ObjectId('636dafe6dfb1bba8ecdcb513'), 'fecha': '1980-01-15 04:25:00', 'agencia': 'Cochabamba', 'monto': 10.5, 'descripcion': 'Aporte inversor', 'saldo': 7424079.14, 'nota': 'Monto actualizado por descripción'}\n",
      "{'_id': ObjectId('636db02edfb1bba8ec0cf7ef'), 'fecha': '1980-01-15 04:48:33', 'agencia': 'Cochabamba', 'monto': 10.5, 'descripcion': 'Apertura de caja de ahorros', 'saldo': 3014198.03, 'nota': 'Monto actualizado por descripción'}\n",
      "{'_id': ObjectId('636db031dfb1bba8ec131917'), 'fecha': '1980-01-15 06:19:52', 'agencia': 'Cochabamba', 'monto': 10.5, 'descripcion': 'Apertura de caja de ahorros', 'saldo': 4469376.69, 'nota': 'Monto actualizado por descripción'}\n",
      "{'_id': ObjectId('636db04adfb1bba8ec1fa04e'), 'fecha': '1980-01-15 06:59:58', 'agencia': 'Tarija', 'monto': 10.5, 'descripcion': 'Aporte inversor', 'saldo': 3393024.05, 'nota': 'Monto actualizado por descripción'}\n",
      "{'_id': ObjectId('636dafd3dfb1bba8ecd2f10c'), 'fecha': '1980-01-15 08:35:48', 'agencia': 'Chuquisaca', 'monto': 10.5, 'descripcion': 'Apertura de caja de ahorros', 'saldo': 2498030.61, 'nota': 'Monto actualizado por descripción'}\n",
      "{'_id': ObjectId('636db090dfb1bba8ec4b5998'), 'fecha': '1980-01-15 10:15:30', 'agencia': 'Oruro', 'monto': 10.5, 'descripcion': 'Apertura de caja de ahorros', 'saldo': 87613.87, 'nota': 'Monto actualizado por descripción'}\n"
     ]
    }
   ],
   "source": [
    "from_date_str = start_date + \"T00:00:00+00:00\"\n",
    "to_date_str = end_date + \"T23:59:59+00:00\"\n",
    "\n",
    "results = coll.find(\n",
    "    {\n",
    "        \"$and\":\n",
    "            [\n",
    "                {\n",
    "                    \"$or\":\n",
    "                    [\n",
    "                        {\n",
    "                            \"descripcion\": descripcion1\n",
    "                        },\n",
    "                        {\n",
    "                            \"descripcion\": descripcion2\n",
    "                        }\n",
    "                    ]\n",
    "                },\n",
    "                {\n",
    "                    \"fecha\":\n",
    "                    {\n",
    "                        \"$gte\": from_date_str,\n",
    "                        \"$lte\": to_date_str\n",
    "                    }\n",
    "                }\n",
    "            ]\n",
    "            \n",
    "    }\n",
    ")\n",
    "\n",
    "for result in results[:10]:\n",
    "    print(result)"
   ]
  },
  {
   "cell_type": "markdown",
   "metadata": {},
   "source": [
    "## Actualización 3: Saldo por agencias o monto"
   ]
  },
  {
   "cell_type": "markdown",
   "metadata": {},
   "source": [
    "Se actualizarán los campos monto y nota, dependiendo de una descripción especificada."
   ]
  },
  {
   "cell_type": "code",
   "execution_count": 48,
   "metadata": {},
   "outputs": [
    {
     "name": "stdout",
     "output_type": "stream",
     "text": [
      "====================================================================================================\n",
      " Se han actualizado 423 documentos\n",
      "====================================================================================================\n",
      " Actualización realizada en un tiempo de 0:02:20.916705\n",
      "====================================================================================================\n"
     ]
    }
   ],
   "source": [
    "agencia1 = \"La Paz\"\n",
    "agencia2 = \"Santa Cruz\"\n",
    "descripcion = 'Intereses'\n",
    "saldo = 1234.5\n",
    "monto = 2000\n",
    "\n",
    "start_time = time.time()\n",
    "results = actualizacion_saldo_monto_agencia(saldo, monto, agencia1, agencia2, descripcion, coll)\n",
    "end_time = time.time()\n",
    "\n",
    "print(\"=\"*100)\n",
    "print(f\" Se han actualizado {results.modified_count} documentos\")\n",
    "print(\"=\"*100)\n",
    "print(f\" Actualización realizada en un tiempo de {str(timedelta(seconds = (end_time - start_time)))}\")\n",
    "print(\"=\"*100)"
   ]
  },
  {
   "cell_type": "code",
   "execution_count": 49,
   "metadata": {},
   "outputs": [
    {
     "name": "stdout",
     "output_type": "stream",
     "text": [
      "{'_id': ObjectId('636db0a9dfb1bba8ec5833e4'), 'fecha': '1960-07-09 07:48:09', 'agencia': 'Santa Cruz', 'monto': 12.03, 'descripcion': 'Intereses', 'saldo': 1234.5, 'nota': 'Saldo actualizado por monto y agencias'}\n",
      "{'_id': ObjectId('636dafe9dfb1bba8ece2d0b0'), 'fecha': '2018-04-01 20:25:14', 'agencia': 'La Paz', 'monto': 16.2, 'descripcion': 'Intereses', 'saldo': 1234.5, 'nota': 'Saldo actualizado por monto y agencias'}\n",
      "{'_id': ObjectId('636db0abdfb1bba8ec5f5b09'), 'fecha': '1964-04-12 18:53:53', 'agencia': 'Santa Cruz', 'monto': 19.62, 'descripcion': 'Intereses', 'saldo': 1234.5, 'nota': 'Saldo actualizado por monto y agencias'}\n",
      "{'_id': ObjectId('636db02edfb1bba8ec0b2d76'), 'fecha': '1956-04-14 01:32:42', 'agencia': 'La Paz', 'monto': 20.34, 'descripcion': 'Intereses', 'saldo': 1234.5, 'nota': 'Saldo actualizado por monto y agencias'}\n",
      "{'_id': ObjectId('636dafe5dfb1bba8ecda6e7e'), 'fecha': '1964-09-10 17:22:52', 'agencia': 'Santa Cruz', 'monto': 21.98, 'descripcion': 'Intereses', 'saldo': 1234.5, 'nota': 'Saldo actualizado por monto y agencias'}\n",
      "{'_id': ObjectId('636db091dfb1bba8ec4bc413'), 'fecha': '2008-11-03 02:41:21', 'agencia': 'Santa Cruz', 'monto': 30.94, 'descripcion': 'Intereses', 'saldo': 1234.5, 'nota': 'Saldo actualizado por monto y agencias'}\n",
      "{'_id': ObjectId('636daffbdfb1bba8ece923d5'), 'fecha': '2010-12-31 06:38:37', 'agencia': 'La Paz', 'monto': 41.71, 'descripcion': 'Intereses', 'saldo': 1234.5, 'nota': 'Saldo actualizado por monto y agencias'}\n",
      "{'_id': ObjectId('636db04adfb1bba8ec20a729'), 'fecha': '2012-07-17 10:58:53', 'agencia': 'Santa Cruz', 'monto': 42.07, 'descripcion': 'Intereses', 'saldo': 1234.5, 'nota': 'Saldo actualizado por monto y agencias'}\n",
      "{'_id': ObjectId('636db04adfb1bba8ec1fb28f'), 'fecha': '1964-10-30 14:34:34', 'agencia': 'Santa Cruz', 'monto': 46.44, 'descripcion': 'Intereses', 'saldo': 1234.5, 'nota': 'Saldo actualizado por monto y agencias'}\n",
      "{'_id': ObjectId('636db08ddfb1bba8ec447055'), 'fecha': '2012-07-30 02:30:58', 'agencia': 'La Paz', 'monto': 46.64, 'descripcion': 'Intereses', 'saldo': 1234.5, 'nota': 'Saldo actualizado por monto y agencias'}\n"
     ]
    }
   ],
   "source": [
    "results = coll.find(\n",
    "    {\n",
    "    \"$and\":\n",
    "        [\n",
    "            {\n",
    "                \"monto\": {\"$lt\": monto}\n",
    "            },\n",
    "            {\n",
    "                \"descripcion\": descripcion\n",
    "            },\n",
    "            {\n",
    "                \"$or\":\n",
    "                    [\n",
    "                        {\n",
    "                            \"agencia\": agencia1\n",
    "                        },\n",
    "                        {\n",
    "                            \"agencia\": agencia2\n",
    "                        }  \n",
    "                    ]\n",
    "            }\n",
    "        ]\n",
    "    }\n",
    ")\n",
    "\n",
    "for result in results[:10]:\n",
    "    print(result)"
   ]
  },
  {
   "cell_type": "markdown",
   "metadata": {},
   "source": [
    "| Tabla resumen de resultados | Valor obtenido |\n",
    "|-----------------------------|----------------|\n",
    "| Tiempo actualización 1      | 45.3217 s      |\n",
    "| Tiempo actualización 2      | 5.8534 s       |\n",
    "| Tiempo actualización 3      | 1.1979 s       |"
   ]
  },
  {
   "cell_type": "markdown",
   "metadata": {},
   "source": [
    "# Actualizaciones a la base de datos con 30 millones de registros y todos los campos indexados"
   ]
  },
  {
   "cell_type": "markdown",
   "metadata": {},
   "source": [
    "En esta sección se revisará la operación de búsqueda para la colección de 30 millones de documentos ya indexados"
   ]
  },
  {
   "cell_type": "code",
   "execution_count": 58,
   "metadata": {},
   "outputs": [],
   "source": [
    "coll = db[\"extracto_cuenta_30m\"]"
   ]
  },
  {
   "cell_type": "markdown",
   "metadata": {},
   "source": [
    "## Actualización 1: Monto por fecha"
   ]
  },
  {
   "cell_type": "markdown",
   "metadata": {},
   "source": [
    "Se actualizarán los campos monto y nota, dependiendo de una fecha especificada"
   ]
  },
  {
   "cell_type": "code",
   "execution_count": 59,
   "metadata": {},
   "outputs": [
    {
     "name": "stdout",
     "output_type": "stream",
     "text": [
      "====================================================================================================\n",
      " Se han actualizado 34078 documentos\n",
      "====================================================================================================\n",
      " Actualización realizada en un tiempo de 0:41:28.474775\n",
      "====================================================================================================\n"
     ]
    }
   ],
   "source": [
    "start_date = \"2020-12-01\"\n",
    "end_date = \"2020-12-31\"\n",
    "monto_actualizar = 7890\n",
    "\n",
    "start_time = time.time()\n",
    "results = actualizacion_fecha_monto(start_date, end_date, monto_actualizar, coll)\n",
    "end_time = time.time()\n",
    "\n",
    "print(\"=\"*100)\n",
    "print(f\" Se han actualizado {results.modified_count} documentos\")\n",
    "print(\"=\"*100)\n",
    "print(f\" Actualización realizada en un tiempo de {str(timedelta(seconds = (end_time - start_time)))}\")\n",
    "print(\"=\"*100)"
   ]
  },
  {
   "cell_type": "code",
   "execution_count": 60,
   "metadata": {},
   "outputs": [
    {
     "name": "stdout",
     "output_type": "stream",
     "text": [
      "{'_id': ObjectId('636d40b3dfb1bb4dd6d924d5'), 'fecha': '2020-12-02 00:00:14', 'agencia': 'Tarija', 'monto': 7890, 'descripcion': 'Pago de nómina', 'saldo': 458926.79, 'nota': 'Monto actualizado por fecha'}\n",
      "{'_id': ObjectId('636d3f87dfb1bb4dd6074ee9'), 'fecha': '2020-12-02 00:01:05', 'agencia': 'Chuquisaca', 'monto': 7890, 'descripcion': 'Apertura de cuenta corriente', 'saldo': 5416583.29, 'nota': 'Monto actualizado por fecha'}\n",
      "{'_id': ObjectId('636d40b1dfb1bb4dd6d319fa'), 'fecha': '2020-12-02 00:01:15', 'agencia': 'Oruro', 'monto': 7890, 'descripcion': 'Apertura de cuenta corriente', 'saldo': 1716273.52, 'nota': 'Monto actualizado por fecha'}\n",
      "{'_id': ObjectId('636d4126dfb1bb4dd620a662'), 'fecha': '2020-12-02 00:02:58', 'agencia': 'Cochabamba', 'monto': 7890, 'descripcion': 'Reintegro cajero automático', 'saldo': 1545910.97, 'nota': 'Monto actualizado por fecha'}\n",
      "{'_id': ObjectId('636d41c3dfb1bb4dd67be379'), 'fecha': '2020-12-02 00:05:49', 'agencia': 'Cochabamba', 'monto': 7890, 'descripcion': 'Compra en comercio', 'saldo': 6055536.94, 'nota': 'Monto actualizado por fecha'}\n",
      "{'_id': ObjectId('636d3fe3dfb1bb4dd6474228'), 'fecha': '2020-12-02 00:14:50', 'agencia': 'Cochabamba', 'monto': 7890, 'descripcion': 'Apertura de caja de ahorros', 'saldo': 7071478.84, 'nota': 'Monto actualizado por fecha'}\n",
      "{'_id': ObjectId('636d4139dfb1bb4dd62862ec'), 'fecha': '2020-12-02 00:15:32', 'agencia': 'Beni', 'monto': 7890, 'descripcion': 'Apertura de caja de ahorros', 'saldo': 2635174.72, 'nota': 'Monto actualizado por fecha'}\n",
      "{'_id': ObjectId('636d3fa2dfb1bb4dd620aef0'), 'fecha': '2020-12-02 00:16:15', 'agencia': 'Tarija', 'monto': 7890, 'descripcion': 'DEB.CTA.P/C.INTERNET', 'saldo': 1849627.55, 'nota': 'Monto actualizado por fecha'}\n",
      "{'_id': ObjectId('636d3fa0dfb1bb4dd61c0f26'), 'fecha': '2020-12-02 00:16:34', 'agencia': 'Oruro', 'monto': 7890, 'descripcion': 'Aporte inversor', 'saldo': 5952786.9, 'nota': 'Monto actualizado por fecha'}\n",
      "{'_id': ObjectId('636d4058dfb1bb4dd6973b90'), 'fecha': '2020-12-02 00:17:26', 'agencia': 'Tarija', 'monto': 7890, 'descripcion': 'AB.CTA.P/MOVIL', 'saldo': 750815.64, 'nota': 'Monto actualizado por fecha'}\n"
     ]
    }
   ],
   "source": [
    "from_date_str = start_date + \"T00:00:00+00:00\"\n",
    "to_date_str = end_date + \"T23:59:59+00:00\"\n",
    "\n",
    "results = coll.find(\n",
    "    {\n",
    "        \"$and\":\n",
    "            [\n",
    "                {\n",
    "                    \"fecha\":\n",
    "                    {\n",
    "                        \"$gte\": from_date_str,\n",
    "                        \"$lte\": to_date_str\n",
    "                    }\n",
    "                }\n",
    "            ]\n",
    "        }\n",
    "    )\n",
    "\n",
    "for result in results[:10]:\n",
    "    print(result)"
   ]
  },
  {
   "cell_type": "markdown",
   "metadata": {},
   "source": [
    "## Actualización 2: Nota por descripción"
   ]
  },
  {
   "cell_type": "markdown",
   "metadata": {},
   "source": [
    "Se actualizarán los campos monto y nota, dependiendo de una descripción especificada."
   ]
  },
  {
   "cell_type": "code",
   "execution_count": 61,
   "metadata": {},
   "outputs": [
    {
     "name": "stdout",
     "output_type": "stream",
     "text": [
      "====================================================================================================\n",
      " Se han actualizado 7737 documentos\n",
      "====================================================================================================\n",
      " Actualización realizada en un tiempo de 0:28:45.103925\n",
      "====================================================================================================\n"
     ]
    }
   ],
   "source": [
    "start_date = \"1980-01-14\"\n",
    "end_date = \"1980-04-25\"\n",
    "descripcion1 = 'Aporte inversor'\n",
    "descripcion2 = 'Apertura de caja de ahorros'\n",
    "monto = 10.50\n",
    "\n",
    "start_time = time.time()\n",
    "results = actualizacion_monto_descripcion_fecha(start_date, end_date, descripcion1, descripcion2, monto, coll)\n",
    "end_time = time.time()\n",
    "\n",
    "print(\"=\"*100)\n",
    "print(f\" Se han actualizado {results.modified_count} documentos\")\n",
    "print(\"=\"*100)\n",
    "print(f\" Actualización realizada en un tiempo de {str(timedelta(seconds = (end_time - start_time)))}\")\n",
    "print(\"=\"*100)"
   ]
  },
  {
   "cell_type": "code",
   "execution_count": 62,
   "metadata": {},
   "outputs": [
    {
     "name": "stdout",
     "output_type": "stream",
     "text": [
      "{'_id': ObjectId('636d416edfb1bb4dd652c645'), 'fecha': '1980-01-15 00:03:48', 'agencia': 'Santa Cruz', 'monto': 10.5, 'descripcion': 'Aporte inversor', 'saldo': 1191798.41, 'nota': 'Monto actualizado por descripción'}\n",
      "{'_id': ObjectId('636d413fdfb1bb4dd636de97'), 'fecha': '1980-01-15 00:16:58', 'agencia': 'Tarija', 'monto': 10.5, 'descripcion': 'Apertura de caja de ahorros', 'saldo': 4173801.78, 'nota': 'Monto actualizado por descripción'}\n",
      "{'_id': ObjectId('636d3fe5dfb1bb4dd64aeb78'), 'fecha': '1980-01-15 00:24:34', 'agencia': 'Beni', 'monto': 10.5, 'descripcion': 'Aporte inversor', 'saldo': 5431030.18, 'nota': 'Monto actualizado por descripción'}\n",
      "{'_id': ObjectId('636d402bdfb1bb4dd6796f20'), 'fecha': '1980-01-15 01:06:53', 'agencia': 'Chuquisaca', 'monto': 10.5, 'descripcion': 'Aporte inversor', 'saldo': 8847975.29, 'nota': 'Monto actualizado por descripción'}\n",
      "{'_id': ObjectId('636d40c9dfb1bb4dd6e575ef'), 'fecha': '1980-01-15 01:16:24', 'agencia': 'Cochabamba', 'monto': 10.5, 'descripcion': 'Apertura de caja de ahorros', 'saldo': 5250561.79, 'nota': 'Monto actualizado por descripción'}\n",
      "{'_id': ObjectId('636d40aedfb1bb4dd6cd5e49'), 'fecha': '1980-01-15 02:04:28', 'agencia': 'Cochabamba', 'monto': 10.5, 'descripcion': 'Apertura de caja de ahorros', 'saldo': 3958981.38, 'nota': 'Monto actualizado por descripción'}\n",
      "{'_id': ObjectId('636d3f62dfb1bb4dd6f3ea2c'), 'fecha': '1980-01-15 02:24:13', 'agencia': 'Beni', 'monto': 10.5, 'descripcion': 'Apertura de caja de ahorros', 'saldo': 1356620.84, 'nota': 'Monto actualizado por descripción'}\n",
      "{'_id': ObjectId('636d3fd2dfb1bb4dd640e966'), 'fecha': '1980-01-15 02:24:49', 'agencia': 'Chuquisaca', 'monto': 10.5, 'descripcion': 'Apertura de caja de ahorros', 'saldo': 215898.78, 'nota': 'Monto actualizado por descripción'}\n",
      "{'_id': ObjectId('636d418cdfb1bb4dd65c5404'), 'fecha': '1980-01-15 02:34:20', 'agencia': 'Pando', 'monto': 10.5, 'descripcion': 'Apertura de caja de ahorros', 'saldo': 3108510.3, 'nota': 'Monto actualizado por descripción'}\n",
      "{'_id': ObjectId('636d4059dfb1bb4dd69a13b1'), 'fecha': '1980-01-15 03:40:32', 'agencia': 'La Paz', 'monto': 10.5, 'descripcion': 'Aporte inversor', 'saldo': 8697349.09, 'nota': 'Monto actualizado por descripción'}\n"
     ]
    }
   ],
   "source": [
    "from_date_str = start_date + \"T00:00:00+00:00\"\n",
    "to_date_str = end_date + \"T23:59:59+00:00\"\n",
    "\n",
    "results = coll.find(\n",
    "    {\n",
    "        \"$and\":\n",
    "            [\n",
    "                {\n",
    "                    \"$or\":\n",
    "                    [\n",
    "                        {\n",
    "                            \"descripcion\": descripcion1\n",
    "                        },\n",
    "                        {\n",
    "                            \"descripcion\": descripcion2\n",
    "                        }\n",
    "                    ]\n",
    "                },\n",
    "                {\n",
    "                    \"fecha\":\n",
    "                    {\n",
    "                        \"$gte\": from_date_str,\n",
    "                        \"$lte\": to_date_str\n",
    "                    }\n",
    "                }\n",
    "            ]\n",
    "            \n",
    "    }\n",
    ")\n",
    "\n",
    "for result in results[:10]:\n",
    "    print(result)"
   ]
  },
  {
   "cell_type": "markdown",
   "metadata": {},
   "source": [
    "## Actualización 3: Saldo por agencias o monto"
   ]
  },
  {
   "cell_type": "markdown",
   "metadata": {},
   "source": [
    "Se actualizarán los campos monto y nota, dependiendo de una descripción especificada."
   ]
  },
  {
   "cell_type": "code",
   "execution_count": 64,
   "metadata": {},
   "outputs": [
    {
     "name": "stdout",
     "output_type": "stream",
     "text": [
      "====================================================================================================\n",
      " Se han actualizado 68 documentos\n",
      "====================================================================================================\n",
      " Actualización realizada en un tiempo de 0:00:31.925104\n",
      "====================================================================================================\n"
     ]
    }
   ],
   "source": [
    "agencia1 = \"La Paz\"\n",
    "agencia2 = \"Santa Cruz\"\n",
    "descripcion = 'Intereses'\n",
    "saldo = 1234.5\n",
    "monto = 100\n",
    "\n",
    "start_time = time.time()\n",
    "results = actualizacion_saldo_monto_agencia(saldo, monto, agencia1, agencia2, descripcion, coll)\n",
    "end_time = time.time()\n",
    "\n",
    "print(\"=\"*100)\n",
    "print(f\" Se han actualizado {results.modified_count} documentos\")\n",
    "print(\"=\"*100)\n",
    "print(f\" Actualización realizada en un tiempo de {str(timedelta(seconds = (end_time - start_time)))}\")\n",
    "print(\"=\"*100)"
   ]
  },
  {
   "cell_type": "code",
   "execution_count": 65,
   "metadata": {},
   "outputs": [
    {
     "name": "stdout",
     "output_type": "stream",
     "text": [
      "{'_id': ObjectId('636d3fe5dfb1bb4dd64a51dc'), 'fecha': '1960-07-09 07:48:09', 'agencia': 'Santa Cruz', 'monto': 12.03, 'descripcion': 'Intereses', 'saldo': 1234.5, 'nota': 'Saldo actualizado por monto y agencias'}\n",
      "{'_id': ObjectId('636d3f31dfb1bb4dd6d4eea8'), 'fecha': '2018-04-01 20:25:14', 'agencia': 'La Paz', 'monto': 16.2, 'descripcion': 'Intereses', 'saldo': 1234.5, 'nota': 'Saldo actualizado por monto y agencias'}\n",
      "{'_id': ObjectId('636d40f7dfb1bb4dd6fe4cef'), 'fecha': '1977-10-03 06:06:13', 'agencia': 'Santa Cruz', 'monto': 18.13, 'descripcion': 'Intereses', 'saldo': 1234.5, 'nota': 'Saldo actualizado por monto y agencias'}\n",
      "{'_id': ObjectId('636d3fe7dfb1bb4dd6517901'), 'fecha': '1964-04-12 18:53:53', 'agencia': 'Santa Cruz', 'monto': 19.62, 'descripcion': 'Intereses', 'saldo': 1234.5, 'nota': 'Saldo actualizado por monto y agencias'}\n",
      "{'_id': ObjectId('636d3f72dfb1bb4dd6fd4b6d'), 'fecha': '1956-04-14 01:32:42', 'agencia': 'La Paz', 'monto': 20.34, 'descripcion': 'Intereses', 'saldo': 1234.5, 'nota': 'Saldo actualizado por monto y agencias'}\n",
      "{'_id': ObjectId('636d414fdfb1bb4dd63996aa'), 'fecha': '1954-07-19 22:37:28', 'agencia': 'Santa Cruz', 'monto': 21.31, 'descripcion': 'Intereses', 'saldo': 1234.5, 'nota': 'Saldo actualizado por monto y agencias'}\n",
      "{'_id': ObjectId('636d3f2ddfb1bb4dd6cc8c76'), 'fecha': '1964-09-10 17:22:52', 'agencia': 'Santa Cruz', 'monto': 21.98, 'descripcion': 'Intereses', 'saldo': 1234.5, 'nota': 'Saldo actualizado por monto y agencias'}\n",
      "{'_id': ObjectId('636d41acdfb1bb4dd668729d'), 'fecha': '1978-04-10 08:04:13', 'agencia': 'La Paz', 'monto': 22.42, 'descripcion': 'Intereses', 'saldo': 1234.5, 'nota': 'Saldo actualizado por monto y agencias'}\n",
      "{'_id': ObjectId('636d4124dfb1bb4dd61e186b'), 'fecha': '2018-12-06 07:38:48', 'agencia': 'La Paz', 'monto': 24.31, 'descripcion': 'Intereses', 'saldo': 1234.5, 'nota': 'Saldo actualizado por monto y agencias'}\n",
      "{'_id': ObjectId('636d4014dfb1bb4dd66afa87'), 'fecha': '1977-10-21 13:32:46', 'agencia': 'Santa Cruz', 'monto': 28.9, 'descripcion': 'Intereses', 'saldo': 1234.5, 'nota': 'Saldo actualizado por monto y agencias'}\n"
     ]
    }
   ],
   "source": [
    "results = coll.find(\n",
    "    {\n",
    "    \"$and\":\n",
    "        [\n",
    "            {\n",
    "                \"monto\": {\"$lt\": monto}\n",
    "            },\n",
    "            {\n",
    "                \"descripcion\": descripcion\n",
    "            },\n",
    "            {\n",
    "                \"$or\":\n",
    "                    [\n",
    "                        {\n",
    "                            \"agencia\": agencia1\n",
    "                        },\n",
    "                        {\n",
    "                            \"agencia\": agencia2\n",
    "                        }  \n",
    "                    ]\n",
    "            }\n",
    "        ]\n",
    "    }\n",
    ")\n",
    "\n",
    "for result in results[:10]:\n",
    "    print(result)"
   ]
  },
  {
   "cell_type": "markdown",
   "metadata": {},
   "source": [
    "| Tabla resumen de resultados | Valor obtenido   |\n",
    "|-----------------------------|------------------|\n",
    "| Tiempo actualización 1      | 41 min 28.4748 s |\n",
    "| Tiempo actualización 2      | 28 min 45.1039 s |\n",
    "| Tiempo actualización 3      | 31.9251 s        |"
   ]
  },
  {
   "cell_type": "markdown",
   "metadata": {},
   "source": [
    "# Actualizaciones a la base de datos con 10 millones de registros y solo tres campos indexados (fecha, descripción, nota)"
   ]
  },
  {
   "cell_type": "markdown",
   "metadata": {},
   "source": [
    "En esta sección se revisará la operación de búsqueda para la colección de 10 millones de documentos ya indexados en tres campos: fecha, descripción, nota."
   ]
  },
  {
   "cell_type": "code",
   "execution_count": 66,
   "metadata": {},
   "outputs": [],
   "source": [
    "coll = db[\"extracto_cuenta_10m_3idx\"]"
   ]
  },
  {
   "cell_type": "markdown",
   "metadata": {},
   "source": [
    "## Actualización 1: Monto por fecha"
   ]
  },
  {
   "cell_type": "markdown",
   "metadata": {},
   "source": [
    "Se actualizarán los campos monto y nota, dependiendo de una fecha especificada"
   ]
  },
  {
   "cell_type": "code",
   "execution_count": 67,
   "metadata": {},
   "outputs": [
    {
     "name": "stdout",
     "output_type": "stream",
     "text": [
      "====================================================================================================\n",
      " Se han actualizado 11413 documentos\n",
      "====================================================================================================\n",
      " Actualización realizada en un tiempo de 0:08:55.191605\n",
      "====================================================================================================\n"
     ]
    }
   ],
   "source": [
    "start_date = \"2020-12-01\"\n",
    "end_date = \"2020-12-31\"\n",
    "monto_actualizar = 7890\n",
    "\n",
    "start_time = time.time()\n",
    "results = actualizacion_fecha_monto(start_date, end_date, monto_actualizar, coll)\n",
    "end_time = time.time()\n",
    "\n",
    "print(\"=\"*100)\n",
    "print(f\" Se han actualizado {results.modified_count} documentos\")\n",
    "print(\"=\"*100)\n",
    "print(f\" Actualización realizada en un tiempo de {str(timedelta(seconds = (end_time - start_time)))}\")\n",
    "print(\"=\"*100)"
   ]
  },
  {
   "cell_type": "code",
   "execution_count": 68,
   "metadata": {},
   "outputs": [
    {
     "name": "stdout",
     "output_type": "stream",
     "text": [
      "{'_id': ObjectId('636e8328dfb1bb5ea6f29969'), 'fecha': '2020-12-02 00:01:05', 'agencia': 'Chuquisaca', 'monto': 7890, 'descripcion': 'Apertura de cuenta corriente', 'saldo': 5416583.29, 'nota': 'Monto actualizado por fecha'}\n",
      "{'_id': ObjectId('636e838adfb1bb5ea6328ca9'), 'fecha': '2020-12-02 00:14:50', 'agencia': 'Cochabamba', 'monto': 7890, 'descripcion': 'Apertura de caja de ahorros', 'saldo': 7071478.84, 'nota': 'Monto actualizado por fecha'}\n",
      "{'_id': ObjectId('636e8344dfb1bb5ea60bf971'), 'fecha': '2020-12-02 00:16:15', 'agencia': 'Tarija', 'monto': 7890, 'descripcion': 'DEB.CTA.P/C.INTERNET', 'saldo': 1849627.55, 'nota': 'Monto actualizado por fecha'}\n",
      "{'_id': ObjectId('636e8342dfb1bb5ea60759a7'), 'fecha': '2020-12-02 00:16:34', 'agencia': 'Oruro', 'monto': 7890, 'descripcion': 'Aporte inversor', 'saldo': 5952786.9, 'nota': 'Monto actualizado por fecha'}\n",
      "{'_id': ObjectId('636e8359dfb1bb5ea61960d6'), 'fecha': '2020-12-02 00:30:11', 'agencia': 'Cochabamba', 'monto': 7890, 'descripcion': 'Capitalización de intereses premio', 'saldo': 7382524.11, 'nota': 'Monto actualizado por fecha'}\n",
      "{'_id': ObjectId('636e8342dfb1bb5ea605b59b'), 'fecha': '2020-12-02 00:30:22', 'agencia': 'Oruro', 'monto': 7890, 'descripcion': 'Ingreso en efectivo', 'saldo': 4206026.25, 'nota': 'Monto actualizado por fecha'}\n",
      "{'_id': ObjectId('636e82e9dfb1bb5ea6cf78b7'), 'fecha': '2020-12-02 00:37:31', 'agencia': 'Santa Cruz', 'monto': 7890, 'descripcion': 'Debito Cta por compra', 'saldo': 6997187.33, 'nota': 'Monto actualizado por fecha'}\n",
      "{'_id': ObjectId('636e82eadfb1bb5ea6d1aaca'), 'fecha': '2020-12-02 00:42:29', 'agencia': 'Cochabamba', 'monto': 7890, 'descripcion': 'Deposito a cuenta', 'saldo': 4245745.26, 'nota': 'Monto actualizado por fecha'}\n",
      "{'_id': ObjectId('636e8343dfb1bb5ea60a3e8a'), 'fecha': '2020-12-02 00:43:18', 'agencia': 'Oruro', 'monto': 7890, 'descripcion': 'Apertura de caja de ahorros', 'saldo': 1154092.71, 'nota': 'Monto actualizado por fecha'}\n",
      "{'_id': ObjectId('636e82d2dfb1bb5ea6bf6ad5'), 'fecha': '2020-12-02 00:49:00', 'agencia': 'La Paz', 'monto': 7890, 'descripcion': 'Cargo por cobro de servicio', 'saldo': 4053822.64, 'nota': 'Monto actualizado por fecha'}\n"
     ]
    }
   ],
   "source": [
    "from_date_str = start_date + \"T00:00:00+00:00\"\n",
    "to_date_str = end_date + \"T23:59:59+00:00\"\n",
    "\n",
    "results = coll.find(\n",
    "    {\n",
    "        \"$and\":\n",
    "            [\n",
    "                {\n",
    "                    \"fecha\":\n",
    "                    {\n",
    "                        \"$gte\": from_date_str,\n",
    "                        \"$lte\": to_date_str\n",
    "                    }\n",
    "                }\n",
    "            ]\n",
    "        }\n",
    "    )\n",
    "\n",
    "for result in results[:10]:\n",
    "    print(result)"
   ]
  },
  {
   "cell_type": "markdown",
   "metadata": {},
   "source": [
    "## Actualización 2: Nota por descripción"
   ]
  },
  {
   "cell_type": "markdown",
   "metadata": {},
   "source": [
    "Se actualizarán los campos monto y nota, dependiendo de una descripción especificada."
   ]
  },
  {
   "cell_type": "code",
   "execution_count": 69,
   "metadata": {},
   "outputs": [
    {
     "name": "stdout",
     "output_type": "stream",
     "text": [
      "====================================================================================================\n",
      " Se han actualizado 271 documentos\n",
      "====================================================================================================\n",
      " Actualización realizada en un tiempo de 0:00:43.080891\n",
      "====================================================================================================\n"
     ]
    }
   ],
   "source": [
    "start_date = \"1980-01-14\"\n",
    "end_date = \"1980-01-25\"\n",
    "descripcion1 = 'Aporte inversor'\n",
    "descripcion2 = 'Apertura de caja de ahorros'\n",
    "monto = 10.50\n",
    "\n",
    "start_time = time.time()\n",
    "results = actualizacion_monto_descripcion_fecha(start_date, end_date, descripcion1, descripcion2, monto, coll)\n",
    "end_time = time.time()\n",
    "\n",
    "print(\"=\"*100)\n",
    "print(f\" Se han actualizado {results.modified_count} documentos\")\n",
    "print(\"=\"*100)\n",
    "print(f\" Actualización realizada en un tiempo de {str(timedelta(seconds = (end_time - start_time)))}\")\n",
    "print(\"=\"*100)"
   ]
  },
  {
   "cell_type": "code",
   "execution_count": 70,
   "metadata": {},
   "outputs": [
    {
     "name": "stdout",
     "output_type": "stream",
     "text": [
      "{'_id': ObjectId('636e838bdfb1bb5ea63635f9'), 'fecha': '1980-01-15 00:24:34', 'agencia': 'Beni', 'monto': 10.5, 'descripcion': 'Aporte inversor', 'saldo': 5431030.18, 'nota': 'Monto actualizado por descripción'}\n",
      "{'_id': ObjectId('636e82ffdfb1bb5ea6df34ad'), 'fecha': '1980-01-15 02:24:13', 'agencia': 'Beni', 'monto': 10.5, 'descripcion': 'Apertura de caja de ahorros', 'saldo': 1356620.84, 'nota': 'Monto actualizado por descripción'}\n",
      "{'_id': ObjectId('636e8377dfb1bb5ea62c33e7'), 'fecha': '1980-01-15 02:24:49', 'agencia': 'Chuquisaca', 'monto': 10.5, 'descripcion': 'Apertura de caja de ahorros', 'saldo': 215898.78, 'nota': 'Monto actualizado por descripción'}\n",
      "{'_id': ObjectId('636e838edfb1bb5ea63d7382'), 'fecha': '1980-01-15 03:49:51', 'agencia': 'Tarija', 'monto': 10.5, 'descripcion': 'Aporte inversor', 'saldo': 1483142.98, 'nota': 'Monto actualizado por descripción'}\n",
      "{'_id': ObjectId('636e82d0dfb1bb5ea6ba1d8c'), 'fecha': '1980-01-15 04:25:00', 'agencia': 'Cochabamba', 'monto': 10.5, 'descripcion': 'Aporte inversor', 'saldo': 7424079.14, 'nota': 'Monto actualizado por descripción'}\n",
      "{'_id': ObjectId('636e8314dfb1bb5ea6ea6067'), 'fecha': '1980-01-15 04:48:33', 'agencia': 'Cochabamba', 'monto': 10.5, 'descripcion': 'Apertura de caja de ahorros', 'saldo': 3014198.03, 'nota': 'Monto actualizado por descripción'}\n",
      "{'_id': ObjectId('636e8316dfb1bb5ea6f0818f'), 'fecha': '1980-01-15 06:19:52', 'agencia': 'Cochabamba', 'monto': 10.5, 'descripcion': 'Apertura de caja de ahorros', 'saldo': 4469376.69, 'nota': 'Monto actualizado por descripción'}\n",
      "{'_id': ObjectId('636e832ddfb1bb5ea6fd08c6'), 'fecha': '1980-01-15 06:59:58', 'agencia': 'Tarija', 'monto': 10.5, 'descripcion': 'Aporte inversor', 'saldo': 3393024.05, 'nota': 'Monto actualizado por descripción'}\n",
      "{'_id': ObjectId('636e82bbdfb1bb5ea6b05985'), 'fecha': '1980-01-15 08:35:48', 'agencia': 'Chuquisaca', 'monto': 10.5, 'descripcion': 'Apertura de caja de ahorros', 'saldo': 2498030.61, 'nota': 'Monto actualizado por descripción'}\n",
      "{'_id': ObjectId('636e8376dfb1bb5ea628c211'), 'fecha': '1980-01-15 10:15:30', 'agencia': 'Oruro', 'monto': 10.5, 'descripcion': 'Apertura de caja de ahorros', 'saldo': 87613.87, 'nota': 'Monto actualizado por descripción'}\n"
     ]
    }
   ],
   "source": [
    "from_date_str = start_date + \"T00:00:00+00:00\"\n",
    "to_date_str = end_date + \"T23:59:59+00:00\"\n",
    "\n",
    "results = coll.find(\n",
    "    {\n",
    "        \"$and\":\n",
    "            [\n",
    "                {\n",
    "                    \"$or\":\n",
    "                    [\n",
    "                        {\n",
    "                            \"descripcion\": descripcion1\n",
    "                        },\n",
    "                        {\n",
    "                            \"descripcion\": descripcion2\n",
    "                        }\n",
    "                    ]\n",
    "                },\n",
    "                {\n",
    "                    \"fecha\":\n",
    "                    {\n",
    "                        \"$gte\": from_date_str,\n",
    "                        \"$lte\": to_date_str\n",
    "                    }\n",
    "                }\n",
    "            ]\n",
    "            \n",
    "    }\n",
    ")\n",
    "\n",
    "for result in results[:10]:\n",
    "    print(result)"
   ]
  },
  {
   "cell_type": "markdown",
   "metadata": {},
   "source": [
    "## Actualización 3: Saldo por agencias o monto"
   ]
  },
  {
   "cell_type": "markdown",
   "metadata": {},
   "source": [
    "Se actualizarán los campos monto y nota, dependiendo de una descripción especificada."
   ]
  },
  {
   "cell_type": "code",
   "execution_count": 71,
   "metadata": {},
   "outputs": [
    {
     "name": "stdout",
     "output_type": "stream",
     "text": [
      "====================================================================================================\n",
      " Se han actualizado 48 documentos\n",
      "====================================================================================================\n",
      " Actualización realizada en un tiempo de 0:01:24.285184\n",
      "====================================================================================================\n"
     ]
    }
   ],
   "source": [
    "agencia1 = \"La Paz\"\n",
    "agencia2 = \"Santa Cruz\"\n",
    "descripcion = 'Intereses'\n",
    "saldo = 1234.5\n",
    "monto = 200\n",
    "\n",
    "start_time = time.time()\n",
    "results = actualizacion_saldo_monto_agencia(saldo, monto, agencia1, agencia2, descripcion, coll)\n",
    "end_time = time.time()\n",
    "\n",
    "print(\"=\"*100)\n",
    "print(f\" Se han actualizado {results.modified_count} documentos\")\n",
    "print(\"=\"*100)\n",
    "print(f\" Actualización realizada en un tiempo de {str(timedelta(seconds = (end_time - start_time)))}\")\n",
    "print(\"=\"*100)"
   ]
  },
  {
   "cell_type": "code",
   "execution_count": 72,
   "metadata": {},
   "outputs": [
    {
     "name": "stdout",
     "output_type": "stream",
     "text": [
      "{'_id': ObjectId('636e82b9dfb1bb5ea6aa7299'), 'fecha': '1955-01-30 00:27:19', 'agencia': 'Santa Cruz', 'monto': 155.16, 'descripcion': 'Intereses', 'saldo': 1234.5, 'nota': 'Saldo actualizado por monto y agencias'}\n",
      "{'_id': ObjectId('636e82badfb1bb5ea6ac06ba'), 'fecha': '2019-01-07 04:12:30', 'agencia': 'Santa Cruz', 'monto': 115.47, 'descripcion': 'Intereses', 'saldo': 1234.5, 'nota': 'Saldo actualizado por monto y agencias'}\n",
      "{'_id': ObjectId('636e82bbdfb1bb5ea6af6c80'), 'fecha': '2011-07-25 02:59:35', 'agencia': 'La Paz', 'monto': 154.42, 'descripcion': 'Intereses', 'saldo': 1234.5, 'nota': 'Saldo actualizado por monto y agencias'}\n",
      "{'_id': ObjectId('636e82bbdfb1bb5ea6afcdfc'), 'fecha': '1989-05-31 12:37:13', 'agencia': 'La Paz', 'monto': 60.51, 'descripcion': 'Intereses', 'saldo': 1234.5, 'nota': 'Saldo actualizado por monto y agencias'}\n",
      "{'_id': ObjectId('636e82bcdfb1bb5ea6b29fc7'), 'fecha': '1977-11-10 05:02:53', 'agencia': 'La Paz', 'monto': 74.07, 'descripcion': 'Intereses', 'saldo': 1234.5, 'nota': 'Saldo actualizado por monto y agencias'}\n",
      "{'_id': ObjectId('636e82bcdfb1bb5ea6b317ba'), 'fecha': '1989-03-02 06:20:10', 'agencia': 'La Paz', 'monto': 111.78, 'descripcion': 'Intereses', 'saldo': 1234.5, 'nota': 'Saldo actualizado por monto y agencias'}\n",
      "{'_id': ObjectId('636e82cfdfb1bb5ea6b7d6f7'), 'fecha': '1964-09-10 17:22:52', 'agencia': 'Santa Cruz', 'monto': 21.98, 'descripcion': 'Intereses', 'saldo': 1234.5, 'nota': 'Saldo actualizado por monto y agencias'}\n",
      "{'_id': ObjectId('636e82d2dfb1bb5ea6beb738'), 'fecha': '1987-03-11 23:35:50', 'agencia': 'La Paz', 'monto': 150.97, 'descripcion': 'Intereses', 'saldo': 1234.5, 'nota': 'Saldo actualizado por monto y agencias'}\n",
      "{'_id': ObjectId('636e82d2dfb1bb5ea6c036ef'), 'fecha': '1983-04-07 20:59:53', 'agencia': 'Santa Cruz', 'monto': 183.06, 'descripcion': 'Intereses', 'saldo': 1234.5, 'nota': 'Saldo actualizado por monto y agencias'}\n",
      "{'_id': ObjectId('636e82d2dfb1bb5ea6c03929'), 'fecha': '2018-04-01 20:25:14', 'agencia': 'La Paz', 'monto': 16.2, 'descripcion': 'Intereses', 'saldo': 1234.5, 'nota': 'Saldo actualizado por monto y agencias'}\n"
     ]
    }
   ],
   "source": [
    "results = coll.find(\n",
    "    {\n",
    "    \"$and\":\n",
    "        [\n",
    "            {\n",
    "                \"monto\": {\"$lt\": monto}\n",
    "            },\n",
    "            {\n",
    "                \"descripcion\": descripcion\n",
    "            },\n",
    "            {\n",
    "                \"$or\":\n",
    "                    [\n",
    "                        {\n",
    "                            \"agencia\": agencia1\n",
    "                        },\n",
    "                        {\n",
    "                            \"agencia\": agencia2\n",
    "                        }  \n",
    "                    ]\n",
    "            }\n",
    "        ]\n",
    "    }\n",
    ")\n",
    "\n",
    "for result in results[:10]:\n",
    "    print(result)"
   ]
  },
  {
   "cell_type": "markdown",
   "metadata": {},
   "source": [
    "| Tabla resumen de resultados | Valor obtenido  |\n",
    "|-----------------------------|-----------------|\n",
    "| Tiempo actualización 1      | 8 min 55.1916 s |\n",
    "| Tiempo actualización 2      | 43.0809 s       |\n",
    "| Tiempo actualización 3      | 1 min 24.2851 s |"
   ]
  },
  {
   "cell_type": "markdown",
   "metadata": {},
   "source": [
    "# Actualizaciones a la base de datos con 30 millones de registros y solo tres campos indexados (fecha, descripción, nota)"
   ]
  },
  {
   "cell_type": "markdown",
   "metadata": {},
   "source": [
    "En esta sección se revisará la operación de búsqueda para la colección de 30 millones de documentos ya indexados en tres campos: fecha, descripción, nota."
   ]
  },
  {
   "cell_type": "code",
   "execution_count": 73,
   "metadata": {},
   "outputs": [],
   "source": [
    "coll = db[\"extracto_cuenta_30m_3idx\"]"
   ]
  },
  {
   "cell_type": "markdown",
   "metadata": {},
   "source": [
    "## Actualización 1: Monto por fecha"
   ]
  },
  {
   "cell_type": "markdown",
   "metadata": {},
   "source": [
    "Se actualizarán los campos monto y nota, dependiendo de una fecha especificada"
   ]
  },
  {
   "cell_type": "code",
   "execution_count": 74,
   "metadata": {},
   "outputs": [
    {
     "name": "stdout",
     "output_type": "stream",
     "text": [
      "====================================================================================================\n",
      " Se han actualizado 34078 documentos\n",
      "====================================================================================================\n",
      " Actualización realizada en un tiempo de 0:32:01.650369\n",
      "====================================================================================================\n"
     ]
    }
   ],
   "source": [
    "start_date = \"2020-12-01\"\n",
    "end_date = \"2020-12-31\"\n",
    "monto_actualizar = 7890\n",
    "\n",
    "start_time = time.time()\n",
    "results = actualizacion_fecha_monto(start_date, end_date, monto_actualizar, coll)\n",
    "end_time = time.time()\n",
    "\n",
    "print(\"=\"*100)\n",
    "print(f\" Se han actualizado {results.modified_count} documentos\")\n",
    "print(\"=\"*100)\n",
    "print(f\" Actualización realizada en un tiempo de {str(timedelta(seconds = (end_time - start_time)))}\")\n",
    "print(\"=\"*100)"
   ]
  },
  {
   "cell_type": "code",
   "execution_count": 77,
   "metadata": {},
   "outputs": [
    {
     "name": "stdout",
     "output_type": "stream",
     "text": [
      "{'_id': ObjectId('636e7b48dfb1bb4100ea2597'), 'fecha': '1980-01-15 00:03:48', 'agencia': 'Santa Cruz', 'monto': 10.5, 'descripcion': 'Aporte inversor', 'saldo': 1191798.41, 'nota': 'Monto actualizado por descripción'}\n",
      "{'_id': ObjectId('636e7a6adfb1bb41005e238b'), 'fecha': '1980-01-15 00:06:57', 'agencia': 'Tarija', 'monto': 103475.52, 'descripcion': 'Pago recibo de luz', 'saldo': 5772881.68, 'nota': 'dignissimos ab a corrupti repellendus repudiandae optio ipsa'}\n",
      "{'_id': ObjectId('636e78f0dfb1bb410075f3a3'), 'fecha': '1980-01-15 00:08:33', 'agencia': 'Chuquisaca', 'monto': 32501.86, 'descripcion': 'Debito Cta por compra', 'saldo': 1567659.37, 'nota': 'fugit id reprehenderit saepe magnam neque et in cumque aspernatur'}\n",
      "{'_id': ObjectId('636e7923dfb1bb41009ad570'), 'fecha': '1980-01-15 00:10:09', 'agencia': 'Santa Cruz', 'monto': 264585.37, 'descripcion': 'Debito Cta por pago de Seguro', 'saldo': 416943.96, 'nota': 'inventore deserunt rerum iste ducimus ratione animi soluta esse adipisci incidunt quo'}\n",
      "{'_id': ObjectId('636e790adfb1bb41008b8bdc'), 'fecha': '1980-01-15 00:10:34', 'agencia': 'La Paz', 'monto': 16683.13, 'descripcion': 'Debito Cta por compra', 'saldo': 3618497.95, 'nota': 'perspiciatis eius quisquam optio voluptate cumque officia corporis esse illum recusandae voluptatem velit'}\n",
      "{'_id': ObjectId('636e7a04dfb1bb410022cbea'), 'fecha': '1980-01-15 00:11:07', 'agencia': 'Beni', 'monto': 46423.5, 'descripcion': 'Transferencia de fondos de ahorros', 'saldo': 2551846.39, 'nota': 'voluptas sequi odio nemo'}\n",
      "{'_id': ObjectId('636e7b1adfb1bb4100c7d793'), 'fecha': '1980-01-15 00:11:27', 'agencia': 'Beni', 'monto': 14475.57, 'descripcion': 'Pago recibo de gas', 'saldo': 4979918.4, 'nota': 'quia non suscipit repellendus omnis earum quisquam magni'}\n",
      "{'_id': ObjectId('636e7986dfb1bb4100d2b065'), 'fecha': '1980-01-15 00:11:52', 'agencia': 'Santa Cruz', 'monto': 113805.37, 'descripcion': 'Pago recibo de gas', 'saldo': 2867407.26, 'nota': 'reiciendis vero'}\n",
      "{'_id': ObjectId('636e7984dfb1bb4100cdcc30'), 'fecha': '1980-01-15 00:12:35', 'agencia': 'Chuquisaca', 'monto': 344553.22, 'descripcion': 'DEB.CTA.P/C.INTERNET', 'saldo': 3643587.78, 'nota': 'dolorum rem voluptate repellat ad illum quos cumque sint nemo a quis tempora'}\n",
      "{'_id': ObjectId('636e7b95dfb1bb41000f66b0'), 'fecha': '1980-01-15 00:12:48', 'agencia': 'Tarija', 'monto': 323471.78, 'descripcion': 'Pago de servicio telefónico', 'saldo': 792629.95, 'nota': 'quasi aliquam quidem corporis est magni'}\n"
     ]
    }
   ],
   "source": [
    "from_date_str = start_date + \"T00:00:00+00:00\"\n",
    "to_date_str = end_date + \"T23:59:59+00:00\"\n",
    "\n",
    "results = coll.find(\n",
    "    {\n",
    "        \"$and\":\n",
    "            [\n",
    "                {\n",
    "                    \"fecha\":\n",
    "                    {\n",
    "                        \"$gte\": from_date_str,\n",
    "                        \"$lte\": to_date_str\n",
    "                    }\n",
    "                }\n",
    "            ]\n",
    "        }\n",
    "    )\n",
    "\n",
    "for result in results[:10]:\n",
    "    print(result)"
   ]
  },
  {
   "cell_type": "markdown",
   "metadata": {},
   "source": [
    "## Actualización 2: Nota por descripción"
   ]
  },
  {
   "cell_type": "markdown",
   "metadata": {},
   "source": [
    "Se actualizarán los campos monto y nota, dependiendo de una descripción especificada."
   ]
  },
  {
   "cell_type": "code",
   "execution_count": 75,
   "metadata": {},
   "outputs": [
    {
     "name": "stdout",
     "output_type": "stream",
     "text": [
      "====================================================================================================\n",
      " Se han actualizado 807 documentos\n",
      "====================================================================================================\n",
      " Actualización realizada en un tiempo de 0:02:56.443795\n",
      "====================================================================================================\n"
     ]
    }
   ],
   "source": [
    "start_date = \"1980-01-14\"\n",
    "end_date = \"1980-01-25\"\n",
    "descripcion1 = 'Aporte inversor'\n",
    "descripcion2 = 'Apertura de caja de ahorros'\n",
    "monto = 10.50\n",
    "\n",
    "start_time = time.time()\n",
    "results = actualizacion_monto_descripcion_fecha(start_date, end_date, descripcion1, descripcion2, monto, coll)\n",
    "end_time = time.time()\n",
    "\n",
    "print(\"=\"*100)\n",
    "print(f\" Se han actualizado {results.modified_count} documentos\")\n",
    "print(\"=\"*100)\n",
    "print(f\" Actualización realizada en un tiempo de {str(timedelta(seconds = (end_time - start_time)))}\")\n",
    "print(\"=\"*100)"
   ]
  },
  {
   "cell_type": "code",
   "execution_count": 76,
   "metadata": {},
   "outputs": [
    {
     "name": "stdout",
     "output_type": "stream",
     "text": [
      "{'_id': ObjectId('636e7b48dfb1bb4100ea2597'), 'fecha': '1980-01-15 00:03:48', 'agencia': 'Santa Cruz', 'monto': 10.5, 'descripcion': 'Aporte inversor', 'saldo': 1191798.41, 'nota': 'Monto actualizado por descripción'}\n",
      "{'_id': ObjectId('636e7b1ddfb1bb4100ce3de9'), 'fecha': '1980-01-15 00:16:58', 'agencia': 'Tarija', 'monto': 10.5, 'descripcion': 'Apertura de caja de ahorros', 'saldo': 4173801.78, 'nota': 'Monto actualizado por descripción'}\n",
      "{'_id': ObjectId('636e799edfb1bb4100e24aca'), 'fecha': '1980-01-15 00:24:34', 'agencia': 'Beni', 'monto': 10.5, 'descripcion': 'Aporte inversor', 'saldo': 5431030.18, 'nota': 'Monto actualizado por descripción'}\n",
      "{'_id': ObjectId('636e79e8dfb1bb410010ce73'), 'fecha': '1980-01-15 01:06:53', 'agencia': 'Chuquisaca', 'monto': 10.5, 'descripcion': 'Aporte inversor', 'saldo': 8847975.29, 'nota': 'Monto actualizado por descripción'}\n",
      "{'_id': ObjectId('636e7a9edfb1bb41007cd542'), 'fecha': '1980-01-15 01:16:24', 'agencia': 'Cochabamba', 'monto': 10.5, 'descripcion': 'Apertura de caja de ahorros', 'saldo': 5250561.79, 'nota': 'Monto actualizado por descripción'}\n",
      "{'_id': ObjectId('636e7a82dfb1bb410064bd9c'), 'fecha': '1980-01-15 02:04:28', 'agencia': 'Cochabamba', 'monto': 10.5, 'descripcion': 'Apertura de caja de ahorros', 'saldo': 3958981.38, 'nota': 'Monto actualizado por descripción'}\n",
      "{'_id': ObjectId('636e7909dfb1bb41008b497f'), 'fecha': '1980-01-15 02:24:13', 'agencia': 'Beni', 'monto': 10.5, 'descripcion': 'Apertura de caja de ahorros', 'saldo': 1356620.84, 'nota': 'Monto actualizado por descripción'}\n",
      "{'_id': ObjectId('636e7989dfb1bb4100d848b8'), 'fecha': '1980-01-15 02:24:49', 'agencia': 'Chuquisaca', 'monto': 10.5, 'descripcion': 'Apertura de caja de ahorros', 'saldo': 215898.78, 'nota': 'Monto actualizado por descripción'}\n",
      "{'_id': ObjectId('636e7b62dfb1bb4100f3b356'), 'fecha': '1980-01-15 02:34:20', 'agencia': 'Pando', 'monto': 10.5, 'descripcion': 'Apertura de caja de ahorros', 'saldo': 3108510.3, 'nota': 'Monto actualizado por descripción'}\n",
      "{'_id': ObjectId('636e7a1bdfb1bb4100317304'), 'fecha': '1980-01-15 03:40:32', 'agencia': 'La Paz', 'monto': 10.5, 'descripcion': 'Aporte inversor', 'saldo': 8697349.09, 'nota': 'Monto actualizado por descripción'}\n"
     ]
    }
   ],
   "source": [
    "from_date_str = start_date + \"T00:00:00+00:00\"\n",
    "to_date_str = end_date + \"T23:59:59+00:00\"\n",
    "\n",
    "results = coll.find(\n",
    "    {\n",
    "        \"$and\":\n",
    "            [\n",
    "                {\n",
    "                    \"$or\":\n",
    "                    [\n",
    "                        {\n",
    "                            \"descripcion\": descripcion1\n",
    "                        },\n",
    "                        {\n",
    "                            \"descripcion\": descripcion2\n",
    "                        }\n",
    "                    ]\n",
    "                },\n",
    "                {\n",
    "                    \"fecha\":\n",
    "                    {\n",
    "                        \"$gte\": from_date_str,\n",
    "                        \"$lte\": to_date_str\n",
    "                    }\n",
    "                }\n",
    "            ]\n",
    "            \n",
    "    }\n",
    ")\n",
    "\n",
    "for result in results[:10]:\n",
    "    print(result)"
   ]
  },
  {
   "cell_type": "markdown",
   "metadata": {},
   "source": [
    "## Actualización 3: Saldo por agencias o monto"
   ]
  },
  {
   "cell_type": "markdown",
   "metadata": {},
   "source": [
    "Se actualizarán los campos monto y nota, dependiendo de una descripción especificada."
   ]
  },
  {
   "cell_type": "code",
   "execution_count": 78,
   "metadata": {},
   "outputs": [
    {
     "name": "stdout",
     "output_type": "stream",
     "text": [
      "====================================================================================================\n",
      " Se han actualizado 136 documentos\n",
      "====================================================================================================\n",
      " Actualización realizada en un tiempo de 0:07:47.596264\n",
      "====================================================================================================\n"
     ]
    }
   ],
   "source": [
    "agencia1 = \"La Paz\"\n",
    "agencia2 = \"Santa Cruz\"\n",
    "descripcion = 'Intereses'\n",
    "saldo = 1234.5\n",
    "monto = 200\n",
    "\n",
    "start_time = time.time()\n",
    "results = actualizacion_saldo_monto_agencia(saldo, monto, agencia1, agencia2, descripcion, coll)\n",
    "end_time = time.time()\n",
    "\n",
    "print(\"=\"*100)\n",
    "print(f\" Se han actualizado {results.modified_count} documentos\")\n",
    "print(\"=\"*100)\n",
    "print(f\" Actualización realizada en un tiempo de {str(timedelta(seconds = (end_time - start_time)))}\")\n",
    "print(\"=\"*100)"
   ]
  },
  {
   "cell_type": "code",
   "execution_count": 80,
   "metadata": {},
   "outputs": [
    {
     "name": "stdout",
     "output_type": "stream",
     "text": [
      "{'_id': ObjectId('636e78c0dfb1bb410056876b'), 'fecha': '1955-01-30 00:27:19', 'agencia': 'Santa Cruz', 'monto': 155.16, 'descripcion': 'Intereses', 'saldo': 1234.5, 'nota': 'Saldo actualizado por monto y agencias'}\n",
      "{'_id': ObjectId('636e78c0dfb1bb4100581b8c'), 'fecha': '2019-01-07 04:12:30', 'agencia': 'Santa Cruz', 'monto': 115.47, 'descripcion': 'Intereses', 'saldo': 1234.5, 'nota': 'Saldo actualizado por monto y agencias'}\n",
      "{'_id': ObjectId('636e78c2dfb1bb41005b8152'), 'fecha': '2011-07-25 02:59:35', 'agencia': 'La Paz', 'monto': 154.42, 'descripcion': 'Intereses', 'saldo': 1234.5, 'nota': 'Saldo actualizado por monto y agencias'}\n",
      "{'_id': ObjectId('636e78c2dfb1bb41005be2ce'), 'fecha': '1989-05-31 12:37:13', 'agencia': 'La Paz', 'monto': 60.51, 'descripcion': 'Intereses', 'saldo': 1234.5, 'nota': 'Saldo actualizado por monto y agencias'}\n",
      "{'_id': ObjectId('636e78c3dfb1bb41005eb499'), 'fecha': '1977-11-10 05:02:53', 'agencia': 'La Paz', 'monto': 74.07, 'descripcion': 'Intereses', 'saldo': 1234.5, 'nota': 'Saldo actualizado por monto y agencias'}\n",
      "{'_id': ObjectId('636e78c3dfb1bb41005f2c8c'), 'fecha': '1989-03-02 06:20:10', 'agencia': 'La Paz', 'monto': 111.78, 'descripcion': 'Intereses', 'saldo': 1234.5, 'nota': 'Saldo actualizado por monto y agencias'}\n",
      "{'_id': ObjectId('636e78d8dfb1bb410063ebc9'), 'fecha': '1964-09-10 17:22:52', 'agencia': 'Santa Cruz', 'monto': 21.98, 'descripcion': 'Intereses', 'saldo': 1234.5, 'nota': 'Saldo actualizado por monto y agencias'}\n",
      "{'_id': ObjectId('636e78dbdfb1bb41006acc0a'), 'fecha': '1987-03-11 23:35:50', 'agencia': 'La Paz', 'monto': 150.97, 'descripcion': 'Intereses', 'saldo': 1234.5, 'nota': 'Saldo actualizado por monto y agencias'}\n",
      "{'_id': ObjectId('636e78dbdfb1bb41006c4bc1'), 'fecha': '1983-04-07 20:59:53', 'agencia': 'Santa Cruz', 'monto': 183.06, 'descripcion': 'Intereses', 'saldo': 1234.5, 'nota': 'Saldo actualizado por monto y agencias'}\n",
      "{'_id': ObjectId('636e78dbdfb1bb41006c4dfb'), 'fecha': '2018-04-01 20:25:14', 'agencia': 'La Paz', 'monto': 16.2, 'descripcion': 'Intereses', 'saldo': 1234.5, 'nota': 'Saldo actualizado por monto y agencias'}\n"
     ]
    }
   ],
   "source": [
    "results = coll.find(\n",
    "    {\n",
    "    \"$and\":\n",
    "        [\n",
    "            {\n",
    "                \"monto\": {\"$lt\": monto}\n",
    "            },\n",
    "            {\n",
    "                \"descripcion\": descripcion\n",
    "            },\n",
    "            {\n",
    "                \"$or\":\n",
    "                    [\n",
    "                        {\n",
    "                            \"agencia\": agencia1\n",
    "                        },\n",
    "                        {\n",
    "                            \"agencia\": agencia2\n",
    "                        }  \n",
    "                    ]\n",
    "            }\n",
    "        ]\n",
    "    }\n",
    ")\n",
    "\n",
    "for result in results[:10]:\n",
    "    print(result)"
   ]
  },
  {
   "cell_type": "markdown",
   "metadata": {},
   "source": [
    "| Tabla resumen de resultados | Valor obtenido   |\n",
    "|-----------------------------|------------------|\n",
    "| Tiempo actualización 1      | 32 min 01.6503 s |\n",
    "| Tiempo actualización 2      | 2 min 56.4438 s  |\n",
    "| Tiempo actualización 3      | 7 min 47.5962 s  |"
   ]
  }
 ],
 "metadata": {
  "kernelspec": {
   "display_name": "Python 3.9.12 ('base')",
   "language": "python",
   "name": "python3"
  },
  "language_info": {
   "codemirror_mode": {
    "name": "ipython",
    "version": 3
   },
   "file_extension": ".py",
   "mimetype": "text/x-python",
   "name": "python",
   "nbconvert_exporter": "python",
   "pygments_lexer": "ipython3",
   "version": "3.9.12"
  },
  "orig_nbformat": 4,
  "vscode": {
   "interpreter": {
    "hash": "d7e5a1f785ed82844e2da5d30522181462e1597dbd1807cbc4c5c0cc1d5a2e0b"
   }
  }
 },
 "nbformat": 4,
 "nbformat_minor": 2
}

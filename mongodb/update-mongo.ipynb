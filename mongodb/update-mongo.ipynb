{
 "cells": [
  {
   "cell_type": "markdown",
   "metadata": {},
   "source": [
    "# Carga de librerias"
   ]
  },
  {
   "cell_type": "code",
   "execution_count": 1,
   "metadata": {},
   "outputs": [],
   "source": [
    "from pymongo import MongoClient\n",
    "import time\n",
    "from datetime import datetime, timedelta\n",
    "\n",
    "client = MongoClient('localhost', 27017)\n",
    "db = client[\"test_mongo\"]"
   ]
  },
  {
   "cell_type": "markdown",
   "metadata": {},
   "source": [
    "# Actualizaciones a la base de datos con 1 millón de registros y todos los campos indexados"
   ]
  },
  {
   "cell_type": "markdown",
   "metadata": {},
   "source": [
    "En esta sección se revisará la operación de actualización para la colección de 1 millón de documentos ya indexados"
   ]
  },
  {
   "cell_type": "code",
   "execution_count": 15,
   "metadata": {},
   "outputs": [
    {
     "data": {
      "text/plain": [
       "{'_id_': {'v': 2, 'key': [('_id', 1)]},\n",
       " 'fecha_1': {'v': 2, 'key': [('fecha', 1)]},\n",
       " 'agencia_1': {'v': 2, 'key': [('agencia', 1)]},\n",
       " 'monto_1': {'v': 2, 'key': [('monto', 1)]},\n",
       " 'saldo_1': {'v': 2, 'key': [('saldo', 1)]},\n",
       " 'descripcion_1': {'v': 2, 'key': [('descripcion', 1)]},\n",
       " 'nota_1': {'v': 2, 'key': [('nota', 1)]}}"
      ]
     },
     "execution_count": 15,
     "metadata": {},
     "output_type": "execute_result"
    }
   ],
   "source": [
    "coll = db[\"extracto_cuenta_1m2\"]\n",
    "coll.index_information()"
   ]
  },
  {
   "cell_type": "markdown",
   "metadata": {},
   "source": [
    "## Actualización 1: Monto por fecha"
   ]
  },
  {
   "cell_type": "markdown",
   "metadata": {},
   "source": [
    "Se actualizarán los campos monto y nota, dependiendo de una fecha especificada"
   ]
  },
  {
   "cell_type": "code",
   "execution_count": 3,
   "metadata": {},
   "outputs": [],
   "source": [
    "def actualizacion_fecha_monto(start_date, end_date, monto):\n",
    "    from_date_str = start_date + \"T00:00:00+00:00\"\n",
    "    to_date_str = end_date + \"T23:59:59+00:00\"\n",
    "    \n",
    "    criteria = {\n",
    "        \"$and\":\n",
    "            [\n",
    "                {\n",
    "                    \"fecha\":\n",
    "                    {\n",
    "                        \"$gte\": from_date_str,\n",
    "                        \"$lte\": to_date_str\n",
    "                    }\n",
    "                }\n",
    "            ]\n",
    "        }\n",
    "    \n",
    "    new = {\n",
    "        \"$set\":\n",
    "            {\n",
    "                \"monto\": monto, \n",
    "                \"nota\": \"Monto actualizado por fecha\"\n",
    "            }\n",
    "        }\n",
    "\n",
    "    return coll.update_many(criteria, new)"
   ]
  },
  {
   "cell_type": "code",
   "execution_count": 5,
   "metadata": {},
   "outputs": [
    {
     "name": "stdout",
     "output_type": "stream",
     "text": [
      "====================================================================================================\n",
      " Se han actualizado 1152 documentos\n",
      "====================================================================================================\n",
      " Actualización realizada en un tiempo de 0:00:45.321720\n",
      "====================================================================================================\n"
     ]
    }
   ],
   "source": [
    "start_date = \"2021-08-01\"\n",
    "end_date = \"2021-08-31\"\n",
    "monto_actualizar = 7890\n",
    "\n",
    "start_time = time.time()\n",
    "results = actualizacion_fecha_monto(start_date, end_date, monto_actualizar)\n",
    "end_time = time.time()\n",
    "\n",
    "print(\"=\"*100)\n",
    "print(f\" Se han actualizado {results.modified_count} documentos\")\n",
    "print(\"=\"*100)\n",
    "print(f\" Actualización realizada en un tiempo de {str(timedelta(seconds = (end_time - start_time)))}\")\n",
    "print(\"=\"*100)"
   ]
  },
  {
   "cell_type": "code",
   "execution_count": 6,
   "metadata": {},
   "outputs": [
    {
     "name": "stdout",
     "output_type": "stream",
     "text": [
      "{'_id': ObjectId('636db340dfb1bbbb1b844d21'), 'fecha': '2021-08-02 01:25:37', 'agencia': 'Santa Cruz', 'monto': 7890, 'descripcion': 'Apertura de cuenta corriente', 'saldo': 8837884.56, 'nota': 'Monto actualizado por fecha'}\n",
      "{'_id': ObjectId('636db340dfb1bbbb1b8365b0'), 'fecha': '2021-08-02 02:08:28', 'agencia': 'Oruro', 'monto': 7890, 'descripcion': 'Deposito a cuenta', 'saldo': 535334.66, 'nota': 'Monto actualizado por fecha'}\n",
      "{'_id': ObjectId('636db343dfb1bbbb1b8c7fba'), 'fecha': '2021-08-02 02:09:28', 'agencia': 'La Paz', 'monto': 7890, 'descripcion': 'Pago recibo de luz', 'saldo': 6480861.49, 'nota': 'Monto actualizado por fecha'}\n",
      "{'_id': ObjectId('636db33fdfb1bbbb1b80a223'), 'fecha': '2021-08-02 02:40:03', 'agencia': 'Pando', 'monto': 7890, 'descripcion': 'Pago recibo de gas', 'saldo': 3829466.48, 'nota': 'Monto actualizado por fecha'}\n",
      "{'_id': ObjectId('636db341dfb1bbbb1b866eef'), 'fecha': '2021-08-02 03:13:41', 'agencia': 'Beni', 'monto': 7890, 'descripcion': 'Pago en interés', 'saldo': 5994940.1, 'nota': 'Monto actualizado por fecha'}\n",
      "{'_id': ObjectId('636db33edfb1bbbb1b7ee41b'), 'fecha': '2021-08-02 03:26:19', 'agencia': 'Chuquisaca', 'monto': 7890, 'descripcion': 'Debito Cta por compra', 'saldo': 5348728.39, 'nota': 'Monto actualizado por fecha'}\n",
      "{'_id': ObjectId('636db342dfb1bbbb1b89fc5d'), 'fecha': '2021-08-02 03:55:06', 'agencia': 'Chuquisaca', 'monto': 7890, 'descripcion': 'Ingreso en efectivo', 'saldo': 1733796.73, 'nota': 'Monto actualizado por fecha'}\n",
      "{'_id': ObjectId('636db342dfb1bbbb1b8a3087'), 'fecha': '2021-08-02 04:06:25', 'agencia': 'Tarija', 'monto': 7890, 'descripcion': 'Capitalización de intereses premio', 'saldo': 7038393.2, 'nota': 'Monto actualizado por fecha'}\n",
      "{'_id': ObjectId('636db340dfb1bbbb1b85761f'), 'fecha': '2021-08-02 05:19:55', 'agencia': 'Beni', 'monto': 7890, 'descripcion': 'Reintegro cajero automático', 'saldo': 6705960.84, 'nota': 'Monto actualizado por fecha'}\n",
      "{'_id': ObjectId('636db342dfb1bbbb1b88fd80'), 'fecha': '2021-08-02 05:28:19', 'agencia': 'Chuquisaca', 'monto': 7890, 'descripcion': 'DEB.CTA.P/C.INTERNET', 'saldo': 3075507.42, 'nota': 'Monto actualizado por fecha'}\n"
     ]
    }
   ],
   "source": [
    "from_date_str = start_date + \"T00:00:00+00:00\"\n",
    "to_date_str = end_date + \"T23:59:59+00:00\"\n",
    "\n",
    "results = coll.find(\n",
    "    {\n",
    "        \"$and\":\n",
    "            [\n",
    "                {\n",
    "                    \"fecha\":\n",
    "                    {\n",
    "                        \"$gte\": from_date_str,\n",
    "                        \"$lte\": to_date_str\n",
    "                    }\n",
    "                }\n",
    "            ]\n",
    "        }\n",
    "    )\n",
    "\n",
    "for result in results[:10]:\n",
    "    print(result)"
   ]
  },
  {
   "cell_type": "markdown",
   "metadata": {},
   "source": [
    "## Actualización 2: Nota por descripción y fecha"
   ]
  },
  {
   "cell_type": "markdown",
   "metadata": {},
   "source": [
    "Se actualizarán los campos monto y nota, dependiendo de una descripción especificada."
   ]
  },
  {
   "cell_type": "code",
   "execution_count": 4,
   "metadata": {},
   "outputs": [],
   "source": [
    "def actualizacion_monto_descripcion_fecha(start_date, end_date, descripcion1, descripcion2, monto):\n",
    "    from_date_str = start_date + \"T00:00:00+00:00\"\n",
    "    to_date_str = end_date + \"T23:59:59+00:00\"\n",
    "    \n",
    "    criteria = {\n",
    "        \"$and\":\n",
    "            [\n",
    "                {\n",
    "                    \"$or\":\n",
    "                    [\n",
    "                        {\n",
    "                            \"descripcion\": descripcion1\n",
    "                        },\n",
    "                        {\n",
    "                            \"descripcion\": descripcion2\n",
    "                        }\n",
    "                    ]\n",
    "                },\n",
    "                {\n",
    "                    \"fecha\":\n",
    "                    {\n",
    "                        \"$gte\": from_date_str,\n",
    "                        \"$lte\": to_date_str\n",
    "                    }\n",
    "                }\n",
    "            ]\n",
    "            \n",
    "        }\n",
    "    \n",
    "    new = {\n",
    "        \"$set\":\n",
    "            {\n",
    "                \"monto\": monto, \n",
    "                \"nota\": \"Monto actualizado por descripción\"\n",
    "            }\n",
    "        }\n",
    "\n",
    "    return coll.update_many(criteria, new)"
   ]
  },
  {
   "cell_type": "code",
   "execution_count": 8,
   "metadata": {},
   "outputs": [
    {
     "name": "stdout",
     "output_type": "stream",
     "text": [
      "====================================================================================================\n",
      " Se han actualizado 26 documentos\n",
      "====================================================================================================\n",
      " Actualización realizada en un tiempo de 0:00:06.450380\n",
      "====================================================================================================\n"
     ]
    }
   ],
   "source": [
    "start_date = \"1990-05-14\"\n",
    "end_date = \"1990-05-25\"\n",
    "descripcion1 = 'Aporte inversor'\n",
    "descripcion2 = 'Apertura de caja de ahorros'\n",
    "monto = 10.50\n",
    "\n",
    "start_time = time.time()\n",
    "results = actualizacion_monto_descripcion_fecha(start_date, end_date, descripcion1, descripcion2, monto)\n",
    "end_time = time.time()\n",
    "\n",
    "print(\"=\"*100)\n",
    "print(f\" Se han actualizado {results.modified_count} documentos\")\n",
    "print(\"=\"*100)\n",
    "print(f\" Actualización realizada en un tiempo de {str(timedelta(seconds = (end_time - start_time)))}\")\n",
    "print(\"=\"*100)"
   ]
  },
  {
   "cell_type": "code",
   "execution_count": 9,
   "metadata": {},
   "outputs": [
    {
     "name": "stdout",
     "output_type": "stream",
     "text": [
      "{'_id': ObjectId('636db33edfb1bbbb1b7ec963'), 'fecha': '1990-05-15 07:20:27', 'agencia': 'Tarija', 'monto': 10.5, 'descripcion': 'Aporte inversor', 'saldo': 5256702.47, 'nota': 'Monto actualizado por descripción'}\n",
      "{'_id': ObjectId('636db33edfb1bbbb1b7dfeef'), 'fecha': '1990-05-15 10:54:20', 'agencia': 'Tarija', 'monto': 10.5, 'descripcion': 'Apertura de caja de ahorros', 'saldo': 9195278.66, 'nota': 'Monto actualizado por descripción'}\n",
      "{'_id': ObjectId('636db341dfb1bbbb1b8665cc'), 'fecha': '1990-05-16 13:02:45', 'agencia': 'Beni', 'monto': 10.5, 'descripcion': 'Aporte inversor', 'saldo': 1492747.54, 'nota': 'Monto actualizado por descripción'}\n",
      "{'_id': ObjectId('636db33fdfb1bbbb1b80822e'), 'fecha': '1990-05-17 02:27:40', 'agencia': 'La Paz', 'monto': 10.5, 'descripcion': 'Aporte inversor', 'saldo': 6594102.26, 'nota': 'Monto actualizado por descripción'}\n",
      "{'_id': ObjectId('636db342dfb1bbbb1b8ace52'), 'fecha': '1990-05-17 07:16:15', 'agencia': 'Beni', 'monto': 10.5, 'descripcion': 'Aporte inversor', 'saldo': 826421.55, 'nota': 'Monto actualizado por descripción'}\n",
      "{'_id': ObjectId('636db340dfb1bbbb1b8388c4'), 'fecha': '1990-05-17 17:17:58', 'agencia': 'La Paz', 'monto': 10.5, 'descripcion': 'Aporte inversor', 'saldo': 1945166.92, 'nota': 'Monto actualizado por descripción'}\n",
      "{'_id': ObjectId('636db340dfb1bbbb1b850490'), 'fecha': '1990-05-17 18:39:54', 'agencia': 'Tarija', 'monto': 10.5, 'descripcion': 'Aporte inversor', 'saldo': 137190.12, 'nota': 'Monto actualizado por descripción'}\n",
      "{'_id': ObjectId('636db342dfb1bbbb1b8a776c'), 'fecha': '1990-05-18 08:53:52', 'agencia': 'Chuquisaca', 'monto': 10.5, 'descripcion': 'Aporte inversor', 'saldo': 1086030.47, 'nota': 'Monto actualizado por descripción'}\n",
      "{'_id': ObjectId('636db33fdfb1bbbb1b805b3b'), 'fecha': '1990-05-18 16:27:41', 'agencia': 'La Paz', 'monto': 10.5, 'descripcion': 'Aporte inversor', 'saldo': 8679997.67, 'nota': 'Monto actualizado por descripción'}\n",
      "{'_id': ObjectId('636db33edfb1bbbb1b8027e3'), 'fecha': '1990-05-18 17:11:53', 'agencia': 'La Paz', 'monto': 10.5, 'descripcion': 'Apertura de caja de ahorros', 'saldo': 4276613.13, 'nota': 'Monto actualizado por descripción'}\n"
     ]
    }
   ],
   "source": [
    "from_date_str = start_date + \"T00:00:00+00:00\"\n",
    "to_date_str = end_date + \"T23:59:59+00:00\"\n",
    "\n",
    "results = coll.find(\n",
    "    {\n",
    "        \"$and\":\n",
    "            [\n",
    "                {\n",
    "                    \"$or\":\n",
    "                    [\n",
    "                        {\n",
    "                            \"descripcion\": descripcion1\n",
    "                        },\n",
    "                        {\n",
    "                            \"descripcion\": descripcion2\n",
    "                        }\n",
    "                    ]\n",
    "                },\n",
    "                {\n",
    "                    \"fecha\":\n",
    "                    {\n",
    "                        \"$gte\": from_date_str,\n",
    "                        \"$lte\": to_date_str\n",
    "                    }\n",
    "                }\n",
    "            ]\n",
    "            \n",
    "    }\n",
    ")\n",
    "\n",
    "for result in results[:10]:\n",
    "    print(result)"
   ]
  },
  {
   "cell_type": "markdown",
   "metadata": {},
   "source": [
    "## Actualización 3: Saldo por agencias, monto y descripcion"
   ]
  },
  {
   "cell_type": "markdown",
   "metadata": {},
   "source": [
    "Se actualizarán los campos monto y nota, dependiendo de una descripción especificada."
   ]
  },
  {
   "cell_type": "code",
   "execution_count": 5,
   "metadata": {},
   "outputs": [],
   "source": [
    "def actualizacion_saldo_monto_agencia(saldo, monto, agencia1, agencia2, descripcion):\n",
    "\n",
    "    criteria = {\n",
    "        \"$and\":\n",
    "            [\n",
    "                {\n",
    "                    \"monto\": {\"$lt\": monto}\n",
    "                },\n",
    "                {\n",
    "                    \"descripcion\": descripcion\n",
    "                },\n",
    "                {\n",
    "                    \"$or\":\n",
    "                        [\n",
    "                            {\n",
    "                                \"agencia\": agencia1\n",
    "                            },\n",
    "                            {\n",
    "                                \"agencia\": agencia2\n",
    "                            }  \n",
    "                        ]\n",
    "                }\n",
    "            ]\n",
    "        }\n",
    "\n",
    "    new = {\n",
    "        \"$set\":\n",
    "            {\n",
    "                \"saldo\": saldo, \n",
    "                \"nota\": \"Saldo actualizado por monto y agencias\"\n",
    "            }\n",
    "        }\n",
    "\n",
    "    return coll.update_many(criteria, new)"
   ]
  },
  {
   "cell_type": "code",
   "execution_count": 38,
   "metadata": {},
   "outputs": [
    {
     "name": "stdout",
     "output_type": "stream",
     "text": [
      "====================================================================================================\n",
      " Se han actualizado 34 documentos\n",
      "====================================================================================================\n",
      " Actualización realizada en un tiempo de 0:00:01.197947\n",
      "====================================================================================================\n"
     ]
    }
   ],
   "source": [
    "agencia1 = \"La Paz\"\n",
    "agencia2 = \"Santa Cruz\"\n",
    "descripcion = 'Intereses'\n",
    "saldo = 1234.5\n",
    "monto = 2000\n",
    "\n",
    "start_time = time.time()\n",
    "results = actualizacion_saldo_monto_agencia(saldo, monto, agencia1, agencia2, descripcion)\n",
    "end_time = time.time()\n",
    "\n",
    "print(\"=\"*100)\n",
    "print(f\" Se han actualizado {results.modified_count} documentos\")\n",
    "print(\"=\"*100)\n",
    "print(f\" Actualización realizada en un tiempo de {str(timedelta(seconds = (end_time - start_time)))}\")\n",
    "print(\"=\"*100)"
   ]
  },
  {
   "cell_type": "code",
   "execution_count": 39,
   "metadata": {},
   "outputs": [
    {
     "name": "stdout",
     "output_type": "stream",
     "text": [
      "{'_id': ObjectId('636db33edfb1bbbb1b7d6de2'), 'fecha': '1973-12-30 15:18:51', 'agencia': 'La Paz', 'monto': 1090.72, 'descripcion': 'Intereses', 'saldo': 1234.5, 'nota': 'Saldo actualizado por monto y agencias'}\n",
      "{'_id': ObjectId('636db33edfb1bbbb1b7fa0f8'), 'fecha': '1992-09-23 08:51:16', 'agencia': 'Santa Cruz', 'monto': 1183.89, 'descripcion': 'Intereses', 'saldo': 1234.5, 'nota': 'Saldo actualizado por monto y agencias'}\n",
      "{'_id': ObjectId('636db33edfb1bbbb1b7faa61'), 'fecha': '2019-05-05 09:15:43', 'agencia': 'Santa Cruz', 'monto': 1100.83, 'descripcion': 'Intereses', 'saldo': 1234.5, 'nota': 'Saldo actualizado por monto y agencias'}\n",
      "{'_id': ObjectId('636db33edfb1bbbb1b80004d'), 'fecha': '1964-02-17 19:22:34', 'agencia': 'La Paz', 'monto': 1803.68, 'descripcion': 'Intereses', 'saldo': 1234.5, 'nota': 'Saldo actualizado por monto y agencias'}\n",
      "{'_id': ObjectId('636db33fdfb1bbbb1b807973'), 'fecha': '1997-01-05 16:54:23', 'agencia': 'Santa Cruz', 'monto': 1687.35, 'descripcion': 'Intereses', 'saldo': 1234.5, 'nota': 'Saldo actualizado por monto y agencias'}\n",
      "{'_id': ObjectId('636db33fdfb1bbbb1b810263'), 'fecha': '2008-05-07 22:40:30', 'agencia': 'La Paz', 'monto': 226.56, 'descripcion': 'Intereses', 'saldo': 1234.5, 'nota': 'Saldo actualizado por monto y agencias'}\n",
      "{'_id': ObjectId('636db33fdfb1bbbb1b8132f4'), 'fecha': '2012-06-02 23:34:26', 'agencia': 'La Paz', 'monto': 1180.32, 'descripcion': 'Intereses', 'saldo': 1234.5, 'nota': 'Saldo actualizado por monto y agencias'}\n",
      "{'_id': ObjectId('636db33fdfb1bbbb1b817dc5'), 'fecha': '1995-09-28 09:15:03', 'agencia': 'Santa Cruz', 'monto': 1735.93, 'descripcion': 'Intereses', 'saldo': 1234.5, 'nota': 'Saldo actualizado por monto y agencias'}\n",
      "{'_id': ObjectId('636db33fdfb1bbbb1b81ff42'), 'fecha': '1992-11-22 23:03:01', 'agencia': 'Santa Cruz', 'monto': 1925.29, 'descripcion': 'Intereses', 'saldo': 1234.5, 'nota': 'Saldo actualizado por monto y agencias'}\n",
      "{'_id': ObjectId('636db33fdfb1bbbb1b82736d'), 'fecha': '1957-10-29 08:01:05', 'agencia': 'La Paz', 'monto': 1253.74, 'descripcion': 'Intereses', 'saldo': 1234.5, 'nota': 'Saldo actualizado por monto y agencias'}\n"
     ]
    }
   ],
   "source": [
    "results = coll.find(\n",
    "    {\n",
    "    \"$and\":\n",
    "        [\n",
    "            {\n",
    "                \"monto\": {\"$lt\": monto}\n",
    "            },\n",
    "            {\n",
    "                \"descripcion\": descripcion\n",
    "            },\n",
    "            {\n",
    "                \"$or\":\n",
    "                    [\n",
    "                        {\n",
    "                            \"agencia\": agencia1\n",
    "                        },\n",
    "                        {\n",
    "                            \"agencia\": agencia2\n",
    "                        }  \n",
    "                    ]\n",
    "            }\n",
    "        ]\n",
    "    }\n",
    ")\n",
    "\n",
    "for result in results[:10]:\n",
    "    print(result)"
   ]
  },
  {
   "cell_type": "markdown",
   "metadata": {},
   "source": [
    "| Tabla resumen de resultados | Valor obtenido |\n",
    "|-----------------------------|----------------|\n",
    "| Tiempo actualización 1      | 45.3217 s      |\n",
    "| Tiempo actualización 2      | 6.4504 s       |\n",
    "| Tiempo actualización 3      | 1.1979 s       |"
   ]
  },
  {
   "cell_type": "markdown",
   "metadata": {},
   "source": [
    "-----------------"
   ]
  },
  {
   "cell_type": "markdown",
   "metadata": {},
   "source": [
    "# Actualizaciones a la base de datos con 10 millones de registros y todos los campos indexados"
   ]
  },
  {
   "cell_type": "markdown",
   "metadata": {},
   "source": [
    "En esta sección se revisará la operación de búsqueda para la colección de 10 millones de documentos ya indexados"
   ]
  },
  {
   "cell_type": "code",
   "execution_count": 16,
   "metadata": {},
   "outputs": [
    {
     "data": {
      "text/plain": [
       "{'_id_': {'v': 2, 'key': [('_id', 1)]},\n",
       " 'fecha_1': {'v': 2, 'key': [('fecha', 1)]},\n",
       " 'agencia_1': {'v': 2, 'key': [('agencia', 1)]},\n",
       " 'monto_1': {'v': 2, 'key': [('monto', 1)]},\n",
       " 'saldo_1': {'v': 2, 'key': [('saldo', 1)]},\n",
       " 'descripcion_1': {'v': 2, 'key': [('descripcion', 1)]},\n",
       " 'nota_1': {'v': 2, 'key': [('nota', 1)]}}"
      ]
     },
     "execution_count": 16,
     "metadata": {},
     "output_type": "execute_result"
    }
   ],
   "source": [
    "coll = db[\"extracto_cuenta_10m2\"]\n",
    "coll.index_information()"
   ]
  },
  {
   "cell_type": "markdown",
   "metadata": {},
   "source": [
    "## Actualización 1: Monto por fecha"
   ]
  },
  {
   "cell_type": "markdown",
   "metadata": {},
   "source": [
    "Se actualizarán los campos monto y nota, dependiendo de una fecha especificada"
   ]
  },
  {
   "cell_type": "code",
   "execution_count": 42,
   "metadata": {},
   "outputs": [
    {
     "name": "stdout",
     "output_type": "stream",
     "text": [
      "====================================================================================================\n",
      " Se han actualizado 11439 documentos\n",
      "====================================================================================================\n",
      " Actualización realizada en un tiempo de 0:04:33.459410\n",
      "====================================================================================================\n"
     ]
    }
   ],
   "source": [
    "start_date = \"2021-12-01\"\n",
    "end_date = \"2021-12-31\"\n",
    "monto_actualizar = 7890\n",
    "\n",
    "start_time = time.time()\n",
    "results = actualizacion_fecha_monto(start_date, end_date, monto_actualizar)\n",
    "end_time = time.time()\n",
    "\n",
    "print(\"=\"*100)\n",
    "print(f\" Se han actualizado {results.modified_count} documentos\")\n",
    "print(\"=\"*100)\n",
    "print(f\" Actualización realizada en un tiempo de {str(timedelta(seconds = (end_time - start_time)))}\")\n",
    "print(\"=\"*100)"
   ]
  },
  {
   "cell_type": "code",
   "execution_count": 43,
   "metadata": {},
   "outputs": [
    {
     "name": "stdout",
     "output_type": "stream",
     "text": [
      "{'_id': ObjectId('636db08fdfb1bba8ec4915df'), 'fecha': '2021-12-02 00:00:54', 'agencia': 'Tarija', 'monto': 7890, 'descripcion': 'Pago de cheque compensado', 'saldo': 7895316.3, 'nota': 'Monto actualizado por fecha'}\n",
      "{'_id': ObjectId('636db05edfb1bba8ec2b16dd'), 'fecha': '2021-12-02 00:01:56', 'agencia': 'Santa Cruz', 'monto': 7890, 'descripcion': 'Pago recibo de agua', 'saldo': 1212965.69, 'nota': 'Monto actualizado por fecha'}\n",
      "{'_id': ObjectId('636db0a9dfb1bba8ec5a1379'), 'fecha': '2021-12-02 00:04:40', 'agencia': 'Cochabamba', 'monto': 7890, 'descripcion': 'Deposito a cuenta', 'saldo': 1100613.5, 'nota': 'Monto actualizado por fecha'}\n",
      "{'_id': ObjectId('636db013dfb1bba8ecfac0ce'), 'fecha': '2021-12-02 00:05:00', 'agencia': 'Oruro', 'monto': 7890, 'descripcion': 'Pago recibo de gas', 'saldo': 5367940.51, 'nota': 'Monto actualizado por fecha'}\n",
      "{'_id': ObjectId('636db0abdfb1bba8ec5fa176'), 'fecha': '2021-12-02 00:09:02', 'agencia': 'Oruro', 'monto': 7890, 'descripcion': 'DEB.CTA.P/C.INTERNET', 'saldo': 1357921.9, 'nota': 'Monto actualizado por fecha'}\n",
      "{'_id': ObjectId('636db08cdfb1bba8ec4205f0'), 'fecha': '2021-12-02 00:09:30', 'agencia': 'La Paz', 'monto': 7890, 'descripcion': 'Transferencia interbancaria SIMPLE', 'saldo': 1309924.57, 'nota': 'Monto actualizado por fecha'}\n",
      "{'_id': ObjectId('636dafe9dfb1bba8ece25dd5'), 'fecha': '2021-12-02 00:17:22', 'agencia': 'Chuquisaca', 'monto': 7890, 'descripcion': 'Transferencia interbancaria SIMPLE', 'saldo': 5921962.32, 'nota': 'Monto actualizado por fecha'}\n",
      "{'_id': ObjectId('636db02cdfb1bba8ec06f78a'), 'fecha': '2021-12-02 00:33:04', 'agencia': 'Tarija', 'monto': 7890, 'descripcion': 'AB.CTA.P/MOVIL', 'saldo': 1231798.56, 'nota': 'Monto actualizado por fecha'}\n",
      "{'_id': ObjectId('636dafe6dfb1bba8ecdbdf80'), 'fecha': '2021-12-02 00:36:21', 'agencia': 'Tarija', 'monto': 7890, 'descripcion': 'Deposito a cuenta', 'saldo': 6561699.64, 'nota': 'Monto actualizado por fecha'}\n",
      "{'_id': ObjectId('636dafd1dfb1bba8eccda251'), 'fecha': '2021-12-02 00:37:46', 'agencia': 'Tarija', 'monto': 7890, 'descripcion': 'Consignación en efectivo', 'saldo': 7904488.56, 'nota': 'Monto actualizado por fecha'}\n"
     ]
    }
   ],
   "source": [
    "from_date_str = start_date + \"T00:00:00+00:00\"\n",
    "to_date_str = end_date + \"T23:59:59+00:00\"\n",
    "\n",
    "results = coll.find(\n",
    "    {\n",
    "        \"$and\":\n",
    "            [\n",
    "                {\n",
    "                    \"fecha\":\n",
    "                    {\n",
    "                        \"$gte\": from_date_str,\n",
    "                        \"$lte\": to_date_str\n",
    "                    }\n",
    "                }\n",
    "            ]\n",
    "        }\n",
    "    )\n",
    "\n",
    "for result in results[:10]:\n",
    "    print(result)"
   ]
  },
  {
   "cell_type": "markdown",
   "metadata": {},
   "source": [
    "## Actualización 2: Nota por descripción"
   ]
  },
  {
   "cell_type": "markdown",
   "metadata": {},
   "source": [
    "Se actualizarán los campos monto y nota, dependiendo de una descripción especificada."
   ]
  },
  {
   "cell_type": "code",
   "execution_count": 46,
   "metadata": {},
   "outputs": [
    {
     "name": "stdout",
     "output_type": "stream",
     "text": [
      "====================================================================================================\n",
      " Se han actualizado 1241 documentos\n",
      "====================================================================================================\n",
      " Actualización realizada en un tiempo de 0:04:00.600043\n",
      "====================================================================================================\n"
     ]
    }
   ],
   "source": [
    "start_date = \"1980-01-14\"\n",
    "end_date = \"1980-04-25\"\n",
    "descripcion1 = 'Aporte inversor'\n",
    "descripcion2 = 'Apertura de caja de ahorros'\n",
    "monto = 10.50\n",
    "\n",
    "start_time = time.time()\n",
    "results = actualizacion_monto_descripcion_fecha(start_date, end_date, descripcion1, descripcion2, monto)\n",
    "end_time = time.time()\n",
    "\n",
    "print(\"=\"*100)\n",
    "print(f\" Se han actualizado {results.modified_count} documentos\")\n",
    "print(\"=\"*100)\n",
    "print(f\" Actualización realizada en un tiempo de {str(timedelta(seconds = (end_time - start_time)))}\")\n",
    "print(\"=\"*100)"
   ]
  },
  {
   "cell_type": "code",
   "execution_count": 47,
   "metadata": {},
   "outputs": [
    {
     "name": "stdout",
     "output_type": "stream",
     "text": [
      "{'_id': ObjectId('636db0a9dfb1bba8ec58cd80'), 'fecha': '1980-01-15 00:24:34', 'agencia': 'Beni', 'monto': 10.5, 'descripcion': 'Aporte inversor', 'saldo': 5431030.18, 'nota': 'Monto actualizado por descripción'}\n",
      "{'_id': ObjectId('636db017dfb1bba8ec01cc35'), 'fecha': '1980-01-15 02:24:13', 'agencia': 'Beni', 'monto': 10.5, 'descripcion': 'Apertura de caja de ahorros', 'saldo': 1356620.84, 'nota': 'Monto actualizado por descripción'}\n",
      "{'_id': ObjectId('636db092dfb1bba8ec4ecb6e'), 'fecha': '1980-01-15 02:24:49', 'agencia': 'Chuquisaca', 'monto': 10.5, 'descripcion': 'Apertura de caja de ahorros', 'saldo': 215898.78, 'nota': 'Monto actualizado por descripción'}\n",
      "{'_id': ObjectId('636db0abdfb1bba8ec600b09'), 'fecha': '1980-01-15 03:49:51', 'agencia': 'Tarija', 'monto': 10.5, 'descripcion': 'Aporte inversor', 'saldo': 1483142.98, 'nota': 'Monto actualizado por descripción'}\n",
      "{'_id': ObjectId('636dafe6dfb1bba8ecdcb513'), 'fecha': '1980-01-15 04:25:00', 'agencia': 'Cochabamba', 'monto': 10.5, 'descripcion': 'Aporte inversor', 'saldo': 7424079.14, 'nota': 'Monto actualizado por descripción'}\n",
      "{'_id': ObjectId('636db02edfb1bba8ec0cf7ef'), 'fecha': '1980-01-15 04:48:33', 'agencia': 'Cochabamba', 'monto': 10.5, 'descripcion': 'Apertura de caja de ahorros', 'saldo': 3014198.03, 'nota': 'Monto actualizado por descripción'}\n",
      "{'_id': ObjectId('636db031dfb1bba8ec131917'), 'fecha': '1980-01-15 06:19:52', 'agencia': 'Cochabamba', 'monto': 10.5, 'descripcion': 'Apertura de caja de ahorros', 'saldo': 4469376.69, 'nota': 'Monto actualizado por descripción'}\n",
      "{'_id': ObjectId('636db04adfb1bba8ec1fa04e'), 'fecha': '1980-01-15 06:59:58', 'agencia': 'Tarija', 'monto': 10.5, 'descripcion': 'Aporte inversor', 'saldo': 3393024.05, 'nota': 'Monto actualizado por descripción'}\n",
      "{'_id': ObjectId('636dafd3dfb1bba8ecd2f10c'), 'fecha': '1980-01-15 08:35:48', 'agencia': 'Chuquisaca', 'monto': 10.5, 'descripcion': 'Apertura de caja de ahorros', 'saldo': 2498030.61, 'nota': 'Monto actualizado por descripción'}\n",
      "{'_id': ObjectId('636db090dfb1bba8ec4b5998'), 'fecha': '1980-01-15 10:15:30', 'agencia': 'Oruro', 'monto': 10.5, 'descripcion': 'Apertura de caja de ahorros', 'saldo': 87613.87, 'nota': 'Monto actualizado por descripción'}\n"
     ]
    }
   ],
   "source": [
    "from_date_str = start_date + \"T00:00:00+00:00\"\n",
    "to_date_str = end_date + \"T23:59:59+00:00\"\n",
    "\n",
    "results = coll.find(\n",
    "    {\n",
    "        \"$and\":\n",
    "            [\n",
    "                {\n",
    "                    \"$or\":\n",
    "                    [\n",
    "                        {\n",
    "                            \"descripcion\": descripcion1\n",
    "                        },\n",
    "                        {\n",
    "                            \"descripcion\": descripcion2\n",
    "                        }\n",
    "                    ]\n",
    "                },\n",
    "                {\n",
    "                    \"fecha\":\n",
    "                    {\n",
    "                        \"$gte\": from_date_str,\n",
    "                        \"$lte\": to_date_str\n",
    "                    }\n",
    "                }\n",
    "            ]\n",
    "            \n",
    "    }\n",
    ")\n",
    "\n",
    "for result in results[:10]:\n",
    "    print(result)"
   ]
  },
  {
   "cell_type": "markdown",
   "metadata": {},
   "source": [
    "## Actualización 3: Saldo por agencias, monto y descripcion"
   ]
  },
  {
   "cell_type": "markdown",
   "metadata": {},
   "source": [
    "Se actualizarán los campos monto y nota, dependiendo de una descripción especificada."
   ]
  },
  {
   "cell_type": "code",
   "execution_count": 48,
   "metadata": {},
   "outputs": [
    {
     "name": "stdout",
     "output_type": "stream",
     "text": [
      "====================================================================================================\n",
      " Se han actualizado 423 documentos\n",
      "====================================================================================================\n",
      " Actualización realizada en un tiempo de 0:02:20.916705\n",
      "====================================================================================================\n"
     ]
    }
   ],
   "source": [
    "agencia1 = \"La Paz\"\n",
    "agencia2 = \"Santa Cruz\"\n",
    "descripcion = 'Intereses'\n",
    "saldo = 1234.5\n",
    "monto = 2000\n",
    "\n",
    "start_time = time.time()\n",
    "results = actualizacion_saldo_monto_agencia(saldo, monto, agencia1, agencia2, descripcion)\n",
    "end_time = time.time()\n",
    "\n",
    "print(\"=\"*100)\n",
    "print(f\" Se han actualizado {results.modified_count} documentos\")\n",
    "print(\"=\"*100)\n",
    "print(f\" Actualización realizada en un tiempo de {str(timedelta(seconds = (end_time - start_time)))}\")\n",
    "print(\"=\"*100)"
   ]
  },
  {
   "cell_type": "code",
   "execution_count": 49,
   "metadata": {},
   "outputs": [
    {
     "name": "stdout",
     "output_type": "stream",
     "text": [
      "{'_id': ObjectId('636db0a9dfb1bba8ec5833e4'), 'fecha': '1960-07-09 07:48:09', 'agencia': 'Santa Cruz', 'monto': 12.03, 'descripcion': 'Intereses', 'saldo': 1234.5, 'nota': 'Saldo actualizado por monto y agencias'}\n",
      "{'_id': ObjectId('636dafe9dfb1bba8ece2d0b0'), 'fecha': '2018-04-01 20:25:14', 'agencia': 'La Paz', 'monto': 16.2, 'descripcion': 'Intereses', 'saldo': 1234.5, 'nota': 'Saldo actualizado por monto y agencias'}\n",
      "{'_id': ObjectId('636db0abdfb1bba8ec5f5b09'), 'fecha': '1964-04-12 18:53:53', 'agencia': 'Santa Cruz', 'monto': 19.62, 'descripcion': 'Intereses', 'saldo': 1234.5, 'nota': 'Saldo actualizado por monto y agencias'}\n",
      "{'_id': ObjectId('636db02edfb1bba8ec0b2d76'), 'fecha': '1956-04-14 01:32:42', 'agencia': 'La Paz', 'monto': 20.34, 'descripcion': 'Intereses', 'saldo': 1234.5, 'nota': 'Saldo actualizado por monto y agencias'}\n",
      "{'_id': ObjectId('636dafe5dfb1bba8ecda6e7e'), 'fecha': '1964-09-10 17:22:52', 'agencia': 'Santa Cruz', 'monto': 21.98, 'descripcion': 'Intereses', 'saldo': 1234.5, 'nota': 'Saldo actualizado por monto y agencias'}\n",
      "{'_id': ObjectId('636db091dfb1bba8ec4bc413'), 'fecha': '2008-11-03 02:41:21', 'agencia': 'Santa Cruz', 'monto': 30.94, 'descripcion': 'Intereses', 'saldo': 1234.5, 'nota': 'Saldo actualizado por monto y agencias'}\n",
      "{'_id': ObjectId('636daffbdfb1bba8ece923d5'), 'fecha': '2010-12-31 06:38:37', 'agencia': 'La Paz', 'monto': 41.71, 'descripcion': 'Intereses', 'saldo': 1234.5, 'nota': 'Saldo actualizado por monto y agencias'}\n",
      "{'_id': ObjectId('636db04adfb1bba8ec20a729'), 'fecha': '2012-07-17 10:58:53', 'agencia': 'Santa Cruz', 'monto': 42.07, 'descripcion': 'Intereses', 'saldo': 1234.5, 'nota': 'Saldo actualizado por monto y agencias'}\n",
      "{'_id': ObjectId('636db04adfb1bba8ec1fb28f'), 'fecha': '1964-10-30 14:34:34', 'agencia': 'Santa Cruz', 'monto': 46.44, 'descripcion': 'Intereses', 'saldo': 1234.5, 'nota': 'Saldo actualizado por monto y agencias'}\n",
      "{'_id': ObjectId('636db08ddfb1bba8ec447055'), 'fecha': '2012-07-30 02:30:58', 'agencia': 'La Paz', 'monto': 46.64, 'descripcion': 'Intereses', 'saldo': 1234.5, 'nota': 'Saldo actualizado por monto y agencias'}\n"
     ]
    }
   ],
   "source": [
    "results = coll.find(\n",
    "    {\n",
    "    \"$and\":\n",
    "        [\n",
    "            {\n",
    "                \"monto\": {\"$lt\": monto}\n",
    "            },\n",
    "            {\n",
    "                \"descripcion\": descripcion\n",
    "            },\n",
    "            {\n",
    "                \"$or\":\n",
    "                    [\n",
    "                        {\n",
    "                            \"agencia\": agencia1\n",
    "                        },\n",
    "                        {\n",
    "                            \"agencia\": agencia2\n",
    "                        }  \n",
    "                    ]\n",
    "            }\n",
    "        ]\n",
    "    }\n",
    ")\n",
    "\n",
    "for result in results[:10]:\n",
    "    print(result)"
   ]
  },
  {
   "cell_type": "markdown",
   "metadata": {},
   "source": [
    "| Tabla resumen de resultados | Valor obtenido  |\n",
    "|-----------------------------|-----------------|\n",
    "| Tiempo actualización 1      | 4 min 33.4594 s |\n",
    "| Tiempo actualización 2      | 4 min 0.6004 s  |\n",
    "| Tiempo actualización 3      | 2 min 20.9167 s |"
   ]
  },
  {
   "cell_type": "markdown",
   "metadata": {},
   "source": [
    "--------------------------"
   ]
  },
  {
   "cell_type": "markdown",
   "metadata": {},
   "source": [
    "# Actualizaciones a la base de datos con 30 millones de registros y todos los campos indexados"
   ]
  },
  {
   "cell_type": "markdown",
   "metadata": {},
   "source": [
    "En esta sección se revisará la operación de búsqueda para la colección de 30 millones de documentos ya indexados"
   ]
  },
  {
   "cell_type": "code",
   "execution_count": 17,
   "metadata": {},
   "outputs": [
    {
     "data": {
      "text/plain": [
       "{'_id_': {'v': 2, 'key': [('_id', 1)]},\n",
       " 'fecha_1': {'v': 2, 'key': [('fecha', 1)]},\n",
       " 'agencia_1': {'v': 2, 'key': [('agencia', 1)]},\n",
       " 'monto_1': {'v': 2, 'key': [('monto', 1)]},\n",
       " 'saldo_1': {'v': 2, 'key': [('saldo', 1)]},\n",
       " 'descripcion_1': {'v': 2, 'key': [('descripcion', 1)]},\n",
       " 'nota_1': {'v': 2, 'key': [('nota', 1)]}}"
      ]
     },
     "execution_count": 17,
     "metadata": {},
     "output_type": "execute_result"
    }
   ],
   "source": [
    "coll = db[\"extracto_cuenta_30m\"]\n",
    "coll.index_information()"
   ]
  },
  {
   "cell_type": "markdown",
   "metadata": {},
   "source": [
    "## Actualización 1: Monto por fecha"
   ]
  },
  {
   "cell_type": "markdown",
   "metadata": {},
   "source": [
    "Se actualizarán los campos monto y nota, dependiendo de una fecha especificada"
   ]
  },
  {
   "cell_type": "code",
   "execution_count": 21,
   "metadata": {},
   "outputs": [
    {
     "name": "stdout",
     "output_type": "stream",
     "text": [
      "====================================================================================================\n",
      " Se han actualizado 244 documentos\n",
      "====================================================================================================\n",
      " Actualización realizada en un tiempo de 0:01:15.676908\n",
      "====================================================================================================\n"
     ]
    }
   ],
   "source": [
    "start_date = \"2009-12-01\"\n",
    "end_date = \"2009-12-02\"\n",
    "monto_actualizar = 7890\n",
    "\n",
    "start_time = time.time()\n",
    "results = actualizacion_fecha_monto(start_date, end_date, monto_actualizar)\n",
    "end_time = time.time()\n",
    "\n",
    "print(\"=\"*100)\n",
    "print(f\" Se han actualizado {results.modified_count} documentos\")\n",
    "print(\"=\"*100)\n",
    "print(f\" Actualización realizada en un tiempo de {str(timedelta(seconds = (end_time - start_time)))}\")\n",
    "print(\"=\"*100)"
   ]
  },
  {
   "cell_type": "code",
   "execution_count": 60,
   "metadata": {},
   "outputs": [
    {
     "name": "stdout",
     "output_type": "stream",
     "text": [
      "{'_id': ObjectId('636d40b3dfb1bb4dd6d924d5'), 'fecha': '2020-12-02 00:00:14', 'agencia': 'Tarija', 'monto': 7890, 'descripcion': 'Pago de nómina', 'saldo': 458926.79, 'nota': 'Monto actualizado por fecha'}\n",
      "{'_id': ObjectId('636d3f87dfb1bb4dd6074ee9'), 'fecha': '2020-12-02 00:01:05', 'agencia': 'Chuquisaca', 'monto': 7890, 'descripcion': 'Apertura de cuenta corriente', 'saldo': 5416583.29, 'nota': 'Monto actualizado por fecha'}\n",
      "{'_id': ObjectId('636d40b1dfb1bb4dd6d319fa'), 'fecha': '2020-12-02 00:01:15', 'agencia': 'Oruro', 'monto': 7890, 'descripcion': 'Apertura de cuenta corriente', 'saldo': 1716273.52, 'nota': 'Monto actualizado por fecha'}\n",
      "{'_id': ObjectId('636d4126dfb1bb4dd620a662'), 'fecha': '2020-12-02 00:02:58', 'agencia': 'Cochabamba', 'monto': 7890, 'descripcion': 'Reintegro cajero automático', 'saldo': 1545910.97, 'nota': 'Monto actualizado por fecha'}\n",
      "{'_id': ObjectId('636d41c3dfb1bb4dd67be379'), 'fecha': '2020-12-02 00:05:49', 'agencia': 'Cochabamba', 'monto': 7890, 'descripcion': 'Compra en comercio', 'saldo': 6055536.94, 'nota': 'Monto actualizado por fecha'}\n",
      "{'_id': ObjectId('636d3fe3dfb1bb4dd6474228'), 'fecha': '2020-12-02 00:14:50', 'agencia': 'Cochabamba', 'monto': 7890, 'descripcion': 'Apertura de caja de ahorros', 'saldo': 7071478.84, 'nota': 'Monto actualizado por fecha'}\n",
      "{'_id': ObjectId('636d4139dfb1bb4dd62862ec'), 'fecha': '2020-12-02 00:15:32', 'agencia': 'Beni', 'monto': 7890, 'descripcion': 'Apertura de caja de ahorros', 'saldo': 2635174.72, 'nota': 'Monto actualizado por fecha'}\n",
      "{'_id': ObjectId('636d3fa2dfb1bb4dd620aef0'), 'fecha': '2020-12-02 00:16:15', 'agencia': 'Tarija', 'monto': 7890, 'descripcion': 'DEB.CTA.P/C.INTERNET', 'saldo': 1849627.55, 'nota': 'Monto actualizado por fecha'}\n",
      "{'_id': ObjectId('636d3fa0dfb1bb4dd61c0f26'), 'fecha': '2020-12-02 00:16:34', 'agencia': 'Oruro', 'monto': 7890, 'descripcion': 'Aporte inversor', 'saldo': 5952786.9, 'nota': 'Monto actualizado por fecha'}\n",
      "{'_id': ObjectId('636d4058dfb1bb4dd6973b90'), 'fecha': '2020-12-02 00:17:26', 'agencia': 'Tarija', 'monto': 7890, 'descripcion': 'AB.CTA.P/MOVIL', 'saldo': 750815.64, 'nota': 'Monto actualizado por fecha'}\n"
     ]
    }
   ],
   "source": [
    "from_date_str = start_date + \"T00:00:00+00:00\"\n",
    "to_date_str = end_date + \"T23:59:59+00:00\"\n",
    "\n",
    "results = coll.find(\n",
    "    {\n",
    "        \"$and\":\n",
    "            [\n",
    "                {\n",
    "                    \"fecha\":\n",
    "                    {\n",
    "                        \"$gte\": from_date_str,\n",
    "                        \"$lte\": to_date_str\n",
    "                    }\n",
    "                }\n",
    "            ]\n",
    "        }\n",
    "    )\n",
    "\n",
    "for result in results[:10]:\n",
    "    print(result)"
   ]
  },
  {
   "cell_type": "markdown",
   "metadata": {},
   "source": [
    "## Actualización 2: Nota por descripción"
   ]
  },
  {
   "cell_type": "markdown",
   "metadata": {},
   "source": [
    "Se actualizarán los campos monto y nota, dependiendo de una descripción especificada."
   ]
  },
  {
   "cell_type": "code",
   "execution_count": 23,
   "metadata": {},
   "outputs": [
    {
     "name": "stdout",
     "output_type": "stream",
     "text": [
      "====================================================================================================\n",
      " Se han actualizado 67 documentos\n",
      "====================================================================================================\n",
      " Actualización realizada en un tiempo de 0:01:31.543552\n",
      "====================================================================================================\n"
     ]
    }
   ],
   "source": [
    "start_date = \"1981-01-14\"\n",
    "end_date = \"1981-01-15\"\n",
    "descripcion1 = 'Aporte inversor'\n",
    "descripcion2 = 'Apertura de caja de ahorros'\n",
    "monto = 10.50\n",
    "\n",
    "start_time = time.time()\n",
    "results = actualizacion_monto_descripcion_fecha(start_date, end_date, descripcion1, descripcion2, monto)\n",
    "end_time = time.time()\n",
    "\n",
    "print(\"=\"*100)\n",
    "print(f\" Se han actualizado {results.modified_count} documentos\")\n",
    "print(\"=\"*100)\n",
    "print(f\" Actualización realizada en un tiempo de {str(timedelta(seconds = (end_time - start_time)))}\")\n",
    "print(\"=\"*100)"
   ]
  },
  {
   "cell_type": "code",
   "execution_count": 24,
   "metadata": {},
   "outputs": [
    {
     "name": "stdout",
     "output_type": "stream",
     "text": [
      "{'_id': ObjectId('636d3fcfdfb1bb4dd6397ac5'), 'fecha': '1981-01-15 00:18:24', 'agencia': 'Pando', 'monto': 10.5, 'descripcion': 'Apertura de caja de ahorros', 'saldo': 2380795.98, 'nota': 'Monto actualizado por descripción'}\n",
      "{'_id': ObjectId('636d3ffddfb1bb4dd6610cf7'), 'fecha': '1981-01-15 01:09:39', 'agencia': 'Cochabamba', 'monto': 10.5, 'descripcion': 'Aporte inversor', 'saldo': 5597202.33, 'nota': 'Monto actualizado por descripción'}\n",
      "{'_id': ObjectId('636d410cdfb1bb4dd60ccdb0'), 'fecha': '1981-01-15 01:26:24', 'agencia': 'Santa Cruz', 'monto': 10.5, 'descripcion': 'Aporte inversor', 'saldo': 2122363.13, 'nota': 'Monto actualizado por descripción'}\n",
      "{'_id': ObjectId('636d41addfb1bb4dd66a7b51'), 'fecha': '1981-01-15 01:30:10', 'agencia': 'Chuquisaca', 'monto': 10.5, 'descripcion': 'Aporte inversor', 'saldo': 1337967.17, 'nota': 'Monto actualizado por descripción'}\n",
      "{'_id': ObjectId('636d403edfb1bb4dd6815b1d'), 'fecha': '1981-01-15 02:35:54', 'agencia': 'Oruro', 'monto': 10.5, 'descripcion': 'Aporte inversor', 'saldo': 6949688.58, 'nota': 'Monto actualizado por descripción'}\n",
      "{'_id': ObjectId('636d4082dfb1bb4dd6b722b6'), 'fecha': '1981-01-15 02:38:39', 'agencia': 'Beni', 'monto': 10.5, 'descripcion': 'Apertura de caja de ahorros', 'saldo': 6056504.71, 'nota': 'Monto actualizado por descripción'}\n",
      "{'_id': ObjectId('636d406cdfb1bb4dd6a51f44'), 'fecha': '1981-01-15 02:46:25', 'agencia': 'La Paz', 'monto': 10.5, 'descripcion': 'Apertura de caja de ahorros', 'saldo': 1601041.67, 'nota': 'Monto actualizado por descripción'}\n",
      "{'_id': ObjectId('636d416edfb1bb4dd65255e6'), 'fecha': '1981-01-15 02:46:29', 'agencia': 'Oruro', 'monto': 10.5, 'descripcion': 'Apertura de caja de ahorros', 'saldo': 5907239.57, 'nota': 'Monto actualizado por descripción'}\n",
      "{'_id': ObjectId('636d40c8dfb1bb4dd6e37659'), 'fecha': '1981-01-15 04:35:22', 'agencia': 'Chuquisaca', 'monto': 10.5, 'descripcion': 'Aporte inversor', 'saldo': 4334763.28, 'nota': 'Monto actualizado por descripción'}\n",
      "{'_id': ObjectId('636d3fa3dfb1bb4dd621ac6b'), 'fecha': '1981-01-15 05:13:32', 'agencia': 'Santa Cruz', 'monto': 10.5, 'descripcion': 'Apertura de caja de ahorros', 'saldo': 8620136.52, 'nota': 'Monto actualizado por descripción'}\n"
     ]
    }
   ],
   "source": [
    "from_date_str = start_date + \"T00:00:00+00:00\"\n",
    "to_date_str = end_date + \"T23:59:59+00:00\"\n",
    "\n",
    "results = coll.find(\n",
    "    {\n",
    "        \"$and\":\n",
    "            [\n",
    "                {\n",
    "                    \"$or\":\n",
    "                    [\n",
    "                        {\n",
    "                            \"descripcion\": descripcion1\n",
    "                        },\n",
    "                        {\n",
    "                            \"descripcion\": descripcion2\n",
    "                        }\n",
    "                    ]\n",
    "                },\n",
    "                {\n",
    "                    \"fecha\":\n",
    "                    {\n",
    "                        \"$gte\": from_date_str,\n",
    "                        \"$lte\": to_date_str\n",
    "                    }\n",
    "                }\n",
    "            ]\n",
    "            \n",
    "    }\n",
    ")\n",
    "\n",
    "for result in results[:10]:\n",
    "    print(result)"
   ]
  },
  {
   "cell_type": "markdown",
   "metadata": {},
   "source": [
    "## Actualización 3: Saldo por agencias, monto y descripcion"
   ]
  },
  {
   "cell_type": "markdown",
   "metadata": {},
   "source": [
    "Se actualizarán los campos monto y nota, dependiendo de una descripción especificada."
   ]
  },
  {
   "cell_type": "code",
   "execution_count": 64,
   "metadata": {},
   "outputs": [
    {
     "name": "stdout",
     "output_type": "stream",
     "text": [
      "====================================================================================================\n",
      " Se han actualizado 68 documentos\n",
      "====================================================================================================\n",
      " Actualización realizada en un tiempo de 0:00:31.925104\n",
      "====================================================================================================\n"
     ]
    }
   ],
   "source": [
    "agencia1 = \"La Paz\"\n",
    "agencia2 = \"Santa Cruz\"\n",
    "descripcion = 'Intereses'\n",
    "saldo = 1234.5\n",
    "monto = 100\n",
    "\n",
    "start_time = time.time()\n",
    "results = actualizacion_saldo_monto_agencia(saldo, monto, agencia1, agencia2, descripcion)\n",
    "end_time = time.time()\n",
    "\n",
    "print(\"=\"*100)\n",
    "print(f\" Se han actualizado {results.modified_count} documentos\")\n",
    "print(\"=\"*100)\n",
    "print(f\" Actualización realizada en un tiempo de {str(timedelta(seconds = (end_time - start_time)))}\")\n",
    "print(\"=\"*100)"
   ]
  },
  {
   "cell_type": "code",
   "execution_count": 65,
   "metadata": {},
   "outputs": [
    {
     "name": "stdout",
     "output_type": "stream",
     "text": [
      "{'_id': ObjectId('636d3fe5dfb1bb4dd64a51dc'), 'fecha': '1960-07-09 07:48:09', 'agencia': 'Santa Cruz', 'monto': 12.03, 'descripcion': 'Intereses', 'saldo': 1234.5, 'nota': 'Saldo actualizado por monto y agencias'}\n",
      "{'_id': ObjectId('636d3f31dfb1bb4dd6d4eea8'), 'fecha': '2018-04-01 20:25:14', 'agencia': 'La Paz', 'monto': 16.2, 'descripcion': 'Intereses', 'saldo': 1234.5, 'nota': 'Saldo actualizado por monto y agencias'}\n",
      "{'_id': ObjectId('636d40f7dfb1bb4dd6fe4cef'), 'fecha': '1977-10-03 06:06:13', 'agencia': 'Santa Cruz', 'monto': 18.13, 'descripcion': 'Intereses', 'saldo': 1234.5, 'nota': 'Saldo actualizado por monto y agencias'}\n",
      "{'_id': ObjectId('636d3fe7dfb1bb4dd6517901'), 'fecha': '1964-04-12 18:53:53', 'agencia': 'Santa Cruz', 'monto': 19.62, 'descripcion': 'Intereses', 'saldo': 1234.5, 'nota': 'Saldo actualizado por monto y agencias'}\n",
      "{'_id': ObjectId('636d3f72dfb1bb4dd6fd4b6d'), 'fecha': '1956-04-14 01:32:42', 'agencia': 'La Paz', 'monto': 20.34, 'descripcion': 'Intereses', 'saldo': 1234.5, 'nota': 'Saldo actualizado por monto y agencias'}\n",
      "{'_id': ObjectId('636d414fdfb1bb4dd63996aa'), 'fecha': '1954-07-19 22:37:28', 'agencia': 'Santa Cruz', 'monto': 21.31, 'descripcion': 'Intereses', 'saldo': 1234.5, 'nota': 'Saldo actualizado por monto y agencias'}\n",
      "{'_id': ObjectId('636d3f2ddfb1bb4dd6cc8c76'), 'fecha': '1964-09-10 17:22:52', 'agencia': 'Santa Cruz', 'monto': 21.98, 'descripcion': 'Intereses', 'saldo': 1234.5, 'nota': 'Saldo actualizado por monto y agencias'}\n",
      "{'_id': ObjectId('636d41acdfb1bb4dd668729d'), 'fecha': '1978-04-10 08:04:13', 'agencia': 'La Paz', 'monto': 22.42, 'descripcion': 'Intereses', 'saldo': 1234.5, 'nota': 'Saldo actualizado por monto y agencias'}\n",
      "{'_id': ObjectId('636d4124dfb1bb4dd61e186b'), 'fecha': '2018-12-06 07:38:48', 'agencia': 'La Paz', 'monto': 24.31, 'descripcion': 'Intereses', 'saldo': 1234.5, 'nota': 'Saldo actualizado por monto y agencias'}\n",
      "{'_id': ObjectId('636d4014dfb1bb4dd66afa87'), 'fecha': '1977-10-21 13:32:46', 'agencia': 'Santa Cruz', 'monto': 28.9, 'descripcion': 'Intereses', 'saldo': 1234.5, 'nota': 'Saldo actualizado por monto y agencias'}\n"
     ]
    }
   ],
   "source": [
    "results = coll.find(\n",
    "    {\n",
    "    \"$and\":\n",
    "        [\n",
    "            {\n",
    "                \"monto\": {\"$lt\": monto}\n",
    "            },\n",
    "            {\n",
    "                \"descripcion\": descripcion\n",
    "            },\n",
    "            {\n",
    "                \"$or\":\n",
    "                    [\n",
    "                        {\n",
    "                            \"agencia\": agencia1\n",
    "                        },\n",
    "                        {\n",
    "                            \"agencia\": agencia2\n",
    "                        }  \n",
    "                    ]\n",
    "            }\n",
    "        ]\n",
    "    }\n",
    ")\n",
    "\n",
    "for result in results[:10]:\n",
    "    print(result)"
   ]
  },
  {
   "cell_type": "markdown",
   "metadata": {},
   "source": [
    "| Tabla resumen de resultados | Valor obtenido  |\n",
    "|-----------------------------|-----------------|\n",
    "| Tiempo actualización 1      | 1 min 15.6769 s |\n",
    "| Tiempo actualización 2      | 1 min 31.5435 s |\n",
    "| Tiempo actualización 3      | 31.9251 s       |"
   ]
  },
  {
   "cell_type": "markdown",
   "metadata": {},
   "source": [
    "----------------"
   ]
  },
  {
   "cell_type": "markdown",
   "metadata": {},
   "source": [
    "# Actualizaciones a la base de datos con 10 millones de registros y solo tres campos indexados (fecha, descripción, nota)"
   ]
  },
  {
   "cell_type": "markdown",
   "metadata": {},
   "source": [
    "En esta sección se revisará la operación de búsqueda para la colección de 10 millones de documentos ya indexados en tres campos: fecha, descripción, nota."
   ]
  },
  {
   "cell_type": "code",
   "execution_count": 6,
   "metadata": {},
   "outputs": [
    {
     "data": {
      "text/plain": [
       "{'_id_': {'v': 2, 'key': [('_id', 1)]},\n",
       " 'fecha_1': {'v': 2, 'key': [('fecha', 1)]},\n",
       " 'descripcion_1': {'v': 2, 'key': [('descripcion', 1)]},\n",
       " 'nota_text': {'v': 2,\n",
       "  'key': [('_fts', 'text'), ('_ftsx', 1)],\n",
       "  'weights': SON([('nota', 1)]),\n",
       "  'default_language': 'english',\n",
       "  'language_override': 'language',\n",
       "  'textIndexVersion': 3}}"
      ]
     },
     "execution_count": 6,
     "metadata": {},
     "output_type": "execute_result"
    }
   ],
   "source": [
    "coll = db[\"extracto_cuenta_10m_3idx\"]\n",
    "coll.index_information()"
   ]
  },
  {
   "cell_type": "markdown",
   "metadata": {},
   "source": [
    "## Actualización 1: Monto por fecha"
   ]
  },
  {
   "cell_type": "markdown",
   "metadata": {},
   "source": [
    "Se actualizarán los campos monto y nota, dependiendo de una fecha especificada"
   ]
  },
  {
   "cell_type": "code",
   "execution_count": 7,
   "metadata": {},
   "outputs": [
    {
     "name": "stdout",
     "output_type": "stream",
     "text": [
      "====================================================================================================\n",
      " Se han actualizado 1623 documentos\n",
      "====================================================================================================\n",
      " Actualización realizada en un tiempo de 0:07:44.294338\n",
      "====================================================================================================\n"
     ]
    }
   ],
   "source": [
    "start_date = \"2009-12-01\"\n",
    "end_date = \"2009-12-05\"\n",
    "monto_actualizar = 7890\n",
    "\n",
    "start_time = time.time()\n",
    "results = actualizacion_fecha_monto(start_date, end_date, monto_actualizar)\n",
    "end_time = time.time()\n",
    "\n",
    "print(\"=\"*100)\n",
    "print(f\" Se han actualizado {results.modified_count} documentos\")\n",
    "print(\"=\"*100)\n",
    "print(f\" Actualización realizada en un tiempo de {str(timedelta(seconds = (end_time - start_time)))}\")\n",
    "print(\"=\"*100)"
   ]
  },
  {
   "cell_type": "code",
   "execution_count": 8,
   "metadata": {},
   "outputs": [
    {
     "name": "stdout",
     "output_type": "stream",
     "text": [
      "{'_id': ObjectId('63740c90dfb1bb283709908b'), 'fecha': '2009-12-02 00:01:51', 'agencia': 'Tarija', 'monto': 7890, 'descripcion': 'Pago recibo de gas', 'saldo': 6098102.06, 'nota': 'Monto actualizado por fecha'}\n",
      "{'_id': ObjectId('63740c1bdfb1bb2837b96572'), 'fecha': '2009-12-02 00:02:07', 'agencia': 'Santa Cruz', 'monto': 7890, 'descripcion': 'Pago de nómina', 'saldo': 9166286.86, 'nota': 'Monto actualizado por fecha'}\n",
      "{'_id': ObjectId('63740c8ddfb1bb2837028677'), 'fecha': '2009-12-02 00:15:46', 'agencia': 'Pando', 'monto': 7890, 'descripcion': 'DEB.CTA.P/C.INTERNET', 'saldo': 1937050.57, 'nota': 'Monto actualizado por fecha'}\n",
      "{'_id': ObjectId('63740ccedfb1bb283731f4ba'), 'fecha': '2009-12-02 00:26:34', 'agencia': 'Santa Cruz', 'monto': 7890, 'descripcion': 'Pago en interés', 'saldo': 5757902.92, 'nota': 'Monto actualizado por fecha'}\n",
      "{'_id': ObjectId('63740c77dfb1bb2837f16f22'), 'fecha': '2009-12-02 00:26:44', 'agencia': 'Cochabamba', 'monto': 7890, 'descripcion': 'AB.CTA.P/MOVIL', 'saldo': 1660756.0, 'nota': 'Monto actualizado por fecha'}\n",
      "{'_id': ObjectId('63740c50dfb1bb2837db77af'), 'fecha': '2009-12-02 00:27:42', 'agencia': 'Cochabamba', 'monto': 7890, 'descripcion': 'AB.CTA.P/MOVIL', 'saldo': 9378282.62, 'nota': 'Monto actualizado por fecha'}\n",
      "{'_id': ObjectId('63740ccfdfb1bb283734149c'), 'fecha': '2009-12-02 00:33:41', 'agencia': 'Beni', 'monto': 7890, 'descripcion': 'Pago en interés', 'saldo': 8184349.93, 'nota': 'Monto actualizado por fecha'}\n",
      "{'_id': ObjectId('63740c34dfb1bb2837c21df4'), 'fecha': '2009-12-02 00:43:24', 'agencia': 'La Paz', 'monto': 7890, 'descripcion': 'Apertura de cuenta corriente', 'saldo': 9947858.78, 'nota': 'Monto actualizado por fecha'}\n",
      "{'_id': ObjectId('63740cbadfb1bb2837260e40'), 'fecha': '2009-12-02 00:46:57', 'agencia': 'Oruro', 'monto': 7890, 'descripcion': 'Aporte inversor', 'saldo': 2301041.34, 'nota': 'Monto actualizado por fecha'}\n",
      "{'_id': ObjectId('63740ca3dfb1bb2837162715'), 'fecha': '2009-12-02 00:49:42', 'agencia': 'Santa Cruz', 'monto': 7890, 'descripcion': 'Transferencia interbancaria SIMPLE', 'saldo': 3242305.87, 'nota': 'Monto actualizado por fecha'}\n"
     ]
    }
   ],
   "source": [
    "from_date_str = start_date + \"T00:00:00+00:00\"\n",
    "to_date_str = end_date + \"T23:59:59+00:00\"\n",
    "\n",
    "results = coll.find(\n",
    "    {\n",
    "        \"$and\":\n",
    "            [\n",
    "                {\n",
    "                    \"fecha\":\n",
    "                    {\n",
    "                        \"$gte\": from_date_str,\n",
    "                        \"$lte\": to_date_str\n",
    "                    }\n",
    "                }\n",
    "            ]\n",
    "        }\n",
    "    )\n",
    "\n",
    "for result in results[:10]:\n",
    "    print(result)"
   ]
  },
  {
   "cell_type": "markdown",
   "metadata": {},
   "source": [
    "## Actualización 2: Nota por descripción"
   ]
  },
  {
   "cell_type": "markdown",
   "metadata": {},
   "source": [
    "Se actualizarán los campos monto y nota, dependiendo de una descripción especificada."
   ]
  },
  {
   "cell_type": "code",
   "execution_count": 11,
   "metadata": {},
   "outputs": [
    {
     "name": "stdout",
     "output_type": "stream",
     "text": [
      "====================================================================================================\n",
      " Se han actualizado 271 documentos\n",
      "====================================================================================================\n",
      " Actualización realizada en un tiempo de 0:02:46.527624\n",
      "====================================================================================================\n"
     ]
    }
   ],
   "source": [
    "start_date = \"1980-01-14\"\n",
    "end_date = \"1980-01-25\"\n",
    "descripcion1 = 'Aporte inversor'\n",
    "descripcion2 = 'Apertura de caja de ahorros'\n",
    "monto = 10.50\n",
    "\n",
    "start_time = time.time()\n",
    "results = actualizacion_monto_descripcion_fecha(start_date, end_date, descripcion1, descripcion2, monto) \n",
    "end_time = time.time()\n",
    "\n",
    "print(\"=\"*100)\n",
    "print(f\" Se han actualizado {results.modified_count} documentos\")\n",
    "print(\"=\"*100)\n",
    "print(f\" Actualización realizada en un tiempo de {str(timedelta(seconds = (end_time - start_time)))}\")\n",
    "print(\"=\"*100)"
   ]
  },
  {
   "cell_type": "code",
   "execution_count": 12,
   "metadata": {},
   "outputs": [
    {
     "name": "stdout",
     "output_type": "stream",
     "text": [
      "{'_id': ObjectId('63740ce3dfb1bb2837416e0e'), 'fecha': '1980-01-15 00:24:34', 'agencia': 'Beni', 'monto': 10.5, 'descripcion': 'Aporte inversor', 'saldo': 5431030.18, 'nota': 'Monto actualizado por descripción'}\n",
      "{'_id': ObjectId('63740c66dfb1bb2837ea6cc2'), 'fecha': '1980-01-15 02:24:13', 'agencia': 'Beni', 'monto': 10.5, 'descripcion': 'Apertura de caja de ahorros', 'saldo': 1356620.84, 'nota': 'Monto actualizado por descripción'}\n",
      "{'_id': ObjectId('63740cd0dfb1bb2837376bfc'), 'fecha': '1980-01-15 02:24:49', 'agencia': 'Chuquisaca', 'monto': 10.5, 'descripcion': 'Apertura de caja de ahorros', 'saldo': 215898.78, 'nota': 'Monto actualizado por descripción'}\n",
      "{'_id': ObjectId('63740ce6dfb1bb283748ab97'), 'fecha': '1980-01-15 03:49:51', 'agencia': 'Tarija', 'monto': 10.5, 'descripcion': 'Aporte inversor', 'saldo': 1483142.98, 'nota': 'Monto actualizado por descripción'}\n",
      "{'_id': ObjectId('63740c35dfb1bb2837c555a1'), 'fecha': '1980-01-15 04:25:00', 'agencia': 'Cochabamba', 'monto': 10.5, 'descripcion': 'Aporte inversor', 'saldo': 7424079.14, 'nota': 'Monto actualizado por descripción'}\n",
      "{'_id': ObjectId('63740c79dfb1bb2837f5987c'), 'fecha': '1980-01-15 04:48:33', 'agencia': 'Cochabamba', 'monto': 10.5, 'descripcion': 'Apertura de caja de ahorros', 'saldo': 3014198.03, 'nota': 'Monto actualizado por descripción'}\n",
      "{'_id': ObjectId('63740c7bdfb1bb2837fbb9a4'), 'fecha': '1980-01-15 06:19:52', 'agencia': 'Cochabamba', 'monto': 10.5, 'descripcion': 'Apertura de caja de ahorros', 'saldo': 4469376.69, 'nota': 'Monto actualizado por descripción'}\n",
      "{'_id': ObjectId('63740c8fdfb1bb28370840dc'), 'fecha': '1980-01-15 06:59:58', 'agencia': 'Tarija', 'monto': 10.5, 'descripcion': 'Aporte inversor', 'saldo': 3393024.05, 'nota': 'Monto actualizado por descripción'}\n",
      "{'_id': ObjectId('63740c1cdfb1bb2837bb919a'), 'fecha': '1980-01-15 08:35:48', 'agencia': 'Chuquisaca', 'monto': 10.5, 'descripcion': 'Apertura de caja de ahorros', 'saldo': 2498030.61, 'nota': 'Monto actualizado por descripción'}\n",
      "{'_id': ObjectId('63740ccfdfb1bb283733fa26'), 'fecha': '1980-01-15 10:15:30', 'agencia': 'Oruro', 'monto': 10.5, 'descripcion': 'Apertura de caja de ahorros', 'saldo': 87613.87, 'nota': 'Monto actualizado por descripción'}\n"
     ]
    }
   ],
   "source": [
    "from_date_str = start_date + \"T00:00:00+00:00\"\n",
    "to_date_str = end_date + \"T23:59:59+00:00\"\n",
    "\n",
    "results = coll.find(\n",
    "    {\n",
    "        \"$and\":\n",
    "            [\n",
    "                {\n",
    "                    \"$or\":\n",
    "                    [\n",
    "                        {\n",
    "                            \"descripcion\": descripcion1\n",
    "                        },\n",
    "                        {\n",
    "                            \"descripcion\": descripcion2\n",
    "                        }\n",
    "                    ]\n",
    "                },\n",
    "                {\n",
    "                    \"fecha\":\n",
    "                    {\n",
    "                        \"$gte\": from_date_str,\n",
    "                        \"$lte\": to_date_str\n",
    "                    }\n",
    "                }\n",
    "            ]\n",
    "            \n",
    "    }\n",
    ")\n",
    "\n",
    "for result in results[:10]:\n",
    "    print(result)"
   ]
  },
  {
   "cell_type": "markdown",
   "metadata": {},
   "source": [
    "## Actualización 3: Saldo por agencias o monto"
   ]
  },
  {
   "cell_type": "markdown",
   "metadata": {},
   "source": [
    "Se actualizarán los campos monto y nota, dependiendo de una descripción especificada."
   ]
  },
  {
   "cell_type": "code",
   "execution_count": 13,
   "metadata": {},
   "outputs": [
    {
     "name": "stdout",
     "output_type": "stream",
     "text": [
      "====================================================================================================\n",
      " Se han actualizado 20 documentos\n",
      "====================================================================================================\n",
      " Actualización realizada en un tiempo de 0:03:18.235317\n",
      "====================================================================================================\n"
     ]
    }
   ],
   "source": [
    "agencia1 = \"Oruro\"\n",
    "agencia2 = \"Potosi\"\n",
    "descripcion = 'Intereses'\n",
    "saldo = 1234.5\n",
    "monto = 200\n",
    "\n",
    "start_time = time.time()\n",
    "results = actualizacion_saldo_monto_agencia(saldo, monto, agencia1, agencia2, descripcion)\n",
    "end_time = time.time()\n",
    "\n",
    "print(\"=\"*100)\n",
    "print(f\" Se han actualizado {results.modified_count} documentos\")\n",
    "print(\"=\"*100)\n",
    "print(f\" Actualización realizada en un tiempo de {str(timedelta(seconds = (end_time - start_time)))}\")\n",
    "print(\"=\"*100)"
   ]
  },
  {
   "cell_type": "code",
   "execution_count": 14,
   "metadata": {},
   "outputs": [
    {
     "name": "stdout",
     "output_type": "stream",
     "text": [
      "{'_id': ObjectId('63740c1bdfb1bb2837b98932'), 'fecha': '2017-11-01 13:08:13', 'agencia': 'Oruro', 'monto': 126.87, 'descripcion': 'Intereses', 'saldo': 1234.5, 'nota': 'Saldo actualizado por monto y agencias'}\n",
      "{'_id': ObjectId('63740c34dfb1bb2837c2d861'), 'fecha': '1955-09-03 15:58:54', 'agencia': 'Oruro', 'monto': 172.05, 'descripcion': 'Intereses', 'saldo': 1234.5, 'nota': 'Saldo actualizado por monto y agencias'}\n",
      "{'_id': ObjectId('63740c38dfb1bb2837ca0c6e'), 'fecha': '1969-04-27 15:44:04', 'agencia': 'Oruro', 'monto': 138.31, 'descripcion': 'Intereses', 'saldo': 1234.5, 'nota': 'Saldo actualizado por monto y agencias'}\n",
      "{'_id': ObjectId('63740c38dfb1bb2837cb6162'), 'fecha': '1954-09-28 14:45:39', 'agencia': 'Oruro', 'monto': 70.05, 'descripcion': 'Intereses', 'saldo': 1234.5, 'nota': 'Saldo actualizado por monto y agencias'}\n",
      "{'_id': ObjectId('63740c38dfb1bb2837cb7ae5'), 'fecha': '1984-08-01 05:16:38', 'agencia': 'Oruro', 'monto': 40.56, 'descripcion': 'Intereses', 'saldo': 1234.5, 'nota': 'Saldo actualizado por monto y agencias'}\n",
      "{'_id': ObjectId('63740c50dfb1bb2837dd1641'), 'fecha': '1985-10-17 16:45:37', 'agencia': 'Oruro', 'monto': 126.09, 'descripcion': 'Intereses', 'saldo': 1234.5, 'nota': 'Saldo actualizado por monto y agencias'}\n",
      "{'_id': ObjectId('63740c61dfb1bb2837df98b5'), 'fecha': '1960-04-20 02:26:59', 'agencia': 'Oruro', 'monto': 59.27, 'descripcion': 'Intereses', 'saldo': 1234.5, 'nota': 'Saldo actualizado por monto y agencias'}\n",
      "{'_id': ObjectId('63740c62dfb1bb2837e0146b'), 'fecha': '1962-10-13 23:37:30', 'agencia': 'Oruro', 'monto': 88.76, 'descripcion': 'Intereses', 'saldo': 1234.5, 'nota': 'Saldo actualizado por monto y agencias'}\n",
      "{'_id': ObjectId('63740c76dfb1bb2837eea997'), 'fecha': '2009-02-26 04:21:28', 'agencia': 'Oruro', 'monto': 46.05, 'descripcion': 'Intereses', 'saldo': 1234.5, 'nota': 'Saldo actualizado por monto y agencias'}\n",
      "{'_id': ObjectId('63740c8ddfb1bb2837020b2d'), 'fecha': '2020-11-05 00:17:43', 'agencia': 'Oruro', 'monto': 131.49, 'descripcion': 'Intereses', 'saldo': 1234.5, 'nota': 'Saldo actualizado por monto y agencias'}\n"
     ]
    }
   ],
   "source": [
    "results = coll.find(\n",
    "    {\n",
    "    \"$and\":\n",
    "        [\n",
    "            {\n",
    "                \"monto\": {\"$lt\": monto}\n",
    "            },\n",
    "            {\n",
    "                \"descripcion\": descripcion\n",
    "            },\n",
    "            {\n",
    "                \"$or\":\n",
    "                    [\n",
    "                        {\n",
    "                            \"agencia\": agencia1\n",
    "                        },\n",
    "                        {\n",
    "                            \"agencia\": agencia2\n",
    "                        }  \n",
    "                    ]\n",
    "            }\n",
    "        ]\n",
    "    }\n",
    ")\n",
    "\n",
    "for result in results[:10]:\n",
    "    print(result)"
   ]
  },
  {
   "cell_type": "markdown",
   "metadata": {},
   "source": [
    "| Tabla resumen de resultados | Valor obtenido   |\n",
    "|-----------------------------|------------------|\n",
    "| Tiempo actualización 1      | 7 min 44.2943 s  |\n",
    "| Tiempo actualización 2      | 2 min 46.5276 s  |\n",
    "| Tiempo actualización 3      | 3 min 18.2353 s  |"
   ]
  },
  {
   "cell_type": "markdown",
   "metadata": {},
   "source": [
    "---------------------"
   ]
  },
  {
   "cell_type": "markdown",
   "metadata": {},
   "source": [
    "# Actualizaciones a la base de datos con 30 millones de registros y solo tres campos indexados (fecha, descripción, nota)"
   ]
  },
  {
   "cell_type": "markdown",
   "metadata": {},
   "source": [
    "En esta sección se revisará la operación de búsqueda para la colección de 30 millones de documentos ya indexados en tres campos: fecha, descripción, nota."
   ]
  },
  {
   "cell_type": "code",
   "execution_count": 15,
   "metadata": {},
   "outputs": [
    {
     "data": {
      "text/plain": [
       "{'_id_': {'v': 2, 'key': [('_id', 1)]},\n",
       " 'fecha_1': {'v': 2, 'key': [('fecha', 1)]},\n",
       " 'descripcion_1': {'v': 2, 'key': [('descripcion', 1)]},\n",
       " 'nota_text': {'v': 2,\n",
       "  'key': [('_fts', 'text'), ('_ftsx', 1)],\n",
       "  'weights': SON([('nota', 1)]),\n",
       "  'default_language': 'english',\n",
       "  'language_override': 'language',\n",
       "  'textIndexVersion': 3}}"
      ]
     },
     "execution_count": 15,
     "metadata": {},
     "output_type": "execute_result"
    }
   ],
   "source": [
    "coll = db[\"extracto_cuenta_30m_3idx\"]\n",
    "coll.index_information()"
   ]
  },
  {
   "cell_type": "markdown",
   "metadata": {},
   "source": [
    "## Actualización 1: Monto por fecha"
   ]
  },
  {
   "cell_type": "markdown",
   "metadata": {},
   "source": [
    "Se actualizarán los campos monto y nota, dependiendo de una fecha especificada"
   ]
  },
  {
   "cell_type": "code",
   "execution_count": 16,
   "metadata": {},
   "outputs": [
    {
     "name": "stdout",
     "output_type": "stream",
     "text": [
      "====================================================================================================\n",
      " Se han actualizado 1131 documentos\n",
      "====================================================================================================\n",
      " Actualización realizada en un tiempo de 0:06:06.351776\n",
      "====================================================================================================\n"
     ]
    }
   ],
   "source": [
    "start_date = \"2008-12-01\"\n",
    "end_date = \"2008-12-02\"\n",
    "monto_actualizar = 7890\n",
    "\n",
    "start_time = time.time()\n",
    "results = actualizacion_fecha_monto(start_date, end_date, monto_actualizar)\n",
    "end_time = time.time()\n",
    "\n",
    "print(\"=\"*100)\n",
    "print(f\" Se han actualizado {results.modified_count} documentos\")\n",
    "print(\"=\"*100)\n",
    "print(f\" Actualización realizada en un tiempo de {str(timedelta(seconds = (end_time - start_time)))}\")\n",
    "print(\"=\"*100)"
   ]
  },
  {
   "cell_type": "code",
   "execution_count": 17,
   "metadata": {},
   "outputs": [
    {
     "name": "stdout",
     "output_type": "stream",
     "text": [
      "{'_id': ObjectId('63740fc2dfb1bb38874963f0'), 'fecha': '2008-12-02 00:01:46', 'agencia': 'Cochabamba', 'monto': 7890, 'descripcion': 'Reintegro cajero automático', 'saldo': 7070822.19, 'nota': 'Monto actualizado por fecha'}\n",
      "{'_id': ObjectId('637410cfdfb1bb38870e655a'), 'fecha': '2008-12-02 00:02:09', 'agencia': 'La Paz', 'monto': 7890, 'descripcion': 'Transferencia de fondos de ahorros', 'saldo': 7788483.75, 'nota': 'Monto actualizado por fecha'}\n",
      "{'_id': ObjectId('637410b6dfb1bb3887fa31a2'), 'fecha': '2008-12-02 00:02:34', 'agencia': 'Chuquisaca', 'monto': 7890, 'descripcion': 'Intereses', 'saldo': 7757672.48, 'nota': 'Monto actualizado por fecha'}\n",
      "{'_id': ObjectId('63741002dfb1bb388771e95f'), 'fecha': '2008-12-02 00:05:23', 'agencia': 'Oruro', 'monto': 7890, 'descripcion': 'Apertura de caja de ahorros', 'saldo': 3623915.14, 'nota': 'Monto actualizado por fecha'}\n",
      "{'_id': ObjectId('637410f2dfb1bb38872a5d24'), 'fecha': '2008-12-02 00:05:52', 'agencia': 'Santa Cruz', 'monto': 7890, 'descripcion': 'Transferencia de fondos de ahorros', 'saldo': 7461892.78, 'nota': 'Monto actualizado por fecha'}\n",
      "{'_id': ObjectId('63740f95dfb1bb38872d503d'), 'fecha': '2008-12-02 00:06:07', 'agencia': 'Beni', 'monto': 7890, 'descripcion': 'Compra en comercio', 'saldo': 2667051.5, 'nota': 'Monto actualizado por fecha'}\n",
      "{'_id': ObjectId('63741077dfb1bb3887cddce3'), 'fecha': '2008-12-02 00:06:54', 'agencia': 'Oruro', 'monto': 7890, 'descripcion': 'Pago de servicio telefónico', 'saldo': 2295464.63, 'nota': 'Monto actualizado por fecha'}\n",
      "{'_id': ObjectId('637410b7dfb1bb3887fc6034'), 'fecha': '2008-12-02 00:11:15', 'agencia': 'Oruro', 'monto': 7890, 'descripcion': 'Pago en interés', 'saldo': 2262230.28, 'nota': 'Monto actualizado por fecha'}\n",
      "{'_id': ObjectId('63740f40dfb1bb3887f13469'), 'fecha': '2008-12-02 00:11:20', 'agencia': 'Santa Cruz', 'monto': 7890, 'descripcion': 'Pago recibo de luz', 'saldo': 2670425.33, 'nota': 'Monto actualizado por fecha'}\n",
      "{'_id': ObjectId('63740fefdfb1bb38876f3168'), 'fecha': '2008-12-02 00:12:49', 'agencia': 'Chuquisaca', 'monto': 7890, 'descripcion': 'Apertura de caja de ahorros', 'saldo': 5868650.78, 'nota': 'Monto actualizado por fecha'}\n"
     ]
    }
   ],
   "source": [
    "from_date_str = start_date + \"T00:00:00+00:00\"\n",
    "to_date_str = end_date + \"T23:59:59+00:00\"\n",
    "\n",
    "results = coll.find(\n",
    "    {\n",
    "        \"$and\":\n",
    "            [\n",
    "                {\n",
    "                    \"fecha\":\n",
    "                    {\n",
    "                        \"$gte\": from_date_str,\n",
    "                        \"$lte\": to_date_str\n",
    "                    }\n",
    "                }\n",
    "            ]\n",
    "        }\n",
    "    )\n",
    "\n",
    "for result in results[:10]:\n",
    "    print(result)"
   ]
  },
  {
   "cell_type": "markdown",
   "metadata": {},
   "source": [
    "## Actualización 2: Nota por descripción"
   ]
  },
  {
   "cell_type": "markdown",
   "metadata": {},
   "source": [
    "Se actualizarán los campos monto y nota, dependiendo de una descripción especificada."
   ]
  },
  {
   "cell_type": "code",
   "execution_count": 19,
   "metadata": {},
   "outputs": [
    {
     "name": "stdout",
     "output_type": "stream",
     "text": [
      "====================================================================================================\n",
      " Se han actualizado 807 documentos\n",
      "====================================================================================================\n",
      " Actualización realizada en un tiempo de 0:08:30.047104\n",
      "====================================================================================================\n"
     ]
    }
   ],
   "source": [
    "start_date = \"1980-01-14\"\n",
    "end_date = \"1980-01-25\"\n",
    "descripcion1 = 'Aporte inversor'\n",
    "descripcion2 = 'Apertura de caja de ahorros'\n",
    "monto = 10.50\n",
    "\n",
    "start_time = time.time()\n",
    "results = actualizacion_monto_descripcion_fecha(start_date, end_date, descripcion1, descripcion2, monto)\n",
    "end_time = time.time()\n",
    "\n",
    "print(\"=\"*100)\n",
    "print(f\" Se han actualizado {results.modified_count} documentos\")\n",
    "print(\"=\"*100)\n",
    "print(f\" Actualización realizada en un tiempo de {str(timedelta(seconds = (end_time - start_time)))}\")\n",
    "print(\"=\"*100)"
   ]
  },
  {
   "cell_type": "code",
   "execution_count": 20,
   "metadata": {},
   "outputs": [
    {
     "name": "stdout",
     "output_type": "stream",
     "text": [
      "{'_id': ObjectId('6374111cdfb1bb3887527eac'), 'fecha': '1980-01-15 00:03:48', 'agencia': 'Santa Cruz', 'monto': 10.5, 'descripcion': 'Aporte inversor', 'saldo': 1191798.41, 'nota': 'Monto actualizado por descripción'}\n",
      "{'_id': ObjectId('637410f7dfb1bb38873696fe'), 'fecha': '1980-01-15 00:16:58', 'agencia': 'Tarija', 'monto': 10.5, 'descripcion': 'Apertura de caja de ahorros', 'saldo': 4173801.78, 'nota': 'Monto actualizado por descripción'}\n",
      "{'_id': ObjectId('63740fc2dfb1bb38874aa3df'), 'fecha': '1980-01-15 00:24:34', 'agencia': 'Beni', 'monto': 10.5, 'descripcion': 'Aporte inversor', 'saldo': 5431030.18, 'nota': 'Monto actualizado por descripción'}\n",
      "{'_id': ObjectId('63741005dfb1bb3887792787'), 'fecha': '1980-01-15 01:06:53', 'agencia': 'Chuquisaca', 'monto': 10.5, 'descripcion': 'Aporte inversor', 'saldo': 8847975.29, 'nota': 'Monto actualizado por descripción'}\n",
      "{'_id': ObjectId('63741092dfb1bb3887e52e56'), 'fecha': '1980-01-15 01:16:24', 'agencia': 'Cochabamba', 'monto': 10.5, 'descripcion': 'Apertura de caja de ahorros', 'saldo': 5250561.79, 'nota': 'Monto actualizado por descripción'}\n",
      "{'_id': ObjectId('63741077dfb1bb3887cd16b0'), 'fecha': '1980-01-15 02:04:28', 'agencia': 'Cochabamba', 'monto': 10.5, 'descripcion': 'Apertura de caja de ahorros', 'saldo': 3958981.38, 'nota': 'Monto actualizado por descripción'}\n",
      "{'_id': ObjectId('63740f41dfb1bb3887f3a293'), 'fecha': '1980-01-15 02:24:13', 'agencia': 'Beni', 'monto': 10.5, 'descripcion': 'Apertura de caja de ahorros', 'saldo': 1356620.84, 'nota': 'Monto actualizado por descripción'}\n",
      "{'_id': ObjectId('63740faadfb1bb388740a1cd'), 'fecha': '1980-01-15 02:24:49', 'agencia': 'Chuquisaca', 'monto': 10.5, 'descripcion': 'Apertura de caja de ahorros', 'saldo': 215898.78, 'nota': 'Monto actualizado por descripción'}\n",
      "{'_id': ObjectId('6374112ddfb1bb38875c0c6b'), 'fecha': '1980-01-15 02:34:20', 'agencia': 'Pando', 'monto': 10.5, 'descripcion': 'Apertura de caja de ahorros', 'saldo': 3108510.3, 'nota': 'Monto actualizado por descripción'}\n",
      "{'_id': ObjectId('6374102cdfb1bb388799cc18'), 'fecha': '1980-01-15 03:40:32', 'agencia': 'La Paz', 'monto': 10.5, 'descripcion': 'Aporte inversor', 'saldo': 8697349.09, 'nota': 'Monto actualizado por descripción'}\n"
     ]
    }
   ],
   "source": [
    "from_date_str = start_date + \"T00:00:00+00:00\"\n",
    "to_date_str = end_date + \"T23:59:59+00:00\"\n",
    "\n",
    "results = coll.find(\n",
    "    {\n",
    "        \"$and\":\n",
    "            [\n",
    "                {\n",
    "                    \"$or\":\n",
    "                    [\n",
    "                        {\n",
    "                            \"descripcion\": descripcion1\n",
    "                        },\n",
    "                        {\n",
    "                            \"descripcion\": descripcion2\n",
    "                        }\n",
    "                    ]\n",
    "                },\n",
    "                {\n",
    "                    \"fecha\":\n",
    "                    {\n",
    "                        \"$gte\": from_date_str,\n",
    "                        \"$lte\": to_date_str\n",
    "                    }\n",
    "                }\n",
    "            ]\n",
    "            \n",
    "    }\n",
    ")\n",
    "\n",
    "for result in results[:10]:\n",
    "    print(result)"
   ]
  },
  {
   "cell_type": "markdown",
   "metadata": {},
   "source": [
    "## Actualización 3: Saldo por agencias o monto"
   ]
  },
  {
   "cell_type": "markdown",
   "metadata": {},
   "source": [
    "Se actualizarán los campos monto y nota, dependiendo de una descripción especificada."
   ]
  },
  {
   "cell_type": "code",
   "execution_count": 22,
   "metadata": {},
   "outputs": [
    {
     "name": "stdout",
     "output_type": "stream",
     "text": [
      "====================================================================================================\n",
      " Se han actualizado 137 documentos\n",
      "====================================================================================================\n",
      " Actualización realizada en un tiempo de 0:13:40.891371\n",
      "====================================================================================================\n"
     ]
    }
   ],
   "source": [
    "agencia1 = \"La Paz\"\n",
    "agencia2 = \"Santa Cruz\"\n",
    "descripcion = 'Intereses'\n",
    "saldo = 1234.5\n",
    "monto = 200\n",
    "\n",
    "start_time = time.time()\n",
    "results = actualizacion_saldo_monto_agencia(saldo, monto, agencia1, agencia2, descripcion)\n",
    "end_time = time.time()\n",
    "\n",
    "print(\"=\"*100)\n",
    "print(f\" Se han actualizado {results.modified_count} documentos\")\n",
    "print(\"=\"*100)\n",
    "print(f\" Actualización realizada en un tiempo de {str(timedelta(seconds = (end_time - start_time)))}\")\n",
    "print(\"=\"*100)"
   ]
  },
  {
   "cell_type": "code",
   "execution_count": 23,
   "metadata": {},
   "outputs": [
    {
     "name": "stdout",
     "output_type": "stream",
     "text": [
      "{'_id': ObjectId('63740eeedfb1bb3887bee07f'), 'fecha': '1955-01-30 00:27:19', 'agencia': 'Santa Cruz', 'monto': 155.16, 'descripcion': 'Intereses', 'saldo': 1234.5, 'nota': 'Saldo actualizado por monto y agencias'}\n",
      "{'_id': ObjectId('63740eeedfb1bb3887c074a0'), 'fecha': '2019-01-07 04:12:30', 'agencia': 'Santa Cruz', 'monto': 115.47, 'descripcion': 'Intereses', 'saldo': 1234.5, 'nota': 'Saldo actualizado por monto y agencias'}\n",
      "{'_id': ObjectId('63740ef0dfb1bb3887c3da66'), 'fecha': '2011-07-25 02:59:35', 'agencia': 'La Paz', 'monto': 154.42, 'descripcion': 'Intereses', 'saldo': 1234.5, 'nota': 'Saldo actualizado por monto y agencias'}\n",
      "{'_id': ObjectId('63740ef0dfb1bb3887c43be2'), 'fecha': '1989-05-31 12:37:13', 'agencia': 'La Paz', 'monto': 60.51, 'descripcion': 'Intereses', 'saldo': 1234.5, 'nota': 'Saldo actualizado por monto y agencias'}\n",
      "{'_id': ObjectId('63740ef1dfb1bb3887c70dad'), 'fecha': '1977-11-10 05:02:53', 'agencia': 'La Paz', 'monto': 74.07, 'descripcion': 'Intereses', 'saldo': 1234.5, 'nota': 'Saldo actualizado por monto y agencias'}\n",
      "{'_id': ObjectId('63740ef1dfb1bb3887c785a0'), 'fecha': '1989-03-02 06:20:10', 'agencia': 'La Paz', 'monto': 111.78, 'descripcion': 'Intereses', 'saldo': 1234.5, 'nota': 'Saldo actualizado por monto y agencias'}\n",
      "{'_id': ObjectId('63740f06dfb1bb3887cc44dd'), 'fecha': '1964-09-10 17:22:52', 'agencia': 'Santa Cruz', 'monto': 21.98, 'descripcion': 'Intereses', 'saldo': 1234.5, 'nota': 'Saldo actualizado por monto y agencias'}\n",
      "{'_id': ObjectId('63740f0adfb1bb3887d3251e'), 'fecha': '1987-03-11 23:35:50', 'agencia': 'La Paz', 'monto': 150.97, 'descripcion': 'Intereses', 'saldo': 1234.5, 'nota': 'Saldo actualizado por monto y agencias'}\n",
      "{'_id': ObjectId('63740f0adfb1bb3887d4a4d5'), 'fecha': '1983-04-07 20:59:53', 'agencia': 'Santa Cruz', 'monto': 183.06, 'descripcion': 'Intereses', 'saldo': 1234.5, 'nota': 'Saldo actualizado por monto y agencias'}\n",
      "{'_id': ObjectId('63740f0adfb1bb3887d4a70f'), 'fecha': '2018-04-01 20:25:14', 'agencia': 'La Paz', 'monto': 16.2, 'descripcion': 'Intereses', 'saldo': 1234.5, 'nota': 'Saldo actualizado por monto y agencias'}\n"
     ]
    }
   ],
   "source": [
    "results = coll.find(\n",
    "    {\n",
    "    \"$and\":\n",
    "        [\n",
    "            {\n",
    "                \"monto\": {\"$lt\": monto}\n",
    "            },\n",
    "            {\n",
    "                \"descripcion\": descripcion\n",
    "            },\n",
    "            {\n",
    "                \"$or\":\n",
    "                    [\n",
    "                        {\n",
    "                            \"agencia\": agencia1\n",
    "                        },\n",
    "                        {\n",
    "                            \"agencia\": agencia2\n",
    "                        }  \n",
    "                    ]\n",
    "            }\n",
    "        ]\n",
    "    }\n",
    ")\n",
    "\n",
    "for result in results[:10]:\n",
    "    print(result)"
   ]
  },
  {
   "cell_type": "markdown",
   "metadata": {},
   "source": [
    "| Tabla resumen de resultados | Valor obtenido  |\n",
    "|-----------------------------|-----------------|\n",
    "| Tiempo actualización 1      | 6 min 6.3517 s  |\n",
    "| Tiempo actualización 2      | 8 min 30.0471 s |\n",
    "| Tiempo actualización 3      | 13 min 40.8913 s |"
   ]
  }
 ],
 "metadata": {
  "kernelspec": {
   "display_name": "Python 3.9.12 ('base')",
   "language": "python",
   "name": "python3"
  },
  "language_info": {
   "codemirror_mode": {
    "name": "ipython",
    "version": 3
   },
   "file_extension": ".py",
   "mimetype": "text/x-python",
   "name": "python",
   "nbconvert_exporter": "python",
   "pygments_lexer": "ipython3",
   "version": "3.9.12"
  },
  "orig_nbformat": 4,
  "vscode": {
   "interpreter": {
    "hash": "d7e5a1f785ed82844e2da5d30522181462e1597dbd1807cbc4c5c0cc1d5a2e0b"
   }
  }
 },
 "nbformat": 4,
 "nbformat_minor": 2
}

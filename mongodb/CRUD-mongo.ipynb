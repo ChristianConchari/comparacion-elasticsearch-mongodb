{
 "cells": [
  {
   "cell_type": "markdown",
   "metadata": {},
   "source": [
    "# Cargamos librerias y conectamos la base de datos"
   ]
  },
  {
   "cell_type": "code",
   "execution_count": 63,
   "metadata": {},
   "outputs": [],
   "source": [
    "from pymongo import MongoClient\n",
    "import time, json, random\n",
    "from random import randrange\n",
    "from datetime import timedelta, datetime\n",
    "from random import randint\n",
    "from lorem_text import lorem\n",
    "from flask import jsonify\n",
    "\n",
    "client = MongoClient('localhost', 27017)"
   ]
  },
  {
   "cell_type": "code",
   "execution_count": 64,
   "metadata": {},
   "outputs": [],
   "source": [
    "db = client[\"test_mongo\"]"
   ]
  },
  {
   "cell_type": "markdown",
   "metadata": {},
   "source": [
    "# Generación de datos aleatorios"
   ]
  },
  {
   "cell_type": "code",
   "execution_count": 4,
   "metadata": {},
   "outputs": [],
   "source": [
    "def random_date(start, end):\n",
    "    delta = end - start\n",
    "    int_delta = (delta.days * 24 * 60 * 60) + delta.seconds\n",
    "    random_second = randrange(int_delta)\n",
    "    return start + timedelta(seconds=random_second)"
   ]
  },
  {
   "cell_type": "code",
   "execution_count": 5,
   "metadata": {},
   "outputs": [
    {
     "name": "stdout",
     "output_type": "stream",
     "text": [
      "2021-11-15 08:11:06\n"
     ]
    }
   ],
   "source": [
    "\n",
    "d1 = datetime.strptime('1/1/1950 12:59 PM', '%m/%d/%Y %I:%M %p')\n",
    "d2 = datetime.strptime('1/1/2022 01:00 AM', '%m/%d/%Y %I:%M %p')\n",
    "print(random_date(d1, d2))  "
   ]
  },
  {
   "cell_type": "code",
   "execution_count": 6,
   "metadata": {},
   "outputs": [],
   "source": [
    "descripciones = [\n",
    "    'Transferencia interbancaria SIMPLE',\n",
    "    'DEB.CTA.P/C.INTERNET',\n",
    "    'Debito Cta por ACH',\n",
    "    'Retiro en efectivo',\n",
    "    'AB.CTA.P/MOVIL',\n",
    "    'Pago en interés',\n",
    "    'Debito Cta por compra',\n",
    "    'Debito Cta por pago de Seguro',\n",
    "    'Retención IVA'\n",
    "]"
   ]
  },
  {
   "cell_type": "markdown",
   "metadata": {},
   "source": [
    "# Creación de índices"
   ]
  },
  {
   "cell_type": "code",
   "execution_count": 7,
   "metadata": {},
   "outputs": [
    {
     "data": {
      "text/plain": [
       "'saldo_1'"
      ]
     },
     "execution_count": 7,
     "metadata": {},
     "output_type": "execute_result"
    }
   ],
   "source": [
    "db.extracto_cuenta.create_index('fecha')\n",
    "db.extracto_cuenta.create_index('agencia')\n",
    "db.extracto_cuenta.create_index('monto')\n",
    "db.extracto_cuenta.create_index('saldo')"
   ]
  },
  {
   "cell_type": "code",
   "execution_count": 8,
   "metadata": {},
   "outputs": [
    {
     "data": {
      "text/plain": [
       "{'_id_': {'v': 2, 'key': [('_id', 1)]},\n",
       " 'fecha_1': {'v': 2, 'key': [('fecha', 1)]},\n",
       " 'agencia_1': {'v': 2, 'key': [('agencia', 1)]},\n",
       " 'monto_1': {'v': 2, 'key': [('monto', 1)]},\n",
       " 'saldo_1': {'v': 2, 'key': [('saldo', 1)]}}"
      ]
     },
     "execution_count": 8,
     "metadata": {},
     "output_type": "execute_result"
    }
   ],
   "source": [
    "db.extracto_cuenta.index_information()"
   ]
  },
  {
   "cell_type": "markdown",
   "metadata": {},
   "source": [
    "# Aproximadamente 100 000 registros"
   ]
  },
  {
   "cell_type": "markdown",
   "metadata": {},
   "source": [
    "## Carga de datos"
   ]
  },
  {
   "cell_type": "markdown",
   "metadata": {},
   "source": [
    "### De forma individual"
   ]
  },
  {
   "cell_type": "code",
   "execution_count": 14,
   "metadata": {},
   "outputs": [
    {
     "name": "stdout",
     "output_type": "stream",
     "text": [
      "Tiempo de carga de datos: 0:01:06.528760\n"
     ]
    }
   ],
   "source": [
    "start_time = time.time()\n",
    "\n",
    "for i in range(50000):\n",
    "    fecha = random_date(d1, d2)\n",
    "    agencia = random.choice(['La Paz', 'Oruro', 'Cochabamba', 'Chuquisaca', 'Pando', 'Beni', 'Santa Cruz', 'Tarija'])\n",
    "    monto = round(random.uniform(10.0, 4000.0), 2)\n",
    "    descripcion = random.choice(descripciones)\n",
    "    saldo = round(random.uniform(0.0, 10000000.0), 2)\n",
    "    nota = lorem.words(randint(1,13))\n",
    "\n",
    "    insert_data = {\n",
    "        'fecha': fecha,\n",
    "        'agencia': agencia,\n",
    "        'monto': monto,\n",
    "        'descripcion': descripcion,\n",
    "        'saldo': saldo,\n",
    "        'nota': nota\n",
    "    }\n",
    "    \n",
    "    db.extracto_cuenta.insert_one(insert_data)\n",
    "\n",
    "\n",
    "end_time = time.time()\n",
    "\n",
    "# Mostramos los resultados en consola\n",
    "print(f'Tiempo de carga de datos: {str(timedelta(seconds = (end_time - start_time)))}')"
   ]
  },
  {
   "cell_type": "markdown",
   "metadata": {},
   "source": [
    "### De forma masiva"
   ]
  },
  {
   "cell_type": "code",
   "execution_count": 16,
   "metadata": {},
   "outputs": [
    {
     "name": "stdout",
     "output_type": "stream",
     "text": [
      "Tiempo de carga de datos: 0:00:03.057983\n"
     ]
    }
   ],
   "source": [
    "insert_data_list = []\n",
    "\n",
    "for i in range(50000):\n",
    "    fecha = random_date(d1, d2)\n",
    "    agencia = random.choice(['La Paz', 'Oruro', 'Cochabamba', 'Chuquisaca', 'Pando', 'Beni', 'Santa Cruz', 'Tarija'])\n",
    "    monto = round(random.uniform(10.0, 4000.0), 2)\n",
    "    descripcion = random.choice(descripciones)\n",
    "    saldo = round(random.uniform(0.0, 10000000.0), 2)\n",
    "    nota = lorem.words(randint(1,13))\n",
    "\n",
    "    insert_data = {\n",
    "        'fecha': fecha,\n",
    "        'agencia': agencia,\n",
    "        'monto': monto,\n",
    "        'descripcion': descripcion,\n",
    "        'saldo': saldo,\n",
    "        'nota': nota\n",
    "    }\n",
    "\n",
    "    insert_data_list.append(insert_data)\n",
    "start_time = time.time()\n",
    "db.extracto_cuenta.insert_many(insert_data_list)\n",
    "end_time = time.time()\n",
    "\n",
    "# Mostramos los resultados en consola\n",
    "print(f'Tiempo de carga de datos: {str(timedelta(seconds = (end_time - start_time)))}')"
   ]
  },
  {
   "cell_type": "code",
   "execution_count": 47,
   "metadata": {},
   "outputs": [
    {
     "name": "stdout",
     "output_type": "stream",
     "text": [
      "Tiempo de carga de datos: 0:00:08.671126\n"
     ]
    }
   ],
   "source": [
    "insert_data_list = []\n",
    "\n",
    "for i in range():\n",
    "    fecha = random_date(d1, d2)\n",
    "    agencia = random.choice(['La Paz', 'Oruro', 'Cochabamba', 'Chuquisaca', 'Pando', 'Beni', 'Santa Cruz', 'Tarija'])\n",
    "    monto = round(random.uniform(10.0, 4000.0), 2)\n",
    "    descripcion = random.choice(descripciones)\n",
    "    saldo = round(random.uniform(0.0, 10000000.0), 2)\n",
    "    nota = lorem.words(randint(1,13))\n",
    "\n",
    "    insert_data = {\n",
    "        'fecha': fecha,\n",
    "        'agencia': agencia,\n",
    "        'monto': monto,\n",
    "        'descripcion': descripcion,\n",
    "        'saldo': saldo,\n",
    "        'nota': nota\n",
    "    }\n",
    "\n",
    "    insert_data_list.append(insert_data)\n",
    "start_time = time.time()\n",
    "db.extracto_cuenta.insert_many(insert_data_list)\n",
    "end_time = time.time()\n",
    "\n",
    "# Mostramos los resultados en consola\n",
    "print(f'Tiempo de carga de datos: {str(timedelta(seconds = (end_time - start_time)))}')"
   ]
  },
  {
   "cell_type": "markdown",
   "metadata": {},
   "source": [
    "### Un solo dato"
   ]
  },
  {
   "cell_type": "code",
   "execution_count": 17,
   "metadata": {},
   "outputs": [
    {
     "name": "stdout",
     "output_type": "stream",
     "text": [
      "Tiempo de carga de datos: 0:00:00.006199\n"
     ]
    }
   ],
   "source": [
    "start_time = time.time()\n",
    "\n",
    "fecha = random_date(d1, d2)\n",
    "agencia = random.choice(['La Paz', 'Oruro', 'Cochabamba', 'Chuquisaca', 'Pando', 'Beni', 'Santa Cruz', 'Tarija'])\n",
    "monto = round(random.uniform(10.0, 4000.0), 2)\n",
    "descripcion = random.choice(descripciones)\n",
    "saldo = round(random.uniform(0.0, 10000000.0), 2)\n",
    "nota = lorem.words(randint(1,13))\n",
    "\n",
    "insert_data = {\n",
    "    'fecha': fecha,\n",
    "    'agencia': agencia,\n",
    "    'monto': monto,\n",
    "    'descripcion': descripcion,\n",
    "    'saldo': saldo,\n",
    "    'nota': nota\n",
    "}\n",
    "\n",
    "db.extracto_cuenta.insert_one(insert_data)\n",
    "\n",
    "\n",
    "end_time = time.time()\n",
    "\n",
    "# Mostramos los resultados en consola\n",
    "print(f'Tiempo de carga de datos: {str(timedelta(seconds = (end_time - start_time)))}')"
   ]
  },
  {
   "cell_type": "code",
   "execution_count": 18,
   "metadata": {},
   "outputs": [
    {
     "data": {
      "text/plain": [
       "100001"
      ]
     },
     "execution_count": 18,
     "metadata": {},
     "output_type": "execute_result"
    }
   ],
   "source": [
    "db.extracto_cuenta.count_documents({})"
   ]
  },
  {
   "cell_type": "markdown",
   "metadata": {},
   "source": [
    "## Consultas a la base de datos"
   ]
  },
  {
   "cell_type": "markdown",
   "metadata": {},
   "source": [
    "### Búsqueda por fecha y agencia"
   ]
  },
  {
   "cell_type": "code",
   "execution_count": 19,
   "metadata": {},
   "outputs": [],
   "source": [
    "def busqueda_fecha_agencia(month, year, agencia):\n",
    "    from_date_str = f\"{year}-{month}-01\" + \"T00:00:00+00:00\"\n",
    "    to_date_str = f\"{year}-{month}-30\" + \"T23:59:59+00:00\"\n",
    "    from_date = datetime.strptime(from_date_str, '%Y-%m-%dT%H:%M:%S%z')\n",
    "    to_date = datetime.strptime(to_date_str, '%Y-%m-%dT%H:%M:%S%z')\n",
    "    criteria = {\"$and\": [{\"fecha\": {\"$gte\": from_date, \"$lte\": to_date}}, {\"agencia\": f\"{agencia}\"}]}\n",
    "\n",
    "    return db.extracto_cuenta.find(criteria)"
   ]
  },
  {
   "cell_type": "code",
   "execution_count": 30,
   "metadata": {},
   "outputs": [
    {
     "name": "stdout",
     "output_type": "stream",
     "text": [
      "{'_id': ObjectId('63635237dfb1bb15465c92b4'), 'fecha': datetime.datetime(2021, 5, 3, 19, 55, 41), 'agencia': 'La Paz', 'monto': 1842.29, 'descripcion': 'Debito Cta por compra', 'saldo': 8519692.88, 'nota': 'nesciunt totam deserunt maxime aspernatur excepturi voluptas ducimus soluta'}\n",
      "{'_id': ObjectId('636351c0dfb1bb15465b434a'), 'fecha': datetime.datetime(2021, 5, 3, 23, 17, 22), 'agencia': 'La Paz', 'monto': 1292.5, 'descripcion': 'DEB.CTA.P/C.INTERNET', 'saldo': 8367632.87, 'nota': 'magnam amet harum nisi similique voluptatibus quidem enim alias fugiat'}\n",
      "{'_id': ObjectId('636351dadfb1bb15465b8b41'), 'fecha': datetime.datetime(2021, 5, 4, 5, 58, 22), 'agencia': 'La Paz', 'monto': 1304.89, 'descripcion': 'Transferencia interbancaria SIMPLE', 'saldo': 4303362.51, 'nota': 'nostrum'}\n",
      "{'_id': ObjectId('636351ccdfb1bb15465b63e5'), 'fecha': datetime.datetime(2021, 5, 4, 17, 51, 20), 'agencia': 'La Paz', 'monto': 668.93, 'descripcion': 'Debito Cta por compra', 'saldo': 7382384.59, 'nota': 'beatae ipsum vitae ab repellendus mollitia dolore quos totam nostrum adipisci sint'}\n",
      "{'_id': ObjectId('636351d2dfb1bb15465b77a3'), 'fecha': datetime.datetime(2021, 5, 6, 5, 11, 1), 'agencia': 'La Paz', 'monto': 3828.81, 'descripcion': 'AB.CTA.P/MOVIL', 'saldo': 3797345.2, 'nota': 'animi similique fugiat soluta illum possimus doloribus deleniti'}\n",
      "{'_id': ObjectId('63635237dfb1bb15465c12f1'), 'fecha': datetime.datetime(2021, 5, 7, 16, 14, 58), 'agencia': 'La Paz', 'monto': 363.56, 'descripcion': 'Retención IVA', 'saldo': 1416108.27, 'nota': 'laborum voluptates sunt provident commodi'}\n",
      "{'_id': ObjectId('63635237dfb1bb15465c175e'), 'fecha': datetime.datetime(2021, 5, 10, 4, 6, 53), 'agencia': 'La Paz', 'monto': 974.84, 'descripcion': 'Retención IVA', 'saldo': 6270289.06, 'nota': 'dignissimos architecto suscipit'}\n",
      "{'_id': ObjectId('636351d5dfb1bb15465b7ee6'), 'fecha': datetime.datetime(2021, 5, 10, 20, 46, 15), 'agencia': 'La Paz', 'monto': 386.12, 'descripcion': 'Debito Cta por compra', 'saldo': 8042773.98, 'nota': 'dignissimos sed'}\n",
      "{'_id': ObjectId('636351d8dfb1bb15465b8542'), 'fecha': datetime.datetime(2021, 5, 15, 14, 0, 50), 'agencia': 'La Paz', 'monto': 1512.13, 'descripcion': 'Debito Cta por pago de Seguro', 'saldo': 1309901.89, 'nota': 'molestiae rerum nemo at cum rem minus quibusdam'}\n",
      "{'_id': ObjectId('636351dbdfb1bb15465b8f65'), 'fecha': datetime.datetime(2021, 5, 15, 15, 32, 9), 'agencia': 'La Paz', 'monto': 2500.92, 'descripcion': 'Pago en interés', 'saldo': 4602642.47, 'nota': 'assumenda maiores sapiente laboriosam dolorem quam vitae nulla cupiditate doloremque vel necessitatibus'}\n",
      "============================================================================================================================================================================================================================================================================================================\n",
      "En un tiempo de 0:00:00.000499\n",
      "Se han encontrado 17 documentos\n"
     ]
    },
    {
     "name": "stderr",
     "output_type": "stream",
     "text": [
      "/tmp/ipykernel_5446/2146191820.py:11: DeprecationWarning: count is deprecated. Use Collection.count_documents instead.\n",
      "  print(f\"Se han encontrado {results.count()} documentos\")\n"
     ]
    }
   ],
   "source": [
    "start_time = time.time()\n",
    "results = busqueda_fecha_agencia(month=5, year = 2021, agencia = \"La Paz\")\n",
    "end_time = time.time()\n",
    "\n",
    "for result in results[:10]:\n",
    "    print(result)\n",
    "\n",
    "\n",
    "print(\"=\"*300)\n",
    "print(f\"En un tiempo de {str(timedelta(seconds = (end_time - start_time)))}\")\n",
    "print(f\"Se han encontrado {results.count()} documentos\")\n"
   ]
  },
  {
   "cell_type": "markdown",
   "metadata": {},
   "source": [
    "### Búsqueda por montos mayores a determinado número y agencia"
   ]
  },
  {
   "cell_type": "code",
   "execution_count": 32,
   "metadata": {},
   "outputs": [],
   "source": [
    "def busqueda_monto_mayor(monto, agencia):\n",
    "    criteria = {\"$and\": [{\"monto\": {\"$gte\": monto}}, {\"agencia\": agencia}]}\n",
    "\n",
    "    return db.extracto_cuenta.find(criteria)"
   ]
  },
  {
   "cell_type": "code",
   "execution_count": 33,
   "metadata": {},
   "outputs": [
    {
     "name": "stdout",
     "output_type": "stream",
     "text": [
      "{'_id': ObjectId('636351badfb1bb15465b367e'), 'fecha': datetime.datetime(1987, 3, 16, 17, 21, 10), 'agencia': 'Cochabamba', 'monto': 3831.34, 'descripcion': 'Debito Cta por ACH', 'saldo': 8656977.68, 'nota': 'qui dolore mollitia iure consequuntur aperiam sint illum inventore laboriosam temporibus quaerat minus'}\n",
      "{'_id': ObjectId('636351badfb1bb15465b368c'), 'fecha': datetime.datetime(1955, 5, 4, 1, 41, 28), 'agencia': 'Cochabamba', 'monto': 3561.57, 'descripcion': 'Debito Cta por compra', 'saldo': 9202183.25, 'nota': 'necessitatibus assumenda commodi ex nobis reprehenderit veniam natus'}\n",
      "{'_id': ObjectId('636351badfb1bb15465b36e7'), 'fecha': datetime.datetime(2016, 5, 2, 10, 42, 49), 'agencia': 'Cochabamba', 'monto': 3773.91, 'descripcion': 'DEB.CTA.P/C.INTERNET', 'saldo': 7211470.13, 'nota': 'dolorem est impedit'}\n",
      "{'_id': ObjectId('636351badfb1bb15465b370c'), 'fecha': datetime.datetime(2013, 5, 5, 9, 38, 47), 'agencia': 'Cochabamba', 'monto': 3148.24, 'descripcion': 'AB.CTA.P/MOVIL', 'saldo': 48302.67, 'nota': 'id accusantium porro dicta nisi placeat fuga asperiores et quam repellendus'}\n",
      "{'_id': ObjectId('636351badfb1bb15465b3720'), 'fecha': datetime.datetime(1984, 10, 7, 21, 57, 29), 'agencia': 'Cochabamba', 'monto': 3082.87, 'descripcion': 'Pago en interés', 'saldo': 6534653.88, 'nota': 'quia autem modi tempora doloremque totam'}\n",
      "{'_id': ObjectId('636351bbdfb1bb15465b3731'), 'fecha': datetime.datetime(2005, 7, 29, 21, 28, 6), 'agencia': 'Cochabamba', 'monto': 3047.47, 'descripcion': 'AB.CTA.P/MOVIL', 'saldo': 6608839.73, 'nota': 'quod omnis deleniti amet reprehenderit sunt'}\n",
      "{'_id': ObjectId('636351bbdfb1bb15465b376a'), 'fecha': datetime.datetime(1963, 6, 16, 2, 8, 14), 'agencia': 'Cochabamba', 'monto': 3109.79, 'descripcion': 'Transferencia interbancaria SIMPLE', 'saldo': 2931770.08, 'nota': 'modi iure aspernatur amet consectetur omnis quas assumenda'}\n",
      "{'_id': ObjectId('636351bbdfb1bb15465b376d'), 'fecha': datetime.datetime(1980, 1, 26, 21, 40, 36), 'agencia': 'Cochabamba', 'monto': 3833.46, 'descripcion': 'Transferencia interbancaria SIMPLE', 'saldo': 4301145.51, 'nota': 'qui reprehenderit dicta minus temporibus laboriosam labore saepe ipsa corrupti'}\n",
      "{'_id': ObjectId('636351bbdfb1bb15465b3780'), 'fecha': datetime.datetime(2018, 10, 21, 2, 43, 11), 'agencia': 'Cochabamba', 'monto': 3289.98, 'descripcion': 'Debito Cta por ACH', 'saldo': 6953747.51, 'nota': 'ullam deleniti tenetur natus quod eligendi consequatur alias ea nulla'}\n",
      "{'_id': ObjectId('636351bbdfb1bb15465b37b1'), 'fecha': datetime.datetime(1980, 11, 7, 5, 14, 11), 'agencia': 'Cochabamba', 'monto': 3620.91, 'descripcion': 'AB.CTA.P/MOVIL', 'saldo': 1253474.8, 'nota': 'libero consequatur voluptates odit tempore'}\n",
      "============================================================================================================================================================================================================================================================================================================\n",
      "En un tiempo de 0:00:00.000373\n",
      "Se han encontrado 3111 documentos\n"
     ]
    },
    {
     "name": "stderr",
     "output_type": "stream",
     "text": [
      "/tmp/ipykernel_5446/592893741.py:11: DeprecationWarning: count is deprecated. Use Collection.count_documents instead.\n",
      "  print(f\"Se han encontrado {results.count()} documentos\")\n"
     ]
    }
   ],
   "source": [
    "start_time = time.time()\n",
    "results =  busqueda_monto_mayor(monto=3000, agencia = \"Cochabamba\")\n",
    "end_time = time.time()\n",
    "\n",
    "for result in results[:10]:\n",
    "    print(result)\n",
    "    \n",
    "#print(f\"Se encontraron {results.count()} registros\")\n",
    "print(\"=\"*300)\n",
    "print(f\"En un tiempo de {str(timedelta(seconds = (end_time - start_time)))}\")\n",
    "print(f\"Se han encontrado {results.count()} documentos\")"
   ]
  },
  {
   "cell_type": "markdown",
   "metadata": {},
   "source": [
    "### Búsqueda considerando varios campos"
   ]
  },
  {
   "cell_type": "code",
   "execution_count": 34,
   "metadata": {},
   "outputs": [],
   "source": [
    "def busqueda_compleja(saldo_min, saldo_max, agencia1, agencia2, descripcion):\n",
    "    criteria = {\n",
    "        \"$and\": [\n",
    "            {\"$or\": [{\"agencia\": agencia1}, {\"agencia\": agencia2}]},\n",
    "            {\"saldo\": {\"$gte\": saldo_min, \"$lte\": saldo_max}},\n",
    "            {\"descripcion\": descripcion}\n",
    "        ]}\n",
    "\n",
    "    return db.extracto_cuenta.find(criteria)"
   ]
  },
  {
   "cell_type": "code",
   "execution_count": 35,
   "metadata": {},
   "outputs": [
    {
     "name": "stdout",
     "output_type": "stream",
     "text": [
      "{'_id': ObjectId('636351badfb1bb15465b36e7'), 'fecha': datetime.datetime(2016, 5, 2, 10, 42, 49), 'agencia': 'Cochabamba', 'monto': 3773.91, 'descripcion': 'DEB.CTA.P/C.INTERNET', 'saldo': 7211470.13, 'nota': 'dolorem est impedit'}\n",
      "{'_id': ObjectId('636351badfb1bb15465b36e8'), 'fecha': datetime.datetime(1966, 2, 23, 0, 19, 23), 'agencia': 'Cochabamba', 'monto': 229.2, 'descripcion': 'DEB.CTA.P/C.INTERNET', 'saldo': 2923374.87, 'nota': 'aspernatur aliquid recusandae vel veniam itaque velit'}\n",
      "{'_id': ObjectId('636351bbdfb1bb15465b376b'), 'fecha': datetime.datetime(1976, 11, 5, 6, 43, 36), 'agencia': 'Cochabamba', 'monto': 131.07, 'descripcion': 'DEB.CTA.P/C.INTERNET', 'saldo': 6848426.77, 'nota': 'odit reiciendis eligendi veritatis quo harum alias dolorem quasi autem'}\n",
      "{'_id': ObjectId('636351bbdfb1bb15465b3773'), 'fecha': datetime.datetime(1960, 1, 27, 8, 6, 39), 'agencia': 'Cochabamba', 'monto': 2648.89, 'descripcion': 'DEB.CTA.P/C.INTERNET', 'saldo': 5485217.69, 'nota': 'laborum exercitationem labore quibusdam vel quos qui nulla suscipit praesentium'}\n",
      "{'_id': ObjectId('636351bbdfb1bb15465b37ae'), 'fecha': datetime.datetime(2007, 8, 10, 22, 24, 26), 'agencia': 'Cochabamba', 'monto': 1789.09, 'descripcion': 'DEB.CTA.P/C.INTERNET', 'saldo': 3340773.49, 'nota': 'atque illo assumenda'}\n",
      "{'_id': ObjectId('636351bbdfb1bb15465b37b0'), 'fecha': datetime.datetime(2004, 11, 18, 20, 4, 55), 'agencia': 'Cochabamba', 'monto': 1756.69, 'descripcion': 'DEB.CTA.P/C.INTERNET', 'saldo': 4544117.96, 'nota': 'repellat sed consequuntur corporis earum atque aliquam illum accusantium'}\n",
      "{'_id': ObjectId('636351bbdfb1bb15465b389d'), 'fecha': datetime.datetime(1972, 3, 26, 17, 58), 'agencia': 'Cochabamba', 'monto': 1714.66, 'descripcion': 'DEB.CTA.P/C.INTERNET', 'saldo': 7192671.15, 'nota': 'excepturi facilis eius officiis voluptatibus tempore'}\n",
      "{'_id': ObjectId('636351bbdfb1bb15465b38ca'), 'fecha': datetime.datetime(1978, 12, 19, 2, 42, 34), 'agencia': 'Cochabamba', 'monto': 3392.4, 'descripcion': 'DEB.CTA.P/C.INTERNET', 'saldo': 8218307.96, 'nota': 'libero optio reprehenderit quasi recusandae error praesentium culpa quisquam facere porro'}\n",
      "{'_id': ObjectId('636351bbdfb1bb15465b3904'), 'fecha': datetime.datetime(2010, 8, 15, 21, 38, 32), 'agencia': 'Cochabamba', 'monto': 3724.11, 'descripcion': 'DEB.CTA.P/C.INTERNET', 'saldo': 157358.44, 'nota': 'nulla aut error recusandae officiis'}\n",
      "{'_id': ObjectId('636351bbdfb1bb15465b3906'), 'fecha': datetime.datetime(2015, 4, 29, 6, 39, 58), 'agencia': 'Cochabamba', 'monto': 1511.68, 'descripcion': 'DEB.CTA.P/C.INTERNET', 'saldo': 4191342.73, 'nota': 'modi eum'}\n",
      "============================================================================================================================================================================================================================================================================================================\n",
      "En un tiempo de 0:00:00.000289\n",
      "Se han encontrado 2825 documentos\n"
     ]
    },
    {
     "name": "stderr",
     "output_type": "stream",
     "text": [
      "/tmp/ipykernel_5446/1390024898.py:11: DeprecationWarning: count is deprecated. Use Collection.count_documents instead.\n",
      "  print(f\"Se han encontrado {results.count()} documentos\")\n"
     ]
    }
   ],
   "source": [
    "start_time = time.time()\n",
    "results = busqueda_compleja(saldo_min=1000, saldo_max=100000000, agencia1=\"Cochabamba\", agencia2=\"Santa Cruz\", descripcion=\"DEB.CTA.P/C.INTERNET\")\n",
    "end_time = time.time()\n",
    "\n",
    "for result in results[:10]:\n",
    "    print(result)\n",
    "    \n",
    "#print(f\"Se encontraron {results.count()} registros\")\n",
    "print(\"=\"*300)\n",
    "print(f\"En un tiempo de {str(timedelta(seconds = (end_time - start_time)))}\")\n",
    "print(f\"Se han encontrado {results.count()} documentos\")"
   ]
  },
  {
   "cell_type": "markdown",
   "metadata": {},
   "source": [
    "### Agregaciones: Monto promedio por agencia"
   ]
  },
  {
   "cell_type": "code",
   "execution_count": 36,
   "metadata": {},
   "outputs": [],
   "source": [
    "def promedio_monto_agencia(agencia):\n",
    "    criteria = [\n",
    "        {\n",
    "        \"$group\" : \n",
    "            {\"_id\" : {\"agencia\" : f\"{agencia}\"},  \n",
    "            \"Monto promedio\" : {\"$avg\" : \"$monto\"}\n",
    "            }\n",
    "        }\n",
    "     ]\n",
    "\n",
    "    return db.extracto_cuenta.aggregate(criteria)"
   ]
  },
  {
   "cell_type": "code",
   "execution_count": 37,
   "metadata": {},
   "outputs": [
    {
     "name": "stdout",
     "output_type": "stream",
     "text": [
      "{'_id': {'agencia': 'La Paz'}, 'Monto promedio': 2006.700515794842}\n",
      "============================================================================================================================================================================================================================================================================================================\n",
      "En un tiempo de 0:00:01.003458\n"
     ]
    }
   ],
   "source": [
    "start_time = time.time()\n",
    "results =  promedio_monto_agencia(agencia=\"La Paz\")\n",
    "end_time = time.time()\n",
    "\n",
    "for i in results:\n",
    "    print(i)\n",
    "    \n",
    "#print(f\"Se encontraron {results.count()} registros\")\n",
    "print(\"=\"*300)\n",
    "print(f\"En un tiempo de {str(timedelta(seconds = (end_time - start_time)))}\")"
   ]
  },
  {
   "cell_type": "markdown",
   "metadata": {},
   "source": [
    "## Actualización de datos"
   ]
  },
  {
   "cell_type": "code",
   "execution_count": 38,
   "metadata": {},
   "outputs": [],
   "source": [
    "def actualizacion_fecha_monto(min_date, max_date, monto):\n",
    "    from_date_str = min_date + \"T00:00:00+00:00\"\n",
    "    to_date_str = max_date + \"T23:59:59+00:00\"\n",
    "    from_date = datetime.strptime(from_date_str, '%Y-%m-%dT%H:%M:%S%z')\n",
    "    to_date = datetime.strptime(to_date_str, '%Y-%m-%dT%H:%M:%S%z')\n",
    "    \n",
    "    criteria = {\"$and\": [{\"fecha\": {\"$gte\": from_date, \"$lte\": to_date}}]}\n",
    "    new = {\"$set\": { \"monto\" : monto, \"nota\": \"Monto actualizado por fecha\"}}\n",
    "\n",
    "    return db.extracto_cuenta.update_many(criteria, new)"
   ]
  },
  {
   "cell_type": "code",
   "execution_count": 39,
   "metadata": {},
   "outputs": [
    {
     "data": {
      "text/plain": [
       "112"
      ]
     },
     "execution_count": 39,
     "metadata": {},
     "output_type": "execute_result"
    }
   ],
   "source": [
    "from_date_str = \"2021-01-01\" + \"T00:00:00+00:00\"\n",
    "to_date_str = \"2021-01-31\" + \"T23:59:59+00:00\"\n",
    "from_date = datetime.strptime(from_date_str, '%Y-%m-%dT%H:%M:%S%z')\n",
    "to_date = datetime.strptime(to_date_str, '%Y-%m-%dT%H:%M:%S%z')\n",
    "db.extracto_cuenta.count_documents({\"$and\": [{\"fecha\": {\"$gte\": from_date}}, {\"fecha\": {\"$lte\": to_date}}]})"
   ]
  },
  {
   "cell_type": "code",
   "execution_count": 40,
   "metadata": {},
   "outputs": [
    {
     "name": "stdout",
     "output_type": "stream",
     "text": [
      "Se han actualizado 112 documentos\n",
      "En un tiempo de 0:00:00.169765\n"
     ]
    }
   ],
   "source": [
    "start_time = time.time()\n",
    "results = actualizacion_fecha_monto(min_date = \"2021-01-01\", max_date = \"2021-01-31\", monto = 7000)\n",
    "end_time = time.time()\n",
    "\n",
    "\n",
    "print(f\"Se han actualizado {results.modified_count} documentos\")\n",
    "print(f\"En un tiempo de {str(timedelta(seconds = (end_time - start_time)))}\")"
   ]
  },
  {
   "cell_type": "code",
   "execution_count": 41,
   "metadata": {},
   "outputs": [
    {
     "name": "stdout",
     "output_type": "stream",
     "text": [
      "{'_id': ObjectId('63635237dfb1bb15465c0b04'), 'fecha': datetime.datetime(2021, 1, 1, 12, 23, 34), 'agencia': 'Beni', 'monto': 7000, 'descripcion': 'AB.CTA.P/MOVIL', 'saldo': 5632689.64, 'nota': 'Monto actualizado por fecha'}\n",
      "{'_id': ObjectId('63635237dfb1bb15465c27de'), 'fecha': datetime.datetime(2021, 1, 1, 15, 6, 18), 'agencia': 'Chuquisaca', 'monto': 7000, 'descripcion': 'DEB.CTA.P/C.INTERNET', 'saldo': 1216823.21, 'nota': 'Monto actualizado por fecha'}\n",
      "{'_id': ObjectId('636351dbdfb1bb15465b8f91'), 'fecha': datetime.datetime(2021, 1, 1, 19, 24, 11), 'agencia': 'La Paz', 'monto': 7000, 'descripcion': 'Debito Cta por pago de Seguro', 'saldo': 4942227.13, 'nota': 'Monto actualizado por fecha'}\n",
      "{'_id': ObjectId('636351e0dfb1bb15465b9b9c'), 'fecha': datetime.datetime(2021, 1, 2, 0, 54, 27), 'agencia': 'Santa Cruz', 'monto': 7000, 'descripcion': 'Retiro en efectivo', 'saldo': 44012.01, 'nota': 'Monto actualizado por fecha'}\n",
      "{'_id': ObjectId('636351d1dfb1bb15465b7545'), 'fecha': datetime.datetime(2021, 1, 2, 8, 42, 15), 'agencia': 'Pando', 'monto': 7000, 'descripcion': 'Retención IVA', 'saldo': 6362107.94, 'nota': 'Monto actualizado por fecha'}\n",
      "{'_id': ObjectId('636351cedfb1bb15465b69de'), 'fecha': datetime.datetime(2021, 1, 2, 19, 0, 34), 'agencia': 'Tarija', 'monto': 7000, 'descripcion': 'Debito Cta por pago de Seguro', 'saldo': 1466201.54, 'nota': 'Monto actualizado por fecha'}\n",
      "{'_id': ObjectId('63635237dfb1bb15465c6e48'), 'fecha': datetime.datetime(2021, 1, 3, 1, 51, 30), 'agencia': 'Pando', 'monto': 7000, 'descripcion': 'Retención IVA', 'saldo': 535459.93, 'nota': 'Monto actualizado por fecha'}\n",
      "{'_id': ObjectId('63635237dfb1bb15465c4d7d'), 'fecha': datetime.datetime(2021, 1, 3, 2, 25, 50), 'agencia': 'Beni', 'monto': 7000, 'descripcion': 'DEB.CTA.P/C.INTERNET', 'saldo': 5911926.21, 'nota': 'Monto actualizado por fecha'}\n",
      "{'_id': ObjectId('63635237dfb1bb15465c8a02'), 'fecha': datetime.datetime(2021, 1, 3, 6, 58, 8), 'agencia': 'Pando', 'monto': 7000, 'descripcion': 'Debito Cta por compra', 'saldo': 6892431.82, 'nota': 'Monto actualizado por fecha'}\n",
      "{'_id': ObjectId('63635237dfb1bb15465ca4b2'), 'fecha': datetime.datetime(2021, 1, 3, 9, 25, 23), 'agencia': 'Tarija', 'monto': 7000, 'descripcion': 'Pago en interés', 'saldo': 4701146.31, 'nota': 'Monto actualizado por fecha'}\n"
     ]
    }
   ],
   "source": [
    "results = db.extracto_cuenta.find({\"$and\": [{\"fecha\": {\"$gte\": from_date}}, {\"fecha\": {\"$lte\": to_date}}]})\n",
    "\n",
    "for result in results[:10]:\n",
    "    print(result)"
   ]
  },
  {
   "cell_type": "markdown",
   "metadata": {},
   "source": [
    "## Eliminar datos"
   ]
  },
  {
   "cell_type": "code",
   "execution_count": 65,
   "metadata": {},
   "outputs": [],
   "source": [
    "def eliminar_saldo_min(saldo_min):\n",
    "    return db.extracto_cuenta.delete_many(\n",
    "        {\"saldo\": {\"$lte\": saldo_min}}\n",
    ")"
   ]
  },
  {
   "cell_type": "code",
   "execution_count": 43,
   "metadata": {},
   "outputs": [
    {
     "name": "stdout",
     "output_type": "stream",
     "text": [
      "Se han eliminado 5 documentos\n",
      "En un tiempo de 0:00:00.002011\n"
     ]
    }
   ],
   "source": [
    "start_time = time.time()\n",
    "results = eliminar_saldo_min(saldo_min= 500)\n",
    "end_time = time.time()\n",
    "\n",
    "print(f\"Se han eliminado {results.deleted_count} documentos\")\n",
    "print(f\"En un tiempo de {str(timedelta(seconds = (end_time - start_time)))}\")"
   ]
  },
  {
   "cell_type": "code",
   "execution_count": 44,
   "metadata": {},
   "outputs": [
    {
     "name": "stdout",
     "output_type": "stream",
     "text": [
      "0\n"
     ]
    }
   ],
   "source": [
    "results = db.extracto_cuenta.count_documents({\"saldo\": {\"$lte\": 500}})\n",
    "print(results)"
   ]
  },
  {
   "cell_type": "markdown",
   "metadata": {},
   "source": [
    "# Más de 10 millones de documentos"
   ]
  },
  {
   "cell_type": "markdown",
   "metadata": {},
   "source": [
    "## Carga de datos"
   ]
  },
  {
   "cell_type": "code",
   "execution_count": 45,
   "metadata": {},
   "outputs": [
    {
     "name": "stdout",
     "output_type": "stream",
     "text": [
      "Tiempo de carga de datos: 0:19:59.770422\n"
     ]
    }
   ],
   "source": [
    "insert_data_list = []\n",
    "\n",
    "for _ in range(10000000):\n",
    "    fecha = random_date(d1, d2)\n",
    "    agencia = random.choice(['La Paz', 'Oruro', 'Cochabamba', 'Chuquisaca', 'Pando', 'Beni', 'Santa Cruz', 'Tarija'])\n",
    "    monto = round(random.uniform(10.0, 4000.0), 2)\n",
    "    descripcion = random.choice(descripciones)\n",
    "    saldo = round(random.uniform(0.0, 10000000.0), 2)\n",
    "    nota = lorem.words(randint(1,13))\n",
    "\n",
    "    insert_data = {\n",
    "        'fecha': fecha,\n",
    "        'agencia': agencia,\n",
    "        'monto': monto,\n",
    "        'descripcion': descripcion,\n",
    "        'saldo': saldo,\n",
    "        'nota': nota\n",
    "    }\n",
    "\n",
    "    insert_data_list.append(insert_data)\n",
    "\n",
    "start_time = time.time()\n",
    "db.extracto_cuenta.insert_many(insert_data_list)\n",
    "end_time = time.time()\n",
    "\n",
    "# Mostramos los resultados en consola\n",
    "print(f'Tiempo de carga de datos: {str(timedelta(seconds = (end_time - start_time)))}')"
   ]
  },
  {
   "cell_type": "code",
   "execution_count": 48,
   "metadata": {},
   "outputs": [
    {
     "data": {
      "text/plain": [
       "10099000"
      ]
     },
     "execution_count": 48,
     "metadata": {},
     "output_type": "execute_result"
    }
   ],
   "source": [
    "db.extracto_cuenta.count_documents({})"
   ]
  },
  {
   "cell_type": "markdown",
   "metadata": {},
   "source": [
    "## Consultas a la base de datos"
   ]
  },
  {
   "cell_type": "markdown",
   "metadata": {},
   "source": [
    "### Búsqueda por fecha y agencia"
   ]
  },
  {
   "cell_type": "code",
   "execution_count": 51,
   "metadata": {},
   "outputs": [
    {
     "name": "stdout",
     "output_type": "stream",
     "text": [
      "{'_id': ObjectId('636355f4dfb1bb1546980f92'), 'fecha': datetime.datetime(2021, 5, 1, 0, 22, 58), 'agencia': 'La Paz', 'monto': 3695.91, 'descripcion': 'Retiro en efectivo', 'saldo': 681841.44, 'nota': 'itaque ad maiores culpa'}\n",
      "{'_id': ObjectId('636355e6dfb1bb15468a68ba'), 'fecha': datetime.datetime(2021, 5, 1, 0, 28, 29), 'agencia': 'La Paz', 'monto': 2710.07, 'descripcion': 'Pago en interés', 'saldo': 418319.45, 'nota': 'repudiandae impedit quae mollitia iusto tempora quidem deserunt eveniet facilis molestiae'}\n",
      "{'_id': ObjectId('63635603dfb1bb1546beae33'), 'fecha': datetime.datetime(2021, 5, 1, 1, 7, 43), 'agencia': 'La Paz', 'monto': 3839.84, 'descripcion': 'Pago en interés', 'saldo': 776690.25, 'nota': 'consectetur corrupti doloribus rem numquam tempora dolores necessitatibus dolorum quae animi'}\n",
      "{'_id': ObjectId('636355b4dfb1bb15465f5b0a'), 'fecha': datetime.datetime(2021, 5, 1, 2, 21, 30), 'agencia': 'La Paz', 'monto': 454.73, 'descripcion': 'Debito Cta por pago de Seguro', 'saldo': 266953.22, 'nota': 'eum ullam vel ea aliquid reprehenderit officia eos nobis asperiores iure'}\n",
      "{'_id': ObjectId('63635601dfb1bb1546b5f935'), 'fecha': datetime.datetime(2021, 5, 1, 2, 59), 'agencia': 'La Paz', 'monto': 491.64, 'descripcion': 'Transferencia interbancaria SIMPLE', 'saldo': 9470865.5, 'nota': 'dolore magni nisi necessitatibus doloribus deserunt tempora quod ratione nemo rem'}\n",
      "{'_id': ObjectId('636355fbdfb1bb1546ab10ad'), 'fecha': datetime.datetime(2021, 5, 1, 3, 59, 28), 'agencia': 'La Paz', 'monto': 2156.01, 'descripcion': 'Pago en interés', 'saldo': 2345228.51, 'nota': 'nesciunt totam fugit laudantium vitae veritatis reiciendis culpa'}\n",
      "{'_id': ObjectId('63635609dfb1bb1546ca0e11'), 'fecha': datetime.datetime(2021, 5, 1, 4, 5, 23), 'agencia': 'La Paz', 'monto': 1122.16, 'descripcion': 'AB.CTA.P/MOVIL', 'saldo': 5510041.89, 'nota': 'omnis praesentium unde vero quis minus suscipit beatae quidem'}\n",
      "{'_id': ObjectId('63635610dfb1bb1546d78a57'), 'fecha': datetime.datetime(2021, 5, 1, 4, 24, 58), 'agencia': 'La Paz', 'monto': 3468.11, 'descripcion': 'Pago en interés', 'saldo': 1482015.03, 'nota': 'odit distinctio magni culpa quae voluptatum voluptates quam modi rem eveniet aut minus'}\n",
      "{'_id': ObjectId('636355c9dfb1bb1546711a53'), 'fecha': datetime.datetime(2021, 5, 1, 4, 25, 27), 'agencia': 'La Paz', 'monto': 49.57, 'descripcion': 'AB.CTA.P/MOVIL', 'saldo': 7715989.95, 'nota': 'laudantium magni nisi nostrum sequi'}\n",
      "{'_id': ObjectId('63635613dfb1bb1546dcfcbf'), 'fecha': datetime.datetime(2021, 5, 1, 5, 27, 15), 'agencia': 'La Paz', 'monto': 1250.21, 'descripcion': 'DEB.CTA.P/C.INTERNET', 'saldo': 1476499.63, 'nota': 'laudantium numquam iste commodi fuga amet modi similique'}\n",
      "============================================================================================================================================================================================================================================================================================================\n",
      "Se han encontrado 1460 documentos\n",
      "En un tiempo de 0:00:00.000434\n"
     ]
    },
    {
     "name": "stderr",
     "output_type": "stream",
     "text": [
      "/tmp/ipykernel_5446/2112155487.py:10: DeprecationWarning: count is deprecated. Use Collection.count_documents instead.\n",
      "  print(f\"Se han encontrado {results.count()} documentos\")\n"
     ]
    }
   ],
   "source": [
    "start_time = time.time()\n",
    "results = busqueda_fecha_agencia(month=5, year = 2021, agencia = \"La Paz\")\n",
    "end_time = time.time()\n",
    "\n",
    "for result in results[:10]:\n",
    "    print(result)\n",
    "    \n",
    "\n",
    "print(\"=\"*300)\n",
    "print(f\"Se han encontrado {results.count()} documentos\")\n",
    "print(f\"En un tiempo de {str(timedelta(seconds = (end_time - start_time)))}\")\n"
   ]
  },
  {
   "cell_type": "markdown",
   "metadata": {},
   "source": [
    "### Búsqueda por montos mayores a determinado número y agencia"
   ]
  },
  {
   "cell_type": "code",
   "execution_count": 50,
   "metadata": {},
   "outputs": [
    {
     "name": "stdout",
     "output_type": "stream",
     "text": [
      "{'_id': ObjectId('636355a5dfb1bb15465cbd25'), 'fecha': datetime.datetime(2006, 12, 7, 2, 6, 29), 'agencia': 'Cochabamba', 'monto': 3736.94, 'descripcion': 'AB.CTA.P/MOVIL', 'saldo': 2799906.89, 'nota': 'deleniti fuga et consequuntur voluptates quas dolorum nam cupiditate incidunt enim accusantium ipsam'}\n",
      "{'_id': ObjectId('636355a5dfb1bb15465cbd35'), 'fecha': datetime.datetime(1956, 6, 19, 4, 36, 12), 'agencia': 'Cochabamba', 'monto': 3841.46, 'descripcion': 'DEB.CTA.P/C.INTERNET', 'saldo': 807030.67, 'nota': 'explicabo earum non sunt unde vero ducimus aliquid deleniti recusandae perferendis'}\n",
      "{'_id': ObjectId('636355a5dfb1bb15465cbd4d'), 'fecha': datetime.datetime(1991, 7, 4, 15, 58, 24), 'agencia': 'Cochabamba', 'monto': 3727.81, 'descripcion': 'AB.CTA.P/MOVIL', 'saldo': 3130378.49, 'nota': 'ab repellat libero unde enim nulla delectus'}\n",
      "{'_id': ObjectId('636355a5dfb1bb15465cbd79'), 'fecha': datetime.datetime(2010, 6, 14, 4, 47, 51), 'agencia': 'Cochabamba', 'monto': 3345.68, 'descripcion': 'Debito Cta por ACH', 'saldo': 7224184.78, 'nota': 'dolor atque aperiam optio minima'}\n",
      "{'_id': ObjectId('636355a5dfb1bb15465cbd8e'), 'fecha': datetime.datetime(2012, 10, 15, 5, 58, 54), 'agencia': 'Cochabamba', 'monto': 3253.93, 'descripcion': 'DEB.CTA.P/C.INTERNET', 'saldo': 9583474.52, 'nota': 'voluptatibus praesentium'}\n",
      "{'_id': ObjectId('636355a5dfb1bb15465cbdd6'), 'fecha': datetime.datetime(1993, 5, 1, 8, 27, 13), 'agencia': 'Cochabamba', 'monto': 3318.68, 'descripcion': 'AB.CTA.P/MOVIL', 'saldo': 6196220.56, 'nota': 'quas odit vel'}\n",
      "{'_id': ObjectId('636355a5dfb1bb15465cbde7'), 'fecha': datetime.datetime(2005, 2, 12, 14, 10, 33), 'agencia': 'Cochabamba', 'monto': 3947.89, 'descripcion': 'Debito Cta por pago de Seguro', 'saldo': 6260780.15, 'nota': 'eaque'}\n",
      "{'_id': ObjectId('636355a5dfb1bb15465cbdee'), 'fecha': datetime.datetime(1973, 8, 8, 8, 8, 17), 'agencia': 'Cochabamba', 'monto': 3991.96, 'descripcion': 'Retiro en efectivo', 'saldo': 8387288.84, 'nota': 'debitis omnis cupiditate voluptatibus excepturi iusto reiciendis voluptatum quos saepe hic dolor'}\n",
      "{'_id': ObjectId('636355a5dfb1bb15465cbe27'), 'fecha': datetime.datetime(1994, 9, 10, 23, 47, 15), 'agencia': 'Cochabamba', 'monto': 3113.98, 'descripcion': 'Pago en interés', 'saldo': 6010238.28, 'nota': 'corrupti tempore omnis consectetur nobis vel odit itaque ex tempora praesentium culpa'}\n",
      "{'_id': ObjectId('636355a5dfb1bb15465cbe68'), 'fecha': datetime.datetime(2019, 5, 8, 14, 58, 48), 'agencia': 'Cochabamba', 'monto': 3060.37, 'descripcion': 'Transferencia interbancaria SIMPLE', 'saldo': 3596567.34, 'nota': 'exercitationem maiores repellat labore maxime'}\n",
      "============================================================================================================================================================================================================================================================================================================\n"
     ]
    },
    {
     "name": "stderr",
     "output_type": "stream",
     "text": [
      "/tmp/ipykernel_5446/2480498654.py:10: DeprecationWarning: count is deprecated. Use Collection.count_documents instead.\n",
      "  print(f\"Se han encontrado {results.count()} documentos\")\n"
     ]
    },
    {
     "name": "stdout",
     "output_type": "stream",
     "text": [
      "Se han encontrado 316144 documentos\n",
      "En un tiempo de 0:00:00.000159\n"
     ]
    }
   ],
   "source": [
    "start_time = time.time()\n",
    "results =  busqueda_monto_mayor(monto=3000, agencia = \"Cochabamba\")\n",
    "end_time = time.time()\n",
    "\n",
    "for result in results[:10]:\n",
    "    print(result)\n",
    "    \n",
    "#print(f\"Se encontraron {results.count()} registros\")\n",
    "print(\"=\"*300)\n",
    "print(f\"Se han encontrado {results.count()} documentos\")\n",
    "print(f\"En un tiempo de {str(timedelta(seconds = (end_time - start_time)))}\")\n"
   ]
  },
  {
   "cell_type": "markdown",
   "metadata": {},
   "source": [
    "### Búsqueda considerando varios campos"
   ]
  },
  {
   "cell_type": "code",
   "execution_count": 52,
   "metadata": {},
   "outputs": [
    {
     "name": "stdout",
     "output_type": "stream",
     "text": [
      "{'_id': ObjectId('636355a5dfb1bb15465cbd35'), 'fecha': datetime.datetime(1956, 6, 19, 4, 36, 12), 'agencia': 'Cochabamba', 'monto': 3841.46, 'descripcion': 'DEB.CTA.P/C.INTERNET', 'saldo': 807030.67, 'nota': 'explicabo earum non sunt unde vero ducimus aliquid deleniti recusandae perferendis'}\n",
      "{'_id': ObjectId('636355a5dfb1bb15465cbd46'), 'fecha': datetime.datetime(1999, 1, 17, 22, 12, 33), 'agencia': 'Cochabamba', 'monto': 444.83, 'descripcion': 'DEB.CTA.P/C.INTERNET', 'saldo': 2472175.31, 'nota': 'nulla'}\n",
      "{'_id': ObjectId('636355a5dfb1bb15465cbd73'), 'fecha': datetime.datetime(1994, 5, 24, 8, 9, 29), 'agencia': 'Cochabamba', 'monto': 29.82, 'descripcion': 'DEB.CTA.P/C.INTERNET', 'saldo': 878935.55, 'nota': 'omnis reiciendis ducimus sit ab quas facilis est totam ipsam'}\n",
      "{'_id': ObjectId('636355a5dfb1bb15465cbd8e'), 'fecha': datetime.datetime(2012, 10, 15, 5, 58, 54), 'agencia': 'Cochabamba', 'monto': 3253.93, 'descripcion': 'DEB.CTA.P/C.INTERNET', 'saldo': 9583474.52, 'nota': 'voluptatibus praesentium'}\n",
      "{'_id': ObjectId('636355a5dfb1bb15465cbe99'), 'fecha': datetime.datetime(2008, 9, 6, 18, 57, 24), 'agencia': 'Cochabamba', 'monto': 1198.3, 'descripcion': 'DEB.CTA.P/C.INTERNET', 'saldo': 7840256.75, 'nota': 'repellat sed'}\n",
      "{'_id': ObjectId('636355a5dfb1bb15465cbe9f'), 'fecha': datetime.datetime(1999, 11, 4, 20, 14, 4), 'agencia': 'Cochabamba', 'monto': 327.48, 'descripcion': 'DEB.CTA.P/C.INTERNET', 'saldo': 8437631.62, 'nota': 'possimus ipsa a sint'}\n",
      "{'_id': ObjectId('636355a5dfb1bb15465cbeb3'), 'fecha': datetime.datetime(2021, 5, 8, 23, 33, 44), 'agencia': 'Cochabamba', 'monto': 3784.73, 'descripcion': 'DEB.CTA.P/C.INTERNET', 'saldo': 7289223.48, 'nota': 'magnam recusandae neque sequi aliquam'}\n",
      "{'_id': ObjectId('636355a5dfb1bb15465cbf10'), 'fecha': datetime.datetime(2020, 9, 2, 22, 55, 6), 'agencia': 'Cochabamba', 'monto': 797.87, 'descripcion': 'DEB.CTA.P/C.INTERNET', 'saldo': 2538700.43, 'nota': 'rem possimus nemo unde'}\n",
      "{'_id': ObjectId('636355a5dfb1bb15465cbf50'), 'fecha': datetime.datetime(1990, 12, 3, 9, 25, 6), 'agencia': 'Cochabamba', 'monto': 1021.77, 'descripcion': 'DEB.CTA.P/C.INTERNET', 'saldo': 9608060.31, 'nota': 'voluptates possimus exercitationem itaque eaque'}\n",
      "{'_id': ObjectId('636355a5dfb1bb15465cbf8b'), 'fecha': datetime.datetime(1986, 11, 10, 8, 16, 36), 'agencia': 'Cochabamba', 'monto': 3303.27, 'descripcion': 'DEB.CTA.P/C.INTERNET', 'saldo': 1811785.77, 'nota': 'incidunt ab quis at fuga placeat'}\n",
      "============================================================================================================================================================================================================================================================================================================\n"
     ]
    },
    {
     "name": "stderr",
     "output_type": "stream",
     "text": [
      "/tmp/ipykernel_5446/3361313736.py:10: DeprecationWarning: count is deprecated. Use Collection.count_documents instead.\n",
      "  print(f\"Se han encontrado {results.count()} documentos\")\n"
     ]
    },
    {
     "name": "stdout",
     "output_type": "stream",
     "text": [
      "Se han encontrado 280963 documentos\n",
      "En un tiempo de 0:00:00.000458\n"
     ]
    }
   ],
   "source": [
    "start_time = time.time()\n",
    "results = busqueda_compleja(saldo_min=1000, saldo_max=100000000, agencia1=\"Cochabamba\", agencia2=\"Santa Cruz\", descripcion=\"DEB.CTA.P/C.INTERNET\")\n",
    "end_time = time.time()\n",
    "\n",
    "for result in results[:10]:\n",
    "    print(result)\n",
    "    \n",
    "#print(f\"Se encontraron {results.count()} registros\")\n",
    "print(\"=\"*300)\n",
    "print(f\"Se han encontrado {results.count()} documentos\")\n",
    "print(f\"En un tiempo de {str(timedelta(seconds = (end_time - start_time)))}\")"
   ]
  },
  {
   "cell_type": "markdown",
   "metadata": {},
   "source": [
    "### Agregaciones: Monto promedio por agencia"
   ]
  },
  {
   "cell_type": "code",
   "execution_count": 53,
   "metadata": {},
   "outputs": [
    {
     "name": "stdout",
     "output_type": "stream",
     "text": [
      "{'_id': {'agencia': 'La Paz'}, 'Monto promedio': 2005.9227867145262}\n",
      "============================================================================================================================================================================================================================================================================================================\n",
      "En un tiempo de 0:00:16.932983\n"
     ]
    }
   ],
   "source": [
    "start_time = time.time()\n",
    "results =  promedio_monto_agencia(agencia=\"La Paz\")\n",
    "end_time = time.time()\n",
    "\n",
    "for i in results:\n",
    "    print(i)\n",
    "    \n",
    "#print(f\"Se encontraron {results.count()} registros\")\n",
    "print(\"=\"*300)\n",
    "print(f\"En un tiempo de {str(timedelta(seconds = (end_time - start_time)))}\")"
   ]
  },
  {
   "cell_type": "markdown",
   "metadata": {},
   "source": [
    "## Actualización de datos"
   ]
  },
  {
   "cell_type": "code",
   "execution_count": 58,
   "metadata": {},
   "outputs": [
    {
     "data": {
      "text/plain": [
       "11947"
      ]
     },
     "execution_count": 58,
     "metadata": {},
     "output_type": "execute_result"
    }
   ],
   "source": [
    "from_date_str = \"2021-03-01\" + \"T00:00:00+00:00\"\n",
    "to_date_str = \"2021-03-31\" + \"T23:59:59+00:00\"\n",
    "from_date = datetime.strptime(from_date_str, '%Y-%m-%dT%H:%M:%S%z')\n",
    "to_date = datetime.strptime(to_date_str, '%Y-%m-%dT%H:%M:%S%z')\n",
    "db.extracto_cuenta.count_documents({\"$and\": [{\"fecha\": {\"$gte\": from_date}}, {\"fecha\": {\"$lte\": to_date}}]})"
   ]
  },
  {
   "cell_type": "code",
   "execution_count": 59,
   "metadata": {},
   "outputs": [
    {
     "name": "stdout",
     "output_type": "stream",
     "text": [
      "Se han actualizado 11947 documentos\n",
      "En un tiempo de 0:00:01.492238\n"
     ]
    }
   ],
   "source": [
    "start_time = time.time()\n",
    "results = actualizacion_fecha_monto(min_date = \"2021-03-01\", max_date = \"2021-03-31\", monto = 7000)\n",
    "end_time = time.time()\n",
    "\n",
    "\n",
    "print(f\"Se han actualizado {results.modified_count} documentos\")\n",
    "print(f\"En un tiempo de {str(timedelta(seconds = (end_time - start_time)))}\")"
   ]
  },
  {
   "cell_type": "code",
   "execution_count": 60,
   "metadata": {},
   "outputs": [
    {
     "name": "stdout",
     "output_type": "stream",
     "text": [
      "{'_id': ObjectId('636355fadfb1bb1546a78aef'), 'fecha': datetime.datetime(2021, 3, 1, 0, 3, 6), 'agencia': 'Beni', 'monto': 7000, 'descripcion': 'Pago en interés', 'saldo': 8384659.59, 'nota': 'Monto actualizado por fecha'}\n",
      "{'_id': ObjectId('63635601dfb1bb1546b85792'), 'fecha': datetime.datetime(2021, 3, 1, 0, 26, 7), 'agencia': 'Santa Cruz', 'monto': 7000, 'descripcion': 'Retención IVA', 'saldo': 2909794.25, 'nota': 'Monto actualizado por fecha'}\n",
      "{'_id': ObjectId('636355f5dfb1bb15469a173f'), 'fecha': datetime.datetime(2021, 3, 1, 0, 26, 9), 'agencia': 'Beni', 'monto': 7000, 'descripcion': 'AB.CTA.P/MOVIL', 'saldo': 6916964.54, 'nota': 'Monto actualizado por fecha'}\n",
      "{'_id': ObjectId('63635610dfb1bb1546d79be3'), 'fecha': datetime.datetime(2021, 3, 1, 0, 26, 20), 'agencia': 'Beni', 'monto': 7000, 'descripcion': 'AB.CTA.P/MOVIL', 'saldo': 8346770.05, 'nota': 'Monto actualizado por fecha'}\n",
      "{'_id': ObjectId('636355b1dfb1bb15465e391c'), 'fecha': datetime.datetime(2021, 3, 1, 0, 34, 53), 'agencia': 'Oruro', 'monto': 7000, 'descripcion': 'Debito Cta por ACH', 'saldo': 1811182.96, 'nota': 'Monto actualizado por fecha'}\n",
      "{'_id': ObjectId('636355ebdfb1bb154690c838'), 'fecha': datetime.datetime(2021, 3, 1, 0, 38, 41), 'agencia': 'Tarija', 'monto': 7000, 'descripcion': 'AB.CTA.P/MOVIL', 'saldo': 1811593.16, 'nota': 'Monto actualizado por fecha'}\n",
      "{'_id': ObjectId('63635604dfb1bb1546c142c8'), 'fecha': datetime.datetime(2021, 3, 1, 0, 40, 42), 'agencia': 'Chuquisaca', 'monto': 7000, 'descripcion': 'Transferencia interbancaria SIMPLE', 'saldo': 6604657.61, 'nota': 'Monto actualizado por fecha'}\n",
      "{'_id': ObjectId('63635609dfb1bb1546c96295'), 'fecha': datetime.datetime(2021, 3, 1, 0, 47, 55), 'agencia': 'Oruro', 'monto': 7000, 'descripcion': 'Debito Cta por ACH', 'saldo': 9444319.44, 'nota': 'Monto actualizado por fecha'}\n",
      "{'_id': ObjectId('63635626dfb1bb1546f27e0a'), 'fecha': datetime.datetime(2021, 3, 1, 0, 51, 45), 'agencia': 'Beni', 'monto': 7000, 'descripcion': 'Pago en interés', 'saldo': 7682125.14, 'nota': 'Monto actualizado por fecha'}\n",
      "{'_id': ObjectId('63635628dfb1bb1546f4c4af'), 'fecha': datetime.datetime(2021, 3, 1, 0, 55, 6), 'agencia': 'Oruro', 'monto': 7000, 'descripcion': 'Transferencia interbancaria SIMPLE', 'saldo': 3920324.93, 'nota': 'Monto actualizado por fecha'}\n"
     ]
    }
   ],
   "source": [
    "results = db.extracto_cuenta.find({\"$and\": [{\"fecha\": {\"$gte\": from_date}}, {\"fecha\": {\"$lte\": to_date}}]})\n",
    "\n",
    "for result in results[:10]:\n",
    "    print(result)"
   ]
  },
  {
   "cell_type": "markdown",
   "metadata": {},
   "source": [
    "## Eliminar datos"
   ]
  },
  {
   "cell_type": "code",
   "execution_count": 66,
   "metadata": {},
   "outputs": [
    {
     "name": "stdout",
     "output_type": "stream",
     "text": [
      "Se han eliminado 483 documentos\n",
      "En un tiempo de 0:01:14.968753\n"
     ]
    }
   ],
   "source": [
    "start_time = time.time()\n",
    "results = eliminar_saldo_min(saldo_min= 1000)\n",
    "end_time = time.time()\n",
    "\n",
    "print(f\"Se han eliminado {results.deleted_count} documentos\")\n",
    "print(f\"En un tiempo de {str(timedelta(seconds = (end_time - start_time)))}\")"
   ]
  },
  {
   "cell_type": "code",
   "execution_count": 62,
   "metadata": {},
   "outputs": [
    {
     "name": "stdout",
     "output_type": "stream",
     "text": [
      "0\n"
     ]
    }
   ],
   "source": [
    "results = db.extracto_cuenta.count_documents({\"saldo\": {\"$lte\": 1000}})\n",
    "print(results)"
   ]
  }
 ],
 "metadata": {
  "kernelspec": {
   "display_name": "Python 3.9.12 ('base')",
   "language": "python",
   "name": "python3"
  },
  "language_info": {
   "codemirror_mode": {
    "name": "ipython",
    "version": 3
   },
   "file_extension": ".py",
   "mimetype": "text/x-python",
   "name": "python",
   "nbconvert_exporter": "python",
   "pygments_lexer": "ipython3",
   "version": "3.9.12"
  },
  "orig_nbformat": 4,
  "vscode": {
   "interpreter": {
    "hash": "d7e5a1f785ed82844e2da5d30522181462e1597dbd1807cbc4c5c0cc1d5a2e0b"
   }
  }
 },
 "nbformat": 4,
 "nbformat_minor": 2
}

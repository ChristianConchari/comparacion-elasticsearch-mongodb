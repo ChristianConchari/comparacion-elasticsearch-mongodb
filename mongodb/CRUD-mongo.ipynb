{
 "cells": [
  {
   "cell_type": "markdown",
   "metadata": {},
   "source": [
    "# Cargamos librerias y conectamos la base de datos"
   ]
  },
  {
   "cell_type": "code",
   "execution_count": 1,
   "metadata": {},
   "outputs": [],
   "source": [
    "from pymongo import MongoClient\n",
    "import time, json, random\n",
    "from random import randrange\n",
    "from datetime import timedelta, datetime\n",
    "from random import randint\n",
    "from lorem_text import lorem\n",
    "from flask import jsonify\n",
    "\n",
    "client = MongoClient('localhost', 27017)"
   ]
  },
  {
   "cell_type": "code",
   "execution_count": 2,
   "metadata": {},
   "outputs": [],
   "source": [
    "db = client[\"test_mongo\"]"
   ]
  },
  {
   "cell_type": "markdown",
   "metadata": {},
   "source": [
    "# Generación de datos aleatorios"
   ]
  },
  {
   "cell_type": "code",
   "execution_count": 3,
   "metadata": {},
   "outputs": [],
   "source": [
    "def random_date(start, end):\n",
    "    delta = end - start\n",
    "    int_delta = (delta.days * 24 * 60 * 60) + delta.seconds\n",
    "    random_second = randrange(int_delta)\n",
    "    return start + timedelta(seconds=random_second)"
   ]
  },
  {
   "cell_type": "code",
   "execution_count": 4,
   "metadata": {},
   "outputs": [
    {
     "name": "stdout",
     "output_type": "stream",
     "text": [
      "1992-05-07 04:55:48\n"
     ]
    }
   ],
   "source": [
    "\n",
    "d1 = datetime.strptime('1/1/1950 12:59 PM', '%m/%d/%Y %I:%M %p')\n",
    "d2 = datetime.strptime('1/1/2022 01:00 AM', '%m/%d/%Y %I:%M %p')\n",
    "print(random_date(d1, d2))  "
   ]
  },
  {
   "cell_type": "code",
   "execution_count": 5,
   "metadata": {},
   "outputs": [],
   "source": [
    "descripciones = [\n",
    "    'Transferencia interbancaria SIMPLE',\n",
    "    'DEB.CTA.P/C.INTERNET',\n",
    "    'Debito Cta por ACH',\n",
    "    'Retiro en efectivo',\n",
    "    'AB.CTA.P/MOVIL',\n",
    "    'Pago en interés',\n",
    "    'Debito Cta por compra',\n",
    "    'Debito Cta por pago de Seguro',\n",
    "    'Retención IVA'\n",
    "]"
   ]
  },
  {
   "cell_type": "markdown",
   "metadata": {},
   "source": [
    "# Creación de índices"
   ]
  },
  {
   "cell_type": "code",
   "execution_count": 6,
   "metadata": {},
   "outputs": [
    {
     "data": {
      "text/plain": [
       "'saldo_1'"
      ]
     },
     "execution_count": 6,
     "metadata": {},
     "output_type": "execute_result"
    }
   ],
   "source": [
    "db.extracto_cuenta.create_index('fecha')\n",
    "db.extracto_cuenta.create_index('agencia')\n",
    "db.extracto_cuenta.create_index('monto')\n",
    "db.extracto_cuenta.create_index('saldo')"
   ]
  },
  {
   "cell_type": "code",
   "execution_count": 7,
   "metadata": {},
   "outputs": [
    {
     "data": {
      "text/plain": [
       "{'_id_': {'v': 2, 'key': [('_id', 1)]},\n",
       " 'fecha_1': {'v': 2, 'key': [('fecha', 1)]},\n",
       " 'agencia_1': {'v': 2, 'key': [('agencia', 1)]},\n",
       " 'monto_1': {'v': 2, 'key': [('monto', 1)]},\n",
       " 'saldo_1': {'v': 2, 'key': [('saldo', 1)]}}"
      ]
     },
     "execution_count": 7,
     "metadata": {},
     "output_type": "execute_result"
    }
   ],
   "source": [
    "db.extracto_cuenta.index_information()"
   ]
  },
  {
   "cell_type": "markdown",
   "metadata": {},
   "source": [
    "# Aproximadamente 100 000 registros"
   ]
  },
  {
   "cell_type": "markdown",
   "metadata": {},
   "source": [
    "## Carga de datos"
   ]
  },
  {
   "cell_type": "markdown",
   "metadata": {},
   "source": [
    "### De forma individual"
   ]
  },
  {
   "cell_type": "code",
   "execution_count": 12,
   "metadata": {},
   "outputs": [
    {
     "name": "stdout",
     "output_type": "stream",
     "text": [
      "Tiempo de carga de datos: 0:00:53.038384\n"
     ]
    }
   ],
   "source": [
    "start_time = time.time()\n",
    "\n",
    "for i in range(50000):\n",
    "    fecha = random_date(d1, d2)\n",
    "    agencia = random.choice(['La Paz', 'Oruro', 'Cochabamba', 'Chuquisaca', 'Pando', 'Beni', 'Santa Cruz', 'Tarija'])\n",
    "    monto = round(random.uniform(10.0, 4000.0), 2)\n",
    "    descripcion = random.choice(descripciones)\n",
    "    saldo = round(random.uniform(0.0, 10000000.0), 2)\n",
    "    nota = lorem.words(randint(1,13))\n",
    "\n",
    "    insert_data = {\n",
    "        'fecha': fecha,\n",
    "        'agencia': agencia,\n",
    "        'monto': monto,\n",
    "        'descripcion': descripcion,\n",
    "        'saldo': saldo,\n",
    "        'nota': nota\n",
    "    }\n",
    "    \n",
    "    db.extracto_cuenta.insert_one(insert_data)\n",
    "\n",
    "\n",
    "end_time = time.time()\n",
    "\n",
    "# Mostramos los resultados en consola\n",
    "print(f'Tiempo de carga de datos: {str(timedelta(seconds = (end_time - start_time)))}')"
   ]
  },
  {
   "cell_type": "markdown",
   "metadata": {},
   "source": [
    "### De forma masiva"
   ]
  },
  {
   "cell_type": "code",
   "execution_count": 13,
   "metadata": {},
   "outputs": [
    {
     "name": "stdout",
     "output_type": "stream",
     "text": [
      "Tiempo de carga de datos: 0:00:02.658961\n"
     ]
    }
   ],
   "source": [
    "insert_data_list = []\n",
    "\n",
    "for i in range(50000):\n",
    "    fecha = random_date(d1, d2)\n",
    "    agencia = random.choice(['La Paz', 'Oruro', 'Cochabamba', 'Chuquisaca', 'Pando', 'Beni', 'Santa Cruz', 'Tarija'])\n",
    "    monto = round(random.uniform(10.0, 4000.0), 2)\n",
    "    descripcion = random.choice(descripciones)\n",
    "    saldo = round(random.uniform(0.0, 10000000.0), 2)\n",
    "    nota = lorem.words(randint(1,13))\n",
    "\n",
    "    insert_data = {\n",
    "        'fecha': fecha,\n",
    "        'agencia': agencia,\n",
    "        'monto': monto,\n",
    "        'descripcion': descripcion,\n",
    "        'saldo': saldo,\n",
    "        'nota': nota\n",
    "    }\n",
    "\n",
    "    insert_data_list.append(insert_data)\n",
    "start_time = time.time()\n",
    "db.extracto_cuenta.insert_many(insert_data_list)\n",
    "end_time = time.time()\n",
    "\n",
    "# Mostramos los resultados en consola\n",
    "print(f'Tiempo de carga de datos: {str(timedelta(seconds = (end_time - start_time)))}')"
   ]
  },
  {
   "cell_type": "markdown",
   "metadata": {},
   "source": [
    "### Un solo dato"
   ]
  },
  {
   "cell_type": "code",
   "execution_count": 14,
   "metadata": {},
   "outputs": [
    {
     "name": "stdout",
     "output_type": "stream",
     "text": [
      "Tiempo de carga de datos: 0:00:00.006146\n"
     ]
    }
   ],
   "source": [
    "start_time = time.time()\n",
    "\n",
    "fecha = random_date(d1, d2)\n",
    "agencia = random.choice(['La Paz', 'Oruro', 'Cochabamba', 'Chuquisaca', 'Pando', 'Beni', 'Santa Cruz', 'Tarija'])\n",
    "monto = round(random.uniform(10.0, 4000.0), 2)\n",
    "descripcion = random.choice(descripciones)\n",
    "saldo = round(random.uniform(0.0, 10000000.0), 2)\n",
    "nota = lorem.words(randint(1,13))\n",
    "\n",
    "insert_data = {\n",
    "    'fecha': fecha,\n",
    "    'agencia': agencia,\n",
    "    'monto': monto,\n",
    "    'descripcion': descripcion,\n",
    "    'saldo': saldo,\n",
    "    'nota': nota\n",
    "}\n",
    "\n",
    "db.extracto_cuenta.insert_one(insert_data)\n",
    "\n",
    "\n",
    "end_time = time.time()\n",
    "\n",
    "# Mostramos los resultados en consola\n",
    "print(f'Tiempo de carga de datos: {str(timedelta(seconds = (end_time - start_time)))}')"
   ]
  },
  {
   "cell_type": "code",
   "execution_count": 15,
   "metadata": {},
   "outputs": [
    {
     "data": {
      "text/plain": [
       "100001"
      ]
     },
     "execution_count": 15,
     "metadata": {},
     "output_type": "execute_result"
    }
   ],
   "source": [
    "db.extracto_cuenta.count_documents({})"
   ]
  },
  {
   "cell_type": "markdown",
   "metadata": {},
   "source": [
    "## Consultas a la base de datos"
   ]
  },
  {
   "cell_type": "markdown",
   "metadata": {},
   "source": [
    "### Búsqueda por fecha y agencia"
   ]
  },
  {
   "cell_type": "code",
   "execution_count": 16,
   "metadata": {},
   "outputs": [],
   "source": [
    "def busqueda_fecha_agencia(month, year, agencia):\n",
    "    from_date_str = f\"{year}-{month}-01\" + \"T00:00:00+00:00\"\n",
    "    to_date_str = f\"{year}-{month}-30\" + \"T23:59:59+00:00\"\n",
    "    from_date = datetime.strptime(from_date_str, '%Y-%m-%dT%H:%M:%S%z')\n",
    "    to_date = datetime.strptime(to_date_str, '%Y-%m-%dT%H:%M:%S%z')\n",
    "    criteria = {\"$and\": [{\"fecha\": {\"$gte\": from_date, \"$lte\": to_date}}, {\"agencia\": f\"{agencia}\"}]}\n",
    "\n",
    "    return db.extracto_cuenta.find(criteria)"
   ]
  },
  {
   "cell_type": "code",
   "execution_count": 17,
   "metadata": {},
   "outputs": [
    {
     "name": "stdout",
     "output_type": "stream",
     "text": [
      "{'_id': ObjectId('6362f247dfb1bb16c3f47e1a'), 'fecha': datetime.datetime(2021, 5, 4, 3, 11, 1), 'agencia': 'La Paz', 'monto': 3637.26, 'descripcion': 'AB.CTA.P/MOVIL', 'saldo': 5861063.82, 'nota': 'neque accusamus saepe'}\n",
      "{'_id': ObjectId('6362f247dfb1bb16c3f43b19'), 'fecha': datetime.datetime(2021, 5, 9, 12, 59, 24), 'agencia': 'La Paz', 'monto': 1541.18, 'descripcion': 'Debito Cta por pago de Seguro', 'saldo': 3735523.28, 'nota': 'corporis necessitatibus praesentium ullam fugit soluta deserunt vel consequuntur odit voluptate reiciendis nihil'}\n",
      "{'_id': ObjectId('6362f21adfb1bb16c3f32872'), 'fecha': datetime.datetime(2021, 5, 9, 23, 35), 'agencia': 'La Paz', 'monto': 577.27, 'descripcion': 'Debito Cta por ACH', 'saldo': 2133135.05, 'nota': 'placeat nostrum doloremque eius vel dolores corporis at'}\n",
      "{'_id': ObjectId('6362f231dfb1bb16c3f38a8b'), 'fecha': datetime.datetime(2021, 5, 12, 21, 28), 'agencia': 'La Paz', 'monto': 2444.37, 'descripcion': 'Pago en interés', 'saldo': 2655960.53, 'nota': 'atque magnam molestiae ipsum laborum a vitae recusandae quod'}\n",
      "{'_id': ObjectId('6362f246dfb1bb16c3f4026e'), 'fecha': datetime.datetime(2021, 5, 15, 11, 17, 15), 'agencia': 'La Paz', 'monto': 3733.64, 'descripcion': 'Debito Cta por pago de Seguro', 'saldo': 9318653.26, 'nota': 'expedita repudiandae temporibus tempore qui deleniti molestias nam'}\n",
      "{'_id': ObjectId('6362f223dfb1bb16c3f351cc'), 'fecha': datetime.datetime(2021, 5, 16, 11, 2, 10), 'agencia': 'La Paz', 'monto': 2082.61, 'descripcion': 'Retiro en efectivo', 'saldo': 4536510.78, 'nota': 'et tempore quasi doloremque hic laboriosam voluptas sint'}\n",
      "{'_id': ObjectId('6362f21bdfb1bb16c3f32e81'), 'fecha': datetime.datetime(2021, 5, 17, 20, 32, 42), 'agencia': 'La Paz', 'monto': 348.31, 'descripcion': 'AB.CTA.P/MOVIL', 'saldo': 7234527.25, 'nota': 'quod beatae accusamus nisi ducimus odio in quisquam reprehenderit ratione a'}\n",
      "{'_id': ObjectId('6362f20fdfb1bb16c3f3040e'), 'fecha': datetime.datetime(2021, 5, 18, 23, 45, 29), 'agencia': 'La Paz', 'monto': 549.84, 'descripcion': 'Transferencia interbancaria SIMPLE', 'saldo': 87110.95, 'nota': 'error provident'}\n",
      "{'_id': ObjectId('6362f21ddfb1bb16c3f3340d'), 'fecha': datetime.datetime(2021, 5, 19, 1, 58, 51), 'agencia': 'La Paz', 'monto': 3500.39, 'descripcion': 'Debito Cta por pago de Seguro', 'saldo': 4902045.27, 'nota': 'ipsa aperiam'}\n",
      "{'_id': ObjectId('6362f23ddfb1bb16c3f3ad31'), 'fecha': datetime.datetime(2021, 5, 23, 23, 57, 31), 'agencia': 'La Paz', 'monto': 955.37, 'descripcion': 'Debito Cta por ACH', 'saldo': 7491453.97, 'nota': 'error quia'}\n",
      "============================================================================================================================================================================================================================================================================================================\n",
      "En un tiempo de 0:00:00.003117\n",
      "Llaves examinadas 89\n",
      "Documentos examinados 89\n"
     ]
    }
   ],
   "source": [
    "start_time = time.time()\n",
    "results = busqueda_fecha_agencia(month=5, year = 2021, agencia = \"La Paz\")\n",
    "end_time = time.time()\n",
    "\n",
    "for result in results[:10]:\n",
    "    print(result)\n",
    "    \n",
    "\n",
    "print(\"=\"*300)\n",
    "print(f\"En un tiempo de {str(timedelta(seconds = (end_time - start_time)))}\")\n",
    "print(f\"Llaves examinadas {results.explain()['executionStats']['totalKeysExamined']}\")\n",
    "print(f\"Documentos examinados {results.explain()['executionStats']['totalDocsExamined']}\")\n"
   ]
  },
  {
   "cell_type": "markdown",
   "metadata": {},
   "source": [
    "### Búsqueda por montos mayores a determinado número y agencia"
   ]
  },
  {
   "cell_type": "code",
   "execution_count": 18,
   "metadata": {},
   "outputs": [],
   "source": [
    "def busqueda_monto_mayor(monto, agencia):\n",
    "    criteria = {\"$and\": [{\"monto\": {\"$gte\": monto}}, {\"agencia\": agencia}]}\n",
    "\n",
    "    return db.extracto_cuenta.find(criteria)"
   ]
  },
  {
   "cell_type": "code",
   "execution_count": 19,
   "metadata": {},
   "outputs": [
    {
     "name": "stdout",
     "output_type": "stream",
     "text": [
      "{'_id': ObjectId('6362f20fdfb1bb16c3f303ac'), 'fecha': datetime.datetime(2005, 4, 17, 19, 14, 35), 'agencia': 'Cochabamba', 'monto': 3206.88, 'descripcion': 'Transferencia interbancaria SIMPLE', 'saldo': 8784823.11, 'nota': 'ratione corporis sint labore sapiente fuga'}\n",
      "{'_id': ObjectId('6362f210dfb1bb16c3f3042b'), 'fecha': datetime.datetime(1968, 3, 20, 22, 59, 17), 'agencia': 'Cochabamba', 'monto': 3955.64, 'descripcion': 'Debito Cta por pago de Seguro', 'saldo': 6925027.44, 'nota': 'eos'}\n",
      "{'_id': ObjectId('6362f210dfb1bb16c3f3044d'), 'fecha': datetime.datetime(1984, 6, 2, 16, 33, 40), 'agencia': 'Cochabamba', 'monto': 3035.53, 'descripcion': 'Retiro en efectivo', 'saldo': 8791310.64, 'nota': 'a nam aliquid'}\n",
      "{'_id': ObjectId('6362f210dfb1bb16c3f30463'), 'fecha': datetime.datetime(1997, 4, 17, 9, 10, 22), 'agencia': 'Cochabamba', 'monto': 3882.39, 'descripcion': 'Debito Cta por compra', 'saldo': 3890252.57, 'nota': 'soluta molestias architecto quam voluptate illo'}\n",
      "{'_id': ObjectId('6362f210dfb1bb16c3f3048a'), 'fecha': datetime.datetime(1987, 5, 23, 3, 22, 44), 'agencia': 'Cochabamba', 'monto': 3065.18, 'descripcion': 'Debito Cta por pago de Seguro', 'saldo': 8912637.29, 'nota': 'soluta accusamus blanditiis commodi'}\n",
      "{'_id': ObjectId('6362f210dfb1bb16c3f3048d'), 'fecha': datetime.datetime(1983, 12, 4, 13, 30, 33), 'agencia': 'Cochabamba', 'monto': 3615.16, 'descripcion': 'Debito Cta por pago de Seguro', 'saldo': 4657811.52, 'nota': 'facere et consequuntur labore culpa ex neque minus iste dignissimos'}\n",
      "{'_id': ObjectId('6362f210dfb1bb16c3f30520'), 'fecha': datetime.datetime(2012, 7, 4, 4, 35, 38), 'agencia': 'Cochabamba', 'monto': 3292.16, 'descripcion': 'Retiro en efectivo', 'saldo': 8579380.33, 'nota': 'accusamus quos error dolores temporibus nulla odit'}\n",
      "{'_id': ObjectId('6362f210dfb1bb16c3f3052e'), 'fecha': datetime.datetime(1991, 11, 2, 7, 49, 44), 'agencia': 'Cochabamba', 'monto': 3872.79, 'descripcion': 'Pago en interés', 'saldo': 2076941.75, 'nota': 'incidunt nihil ipsa assumenda reprehenderit nemo expedita tempora aut'}\n",
      "{'_id': ObjectId('6362f210dfb1bb16c3f30535'), 'fecha': datetime.datetime(1972, 4, 24, 6, 36, 15), 'agencia': 'Cochabamba', 'monto': 3245.79, 'descripcion': 'Transferencia interbancaria SIMPLE', 'saldo': 3536288.57, 'nota': 'maxime labore atque veritatis ut'}\n",
      "{'_id': ObjectId('6362f210dfb1bb16c3f3053c'), 'fecha': datetime.datetime(2007, 9, 4, 23, 4, 57), 'agencia': 'Cochabamba', 'monto': 3706.04, 'descripcion': 'Pago en interés', 'saldo': 2077139.55, 'nota': 'qui earum'}\n",
      "============================================================================================================================================================================================================================================================================================================\n",
      "En un tiempo de 0:00:00.000309\n",
      "Llaves examinadas 44\n",
      "Documentos examinados 44\n"
     ]
    }
   ],
   "source": [
    "start_time = time.time()\n",
    "results =  busqueda_monto_mayor(monto=3000, agencia = \"Cochabamba\")\n",
    "end_time = time.time()\n",
    "\n",
    "for result in results[:10]:\n",
    "    print(result)\n",
    "    \n",
    "#print(f\"Se encontraron {results.count()} registros\")\n",
    "print(\"=\"*300)\n",
    "print(f\"En un tiempo de {str(timedelta(seconds = (end_time - start_time)))}\")\n",
    "print(f\"Llaves examinadas {results.explain()['executionStats']['totalKeysExamined']}\")\n",
    "print(f\"Documentos examinados {results.explain()['executionStats']['totalDocsExamined']}\")\n"
   ]
  },
  {
   "cell_type": "markdown",
   "metadata": {},
   "source": [
    "### Búsqueda considerando varios campos"
   ]
  },
  {
   "cell_type": "code",
   "execution_count": 20,
   "metadata": {},
   "outputs": [],
   "source": [
    "def busqueda_compleja(saldo_min, saldo_max, agencia1, agencia2, descripcion):\n",
    "    criteria = {\n",
    "        \"$and\": [\n",
    "            {\"$or\": [{\"agencia\": agencia1}, {\"agencia\": agencia2}]},\n",
    "            {\"saldo\": {\"$gte\": saldo_min, \"$lte\": saldo_max}},\n",
    "            {\"descripcion\": descripcion}\n",
    "        ]}\n",
    "\n",
    "    return db.extracto_cuenta.find(criteria)"
   ]
  },
  {
   "cell_type": "code",
   "execution_count": 21,
   "metadata": {},
   "outputs": [
    {
     "name": "stdout",
     "output_type": "stream",
     "text": [
      "{'_id': ObjectId('6362f210dfb1bb16c3f30432'), 'fecha': datetime.datetime(1988, 5, 9, 10, 51, 15), 'agencia': 'Cochabamba', 'monto': 1422.29, 'descripcion': 'DEB.CTA.P/C.INTERNET', 'saldo': 7991765.85, 'nota': 'nobis illo'}\n",
      "{'_id': ObjectId('6362f210dfb1bb16c3f304e4'), 'fecha': datetime.datetime(1958, 6, 8, 23, 57, 4), 'agencia': 'Cochabamba', 'monto': 2835.41, 'descripcion': 'DEB.CTA.P/C.INTERNET', 'saldo': 7343992.88, 'nota': 'libero necessitatibus iste laborum non eius sed perferendis'}\n",
      "{'_id': ObjectId('6362f210dfb1bb16c3f3056f'), 'fecha': datetime.datetime(1961, 3, 16, 5, 52, 36), 'agencia': 'Cochabamba', 'monto': 2402.72, 'descripcion': 'DEB.CTA.P/C.INTERNET', 'saldo': 7006187.04, 'nota': 'praesentium rem numquam mollitia'}\n",
      "{'_id': ObjectId('6362f210dfb1bb16c3f305fb'), 'fecha': datetime.datetime(2021, 10, 28, 17, 54, 44), 'agencia': 'Cochabamba', 'monto': 3515.16, 'descripcion': 'DEB.CTA.P/C.INTERNET', 'saldo': 636238.03, 'nota': 'possimus reiciendis'}\n",
      "{'_id': ObjectId('6362f210dfb1bb16c3f30644'), 'fecha': datetime.datetime(2010, 4, 2, 17, 4, 52), 'agencia': 'Cochabamba', 'monto': 1305.04, 'descripcion': 'DEB.CTA.P/C.INTERNET', 'saldo': 9025663.84, 'nota': 'quaerat accusamus dolore quos voluptates nobis'}\n",
      "{'_id': ObjectId('6362f210dfb1bb16c3f3067e'), 'fecha': datetime.datetime(1962, 3, 9, 20, 30, 14), 'agencia': 'Cochabamba', 'monto': 1729.66, 'descripcion': 'DEB.CTA.P/C.INTERNET', 'saldo': 6015798.78, 'nota': 'asperiores harum modi voluptas commodi eligendi adipisci assumenda voluptatem eius ipsam doloremque voluptatibus'}\n",
      "{'_id': ObjectId('6362f210dfb1bb16c3f306af'), 'fecha': datetime.datetime(1955, 1, 10, 11, 8, 21), 'agencia': 'Cochabamba', 'monto': 572.84, 'descripcion': 'DEB.CTA.P/C.INTERNET', 'saldo': 6030509.53, 'nota': 'harum'}\n",
      "{'_id': ObjectId('6362f210dfb1bb16c3f306b6'), 'fecha': datetime.datetime(1970, 2, 18, 18, 10, 45), 'agencia': 'Cochabamba', 'monto': 90.51, 'descripcion': 'DEB.CTA.P/C.INTERNET', 'saldo': 2489437.76, 'nota': 'dolorem cumque'}\n",
      "{'_id': ObjectId('6362f211dfb1bb16c3f30724'), 'fecha': datetime.datetime(1976, 12, 20, 9, 36, 2), 'agencia': 'Cochabamba', 'monto': 2712.45, 'descripcion': 'DEB.CTA.P/C.INTERNET', 'saldo': 9109680.98, 'nota': 'blanditiis'}\n",
      "{'_id': ObjectId('6362f211dfb1bb16c3f30835'), 'fecha': datetime.datetime(1956, 4, 22, 13, 33, 48), 'agencia': 'Cochabamba', 'monto': 1304.6, 'descripcion': 'DEB.CTA.P/C.INTERNET', 'saldo': 484529.13, 'nota': 'provident'}\n",
      "============================================================================================================================================================================================================================================================================================================\n",
      "En un tiempo de 0:00:00.001024\n",
      "Llaves examinadas 132\n",
      "Documentos examinados 132\n"
     ]
    }
   ],
   "source": [
    "start_time = time.time()\n",
    "results = busqueda_compleja(saldo_min=1000, saldo_max=100000000, agencia1=\"Cochabamba\", agencia2=\"Santa Cruz\", descripcion=\"DEB.CTA.P/C.INTERNET\")\n",
    "end_time = time.time()\n",
    "\n",
    "for result in results[:10]:\n",
    "    print(result)\n",
    "    \n",
    "#print(f\"Se encontraron {results.count()} registros\")\n",
    "print(\"=\"*300)\n",
    "print(f\"En un tiempo de {str(timedelta(seconds = (end_time - start_time)))}\")\n",
    "print(f\"Llaves examinadas {results.explain()['executionStats']['totalKeysExamined']}\")\n",
    "print(f\"Documentos examinados {results.explain()['executionStats']['totalDocsExamined']}\")\n"
   ]
  },
  {
   "cell_type": "markdown",
   "metadata": {},
   "source": [
    "### Agregaciones: Monto promedio por agencia"
   ]
  },
  {
   "cell_type": "code",
   "execution_count": 22,
   "metadata": {},
   "outputs": [],
   "source": [
    "def promedio_monto_agencia(agencia):\n",
    "    criteria = [\n",
    "        {\n",
    "        \"$group\" : \n",
    "            {\"_id\" : {\"agencia\" : f\"{agencia}\"},  \n",
    "            \"Monto promedio\" : {\"$avg\" : \"$monto\"}\n",
    "            }\n",
    "        }\n",
    "     ]\n",
    "\n",
    "    return db.extracto_cuenta.aggregate(criteria)"
   ]
  },
  {
   "cell_type": "code",
   "execution_count": 23,
   "metadata": {},
   "outputs": [
    {
     "name": "stdout",
     "output_type": "stream",
     "text": [
      "{'_id': {'agencia': 'La Paz'}, 'Monto promedio': 2003.2067002329975}\n",
      "============================================================================================================================================================================================================================================================================================================\n",
      "En un tiempo de 0:00:00.295489\n"
     ]
    }
   ],
   "source": [
    "start_time = time.time()\n",
    "results =  promedio_monto_agencia(agencia=\"La Paz\")\n",
    "end_time = time.time()\n",
    "\n",
    "for i in results:\n",
    "    print(i)\n",
    "    \n",
    "#print(f\"Se encontraron {results.count()} registros\")\n",
    "print(\"=\"*300)\n",
    "print(f\"En un tiempo de {str(timedelta(seconds = (end_time - start_time)))}\")"
   ]
  },
  {
   "cell_type": "markdown",
   "metadata": {},
   "source": [
    "## Actualización de datos"
   ]
  },
  {
   "cell_type": "code",
   "execution_count": 24,
   "metadata": {},
   "outputs": [],
   "source": [
    "def actualizacion_fecha_monto(min_date, max_date, monto):\n",
    "    from_date_str = min_date + \"T00:00:00+00:00\"\n",
    "    to_date_str = max_date + \"T23:59:59+00:00\"\n",
    "    from_date = datetime.strptime(from_date_str, '%Y-%m-%dT%H:%M:%S%z')\n",
    "    to_date = datetime.strptime(to_date_str, '%Y-%m-%dT%H:%M:%S%z')\n",
    "    \n",
    "    criteria = {\"$and\": [{\"fecha\": {\"$gte\": from_date, \"$lte\": to_date}}]}\n",
    "    new = {\"$set\": { \"monto\" : monto, \"nota\": \"Monto actualizado por fecha\"}}\n",
    "\n",
    "    return db.extracto_cuenta.update_many(criteria, new)"
   ]
  },
  {
   "cell_type": "code",
   "execution_count": 25,
   "metadata": {},
   "outputs": [
    {
     "data": {
      "text/plain": [
       "136"
      ]
     },
     "execution_count": 25,
     "metadata": {},
     "output_type": "execute_result"
    }
   ],
   "source": [
    "from_date_str = \"2021-01-01\" + \"T00:00:00+00:00\"\n",
    "to_date_str = \"2021-01-31\" + \"T23:59:59+00:00\"\n",
    "from_date = datetime.strptime(from_date_str, '%Y-%m-%dT%H:%M:%S%z')\n",
    "to_date = datetime.strptime(to_date_str, '%Y-%m-%dT%H:%M:%S%z')\n",
    "db.extracto_cuenta.count_documents({\"$and\": [{\"fecha\": {\"$gte\": from_date}}, {\"fecha\": {\"$lte\": to_date}}]})"
   ]
  },
  {
   "cell_type": "code",
   "execution_count": 26,
   "metadata": {},
   "outputs": [
    {
     "name": "stdout",
     "output_type": "stream",
     "text": [
      "136\n",
      "En un tiempo de 0:00:00.022670\n"
     ]
    }
   ],
   "source": [
    "start_time = time.time()\n",
    "results = actualizacion_fecha_monto(min_date = \"2021-01-01\", max_date = \"2021-01-31\", monto = 7000)\n",
    "end_time = time.time()\n",
    "\n",
    "\n",
    "print(results.modified_count)\n",
    "print(f\"En un tiempo de {str(timedelta(seconds = (end_time - start_time)))}\")"
   ]
  },
  {
   "cell_type": "code",
   "execution_count": 27,
   "metadata": {},
   "outputs": [
    {
     "name": "stdout",
     "output_type": "stream",
     "text": [
      "{'_id': ObjectId('6362f247dfb1bb16c3f4858d'), 'fecha': datetime.datetime(2021, 1, 1, 0, 34, 4), 'agencia': 'Tarija', 'monto': 7000, 'descripcion': 'Debito Cta por ACH', 'saldo': 4109593.14, 'nota': 'Monto actualizado por fecha'}\n",
      "{'_id': ObjectId('6362f247dfb1bb16c3f42212'), 'fecha': datetime.datetime(2021, 1, 1, 8, 19, 58), 'agencia': 'Cochabamba', 'monto': 7000, 'descripcion': 'Retención IVA', 'saldo': 5930967.31, 'nota': 'Monto actualizado por fecha'}\n",
      "{'_id': ObjectId('6362f246dfb1bb16c3f4059c'), 'fecha': datetime.datetime(2021, 1, 1, 14, 11, 20), 'agencia': 'Tarija', 'monto': 7000, 'descripcion': 'Debito Cta por ACH', 'saldo': 1329299.07, 'nota': 'Monto actualizado por fecha'}\n",
      "{'_id': ObjectId('6362f22ddfb1bb16c3f37f7c'), 'fecha': datetime.datetime(2021, 1, 1, 16, 15, 46), 'agencia': 'Tarija', 'monto': 7000, 'descripcion': 'Transferencia interbancaria SIMPLE', 'saldo': 1371073.32, 'nota': 'Monto actualizado por fecha'}\n",
      "{'_id': ObjectId('6362f247dfb1bb16c3f46e3b'), 'fecha': datetime.datetime(2021, 1, 2, 7, 13, 55), 'agencia': 'Santa Cruz', 'monto': 7000, 'descripcion': 'Debito Cta por compra', 'saldo': 7300609.46, 'nota': 'Monto actualizado por fecha'}\n",
      "{'_id': ObjectId('6362f216dfb1bb16c3f31849'), 'fecha': datetime.datetime(2021, 1, 2, 18, 45, 2), 'agencia': 'La Paz', 'monto': 7000, 'descripcion': 'AB.CTA.P/MOVIL', 'saldo': 8098426.29, 'nota': 'Monto actualizado por fecha'}\n",
      "{'_id': ObjectId('6362f215dfb1bb16c3f313bc'), 'fecha': datetime.datetime(2021, 1, 2, 21, 42, 59), 'agencia': 'Chuquisaca', 'monto': 7000, 'descripcion': 'Transferencia interbancaria SIMPLE', 'saldo': 3830596.74, 'nota': 'Monto actualizado por fecha'}\n",
      "{'_id': ObjectId('6362f231dfb1bb16c3f38aac'), 'fecha': datetime.datetime(2021, 1, 3, 5, 2, 44), 'agencia': 'Beni', 'monto': 7000, 'descripcion': 'Transferencia interbancaria SIMPLE', 'saldo': 4472272.25, 'nota': 'Monto actualizado por fecha'}\n",
      "{'_id': ObjectId('6362f211dfb1bb16c3f3084a'), 'fecha': datetime.datetime(2021, 1, 3, 12, 48, 7), 'agencia': 'La Paz', 'monto': 7000, 'descripcion': 'Debito Cta por ACH', 'saldo': 7211416.25, 'nota': 'Monto actualizado por fecha'}\n",
      "{'_id': ObjectId('6362f247dfb1bb16c3f43aac'), 'fecha': datetime.datetime(2021, 1, 3, 13, 1, 42), 'agencia': 'Tarija', 'monto': 7000, 'descripcion': 'AB.CTA.P/MOVIL', 'saldo': 4179101.28, 'nota': 'Monto actualizado por fecha'}\n"
     ]
    }
   ],
   "source": [
    "results = db.extracto_cuenta.find({\"$and\": [{\"fecha\": {\"$gte\": from_date}}, {\"fecha\": {\"$lte\": to_date}}]})\n",
    "\n",
    "for result in results[:10]:\n",
    "    print(result)"
   ]
  },
  {
   "cell_type": "markdown",
   "metadata": {},
   "source": [
    "## Eliminar datos"
   ]
  },
  {
   "cell_type": "code",
   "execution_count": 28,
   "metadata": {},
   "outputs": [],
   "source": [
    "def eliminar_saldo_min(saldo_min):\n",
    "    return db.extracto_cuenta.delete_many(\n",
    "        {\"saldo\": {\"$lte\": saldo_min}}\n",
    ")"
   ]
  },
  {
   "cell_type": "code",
   "execution_count": 32,
   "metadata": {},
   "outputs": [
    {
     "name": "stdout",
     "output_type": "stream",
     "text": [
      "2\n",
      "En un tiempo de 0:00:00.002253\n"
     ]
    }
   ],
   "source": [
    "start_time = time.time()\n",
    "results = eliminar_saldo_min(saldo_min= 500)\n",
    "end_time = time.time()\n",
    "\n",
    "print(results.deleted_count)\n",
    "print(f\"En un tiempo de {str(timedelta(seconds = (end_time - start_time)))}\")"
   ]
  },
  {
   "cell_type": "code",
   "execution_count": 35,
   "metadata": {},
   "outputs": [
    {
     "name": "stdout",
     "output_type": "stream",
     "text": [
      "0\n"
     ]
    }
   ],
   "source": [
    "results = db.extracto_cuenta.count_documents({\"saldo\": {\"$lte\": 500}})\n",
    "print(results)"
   ]
  },
  {
   "cell_type": "markdown",
   "metadata": {},
   "source": [
    "# Más de 10 millones de documentos"
   ]
  },
  {
   "cell_type": "markdown",
   "metadata": {},
   "source": [
    "## Carga de datos"
   ]
  },
  {
   "cell_type": "code",
   "execution_count": 36,
   "metadata": {},
   "outputs": [
    {
     "name": "stdout",
     "output_type": "stream",
     "text": [
      "Tiempo de carga de datos: 0:14:02.773019\n"
     ]
    }
   ],
   "source": [
    "insert_data_list = []\n",
    "\n",
    "for _ in range(10000000):\n",
    "    fecha = random_date(d1, d2)\n",
    "    agencia = random.choice(['La Paz', 'Oruro', 'Cochabamba', 'Chuquisaca', 'Pando', 'Beni', 'Santa Cruz', 'Tarija'])\n",
    "    monto = round(random.uniform(10.0, 4000.0), 2)\n",
    "    descripcion = random.choice(descripciones)\n",
    "    saldo = round(random.uniform(0.0, 10000000.0), 2)\n",
    "    nota = lorem.words(randint(1,13))\n",
    "\n",
    "    insert_data = {\n",
    "        'fecha': fecha,\n",
    "        'agencia': agencia,\n",
    "        'monto': monto,\n",
    "        'descripcion': descripcion,\n",
    "        'saldo': saldo,\n",
    "        'nota': nota\n",
    "    }\n",
    "\n",
    "    insert_data_list.append(insert_data)\n",
    "\n",
    "start_time = time.time()\n",
    "db.extracto_cuenta.insert_many(insert_data_list)\n",
    "end_time = time.time()\n",
    "\n",
    "# Mostramos los resultados en consola\n",
    "print(f'Tiempo de carga de datos: {str(timedelta(seconds = (end_time - start_time)))}')"
   ]
  },
  {
   "cell_type": "code",
   "execution_count": 41,
   "metadata": {},
   "outputs": [
    {
     "data": {
      "text/plain": [
       "10099999"
      ]
     },
     "execution_count": 41,
     "metadata": {},
     "output_type": "execute_result"
    }
   ],
   "source": [
    "db.extracto_cuenta.count_documents({})"
   ]
  },
  {
   "cell_type": "markdown",
   "metadata": {},
   "source": [
    "## Consultas a la base de datos"
   ]
  },
  {
   "cell_type": "markdown",
   "metadata": {},
   "source": [
    "### Búsqueda por fecha y agencia"
   ]
  },
  {
   "cell_type": "code",
   "execution_count": 42,
   "metadata": {},
   "outputs": [
    {
     "name": "stdout",
     "output_type": "stream",
     "text": [
      "{'_id': ObjectId('6362f408dfb1bb16c30085db'), 'fecha': datetime.datetime(2021, 5, 1, 0, 32, 8), 'agencia': 'La Paz', 'monto': 1593.08, 'descripcion': 'Pago en interés', 'saldo': 1748212.41, 'nota': 'culpa nesciunt ullam voluptatem iusto ut pariatur est soluta'}\n",
      "{'_id': ObjectId('6362f46fdfb1bb16c36e2ca1'), 'fecha': datetime.datetime(2021, 5, 1, 0, 45, 18), 'agencia': 'La Paz', 'monto': 3120.46, 'descripcion': 'Retención IVA', 'saldo': 767001.15, 'nota': 'est maxime voluptatum'}\n",
      "{'_id': ObjectId('6362f48adfb1bb16c38a9d4d'), 'fecha': datetime.datetime(2021, 5, 1, 1, 42, 49), 'agencia': 'La Paz', 'monto': 2430.24, 'descripcion': 'Debito Cta por pago de Seguro', 'saldo': 6926855.31, 'nota': 'fuga assumenda minus beatae explicabo'}\n",
      "{'_id': ObjectId('6362f44cdfb1bb16c34bafcf'), 'fecha': datetime.datetime(2021, 5, 1, 2, 33, 53), 'agencia': 'La Paz', 'monto': 3719.4, 'descripcion': 'Debito Cta por ACH', 'saldo': 8994399.68, 'nota': 'veritatis impedit rem necessitatibus quaerat minus unde placeat ex nobis dolor in suscipit'}\n",
      "{'_id': ObjectId('6362f412dfb1bb16c30c002c'), 'fecha': datetime.datetime(2021, 5, 1, 2, 49, 30), 'agencia': 'La Paz', 'monto': 3246.13, 'descripcion': 'Transferencia interbancaria SIMPLE', 'saldo': 1730809.39, 'nota': 'iusto sunt fuga ratione vero esse corporis est omnis iste eius'}\n",
      "{'_id': ObjectId('6362f43adfb1bb16c3361b66'), 'fecha': datetime.datetime(2021, 5, 1, 3, 18, 38), 'agencia': 'La Paz', 'monto': 2011.31, 'descripcion': 'Retiro en efectivo', 'saldo': 3841493.24, 'nota': 'odit doloremque quis quam alias temporibus vel a quas'}\n",
      "{'_id': ObjectId('6362f405dfb1bb16c3fe5cb0'), 'fecha': datetime.datetime(2021, 5, 1, 3, 44, 23), 'agencia': 'La Paz', 'monto': 343.26, 'descripcion': 'DEB.CTA.P/C.INTERNET', 'saldo': 3413731.06, 'nota': 'a officia officiis culpa nobis laboriosam voluptatem'}\n",
      "{'_id': ObjectId('6362f43cdfb1bb16c33920cb'), 'fecha': datetime.datetime(2021, 5, 1, 3, 54, 3), 'agencia': 'La Paz', 'monto': 3245.52, 'descripcion': 'Retención IVA', 'saldo': 8815722.18, 'nota': 'perspiciatis expedita impedit obcaecati soluta est quasi enim rem inventore tempora'}\n",
      "{'_id': ObjectId('6362f459dfb1bb16c356c755'), 'fecha': datetime.datetime(2021, 5, 1, 3, 58, 18), 'agencia': 'La Paz', 'monto': 3064.57, 'descripcion': 'Debito Cta por pago de Seguro', 'saldo': 6242667.65, 'nota': 'quae harum'}\n",
      "{'_id': ObjectId('6362f417dfb1bb16c311cdc2'), 'fecha': datetime.datetime(2021, 5, 1, 4, 1, 18), 'agencia': 'La Paz', 'monto': 3746.11, 'descripcion': 'AB.CTA.P/MOVIL', 'saldo': 8255871.0, 'nota': 'veritatis similique cupiditate asperiores totam facilis accusamus mollitia saepe pariatur'}\n",
      "============================================================================================================================================================================================================================================================================================================\n",
      "En un tiempo de 0:00:00.000814\n",
      "Llaves examinadas 75\n",
      "Documentos examinados 75\n"
     ]
    }
   ],
   "source": [
    "start_time = time.time()\n",
    "results = busqueda_fecha_agencia(month=5, year = 2021, agencia = \"La Paz\")\n",
    "end_time = time.time()\n",
    "\n",
    "for result in results[:10]:\n",
    "    print(result)\n",
    "    \n",
    "\n",
    "print(\"=\"*300)\n",
    "print(f\"En un tiempo de {str(timedelta(seconds = (end_time - start_time)))}\")\n",
    "print(f\"Llaves examinadas {results.explain()['executionStats']['totalKeysExamined']}\")\n",
    "print(f\"Documentos examinados {results.explain()['executionStats']['totalDocsExamined']}\")\n"
   ]
  },
  {
   "cell_type": "markdown",
   "metadata": {},
   "source": [
    "### Búsqueda por montos mayores a determinado número y agencia"
   ]
  },
  {
   "cell_type": "code",
   "execution_count": 43,
   "metadata": {},
   "outputs": [
    {
     "name": "stdout",
     "output_type": "stream",
     "text": [
      "{'_id': ObjectId('6362f20fdfb1bb16c3f303ac'), 'fecha': datetime.datetime(2005, 4, 17, 19, 14, 35), 'agencia': 'Cochabamba', 'monto': 3206.88, 'descripcion': 'Transferencia interbancaria SIMPLE', 'saldo': 8784823.11, 'nota': 'ratione corporis sint labore sapiente fuga'}\n",
      "{'_id': ObjectId('6362f210dfb1bb16c3f3042b'), 'fecha': datetime.datetime(1968, 3, 20, 22, 59, 17), 'agencia': 'Cochabamba', 'monto': 3955.64, 'descripcion': 'Debito Cta por pago de Seguro', 'saldo': 6925027.44, 'nota': 'eos'}\n",
      "{'_id': ObjectId('6362f210dfb1bb16c3f3044d'), 'fecha': datetime.datetime(1984, 6, 2, 16, 33, 40), 'agencia': 'Cochabamba', 'monto': 3035.53, 'descripcion': 'Retiro en efectivo', 'saldo': 8791310.64, 'nota': 'a nam aliquid'}\n",
      "{'_id': ObjectId('6362f210dfb1bb16c3f30463'), 'fecha': datetime.datetime(1997, 4, 17, 9, 10, 22), 'agencia': 'Cochabamba', 'monto': 3882.39, 'descripcion': 'Debito Cta por compra', 'saldo': 3890252.57, 'nota': 'soluta molestias architecto quam voluptate illo'}\n",
      "{'_id': ObjectId('6362f210dfb1bb16c3f3048a'), 'fecha': datetime.datetime(1987, 5, 23, 3, 22, 44), 'agencia': 'Cochabamba', 'monto': 3065.18, 'descripcion': 'Debito Cta por pago de Seguro', 'saldo': 8912637.29, 'nota': 'soluta accusamus blanditiis commodi'}\n",
      "{'_id': ObjectId('6362f210dfb1bb16c3f3048d'), 'fecha': datetime.datetime(1983, 12, 4, 13, 30, 33), 'agencia': 'Cochabamba', 'monto': 3615.16, 'descripcion': 'Debito Cta por pago de Seguro', 'saldo': 4657811.52, 'nota': 'facere et consequuntur labore culpa ex neque minus iste dignissimos'}\n",
      "{'_id': ObjectId('6362f210dfb1bb16c3f30520'), 'fecha': datetime.datetime(2012, 7, 4, 4, 35, 38), 'agencia': 'Cochabamba', 'monto': 3292.16, 'descripcion': 'Retiro en efectivo', 'saldo': 8579380.33, 'nota': 'accusamus quos error dolores temporibus nulla odit'}\n",
      "{'_id': ObjectId('6362f210dfb1bb16c3f3052e'), 'fecha': datetime.datetime(1991, 11, 2, 7, 49, 44), 'agencia': 'Cochabamba', 'monto': 3872.79, 'descripcion': 'Pago en interés', 'saldo': 2076941.75, 'nota': 'incidunt nihil ipsa assumenda reprehenderit nemo expedita tempora aut'}\n",
      "{'_id': ObjectId('6362f210dfb1bb16c3f30535'), 'fecha': datetime.datetime(1972, 4, 24, 6, 36, 15), 'agencia': 'Cochabamba', 'monto': 3245.79, 'descripcion': 'Transferencia interbancaria SIMPLE', 'saldo': 3536288.57, 'nota': 'maxime labore atque veritatis ut'}\n",
      "{'_id': ObjectId('6362f210dfb1bb16c3f3053c'), 'fecha': datetime.datetime(2007, 9, 4, 23, 4, 57), 'agencia': 'Cochabamba', 'monto': 3706.04, 'descripcion': 'Pago en interés', 'saldo': 2077139.55, 'nota': 'qui earum'}\n",
      "============================================================================================================================================================================================================================================================================================================\n",
      "En un tiempo de 0:00:00.000395\n",
      "Llaves examinadas 44\n",
      "Documentos examinados 44\n"
     ]
    }
   ],
   "source": [
    "start_time = time.time()\n",
    "results =  busqueda_monto_mayor(monto=3000, agencia = \"Cochabamba\")\n",
    "end_time = time.time()\n",
    "\n",
    "for result in results[:10]:\n",
    "    print(result)\n",
    "    \n",
    "#print(f\"Se encontraron {results.count()} registros\")\n",
    "print(\"=\"*300)\n",
    "print(f\"En un tiempo de {str(timedelta(seconds = (end_time - start_time)))}\")\n",
    "print(f\"Llaves examinadas {results.explain()['executionStats']['totalKeysExamined']}\")\n",
    "print(f\"Documentos examinados {results.explain()['executionStats']['totalDocsExamined']}\")\n"
   ]
  },
  {
   "cell_type": "markdown",
   "metadata": {},
   "source": [
    "### Búsqueda considerando varios campos"
   ]
  },
  {
   "cell_type": "code",
   "execution_count": 44,
   "metadata": {},
   "outputs": [
    {
     "name": "stdout",
     "output_type": "stream",
     "text": [
      "{'_id': ObjectId('6362f210dfb1bb16c3f30432'), 'fecha': datetime.datetime(1988, 5, 9, 10, 51, 15), 'agencia': 'Cochabamba', 'monto': 1422.29, 'descripcion': 'DEB.CTA.P/C.INTERNET', 'saldo': 7991765.85, 'nota': 'nobis illo'}\n",
      "{'_id': ObjectId('6362f210dfb1bb16c3f304e4'), 'fecha': datetime.datetime(1958, 6, 8, 23, 57, 4), 'agencia': 'Cochabamba', 'monto': 2835.41, 'descripcion': 'DEB.CTA.P/C.INTERNET', 'saldo': 7343992.88, 'nota': 'libero necessitatibus iste laborum non eius sed perferendis'}\n",
      "{'_id': ObjectId('6362f210dfb1bb16c3f3056f'), 'fecha': datetime.datetime(1961, 3, 16, 5, 52, 36), 'agencia': 'Cochabamba', 'monto': 2402.72, 'descripcion': 'DEB.CTA.P/C.INTERNET', 'saldo': 7006187.04, 'nota': 'praesentium rem numquam mollitia'}\n",
      "{'_id': ObjectId('6362f210dfb1bb16c3f305fb'), 'fecha': datetime.datetime(2021, 10, 28, 17, 54, 44), 'agencia': 'Cochabamba', 'monto': 3515.16, 'descripcion': 'DEB.CTA.P/C.INTERNET', 'saldo': 636238.03, 'nota': 'possimus reiciendis'}\n",
      "{'_id': ObjectId('6362f210dfb1bb16c3f30644'), 'fecha': datetime.datetime(2010, 4, 2, 17, 4, 52), 'agencia': 'Cochabamba', 'monto': 1305.04, 'descripcion': 'DEB.CTA.P/C.INTERNET', 'saldo': 9025663.84, 'nota': 'quaerat accusamus dolore quos voluptates nobis'}\n",
      "{'_id': ObjectId('6362f210dfb1bb16c3f3067e'), 'fecha': datetime.datetime(1962, 3, 9, 20, 30, 14), 'agencia': 'Cochabamba', 'monto': 1729.66, 'descripcion': 'DEB.CTA.P/C.INTERNET', 'saldo': 6015798.78, 'nota': 'asperiores harum modi voluptas commodi eligendi adipisci assumenda voluptatem eius ipsam doloremque voluptatibus'}\n",
      "{'_id': ObjectId('6362f210dfb1bb16c3f306af'), 'fecha': datetime.datetime(1955, 1, 10, 11, 8, 21), 'agencia': 'Cochabamba', 'monto': 572.84, 'descripcion': 'DEB.CTA.P/C.INTERNET', 'saldo': 6030509.53, 'nota': 'harum'}\n",
      "{'_id': ObjectId('6362f210dfb1bb16c3f306b6'), 'fecha': datetime.datetime(1970, 2, 18, 18, 10, 45), 'agencia': 'Cochabamba', 'monto': 90.51, 'descripcion': 'DEB.CTA.P/C.INTERNET', 'saldo': 2489437.76, 'nota': 'dolorem cumque'}\n",
      "{'_id': ObjectId('6362f211dfb1bb16c3f30724'), 'fecha': datetime.datetime(1976, 12, 20, 9, 36, 2), 'agencia': 'Cochabamba', 'monto': 2712.45, 'descripcion': 'DEB.CTA.P/C.INTERNET', 'saldo': 9109680.98, 'nota': 'blanditiis'}\n",
      "{'_id': ObjectId('6362f211dfb1bb16c3f30835'), 'fecha': datetime.datetime(1956, 4, 22, 13, 33, 48), 'agencia': 'Cochabamba', 'monto': 1304.6, 'descripcion': 'DEB.CTA.P/C.INTERNET', 'saldo': 484529.13, 'nota': 'provident'}\n",
      "============================================================================================================================================================================================================================================================================================================\n",
      "En un tiempo de 0:00:00.000481\n",
      "Llaves examinadas 132\n",
      "Documentos examinados 132\n"
     ]
    }
   ],
   "source": [
    "start_time = time.time()\n",
    "results = busqueda_compleja(saldo_min=1000, saldo_max=100000000, agencia1=\"Cochabamba\", agencia2=\"Santa Cruz\", descripcion=\"DEB.CTA.P/C.INTERNET\")\n",
    "end_time = time.time()\n",
    "\n",
    "for result in results[:10]:\n",
    "    print(result)\n",
    "    \n",
    "#print(f\"Se encontraron {results.count()} registros\")\n",
    "print(\"=\"*300)\n",
    "print(f\"En un tiempo de {str(timedelta(seconds = (end_time - start_time)))}\")\n",
    "print(f\"Llaves examinadas {results.explain()['executionStats']['totalKeysExamined']}\")\n",
    "print(f\"Documentos examinados {results.explain()['executionStats']['totalDocsExamined']}\")\n"
   ]
  },
  {
   "cell_type": "markdown",
   "metadata": {},
   "source": [
    "### Agregaciones: Monto promedio por agencia"
   ]
  },
  {
   "cell_type": "code",
   "execution_count": 45,
   "metadata": {},
   "outputs": [
    {
     "name": "stdout",
     "output_type": "stream",
     "text": [
      "{'_id': {'agencia': 'La Paz'}, 'Monto promedio': 2005.150881605038}\n",
      "============================================================================================================================================================================================================================================================================================================\n",
      "En un tiempo de 0:00:19.013102\n"
     ]
    }
   ],
   "source": [
    "start_time = time.time()\n",
    "results =  promedio_monto_agencia(agencia=\"La Paz\")\n",
    "end_time = time.time()\n",
    "\n",
    "for i in results:\n",
    "    print(i)\n",
    "    \n",
    "#print(f\"Se encontraron {results.count()} registros\")\n",
    "print(\"=\"*300)\n",
    "print(f\"En un tiempo de {str(timedelta(seconds = (end_time - start_time)))}\")"
   ]
  },
  {
   "cell_type": "markdown",
   "metadata": {},
   "source": [
    "## Actualización de datos"
   ]
  },
  {
   "cell_type": "code",
   "execution_count": 46,
   "metadata": {},
   "outputs": [
    {
     "data": {
      "text/plain": [
       "11864"
      ]
     },
     "execution_count": 46,
     "metadata": {},
     "output_type": "execute_result"
    }
   ],
   "source": [
    "from_date_str = \"2021-01-01\" + \"T00:00:00+00:00\"\n",
    "to_date_str = \"2021-01-31\" + \"T23:59:59+00:00\"\n",
    "from_date = datetime.strptime(from_date_str, '%Y-%m-%dT%H:%M:%S%z')\n",
    "to_date = datetime.strptime(to_date_str, '%Y-%m-%dT%H:%M:%S%z')\n",
    "db.extracto_cuenta.count_documents({\"$and\": [{\"fecha\": {\"$gte\": from_date}}, {\"fecha\": {\"$lte\": to_date}}]})"
   ]
  },
  {
   "cell_type": "code",
   "execution_count": 47,
   "metadata": {},
   "outputs": [
    {
     "name": "stdout",
     "output_type": "stream",
     "text": [
      "11728\n",
      "En un tiempo de 0:00:10.023878\n"
     ]
    }
   ],
   "source": [
    "start_time = time.time()\n",
    "results = actualizacion_fecha_monto(min_date = \"2021-01-01\", max_date = \"2021-01-31\", monto = 7000)\n",
    "end_time = time.time()\n",
    "\n",
    "\n",
    "print(results.modified_count)\n",
    "print(f\"En un tiempo de {str(timedelta(seconds = (end_time - start_time)))}\")"
   ]
  },
  {
   "cell_type": "code",
   "execution_count": 48,
   "metadata": {},
   "outputs": [
    {
     "name": "stdout",
     "output_type": "stream",
     "text": [
      "{'_id': ObjectId('6362f447dfb1bb16c343ae80'), 'fecha': datetime.datetime(2021, 1, 1, 0, 1, 11), 'agencia': 'Cochabamba', 'monto': 7000, 'descripcion': 'Transferencia interbancaria SIMPLE', 'saldo': 18937.99, 'nota': 'Monto actualizado por fecha'}\n",
      "{'_id': ObjectId('6362f425dfb1bb16c31f814e'), 'fecha': datetime.datetime(2021, 1, 1, 0, 2, 46), 'agencia': 'Cochabamba', 'monto': 7000, 'descripcion': 'Pago en interés', 'saldo': 8095910.46, 'nota': 'Monto actualizado por fecha'}\n",
      "{'_id': ObjectId('6362f475dfb1bb16c376ed82'), 'fecha': datetime.datetime(2021, 1, 1, 0, 14, 48), 'agencia': 'Santa Cruz', 'monto': 7000, 'descripcion': 'Debito Cta por ACH', 'saldo': 9102110.08, 'nota': 'Monto actualizado por fecha'}\n",
      "{'_id': ObjectId('6362f458dfb1bb16c35648f9'), 'fecha': datetime.datetime(2021, 1, 1, 0, 16, 57), 'agencia': 'Beni', 'monto': 7000, 'descripcion': 'Debito Cta por ACH', 'saldo': 3609916.16, 'nota': 'Monto actualizado por fecha'}\n",
      "{'_id': ObjectId('6362f3fcdfb1bb16c3f7241e'), 'fecha': datetime.datetime(2021, 1, 1, 0, 27, 31), 'agencia': 'Pando', 'monto': 7000, 'descripcion': 'Pago en interés', 'saldo': 4976916.79, 'nota': 'Monto actualizado por fecha'}\n",
      "{'_id': ObjectId('6362f247dfb1bb16c3f4858d'), 'fecha': datetime.datetime(2021, 1, 1, 0, 34, 4), 'agencia': 'Tarija', 'monto': 7000, 'descripcion': 'Debito Cta por ACH', 'saldo': 4109593.14, 'nota': 'Monto actualizado por fecha'}\n",
      "{'_id': ObjectId('6362f405dfb1bb16c3fdd665'), 'fecha': datetime.datetime(2021, 1, 1, 0, 34, 16), 'agencia': 'Oruro', 'monto': 7000, 'descripcion': 'Retención IVA', 'saldo': 8466138.53, 'nota': 'Monto actualizado por fecha'}\n",
      "{'_id': ObjectId('6362f43cdfb1bb16c339d334'), 'fecha': datetime.datetime(2021, 1, 1, 0, 35, 51), 'agencia': 'Cochabamba', 'monto': 7000, 'descripcion': 'Debito Cta por ACH', 'saldo': 6574280.63, 'nota': 'Monto actualizado por fecha'}\n",
      "{'_id': ObjectId('6362f41cdfb1bb16c315230d'), 'fecha': datetime.datetime(2021, 1, 1, 0, 44, 31), 'agencia': 'La Paz', 'monto': 7000, 'descripcion': 'Transferencia interbancaria SIMPLE', 'saldo': 4626830.51, 'nota': 'Monto actualizado por fecha'}\n",
      "{'_id': ObjectId('6362f42bdfb1bb16c32406f9'), 'fecha': datetime.datetime(2021, 1, 1, 0, 48, 15), 'agencia': 'Tarija', 'monto': 7000, 'descripcion': 'Debito Cta por compra', 'saldo': 5084203.74, 'nota': 'Monto actualizado por fecha'}\n"
     ]
    }
   ],
   "source": [
    "results = db.extracto_cuenta.find({\"$and\": [{\"fecha\": {\"$gte\": from_date}}, {\"fecha\": {\"$lte\": to_date}}]})\n",
    "\n",
    "for result in results[:10]:\n",
    "    print(result)"
   ]
  },
  {
   "cell_type": "markdown",
   "metadata": {},
   "source": [
    "## Eliminar datos"
   ]
  },
  {
   "cell_type": "code",
   "execution_count": 49,
   "metadata": {},
   "outputs": [
    {
     "name": "stdout",
     "output_type": "stream",
     "text": [
      "480\n",
      "En un tiempo de 0:00:12.196713\n"
     ]
    }
   ],
   "source": [
    "start_time = time.time()\n",
    "results = eliminar_saldo_min(saldo_min= 500)\n",
    "end_time = time.time()\n",
    "\n",
    "print(results.deleted_count)\n",
    "print(f\"En un tiempo de {str(timedelta(seconds = (end_time - start_time)))}\")"
   ]
  },
  {
   "cell_type": "code",
   "execution_count": 50,
   "metadata": {},
   "outputs": [
    {
     "name": "stdout",
     "output_type": "stream",
     "text": [
      "0\n"
     ]
    }
   ],
   "source": [
    "results = db.extracto_cuenta.count_documents({\"saldo\": {\"$lte\": 500}})\n",
    "print(results)"
   ]
  }
 ],
 "metadata": {
  "kernelspec": {
   "display_name": "Python 3.9.12 ('base')",
   "language": "python",
   "name": "python3"
  },
  "language_info": {
   "codemirror_mode": {
    "name": "ipython",
    "version": 3
   },
   "file_extension": ".py",
   "mimetype": "text/x-python",
   "name": "python",
   "nbconvert_exporter": "python",
   "pygments_lexer": "ipython3",
   "version": "3.9.12"
  },
  "orig_nbformat": 4,
  "vscode": {
   "interpreter": {
    "hash": "d7e5a1f785ed82844e2da5d30522181462e1597dbd1807cbc4c5c0cc1d5a2e0b"
   }
  }
 },
 "nbformat": 4,
 "nbformat_minor": 2
}

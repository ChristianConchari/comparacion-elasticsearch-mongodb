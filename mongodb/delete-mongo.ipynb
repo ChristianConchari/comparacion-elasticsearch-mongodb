{
 "cells": [
  {
   "cell_type": "markdown",
   "metadata": {},
   "source": [
    "# Carga de librerias"
   ]
  },
  {
   "cell_type": "code",
   "execution_count": 1,
   "metadata": {},
   "outputs": [],
   "source": [
    "from pymongo import MongoClient\n",
    "import time\n",
    "from datetime import datetime, timedelta\n",
    "\n",
    "client = MongoClient('localhost', 27017)\n",
    "db = client[\"test_mongo\"]"
   ]
  },
  {
   "cell_type": "markdown",
   "metadata": {},
   "source": [
    "# Eliminación de documentos de la base de datos con 1 millón de registros y todos los campos indexados"
   ]
  },
  {
   "cell_type": "markdown",
   "metadata": {},
   "source": [
    "En esta sección se revisará la operación de eliminación en la colección de 1 millón de documentos indexados."
   ]
  },
  {
   "cell_type": "code",
   "execution_count": 2,
   "metadata": {},
   "outputs": [],
   "source": [
    "coll = db[\"extracto_cuenta_1m2\"]"
   ]
  },
  {
   "cell_type": "markdown",
   "metadata": {},
   "source": [
    "## Eliminación 1: Saldo menor"
   ]
  },
  {
   "cell_type": "markdown",
   "metadata": {},
   "source": [
    "Se eliminarán de la base de datos aquellos documentos cuyos saldos sean menores a determinado número."
   ]
  },
  {
   "cell_type": "code",
   "execution_count": 4,
   "metadata": {},
   "outputs": [],
   "source": [
    "def eliminar_saldo_min(saldo_min):\n",
    "    return coll.delete_many(\n",
    "        {\n",
    "            \"saldo\":\n",
    "                {\n",
    "                    \"$lte\": saldo_min\n",
    "                }\n",
    "        }\n",
    ")"
   ]
  },
  {
   "cell_type": "code",
   "execution_count": 14,
   "metadata": {},
   "outputs": [
    {
     "name": "stdout",
     "output_type": "stream",
     "text": [
      "Se han eliminado 7 documentos\n",
      "En un tiempo de 0:00:03.939482\n"
     ]
    }
   ],
   "source": [
    "saldo_min= 100\n",
    "\n",
    "start_time = time.time()\n",
    "results = eliminar_saldo_min(saldo_min)\n",
    "end_time = time.time()\n",
    "\n",
    "print(f\"Se han eliminado {results.deleted_count} documentos\")\n",
    "print(f\"En un tiempo de {str(timedelta(seconds = (end_time - start_time)))}\")"
   ]
  },
  {
   "cell_type": "markdown",
   "metadata": {},
   "source": [
    "| Tabla resumen de resultados | Valor obtenido |\n",
    "|-----------------------------|----------------|\n",
    "| Tiempo eliminación 1        | 3.9394 s       |"
   ]
  },
  {
   "cell_type": "markdown",
   "metadata": {},
   "source": [
    "# Eliminación de documentos de la base de datos con 10 millones de registros y todos los campos indexados"
   ]
  },
  {
   "cell_type": "markdown",
   "metadata": {},
   "source": [
    "En esta sección se revisará la operación de eliminación en la colección de 10 millones de documentos indexados."
   ]
  },
  {
   "cell_type": "code",
   "execution_count": 16,
   "metadata": {},
   "outputs": [],
   "source": [
    "coll = db[\"extracto_cuenta_10m2\"]"
   ]
  },
  {
   "cell_type": "markdown",
   "metadata": {},
   "source": [
    "## Eliminación 1: Saldo menor"
   ]
  },
  {
   "cell_type": "markdown",
   "metadata": {},
   "source": [
    "Se eliminarán de la base de datos aquellos documentos cuyos saldos sean menores a determinado número."
   ]
  },
  {
   "cell_type": "code",
   "execution_count": 17,
   "metadata": {},
   "outputs": [
    {
     "name": "stdout",
     "output_type": "stream",
     "text": [
      "Se han eliminado 111 documentos\n",
      "En un tiempo de 0:00:33.027268\n"
     ]
    }
   ],
   "source": [
    "saldo_min= 100\n",
    "\n",
    "start_time = time.time()\n",
    "results = eliminar_saldo_min(saldo_min)\n",
    "end_time = time.time()\n",
    "\n",
    "print(f\"Se han eliminado {results.deleted_count} documentos\")\n",
    "print(f\"En un tiempo de {str(timedelta(seconds = (end_time - start_time)))}\")"
   ]
  },
  {
   "cell_type": "markdown",
   "metadata": {},
   "source": [
    "| Tabla resumen de resultados | Valor obtenido |\n",
    "|-----------------------------|----------------|\n",
    "| Tiempo eliminación 1        | 33.0276 s      |"
   ]
  },
  {
   "cell_type": "markdown",
   "metadata": {},
   "source": [
    "# Eliminación de documentos de la base de datos con 30 millones de registros y todos los campos indexados"
   ]
  },
  {
   "cell_type": "markdown",
   "metadata": {},
   "source": [
    "En esta sección se revisará la operación de eliminación en la colección de 1 millón de documentos ya indexados."
   ]
  },
  {
   "cell_type": "code",
   "execution_count": 19,
   "metadata": {},
   "outputs": [],
   "source": [
    "coll = db[\"extracto_cuenta_30m\"]"
   ]
  },
  {
   "cell_type": "markdown",
   "metadata": {},
   "source": [
    "## Eliminación 1: Saldo menor"
   ]
  },
  {
   "cell_type": "markdown",
   "metadata": {},
   "source": [
    "Se eliminarán de la base de datos aquellos documentos cuyos saldos sean menores a determinado número."
   ]
  },
  {
   "cell_type": "code",
   "execution_count": 20,
   "metadata": {},
   "outputs": [
    {
     "name": "stdout",
     "output_type": "stream",
     "text": [
      "Se han eliminado 313 documentos\n",
      "En un tiempo de 0:01:40.041568\n"
     ]
    }
   ],
   "source": [
    "saldo_min= 100\n",
    "\n",
    "start_time = time.time()\n",
    "results = eliminar_saldo_min(saldo_min)\n",
    "end_time = time.time()\n",
    "\n",
    "print(f\"Se han eliminado {results.deleted_count} documentos\")\n",
    "print(f\"En un tiempo de {str(timedelta(seconds = (end_time - start_time)))}\")"
   ]
  },
  {
   "cell_type": "markdown",
   "metadata": {},
   "source": [
    "| Tabla resumen de resultados | Valor obtenido |\n",
    "|-----------------------------|----------------|\n",
    "| Tiempo eliminación 1        | 1 min 40.0416 s      |"
   ]
  },
  {
   "cell_type": "markdown",
   "metadata": {},
   "source": [
    "# Eliminación de documentos de la base de datos con 10 millones de registros y 3 campos indexados (fecha, descripcion, nota)"
   ]
  },
  {
   "cell_type": "markdown",
   "metadata": {},
   "source": [
    "En esta sección se revisará la operación de eliminación en la colección de 10 millones de documentos indexados en tres campos: fecha, descripción y nota."
   ]
  },
  {
   "cell_type": "code",
   "execution_count": 2,
   "metadata": {},
   "outputs": [],
   "source": [
    "coll = db[\"extracto_cuenta_10m_3idx\"]"
   ]
  },
  {
   "cell_type": "markdown",
   "metadata": {},
   "source": [
    "## Eliminación 1: Saldo menor"
   ]
  },
  {
   "cell_type": "markdown",
   "metadata": {},
   "source": [
    "Se eliminarán de la base de datos aquellos documentos cuyos saldos sean menores a determinado número."
   ]
  },
  {
   "cell_type": "code",
   "execution_count": 5,
   "metadata": {},
   "outputs": [
    {
     "name": "stdout",
     "output_type": "stream",
     "text": [
      "Se han eliminado 111 documentos\n",
      "En un tiempo de 0:11:04.655072\n"
     ]
    }
   ],
   "source": [
    "saldo_min= 100\n",
    "\n",
    "start_time = time.time()\n",
    "results = eliminar_saldo_min(saldo_min)\n",
    "end_time = time.time()\n",
    "\n",
    "print(f\"Se han eliminado {results.deleted_count} documentos\")\n",
    "print(f\"En un tiempo de {str(timedelta(seconds = (end_time - start_time)))}\")"
   ]
  },
  {
   "cell_type": "markdown",
   "metadata": {},
   "source": [
    "| Tabla resumen de resultados | Valor obtenido |\n",
    "|-----------------------------|----------------|\n",
    "| Tiempo eliminación 1        | 11 min 4.6551 s      |"
   ]
  },
  {
   "cell_type": "markdown",
   "metadata": {},
   "source": [
    "# Eliminación de documentos de la base de datos con 30 millones de registros y 3 campos indexados (fecha, descripcion, nota)"
   ]
  },
  {
   "cell_type": "markdown",
   "metadata": {},
   "source": [
    "En esta sección se revisará la operación de eliminación en la colección de 30 millones de documentos indexados en tres campos: fecha, descripción y nota."
   ]
  },
  {
   "cell_type": "code",
   "execution_count": 21,
   "metadata": {},
   "outputs": [],
   "source": [
    "coll = db[\"extracto_cuenta_30m_3idx\"]"
   ]
  },
  {
   "cell_type": "markdown",
   "metadata": {},
   "source": [
    "## Eliminación 1: Saldo menor"
   ]
  },
  {
   "cell_type": "markdown",
   "metadata": {},
   "source": [
    "Se eliminarán de la base de datos aquellos documentos cuyos saldos sean menores a determinado número."
   ]
  },
  {
   "cell_type": "code",
   "execution_count": 22,
   "metadata": {},
   "outputs": [
    {
     "name": "stdout",
     "output_type": "stream",
     "text": [
      "Se han eliminado 313 documentos\n",
      "En un tiempo de 0:27:51.043249\n"
     ]
    }
   ],
   "source": [
    "saldo_min= 100\n",
    "\n",
    "start_time = time.time()\n",
    "results = eliminar_saldo_min(saldo_min)\n",
    "end_time = time.time()\n",
    "\n",
    "print(f\"Se han eliminado {results.deleted_count} documentos\")\n",
    "print(f\"En un tiempo de {str(timedelta(seconds = (end_time - start_time)))}\")"
   ]
  },
  {
   "cell_type": "markdown",
   "metadata": {},
   "source": [
    "| Tabla resumen de resultados | Valor obtenido |\n",
    "|-----------------------------|----------------|\n",
    "| Tiempo eliminación 1        | 27 min 51.0432 s      |"
   ]
  }
 ],
 "metadata": {
  "kernelspec": {
   "display_name": "Python 3.9.12 64-bit",
   "language": "python",
   "name": "python3"
  },
  "language_info": {
   "codemirror_mode": {
    "name": "ipython",
    "version": 3
   },
   "file_extension": ".py",
   "mimetype": "text/x-python",
   "name": "python",
   "nbconvert_exporter": "python",
   "pygments_lexer": "ipython3",
   "version": "3.9.12"
  },
  "orig_nbformat": 4,
  "vscode": {
   "interpreter": {
    "hash": "d7e5a1f785ed82844e2da5d30522181462e1597dbd1807cbc4c5c0cc1d5a2e0b"
   }
  }
 },
 "nbformat": 4,
 "nbformat_minor": 2
}

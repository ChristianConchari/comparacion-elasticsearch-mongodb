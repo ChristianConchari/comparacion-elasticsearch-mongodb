{
 "cells": [
  {
   "cell_type": "markdown",
   "metadata": {},
   "source": [
    "# Cargamos librerias y conectamos la base de datos"
   ]
  },
  {
   "cell_type": "code",
   "execution_count": 1,
   "metadata": {},
   "outputs": [
    {
     "name": "stdout",
     "output_type": "stream",
     "text": [
      "Connected to ElasticSearch cluster `docker-cluster`\n"
     ]
    }
   ],
   "source": [
    "from elasticsearch import Elasticsearch\n",
    "from elasticsearch import helpers\n",
    "import time, json, random\n",
    "from random import randrange\n",
    "from datetime import timedelta, datetime\n",
    "from random import randint\n",
    "from lorem_text import lorem\n",
    "from flask import jsonify\n",
    "\n",
    "es = Elasticsearch(\"http://127.0.0.1:9200\")\n",
    "\n",
    "print(f\"Connected to ElasticSearch cluster `{es.info().body['cluster_name']}`\")"
   ]
  },
  {
   "cell_type": "markdown",
   "metadata": {},
   "source": [
    "# Generación de datos aleatorios"
   ]
  },
  {
   "cell_type": "code",
   "execution_count": 2,
   "metadata": {},
   "outputs": [],
   "source": [
    "def random_date(start, end):\n",
    "    delta = end - start\n",
    "    int_delta = (delta.days * 24 * 60 * 60) + delta.seconds\n",
    "    random_second = randrange(int_delta)\n",
    "    return start + timedelta(seconds=random_second)"
   ]
  },
  {
   "cell_type": "code",
   "execution_count": 3,
   "metadata": {},
   "outputs": [
    {
     "name": "stdout",
     "output_type": "stream",
     "text": [
      "2004-03-18 04:22:39\n"
     ]
    }
   ],
   "source": [
    "\n",
    "d1 = datetime.strptime('1/1/1950 12:59 PM', '%m/%d/%Y %I:%M %p')\n",
    "d2 = datetime.strptime('1/1/2022 01:00 AM', '%m/%d/%Y %I:%M %p')\n",
    "print(random_date(d1, d2))  "
   ]
  },
  {
   "cell_type": "code",
   "execution_count": 4,
   "metadata": {},
   "outputs": [],
   "source": [
    "descripciones = [\n",
    "    'Transferencia interbancaria SIMPLE',\n",
    "    'DEB.CTA.P/C.INTERNET',\n",
    "    'Debito Cta por ACH',\n",
    "    'Retiro en efectivo',\n",
    "    'AB.CTA.P/MOVIL',\n",
    "    'Pago en interés',\n",
    "    'Debito Cta por compra',\n",
    "    'Debito Cta por pago de Seguro',\n",
    "    'Retención IVA'\n",
    "]"
   ]
  },
  {
   "cell_type": "markdown",
   "metadata": {},
   "source": [
    "# Creación de índices"
   ]
  },
  {
   "cell_type": "code",
   "execution_count": 10,
   "metadata": {},
   "outputs": [
    {
     "name": "stderr",
     "output_type": "stream",
     "text": [
      "/tmp/ipykernel_18717/5996740.py:26: DeprecationWarning: Passing transport options in the API method is deprecated. Use 'Elasticsearch.options()' instead.\n",
      "  response = es.indices.create(\n"
     ]
    }
   ],
   "source": [
    "mapping = {\n",
    "    \"mappings\": {\n",
    "        \"properties\": {\n",
    "            \"fecha\": {\n",
    "                \"type\": \"date\"\n",
    "            },\n",
    "            \"agencia\": {\n",
    "                \"type\": \"keyword\"\n",
    "            },\n",
    "            \"monto\": {\n",
    "                \"type\": \"float\"\n",
    "            },\n",
    "            \"descripcion\": {\n",
    "                \"type\": \"text\"\n",
    "            },\n",
    "            \"saldo\": {\n",
    "                \"type\": \"float\"\n",
    "            },\n",
    "            \"nota\": {\n",
    "                \"type\": \"text\"\n",
    "            },\n",
    "        }\n",
    "    }\n",
    "}\n",
    "\n",
    "response = es.indices.create(\n",
    "    index=\"extracto_cuenta\",\n",
    "    mappings = mapping,\n",
    "    ignore=400 # ignore 400 already exists code\n",
    ")"
   ]
  },
  {
   "cell_type": "markdown",
   "metadata": {},
   "source": [
    "# Aproximadamente 100 000 registros"
   ]
  },
  {
   "cell_type": "markdown",
   "metadata": {},
   "source": [
    "## Carga de datos"
   ]
  },
  {
   "cell_type": "markdown",
   "metadata": {},
   "source": [
    "### De forma individual"
   ]
  },
  {
   "cell_type": "code",
   "execution_count": 11,
   "metadata": {},
   "outputs": [
    {
     "name": "stdout",
     "output_type": "stream",
     "text": [
      "Tiempo de carga de datos: 1:39:44.988039\n"
     ]
    }
   ],
   "source": [
    "start_time = time.time()\n",
    "\n",
    "for i in range(50000):\n",
    "    fecha = random_date(d1, d2)\n",
    "    agencia = random.choice(['La Paz', 'Oruro', 'Cochabamba', 'Chuquisaca', 'Pando', 'Beni', 'Santa Cruz', 'Tarija'])\n",
    "    monto = round(random.uniform(10.0, 4000.0), 2)\n",
    "    descripcion = random.choice(descripciones)\n",
    "    saldo = round(random.uniform(0.0, 10000000.0), 2)\n",
    "    nota = lorem.words(randint(1,13))\n",
    "\n",
    "    insert_data = {\n",
    "        'fecha': fecha,\n",
    "        'agencia': agencia,\n",
    "        'monto': monto,\n",
    "        'descripcion': descripcion,\n",
    "        'saldo': saldo,\n",
    "        'nota': nota\n",
    "    }\n",
    "    \n",
    "    es.index(index=\"extracto_cuenta\", document=insert_data)\n",
    "\n",
    "end_time = time.time()\n",
    "\n",
    "# Mostramos los resultados en consola\n",
    "print(f'Tiempo de carga de datos: {str(timedelta(seconds = (end_time - start_time)))}')"
   ]
  },
  {
   "cell_type": "markdown",
   "metadata": {},
   "source": [
    "### De forma masiva"
   ]
  },
  {
   "cell_type": "code",
   "execution_count": 5,
   "metadata": {},
   "outputs": [
    {
     "name": "stdout",
     "output_type": "stream",
     "text": [
      "Tiempo de carga de datos: 0:00:24.350864\n"
     ]
    }
   ],
   "source": [
    "def gendata():\n",
    "    for i in range(500000):\n",
    "        fecha = random_date(d1, d2)\n",
    "        agencia = random.choice(['La Paz', 'Oruro', 'Cochabamba', 'Chuquisaca', 'Pando', 'Beni', 'Santa Cruz', 'Tarija'])\n",
    "        monto = round(random.uniform(10.0, 4000.0), 2)\n",
    "        descripcion = random.choice(descripciones)\n",
    "        saldo = round(random.uniform(0.0, 10000000.0), 2)\n",
    "        nota = lorem.words(randint(1,13))\n",
    "\n",
    "        yield {\n",
    "            \"_index\": \"extracto_cuenta\",\n",
    "            'fecha': fecha,\n",
    "            'agencia': agencia,\n",
    "            'monto': monto,\n",
    "            'descripcion': descripcion,\n",
    "            'saldo': saldo,\n",
    "            'nota': nota\n",
    "        }\n",
    "\n",
    "start_time = time.time()\n",
    "helpers.bulk(es, gendata())\n",
    "end_time = time.time()\n",
    "\n",
    "# Mostramos los resultados en consola\n",
    "print(f'Tiempo de carga de datos: {str(timedelta(seconds = (end_time - start_time)))}')"
   ]
  },
  {
   "cell_type": "markdown",
   "metadata": {},
   "source": [
    "### Un solo dato"
   ]
  },
  {
   "cell_type": "code",
   "execution_count": 6,
   "metadata": {},
   "outputs": [
    {
     "name": "stdout",
     "output_type": "stream",
     "text": [
      "Tiempo de carga de datos: 0:00:00.124868\n"
     ]
    }
   ],
   "source": [
    "start_time = time.time()\n",
    "\n",
    "fecha = random_date(d1, d2)\n",
    "agencia = random.choice(['La Paz', 'Oruro', 'Cochabamba', 'Chuquisaca', 'Pando', 'Beni', 'Santa Cruz', 'Tarija'])\n",
    "monto = round(random.uniform(10.0, 4000.0), 2)\n",
    "descripcion = random.choice(descripciones)\n",
    "saldo = round(random.uniform(0.0, 10000000.0), 2)\n",
    "nota = lorem.words(randint(1,13))\n",
    "\n",
    "insert_data = {\n",
    "    'fecha': fecha,\n",
    "    'agencia': agencia,\n",
    "    'monto': monto,\n",
    "    'descripcion': descripcion,\n",
    "    'saldo': saldo,\n",
    "    'nota': nota\n",
    "}\n",
    "\n",
    "es.index(index=\"extracto_cuenta\", document=insert_data)\n",
    "\n",
    "end_time = time.time()\n",
    "\n",
    "# Mostramos los resultados en consola\n",
    "print(f'Tiempo de carga de datos: {str(timedelta(seconds = (end_time - start_time)))}')"
   ]
  },
  {
   "cell_type": "code",
   "execution_count": 7,
   "metadata": {},
   "outputs": [
    {
     "name": "stdout",
     "output_type": "stream",
     "text": [
      "{\"count\":100001,\"_shards\":{\"total\":1,\"successful\":1,\"skipped\":0,\"failed\":0}}"
     ]
    }
   ],
   "source": [
    "!curl -XGET http://localhost:9200/extracto_cuenta/_count"
   ]
  },
  {
   "cell_type": "markdown",
   "metadata": {},
   "source": [
    "## Consultas a la base de datos"
   ]
  },
  {
   "cell_type": "markdown",
   "metadata": {},
   "source": [
    "### Búsqueda por fecha y agencia"
   ]
  },
  {
   "cell_type": "code",
   "execution_count": 12,
   "metadata": {},
   "outputs": [],
   "source": [
    "def busqueda_fecha_agencia(month, year, agencia):\n",
    "    from_date_str = f\"{year}-{month}-01\" + \"T00:00:00+00:00\"\n",
    "    to_date_str = f\"{year}-{month}-30\" + \"T23:59:59+00:00\"\n",
    "    query = {\n",
    "            \"bool\": {\n",
    "                \"must\": [\n",
    "                    { \"match\": { \"agencia\": f\"{agencia}\" } },\n",
    "                    {\"range\" : {\n",
    "                        \"fecha\": { \"gte\" : f\"{from_date_str}\", \"lte\" : f\"{to_date_str}\"}}\n",
    "                    }\n",
    "                ]\n",
    "            }\n",
    "    }\n",
    "\n",
    "    return es.search(index='extracto_cuenta', query=query)"
   ]
  },
  {
   "cell_type": "code",
   "execution_count": 13,
   "metadata": {},
   "outputs": [
    {
     "name": "stdout",
     "output_type": "stream",
     "text": [
      "Se encontraron 9 en un tiempo de 0:00:00.012294\n",
      "====================================================================================================\n",
      "{'fecha': '2021-05-23T11:52:00', 'agencia': 'Santa Cruz', 'monto': 974.58, 'descripcion': 'Pago en interés', 'saldo': 515906.12, 'nota': 'consectetur quae facilis fugit earum rerum voluptates similique excepturi in ipsum asperiores'}\n",
      "{'fecha': '2021-05-09T01:21:36', 'agencia': 'Santa Cruz', 'monto': 3954.92, 'descripcion': 'Retención IVA', 'saldo': 1562951.71, 'nota': 'molestiae assumenda'}\n",
      "{'fecha': '2021-05-09T11:45:46', 'agencia': 'Santa Cruz', 'monto': 2992.84, 'descripcion': 'Pago en interés', 'saldo': 1502314.46, 'nota': 'quo eligendi'}\n",
      "{'fecha': '2021-05-28T02:08:48', 'agencia': 'Santa Cruz', 'monto': 1659.51, 'descripcion': 'AB.CTA.P/MOVIL', 'saldo': 2533581.24, 'nota': 'ab expedita quos totam sunt sed neque et illum at cumque'}\n",
      "{'fecha': '2021-05-28T21:16:01', 'agencia': 'Santa Cruz', 'monto': 2675.89, 'descripcion': 'Debito Cta por pago de Seguro', 'saldo': 2842735.11, 'nota': 'vel optio voluptates voluptate ratione cum repudiandae est et aperiam iusto vero minus'}\n",
      "{'fecha': '2021-05-26T23:06:45', 'agencia': 'Santa Cruz', 'monto': 1646.11, 'descripcion': 'AB.CTA.P/MOVIL', 'saldo': 9905903.61, 'nota': 'consequatur suscipit voluptatibus ullam vel'}\n",
      "{'fecha': '2021-05-20T07:11:38', 'agencia': 'Santa Cruz', 'monto': 2178.89, 'descripcion': 'Debito Cta por pago de Seguro', 'saldo': 4093121.47, 'nota': 'quas eaque ullam accusamus ab'}\n",
      "{'fecha': '2021-05-06T06:30:24', 'agencia': 'Santa Cruz', 'monto': 3214.14, 'descripcion': 'Retiro en efectivo', 'saldo': 3259687.51, 'nota': 'dolores aliquam consectetur deleniti magnam aut quod hic ut quia'}\n",
      "{'fecha': '2021-05-25T05:32:03', 'agencia': 'Santa Cruz', 'monto': 81.83, 'descripcion': 'AB.CTA.P/MOVIL', 'saldo': 7348355.7, 'nota': 'unde tempore error expedita'}\n"
     ]
    }
   ],
   "source": [
    "start_time = time.time()\n",
    "results = busqueda_fecha_agencia(month=\"05\", year = \"2021\", agencia = \"Santa Cruz\")\n",
    "end_time = time.time()\n",
    "\n",
    "print(f\"Se encontraron {results['hits']['total']['value']} en un tiempo de {str(timedelta(seconds = (end_time - start_time)))}\")\n",
    "print(\"=\"*100)\n",
    "\n",
    "for hit in results['hits']['hits']:\n",
    "    print(hit[\"_source\"])"
   ]
  },
  {
   "cell_type": "markdown",
   "metadata": {},
   "source": [
    "### Búsqueda por montos mayores a determinado número y agencia"
   ]
  },
  {
   "cell_type": "code",
   "execution_count": 14,
   "metadata": {},
   "outputs": [],
   "source": [
    "def busqueda_monto_mayor(monto, agencia):\n",
    "    query = {\n",
    "            \"bool\": {\n",
    "            \"must\": [\n",
    "                { \"match\": \n",
    "                    { \"agencia\": f\"{agencia}\" } \n",
    "                },\n",
    "                {\"range\" : {\n",
    "                \"monto\": { \"gte\" : f\"{monto}\"}}\n",
    "                }\n",
    "            ]\n",
    "            }\n",
    "    }\n",
    "\n",
    "    return es.search(index='extracto_cuenta', query=query)"
   ]
  },
  {
   "cell_type": "code",
   "execution_count": 15,
   "metadata": {},
   "outputs": [
    {
     "name": "stdout",
     "output_type": "stream",
     "text": [
      "Se encontraron 3030 en un tiempo de 0:00:00.016266\n",
      "====================================================================================================\n",
      "{'fecha': '1997-12-11T18:08:54', 'agencia': 'Cochabamba', 'monto': 3715.81, 'descripcion': 'Debito Cta por ACH', 'saldo': 4213381.94, 'nota': 'voluptatem dolorem aliquam sint consectetur iste mollitia doloribus soluta ducimus inventore'}\n",
      "{'fecha': '2021-06-16T14:17:11', 'agencia': 'Cochabamba', 'monto': 3779.35, 'descripcion': 'Debito Cta por compra', 'saldo': 3797420.61, 'nota': 'ratione voluptate excepturi deserunt eveniet soluta consequatur aut aliquam vero laudantium atque'}\n",
      "{'fecha': '1964-12-21T11:30:15', 'agencia': 'Cochabamba', 'monto': 3573.06, 'descripcion': 'Transferencia interbancaria SIMPLE', 'saldo': 9010423.36, 'nota': 'earum sint laboriosam tempore sed saepe'}\n",
      "{'fecha': '2021-05-14T17:47:23', 'agencia': 'Cochabamba', 'monto': 3996.89, 'descripcion': 'Retiro en efectivo', 'saldo': 7522942.78, 'nota': 'id porro nobis quasi'}\n",
      "{'fecha': '2001-09-26T04:04:08', 'agencia': 'Cochabamba', 'monto': 3138.3, 'descripcion': 'Debito Cta por pago de Seguro', 'saldo': 1107164.28, 'nota': 'quisquam dolorum esse fugit cumque cum quo nostrum ipsum minus'}\n",
      "{'fecha': '2006-09-07T22:00:32', 'agencia': 'Cochabamba', 'monto': 3614.4, 'descripcion': 'Pago en interés', 'saldo': 8199136.72, 'nota': 'nesciunt labore enim similique accusamus'}\n",
      "{'fecha': '1970-08-16T18:05:17', 'agencia': 'Cochabamba', 'monto': 3748.57, 'descripcion': 'Retención IVA', 'saldo': 4763519.44, 'nota': 'eaque reprehenderit exercitationem optio aperiam delectus dolore adipisci omnis a'}\n",
      "{'fecha': '2012-04-30T03:01:13', 'agencia': 'Cochabamba', 'monto': 3510.42, 'descripcion': 'Debito Cta por compra', 'saldo': 2819981.73, 'nota': 'aliquid'}\n",
      "{'fecha': '2020-05-29T22:17:25', 'agencia': 'Cochabamba', 'monto': 3438.9, 'descripcion': 'Retiro en efectivo', 'saldo': 3130014.29, 'nota': 'eligendi quia voluptatum autem rerum'}\n",
      "{'fecha': '1977-07-03T13:27:07', 'agencia': 'Cochabamba', 'monto': 3143.67, 'descripcion': 'Debito Cta por ACH', 'saldo': 7671412.6, 'nota': 'voluptatem iusto'}\n"
     ]
    }
   ],
   "source": [
    "start_time = time.time()\n",
    "results = busqueda_monto_mayor(monto=3000, agencia = \"Cochabamba\")\n",
    "end_time = time.time()\n",
    "\n",
    "print(f\"Se encontraron {results['hits']['total']['value']} en un tiempo de {str(timedelta(seconds = (end_time - start_time)))}\")\n",
    "print(\"=\"*100)\n",
    "\n",
    "for hit in results['hits']['hits']:\n",
    "    print(hit[\"_source\"])"
   ]
  },
  {
   "cell_type": "markdown",
   "metadata": {},
   "source": [
    "### Búsqueda considerando varios campos"
   ]
  },
  {
   "cell_type": "code",
   "execution_count": 84,
   "metadata": {},
   "outputs": [],
   "source": [
    "def busqueda_compleja(saldo_min, saldo_max, agencia1, agencia2, descripcion):\n",
    "    query = {\n",
    "            \"bool\": {\n",
    "                \"must\": [\n",
    "                    {\n",
    "                        \"bool\": {\n",
    "                            \"should\": [\n",
    "                                {\"match\": {\"agencia\": f\"{agencia1}\"}},\n",
    "                                {\"match\": {\"agencia\": f\"{agencia2}\"}}\n",
    "                            ]\n",
    "                        }\n",
    "                    },\n",
    "                    {\n",
    "                        \"bool\": {\n",
    "                            \"must\": [\n",
    "                                {\n",
    "                                    \"range\" : {\n",
    "                                        \"saldo\": { \"gte\" : f\"{saldo_min}\", \"lte\": f\"{saldo_max}\"}\n",
    "                                    }\n",
    "                                }\n",
    "                            ]\n",
    "                        }\n",
    "                    },\n",
    "                    {\n",
    "                        \"match\": {\"descripcion\": f\"{descripcion}\"}\n",
    "                    }\n",
    "                ]\n",
    "            }\n",
    "    }\n",
    "\n",
    "    return es.search(index='extracto_cuenta', query=query)"
   ]
  },
  {
   "cell_type": "code",
   "execution_count": 40,
   "metadata": {},
   "outputs": [
    {
     "name": "stdout",
     "output_type": "stream",
     "text": [
      "Se encontraron 4174 en un tiempo de 0:00:00.019802\n",
      "====================================================================================================\n",
      "{'fecha': '1979-08-03T09:58:38', 'agencia': 'Pando', 'monto': 3443.92, 'descripcion': 'Retiro en efectivo', 'saldo': 7149020.16, 'nota': 'iusto rem ipsam maxime quaerat'}\n",
      "{'fecha': '1994-06-22T22:52:03', 'agencia': 'Pando', 'monto': 2414.66, 'descripcion': 'Retiro en efectivo', 'saldo': 6308997.27, 'nota': 'repellat excepturi nulla dignissimos'}\n",
      "{'fecha': '1977-02-14T06:10:16', 'agencia': 'Pando', 'monto': 3739.83, 'descripcion': 'Retiro en efectivo', 'saldo': 5575542.39, 'nota': 'debitis facere culpa vero repellat qui'}\n",
      "{'fecha': '1983-02-11T19:04:14', 'agencia': 'Pando', 'monto': 2089.46, 'descripcion': 'Retiro en efectivo', 'saldo': 8475804.66, 'nota': 'perspiciatis alias quos voluptatem natus'}\n",
      "{'fecha': '1952-09-29T21:32:45', 'agencia': 'Pando', 'monto': 1486.37, 'descripcion': 'Retiro en efectivo', 'saldo': 7364448.85, 'nota': 'minima'}\n",
      "{'fecha': '1966-07-22T19:03:02', 'agencia': 'Pando', 'monto': 2425.09, 'descripcion': 'Retiro en efectivo', 'saldo': 4070631.88, 'nota': 'corporis odio consequatur quis non assumenda quasi molestiae reprehenderit vero'}\n",
      "{'fecha': '2019-04-04T09:26:10', 'agencia': 'Pando', 'monto': 2263.73, 'descripcion': 'Retiro en efectivo', 'saldo': 3014066.7, 'nota': 'molestiae quis maxime repellendus quos exercitationem inventore aperiam eveniet voluptas'}\n",
      "{'fecha': '2009-06-28T12:44:09', 'agencia': 'Pando', 'monto': 2888.47, 'descripcion': 'Retiro en efectivo', 'saldo': 2261325.37, 'nota': 'quisquam asperiores sint'}\n",
      "{'fecha': '1965-11-17T03:55:43', 'agencia': 'Pando', 'monto': 1419.78, 'descripcion': 'Retiro en efectivo', 'saldo': 810416.38, 'nota': 'rerum cupiditate accusantium libero animi'}\n",
      "{'fecha': '1962-02-22T12:26:43', 'agencia': 'Pando', 'monto': 2355.52, 'descripcion': 'Retiro en efectivo', 'saldo': 5104661.72, 'nota': 'doloremque voluptates deleniti'}\n"
     ]
    }
   ],
   "source": [
    "start_time = time.time()\n",
    "results = busqueda_compleja(saldo_min=1000, saldo_max=1500000, agencia1=\"La Paz\", agencia2=\"Pando\", descripcion=\"Retiro en efectivo\")\n",
    "end_time = time.time()\n",
    "\n",
    "print(f\"Se encontraron {results['hits']['total']['value']} en un tiempo de {str(timedelta(seconds = (end_time - start_time)))}\")\n",
    "print(\"=\"*100)\n",
    "\n",
    "for hit in results['hits']['hits']:\n",
    "    print(hit[\"_source\"])"
   ]
  },
  {
   "cell_type": "markdown",
   "metadata": {},
   "source": [
    "### Agregaciones: Monto promedio por agencia"
   ]
  },
  {
   "cell_type": "code",
   "execution_count": 64,
   "metadata": {},
   "outputs": [],
   "source": [
    "def promedio_monto_agencia(agencia):\n",
    "    aggs = {\n",
    "            \"aggs\" : {\n",
    "                    \"avg\" : {\n",
    "                        \"field\" : \"monto\",\n",
    "                    } \n",
    "            }\n",
    "        }\n",
    "\n",
    "    query = {\n",
    "        \"match\": {\"agencia\": \"La Paz\"}\n",
    "    }\n",
    "\n",
    "\n",
    "\n",
    "    return es.search(index='extracto_cuenta', query=query, aggs=aggs)"
   ]
  },
  {
   "cell_type": "code",
   "execution_count": 65,
   "metadata": {},
   "outputs": [
    {
     "name": "stdout",
     "output_type": "stream",
     "text": [
      "Se encontraron 10000 en un tiempo de 0:00:00.007124\n",
      "====================================================================================================\n",
      "{'total': {'value': 10000, 'relation': 'gte'}, 'max_score': 2.0789416, 'hits': [{'_index': 'extracto_cuenta', '_id': '9xTjM4QBzIg4_3FeroEN', '_score': 2.0789416, '_source': {'fecha': '2011-07-13T02:34:40', 'agencia': 'La Paz', 'monto': 2794.73, 'descripcion': 'Retención IVA', 'saldo': 5980936.73, 'nota': 'repellendus id quibusdam eaque sunt dolore modi doloremque in porro'}}, {'_index': 'extracto_cuenta', '_id': '_BTjM4QBzIg4_3FesIFD', '_score': 2.0789416, '_source': {'fecha': '1990-05-28T15:42:37', 'agencia': 'La Paz', 'monto': 2669.0, 'descripcion': 'AB.CTA.P/MOVIL', 'saldo': 1837707.74, 'nota': 'consequuntur ab est asperiores ea eveniet consectetur aliquam nemo assumenda'}}, {'_index': 'extracto_cuenta', '_id': 'JRTjM4QBzIg4_3FewIKN', '_score': 2.0789416, '_source': {'fecha': '1983-08-22T10:38:09', 'agencia': 'La Paz', 'monto': 2525.02, 'descripcion': 'Retiro en efectivo', 'saldo': 9484348.41, 'nota': 'natus'}}, {'_index': 'extracto_cuenta', '_id': 'NRTjM4QBzIg4_3FexoKY', '_score': 2.0789416, '_source': {'fecha': '1959-12-28T11:18:08', 'agencia': 'La Paz', 'monto': 3361.75, 'descripcion': 'AB.CTA.P/MOVIL', 'saldo': 9098807.41, 'nota': 'ipsam doloribus iusto enim cupiditate dignissimos id facere odio'}}, {'_index': 'extracto_cuenta', '_id': 'NxTjM4QBzIg4_3Fex4KJ', '_score': 2.0789416, '_source': {'fecha': '2021-02-09T00:14:28', 'agencia': 'La Paz', 'monto': 1897.36, 'descripcion': 'Debito Cta por pago de Seguro', 'saldo': 6397817.6, 'nota': 'eligendi illo exercitationem cupiditate dignissimos nisi dolorum error ipsa excepturi'}}, {'_index': 'extracto_cuenta', '_id': 'SRTjM4QBzIg4_3FezIJO', '_score': 2.0789416, '_source': {'fecha': '2010-04-14T04:38:05', 'agencia': 'La Paz', 'monto': 3370.69, 'descripcion': 'Retiro en efectivo', 'saldo': 5882064.25, 'nota': 'culpa animi quisquam'}}, {'_index': 'extracto_cuenta', '_id': 'TRTjM4QBzIg4_3FezYJi', '_score': 2.0789416, '_source': {'fecha': '1971-06-26T19:01:17', 'agencia': 'La Paz', 'monto': 2188.55, 'descripcion': 'Transferencia interbancaria SIMPLE', 'saldo': 337623.94, 'nota': 'quam illo'}}, {'_index': 'extracto_cuenta', '_id': 'ThTjM4QBzIg4_3FezYKl', '_score': 2.0789416, '_source': {'fecha': '1979-03-11T04:49:40', 'agencia': 'La Paz', 'monto': 89.11, 'descripcion': 'Retiro en efectivo', 'saldo': 5669136.05, 'nota': 'distinctio'}}, {'_index': 'extracto_cuenta', '_id': 'TxTjM4QBzIg4_3FezYLl', '_score': 2.0789416, '_source': {'fecha': '2018-04-13T05:00:00', 'agencia': 'La Paz', 'monto': 2513.61, 'descripcion': 'Retiro en efectivo', 'saldo': 1892172.96, 'nota': 'asperiores harum nostrum accusantium voluptatibus quas illo odit commodi'}}, {'_index': 'extracto_cuenta', '_id': 'URTjM4QBzIg4_3FezoJr', '_score': 2.0789416, '_source': {'fecha': '1958-01-29T08:17:27', 'agencia': 'La Paz', 'monto': 2158.46, 'descripcion': 'Pago en interés', 'saldo': 541111.11, 'nota': 'temporibus quasi cupiditate nobis reiciendis facere'}}]}\n",
      "{'aggs': {'value': 2015.98668276564}}\n"
     ]
    }
   ],
   "source": [
    "start_time = time.time()\n",
    "results = promedio_monto_agencia(agencia=\"La Paz\")\n",
    "end_time = time.time()\n",
    "\n",
    "print(f\"Se encontraron {results['hits']['total']['value']} en un tiempo de {str(timedelta(seconds = (end_time - start_time)))}\")\n",
    "print(\"=\"*100)\n",
    "\n",
    "print(results['hits'])\n",
    "print(results['aggregations'])"
   ]
  },
  {
   "cell_type": "markdown",
   "metadata": {},
   "source": [
    "## Actualización de datos"
   ]
  },
  {
   "cell_type": "markdown",
   "metadata": {},
   "source": [
    "### Actualización de montos en un rango determinado de fechas"
   ]
  },
  {
   "cell_type": "code",
   "execution_count": 66,
   "metadata": {},
   "outputs": [],
   "source": [
    "def actualizacion_fecha_monto(min_date, max_date, monto):\n",
    "      from_date_str = f\"{min_date}\" + \"T00:00:00+00:00\"\n",
    "      to_date_str = f\"{max_date}\" + \"T23:59:59+00:00\"\n",
    "   \n",
    "\n",
    "      script = {\n",
    "            \"source\": f\"ctx._source['monto'] = {monto}; ctx._source['nota'] = 'Actualización de monto por fecha'; \",\n",
    "            \"lang\": \"painless\"\n",
    "      }\n",
    "\n",
    "      query = {\n",
    "                  \"range\" : {\n",
    "                  \"fecha\": { \"gte\" : f\"{min_date}\", \"lte\" : f\"{max_date}\" },\n",
    "                  }\n",
    "      }\n",
    "\n",
    "      return es.update_by_query(query=query, script=script, index='extracto_cuenta')"
   ]
  },
  {
   "cell_type": "code",
   "execution_count": 67,
   "metadata": {},
   "outputs": [
    {
     "name": "stdout",
     "output_type": "stream",
     "text": [
      "Se actualizaron 1 en un tiempo de 0:00:00.534087\n"
     ]
    }
   ],
   "source": [
    "start_time = time.time()\n",
    "results = actualizacion_fecha_monto(min_date = \"2022-01-01\", max_date = \"2022-05-30\", monto = 7000)\n",
    "end_time = time.time()\n",
    "\n",
    "\n",
    "print(f\"Se actualizaron {results['total']} en un tiempo de {str(timedelta(seconds = (end_time - start_time)))}\")"
   ]
  },
  {
   "cell_type": "code",
   "execution_count": 68,
   "metadata": {},
   "outputs": [
    {
     "name": "stdout",
     "output_type": "stream",
     "text": [
      "{'descripcion': 'Retención IVA', 'fecha': '2022-01-01T00:47:54', 'monto': 7000, 'saldo': 4493676.34, 'nota': 'Actualización de monto por fecha', 'agencia': 'Tarija'}\n",
      "Se encontraron: 1 resultados\n"
     ]
    }
   ],
   "source": [
    "query = {\n",
    "    \"range\" : {\n",
    "                  \"fecha\": { \"gte\" : f\"2022-01-01\", \"lte\" : f\"2022-05-30\" },\n",
    "      }\n",
    "  }\n",
    "\n",
    "results = es.search(index='extracto_cuenta', query=query)\n",
    "\n",
    "for hit in results['hits']['hits']:\n",
    "    print(hit[\"_source\"])\n",
    "\n",
    "print(f\"Se encontraron: {results['hits']['total']['value']} resultados\")"
   ]
  },
  {
   "cell_type": "markdown",
   "metadata": {},
   "source": [
    "## Eliminar datos"
   ]
  },
  {
   "cell_type": "markdown",
   "metadata": {},
   "source": [
    "### Eliminar saldos menores a determinado número"
   ]
  },
  {
   "cell_type": "code",
   "execution_count": 69,
   "metadata": {},
   "outputs": [],
   "source": [
    "def eliminar_saldo_min(saldo_min):\n",
    "\n",
    "    query = {\n",
    "        \"range\" : {\n",
    "                  \"saldo\": { \"lte\" : f\"{saldo_min}\"},\n",
    "      }\n",
    "    }\n",
    "\n",
    "    return es.delete_by_query(index = 'extracto_cuenta', query = query)"
   ]
  },
  {
   "cell_type": "code",
   "execution_count": 70,
   "metadata": {},
   "outputs": [
    {
     "name": "stdout",
     "output_type": "stream",
     "text": [
      "{'took': 326, 'timed_out': False, 'total': 2, 'deleted': 2, 'batches': 1, 'version_conflicts': 0, 'noops': 0, 'retries': {'bulk': 0, 'search': 0}, 'throttled_millis': 0, 'requests_per_second': -1.0, 'throttled_until_millis': 0, 'failures': []}\n",
      "Se eliminaron 2 en un tiempo de 0:00:00.334268\n"
     ]
    }
   ],
   "source": [
    "start_time = time.time()\n",
    "results = eliminar_saldo_min(saldo_min= 100)\n",
    "end_time = time.time()\n",
    "\n",
    "print(results)\n",
    "print(f\"Se eliminaron {results['total']} en un tiempo de {str(timedelta(seconds = (end_time - start_time)))}\")"
   ]
  },
  {
   "cell_type": "code",
   "execution_count": 71,
   "metadata": {},
   "outputs": [
    {
     "name": "stdout",
     "output_type": "stream",
     "text": [
      "Se encontraron: 0 resultados\n"
     ]
    }
   ],
   "source": [
    "query = {\n",
    "    \"range\" : {\n",
    "                  \"saldo\": { \"lte\" : 100},\n",
    "      }\n",
    "  }\n",
    "\n",
    "results = es.search(index='extracto_cuenta', query=query)\n",
    "\n",
    "for hit in results['hits']['hits']:\n",
    "    print(hit[\"_source\"])\n",
    "\n",
    "print(f\"Se encontraron: {results['hits']['total']['value']} resultados\")"
   ]
  },
  {
   "cell_type": "markdown",
   "metadata": {},
   "source": [
    "# Mas de 10 millon de registros"
   ]
  },
  {
   "cell_type": "markdown",
   "metadata": {},
   "source": [
    "## Carga de datos"
   ]
  },
  {
   "cell_type": "code",
   "execution_count": 72,
   "metadata": {},
   "outputs": [
    {
     "name": "stdout",
     "output_type": "stream",
     "text": [
      "Tiempo de carga de datos: 1:12:24.442911\n"
     ]
    }
   ],
   "source": [
    "def gendata():\n",
    "    for i in range(500000):\n",
    "        fecha = random_date(d1, d2)\n",
    "        agencia = random.choice(['La Paz', 'Oruro', 'Cochabamba', 'Chuquisaca', 'Pando', 'Beni', 'Santa Cruz', 'Tarija'])\n",
    "        monto = round(random.uniform(10.0, 4000.0), 2)\n",
    "        descripcion = random.choice(descripciones)\n",
    "        saldo = round(random.uniform(0.0, 10000000.0), 2)\n",
    "        nota = lorem.words(randint(1,13))\n",
    "\n",
    "        yield {\n",
    "            \"_index\": \"extracto_cuenta\",\n",
    "            'fecha': fecha,\n",
    "            'agencia': agencia,\n",
    "            'monto': monto,\n",
    "            'descripcion': descripcion,\n",
    "            'saldo': saldo,\n",
    "            'nota': nota\n",
    "        }\n",
    "\n",
    "start_time = time.time()\n",
    "\n",
    "for _ in range(0,25):\n",
    "    try:\n",
    "        helpers.bulk(es, gendata())\n",
    "    except: \n",
    "        pass\n",
    "    \n",
    "end_time = time.time()\n",
    "\n",
    "# Mostramos los resultados en consola\n",
    "print(f'Tiempo de carga de datos: {str(timedelta(seconds = (end_time - start_time)))}')"
   ]
  },
  {
   "cell_type": "code",
   "execution_count": 74,
   "metadata": {},
   "outputs": [
    {
     "name": "stdout",
     "output_type": "stream",
     "text": [
      "Tiempo de carga de datos: 0:05:06.937152\n"
     ]
    }
   ],
   "source": [
    "def gendata():\n",
    "    for i in range(500000):\n",
    "        fecha = random_date(d1, d2)\n",
    "        agencia = random.choice(['La Paz', 'Oruro', 'Cochabamba', 'Chuquisaca', 'Pando', 'Beni', 'Santa Cruz', 'Tarija'])\n",
    "        monto = round(random.uniform(10.0, 4000.0), 2)\n",
    "        descripcion = random.choice(descripciones)\n",
    "        saldo = round(random.uniform(0.0, 10000000.0), 2)\n",
    "        nota = lorem.words(randint(1,13))\n",
    "\n",
    "        yield {\n",
    "            \"_index\": \"extracto_cuenta\",\n",
    "            'fecha': fecha,\n",
    "            'agencia': agencia,\n",
    "            'monto': monto,\n",
    "            'descripcion': descripcion,\n",
    "            'saldo': saldo,\n",
    "            'nota': nota\n",
    "        }\n",
    "\n",
    "start_time = time.time()\n",
    "\n",
    "for _ in range(0,2):\n",
    "    try:\n",
    "        helpers.bulk(es, gendata())\n",
    "    except: \n",
    "        pass\n",
    "    \n",
    "end_time = time.time()\n",
    "\n",
    "# Mostramos los resultados en consola\n",
    "print(f'Tiempo de carga de datos: {str(timedelta(seconds = (end_time - start_time)))}')"
   ]
  },
  {
   "cell_type": "code",
   "execution_count": 75,
   "metadata": {},
   "outputs": [
    {
     "name": "stdout",
     "output_type": "stream",
     "text": [
      "{\"count\":10469500,\"_shards\":{\"total\":1,\"successful\":1,\"skipped\":0,\"failed\":0}}"
     ]
    }
   ],
   "source": [
    "!curl -XGET http://localhost:9200/extracto_cuenta/_count"
   ]
  },
  {
   "cell_type": "markdown",
   "metadata": {},
   "source": [
    "## Consulta de datos"
   ]
  },
  {
   "cell_type": "markdown",
   "metadata": {},
   "source": [
    "### Búsqueda por fecha y agencia"
   ]
  },
  {
   "cell_type": "code",
   "execution_count": 76,
   "metadata": {},
   "outputs": [
    {
     "name": "stdout",
     "output_type": "stream",
     "text": [
      "Se encontraron 1502 en un tiempo de 0:00:02.454354\n",
      "====================================================================================================\n",
      "{'fecha': '2021-05-07T03:24:29', 'agencia': 'Santa Cruz', 'monto': 3461.86, 'descripcion': 'Transferencia interbancaria SIMPLE', 'saldo': 9893162.25, 'nota': 'blanditiis itaque cupiditate explicabo'}\n",
      "{'fecha': '2021-05-26T13:46:29', 'agencia': 'Santa Cruz', 'monto': 1247.1, 'descripcion': 'Transferencia interbancaria SIMPLE', 'saldo': 6314865.37, 'nota': 'officiis autem adipisci officia esse corrupti'}\n",
      "{'fecha': '2021-05-27T07:17:19', 'agencia': 'Santa Cruz', 'monto': 3327.88, 'descripcion': 'Debito Cta por pago de Seguro', 'saldo': 5857848.61, 'nota': 'rem asperiores quisquam suscipit dicta voluptatem deleniti officia sit minus alias nisi'}\n",
      "{'fecha': '2021-05-19T23:32:55', 'agencia': 'Santa Cruz', 'monto': 99.86, 'descripcion': 'Pago en interés', 'saldo': 8595914.55, 'nota': 'alias'}\n",
      "{'fecha': '2021-05-19T12:24:33', 'agencia': 'Santa Cruz', 'monto': 3076.24, 'descripcion': 'Pago en interés', 'saldo': 3910177.71, 'nota': 'nam sapiente aliquam nisi eligendi corporis suscipit quasi earum asperiores nobis rem'}\n",
      "{'fecha': '2021-05-04T22:34:56', 'agencia': 'Santa Cruz', 'monto': 3387.11, 'descripcion': 'Debito Cta por pago de Seguro', 'saldo': 3361320.17, 'nota': 'quisquam atque'}\n",
      "{'fecha': '2021-05-28T17:18:18', 'agencia': 'Santa Cruz', 'monto': 140.98, 'descripcion': 'Retiro en efectivo', 'saldo': 6594097.16, 'nota': 'laborum'}\n",
      "{'fecha': '2021-05-03T04:34:23', 'agencia': 'Santa Cruz', 'monto': 1583.08, 'descripcion': 'Pago en interés', 'saldo': 3860525.17, 'nota': 'eligendi optio dolor quas quaerat deserunt'}\n",
      "{'fecha': '2021-05-11T23:38:15', 'agencia': 'Santa Cruz', 'monto': 2175.33, 'descripcion': 'Transferencia interbancaria SIMPLE', 'saldo': 8438688.77, 'nota': 'libero ad officia necessitatibus ex quia et neque dolor a quo fugiat'}\n",
      "{'fecha': '2021-05-13T17:26:13', 'agencia': 'Santa Cruz', 'monto': 1808.25, 'descripcion': 'Retiro en efectivo', 'saldo': 8467254.28, 'nota': 'atque ab'}\n"
     ]
    }
   ],
   "source": [
    "start_time = time.time()\n",
    "results = busqueda_fecha_agencia(month=\"05\", year = \"2021\", agencia = \"Santa Cruz\")\n",
    "end_time = time.time()\n",
    "\n",
    "print(f\"Se encontraron {results['hits']['total']['value']} en un tiempo de {str(timedelta(seconds = (end_time - start_time)))}\")\n",
    "print(\"=\"*100)\n",
    "\n",
    "for hit in results['hits']['hits']:\n",
    "    print(hit[\"_source\"])"
   ]
  },
  {
   "cell_type": "markdown",
   "metadata": {},
   "source": [
    "### Búsqueda por montos mayores a determinado número y agencia"
   ]
  },
  {
   "cell_type": "code",
   "execution_count": 77,
   "metadata": {},
   "outputs": [
    {
     "name": "stdout",
     "output_type": "stream",
     "text": [
      "Se encontraron 10000 en un tiempo de 0:00:02.061207\n",
      "====================================================================================================\n",
      "{'fecha': '1977-09-09T03:37:13', 'agencia': 'Cochabamba', 'monto': 3516.03, 'descripcion': 'Retiro en efectivo', 'saldo': 4780436.8, 'nota': 'dolorum aut molestiae libero adipisci modi corrupti'}\n",
      "{'fecha': '2013-07-11T15:05:55', 'agencia': 'Cochabamba', 'monto': 3648.64, 'descripcion': 'Retiro en efectivo', 'saldo': 5900955.72, 'nota': 'corrupti blanditiis libero rerum sed perspiciatis nisi quisquam'}\n",
      "{'fecha': '1972-12-03T17:56:35', 'agencia': 'Cochabamba', 'monto': 3413.83, 'descripcion': 'DEB.CTA.P/C.INTERNET', 'saldo': 6966391.74, 'nota': 'veniam minus sequi ullam non saepe est'}\n",
      "{'fecha': '1961-12-01T15:42:51', 'agencia': 'Cochabamba', 'monto': 3424.54, 'descripcion': 'Debito Cta por compra', 'saldo': 3756687.42, 'nota': 'vitae consequatur'}\n",
      "{'fecha': '2015-05-31T02:35:24', 'agencia': 'Cochabamba', 'monto': 3964.37, 'descripcion': 'Debito Cta por ACH', 'saldo': 5471718.23, 'nota': 'vero'}\n",
      "{'fecha': '1980-02-27T01:22:43', 'agencia': 'Cochabamba', 'monto': 3684.25, 'descripcion': 'Pago en interés', 'saldo': 8628699.61, 'nota': 'numquam fuga sit vero earum recusandae'}\n",
      "{'fecha': '2006-04-27T21:18:52', 'agencia': 'Cochabamba', 'monto': 3242.77, 'descripcion': 'Retención IVA', 'saldo': 6000030.61, 'nota': 'tenetur exercitationem tempora'}\n",
      "{'fecha': '1960-09-01T20:22:37', 'agencia': 'Cochabamba', 'monto': 3817.13, 'descripcion': 'Debito Cta por ACH', 'saldo': 425393.59, 'nota': 'in expedita ab velit perspiciatis minus illum iste impedit aliquid'}\n",
      "{'fecha': '1982-02-22T15:45:59', 'agencia': 'Cochabamba', 'monto': 3303.03, 'descripcion': 'Debito Cta por compra', 'saldo': 906718.2, 'nota': 'aperiam in ipsum adipisci neque cum ut repellat tempora inventore'}\n",
      "{'fecha': '1984-05-09T10:02:58', 'agencia': 'Cochabamba', 'monto': 3127.5, 'descripcion': 'Transferencia interbancaria SIMPLE', 'saldo': 4967626.11, 'nota': 'saepe'}\n"
     ]
    }
   ],
   "source": [
    "start_time = time.time()\n",
    "results = busqueda_monto_mayor(monto=3000, agencia = \"Cochabamba\")\n",
    "end_time = time.time()\n",
    "\n",
    "print(f\"Se encontraron {results['hits']['total']['value']} en un tiempo de {str(timedelta(seconds = (end_time - start_time)))}\")\n",
    "print(\"=\"*100)\n",
    "\n",
    "for hit in results['hits']['hits']:\n",
    "    print(hit[\"_source\"])"
   ]
  },
  {
   "cell_type": "markdown",
   "metadata": {},
   "source": [
    "### Búsqueda considerando varios campos"
   ]
  },
  {
   "cell_type": "code",
   "execution_count": 99,
   "metadata": {},
   "outputs": [],
   "source": [
    "def busqueda_compleja(saldo_min, saldo_max, agencia1, agencia2, descripcion):\n",
    "    query = {\n",
    "            \"bool\": {\n",
    "                \"must\": [\n",
    "                    {\n",
    "                        \"bool\": {\n",
    "                            \"should\": [\n",
    "                                {\"match\": {\"agencia\": f\"{agencia1}\"}},\n",
    "                                {\"match\": {\"agencia\": f\"{agencia2}\"}}\n",
    "                            ]\n",
    "                        }\n",
    "                    },\n",
    "                    {\n",
    "                        \"bool\": {\n",
    "                            \"must\": [\n",
    "                                {\n",
    "                                    \"range\" : {\n",
    "                                        \"monto\": { \"gte\" : f\"{saldo_min}\", \"lte\": f\"{saldo_max}\"}\n",
    "                                    }\n",
    "                                }\n",
    "                            ]\n",
    "                        }\n",
    "                    },\n",
    "                    {\n",
    "                        \"match\": {\"descripcion\": f\"{descripcion}\"}\n",
    "                    }\n",
    "                ]\n",
    "            }\n",
    "    }\n",
    "\n",
    "    return es.search(index='extracto_cuenta', query=query)"
   ]
  },
  {
   "cell_type": "code",
   "execution_count": 101,
   "metadata": {},
   "outputs": [
    {
     "name": "stdout",
     "output_type": "stream",
     "text": [
      "Se encontraron 10000 en un tiempo de 0:00:03.324822\n",
      "====================================================================================================\n",
      "{'fecha': '1992-03-27T22:37:39', 'agencia': 'Beni', 'monto': 3514.88, 'descripcion': 'Retiro en efectivo', 'saldo': 7564017.42, 'nota': 'maiores blanditiis impedit libero laborum nostrum suscipit nobis enim corrupti dicta eveniet sit'}\n",
      "{'fecha': '1955-08-11T05:50:04', 'agencia': 'Beni', 'monto': 1515.24, 'descripcion': 'Retiro en efectivo', 'saldo': 6969180.17, 'nota': 'accusamus quidem consequuntur doloremque veniam eum eveniet'}\n",
      "{'fecha': '1954-07-25T13:59:31', 'agencia': 'Beni', 'monto': 2324.39, 'descripcion': 'Retiro en efectivo', 'saldo': 5438280.1, 'nota': 'sunt voluptas maxime praesentium tempora ullam nostrum sit molestias similique'}\n",
      "{'fecha': '1991-12-03T16:13:37', 'agencia': 'Beni', 'monto': 2657.4, 'descripcion': 'Retiro en efectivo', 'saldo': 8994435.01, 'nota': 'molestias deserunt dignissimos et'}\n",
      "{'fecha': '2007-11-12T12:23:26', 'agencia': 'Beni', 'monto': 1046.99, 'descripcion': 'Retiro en efectivo', 'saldo': 9289430.52, 'nota': 'officiis voluptas quam distinctio culpa asperiores excepturi est nihil expedita'}\n",
      "{'fecha': '1976-12-10T05:26:44', 'agencia': 'Beni', 'monto': 2915.08, 'descripcion': 'Retiro en efectivo', 'saldo': 6033072.86, 'nota': 'quas debitis expedita neque aspernatur'}\n",
      "{'fecha': '1967-03-11T04:49:14', 'agencia': 'Beni', 'monto': 1964.88, 'descripcion': 'Retiro en efectivo', 'saldo': 943066.63, 'nota': 'magni aut iste minima quia accusamus dolor labore asperiores nulla'}\n",
      "{'fecha': '1967-03-17T08:27:04', 'agencia': 'Beni', 'monto': 2498.34, 'descripcion': 'Retiro en efectivo', 'saldo': 4961330.04, 'nota': 'minima fugiat excepturi magnam ipsam labore autem'}\n",
      "{'fecha': '1950-04-02T23:09:04', 'agencia': 'Beni', 'monto': 1279.36, 'descripcion': 'Retiro en efectivo', 'saldo': 2053597.63, 'nota': 'at mollitia reiciendis voluptas quam eveniet asperiores repellendus assumenda'}\n",
      "{'fecha': '1977-04-18T15:53:10', 'agencia': 'Beni', 'monto': 1150.4, 'descripcion': 'Retiro en efectivo', 'saldo': 958151.79, 'nota': 'nulla excepturi culpa delectus incidunt ipsam sed repudiandae quas consequuntur'}\n"
     ]
    }
   ],
   "source": [
    "start_time = time.time()\n",
    "results = busqueda_compleja(saldo_min=1000, saldo_max=1500000, agencia1=\"Beni\", agencia2=\"Pando\", descripcion=\"Retiro en efectivo\")\n",
    "end_time = time.time()\n",
    "\n",
    "print(f\"Se encontraron {results['hits']['total']['value']} en un tiempo de {str(timedelta(seconds = (end_time - start_time)))}\")\n",
    "print(\"=\"*100)\n",
    "\n",
    "for hit in results['hits']['hits']:\n",
    "    print(hit[\"_source\"])"
   ]
  },
  {
   "cell_type": "markdown",
   "metadata": {},
   "source": [
    "### Agregaciones: Monto promedio por agencia"
   ]
  },
  {
   "cell_type": "code",
   "execution_count": 102,
   "metadata": {},
   "outputs": [
    {
     "name": "stdout",
     "output_type": "stream",
     "text": [
      "Se encontraron 10000 en un tiempo de 0:00:02.052796\n",
      "====================================================================================================\n",
      "{'total': {'value': 10000, 'relation': 'gte'}, 'max_score': 3.3407502, 'hits': [{'_index': 'extracto_cuenta', '_id': 'RVyhNYQBKdMpO4lrUdjb', '_score': 3.3407502, '_source': {'fecha': '1965-10-14T12:51:17', 'agencia': 'La Paz', 'monto': 1055.86, 'descripcion': 'Retención IVA', 'saldo': 259714.1, 'nota': 'distinctio cupiditate sed impedit quasi est'}}, {'_index': 'extracto_cuenta', '_id': 'UVyhNYQBKdMpO4lrUdjb', '_score': 3.3407502, '_source': {'fecha': '1972-09-17T08:22:13', 'agencia': 'La Paz', 'monto': 3804.55, 'descripcion': 'AB.CTA.P/MOVIL', 'saldo': 5197980.07, 'nota': 'consectetur ipsa velit repudiandae ullam'}}, {'_index': 'extracto_cuenta', '_id': 'XVyhNYQBKdMpO4lrUdjb', '_score': 3.3407502, '_source': {'fecha': '1960-08-12T05:47:43', 'agencia': 'La Paz', 'monto': 1514.74, 'descripcion': 'Debito Cta por pago de Seguro', 'saldo': 6499602.55, 'nota': 'voluptates corrupti'}}, {'_index': 'extracto_cuenta', '_id': 'YVyhNYQBKdMpO4lrUdjb', '_score': 3.3407502, '_source': {'fecha': '1992-05-27T00:28:34', 'agencia': 'La Paz', 'monto': 2295.67, 'descripcion': 'Transferencia interbancaria SIMPLE', 'saldo': 6492892.73, 'nota': 'esse nam nihil placeat quae accusamus rerum magnam corporis natus'}}, {'_index': 'extracto_cuenta', '_id': 'YlyhNYQBKdMpO4lrUdjb', '_score': 3.3407502, '_source': {'fecha': '2020-07-30T09:45:13', 'agencia': 'La Paz', 'monto': 163.0, 'descripcion': 'DEB.CTA.P/C.INTERNET', 'saldo': 6591920.84, 'nota': 'omnis unde ipsam iste distinctio reiciendis maxime odio'}}, {'_index': 'extracto_cuenta', '_id': 'bVyhNYQBKdMpO4lrUdjb', '_score': 3.3407502, '_source': {'fecha': '1980-07-05T12:53:20', 'agencia': 'La Paz', 'monto': 3998.53, 'descripcion': 'Debito Cta por ACH', 'saldo': 7036885.43, 'nota': 'odit quia repudiandae soluta enim aliquam iure rem ad a vero ab aperiam'}}, {'_index': 'extracto_cuenta', '_id': 'eVyhNYQBKdMpO4lrUdjb', '_score': 3.3407502, '_source': {'fecha': '2002-02-19T22:01:02', 'agencia': 'La Paz', 'monto': 1437.19, 'descripcion': 'Debito Cta por ACH', 'saldo': 7252670.54, 'nota': 'velit qui nemo doloremque nesciunt'}}, {'_index': 'extracto_cuenta', '_id': 'hVyhNYQBKdMpO4lrUdjb', '_score': 3.3407502, '_source': {'fecha': '1978-10-24T23:43:29', 'agencia': 'La Paz', 'monto': 1999.7, 'descripcion': 'DEB.CTA.P/C.INTERNET', 'saldo': 1063165.82, 'nota': 'excepturi illum'}}, {'_index': 'extracto_cuenta', '_id': 'iVyhNYQBKdMpO4lrUdjb', '_score': 3.3407502, '_source': {'fecha': '1972-06-24T04:59:39', 'agencia': 'La Paz', 'monto': 3062.33, 'descripcion': 'Retención IVA', 'saldo': 254467.14, 'nota': 'fugit nisi dolor laboriosam eveniet suscipit aut ad fuga'}}, {'_index': 'extracto_cuenta', '_id': 'kFyhNYQBKdMpO4lrUdjb', '_score': 3.3407502, '_source': {'fecha': '2019-02-20T06:05:02', 'agencia': 'La Paz', 'monto': 3816.32, 'descripcion': 'Retiro en efectivo', 'saldo': 3689752.58, 'nota': 'laboriosam rem repudiandae'}}]}\n",
      "{'aggs': {'value': 2002.4754714520361}}\n"
     ]
    }
   ],
   "source": [
    "start_time = time.time()\n",
    "results = promedio_monto_agencia(agencia=\"La Paz\")\n",
    "end_time = time.time()\n",
    "\n",
    "print(f\"Se encontraron {results['hits']['total']['value']} en un tiempo de {str(timedelta(seconds = (end_time - start_time)))}\")\n",
    "print(\"=\"*100)\n",
    "\n",
    "print(results['hits'])\n",
    "print(results['aggregations'])"
   ]
  },
  {
   "cell_type": "markdown",
   "metadata": {},
   "source": [
    "## Actualización de datos"
   ]
  },
  {
   "cell_type": "markdown",
   "metadata": {},
   "source": [
    "### Actualización de montos en un rango determinado de fechas"
   ]
  },
  {
   "cell_type": "code",
   "execution_count": 103,
   "metadata": {},
   "outputs": [
    {
     "name": "stdout",
     "output_type": "stream",
     "text": [
      "Se actualizaron 20 en un tiempo de 0:00:03.214966\n"
     ]
    }
   ],
   "source": [
    "start_time = time.time()\n",
    "results = actualizacion_fecha_monto(min_date = \"2022-01-01\", max_date = \"2022-05-30\", monto = 7000)\n",
    "end_time = time.time()\n",
    "\n",
    "\n",
    "print(f\"Se actualizaron {results['total']} en un tiempo de {str(timedelta(seconds = (end_time - start_time)))}\")"
   ]
  },
  {
   "cell_type": "code",
   "execution_count": 104,
   "metadata": {},
   "outputs": [
    {
     "name": "stdout",
     "output_type": "stream",
     "text": [
      "{'descripcion': 'Debito Cta por pago de Seguro', 'fecha': '2022-01-01T00:30:33', 'monto': 7000, 'saldo': 4499644.88, 'nota': 'Actualización de monto por fecha', 'agencia': 'Oruro'}\n",
      "{'descripcion': 'DEB.CTA.P/C.INTERNET', 'fecha': '2022-01-01T00:11:42', 'monto': 7000, 'saldo': 5689893.75, 'nota': 'Actualización de monto por fecha', 'agencia': 'Beni'}\n",
      "{'descripcion': 'Retención IVA', 'fecha': '2022-01-01T00:01:34', 'monto': 7000, 'saldo': 7351642.72, 'nota': 'Actualización de monto por fecha', 'agencia': 'Pando'}\n",
      "{'descripcion': 'Retiro en efectivo', 'fecha': '2022-01-01T00:35:35', 'monto': 7000, 'saldo': 193253.51, 'nota': 'Actualización de monto por fecha', 'agencia': 'Santa Cruz'}\n",
      "{'descripcion': 'Pago en interés', 'fecha': '2022-01-01T00:27:13', 'monto': 7000, 'saldo': 151798.37, 'nota': 'Actualización de monto por fecha', 'agencia': 'Cochabamba'}\n",
      "{'descripcion': 'Retención IVA', 'fecha': '2022-01-01T00:49:50', 'monto': 7000, 'saldo': 5993279.21, 'nota': 'Actualización de monto por fecha', 'agencia': 'La Paz'}\n",
      "{'descripcion': 'Debito Cta por pago de Seguro', 'fecha': '2022-01-01T00:05:08', 'monto': 7000, 'saldo': 8148054.46, 'nota': 'Actualización de monto por fecha', 'agencia': 'Tarija'}\n",
      "{'descripcion': 'Retiro en efectivo', 'fecha': '2022-01-01T00:36:59', 'monto': 7000, 'saldo': 7588303.05, 'nota': 'Actualización de monto por fecha', 'agencia': 'Tarija'}\n",
      "{'descripcion': 'Debito Cta por ACH', 'fecha': '2022-01-01T00:42:21', 'monto': 7000, 'saldo': 4503739.24, 'nota': 'Actualización de monto por fecha', 'agencia': 'La Paz'}\n",
      "{'descripcion': 'AB.CTA.P/MOVIL', 'fecha': '2022-01-01T00:50:25', 'monto': 7000, 'saldo': 1243628.88, 'nota': 'Actualización de monto por fecha', 'agencia': 'Oruro'}\n",
      "Se encontraron: 20 resultados\n"
     ]
    }
   ],
   "source": [
    "query = {\n",
    "    \"range\" : {\n",
    "                  \"fecha\": { \"gte\" : f\"2022-01-01\", \"lte\" : f\"2022-05-30\" },\n",
    "      }\n",
    "  }\n",
    "\n",
    "results = es.search(index='extracto_cuenta', query=query)\n",
    "\n",
    "for hit in results['hits']['hits']:\n",
    "    print(hit[\"_source\"])\n",
    "\n",
    "print(f\"Se encontraron: {results['hits']['total']['value']} resultados\")"
   ]
  },
  {
   "cell_type": "markdown",
   "metadata": {},
   "source": [
    "## Eliminar datos"
   ]
  },
  {
   "cell_type": "markdown",
   "metadata": {},
   "source": [
    "### Eliminar saldos menores a determinado número"
   ]
  },
  {
   "cell_type": "code",
   "execution_count": 105,
   "metadata": {},
   "outputs": [
    {
     "name": "stdout",
     "output_type": "stream",
     "text": [
      "{'took': 6080, 'timed_out': False, 'total': 116, 'deleted': 116, 'batches': 1, 'version_conflicts': 0, 'noops': 0, 'retries': {'bulk': 0, 'search': 0}, 'throttled_millis': 0, 'requests_per_second': -1.0, 'throttled_until_millis': 0, 'failures': []}\n",
      "Se eliminaron 116 en un tiempo de 0:00:06.084581\n"
     ]
    }
   ],
   "source": [
    "start_time = time.time()\n",
    "results = eliminar_saldo_min(saldo_min= 100)\n",
    "end_time = time.time()\n",
    "\n",
    "print(results)\n",
    "print(f\"Se eliminaron {results['total']} en un tiempo de {str(timedelta(seconds = (end_time - start_time)))}\")"
   ]
  },
  {
   "cell_type": "code",
   "execution_count": 106,
   "metadata": {},
   "outputs": [
    {
     "name": "stdout",
     "output_type": "stream",
     "text": [
      "Se encontraron: 0 resultados\n"
     ]
    }
   ],
   "source": [
    "query = {\n",
    "    \"range\" : {\n",
    "                  \"saldo\": { \"lte\" : 100},\n",
    "      }\n",
    "  }\n",
    "\n",
    "results = es.search(index='extracto_cuenta', query=query)\n",
    "\n",
    "for hit in results['hits']['hits']:\n",
    "    print(hit[\"_source\"])\n",
    "\n",
    "print(f\"Se encontraron: {results['hits']['total']['value']} resultados\")"
   ]
  }
 ],
 "metadata": {
  "kernelspec": {
   "display_name": "Python 3.9.12 ('base')",
   "language": "python",
   "name": "python3"
  },
  "language_info": {
   "codemirror_mode": {
    "name": "ipython",
    "version": 3
   },
   "file_extension": ".py",
   "mimetype": "text/x-python",
   "name": "python",
   "nbconvert_exporter": "python",
   "pygments_lexer": "ipython3",
   "version": "3.9.12"
  },
  "orig_nbformat": 4,
  "vscode": {
   "interpreter": {
    "hash": "d7e5a1f785ed82844e2da5d30522181462e1597dbd1807cbc4c5c0cc1d5a2e0b"
   }
  }
 },
 "nbformat": 4,
 "nbformat_minor": 2
}

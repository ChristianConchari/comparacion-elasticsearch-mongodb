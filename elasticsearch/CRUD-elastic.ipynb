{
 "cells": [
  {
   "cell_type": "markdown",
   "metadata": {},
   "source": [
    "# Cargamos librerias y conectamos la base de datos"
   ]
  },
  {
   "cell_type": "code",
   "execution_count": 5,
   "metadata": {},
   "outputs": [
    {
     "name": "stdout",
     "output_type": "stream",
     "text": [
      "Connected to ElasticSearch cluster `docker-cluster`\n"
     ]
    }
   ],
   "source": [
    "from elasticsearch import Elasticsearch\n",
    "from elasticsearch import helpers\n",
    "import time, json, random\n",
    "from random import randrange\n",
    "from datetime import timedelta, datetime\n",
    "from random import randint\n",
    "from lorem_text import lorem\n",
    "from flask import jsonify\n",
    "\n",
    "es = Elasticsearch(\"http://127.0.0.1:9200\")\n",
    "\n",
    "print(f\"Connected to ElasticSearch cluster `{es.info().body['cluster_name']}`\")"
   ]
  },
  {
   "cell_type": "markdown",
   "metadata": {},
   "source": [
    "# Generación de datos aleatorios"
   ]
  },
  {
   "cell_type": "code",
   "execution_count": 6,
   "metadata": {},
   "outputs": [],
   "source": [
    "def random_date(start, end):\n",
    "    delta = end - start\n",
    "    int_delta = (delta.days * 24 * 60 * 60) + delta.seconds\n",
    "    random_second = randrange(int_delta)\n",
    "    return start + timedelta(seconds=random_second)"
   ]
  },
  {
   "cell_type": "code",
   "execution_count": 7,
   "metadata": {},
   "outputs": [
    {
     "name": "stdout",
     "output_type": "stream",
     "text": [
      "1979-06-10 11:11:29\n"
     ]
    }
   ],
   "source": [
    "d1 = datetime.strptime('1/1/1950 12:59 PM', '%m/%d/%Y %I:%M %p')\n",
    "d2 = datetime.strptime('1/1/2022 01:00 AM', '%m/%d/%Y %I:%M %p')\n",
    "print(random_date(d1, d2))  "
   ]
  },
  {
   "cell_type": "code",
   "execution_count": 8,
   "metadata": {},
   "outputs": [],
   "source": [
    "descripciones = [\n",
    "    'Transferencia interbancaria SIMPLE',\n",
    "    'DEB.CTA.P/C.INTERNET',\n",
    "    'Debito Cta por ACH',\n",
    "    'Retiro en efectivo',\n",
    "    'AB.CTA.P/MOVIL',\n",
    "    'Pago en interés',\n",
    "    'Debito Cta por compra',\n",
    "    'Debito Cta por pago de Seguro',\n",
    "    'Retención IVA'\n",
    "]"
   ]
  },
  {
   "cell_type": "markdown",
   "metadata": {},
   "source": [
    "# Creación de índices"
   ]
  },
  {
   "cell_type": "code",
   "execution_count": 9,
   "metadata": {},
   "outputs": [
    {
     "name": "stderr",
     "output_type": "stream",
     "text": [
      "/tmp/ipykernel_7182/5996740.py:26: DeprecationWarning: Passing transport options in the API method is deprecated. Use 'Elasticsearch.options()' instead.\n",
      "  response = es.indices.create(\n"
     ]
    }
   ],
   "source": [
    "mapping = {\n",
    "    \"mappings\": {\n",
    "        \"properties\": {\n",
    "            \"fecha\": {\n",
    "                \"type\": \"date\"\n",
    "            },\n",
    "            \"agencia\": {\n",
    "                \"type\": \"keyword\"\n",
    "            },\n",
    "            \"monto\": {\n",
    "                \"type\": \"float\"\n",
    "            },\n",
    "            \"descripcion\": {\n",
    "                \"type\": \"text\"\n",
    "            },\n",
    "            \"saldo\": {\n",
    "                \"type\": \"float\"\n",
    "            },\n",
    "            \"nota\": {\n",
    "                \"type\": \"text\"\n",
    "            },\n",
    "        }\n",
    "    }\n",
    "}\n",
    "\n",
    "response = es.indices.create(\n",
    "    index=\"extracto_cuenta\",\n",
    "    mappings = mapping,\n",
    "    ignore=400 # ignore 400 already exists code\n",
    ")"
   ]
  },
  {
   "cell_type": "markdown",
   "metadata": {},
   "source": [
    "# Aproximadamente 100 000 registros"
   ]
  },
  {
   "cell_type": "markdown",
   "metadata": {},
   "source": [
    "## Carga de datos"
   ]
  },
  {
   "cell_type": "markdown",
   "metadata": {},
   "source": [
    "### De forma individual"
   ]
  },
  {
   "cell_type": "code",
   "execution_count": 12,
   "metadata": {},
   "outputs": [
    {
     "ename": "KeyboardInterrupt",
     "evalue": "",
     "output_type": "error",
     "traceback": [
      "\u001b[0;31m---------------------------------------------------------------------------\u001b[0m",
      "\u001b[0;31mKeyboardInterrupt\u001b[0m                         Traceback (most recent call last)",
      "\u001b[1;32m/home/christian/Documents/comparacion-elasticsearch-mongodb/elasticsearch/CRUD-elastic.ipynb Cell 12\u001b[0m in \u001b[0;36m<cell line: 3>\u001b[0;34m()\u001b[0m\n\u001b[1;32m      <a href='vscode-notebook-cell:/home/christian/Documents/comparacion-elasticsearch-mongodb/elasticsearch/CRUD-elastic.ipynb#X14sZmlsZQ%3D%3D?line=8'>9</a>\u001b[0m     nota \u001b[39m=\u001b[39m lorem\u001b[39m.\u001b[39mwords(randint(\u001b[39m1\u001b[39m,\u001b[39m13\u001b[39m))\n\u001b[1;32m     <a href='vscode-notebook-cell:/home/christian/Documents/comparacion-elasticsearch-mongodb/elasticsearch/CRUD-elastic.ipynb#X14sZmlsZQ%3D%3D?line=10'>11</a>\u001b[0m     insert_data \u001b[39m=\u001b[39m {\n\u001b[1;32m     <a href='vscode-notebook-cell:/home/christian/Documents/comparacion-elasticsearch-mongodb/elasticsearch/CRUD-elastic.ipynb#X14sZmlsZQ%3D%3D?line=11'>12</a>\u001b[0m         \u001b[39m'\u001b[39m\u001b[39mfecha\u001b[39m\u001b[39m'\u001b[39m: fecha,\n\u001b[1;32m     <a href='vscode-notebook-cell:/home/christian/Documents/comparacion-elasticsearch-mongodb/elasticsearch/CRUD-elastic.ipynb#X14sZmlsZQ%3D%3D?line=12'>13</a>\u001b[0m         \u001b[39m'\u001b[39m\u001b[39magencia\u001b[39m\u001b[39m'\u001b[39m: agencia,\n\u001b[0;32m   (...)\u001b[0m\n\u001b[1;32m     <a href='vscode-notebook-cell:/home/christian/Documents/comparacion-elasticsearch-mongodb/elasticsearch/CRUD-elastic.ipynb#X14sZmlsZQ%3D%3D?line=16'>17</a>\u001b[0m         \u001b[39m'\u001b[39m\u001b[39mnota\u001b[39m\u001b[39m'\u001b[39m: nota\n\u001b[1;32m     <a href='vscode-notebook-cell:/home/christian/Documents/comparacion-elasticsearch-mongodb/elasticsearch/CRUD-elastic.ipynb#X14sZmlsZQ%3D%3D?line=17'>18</a>\u001b[0m     }\n\u001b[0;32m---> <a href='vscode-notebook-cell:/home/christian/Documents/comparacion-elasticsearch-mongodb/elasticsearch/CRUD-elastic.ipynb#X14sZmlsZQ%3D%3D?line=19'>20</a>\u001b[0m     es\u001b[39m.\u001b[39;49mindex(index\u001b[39m=\u001b[39;49m\u001b[39m\"\u001b[39;49m\u001b[39mextracto_cuenta\u001b[39;49m\u001b[39m\"\u001b[39;49m, document\u001b[39m=\u001b[39;49minsert_data)\n\u001b[1;32m     <a href='vscode-notebook-cell:/home/christian/Documents/comparacion-elasticsearch-mongodb/elasticsearch/CRUD-elastic.ipynb#X14sZmlsZQ%3D%3D?line=21'>22</a>\u001b[0m end_time \u001b[39m=\u001b[39m time\u001b[39m.\u001b[39mtime()\n\u001b[1;32m     <a href='vscode-notebook-cell:/home/christian/Documents/comparacion-elasticsearch-mongodb/elasticsearch/CRUD-elastic.ipynb#X14sZmlsZQ%3D%3D?line=23'>24</a>\u001b[0m \u001b[39m# Mostramos los resultados en consola\u001b[39;00m\n",
      "File \u001b[0;32m~/anaconda3/lib/python3.9/site-packages/elasticsearch/_sync/client/utils.py:414\u001b[0m, in \u001b[0;36m_rewrite_parameters.<locals>.wrapper.<locals>.wrapped\u001b[0;34m(*args, **kwargs)\u001b[0m\n\u001b[1;32m    411\u001b[0m         \u001b[39mexcept\u001b[39;00m \u001b[39mKeyError\u001b[39;00m:\n\u001b[1;32m    412\u001b[0m             \u001b[39mpass\u001b[39;00m\n\u001b[0;32m--> 414\u001b[0m \u001b[39mreturn\u001b[39;00m api(\u001b[39m*\u001b[39;49margs, \u001b[39m*\u001b[39;49m\u001b[39m*\u001b[39;49mkwargs)\n",
      "File \u001b[0;32m~/anaconda3/lib/python3.9/site-packages/elasticsearch/_sync/client/__init__.py:2265\u001b[0m, in \u001b[0;36mElasticsearch.index\u001b[0;34m(self, index, document, id, error_trace, filter_path, human, if_primary_term, if_seq_no, op_type, pipeline, pretty, refresh, require_alias, routing, timeout, version, version_type, wait_for_active_shards)\u001b[0m\n\u001b[1;32m   2263\u001b[0m __body \u001b[39m=\u001b[39m document\n\u001b[1;32m   2264\u001b[0m __headers \u001b[39m=\u001b[39m {\u001b[39m\"\u001b[39m\u001b[39maccept\u001b[39m\u001b[39m\"\u001b[39m: \u001b[39m\"\u001b[39m\u001b[39mapplication/json\u001b[39m\u001b[39m\"\u001b[39m, \u001b[39m\"\u001b[39m\u001b[39mcontent-type\u001b[39m\u001b[39m\"\u001b[39m: \u001b[39m\"\u001b[39m\u001b[39mapplication/json\u001b[39m\u001b[39m\"\u001b[39m}\n\u001b[0;32m-> 2265\u001b[0m \u001b[39mreturn\u001b[39;00m \u001b[39mself\u001b[39;49m\u001b[39m.\u001b[39;49mperform_request(  \u001b[39m# type: ignore[return-value]\u001b[39;49;00m\n\u001b[1;32m   2266\u001b[0m     __method, __path, params\u001b[39m=\u001b[39;49m__query, headers\u001b[39m=\u001b[39;49m__headers, body\u001b[39m=\u001b[39;49m__body\n\u001b[1;32m   2267\u001b[0m )\n",
      "File \u001b[0;32m~/anaconda3/lib/python3.9/site-packages/elasticsearch/_sync/client/_base.py:286\u001b[0m, in \u001b[0;36mBaseClient.perform_request\u001b[0;34m(self, method, path, params, headers, body)\u001b[0m\n\u001b[1;32m    283\u001b[0m \u001b[39melse\u001b[39;00m:\n\u001b[1;32m    284\u001b[0m     target \u001b[39m=\u001b[39m path\n\u001b[0;32m--> 286\u001b[0m meta, resp_body \u001b[39m=\u001b[39m \u001b[39mself\u001b[39;49m\u001b[39m.\u001b[39;49mtransport\u001b[39m.\u001b[39;49mperform_request(\n\u001b[1;32m    287\u001b[0m     method,\n\u001b[1;32m    288\u001b[0m     target,\n\u001b[1;32m    289\u001b[0m     headers\u001b[39m=\u001b[39;49mrequest_headers,\n\u001b[1;32m    290\u001b[0m     body\u001b[39m=\u001b[39;49mbody,\n\u001b[1;32m    291\u001b[0m     request_timeout\u001b[39m=\u001b[39;49m\u001b[39mself\u001b[39;49m\u001b[39m.\u001b[39;49m_request_timeout,\n\u001b[1;32m    292\u001b[0m     max_retries\u001b[39m=\u001b[39;49m\u001b[39mself\u001b[39;49m\u001b[39m.\u001b[39;49m_max_retries,\n\u001b[1;32m    293\u001b[0m     retry_on_status\u001b[39m=\u001b[39;49m\u001b[39mself\u001b[39;49m\u001b[39m.\u001b[39;49m_retry_on_status,\n\u001b[1;32m    294\u001b[0m     retry_on_timeout\u001b[39m=\u001b[39;49m\u001b[39mself\u001b[39;49m\u001b[39m.\u001b[39;49m_retry_on_timeout,\n\u001b[1;32m    295\u001b[0m     client_meta\u001b[39m=\u001b[39;49m\u001b[39mself\u001b[39;49m\u001b[39m.\u001b[39;49m_client_meta,\n\u001b[1;32m    296\u001b[0m )\n\u001b[1;32m    298\u001b[0m \u001b[39m# HEAD with a 404 is returned as a normal response\u001b[39;00m\n\u001b[1;32m    299\u001b[0m \u001b[39m# since this is used as an 'exists' functionality.\u001b[39;00m\n\u001b[1;32m    300\u001b[0m \u001b[39mif\u001b[39;00m \u001b[39mnot\u001b[39;00m (method \u001b[39m==\u001b[39m \u001b[39m\"\u001b[39m\u001b[39mHEAD\u001b[39m\u001b[39m\"\u001b[39m \u001b[39mand\u001b[39;00m meta\u001b[39m.\u001b[39mstatus \u001b[39m==\u001b[39m \u001b[39m404\u001b[39m) \u001b[39mand\u001b[39;00m (\n\u001b[1;32m    301\u001b[0m     \u001b[39mnot\u001b[39;00m \u001b[39m200\u001b[39m \u001b[39m<\u001b[39m\u001b[39m=\u001b[39m meta\u001b[39m.\u001b[39mstatus \u001b[39m<\u001b[39m \u001b[39m299\u001b[39m\n\u001b[1;32m    302\u001b[0m     \u001b[39mand\u001b[39;00m (\n\u001b[0;32m   (...)\u001b[0m\n\u001b[1;32m    306\u001b[0m     )\n\u001b[1;32m    307\u001b[0m ):\n",
      "File \u001b[0;32m~/anaconda3/lib/python3.9/site-packages/elastic_transport/_transport.py:329\u001b[0m, in \u001b[0;36mTransport.perform_request\u001b[0;34m(self, method, target, body, headers, max_retries, retry_on_status, retry_on_timeout, request_timeout, client_meta)\u001b[0m\n\u001b[1;32m    327\u001b[0m start_time \u001b[39m=\u001b[39m time\u001b[39m.\u001b[39mtime()\n\u001b[1;32m    328\u001b[0m \u001b[39mtry\u001b[39;00m:\n\u001b[0;32m--> 329\u001b[0m     meta, raw_data \u001b[39m=\u001b[39m node\u001b[39m.\u001b[39;49mperform_request(\n\u001b[1;32m    330\u001b[0m         method,\n\u001b[1;32m    331\u001b[0m         target,\n\u001b[1;32m    332\u001b[0m         body\u001b[39m=\u001b[39;49mrequest_body,\n\u001b[1;32m    333\u001b[0m         headers\u001b[39m=\u001b[39;49mrequest_headers,\n\u001b[1;32m    334\u001b[0m         request_timeout\u001b[39m=\u001b[39;49mrequest_timeout,\n\u001b[1;32m    335\u001b[0m     )\n\u001b[1;32m    336\u001b[0m     _logger\u001b[39m.\u001b[39minfo(\n\u001b[1;32m    337\u001b[0m         \u001b[39m\"\u001b[39m\u001b[39m%s\u001b[39;00m\u001b[39m \u001b[39m\u001b[39m%s\u001b[39;00m\u001b[39m%s\u001b[39;00m\u001b[39m [status:\u001b[39m\u001b[39m%s\u001b[39;00m\u001b[39m duration:\u001b[39m\u001b[39m%.3f\u001b[39;00m\u001b[39ms]\u001b[39m\u001b[39m\"\u001b[39m\n\u001b[1;32m    338\u001b[0m         \u001b[39m%\u001b[39m (\n\u001b[0;32m   (...)\u001b[0m\n\u001b[1;32m    344\u001b[0m         )\n\u001b[1;32m    345\u001b[0m     )\n\u001b[1;32m    347\u001b[0m     \u001b[39mif\u001b[39;00m method \u001b[39m!=\u001b[39m \u001b[39m\"\u001b[39m\u001b[39mHEAD\u001b[39m\u001b[39m\"\u001b[39m:\n",
      "File \u001b[0;32m~/anaconda3/lib/python3.9/site-packages/elastic_transport/_node/_http_urllib3.py:164\u001b[0m, in \u001b[0;36mUrllib3HttpNode.perform_request\u001b[0;34m(self, method, target, body, headers, request_timeout)\u001b[0m\n\u001b[1;32m    161\u001b[0m \u001b[39melse\u001b[39;00m:\n\u001b[1;32m    162\u001b[0m     body_to_send \u001b[39m=\u001b[39m \u001b[39mNone\u001b[39;00m\n\u001b[0;32m--> 164\u001b[0m response \u001b[39m=\u001b[39m \u001b[39mself\u001b[39;49m\u001b[39m.\u001b[39;49mpool\u001b[39m.\u001b[39;49murlopen(  \u001b[39m# type: ignore[no-untyped-call]\u001b[39;49;00m\n\u001b[1;32m    165\u001b[0m     method,\n\u001b[1;32m    166\u001b[0m     target,\n\u001b[1;32m    167\u001b[0m     body\u001b[39m=\u001b[39;49mbody_to_send,\n\u001b[1;32m    168\u001b[0m     retries\u001b[39m=\u001b[39;49mRetry(\u001b[39mFalse\u001b[39;49;00m),\n\u001b[1;32m    169\u001b[0m     headers\u001b[39m=\u001b[39;49mrequest_headers,\n\u001b[1;32m    170\u001b[0m     \u001b[39m*\u001b[39;49m\u001b[39m*\u001b[39;49mkw,\n\u001b[1;32m    171\u001b[0m )\n\u001b[1;32m    172\u001b[0m response_headers \u001b[39m=\u001b[39m HttpHeaders(response\u001b[39m.\u001b[39mheaders)\n\u001b[1;32m    173\u001b[0m data \u001b[39m=\u001b[39m response\u001b[39m.\u001b[39mdata\n",
      "File \u001b[0;32m~/anaconda3/lib/python3.9/site-packages/urllib3/connectionpool.py:703\u001b[0m, in \u001b[0;36mHTTPConnectionPool.urlopen\u001b[0;34m(self, method, url, body, headers, retries, redirect, assert_same_host, timeout, pool_timeout, release_conn, chunked, body_pos, **response_kw)\u001b[0m\n\u001b[1;32m    700\u001b[0m     \u001b[39mself\u001b[39m\u001b[39m.\u001b[39m_prepare_proxy(conn)\n\u001b[1;32m    702\u001b[0m \u001b[39m# Make the request on the httplib connection object.\u001b[39;00m\n\u001b[0;32m--> 703\u001b[0m httplib_response \u001b[39m=\u001b[39m \u001b[39mself\u001b[39;49m\u001b[39m.\u001b[39;49m_make_request(\n\u001b[1;32m    704\u001b[0m     conn,\n\u001b[1;32m    705\u001b[0m     method,\n\u001b[1;32m    706\u001b[0m     url,\n\u001b[1;32m    707\u001b[0m     timeout\u001b[39m=\u001b[39;49mtimeout_obj,\n\u001b[1;32m    708\u001b[0m     body\u001b[39m=\u001b[39;49mbody,\n\u001b[1;32m    709\u001b[0m     headers\u001b[39m=\u001b[39;49mheaders,\n\u001b[1;32m    710\u001b[0m     chunked\u001b[39m=\u001b[39;49mchunked,\n\u001b[1;32m    711\u001b[0m )\n\u001b[1;32m    713\u001b[0m \u001b[39m# If we're going to release the connection in ``finally:``, then\u001b[39;00m\n\u001b[1;32m    714\u001b[0m \u001b[39m# the response doesn't need to know about the connection. Otherwise\u001b[39;00m\n\u001b[1;32m    715\u001b[0m \u001b[39m# it will also try to release it and we'll have a double-release\u001b[39;00m\n\u001b[1;32m    716\u001b[0m \u001b[39m# mess.\u001b[39;00m\n\u001b[1;32m    717\u001b[0m response_conn \u001b[39m=\u001b[39m conn \u001b[39mif\u001b[39;00m \u001b[39mnot\u001b[39;00m release_conn \u001b[39melse\u001b[39;00m \u001b[39mNone\u001b[39;00m\n",
      "File \u001b[0;32m~/anaconda3/lib/python3.9/site-packages/urllib3/connectionpool.py:449\u001b[0m, in \u001b[0;36mHTTPConnectionPool._make_request\u001b[0;34m(self, conn, method, url, timeout, chunked, **httplib_request_kw)\u001b[0m\n\u001b[1;32m    444\u001b[0m             httplib_response \u001b[39m=\u001b[39m conn\u001b[39m.\u001b[39mgetresponse()\n\u001b[1;32m    445\u001b[0m         \u001b[39mexcept\u001b[39;00m \u001b[39mBaseException\u001b[39;00m \u001b[39mas\u001b[39;00m e:\n\u001b[1;32m    446\u001b[0m             \u001b[39m# Remove the TypeError from the exception chain in\u001b[39;00m\n\u001b[1;32m    447\u001b[0m             \u001b[39m# Python 3 (including for exceptions like SystemExit).\u001b[39;00m\n\u001b[1;32m    448\u001b[0m             \u001b[39m# Otherwise it looks like a bug in the code.\u001b[39;00m\n\u001b[0;32m--> 449\u001b[0m             six\u001b[39m.\u001b[39;49mraise_from(e, \u001b[39mNone\u001b[39;49;00m)\n\u001b[1;32m    450\u001b[0m \u001b[39mexcept\u001b[39;00m (SocketTimeout, BaseSSLError, SocketError) \u001b[39mas\u001b[39;00m e:\n\u001b[1;32m    451\u001b[0m     \u001b[39mself\u001b[39m\u001b[39m.\u001b[39m_raise_timeout(err\u001b[39m=\u001b[39me, url\u001b[39m=\u001b[39murl, timeout_value\u001b[39m=\u001b[39mread_timeout)\n",
      "File \u001b[0;32m<string>:3\u001b[0m, in \u001b[0;36mraise_from\u001b[0;34m(value, from_value)\u001b[0m\n",
      "File \u001b[0;32m~/anaconda3/lib/python3.9/site-packages/urllib3/connectionpool.py:444\u001b[0m, in \u001b[0;36mHTTPConnectionPool._make_request\u001b[0;34m(self, conn, method, url, timeout, chunked, **httplib_request_kw)\u001b[0m\n\u001b[1;32m    441\u001b[0m \u001b[39mexcept\u001b[39;00m \u001b[39mTypeError\u001b[39;00m:\n\u001b[1;32m    442\u001b[0m     \u001b[39m# Python 3\u001b[39;00m\n\u001b[1;32m    443\u001b[0m     \u001b[39mtry\u001b[39;00m:\n\u001b[0;32m--> 444\u001b[0m         httplib_response \u001b[39m=\u001b[39m conn\u001b[39m.\u001b[39;49mgetresponse()\n\u001b[1;32m    445\u001b[0m     \u001b[39mexcept\u001b[39;00m \u001b[39mBaseException\u001b[39;00m \u001b[39mas\u001b[39;00m e:\n\u001b[1;32m    446\u001b[0m         \u001b[39m# Remove the TypeError from the exception chain in\u001b[39;00m\n\u001b[1;32m    447\u001b[0m         \u001b[39m# Python 3 (including for exceptions like SystemExit).\u001b[39;00m\n\u001b[1;32m    448\u001b[0m         \u001b[39m# Otherwise it looks like a bug in the code.\u001b[39;00m\n\u001b[1;32m    449\u001b[0m         six\u001b[39m.\u001b[39mraise_from(e, \u001b[39mNone\u001b[39;00m)\n",
      "File \u001b[0;32m~/anaconda3/lib/python3.9/http/client.py:1377\u001b[0m, in \u001b[0;36mHTTPConnection.getresponse\u001b[0;34m(self)\u001b[0m\n\u001b[1;32m   1375\u001b[0m \u001b[39mtry\u001b[39;00m:\n\u001b[1;32m   1376\u001b[0m     \u001b[39mtry\u001b[39;00m:\n\u001b[0;32m-> 1377\u001b[0m         response\u001b[39m.\u001b[39;49mbegin()\n\u001b[1;32m   1378\u001b[0m     \u001b[39mexcept\u001b[39;00m \u001b[39mConnectionError\u001b[39;00m:\n\u001b[1;32m   1379\u001b[0m         \u001b[39mself\u001b[39m\u001b[39m.\u001b[39mclose()\n",
      "File \u001b[0;32m~/anaconda3/lib/python3.9/http/client.py:320\u001b[0m, in \u001b[0;36mHTTPResponse.begin\u001b[0;34m(self)\u001b[0m\n\u001b[1;32m    318\u001b[0m \u001b[39m# read until we get a non-100 response\u001b[39;00m\n\u001b[1;32m    319\u001b[0m \u001b[39mwhile\u001b[39;00m \u001b[39mTrue\u001b[39;00m:\n\u001b[0;32m--> 320\u001b[0m     version, status, reason \u001b[39m=\u001b[39m \u001b[39mself\u001b[39;49m\u001b[39m.\u001b[39;49m_read_status()\n\u001b[1;32m    321\u001b[0m     \u001b[39mif\u001b[39;00m status \u001b[39m!=\u001b[39m CONTINUE:\n\u001b[1;32m    322\u001b[0m         \u001b[39mbreak\u001b[39;00m\n",
      "File \u001b[0;32m~/anaconda3/lib/python3.9/http/client.py:281\u001b[0m, in \u001b[0;36mHTTPResponse._read_status\u001b[0;34m(self)\u001b[0m\n\u001b[1;32m    280\u001b[0m \u001b[39mdef\u001b[39;00m \u001b[39m_read_status\u001b[39m(\u001b[39mself\u001b[39m):\n\u001b[0;32m--> 281\u001b[0m     line \u001b[39m=\u001b[39m \u001b[39mstr\u001b[39m(\u001b[39mself\u001b[39;49m\u001b[39m.\u001b[39;49mfp\u001b[39m.\u001b[39;49mreadline(_MAXLINE \u001b[39m+\u001b[39;49m \u001b[39m1\u001b[39;49m), \u001b[39m\"\u001b[39m\u001b[39miso-8859-1\u001b[39m\u001b[39m\"\u001b[39m)\n\u001b[1;32m    282\u001b[0m     \u001b[39mif\u001b[39;00m \u001b[39mlen\u001b[39m(line) \u001b[39m>\u001b[39m _MAXLINE:\n\u001b[1;32m    283\u001b[0m         \u001b[39mraise\u001b[39;00m LineTooLong(\u001b[39m\"\u001b[39m\u001b[39mstatus line\u001b[39m\u001b[39m\"\u001b[39m)\n",
      "File \u001b[0;32m~/anaconda3/lib/python3.9/socket.py:704\u001b[0m, in \u001b[0;36mSocketIO.readinto\u001b[0;34m(self, b)\u001b[0m\n\u001b[1;32m    702\u001b[0m \u001b[39mwhile\u001b[39;00m \u001b[39mTrue\u001b[39;00m:\n\u001b[1;32m    703\u001b[0m     \u001b[39mtry\u001b[39;00m:\n\u001b[0;32m--> 704\u001b[0m         \u001b[39mreturn\u001b[39;00m \u001b[39mself\u001b[39;49m\u001b[39m.\u001b[39;49m_sock\u001b[39m.\u001b[39;49mrecv_into(b)\n\u001b[1;32m    705\u001b[0m     \u001b[39mexcept\u001b[39;00m timeout:\n\u001b[1;32m    706\u001b[0m         \u001b[39mself\u001b[39m\u001b[39m.\u001b[39m_timeout_occurred \u001b[39m=\u001b[39m \u001b[39mTrue\u001b[39;00m\n",
      "\u001b[0;31mKeyboardInterrupt\u001b[0m: "
     ]
    }
   ],
   "source": [
    "start_time = time.time()\n",
    "\n",
    "for i in range(50000):\n",
    "    fecha = random_date(d1, d2)\n",
    "    agencia = random.choice(['La Paz', 'Oruro', 'Cochabamba', 'Chuquisaca', 'Pando', 'Beni', 'Santa Cruz', 'Tarija'])\n",
    "    monto = round(random.uniform(10.0, 4000.0), 2)\n",
    "    descripcion = random.choice(descripciones)\n",
    "    saldo = round(random.uniform(0.0, 10000000.0), 2)\n",
    "    nota = lorem.words(randint(1,13))\n",
    "\n",
    "    insert_data = {\n",
    "        'fecha': fecha,\n",
    "        'agencia': agencia,\n",
    "        'monto': monto,\n",
    "        'descripcion': descripcion,\n",
    "        'saldo': saldo,\n",
    "        'nota': nota\n",
    "    }\n",
    "    \n",
    "    es.index(index=\"extracto_cuenta\", document=insert_data)\n",
    "\n",
    "end_time = time.time()\n",
    "\n",
    "# Mostramos los resultados en consola\n",
    "print(f'Tiempo de carga de datos: {str(timedelta(seconds = (end_time - start_time)))}')"
   ]
  },
  {
   "cell_type": "markdown",
   "metadata": {},
   "source": [
    "### De forma masiva"
   ]
  },
  {
   "cell_type": "code",
   "execution_count": 45,
   "metadata": {},
   "outputs": [
    {
     "name": "stdout",
     "output_type": "stream",
     "text": [
      "Tiempo de carga de datos: 0:00:25.162890\n"
     ]
    }
   ],
   "source": [
    "def gendata():\n",
    "    for i in range(50000):\n",
    "        fecha = random_date(d1, d2)\n",
    "        agencia = random.choice(['La Paz', 'Oruro', 'Cochabamba', 'Chuquisaca', 'Pando', 'Beni', 'Santa Cruz', 'Tarija'])\n",
    "        monto = round(random.uniform(10.0, 4000.0), 2)\n",
    "        descripcion = random.choice(descripciones)\n",
    "        saldo = round(random.uniform(0.0, 10000000.0), 2)\n",
    "        nota = lorem.words(randint(1,13))\n",
    "\n",
    "        yield {\n",
    "            \"_index\": \"extracto_cuenta\",\n",
    "            'fecha': fecha,\n",
    "            'agencia': agencia,\n",
    "            'monto': monto,\n",
    "            'descripcion': descripcion,\n",
    "            'saldo': saldo,\n",
    "            'nota': nota\n",
    "        }\n",
    "\n",
    "start_time = time.time()\n",
    "helpers.bulk(es, gendata())\n",
    "end_time = time.time()\n",
    "\n",
    "# Mostramos los resultados en consola\n",
    "print(f'Tiempo de carga de datos: {str(timedelta(seconds = (end_time - start_time)))}')"
   ]
  },
  {
   "cell_type": "markdown",
   "metadata": {},
   "source": [
    "### Un solo dato"
   ]
  },
  {
   "cell_type": "code",
   "execution_count": 46,
   "metadata": {},
   "outputs": [
    {
     "name": "stdout",
     "output_type": "stream",
     "text": [
      "Tiempo de carga de datos: 0:00:00.173278\n"
     ]
    }
   ],
   "source": [
    "start_time = time.time()\n",
    "\n",
    "fecha = random_date(d1, d2)\n",
    "agencia = random.choice(['La Paz', 'Oruro', 'Cochabamba', 'Chuquisaca', 'Pando', 'Beni', 'Santa Cruz', 'Tarija'])\n",
    "monto = round(random.uniform(10.0, 4000.0), 2)\n",
    "descripcion = random.choice(descripciones)\n",
    "saldo = round(random.uniform(0.0, 10000000.0), 2)\n",
    "nota = lorem.words(randint(1,13))\n",
    "\n",
    "insert_data = {\n",
    "    'fecha': fecha,\n",
    "    'agencia': agencia,\n",
    "    'monto': monto,\n",
    "    'descripcion': descripcion,\n",
    "    'saldo': saldo,\n",
    "    'nota': nota\n",
    "}\n",
    "\n",
    "es.index(index=\"extracto_cuenta\", document=insert_data)\n",
    "\n",
    "end_time = time.time()\n",
    "\n",
    "# Mostramos los resultados en consola\n",
    "print(f'Tiempo de carga de datos: {str(timedelta(seconds = (end_time - start_time)))}')"
   ]
  },
  {
   "cell_type": "code",
   "execution_count": 11,
   "metadata": {},
   "outputs": [
    {
     "name": "stdout",
     "output_type": "stream",
     "text": [
      "{\"count\":26081,\"_shards\":{\"total\":1,\"successful\":1,\"skipped\":0,\"failed\":0}}"
     ]
    }
   ],
   "source": [
    "!curl -XGET http://localhost:9200/extracto_cuenta/_count"
   ]
  },
  {
   "cell_type": "markdown",
   "metadata": {},
   "source": [
    "## Consultas a la base de datos"
   ]
  },
  {
   "cell_type": "markdown",
   "metadata": {},
   "source": [
    "### Búsqueda por fecha y agencia"
   ]
  },
  {
   "cell_type": "code",
   "execution_count": 48,
   "metadata": {},
   "outputs": [],
   "source": [
    "def busqueda_fecha_agencia(month, year, agencia):\n",
    "    from_date_str = f\"{year}-{month}-01\" + \"T00:00:00+00:00\"\n",
    "    to_date_str = f\"{year}-{month}-30\" + \"T23:59:59+00:00\"\n",
    "    query = {\n",
    "            \"bool\": {\n",
    "                \"must\": [\n",
    "                    { \"match\": { \"agencia\": f\"{agencia}\" } },\n",
    "                    {\"range\" : {\n",
    "                        \"fecha\": { \"gte\" : f\"{from_date_str}\", \"lte\" : f\"{to_date_str}\"}}\n",
    "                    }\n",
    "                ]\n",
    "            }\n",
    "    }\n",
    "\n",
    "    return es.search(index='extracto_cuenta', query=query)"
   ]
  },
  {
   "cell_type": "code",
   "execution_count": 49,
   "metadata": {},
   "outputs": [
    {
     "name": "stdout",
     "output_type": "stream",
     "text": [
      "Se encontraron 18 en un tiempo de 0:00:00.008642\n",
      "====================================================================================================\n",
      "{'fecha': '2021-05-30T22:10:08', 'agencia': 'Santa Cruz', 'monto': 2603.27, 'descripcion': 'Debito Cta por pago de Seguro', 'saldo': 379311.91, 'nota': 'quas doloribus'}\n",
      "{'fecha': '2021-05-29T08:38:42', 'agencia': 'Santa Cruz', 'monto': 3519.13, 'descripcion': 'Pago en interés', 'saldo': 6521150.3, 'nota': 'est inventore illum blanditiis qui dolorem sequi vero iusto quibusdam'}\n",
      "{'fecha': '2021-05-14T21:40:03', 'agencia': 'Santa Cruz', 'monto': 252.07, 'descripcion': 'Debito Cta por pago de Seguro', 'saldo': 5440489.4, 'nota': 'laborum incidunt iste quisquam iusto necessitatibus quibusdam quaerat'}\n",
      "{'fecha': '2021-05-25T23:33:40', 'agencia': 'Santa Cruz', 'monto': 2820.07, 'descripcion': 'Transferencia interbancaria SIMPLE', 'saldo': 2666885.97, 'nota': 'perferendis minima dolore'}\n",
      "{'fecha': '2021-05-13T12:47:10', 'agencia': 'Santa Cruz', 'monto': 3898.0, 'descripcion': 'Pago en interés', 'saldo': 9454321.8, 'nota': 'excepturi illo placeat sit quis maxime praesentium provident eligendi quas aperiam'}\n",
      "{'fecha': '2021-05-21T09:35:51', 'agencia': 'Santa Cruz', 'monto': 3599.15, 'descripcion': 'Debito Cta por compra', 'saldo': 7057132.77, 'nota': 'quibusdam ducimus maxime eos laboriosam adipisci reprehenderit ratione'}\n",
      "{'fecha': '2021-05-27T04:37:12', 'agencia': 'Santa Cruz', 'monto': 2969.02, 'descripcion': 'DEB.CTA.P/C.INTERNET', 'saldo': 6575505.04, 'nota': 'quod cupiditate suscipit aperiam expedita architecto'}\n",
      "{'fecha': '2021-05-01T14:19:13', 'agencia': 'Santa Cruz', 'monto': 1135.19, 'descripcion': 'Debito Cta por pago de Seguro', 'saldo': 7235666.39, 'nota': 'delectus a repudiandae error illo blanditiis quidem'}\n",
      "{'fecha': '2021-05-29T16:36:17', 'agencia': 'Santa Cruz', 'monto': 1349.67, 'descripcion': 'Debito Cta por compra', 'saldo': 8162131.4, 'nota': 'quo in earum totam sunt'}\n",
      "{'fecha': '2021-05-22T02:07:45', 'agencia': 'Santa Cruz', 'monto': 3949.55, 'descripcion': 'Debito Cta por pago de Seguro', 'saldo': 5747472.64, 'nota': 'earum quia id quibusdam totam ipsum dicta minima vero perferendis ipsa'}\n"
     ]
    }
   ],
   "source": [
    "start_time = time.time()\n",
    "results = busqueda_fecha_agencia(month=\"05\", year = \"2021\", agencia = \"Santa Cruz\")\n",
    "end_time = time.time()\n",
    "\n",
    "print(f\"Se encontraron {results['hits']['total']['value']} en un tiempo de {str(timedelta(seconds = (end_time - start_time)))}\")\n",
    "print(\"=\"*100)\n",
    "\n",
    "for hit in results['hits']['hits']:\n",
    "    print(hit[\"_source\"])"
   ]
  },
  {
   "cell_type": "markdown",
   "metadata": {},
   "source": [
    "### Búsqueda por montos mayores a determinado número y agencia"
   ]
  },
  {
   "cell_type": "code",
   "execution_count": 50,
   "metadata": {},
   "outputs": [],
   "source": [
    "def busqueda_monto_mayor(monto, agencia):\n",
    "    query = {\n",
    "            \"bool\": {\n",
    "            \"must\": [\n",
    "                { \"match\": \n",
    "                    { \"agencia\": f\"{agencia}\" } \n",
    "                },\n",
    "                {\"range\" : {\n",
    "                \"monto\": { \"gte\" : monto}}\n",
    "                }\n",
    "            ]\n",
    "            }\n",
    "    }\n",
    "\n",
    "    return es.search(index='extracto_cuenta', query=query)"
   ]
  },
  {
   "cell_type": "code",
   "execution_count": 51,
   "metadata": {},
   "outputs": [
    {
     "name": "stdout",
     "output_type": "stream",
     "text": [
      "Se encontraron 3238 en un tiempo de 0:00:00.009668\n",
      "====================================================================================================\n",
      "{'fecha': '1978-04-23T05:53:58', 'agencia': 'Cochabamba', 'monto': 3886.08, 'descripcion': 'Pago en interés', 'saldo': 2924013.63, 'nota': 'animi perferendis deserunt voluptas vitae ullam harum'}\n",
      "{'fecha': '1976-01-06T06:39:38', 'agencia': 'Cochabamba', 'monto': 3966.17, 'descripcion': 'Debito Cta por ACH', 'saldo': 3249567.24, 'nota': 'quos veritatis velit qui laboriosam consequuntur'}\n",
      "{'fecha': '2021-06-19T18:15:08', 'agencia': 'Cochabamba', 'monto': 3586.27, 'descripcion': 'Retiro en efectivo', 'saldo': 3479542.93, 'nota': 'ducimus obcaecati repellendus totam reprehenderit expedita facilis ipsa quisquam iste optio tenetur praesentium'}\n",
      "{'fecha': '1954-07-04T08:30:40', 'agencia': 'Cochabamba', 'monto': 3573.94, 'descripcion': 'Pago en interés', 'saldo': 438773.1, 'nota': 'vitae ratione ducimus velit architecto laborum iste doloremque adipisci ab illo nobis'}\n",
      "{'fecha': '1952-09-27T03:30:21', 'agencia': 'Cochabamba', 'monto': 3954.12, 'descripcion': 'DEB.CTA.P/C.INTERNET', 'saldo': 3966244.88, 'nota': 'quos ducimus in doloribus dolor ratione'}\n",
      "{'fecha': '1985-06-09T15:17:05', 'agencia': 'Cochabamba', 'monto': 3873.15, 'descripcion': 'Debito Cta por ACH', 'saldo': 2756221.05, 'nota': 'maxime'}\n",
      "{'fecha': '1998-10-06T00:27:12', 'agencia': 'Cochabamba', 'monto': 3729.17, 'descripcion': 'Debito Cta por ACH', 'saldo': 4602926.84, 'nota': 'commodi aut eveniet illo ea eos'}\n",
      "{'fecha': '1980-05-03T03:59:50', 'agencia': 'Cochabamba', 'monto': 3935.9, 'descripcion': 'Debito Cta por pago de Seguro', 'saldo': 6653680.63, 'nota': 'error'}\n",
      "{'fecha': '1987-08-20T00:58:46', 'agencia': 'Cochabamba', 'monto': 3113.54, 'descripcion': 'AB.CTA.P/MOVIL', 'saldo': 7456169.4, 'nota': 'voluptatum fugiat labore'}\n",
      "{'fecha': '1983-08-14T13:12:30', 'agencia': 'Cochabamba', 'monto': 3270.22, 'descripcion': 'Debito Cta por compra', 'saldo': 4400174.46, 'nota': 'labore veritatis eos numquam ad repellendus ut'}\n"
     ]
    }
   ],
   "source": [
    "start_time = time.time()\n",
    "results = busqueda_monto_mayor(monto=3000, agencia = \"Cochabamba\")\n",
    "end_time = time.time()\n",
    "\n",
    "print(f\"Se encontraron {results['hits']['total']['value']} en un tiempo de {str(timedelta(seconds = (end_time - start_time)))}\")\n",
    "print(\"=\"*100)\n",
    "\n",
    "for hit in results['hits']['hits']:\n",
    "    print(hit[\"_source\"])"
   ]
  },
  {
   "cell_type": "markdown",
   "metadata": {},
   "source": [
    "### Búsqueda considerando varios campos"
   ]
  },
  {
   "cell_type": "code",
   "execution_count": 52,
   "metadata": {},
   "outputs": [],
   "source": [
    "def busqueda_compleja(saldo_min, saldo_max, agencia1, agencia2, descripcion):\n",
    "    query = {\n",
    "            \"bool\": {\n",
    "                \"must\": [\n",
    "                    {\n",
    "                        \"bool\": {\n",
    "                            \"should\": [\n",
    "                                {\"match\": {\"agencia\": f\"{agencia1}\"}},\n",
    "                                {\"match\": {\"agencia\": f\"{agencia2}\"}}\n",
    "                            ]\n",
    "                        }\n",
    "                    },\n",
    "                    {\n",
    "                        \"bool\": {\n",
    "                            \"must\": [\n",
    "                                {\n",
    "                                    \"range\" : {\n",
    "                                        \"monto\": { \"gte\" : saldo_min, \"lte\": saldo_max}\n",
    "                                    }\n",
    "                                }\n",
    "                            ]\n",
    "                        }\n",
    "                    },\n",
    "                    {\n",
    "                        \"match\": {\"descripcion\": f\"{descripcion}\"}\n",
    "                    }\n",
    "                ]\n",
    "            }\n",
    "    }\n",
    "\n",
    "    return es.search(index='extracto_cuenta', query=query)"
   ]
  },
  {
   "cell_type": "code",
   "execution_count": 65,
   "metadata": {},
   "outputs": [
    {
     "name": "stdout",
     "output_type": "stream",
     "text": [
      "Se encontraron 4112 en un tiempo de 0:00:00.027304\n",
      "====================================================================================================\n",
      "{'fecha': '1983-11-20T08:42:35', 'agencia': 'La Paz', 'monto': 3006.8, 'descripcion': 'Retiro en efectivo', 'saldo': 8128558.78, 'nota': 'nemo animi'}\n",
      "{'fecha': '1959-10-06T05:50:33', 'agencia': 'La Paz', 'monto': 3741.66, 'descripcion': 'Retiro en efectivo', 'saldo': 3727318.23, 'nota': 'culpa cupiditate autem officiis impedit alias consequuntur libero numquam mollitia aliquam'}\n",
      "{'fecha': '1989-02-07T00:42:37', 'agencia': 'La Paz', 'monto': 1151.8, 'descripcion': 'Retiro en efectivo', 'saldo': 1897132.92, 'nota': 'inventore quo ullam'}\n",
      "{'fecha': '1961-08-09T15:37:47', 'agencia': 'La Paz', 'monto': 2767.52, 'descripcion': 'Retiro en efectivo', 'saldo': 6362562.68, 'nota': 'facilis'}\n",
      "{'fecha': '1983-04-09T09:45:00', 'agencia': 'La Paz', 'monto': 1391.39, 'descripcion': 'Retiro en efectivo', 'saldo': 7085243.84, 'nota': 'ipsum facere numquam beatae nihil'}\n",
      "{'fecha': '1965-11-05T00:53:48', 'agencia': 'La Paz', 'monto': 3303.3, 'descripcion': 'Retiro en efectivo', 'saldo': 8036001.94, 'nota': 'cupiditate doloribus asperiores laborum nemo id velit eveniet possimus facere quisquam ratione'}\n",
      "{'fecha': '2007-07-11T08:42:50', 'agencia': 'La Paz', 'monto': 2927.33, 'descripcion': 'Retiro en efectivo', 'saldo': 8296522.88, 'nota': 'eaque iusto quasi consequuntur reprehenderit soluta aspernatur'}\n",
      "{'fecha': '2009-05-15T15:45:04', 'agencia': 'La Paz', 'monto': 3638.54, 'descripcion': 'Retiro en efectivo', 'saldo': 7412706.71, 'nota': 'eveniet magnam quis officia itaque ratione facilis'}\n",
      "{'fecha': '1961-09-25T10:01:39', 'agencia': 'La Paz', 'monto': 2899.13, 'descripcion': 'Retiro en efectivo', 'saldo': 8471071.54, 'nota': 'voluptate ad repellendus modi optio repudiandae'}\n",
      "{'fecha': '1952-08-26T10:28:33', 'agencia': 'La Paz', 'monto': 1947.84, 'descripcion': 'Retiro en efectivo', 'saldo': 7923046.39, 'nota': 'cumque quia aspernatur molestias distinctio illum reprehenderit'}\n"
     ]
    }
   ],
   "source": [
    "start_time = time.time()\n",
    "results = busqueda_compleja(saldo_min=1000, saldo_max=1500000, agencia1=\"La Paz\", agencia2=\"Pando\", descripcion=\"Retiro en efectivo\")\n",
    "end_time = time.time()\n",
    "\n",
    "print(f\"Se encontraron {results['hits']['total']['value']} en un tiempo de {str(timedelta(seconds = (end_time - start_time)))}\")\n",
    "print(\"=\"*100)\n",
    "\n",
    "for hit in results['hits']['hits']:\n",
    "    print(hit[\"_source\"])"
   ]
  },
  {
   "cell_type": "markdown",
   "metadata": {},
   "source": [
    "### Agregaciones: Monto promedio por agencia"
   ]
  },
  {
   "cell_type": "code",
   "execution_count": 54,
   "metadata": {},
   "outputs": [],
   "source": [
    "def promedio_monto_agencia(agencia):\n",
    "    aggs = {\n",
    "            \"aggs\" : {\n",
    "                    \"avg\" : {\n",
    "                        \"field\" : \"monto\",\n",
    "                    } \n",
    "            }\n",
    "        }\n",
    "\n",
    "    query = {\n",
    "        \"match\": {\"agencia\": \"La Paz\"}\n",
    "    }\n",
    "\n",
    "\n",
    "\n",
    "    return es.search(index='extracto_cuenta', query=query, aggs=aggs)"
   ]
  },
  {
   "cell_type": "code",
   "execution_count": 55,
   "metadata": {},
   "outputs": [
    {
     "name": "stdout",
     "output_type": "stream",
     "text": [
      "Se encontraron 10000 en un tiempo de 0:00:00.014832\n",
      "====================================================================================================\n",
      "{'total': {'value': 10000, 'relation': 'gte'}, 'max_score': 3.3485756, 'hits': [{'_index': 'extracto_cuenta', '_id': 'zP-8PIQBXNOVFC33WUSS', '_score': 3.3485756, '_source': {'fecha': '1956-04-09T00:21:28', 'agencia': 'La Paz', 'monto': 2871.64, 'descripcion': 'Debito Cta por compra', 'saldo': 5226693.42, 'nota': 'dolor aperiam neque obcaecati nulla doloremque unde laborum ullam non sed'}}, {'_index': 'extracto_cuenta', '_id': '0f-8PIQBXNOVFC33WUSS', '_score': 3.3485756, '_source': {'fecha': '1983-11-20T08:42:35', 'agencia': 'La Paz', 'monto': 3006.8, 'descripcion': 'Retiro en efectivo', 'saldo': 8128558.78, 'nota': 'nemo animi'}}, {'_index': 'extracto_cuenta', '_id': '3v-8PIQBXNOVFC33WUSS', '_score': 3.3485756, '_source': {'fecha': '1977-07-17T15:58:03', 'agencia': 'La Paz', 'monto': 684.3, 'descripcion': 'Retención IVA', 'saldo': 2067532.25, 'nota': 'dolores in laboriosam tenetur aspernatur fugit iusto'}}, {'_index': 'extracto_cuenta', '_id': '6f-8PIQBXNOVFC33WUSS', '_score': 3.3485756, '_source': {'fecha': '1995-06-29T13:53:51', 'agencia': 'La Paz', 'monto': 2402.23, 'descripcion': 'Debito Cta por compra', 'saldo': 783885.43, 'nota': 'vitae dolorem quas in laborum'}}, {'_index': 'extracto_cuenta', '_id': '7v-8PIQBXNOVFC33WUSS', '_score': 3.3485756, '_source': {'fecha': '2017-01-30T08:07:21', 'agencia': 'La Paz', 'monto': 97.81, 'descripcion': 'Debito Cta por ACH', 'saldo': 1504207.99, 'nota': 'doloremque totam ex eaque quas inventore quisquam'}}, {'_index': 'extracto_cuenta', '_id': '8f-8PIQBXNOVFC33WUSS', '_score': 3.3485756, '_source': {'fecha': '1971-04-22T15:23:54', 'agencia': 'La Paz', 'monto': 2011.35, 'descripcion': 'AB.CTA.P/MOVIL', 'saldo': 3284104.8, 'nota': 'esse veniam tempore cupiditate rerum dolor accusamus beatae doloribus perferendis officiis doloremque'}}, {'_index': 'extracto_cuenta', '_id': '9f-8PIQBXNOVFC33WUSS', '_score': 3.3485756, '_source': {'fecha': '1998-07-19T15:24:51', 'agencia': 'La Paz', 'monto': 2741.98, 'descripcion': 'Debito Cta por pago de Seguro', 'saldo': 6684625.28, 'nota': 'enim'}}, {'_index': 'extracto_cuenta', '_id': 'Df-8PIQBXNOVFC33WUWS', '_score': 3.3485756, '_source': {'fecha': '2018-02-14T21:43:22', 'agencia': 'La Paz', 'monto': 1150.25, 'descripcion': 'AB.CTA.P/MOVIL', 'saldo': 1312870.43, 'nota': 'provident sapiente explicabo ipsa omnis nobis porro impedit'}}, {'_index': 'extracto_cuenta', '_id': 'Ef-8PIQBXNOVFC33WUWS', '_score': 3.3485756, '_source': {'fecha': '1964-11-22T03:17:33', 'agencia': 'La Paz', 'monto': 1241.33, 'descripcion': 'Debito Cta por compra', 'saldo': 9621459.49, 'nota': 'repellendus nesciunt pariatur voluptatibus quae reiciendis eos exercitationem'}}, {'_index': 'extracto_cuenta', '_id': 'Ff-8PIQBXNOVFC33WUWS', '_score': 3.3485756, '_source': {'fecha': '1959-10-06T05:50:33', 'agencia': 'La Paz', 'monto': 3741.66, 'descripcion': 'Retiro en efectivo', 'saldo': 3727318.23, 'nota': 'culpa cupiditate autem officiis impedit alias consequuntur libero numquam mollitia aliquam'}}]}\n",
      "{'aggs': {'value': 1988.2282984875833}}\n"
     ]
    }
   ],
   "source": [
    "start_time = time.time()\n",
    "results = promedio_monto_agencia(agencia=\"La Paz\")\n",
    "end_time = time.time()\n",
    "\n",
    "print(f\"Se encontraron {results['hits']['total']['value']} en un tiempo de {str(timedelta(seconds = (end_time - start_time)))}\")\n",
    "print(\"=\"*100)\n",
    "\n",
    "print(results['hits'])\n",
    "print(results['aggregations'])"
   ]
  },
  {
   "cell_type": "markdown",
   "metadata": {},
   "source": [
    "## Actualización de datos"
   ]
  },
  {
   "cell_type": "markdown",
   "metadata": {},
   "source": [
    "### Actualización de montos en un rango determinado de fechas"
   ]
  },
  {
   "cell_type": "code",
   "execution_count": 56,
   "metadata": {},
   "outputs": [],
   "source": [
    "def actualizacion_fecha_monto(min_date, max_date, monto):\n",
    "      from_date_str = f\"{min_date}\" + \"T00:00:00+00:00\"\n",
    "      to_date_str = f\"{max_date}\" + \"T23:59:59+00:00\"\n",
    "   \n",
    "\n",
    "      script = {\n",
    "            \"source\": f\"ctx._source['monto'] = {monto}; ctx._source['nota'] = 'Actualización de monto por fecha'; \",\n",
    "            \"lang\": \"painless\"\n",
    "      }\n",
    "\n",
    "      query = {\n",
    "                  \"range\" : {\n",
    "                  \"fecha\": { \"gte\" : f\"{min_date}\", \"lte\" : f\"{max_date}\" },\n",
    "                  }\n",
    "      }\n",
    "\n",
    "      return es.update_by_query(query=query, script=script, index='extracto_cuenta')"
   ]
  },
  {
   "cell_type": "code",
   "execution_count": 66,
   "metadata": {},
   "outputs": [
    {
     "name": "stdout",
     "output_type": "stream",
     "text": [
      "Se actualizaron 1 en un tiempo de 0:00:00.199623\n"
     ]
    }
   ],
   "source": [
    "start_time = time.time()\n",
    "results = actualizacion_fecha_monto(min_date = \"2022-01-01\", max_date = \"2022-05-30\", monto = 7000)\n",
    "end_time = time.time()\n",
    "\n",
    "\n",
    "print(f\"Se actualizaron {results['total']} en un tiempo de {str(timedelta(seconds = (end_time - start_time)))}\")"
   ]
  },
  {
   "cell_type": "code",
   "execution_count": 58,
   "metadata": {},
   "outputs": [
    {
     "name": "stdout",
     "output_type": "stream",
     "text": [
      "{'descripcion': 'Pago en interés', 'fecha': '2022-01-01T00:55:56', 'monto': 7000, 'saldo': 1613932.2, 'nota': 'Actualización de monto por fecha', 'agencia': 'Chuquisaca'}\n",
      "Se encontraron: 1 resultados\n"
     ]
    }
   ],
   "source": [
    "query = {\n",
    "    \"range\" : {\n",
    "                  \"fecha\": { \"gte\" : f\"2022-01-01\", \"lte\" : f\"2022-05-30\" },\n",
    "      }\n",
    "  }\n",
    "\n",
    "results = es.search(index='extracto_cuenta', query=query)\n",
    "\n",
    "for hit in results['hits']['hits']:\n",
    "    print(hit[\"_source\"])\n",
    "\n",
    "print(f\"Se encontraron: {results['hits']['total']['value']} resultados\")"
   ]
  },
  {
   "cell_type": "markdown",
   "metadata": {},
   "source": [
    "## Eliminar datos"
   ]
  },
  {
   "cell_type": "markdown",
   "metadata": {},
   "source": [
    "### Eliminar saldos menores a determinado número"
   ]
  },
  {
   "cell_type": "code",
   "execution_count": 62,
   "metadata": {},
   "outputs": [],
   "source": [
    "def eliminar_saldo_min(saldo_min):\n",
    "\n",
    "    query = {\n",
    "        \"range\" : {\n",
    "                  \"saldo\": { \"lte\" : f\"{saldo_min}\"},\n",
    "      }\n",
    "    }\n",
    "\n",
    "    return es.delete_by_query(index = 'extracto_cuenta', query = query)"
   ]
  },
  {
   "cell_type": "code",
   "execution_count": 63,
   "metadata": {},
   "outputs": [
    {
     "name": "stdout",
     "output_type": "stream",
     "text": [
      "{'took': 178, 'timed_out': False, 'total': 4, 'deleted': 4, 'batches': 1, 'version_conflicts': 0, 'noops': 0, 'retries': {'bulk': 0, 'search': 0}, 'throttled_millis': 0, 'requests_per_second': -1.0, 'throttled_until_millis': 0, 'failures': []}\n",
      "Se eliminaron 4 en un tiempo de 0:00:00.184631\n"
     ]
    }
   ],
   "source": [
    "start_time = time.time()\n",
    "results = eliminar_saldo_min(saldo_min= 500)\n",
    "end_time = time.time()\n",
    "\n",
    "print(results)\n",
    "print(f\"Se eliminaron {results['total']} en un tiempo de {str(timedelta(seconds = (end_time - start_time)))}\")"
   ]
  },
  {
   "cell_type": "code",
   "execution_count": 64,
   "metadata": {},
   "outputs": [
    {
     "name": "stdout",
     "output_type": "stream",
     "text": [
      "Se encontraron: 0 resultados\n"
     ]
    }
   ],
   "source": [
    "query = {\n",
    "    \"range\" : {\n",
    "                  \"saldo\": { \"lte\" : 500},\n",
    "      }\n",
    "  }\n",
    "\n",
    "results = es.search(index='extracto_cuenta', query=query)\n",
    "\n",
    "for hit in results['hits']['hits']:\n",
    "    print(hit[\"_source\"])\n",
    "\n",
    "print(f\"Se encontraron: {results['hits']['total']['value']} resultados\")"
   ]
  },
  {
   "cell_type": "markdown",
   "metadata": {},
   "source": [
    "# Mas de 10 millon de registros"
   ]
  },
  {
   "cell_type": "markdown",
   "metadata": {},
   "source": [
    "## Carga de datos"
   ]
  },
  {
   "cell_type": "code",
   "execution_count": 13,
   "metadata": {},
   "outputs": [
    {
     "name": "stdout",
     "output_type": "stream",
     "text": [
      "Tiempo de carga de datos: 1:09:32.025914\n"
     ]
    }
   ],
   "source": [
    "def gendata():\n",
    "    for i in range(500000):\n",
    "        fecha = random_date(d1, d2)\n",
    "        agencia = random.choice(['La Paz', 'Oruro', 'Cochabamba', 'Chuquisaca', 'Pando', 'Beni', 'Santa Cruz', 'Tarija'])\n",
    "        monto = round(random.uniform(10.0, 4000.0), 2)\n",
    "        descripcion = random.choice(descripciones)\n",
    "        saldo = round(random.uniform(0.0, 10000000.0), 2)\n",
    "        nota = lorem.words(randint(1,13))\n",
    "\n",
    "        yield {\n",
    "            \"_index\": \"extracto_cuenta\",\n",
    "            'fecha': fecha,\n",
    "            'agencia': agencia,\n",
    "            'monto': monto,\n",
    "            'descripcion': descripcion,\n",
    "            'saldo': saldo,\n",
    "            'nota': nota\n",
    "        }\n",
    "\n",
    "start_time = time.time()\n",
    "\n",
    "for _ in range(0,25):\n",
    "    try:\n",
    "        helpers.bulk(es, gendata())\n",
    "    except: \n",
    "        pass\n",
    "    \n",
    "end_time = time.time()\n",
    "\n",
    "# Mostramos los resultados en consola\n",
    "print(f'Tiempo de carga de datos: {str(timedelta(seconds = (end_time - start_time)))}')"
   ]
  },
  {
   "cell_type": "code",
   "execution_count": 7,
   "metadata": {},
   "outputs": [
    {
     "name": "stdout",
     "output_type": "stream",
     "text": [
      "{\"count\":10512560,\"_shards\":{\"total\":1,\"successful\":1,\"skipped\":0,\"failed\":0}}"
     ]
    }
   ],
   "source": [
    "!curl -XGET http://localhost:9200/extracto_cuenta/_count"
   ]
  },
  {
   "cell_type": "markdown",
   "metadata": {},
   "source": [
    "## Consulta de datos"
   ]
  },
  {
   "cell_type": "markdown",
   "metadata": {},
   "source": [
    "### Búsqueda por fecha y agencia"
   ]
  },
  {
   "cell_type": "code",
   "execution_count": 21,
   "metadata": {},
   "outputs": [
    {
     "name": "stdout",
     "output_type": "stream",
     "text": [
      "Se encontraron 1512 en un tiempo de 0:00:00.044127\n",
      "====================================================================================================\n",
      "{'fecha': '2021-05-07T03:24:29', 'agencia': 'Santa Cruz', 'monto': 3461.86, 'descripcion': 'Transferencia interbancaria SIMPLE', 'saldo': 9893162.25, 'nota': 'blanditiis itaque cupiditate explicabo'}\n",
      "{'fecha': '2021-05-26T13:46:29', 'agencia': 'Santa Cruz', 'monto': 1247.1, 'descripcion': 'Transferencia interbancaria SIMPLE', 'saldo': 6314865.37, 'nota': 'officiis autem adipisci officia esse corrupti'}\n",
      "{'fecha': '2021-05-27T07:17:19', 'agencia': 'Santa Cruz', 'monto': 3327.88, 'descripcion': 'Debito Cta por pago de Seguro', 'saldo': 5857848.61, 'nota': 'rem asperiores quisquam suscipit dicta voluptatem deleniti officia sit minus alias nisi'}\n",
      "{'fecha': '2021-05-19T23:32:55', 'agencia': 'Santa Cruz', 'monto': 99.86, 'descripcion': 'Pago en interés', 'saldo': 8595914.55, 'nota': 'alias'}\n",
      "{'fecha': '2021-05-19T12:24:33', 'agencia': 'Santa Cruz', 'monto': 3076.24, 'descripcion': 'Pago en interés', 'saldo': 3910177.71, 'nota': 'nam sapiente aliquam nisi eligendi corporis suscipit quasi earum asperiores nobis rem'}\n",
      "{'fecha': '2021-05-04T22:34:56', 'agencia': 'Santa Cruz', 'monto': 3387.11, 'descripcion': 'Debito Cta por pago de Seguro', 'saldo': 3361320.17, 'nota': 'quisquam atque'}\n",
      "{'fecha': '2021-05-28T17:18:18', 'agencia': 'Santa Cruz', 'monto': 140.98, 'descripcion': 'Retiro en efectivo', 'saldo': 6594097.16, 'nota': 'laborum'}\n",
      "{'fecha': '2021-05-03T04:34:23', 'agencia': 'Santa Cruz', 'monto': 1583.08, 'descripcion': 'Pago en interés', 'saldo': 3860525.17, 'nota': 'eligendi optio dolor quas quaerat deserunt'}\n",
      "{'fecha': '2021-05-11T23:38:15', 'agencia': 'Santa Cruz', 'monto': 2175.33, 'descripcion': 'Transferencia interbancaria SIMPLE', 'saldo': 8438688.77, 'nota': 'libero ad officia necessitatibus ex quia et neque dolor a quo fugiat'}\n",
      "{'fecha': '2021-05-13T17:26:13', 'agencia': 'Santa Cruz', 'monto': 1808.25, 'descripcion': 'Retiro en efectivo', 'saldo': 8467254.28, 'nota': 'atque ab'}\n"
     ]
    }
   ],
   "source": [
    "start_time = time.time()\n",
    "results = busqueda_fecha_agencia(month=\"05\", year = \"2021\", agencia = \"Santa Cruz\")\n",
    "end_time = time.time()\n",
    "\n",
    "print(f\"Se encontraron {results['hits']['total']['value']} en un tiempo de {str(timedelta(seconds = (end_time - start_time)))}\")\n",
    "print(\"=\"*100)\n",
    "\n",
    "for hit in results['hits']['hits']:\n",
    "    print(hit[\"_source\"])"
   ]
  },
  {
   "cell_type": "markdown",
   "metadata": {},
   "source": [
    "### Búsqueda por montos mayores a determinado número y agencia"
   ]
  },
  {
   "cell_type": "code",
   "execution_count": 22,
   "metadata": {},
   "outputs": [
    {
     "name": "stdout",
     "output_type": "stream",
     "text": [
      "Se encontraron 10000 en un tiempo de 0:00:00.065772\n",
      "====================================================================================================\n",
      "{'fecha': '1977-09-09T03:37:13', 'agencia': 'Cochabamba', 'monto': 3516.03, 'descripcion': 'Retiro en efectivo', 'saldo': 4780436.8, 'nota': 'dolorum aut molestiae libero adipisci modi corrupti'}\n",
      "{'fecha': '2013-07-11T15:05:55', 'agencia': 'Cochabamba', 'monto': 3648.64, 'descripcion': 'Retiro en efectivo', 'saldo': 5900955.72, 'nota': 'corrupti blanditiis libero rerum sed perspiciatis nisi quisquam'}\n",
      "{'fecha': '1972-12-03T17:56:35', 'agencia': 'Cochabamba', 'monto': 3413.83, 'descripcion': 'DEB.CTA.P/C.INTERNET', 'saldo': 6966391.74, 'nota': 'veniam minus sequi ullam non saepe est'}\n",
      "{'fecha': '1961-12-01T15:42:51', 'agencia': 'Cochabamba', 'monto': 3424.54, 'descripcion': 'Debito Cta por compra', 'saldo': 3756687.42, 'nota': 'vitae consequatur'}\n",
      "{'fecha': '2015-05-31T02:35:24', 'agencia': 'Cochabamba', 'monto': 3964.37, 'descripcion': 'Debito Cta por ACH', 'saldo': 5471718.23, 'nota': 'vero'}\n",
      "{'fecha': '1980-02-27T01:22:43', 'agencia': 'Cochabamba', 'monto': 3684.25, 'descripcion': 'Pago en interés', 'saldo': 8628699.61, 'nota': 'numquam fuga sit vero earum recusandae'}\n",
      "{'fecha': '2006-04-27T21:18:52', 'agencia': 'Cochabamba', 'monto': 3242.77, 'descripcion': 'Retención IVA', 'saldo': 6000030.61, 'nota': 'tenetur exercitationem tempora'}\n",
      "{'fecha': '1960-09-01T20:22:37', 'agencia': 'Cochabamba', 'monto': 3817.13, 'descripcion': 'Debito Cta por ACH', 'saldo': 425393.59, 'nota': 'in expedita ab velit perspiciatis minus illum iste impedit aliquid'}\n",
      "{'fecha': '1982-02-22T15:45:59', 'agencia': 'Cochabamba', 'monto': 3303.03, 'descripcion': 'Debito Cta por compra', 'saldo': 906718.2, 'nota': 'aperiam in ipsum adipisci neque cum ut repellat tempora inventore'}\n",
      "{'fecha': '1984-05-09T10:02:58', 'agencia': 'Cochabamba', 'monto': 3127.5, 'descripcion': 'Transferencia interbancaria SIMPLE', 'saldo': 4967626.11, 'nota': 'saepe'}\n"
     ]
    }
   ],
   "source": [
    "start_time = time.time()\n",
    "results = busqueda_monto_mayor(monto=3000, agencia = \"Cochabamba\")\n",
    "end_time = time.time()\n",
    "\n",
    "print(f\"Se encontraron {results['hits']['total']['value']} en un tiempo de {str(timedelta(seconds = (end_time - start_time)))}\")\n",
    "print(\"=\"*100)\n",
    "\n",
    "for hit in results['hits']['hits']:\n",
    "    print(hit[\"_source\"])"
   ]
  },
  {
   "cell_type": "markdown",
   "metadata": {},
   "source": [
    "### Búsqueda considerando varios campos"
   ]
  },
  {
   "cell_type": "code",
   "execution_count": 23,
   "metadata": {},
   "outputs": [
    {
     "name": "stdout",
     "output_type": "stream",
     "text": [
      "Se encontraron 10000 en un tiempo de 0:00:00.855386\n",
      "====================================================================================================\n",
      "{'fecha': '1992-03-27T22:37:39', 'agencia': 'Beni', 'monto': 3514.88, 'descripcion': 'Retiro en efectivo', 'saldo': 7564017.42, 'nota': 'maiores blanditiis impedit libero laborum nostrum suscipit nobis enim corrupti dicta eveniet sit'}\n",
      "{'fecha': '1955-08-11T05:50:04', 'agencia': 'Beni', 'monto': 1515.24, 'descripcion': 'Retiro en efectivo', 'saldo': 6969180.17, 'nota': 'accusamus quidem consequuntur doloremque veniam eum eveniet'}\n",
      "{'fecha': '1954-07-25T13:59:31', 'agencia': 'Beni', 'monto': 2324.39, 'descripcion': 'Retiro en efectivo', 'saldo': 5438280.1, 'nota': 'sunt voluptas maxime praesentium tempora ullam nostrum sit molestias similique'}\n",
      "{'fecha': '1991-12-03T16:13:37', 'agencia': 'Beni', 'monto': 2657.4, 'descripcion': 'Retiro en efectivo', 'saldo': 8994435.01, 'nota': 'molestias deserunt dignissimos et'}\n",
      "{'fecha': '2007-11-12T12:23:26', 'agencia': 'Beni', 'monto': 1046.99, 'descripcion': 'Retiro en efectivo', 'saldo': 9289430.52, 'nota': 'officiis voluptas quam distinctio culpa asperiores excepturi est nihil expedita'}\n",
      "{'fecha': '1976-12-10T05:26:44', 'agencia': 'Beni', 'monto': 2915.08, 'descripcion': 'Retiro en efectivo', 'saldo': 6033072.86, 'nota': 'quas debitis expedita neque aspernatur'}\n",
      "{'fecha': '1967-03-11T04:49:14', 'agencia': 'Beni', 'monto': 1964.88, 'descripcion': 'Retiro en efectivo', 'saldo': 943066.63, 'nota': 'magni aut iste minima quia accusamus dolor labore asperiores nulla'}\n",
      "{'fecha': '1967-03-17T08:27:04', 'agencia': 'Beni', 'monto': 2498.34, 'descripcion': 'Retiro en efectivo', 'saldo': 4961330.04, 'nota': 'minima fugiat excepturi magnam ipsam labore autem'}\n",
      "{'fecha': '1950-04-02T23:09:04', 'agencia': 'Beni', 'monto': 1279.36, 'descripcion': 'Retiro en efectivo', 'saldo': 2053597.63, 'nota': 'at mollitia reiciendis voluptas quam eveniet asperiores repellendus assumenda'}\n",
      "{'fecha': '1977-04-18T15:53:10', 'agencia': 'Beni', 'monto': 1150.4, 'descripcion': 'Retiro en efectivo', 'saldo': 958151.79, 'nota': 'nulla excepturi culpa delectus incidunt ipsam sed repudiandae quas consequuntur'}\n"
     ]
    }
   ],
   "source": [
    "start_time = time.time()\n",
    "results = busqueda_compleja(saldo_min=1000, saldo_max=1500000, agencia1=\"Beni\", agencia2=\"Pando\", descripcion=\"Retiro en efectivo\")\n",
    "end_time = time.time()\n",
    "\n",
    "print(f\"Se encontraron {results['hits']['total']['value']} en un tiempo de {str(timedelta(seconds = (end_time - start_time)))}\")\n",
    "print(\"=\"*100)\n",
    "\n",
    "for hit in results['hits']['hits']:\n",
    "    print(hit[\"_source\"])"
   ]
  },
  {
   "cell_type": "markdown",
   "metadata": {},
   "source": [
    "### Agregaciones: Monto promedio por agencia"
   ]
  },
  {
   "cell_type": "code",
   "execution_count": 27,
   "metadata": {},
   "outputs": [
    {
     "name": "stdout",
     "output_type": "stream",
     "text": [
      "Se encontraron 10000 en un tiempo de 0:00:00.487605\n",
      "====================================================================================================\n",
      "{'total': {'value': 10000, 'relation': 'gte'}, 'max_score': 3.340705, 'hits': [{'_index': 'extracto_cuenta', '_id': 'RVyhNYQBKdMpO4lrUdjb', '_score': 3.340705, '_source': {'fecha': '1965-10-14T12:51:17', 'agencia': 'La Paz', 'monto': 1055.86, 'descripcion': 'Retención IVA', 'saldo': 259714.1, 'nota': 'distinctio cupiditate sed impedit quasi est'}}, {'_index': 'extracto_cuenta', '_id': 'UVyhNYQBKdMpO4lrUdjb', '_score': 3.340705, '_source': {'fecha': '1972-09-17T08:22:13', 'agencia': 'La Paz', 'monto': 3804.55, 'descripcion': 'AB.CTA.P/MOVIL', 'saldo': 5197980.07, 'nota': 'consectetur ipsa velit repudiandae ullam'}}, {'_index': 'extracto_cuenta', '_id': 'XVyhNYQBKdMpO4lrUdjb', '_score': 3.340705, '_source': {'fecha': '1960-08-12T05:47:43', 'agencia': 'La Paz', 'monto': 1514.74, 'descripcion': 'Debito Cta por pago de Seguro', 'saldo': 6499602.55, 'nota': 'voluptates corrupti'}}, {'_index': 'extracto_cuenta', '_id': 'YVyhNYQBKdMpO4lrUdjb', '_score': 3.340705, '_source': {'fecha': '1992-05-27T00:28:34', 'agencia': 'La Paz', 'monto': 2295.67, 'descripcion': 'Transferencia interbancaria SIMPLE', 'saldo': 6492892.73, 'nota': 'esse nam nihil placeat quae accusamus rerum magnam corporis natus'}}, {'_index': 'extracto_cuenta', '_id': 'YlyhNYQBKdMpO4lrUdjb', '_score': 3.340705, '_source': {'fecha': '2020-07-30T09:45:13', 'agencia': 'La Paz', 'monto': 163.0, 'descripcion': 'DEB.CTA.P/C.INTERNET', 'saldo': 6591920.84, 'nota': 'omnis unde ipsam iste distinctio reiciendis maxime odio'}}, {'_index': 'extracto_cuenta', '_id': 'bVyhNYQBKdMpO4lrUdjb', '_score': 3.340705, '_source': {'fecha': '1980-07-05T12:53:20', 'agencia': 'La Paz', 'monto': 3998.53, 'descripcion': 'Debito Cta por ACH', 'saldo': 7036885.43, 'nota': 'odit quia repudiandae soluta enim aliquam iure rem ad a vero ab aperiam'}}, {'_index': 'extracto_cuenta', '_id': 'eVyhNYQBKdMpO4lrUdjb', '_score': 3.340705, '_source': {'fecha': '2002-02-19T22:01:02', 'agencia': 'La Paz', 'monto': 1437.19, 'descripcion': 'Debito Cta por ACH', 'saldo': 7252670.54, 'nota': 'velit qui nemo doloremque nesciunt'}}, {'_index': 'extracto_cuenta', '_id': 'hVyhNYQBKdMpO4lrUdjb', '_score': 3.340705, '_source': {'fecha': '1978-10-24T23:43:29', 'agencia': 'La Paz', 'monto': 1999.7, 'descripcion': 'DEB.CTA.P/C.INTERNET', 'saldo': 1063165.82, 'nota': 'excepturi illum'}}, {'_index': 'extracto_cuenta', '_id': 'iVyhNYQBKdMpO4lrUdjb', '_score': 3.340705, '_source': {'fecha': '1972-06-24T04:59:39', 'agencia': 'La Paz', 'monto': 3062.33, 'descripcion': 'Retención IVA', 'saldo': 254467.14, 'nota': 'fugit nisi dolor laboriosam eveniet suscipit aut ad fuga'}}, {'_index': 'extracto_cuenta', '_id': 'kFyhNYQBKdMpO4lrUdjb', '_score': 3.340705, '_source': {'fecha': '2019-02-20T06:05:02', 'agencia': 'La Paz', 'monto': 3816.32, 'descripcion': 'Retiro en efectivo', 'saldo': 3689752.58, 'nota': 'laboriosam rem repudiandae'}}]}\n",
      "{'aggs': {'value': 2002.3158270040126}}\n"
     ]
    }
   ],
   "source": [
    "start_time = time.time()\n",
    "results = promedio_monto_agencia(agencia=\"La Paz\")\n",
    "end_time = time.time()\n",
    "\n",
    "print(f\"Se encontraron {results['hits']['total']['value']} en un tiempo de {str(timedelta(seconds = (end_time - start_time)))}\")\n",
    "print(\"=\"*100)\n",
    "\n",
    "print(results['hits'])\n",
    "print(results['aggregations'])"
   ]
  },
  {
   "cell_type": "markdown",
   "metadata": {},
   "source": [
    "## Actualización de datos"
   ]
  },
  {
   "cell_type": "markdown",
   "metadata": {},
   "source": [
    "### Actualización de montos en un rango determinado de fechas"
   ]
  },
  {
   "cell_type": "code",
   "execution_count": 32,
   "metadata": {},
   "outputs": [
    {
     "name": "stdout",
     "output_type": "stream",
     "text": [
      "Se actualizaron 20 en un tiempo de 0:00:00.155452\n"
     ]
    }
   ],
   "source": [
    "start_time = time.time()\n",
    "results = actualizacion_fecha_monto(min_date = \"2022-01-01\", max_date = \"2022-05-30\", monto = 7000)\n",
    "end_time = time.time()\n",
    "\n",
    "\n",
    "print(f\"Se actualizaron {results['total']} en un tiempo de {str(timedelta(seconds = (end_time - start_time)))}\")"
   ]
  },
  {
   "cell_type": "code",
   "execution_count": 33,
   "metadata": {},
   "outputs": [
    {
     "name": "stdout",
     "output_type": "stream",
     "text": [
      "{'descripcion': 'Debito Cta por pago de Seguro', 'fecha': '2022-01-01T00:30:33', 'monto': 7000, 'saldo': 4499644.88, 'nota': 'Actualización de monto por fecha', 'agencia': 'Oruro'}\n",
      "{'descripcion': 'DEB.CTA.P/C.INTERNET', 'fecha': '2022-01-01T00:11:42', 'monto': 7000, 'saldo': 5689893.75, 'nota': 'Actualización de monto por fecha', 'agencia': 'Beni'}\n",
      "{'descripcion': 'Retención IVA', 'fecha': '2022-01-01T00:01:34', 'monto': 7000, 'saldo': 7351642.72, 'nota': 'Actualización de monto por fecha', 'agencia': 'Pando'}\n",
      "{'descripcion': 'Retiro en efectivo', 'fecha': '2022-01-01T00:35:35', 'monto': 7000, 'saldo': 193253.51, 'nota': 'Actualización de monto por fecha', 'agencia': 'Santa Cruz'}\n",
      "{'descripcion': 'Pago en interés', 'fecha': '2022-01-01T00:27:13', 'monto': 7000, 'saldo': 151798.37, 'nota': 'Actualización de monto por fecha', 'agencia': 'Cochabamba'}\n",
      "{'descripcion': 'Retención IVA', 'fecha': '2022-01-01T00:49:50', 'monto': 7000, 'saldo': 5993279.21, 'nota': 'Actualización de monto por fecha', 'agencia': 'La Paz'}\n",
      "{'descripcion': 'Debito Cta por pago de Seguro', 'fecha': '2022-01-01T00:05:08', 'monto': 7000, 'saldo': 8148054.46, 'nota': 'Actualización de monto por fecha', 'agencia': 'Tarija'}\n",
      "{'descripcion': 'Retiro en efectivo', 'fecha': '2022-01-01T00:36:59', 'monto': 7000, 'saldo': 7588303.05, 'nota': 'Actualización de monto por fecha', 'agencia': 'Tarija'}\n",
      "{'descripcion': 'Debito Cta por ACH', 'fecha': '2022-01-01T00:42:21', 'monto': 7000, 'saldo': 4503739.24, 'nota': 'Actualización de monto por fecha', 'agencia': 'La Paz'}\n",
      "{'descripcion': 'AB.CTA.P/MOVIL', 'fecha': '2022-01-01T00:50:25', 'monto': 7000, 'saldo': 1243628.88, 'nota': 'Actualización de monto por fecha', 'agencia': 'Oruro'}\n",
      "Se encontraron: 20 resultados\n"
     ]
    }
   ],
   "source": [
    "query = {\n",
    "    \"range\" : {\n",
    "                  \"fecha\": { \"gte\" : f\"2022-01-01\", \"lte\" : f\"2022-05-30\" },\n",
    "      }\n",
    "  }\n",
    "\n",
    "results = es.search(index='extracto_cuenta', query=query)\n",
    "\n",
    "for hit in results['hits']['hits']:\n",
    "    print(hit[\"_source\"])\n",
    "\n",
    "print(f\"Se encontraron: {results['hits']['total']['value']} resultados\")"
   ]
  },
  {
   "cell_type": "markdown",
   "metadata": {},
   "source": [
    "## Eliminar datos"
   ]
  },
  {
   "cell_type": "markdown",
   "metadata": {},
   "source": [
    "### Eliminar saldos menores a determinado número"
   ]
  },
  {
   "cell_type": "code",
   "execution_count": 37,
   "metadata": {},
   "outputs": [
    {
     "name": "stdout",
     "output_type": "stream",
     "text": [
      "{'took': 6926, 'timed_out': False, 'total': 554, 'deleted': 554, 'batches': 1, 'version_conflicts': 0, 'noops': 0, 'retries': {'bulk': 0, 'search': 0}, 'throttled_millis': 0, 'requests_per_second': -1.0, 'throttled_until_millis': 0, 'failures': []}\n",
      "Se eliminaron 554 en un tiempo de 0:00:06.930695\n"
     ]
    }
   ],
   "source": [
    "start_time = time.time()\n",
    "results = eliminar_saldo_min(saldo_min= 1000)\n",
    "end_time = time.time()\n",
    "\n",
    "print(results)\n",
    "print(f\"Se eliminaron {results['total']} en un tiempo de {str(timedelta(seconds = (end_time - start_time)))}\")"
   ]
  },
  {
   "cell_type": "code",
   "execution_count": 38,
   "metadata": {},
   "outputs": [
    {
     "name": "stdout",
     "output_type": "stream",
     "text": [
      "Se encontraron: 0 resultados\n"
     ]
    }
   ],
   "source": [
    "query = {\n",
    "    \"range\" : {\n",
    "                  \"saldo\": { \"lte\" : 1000},\n",
    "      }\n",
    "  }\n",
    "\n",
    "results = es.search(index='extracto_cuenta', query=query)\n",
    "\n",
    "for hit in results['hits']['hits']:\n",
    "    print(hit[\"_source\"])\n",
    "\n",
    "print(f\"Se encontraron: {results['hits']['total']['value']} resultados\")"
   ]
  }
 ],
 "metadata": {
  "kernelspec": {
   "display_name": "Python 3.9.12 ('base')",
   "language": "python",
   "name": "python3"
  },
  "language_info": {
   "codemirror_mode": {
    "name": "ipython",
    "version": 3
   },
   "file_extension": ".py",
   "mimetype": "text/x-python",
   "name": "python",
   "nbconvert_exporter": "python",
   "pygments_lexer": "ipython3",
   "version": "3.9.12"
  },
  "orig_nbformat": 4,
  "vscode": {
   "interpreter": {
    "hash": "d7e5a1f785ed82844e2da5d30522181462e1597dbd1807cbc4c5c0cc1d5a2e0b"
   }
  }
 },
 "nbformat": 4,
 "nbformat_minor": 2
}

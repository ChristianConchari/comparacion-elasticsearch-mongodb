{
 "cells": [
  {
   "cell_type": "code",
   "execution_count": 6,
   "metadata": {},
   "outputs": [
    {
     "name": "stdout",
     "output_type": "stream",
     "text": [
      "Connected to ElasticSearch cluster `docker-cluster`\n"
     ]
    }
   ],
   "source": [
    "from elasticsearch import Elasticsearch\n",
    "import time\n",
    "from datetime import timedelta, datetime\n",
    "from lorem_text import lorem\n",
    "\n",
    "es = Elasticsearch(\"http://127.0.0.1:9200\")\n",
    "\n",
    "print(f\"Connected to ElasticSearch cluster `{es.info().body['cluster_name']}`\")"
   ]
  },
  {
   "cell_type": "markdown",
   "metadata": {},
   "source": [
    "# Consultas a la base de datos con 1 millón de registros y todos los campos indexados"
   ]
  },
  {
   "cell_type": "markdown",
   "metadata": {},
   "source": [
    "En esta sección se revisará la operación de búsqueda para la colección de 1 millón de documentos ya indexados"
   ]
  },
  {
   "cell_type": "code",
   "execution_count": 7,
   "metadata": {},
   "outputs": [],
   "source": [
    "idx = \"extracto_cuenta_1m\""
   ]
  },
  {
   "cell_type": "markdown",
   "metadata": {},
   "source": [
    "## Consulta 1: Todos los datos"
   ]
  },
  {
   "cell_type": "markdown",
   "metadata": {},
   "source": [
    "Se realizará una búsqueda sobre todos los campos en la colección"
   ]
  },
  {
   "cell_type": "code",
   "execution_count": 6,
   "metadata": {},
   "outputs": [
    {
     "name": "stdout",
     "output_type": "stream",
     "text": [
      "====================================================================================================\n",
      "{'fecha': '1993-09-22 12:40:22', 'agencia': 'Oruro', 'monto': 197861.14, 'descripcion': 'AB.CTA.P/MOVIL', 'saldo': 1822809.72, 'nota': 'ducimus officia eum praesentium nesciunt dolorum assumenda distinctio repellendus facilis inventore ad quod'}\n",
      "\n",
      "{'fecha': '1951-05-28 22:45:09', 'agencia': 'Beni', 'monto': 333582.65, 'descripcion': 'Pago recibo de luz', 'saldo': 3022748.45, 'nota': 'aliquid hic blanditiis in magni impedit fugit accusamus sint'}\n",
      "\n",
      "{'fecha': '1951-08-31 01:49:14', 'agencia': 'Chuquisaca', 'monto': 243308.44, 'descripcion': 'AB.CTA.P/MOVIL', 'saldo': 1315661.01, 'nota': 'corporis repellendus'}\n",
      "\n",
      "{'fecha': '2018-02-02 12:06:52', 'agencia': 'Oruro', 'monto': 188642.12, 'descripcion': 'Pago en línea - Servicio de internet', 'saldo': 3208976.13, 'nota': 'quis nobis quae officiis'}\n",
      "\n",
      "{'fecha': '2001-03-27 05:18:31', 'agencia': 'Pando', 'monto': 379968.28, 'descripcion': 'Pago recibo de luz', 'saldo': 806113.97, 'nota': 'illo harum quis itaque aliquam doloribus vitae temporibus quibusdam'}\n",
      "\n",
      "{'fecha': '1997-09-01 08:46:04', 'agencia': 'Cochabamba', 'monto': 228954.61, 'descripcion': 'Cargo por cobro de servicio', 'saldo': 5946028.21, 'nota': 'quae'}\n",
      "\n",
      "{'fecha': '1987-04-08 20:23:15', 'agencia': 'Cochabamba', 'monto': 298720.63, 'descripcion': 'AB.CTA.P/MOVIL', 'saldo': 4887750.96, 'nota': 'quibusdam maxime iure necessitatibus laboriosam sunt est voluptate quae'}\n",
      "\n",
      "{'fecha': '1974-07-14 16:14:17', 'agencia': 'Oruro', 'monto': 165975.63, 'descripcion': 'Ingreso en efectivo', 'saldo': 3142323.35, 'nota': 'nam aut labore eos amet minus'}\n",
      "\n",
      "{'fecha': '1966-08-10 16:32:13', 'agencia': 'Chuquisaca', 'monto': 69105.1, 'descripcion': 'Retención IVA', 'saldo': 1991426.67, 'nota': 'fugit velit id cum'}\n",
      "\n",
      "{'fecha': '1978-05-14 22:27:39', 'agencia': 'Santa Cruz', 'monto': 337586.12, 'descripcion': 'Transferencia de fondos de ahorros', 'saldo': 8904039.53, 'nota': 'incidunt molestias atque'}\n",
      "\n",
      "====================================================================================================\n",
      " Consulta realizada en un tiempo de 5.924 milisegundos\n",
      "====================================================================================================\n"
     ]
    }
   ],
   "source": [
    "query = {\n",
    "    \"match_all\" : {}\n",
    "}\n",
    "\n",
    "start_time = time.time()\n",
    "results = es.search(index=idx, query=query)\n",
    "end_time = time.time()\n",
    "\n",
    "print(\"=\"*100)\n",
    "\n",
    "for hit in results['hits']['hits']:\n",
    "    print(hit[\"_source\"])\n",
    "    print(\"\")\n",
    "\n",
    "print(\"=\"*100)\n",
    "print(f\" Consulta realizada en un tiempo de {round((end_time - start_time)*1000, 4)} milisegundos\")\n",
    "print(\"=\"*100)"
   ]
  },
  {
   "cell_type": "markdown",
   "metadata": {},
   "source": [
    "## Consulta 2: Fecha y agencia"
   ]
  },
  {
   "cell_type": "markdown",
   "metadata": {},
   "source": [
    "Se realizará una búsqueda sobre los campos fecha y agencia. Siendo los parámetros de entrada una fecha inicial, una fecha final y una agencia."
   ]
  },
  {
   "cell_type": "code",
   "execution_count": 56,
   "metadata": {},
   "outputs": [],
   "source": [
    "def busqueda_fecha_agencia(start_date, end_date, agencia):\n",
    "    from_date_str = start_date + \" 00:00:00\"\n",
    "    to_date_str = end_date + \" 23:59:59\"\n",
    "    \n",
    "    query = {\n",
    "            \"bool\": {\n",
    "                \"must\": [\n",
    "                    { \"match\": { \"agencia\": f\"{agencia}\" } },\n",
    "                    {\"range\" : {\n",
    "                        \"fecha\": { \"gte\" : f\"{from_date_str}\", \"lte\" : f\"{to_date_str}\"}}\n",
    "                    }\n",
    "                ]\n",
    "            }\n",
    "    }\n",
    "\n",
    "    return es.search(index=idx, query=query)"
   ]
  },
  {
   "cell_type": "code",
   "execution_count": 14,
   "metadata": {},
   "outputs": [
    {
     "name": "stdout",
     "output_type": "stream",
     "text": [
      "====================================================================================================\n",
      "{'fecha': '2019-07-04 15:16:28', 'agencia': 'Cochabamba', 'monto': 133559.25, 'descripcion': 'Debito Cta por ACH', 'saldo': 2217674.49, 'nota': 'quae possimus nihil quasi nobis sed voluptatum beatae eius suscipit expedita similique'}\n",
      "\n",
      "{'fecha': '2019-03-16 05:36:53', 'agencia': 'Cochabamba', 'monto': 200424.83, 'descripcion': 'Transferencia interbancaria SIMPLE', 'saldo': 7578881.93, 'nota': 'provident repellat vero quas tenetur nemo ab vitae ullam'}\n",
      "\n",
      "{'fecha': '2019-03-15 03:27:10', 'agencia': 'Cochabamba', 'monto': 84705.22, 'descripcion': 'Pago de nómina', 'saldo': 828603.3, 'nota': 'eum rerum fugit eos'}\n",
      "\n",
      "{'fecha': '2019-09-19 04:56:24', 'agencia': 'Cochabamba', 'monto': 84075.4, 'descripcion': 'Consignación en efectivo', 'saldo': 8636216.21, 'nota': 'architecto doloribus illo nesciunt quia est fugiat ut aperiam'}\n",
      "\n",
      "{'fecha': '2019-12-20 14:55:25', 'agencia': 'Cochabamba', 'monto': 71924.54, 'descripcion': 'Comisión de mantenimiento', 'saldo': 7171625.59, 'nota': 'magni aut nam provident'}\n",
      "\n",
      "{'fecha': '2019-12-16 00:04:32', 'agencia': 'Cochabamba', 'monto': 273700.97, 'descripcion': 'Pago recibo de gas', 'saldo': 4218202.71, 'nota': 'rerum molestias obcaecati dolorum eveniet repellendus hic praesentium odit autem alias temporibus'}\n",
      "\n",
      "{'fecha': '2019-05-26 13:12:45', 'agencia': 'Cochabamba', 'monto': 177102.01, 'descripcion': 'Apertura de cuenta corriente', 'saldo': 2246408.45, 'nota': 'cum quia molestiae sapiente id'}\n",
      "\n",
      "{'fecha': '2019-10-30 14:03:11', 'agencia': 'Cochabamba', 'monto': 379187.43, 'descripcion': 'Retiro en efectivo', 'saldo': 3719261.19, 'nota': 'amet architecto perferendis omnis et tempore odio nihil tenetur'}\n",
      "\n",
      "{'fecha': '2019-06-24 22:14:34', 'agencia': 'Cochabamba', 'monto': 172483.55, 'descripcion': 'Consignación en efectivo', 'saldo': 9217599.57, 'nota': 'fugiat'}\n",
      "\n",
      "{'fecha': '2019-10-31 06:19:35', 'agencia': 'Cochabamba', 'monto': 278357.27, 'descripcion': 'Cobro seguro', 'saldo': 9469489.16, 'nota': 'voluptas veritatis expedita perspiciatis quis necessitatibus'}\n",
      "\n",
      "====================================================================================================\n",
      " Consulta realizada en un tiempo de 14.796 milisegundos\n",
      "====================================================================================================\n"
     ]
    }
   ],
   "source": [
    "start_date = \"2019-01-31\" \n",
    "end_date = \"2019-12-31\"\n",
    "agencia = \"Cochabamba\"\n",
    "\n",
    "start_time = time.time()\n",
    "results = busqueda_fecha_agencia(start_date, end_date, agencia)\n",
    "end_time = time.time()\n",
    "\n",
    "print(\"=\"*100)\n",
    "\n",
    "for hit in results['hits']['hits']:\n",
    "    print(hit[\"_source\"])\n",
    "    print(\"\")\n",
    "\n",
    "print(\"=\"*100)\n",
    "print(f\" Consulta realizada en un tiempo de {round((end_time - start_time)*1000, 4)} milisegundos\")\n",
    "print(\"=\"*100)"
   ]
  },
  {
   "cell_type": "markdown",
   "metadata": {},
   "source": [
    "## Consulta 3: Rango de saldo, dos opciones de agencias y descripción"
   ]
  },
  {
   "cell_type": "markdown",
   "metadata": {},
   "source": [
    "Se realizará una búsqueda sobre los campos saldo, agencia (OR 2 opciones) y descripción. Los parámetros de entrada son un rango de saldos, dos opciones de agencias, y una descripción."
   ]
  },
  {
   "cell_type": "code",
   "execution_count": 57,
   "metadata": {},
   "outputs": [],
   "source": [
    "def busqueda_saldo_agencias_descripcion(saldo_min, saldo_max, agencia1, agencia2, descripcion):\n",
    "    query = {\n",
    "            \"bool\": {\n",
    "                \"must\": [\n",
    "                    {\n",
    "                        \"bool\": {\n",
    "                            \"should\": [\n",
    "                                {\"match\": {\"agencia\": f\"{agencia1}\"}},\n",
    "                                {\"match\": {\"agencia\": f\"{agencia2}\"}}\n",
    "                            ]\n",
    "                        }\n",
    "                    },\n",
    "                    {\n",
    "                        \"bool\": {\n",
    "                            \"must\": [\n",
    "                                {\n",
    "                                    \"range\" : {\n",
    "                                        \"monto\": { \"gte\" : saldo_min, \"lte\": saldo_max}\n",
    "                                    }\n",
    "                                }\n",
    "                            ]\n",
    "                        }\n",
    "                    },\n",
    "                    {\n",
    "                        \"match\": {\"descripcion\": f\"{descripcion}\"}\n",
    "                    }\n",
    "                ]\n",
    "            }\n",
    "    }\n",
    "\n",
    "    return es.search(index=idx, query=query)"
   ]
  },
  {
   "cell_type": "code",
   "execution_count": 21,
   "metadata": {},
   "outputs": [
    {
     "name": "stdout",
     "output_type": "stream",
     "text": [
      "====================================================================================================\n",
      "{'fecha': '1998-08-10 00:44:49', 'agencia': 'Santa Cruz', 'monto': 309718.61, 'descripcion': 'Retiro en efectivo', 'saldo': 914647.58, 'nota': 'voluptatibus illum voluptas odit ex incidunt'}\n",
      "\n",
      "{'fecha': '1986-10-01 09:10:00', 'agencia': 'Santa Cruz', 'monto': 357624.23, 'descripcion': 'Retiro en efectivo', 'saldo': 8658740.86, 'nota': 'harum illo tempore officiis sapiente officia dignissimos natus alias atque'}\n",
      "\n",
      "{'fecha': '1994-07-19 23:13:52', 'agencia': 'Santa Cruz', 'monto': 370078.84, 'descripcion': 'Retiro en efectivo', 'saldo': 7041823.23, 'nota': 'quia quisquam similique'}\n",
      "\n",
      "{'fecha': '1979-04-04 11:58:10', 'agencia': 'Santa Cruz', 'monto': 295316.64, 'descripcion': 'Retiro en efectivo', 'saldo': 4278890.78, 'nota': 'quae enim labore nemo'}\n",
      "\n",
      "{'fecha': '1975-06-07 23:41:33', 'agencia': 'Santa Cruz', 'monto': 387581.17, 'descripcion': 'Retiro en efectivo', 'saldo': 1225706.16, 'nota': 'porro quibusdam reiciendis aperiam amet'}\n",
      "\n",
      "{'fecha': '1959-08-19 15:19:16', 'agencia': 'Santa Cruz', 'monto': 282104.51, 'descripcion': 'Retiro en efectivo', 'saldo': 38254.29, 'nota': 'modi harum quo natus earum sit'}\n",
      "\n",
      "{'fecha': '2002-03-24 06:45:25', 'agencia': 'Santa Cruz', 'monto': 367649.93, 'descripcion': 'Retiro en efectivo', 'saldo': 3772897.1, 'nota': 'rem'}\n",
      "\n",
      "{'fecha': '1994-06-25 16:43:34', 'agencia': 'Santa Cruz', 'monto': 394520.5, 'descripcion': 'Retiro en efectivo', 'saldo': 4531112.5, 'nota': 'illo sit accusantium earum consequuntur doloribus sapiente quam'}\n",
      "\n",
      "{'fecha': '1974-10-03 05:58:56', 'agencia': 'Santa Cruz', 'monto': 335344.05, 'descripcion': 'Retiro en efectivo', 'saldo': 8076177.59, 'nota': 'at perspiciatis commodi similique voluptatum omnis a ratione maxime quasi reiciendis saepe'}\n",
      "\n",
      "{'fecha': '1952-10-27 21:03:28', 'agencia': 'Santa Cruz', 'monto': 333254.88, 'descripcion': 'Retiro en efectivo', 'saldo': 5549876.78, 'nota': 'accusantium obcaecati veritatis provident illum cumque ipsam amet itaque porro cum vitae'}\n",
      "\n",
      "====================================================================================================\n",
      " Consulta realizada en un tiempo de 62.3477 milisegundos\n",
      "====================================================================================================\n"
     ]
    }
   ],
   "source": [
    "saldo_min = 162342\n",
    "saldo_max = 382304513\n",
    "agencia1 = \"La Paz\"\n",
    "agencia2 = \"Santa Cruz\"\n",
    "descripcion = \"Retiro en efectivo\"\n",
    "\n",
    "start_time = time.time()\n",
    "results = busqueda_saldo_agencias_descripcion(saldo_min, saldo_max, agencia1, agencia2, descripcion)\n",
    "end_time = time.time()\n",
    "\n",
    "print(\"=\"*100)\n",
    "\n",
    "for hit in results['hits']['hits']:\n",
    "    print(hit[\"_source\"])\n",
    "    print(\"\")\n",
    "\n",
    "print(\"=\"*100)\n",
    "print(f\" Consulta realizada en un tiempo de {round((end_time - start_time)*1000, 4)} milisegundos\")\n",
    "print(\"=\"*100)"
   ]
  },
  {
   "cell_type": "markdown",
   "metadata": {},
   "source": [
    "## Agregación 1: Suma de saldos de una agencia"
   ]
  },
  {
   "cell_type": "markdown",
   "metadata": {},
   "source": [
    "Se calculará la suma de los saldos de los datos agrupados de una agencia en específico."
   ]
  },
  {
   "cell_type": "code",
   "execution_count": 22,
   "metadata": {},
   "outputs": [],
   "source": [
    "def suma_saldo_agencia(agencia):\n",
    "    aggs = {\n",
    "            f\"suma {agencia}\" : {\n",
    "                    \"sum\" : {\n",
    "                        \"field\" : \"saldo\",\n",
    "                    } \n",
    "            }\n",
    "        }\n",
    "\n",
    "    query = {\n",
    "        \"match\": {\"agencia\": f\"{agencia}\"}\n",
    "    }\n",
    "\n",
    "\n",
    "\n",
    "    return es.search(index=idx, query=query, aggs=aggs)"
   ]
  },
  {
   "cell_type": "code",
   "execution_count": 23,
   "metadata": {},
   "outputs": [
    {
     "name": "stdout",
     "output_type": "stream",
     "text": [
      "====================================================================================================\n",
      "{'total': {'value': 10000, 'relation': 'gte'}, 'max_score': 2.0775523, 'hits': [{'_index': 'extracto_cuenta_1m', '_id': 'gK2XXoQBoKrfaqsDWq-H', '_score': 2.0775523, '_source': {'fecha': '1951-05-28 22:45:09', 'agencia': 'Beni', 'monto': 333582.65, 'descripcion': 'Pago recibo de luz', 'saldo': 3022748.45, 'nota': 'aliquid hic blanditiis in magni impedit fugit accusamus sint'}}, {'_index': 'extracto_cuenta_1m', '_id': 'j62XXoQBoKrfaqsDWq-H', '_score': 2.0775523, '_source': {'fecha': '1966-12-30 01:28:56', 'agencia': 'Beni', 'monto': 271624.59, 'descripcion': 'Transferencia interbancaria SIMPLE', 'saldo': 3606574.85, 'nota': 'quibusdam'}}, {'_index': 'extracto_cuenta_1m', '_id': 'nq2XXoQBoKrfaqsDWq-H', '_score': 2.0775523, '_source': {'fecha': '2003-11-02 02:24:14', 'agencia': 'Beni', 'monto': 165310.57, 'descripcion': 'Pago recibo de agua', 'saldo': 157449.56, 'nota': 'maxime corporis odit quis non molestias tempore esse dicta ipsa mollitia reiciendis atque'}}, {'_index': 'extracto_cuenta_1m', '_id': 'oK2XXoQBoKrfaqsDWq-H', '_score': 2.0775523, '_source': {'fecha': '2018-09-22 09:49:56', 'agencia': 'Beni', 'monto': 56592.5, 'descripcion': 'Debito Cta por ACH', 'saldo': 8211060.64, 'nota': 'rerum repudiandae enim sit obcaecati omnis ad fugiat molestias'}}, {'_index': 'extracto_cuenta_1m', '_id': 'o62XXoQBoKrfaqsDWq-H', '_score': 2.0775523, '_source': {'fecha': '1997-07-15 15:54:51', 'agencia': 'Beni', 'monto': 257874, 'descripcion': 'AB.CTA.P/MOVIL', 'saldo': 5179963.76, 'nota': 'eum quibusdam adipisci consectetur asperiores et blanditiis enim rem'}}, {'_index': 'extracto_cuenta_1m', '_id': 'qa2XXoQBoKrfaqsDWq-H', '_score': 2.0775523, '_source': {'fecha': '2010-06-06 23:12:19', 'agencia': 'Beni', 'monto': 149445.62, 'descripcion': 'Transferencia de fondos de ahorros', 'saldo': 2334218.8, 'nota': 'numquam atque rem illo voluptas tempore soluta voluptatibus consectetur adipisci eum sapiente'}}, {'_index': 'extracto_cuenta_1m', '_id': 'qq2XXoQBoKrfaqsDWq-H', '_score': 2.0775523, '_source': {'fecha': '2000-10-17 14:36:53', 'agencia': 'Beni', 'monto': 27942.77, 'descripcion': 'Pago de servicio telefónico', 'saldo': 9664150.03, 'nota': 'mollitia incidunt nemo non nulla ipsam temporibus laborum libero'}}, {'_index': 'extracto_cuenta_1m', '_id': 'rK2XXoQBoKrfaqsDWq-H', '_score': 2.0775523, '_source': {'fecha': '1963-01-08 19:56:10', 'agencia': 'Beni', 'monto': 203024.12, 'descripcion': 'Cargo por cobro de servicio', 'saldo': 1368862.78, 'nota': 'excepturi velit mollitia reprehenderit ratione'}}, {'_index': 'extracto_cuenta_1m', '_id': 'r62XXoQBoKrfaqsDWq-H', '_score': 2.0775523, '_source': {'fecha': '1963-01-14 06:39:28', 'agencia': 'Beni', 'monto': 7633.99, 'descripcion': 'Debito Cta por pago de Seguro', 'saldo': 3696266.65, 'nota': 'ad dolore laudantium eligendi soluta hic dignissimos'}}, {'_index': 'extracto_cuenta_1m', '_id': 'sK2XXoQBoKrfaqsDWq-H', '_score': 2.0775523, '_source': {'fecha': '1990-06-06 13:57:55', 'agencia': 'Beni', 'monto': 54731.13, 'descripcion': 'Aporte inversor', 'saldo': 8568187.44, 'nota': 'blanditiis minima sed vitae reiciendis maxime impedit sapiente aspernatur reprehenderit quibusdam excepturi'}}]}\n",
      "====================================================================================================\n",
      "{'suma Beni': {'value': 626976221171.1904}}\n",
      "====================================================================================================\n",
      " Consulta realizada en un tiempo de 0:00:00.018883\n",
      "====================================================================================================\n"
     ]
    }
   ],
   "source": [
    "agencia = \"Beni\"\n",
    "\n",
    "start_time = time.time()\n",
    "results = suma_saldo_agencia(agencia)\n",
    "end_time = time.time()\n",
    "\n",
    "\n",
    "print(\"=\"*100)\n",
    "print(results['hits'])\n",
    "print(\"=\"*100)\n",
    "print(results['aggregations'])\n",
    "print(\"=\"*100)\n",
    "print(f\" Consulta realizada en un tiempo de {str(timedelta(seconds = (end_time - start_time)))}\")\n",
    "print(\"=\"*100)"
   ]
  },
  {
   "cell_type": "markdown",
   "metadata": {},
   "source": [
    "## Agregación 2: Promedio de montos por agencia"
   ]
  },
  {
   "cell_type": "code",
   "execution_count": 60,
   "metadata": {},
   "outputs": [],
   "source": [
    "def promedio_montos_agencia():\n",
    "    aggs = {\n",
    "            \"promedio\":\n",
    "            {\n",
    "                \"terms\":\n",
    "                {\n",
    "                    \"field\": \"agencia\"\n",
    "                },\n",
    "                \"aggs\":\n",
    "                {\n",
    "                    \"promedio\":\n",
    "                    {\n",
    "                        \"avg\": {\n",
    "                            \"field\": \"monto\"\n",
    "                        }\n",
    "                    }\n",
    "                }\n",
    "            }\n",
    "            \n",
    "    }\n",
    "\n",
    "\n",
    "    return es.search(index=idx, aggs=aggs)"
   ]
  },
  {
   "cell_type": "code",
   "execution_count": 62,
   "metadata": {},
   "outputs": [
    {
     "name": "stdout",
     "output_type": "stream",
     "text": [
      "====================================================================================================\n",
      "{'total': {'value': 10000, 'relation': 'gte'}, 'max_score': 1.0, 'hits': [{'_index': 'extracto_cuenta_1m', '_id': 'f62XXoQBoKrfaqsDWq-H', '_score': 1.0, '_source': {'fecha': '1993-09-22 12:40:22', 'agencia': 'Oruro', 'monto': 197861.14, 'descripcion': 'AB.CTA.P/MOVIL', 'saldo': 1822809.72, 'nota': 'ducimus officia eum praesentium nesciunt dolorum assumenda distinctio repellendus facilis inventore ad quod'}}, {'_index': 'extracto_cuenta_1m', '_id': 'gK2XXoQBoKrfaqsDWq-H', '_score': 1.0, '_source': {'fecha': '1951-05-28 22:45:09', 'agencia': 'Beni', 'monto': 333582.65, 'descripcion': 'Pago recibo de luz', 'saldo': 3022748.45, 'nota': 'aliquid hic blanditiis in magni impedit fugit accusamus sint'}}, {'_index': 'extracto_cuenta_1m', '_id': 'ga2XXoQBoKrfaqsDWq-H', '_score': 1.0, '_source': {'fecha': '1951-08-31 01:49:14', 'agencia': 'Chuquisaca', 'monto': 243308.44, 'descripcion': 'AB.CTA.P/MOVIL', 'saldo': 1315661.01, 'nota': 'corporis repellendus'}}, {'_index': 'extracto_cuenta_1m', '_id': 'gq2XXoQBoKrfaqsDWq-H', '_score': 1.0, '_source': {'fecha': '2018-02-02 12:06:52', 'agencia': 'Oruro', 'monto': 188642.12, 'descripcion': 'Pago en línea - Servicio de internet', 'saldo': 3208976.13, 'nota': 'quis nobis quae officiis'}}, {'_index': 'extracto_cuenta_1m', '_id': 'g62XXoQBoKrfaqsDWq-H', '_score': 1.0, '_source': {'fecha': '2001-03-27 05:18:31', 'agencia': 'Pando', 'monto': 379968.28, 'descripcion': 'Pago recibo de luz', 'saldo': 806113.97, 'nota': 'illo harum quis itaque aliquam doloribus vitae temporibus quibusdam'}}, {'_index': 'extracto_cuenta_1m', '_id': 'hK2XXoQBoKrfaqsDWq-H', '_score': 1.0, '_source': {'fecha': '1997-09-01 08:46:04', 'agencia': 'Cochabamba', 'monto': 228954.61, 'descripcion': 'Cargo por cobro de servicio', 'saldo': 5946028.21, 'nota': 'quae'}}, {'_index': 'extracto_cuenta_1m', '_id': 'ha2XXoQBoKrfaqsDWq-H', '_score': 1.0, '_source': {'fecha': '1987-04-08 20:23:15', 'agencia': 'Cochabamba', 'monto': 298720.63, 'descripcion': 'AB.CTA.P/MOVIL', 'saldo': 4887750.96, 'nota': 'quibusdam maxime iure necessitatibus laboriosam sunt est voluptate quae'}}, {'_index': 'extracto_cuenta_1m', '_id': 'hq2XXoQBoKrfaqsDWq-H', '_score': 1.0, '_source': {'fecha': '1974-07-14 16:14:17', 'agencia': 'Oruro', 'monto': 165975.63, 'descripcion': 'Ingreso en efectivo', 'saldo': 3142323.35, 'nota': 'nam aut labore eos amet minus'}}, {'_index': 'extracto_cuenta_1m', '_id': 'h62XXoQBoKrfaqsDWq-H', '_score': 1.0, '_source': {'fecha': '1966-08-10 16:32:13', 'agencia': 'Chuquisaca', 'monto': 69105.1, 'descripcion': 'Retención IVA', 'saldo': 1991426.67, 'nota': 'fugit velit id cum'}}, {'_index': 'extracto_cuenta_1m', '_id': 'iK2XXoQBoKrfaqsDWq-H', '_score': 1.0, '_source': {'fecha': '1978-05-14 22:27:39', 'agencia': 'Santa Cruz', 'monto': 337586.12, 'descripcion': 'Transferencia de fondos de ahorros', 'saldo': 8904039.53, 'nota': 'incidunt molestias atque'}}]}\n",
      "====================================================================================================\n",
      "{'promedio': {'doc_count_error_upper_bound': 0, 'sum_other_doc_count': 0, 'buckets': [{'key': 'Cochabamba', 'doc_count': 125347, 'promedio': {'value': 200281.3581823465}}, {'key': 'Beni', 'doc_count': 125236, 'promedio': {'value': 199941.14250938487}}, {'key': 'Tarija', 'doc_count': 125153, 'promedio': {'value': 199866.98386651132}}, {'key': 'La Paz', 'doc_count': 124988, 'promedio': {'value': 200139.52644130378}}, {'key': 'Pando', 'doc_count': 124958, 'promedio': {'value': 199461.14056351053}}, {'key': 'Santa Cruz', 'doc_count': 124896, 'promedio': {'value': 200005.27488574834}}, {'key': 'Oruro', 'doc_count': 124794, 'promedio': {'value': 199982.06859129353}}, {'key': 'Chuquisaca', 'doc_count': 124628, 'promedio': {'value': 200095.33669448577}}]}}\n",
      "====================================================================================================\n",
      " Consulta realizada en un tiempo de 0:00:00.118918\n",
      "====================================================================================================\n"
     ]
    }
   ],
   "source": [
    "start_time = time.time()\n",
    "results = promedio_montos_agencia()\n",
    "end_time = time.time()\n",
    "\n",
    "\n",
    "print(\"=\"*100)\n",
    "print(results['hits'])\n",
    "print(\"=\"*100)\n",
    "print(results['aggregations'])\n",
    "print(\"=\"*100)\n",
    "print(f\" Consulta realizada en un tiempo de {str(timedelta(seconds = (end_time - start_time)))}\")\n",
    "print(\"=\"*100)"
   ]
  },
  {
   "cell_type": "markdown",
   "metadata": {},
   "source": [
    "**Nota:** Elasticsearch no recomienda las agregaciones por campos del tipo texto, en su lugar recomienda utilizar campos del tipo keyword.\n",
    "\n",
    "![](../imagenes-de-soporte/error_aggs_elastic.png)"
   ]
  },
  {
   "cell_type": "markdown",
   "metadata": {},
   "source": [
    "# Consultas a la base de datos con 10 millones de registros y todos los campos indexados"
   ]
  },
  {
   "cell_type": "markdown",
   "metadata": {},
   "source": [
    "En esta sección se revisará la operación de búsqueda para la colección de 10 millones de documentos indexados."
   ]
  },
  {
   "cell_type": "code",
   "execution_count": 63,
   "metadata": {},
   "outputs": [],
   "source": [
    "idx = \"extracto_cuenta_10m\""
   ]
  },
  {
   "cell_type": "markdown",
   "metadata": {},
   "source": [
    "## Consulta 1: Todos los datos"
   ]
  },
  {
   "cell_type": "markdown",
   "metadata": {},
   "source": [
    "Se realizará una búsqueda sobre todos los campos en la colección"
   ]
  },
  {
   "cell_type": "code",
   "execution_count": 64,
   "metadata": {},
   "outputs": [
    {
     "name": "stdout",
     "output_type": "stream",
     "text": [
      "====================================================================================================\n",
      "{'fecha': '1999-06-18 17:01:14', 'agencia': 'La Paz', 'monto': 298916.5, 'descripcion': 'Pago de cheque compensado', 'saldo': 4401608.54, 'nota': 'aperiam reprehenderit delectus accusantium quam in ratione deleniti perspiciatis'}\n",
      "\n",
      "{'fecha': '1988-06-28 16:09:15', 'agencia': 'La Paz', 'monto': 61522.6, 'descripcion': 'Pago recibo de agua', 'saldo': 3105995.8, 'nota': 'eaque vel accusamus quam sit consequatur enim illo laborum iure cumque repellat'}\n",
      "\n",
      "{'fecha': '2019-04-24 07:27:04', 'agencia': 'Tarija', 'monto': 357643.79, 'descripcion': 'Retiro en efectivo', 'saldo': 8027374.93, 'nota': 'illum iusto ipsa autem repudiandae minima nam voluptates temporibus libero'}\n",
      "\n",
      "{'fecha': '1970-05-09 17:53:11', 'agencia': 'Beni', 'monto': 225384.23, 'descripcion': 'Apertura de caja de ahorros', 'saldo': 7513100.25, 'nota': 'assumenda reiciendis provident fugit'}\n",
      "\n",
      "{'fecha': '2009-04-04 07:54:43', 'agencia': 'Chuquisaca', 'monto': 93061.78, 'descripcion': 'Retiro en efectivo', 'saldo': 6005020.11, 'nota': 'quae pariatur ducimus modi quod reprehenderit'}\n",
      "\n",
      "{'fecha': '2017-09-30 18:13:34', 'agencia': 'La Paz', 'monto': 233475.13, 'descripcion': 'Debito Cta por compra', 'saldo': 9092358.56, 'nota': 'accusamus magni consequatur tempore doloribus ipsam laborum doloremque aperiam nulla'}\n",
      "\n",
      "{'fecha': '1974-09-07 16:17:07', 'agencia': 'Cochabamba', 'monto': 97664.97, 'descripcion': 'Compra en comercio', 'saldo': 5070023.64, 'nota': 'libero excepturi dicta ratione facere iusto cupiditate velit'}\n",
      "\n",
      "{'fecha': '1963-11-07 01:24:10', 'agencia': 'Cochabamba', 'monto': 345902.46, 'descripcion': 'Debito Cta por pago de Seguro', 'saldo': 3350447.81, 'nota': 'reprehenderit magnam perspiciatis delectus accusamus'}\n",
      "\n",
      "{'fecha': '1964-12-16 17:56:18', 'agencia': 'La Paz', 'monto': 69653.31, 'descripcion': 'Debito Cta por ACH', 'saldo': 5049360.46, 'nota': 'quae animi voluptatum magni vitae nulla illo minus'}\n",
      "\n",
      "{'fecha': '1977-11-22 05:39:45', 'agencia': 'Oruro', 'monto': 318781.7, 'descripcion': 'AB.CTA.P/MOVIL', 'saldo': 5141902.43, 'nota': 'sapiente unde magni sequi itaque'}\n",
      "\n",
      "====================================================================================================\n",
      " Consulta realizada en un tiempo de 5.0926 milisegundos\n",
      "====================================================================================================\n"
     ]
    }
   ],
   "source": [
    "query = {\n",
    "    \"match_all\" : {}\n",
    "}\n",
    "\n",
    "start_time = time.time()\n",
    "results = es.search(index=idx, query=query)\n",
    "end_time = time.time()\n",
    "\n",
    "print(\"=\"*100)\n",
    "\n",
    "for hit in results['hits']['hits']:\n",
    "    print(hit[\"_source\"])\n",
    "    print(\"\")\n",
    "\n",
    "print(\"=\"*100)\n",
    "print(f\" Consulta realizada en un tiempo de {round((end_time - start_time)*1000, 4)} milisegundos\")\n",
    "print(\"=\"*100)"
   ]
  },
  {
   "cell_type": "markdown",
   "metadata": {},
   "source": [
    "## Consulta 2: Fecha y agencia"
   ]
  },
  {
   "cell_type": "markdown",
   "metadata": {},
   "source": [
    "Se realizará una búsqueda sobre los campos fecha y agencia. Siendo los parámetros de entrada una fecha inicial, una fecha final y una agencia."
   ]
  },
  {
   "cell_type": "code",
   "execution_count": 65,
   "metadata": {},
   "outputs": [
    {
     "name": "stdout",
     "output_type": "stream",
     "text": [
      "====================================================================================================\n",
      "{'fecha': '2019-12-20 14:55:25', 'agencia': 'Cochabamba', 'monto': 71924.54, 'descripcion': 'Comisión de mantenimiento', 'saldo': 7171625.59, 'nota': 'magni aut nam provident'}\n",
      "\n",
      "{'fecha': '2019-12-16 00:04:32', 'agencia': 'Cochabamba', 'monto': 273700.97, 'descripcion': 'Pago recibo de gas', 'saldo': 4218202.71, 'nota': 'rerum molestias obcaecati dolorum eveniet repellendus hic praesentium odit autem alias temporibus'}\n",
      "\n",
      "{'fecha': '2019-07-04 09:30:37', 'agencia': 'Cochabamba', 'monto': 267080.69, 'descripcion': 'Ingreso en efectivo', 'saldo': 3530247.67, 'nota': 'nulla rerum explicabo unde qui iure ipsum consectetur saepe minus amet dicta recusandae'}\n",
      "\n",
      "{'fecha': '2019-11-15 13:33:54', 'agencia': 'Cochabamba', 'monto': 370397.39, 'descripcion': 'DEB.CTA.P/C.INTERNET', 'saldo': 7569939.65, 'nota': 'delectus a consequatur voluptatibus alias et'}\n",
      "\n",
      "{'fecha': '2019-02-12 07:37:22', 'agencia': 'Cochabamba', 'monto': 362102.95, 'descripcion': 'Pago en interés', 'saldo': 885465.53, 'nota': 'a sapiente magni inventore minima nam at quidem ipsa autem assumenda dolorem'}\n",
      "\n",
      "{'fecha': '2019-06-29 01:51:05', 'agencia': 'Cochabamba', 'monto': 356410.75, 'descripcion': 'Pago recibo de agua', 'saldo': 6387364.86, 'nota': 'facilis sunt eveniet accusamus atque ea nobis totam aut quos'}\n",
      "\n",
      "{'fecha': '2019-06-07 14:46:47', 'agencia': 'Cochabamba', 'monto': 289174.73, 'descripcion': 'Pago recibo de agua', 'saldo': 5217150.75, 'nota': 'eligendi eum nemo'}\n",
      "\n",
      "{'fecha': '2019-09-10 05:25:01', 'agencia': 'Cochabamba', 'monto': 60665.49, 'descripcion': 'Compra en comercio', 'saldo': 871626.19, 'nota': 'sed vitae'}\n",
      "\n",
      "{'fecha': '2019-05-03 21:50:08', 'agencia': 'Cochabamba', 'monto': 30324.57, 'descripcion': 'Retiro en efectivo', 'saldo': 8307415.12, 'nota': 'soluta'}\n",
      "\n",
      "{'fecha': '2019-04-05 15:40:21', 'agencia': 'Cochabamba', 'monto': 271663.87, 'descripcion': 'Intereses', 'saldo': 4979904.71, 'nota': 'ab voluptatum corrupti perspiciatis quae sed repellat est officia exercitationem animi'}\n",
      "\n",
      "====================================================================================================\n",
      " Consulta realizada en un tiempo de 1352.051 milisegundos\n",
      "====================================================================================================\n"
     ]
    }
   ],
   "source": [
    "start_date = \"2019-01-31\" \n",
    "end_date = \"2019-12-31\"\n",
    "agencia = \"Cochabamba\"\n",
    "\n",
    "start_time = time.time()\n",
    "results = busqueda_fecha_agencia(start_date, end_date, agencia)\n",
    "end_time = time.time()\n",
    "\n",
    "print(\"=\"*100)\n",
    "\n",
    "for hit in results['hits']['hits']:\n",
    "    print(hit[\"_source\"])\n",
    "    print(\"\")\n",
    "\n",
    "print(\"=\"*100)\n",
    "print(f\" Consulta realizada en un tiempo de {round((end_time - start_time)*1000, 4)} milisegundos\")\n",
    "print(\"=\"*100)"
   ]
  },
  {
   "cell_type": "markdown",
   "metadata": {},
   "source": [
    "## Consulta 3: Rango de saldo, dos opciones de agencias y descripción"
   ]
  },
  {
   "cell_type": "markdown",
   "metadata": {},
   "source": [
    "Se realizará una búsqueda sobre los campos saldo, agencia (OR 2 opciones) y descripción. Los parámetros de entrada son un rango de saldos, dos opciones de agencias, y una descripción."
   ]
  },
  {
   "cell_type": "code",
   "execution_count": 66,
   "metadata": {},
   "outputs": [
    {
     "name": "stdout",
     "output_type": "stream",
     "text": [
      "====================================================================================================\n",
      "{'fecha': '1971-09-05 03:22:25', 'agencia': 'La Paz', 'monto': 387034.16, 'descripcion': 'Retiro en efectivo', 'saldo': 3873302.17, 'nota': 'hic maiores sed ullam odio molestias nulla a'}\n",
      "\n",
      "{'fecha': '2007-09-19 07:26:56', 'agencia': 'La Paz', 'monto': 305979.29, 'descripcion': 'Retiro en efectivo', 'saldo': 8334222.29, 'nota': 'iusto mollitia necessitatibus reprehenderit eaque corrupti libero consequuntur nemo excepturi ex facilis aspernatur'}\n",
      "\n",
      "{'fecha': '1983-11-18 12:28:01', 'agencia': 'La Paz', 'monto': 287408.17, 'descripcion': 'Retiro en efectivo', 'saldo': 2481328.47, 'nota': 'incidunt veniam delectus hic reprehenderit ex quidem quaerat eligendi'}\n",
      "\n",
      "{'fecha': '1977-04-02 05:06:15', 'agencia': 'La Paz', 'monto': 261529.35, 'descripcion': 'Retiro en efectivo', 'saldo': 8216476.33, 'nota': 'perspiciatis deleniti totam fugiat numquam iusto delectus adipisci rem dicta culpa pariatur'}\n",
      "\n",
      "{'fecha': '1981-12-31 05:23:17', 'agencia': 'La Paz', 'monto': 256193.53, 'descripcion': 'Retiro en efectivo', 'saldo': 1631547.99, 'nota': 'enim unde quas esse'}\n",
      "\n",
      "{'fecha': '1950-09-10 01:01:32', 'agencia': 'La Paz', 'monto': 364078.38, 'descripcion': 'Retiro en efectivo', 'saldo': 6036705.51, 'nota': 'earum assumenda sit veritatis dolores molestiae deserunt qui optio tenetur placeat iure'}\n",
      "\n",
      "{'fecha': '2000-08-15 18:56:38', 'agencia': 'La Paz', 'monto': 299981.02, 'descripcion': 'Retiro en efectivo', 'saldo': 4785593.87, 'nota': 'facere rerum quisquam quas dolores'}\n",
      "\n",
      "{'fecha': '1957-04-29 23:01:59', 'agencia': 'La Paz', 'monto': 179877.78, 'descripcion': 'Retiro en efectivo', 'saldo': 9320786.52, 'nota': 'dolorum sed natus eaque deserunt esse totam iusto'}\n",
      "\n",
      "{'fecha': '2010-08-27 13:40:08', 'agencia': 'La Paz', 'monto': 199930.08, 'descripcion': 'Retiro en efectivo', 'saldo': 6387698.38, 'nota': 'totam necessitatibus deleniti laboriosam error nulla qui fuga dignissimos asperiores'}\n",
      "\n",
      "{'fecha': '1985-02-07 06:21:21', 'agencia': 'La Paz', 'monto': 341769.39, 'descripcion': 'Retiro en efectivo', 'saldo': 8525830.21, 'nota': 'error saepe quod culpa iste vel cumque aut'}\n",
      "\n",
      "====================================================================================================\n",
      " Consulta realizada en un tiempo de 2580.6298 milisegundos\n",
      "====================================================================================================\n"
     ]
    }
   ],
   "source": [
    "saldo_min = 162342\n",
    "saldo_max = 382304513\n",
    "agencia1 = \"La Paz\"\n",
    "agencia2 = \"Santa Cruz\"\n",
    "descripcion = \"Retiro en efectivo\"\n",
    "\n",
    "start_time = time.time()\n",
    "results = busqueda_saldo_agencias_descripcion(saldo_min, saldo_max, agencia1, agencia2, descripcion)\n",
    "end_time = time.time()\n",
    "\n",
    "print(\"=\"*100)\n",
    "\n",
    "for hit in results['hits']['hits']:\n",
    "    print(hit[\"_source\"])\n",
    "    print(\"\")\n",
    "\n",
    "print(\"=\"*100)\n",
    "print(f\" Consulta realizada en un tiempo de {round((end_time - start_time)*1000, 4)} milisegundos\")\n",
    "print(\"=\"*100)"
   ]
  },
  {
   "cell_type": "markdown",
   "metadata": {},
   "source": [
    "## Agregación 1: Suma de saldos de una agencia"
   ]
  },
  {
   "cell_type": "markdown",
   "metadata": {},
   "source": [
    "Se calculará la suma de los saldos de los datos agrupados de una agencia en específico."
   ]
  },
  {
   "cell_type": "code",
   "execution_count": 67,
   "metadata": {},
   "outputs": [
    {
     "name": "stdout",
     "output_type": "stream",
     "text": [
      "====================================================================================================\n",
      "{'total': {'value': 10000, 'relation': 'gte'}, 'max_score': 2.0802577, 'hits': [{'_index': 'extracto_cuenta_10m', '_id': 'og3JXoQBoKrfaqsD8LFO', '_score': 2.0802577, '_source': {'fecha': '1970-05-09 17:53:11', 'agencia': 'Beni', 'monto': 225384.23, 'descripcion': 'Apertura de caja de ahorros', 'saldo': 7513100.25, 'nota': 'assumenda reiciendis provident fugit'}}, {'_index': 'extracto_cuenta_10m', '_id': 'rw3JXoQBoKrfaqsD8LFO', '_score': 2.0802577, '_source': {'fecha': '1982-06-16 20:04:50', 'agencia': 'Beni', 'monto': 230684.84, 'descripcion': 'Cobro seguro', 'saldo': 8272273.59, 'nota': 'at eligendi ullam enim'}}, {'_index': 'extracto_cuenta_10m', '_id': 'zA3JXoQBoKrfaqsD8LFO', '_score': 2.0802577, '_source': {'fecha': '1988-11-10 14:42:03', 'agencia': 'Beni', 'monto': 219408.7, 'descripcion': 'Deposito a cuenta', 'saldo': 4807462.76, 'nota': 'cupiditate eligendi inventore dolorum ullam id laboriosam'}}, {'_index': 'extracto_cuenta_10m', '_id': '0g3JXoQBoKrfaqsD8LFO', '_score': 2.0802577, '_source': {'fecha': '2005-10-12 21:50:33', 'agencia': 'Beni', 'monto': 179186.73, 'descripcion': 'Deposito a cuenta', 'saldo': 2618538.65, 'nota': 'dolore earum debitis fugiat blanditiis laboriosam adipisci explicabo magnam doloremque'}}, {'_index': 'extracto_cuenta_10m', '_id': '7Q3JXoQBoKrfaqsD8LFO', '_score': 2.0802577, '_source': {'fecha': '1979-12-28 10:14:03', 'agencia': 'Beni', 'monto': 151750.34, 'descripcion': 'Transferencia de fondos de ahorros', 'saldo': 4760966.15, 'nota': 'enim asperiores saepe commodi quam distinctio quaerat soluta assumenda magnam ullam provident voluptas'}}, {'_index': 'extracto_cuenta_10m', '_id': '9A3JXoQBoKrfaqsD8LFO', '_score': 2.0802577, '_source': {'fecha': '1998-09-21 23:14:46', 'agencia': 'Beni', 'monto': 212190.63, 'descripcion': 'Debito Cta por compra', 'saldo': 3201151.2, 'nota': 'accusantium'}}, {'_index': 'extracto_cuenta_10m', '_id': '_A3JXoQBoKrfaqsD8LFO', '_score': 2.0802577, '_source': {'fecha': '1950-09-29 21:16:39', 'agencia': 'Beni', 'monto': 218636.96, 'descripcion': 'AB.CTA.P/MOVIL', 'saldo': 7779982.13, 'nota': 'amet impedit nam nostrum architecto numquam cum dicta consequuntur'}}, {'_index': 'extracto_cuenta_10m', '_id': 'Ag3JXoQBoKrfaqsD8LJO', '_score': 2.0802577, '_source': {'fecha': '2007-04-17 09:13:28', 'agencia': 'Beni', 'monto': 324981.14, 'descripcion': 'Reintegro cajero automático', 'saldo': 6265615.75, 'nota': 'quasi eveniet magni'}}, {'_index': 'extracto_cuenta_10m', '_id': 'BA3JXoQBoKrfaqsD8LJO', '_score': 2.0802577, '_source': {'fecha': '1980-09-27 22:09:35', 'agencia': 'Beni', 'monto': 229892.59, 'descripcion': 'Apertura de caja de ahorros', 'saldo': 7747211.12, 'nota': 'quibusdam'}}, {'_index': 'extracto_cuenta_10m', '_id': 'GA3JXoQBoKrfaqsD8LJO', '_score': 2.0802577, '_source': {'fecha': '1964-06-11 04:30:28', 'agencia': 'Beni', 'monto': 377631.4, 'descripcion': 'DEB.CTA.P/C.INTERNET', 'saldo': 3617727.47, 'nota': 'eligendi maiores quod voluptatum reprehenderit accusamus hic asperiores in'}}]}\n",
      "====================================================================================================\n",
      "{'suma Beni': {'value': 6250461618165.64}}\n",
      "====================================================================================================\n",
      " Consulta realizada en un tiempo de 0:00:02.339416\n",
      "====================================================================================================\n"
     ]
    }
   ],
   "source": [
    "agencia = \"Beni\"\n",
    "\n",
    "start_time = time.time()\n",
    "results = suma_saldo_agencia(agencia)\n",
    "end_time = time.time()\n",
    "\n",
    "\n",
    "print(\"=\"*100)\n",
    "print(results['hits'])\n",
    "print(\"=\"*100)\n",
    "print(results['aggregations'])\n",
    "print(\"=\"*100)\n",
    "print(f\" Consulta realizada en un tiempo de {str(timedelta(seconds = (end_time - start_time)))}\")\n",
    "print(\"=\"*100)"
   ]
  },
  {
   "cell_type": "markdown",
   "metadata": {},
   "source": [
    "## Agregación 2: Promedio de montos por agencia"
   ]
  },
  {
   "cell_type": "code",
   "execution_count": 68,
   "metadata": {},
   "outputs": [
    {
     "name": "stdout",
     "output_type": "stream",
     "text": [
      "====================================================================================================\n",
      "{'total': {'value': 10000, 'relation': 'gte'}, 'max_score': 1.0, 'hits': [{'_index': 'extracto_cuenta_10m', '_id': 'nw3JXoQBoKrfaqsD8LFO', '_score': 1.0, '_source': {'fecha': '1999-06-18 17:01:14', 'agencia': 'La Paz', 'monto': 298916.5, 'descripcion': 'Pago de cheque compensado', 'saldo': 4401608.54, 'nota': 'aperiam reprehenderit delectus accusantium quam in ratione deleniti perspiciatis'}}, {'_index': 'extracto_cuenta_10m', '_id': 'oA3JXoQBoKrfaqsD8LFO', '_score': 1.0, '_source': {'fecha': '1988-06-28 16:09:15', 'agencia': 'La Paz', 'monto': 61522.6, 'descripcion': 'Pago recibo de agua', 'saldo': 3105995.8, 'nota': 'eaque vel accusamus quam sit consequatur enim illo laborum iure cumque repellat'}}, {'_index': 'extracto_cuenta_10m', '_id': 'oQ3JXoQBoKrfaqsD8LFO', '_score': 1.0, '_source': {'fecha': '2019-04-24 07:27:04', 'agencia': 'Tarija', 'monto': 357643.79, 'descripcion': 'Retiro en efectivo', 'saldo': 8027374.93, 'nota': 'illum iusto ipsa autem repudiandae minima nam voluptates temporibus libero'}}, {'_index': 'extracto_cuenta_10m', '_id': 'og3JXoQBoKrfaqsD8LFO', '_score': 1.0, '_source': {'fecha': '1970-05-09 17:53:11', 'agencia': 'Beni', 'monto': 225384.23, 'descripcion': 'Apertura de caja de ahorros', 'saldo': 7513100.25, 'nota': 'assumenda reiciendis provident fugit'}}, {'_index': 'extracto_cuenta_10m', '_id': 'ow3JXoQBoKrfaqsD8LFO', '_score': 1.0, '_source': {'fecha': '2009-04-04 07:54:43', 'agencia': 'Chuquisaca', 'monto': 93061.78, 'descripcion': 'Retiro en efectivo', 'saldo': 6005020.11, 'nota': 'quae pariatur ducimus modi quod reprehenderit'}}, {'_index': 'extracto_cuenta_10m', '_id': 'pA3JXoQBoKrfaqsD8LFO', '_score': 1.0, '_source': {'fecha': '2017-09-30 18:13:34', 'agencia': 'La Paz', 'monto': 233475.13, 'descripcion': 'Debito Cta por compra', 'saldo': 9092358.56, 'nota': 'accusamus magni consequatur tempore doloribus ipsam laborum doloremque aperiam nulla'}}, {'_index': 'extracto_cuenta_10m', '_id': 'pQ3JXoQBoKrfaqsD8LFO', '_score': 1.0, '_source': {'fecha': '1974-09-07 16:17:07', 'agencia': 'Cochabamba', 'monto': 97664.97, 'descripcion': 'Compra en comercio', 'saldo': 5070023.64, 'nota': 'libero excepturi dicta ratione facere iusto cupiditate velit'}}, {'_index': 'extracto_cuenta_10m', '_id': 'pg3JXoQBoKrfaqsD8LFO', '_score': 1.0, '_source': {'fecha': '1963-11-07 01:24:10', 'agencia': 'Cochabamba', 'monto': 345902.46, 'descripcion': 'Debito Cta por pago de Seguro', 'saldo': 3350447.81, 'nota': 'reprehenderit magnam perspiciatis delectus accusamus'}}, {'_index': 'extracto_cuenta_10m', '_id': 'pw3JXoQBoKrfaqsD8LFO', '_score': 1.0, '_source': {'fecha': '1964-12-16 17:56:18', 'agencia': 'La Paz', 'monto': 69653.31, 'descripcion': 'Debito Cta por ACH', 'saldo': 5049360.46, 'nota': 'quae animi voluptatum magni vitae nulla illo minus'}}, {'_index': 'extracto_cuenta_10m', '_id': 'qA3JXoQBoKrfaqsD8LFO', '_score': 1.0, '_source': {'fecha': '1977-11-22 05:39:45', 'agencia': 'Oruro', 'monto': 318781.7, 'descripcion': 'AB.CTA.P/MOVIL', 'saldo': 5141902.43, 'nota': 'sapiente unde magni sequi itaque'}}]}\n",
      "====================================================================================================\n",
      "{'promedio': {'doc_count_error_upper_bound': 0, 'sum_other_doc_count': 0, 'buckets': [{'key': 'Tarija', 'doc_count': 1250888, 'promedio': {'value': 199891.7860178972}}, {'key': 'Santa Cruz', 'doc_count': 1250551, 'promedio': {'value': 200063.66878656106}}, {'key': 'Pando', 'doc_count': 1250197, 'promedio': {'value': 199851.94743137332}}, {'key': 'Oruro', 'doc_count': 1250021, 'promedio': {'value': 199828.1475366615}}, {'key': 'La Paz', 'doc_count': 1250003, 'promedio': {'value': 199711.1684258668}}, {'key': 'Cochabamba', 'doc_count': 1249736, 'promedio': {'value': 200044.5680553294}}, {'key': 'Chuquisaca', 'doc_count': 1249624, 'promedio': {'value': 200149.11637975104}}, {'key': 'Beni', 'doc_count': 1248980, 'promedio': {'value': 199944.65917725654}}]}}\n",
      "====================================================================================================\n",
      " Consulta realizada en un tiempo de 0:00:02.873548\n",
      "====================================================================================================\n"
     ]
    }
   ],
   "source": [
    "start_time = time.time()\n",
    "results = promedio_montos_agencia()\n",
    "end_time = time.time()\n",
    "\n",
    "\n",
    "print(\"=\"*100)\n",
    "print(results['hits'])\n",
    "print(\"=\"*100)\n",
    "print(results['aggregations'])\n",
    "print(\"=\"*100)\n",
    "print(f\" Consulta realizada en un tiempo de {str(timedelta(seconds = (end_time - start_time)))}\")\n",
    "print(\"=\"*100)"
   ]
  },
  {
   "cell_type": "markdown",
   "metadata": {},
   "source": [
    "# Consultas a la base de datos con 30 millones de registros y todos los campos indexados"
   ]
  },
  {
   "cell_type": "markdown",
   "metadata": {},
   "source": [
    "En esta sección se revisará la operación de búsqueda para la colección de 30 millones de documentos indexados."
   ]
  },
  {
   "cell_type": "code",
   "execution_count": 69,
   "metadata": {},
   "outputs": [],
   "source": [
    "idx = \"extracto_cuenta_30m\""
   ]
  },
  {
   "cell_type": "markdown",
   "metadata": {},
   "source": [
    "## Consulta 1: Todos los datos"
   ]
  },
  {
   "cell_type": "markdown",
   "metadata": {},
   "source": [
    "Se realizará una búsqueda sobre todos los campos en la colección"
   ]
  },
  {
   "cell_type": "code",
   "execution_count": 70,
   "metadata": {},
   "outputs": [
    {
     "name": "stdout",
     "output_type": "stream",
     "text": [
      "====================================================================================================\n",
      "{'fecha': '1985-01-08 00:43:31', 'agencia': 'Chuquisaca', 'monto': 224529.15, 'descripcion': 'Ingreso en efectivo', 'saldo': 3536179.16, 'nota': 'distinctio iste'}\n",
      "\n",
      "{'fecha': '1972-10-10 07:50:07', 'agencia': 'Oruro', 'monto': 314217.46, 'descripcion': 'Pago de nómina', 'saldo': 7217329.69, 'nota': 'quidem'}\n",
      "\n",
      "{'fecha': '1955-06-10 17:59:28', 'agencia': 'Beni', 'monto': 182999.8, 'descripcion': 'Retención IVA', 'saldo': 365443.46, 'nota': 'quod voluptate quidem eius corporis blanditiis eveniet voluptatibus mollitia aut'}\n",
      "\n",
      "{'fecha': '1957-02-14 06:52:33', 'agencia': 'Santa Cruz', 'monto': 115836.12, 'descripcion': 'AB.CTA.P/MOVIL', 'saldo': 4240546.69, 'nota': 'nobis quaerat similique quisquam repellat unde possimus perferendis a ipsam cumque'}\n",
      "\n",
      "{'fecha': '1971-02-07 19:52:50', 'agencia': 'Pando', 'monto': 321466.39, 'descripcion': 'Transferencia de fondos de ahorros', 'saldo': 3432321.95, 'nota': 'quibusdam mollitia deserunt'}\n",
      "\n",
      "{'fecha': '1953-07-01 01:36:53', 'agencia': 'Chuquisaca', 'monto': 349557.7, 'descripcion': 'DEB.CTA.P/C.INTERNET', 'saldo': 4959837.07, 'nota': 'eum eveniet facere perspiciatis'}\n",
      "\n",
      "{'fecha': '1996-04-03 23:48:28', 'agencia': 'La Paz', 'monto': 104769.71, 'descripcion': 'Debito Cta por ACH', 'saldo': 9392439.79, 'nota': 'hic voluptate repellendus odit provident corporis adipisci'}\n",
      "\n",
      "{'fecha': '1992-05-16 08:30:38', 'agencia': 'La Paz', 'monto': 129903.6, 'descripcion': 'Pago de servicio telefónico', 'saldo': 1426858.73, 'nota': 'quisquam minus repellat corrupti dolores quasi'}\n",
      "\n",
      "{'fecha': '1991-04-05 09:34:58', 'agencia': 'Beni', 'monto': 111452.95, 'descripcion': 'Reintegro cajero automático', 'saldo': 530080.54, 'nota': 'repellat nihil ducimus iure voluptatibus mollitia non consequuntur quaerat ullam harum quas sint'}\n",
      "\n",
      "{'fecha': '2005-04-27 03:36:56', 'agencia': 'Beni', 'monto': 324726.77, 'descripcion': 'Pago en línea - Servicio de internet', 'saldo': 6662995.19, 'nota': 'nisi voluptatibus'}\n",
      "\n",
      "====================================================================================================\n",
      " Consulta realizada en un tiempo de 110.4486 milisegundos\n",
      "====================================================================================================\n"
     ]
    }
   ],
   "source": [
    "query = {\n",
    "    \"match_all\" : {}\n",
    "}\n",
    "\n",
    "start_time = time.time()\n",
    "results = es.search(index=idx, query=query)\n",
    "end_time = time.time()\n",
    "\n",
    "print(\"=\"*100)\n",
    "\n",
    "for hit in results['hits']['hits']:\n",
    "    print(hit[\"_source\"])\n",
    "    print(\"\")\n",
    "\n",
    "print(\"=\"*100)\n",
    "print(f\" Consulta realizada en un tiempo de {round((end_time - start_time)*1000, 4)} milisegundos\")\n",
    "print(\"=\"*100)"
   ]
  },
  {
   "cell_type": "markdown",
   "metadata": {},
   "source": [
    "## Consulta 2: Fecha y agencia"
   ]
  },
  {
   "cell_type": "markdown",
   "metadata": {},
   "source": [
    "Se realizará una búsqueda sobre los campos fecha y agencia. Siendo los parámetros de entrada una fecha inicial, una fecha final y una agencia."
   ]
  },
  {
   "cell_type": "code",
   "execution_count": 71,
   "metadata": {},
   "outputs": [
    {
     "name": "stdout",
     "output_type": "stream",
     "text": [
      "====================================================================================================\n",
      "{'fecha': '2019-12-20 14:55:25', 'agencia': 'Cochabamba', 'monto': 71924.54, 'descripcion': 'Comisión de mantenimiento', 'saldo': 7171625.59, 'nota': 'magni aut nam provident'}\n",
      "\n",
      "{'fecha': '2019-12-16 00:04:32', 'agencia': 'Cochabamba', 'monto': 273700.97, 'descripcion': 'Pago recibo de gas', 'saldo': 4218202.71, 'nota': 'rerum molestias obcaecati dolorum eveniet repellendus hic praesentium odit autem alias temporibus'}\n",
      "\n",
      "{'fecha': '2019-07-04 09:30:37', 'agencia': 'Cochabamba', 'monto': 267080.69, 'descripcion': 'Ingreso en efectivo', 'saldo': 3530247.67, 'nota': 'nulla rerum explicabo unde qui iure ipsum consectetur saepe minus amet dicta recusandae'}\n",
      "\n",
      "{'fecha': '2019-11-15 13:33:54', 'agencia': 'Cochabamba', 'monto': 370397.39, 'descripcion': 'DEB.CTA.P/C.INTERNET', 'saldo': 7569939.65, 'nota': 'delectus a consequatur voluptatibus alias et'}\n",
      "\n",
      "{'fecha': '2019-02-12 07:37:22', 'agencia': 'Cochabamba', 'monto': 362102.95, 'descripcion': 'Pago en interés', 'saldo': 885465.53, 'nota': 'a sapiente magni inventore minima nam at quidem ipsa autem assumenda dolorem'}\n",
      "\n",
      "{'fecha': '2019-06-29 01:51:05', 'agencia': 'Cochabamba', 'monto': 356410.75, 'descripcion': 'Pago recibo de agua', 'saldo': 6387364.86, 'nota': 'facilis sunt eveniet accusamus atque ea nobis totam aut quos'}\n",
      "\n",
      "{'fecha': '2019-06-07 14:46:47', 'agencia': 'Cochabamba', 'monto': 289174.73, 'descripcion': 'Pago recibo de agua', 'saldo': 5217150.75, 'nota': 'eligendi eum nemo'}\n",
      "\n",
      "{'fecha': '2019-09-10 05:25:01', 'agencia': 'Cochabamba', 'monto': 60665.49, 'descripcion': 'Compra en comercio', 'saldo': 871626.19, 'nota': 'sed vitae'}\n",
      "\n",
      "{'fecha': '2019-04-07 00:45:18', 'agencia': 'Cochabamba', 'monto': 195416.15, 'descripcion': 'Debito Cta por compra', 'saldo': 2611543.68, 'nota': 'molestias illo officia architecto'}\n",
      "\n",
      "{'fecha': '2019-11-24 23:58:46', 'agencia': 'Cochabamba', 'monto': 92881.47, 'descripcion': 'Capitalización de intereses premio', 'saldo': 814868.82, 'nota': 'officiis facilis esse et iste itaque aliquid repellendus'}\n",
      "\n",
      "====================================================================================================\n",
      " Consulta realizada en un tiempo de 2976.2371 milisegundos\n",
      "====================================================================================================\n"
     ]
    }
   ],
   "source": [
    "start_date = \"2019-01-31\" \n",
    "end_date = \"2019-12-31\"\n",
    "agencia = \"Cochabamba\"\n",
    "\n",
    "start_time = time.time()\n",
    "results = busqueda_fecha_agencia(start_date, end_date, agencia)\n",
    "end_time = time.time()\n",
    "\n",
    "print(\"=\"*100)\n",
    "\n",
    "for hit in results['hits']['hits']:\n",
    "    print(hit[\"_source\"])\n",
    "    print(\"\")\n",
    "\n",
    "print(\"=\"*100)\n",
    "print(f\" Consulta realizada en un tiempo de {round((end_time - start_time)*1000, 4)} milisegundos\")\n",
    "print(\"=\"*100)"
   ]
  },
  {
   "cell_type": "markdown",
   "metadata": {},
   "source": [
    "## Consulta 3: Rango de saldo, dos opciones de agencias y descripción"
   ]
  },
  {
   "cell_type": "markdown",
   "metadata": {},
   "source": [
    "Se realizará una búsqueda sobre los campos saldo, agencia (OR 2 opciones) y descripción. Los parámetros de entrada son un rango de saldos, dos opciones de agencias, y una descripción."
   ]
  },
  {
   "cell_type": "code",
   "execution_count": 72,
   "metadata": {},
   "outputs": [
    {
     "name": "stdout",
     "output_type": "stream",
     "text": [
      "====================================================================================================\n",
      "{'fecha': '1977-04-02 05:06:15', 'agencia': 'La Paz', 'monto': 261529.35, 'descripcion': 'Retiro en efectivo', 'saldo': 8216476.33, 'nota': 'perspiciatis deleniti totam fugiat numquam iusto delectus adipisci rem dicta culpa pariatur'}\n",
      "\n",
      "{'fecha': '1981-12-31 05:23:17', 'agencia': 'La Paz', 'monto': 256193.53, 'descripcion': 'Retiro en efectivo', 'saldo': 1631547.99, 'nota': 'enim unde quas esse'}\n",
      "\n",
      "{'fecha': '1950-09-10 01:01:32', 'agencia': 'La Paz', 'monto': 364078.38, 'descripcion': 'Retiro en efectivo', 'saldo': 6036705.51, 'nota': 'earum assumenda sit veritatis dolores molestiae deserunt qui optio tenetur placeat iure'}\n",
      "\n",
      "{'fecha': '2000-08-15 18:56:38', 'agencia': 'La Paz', 'monto': 299981.02, 'descripcion': 'Retiro en efectivo', 'saldo': 4785593.87, 'nota': 'facere rerum quisquam quas dolores'}\n",
      "\n",
      "{'fecha': '1957-04-29 23:01:59', 'agencia': 'La Paz', 'monto': 179877.78, 'descripcion': 'Retiro en efectivo', 'saldo': 9320786.52, 'nota': 'dolorum sed natus eaque deserunt esse totam iusto'}\n",
      "\n",
      "{'fecha': '2010-08-27 13:40:08', 'agencia': 'La Paz', 'monto': 199930.08, 'descripcion': 'Retiro en efectivo', 'saldo': 6387698.38, 'nota': 'totam necessitatibus deleniti laboriosam error nulla qui fuga dignissimos asperiores'}\n",
      "\n",
      "{'fecha': '1985-02-07 06:21:21', 'agencia': 'La Paz', 'monto': 341769.39, 'descripcion': 'Retiro en efectivo', 'saldo': 8525830.21, 'nota': 'error saepe quod culpa iste vel cumque aut'}\n",
      "\n",
      "{'fecha': '2010-01-12 03:27:45', 'agencia': 'La Paz', 'monto': 262280.62, 'descripcion': 'Retiro en efectivo', 'saldo': 4330953.06, 'nota': 'vitae dolor vel nam adipisci voluptate eligendi vero odio'}\n",
      "\n",
      "{'fecha': '2002-02-22 00:51:11', 'agencia': 'La Paz', 'monto': 233204.11, 'descripcion': 'Retiro en efectivo', 'saldo': 6279103.17, 'nota': 'atque magni velit perspiciatis aliquam quam ipsa sapiente'}\n",
      "\n",
      "{'fecha': '1959-09-21 07:35:02', 'agencia': 'La Paz', 'monto': 319081.57, 'descripcion': 'Retiro en efectivo', 'saldo': 9694800.25, 'nota': 'sapiente aspernatur aliquam vel magni'}\n",
      "\n",
      "====================================================================================================\n",
      " Consulta realizada en un tiempo de 6357.8923 milisegundos\n",
      "====================================================================================================\n"
     ]
    }
   ],
   "source": [
    "saldo_min = 162342\n",
    "saldo_max = 382304513\n",
    "agencia1 = \"La Paz\"\n",
    "agencia2 = \"Santa Cruz\"\n",
    "descripcion = \"Retiro en efectivo\"\n",
    "\n",
    "start_time = time.time()\n",
    "results = busqueda_saldo_agencias_descripcion(saldo_min, saldo_max, agencia1, agencia2, descripcion)\n",
    "end_time = time.time()\n",
    "\n",
    "print(\"=\"*100)\n",
    "\n",
    "for hit in results['hits']['hits']:\n",
    "    print(hit[\"_source\"])\n",
    "    print(\"\")\n",
    "\n",
    "print(\"=\"*100)\n",
    "print(f\" Consulta realizada en un tiempo de {round((end_time - start_time)*1000, 4)} milisegundos\")\n",
    "print(\"=\"*100)"
   ]
  },
  {
   "cell_type": "markdown",
   "metadata": {},
   "source": [
    "## Agregación 1: Suma de saldos de una agencia"
   ]
  },
  {
   "cell_type": "markdown",
   "metadata": {},
   "source": [
    "Se calculará la suma de los saldos de los datos agrupados de una agencia en específico."
   ]
  },
  {
   "cell_type": "code",
   "execution_count": 73,
   "metadata": {},
   "outputs": [
    {
     "name": "stdout",
     "output_type": "stream",
     "text": [
      "====================================================================================================\n",
      "{'total': {'value': 10000, 'relation': 'gte'}, 'max_score': 2.0806541, 'hits': [{'_index': 'extracto_cuenta_30m', '_id': 'yprYY4QBGbS6fiSm7uVJ', '_score': 2.0806541, '_source': {'fecha': '1955-06-10 17:59:28', 'agencia': 'Beni', 'monto': 182999.8, 'descripcion': 'Retención IVA', 'saldo': 365443.46, 'nota': 'quod voluptate quidem eius corporis blanditiis eveniet voluptatibus mollitia aut'}}, {'_index': 'extracto_cuenta_30m', '_id': '0JrYY4QBGbS6fiSm7uVJ', '_score': 2.0806541, '_source': {'fecha': '1991-04-05 09:34:58', 'agencia': 'Beni', 'monto': 111452.95, 'descripcion': 'Reintegro cajero automático', 'saldo': 530080.54, 'nota': 'repellat nihil ducimus iure voluptatibus mollitia non consequuntur quaerat ullam harum quas sint'}}, {'_index': 'extracto_cuenta_30m', '_id': '0ZrYY4QBGbS6fiSm7uVJ', '_score': 2.0806541, '_source': {'fecha': '2005-04-27 03:36:56', 'agencia': 'Beni', 'monto': 324726.77, 'descripcion': 'Pago en línea - Servicio de internet', 'saldo': 6662995.19, 'nota': 'nisi voluptatibus'}}, {'_index': 'extracto_cuenta_30m', '_id': '45rYY4QBGbS6fiSm7uVJ', '_score': 2.0806541, '_source': {'fecha': '1993-10-19 14:38:39', 'agencia': 'Beni', 'monto': 149901.75, 'descripcion': 'Pago recibo de agua', 'saldo': 1449391.21, 'nota': 'tempora explicabo'}}, {'_index': 'extracto_cuenta_30m', '_id': '6JrYY4QBGbS6fiSm7uVJ', '_score': 2.0806541, '_source': {'fecha': '1977-12-18 21:11:29', 'agencia': 'Beni', 'monto': 169510.92, 'descripcion': 'Pago en línea - Servicio de internet', 'saldo': 6522487.58, 'nota': 'rerum quisquam nihil ut mollitia eius corporis ex ipsum voluptatum delectus sunt esse'}}, {'_index': 'extracto_cuenta_30m', '_id': 'BprYY4QBGbS6fiSm7uZJ', '_score': 2.0806541, '_source': {'fecha': '2016-01-21 03:36:05', 'agencia': 'Beni', 'monto': 50372.69, 'descripcion': 'Aporte inversor', 'saldo': 8485668.81, 'nota': 'amet culpa dicta'}}, {'_index': 'extracto_cuenta_30m', '_id': 'CJrYY4QBGbS6fiSm7uZJ', '_score': 2.0806541, '_source': {'fecha': '1956-04-01 15:25:54', 'agencia': 'Beni', 'monto': 166753.56, 'descripcion': 'Compra en comercio', 'saldo': 3017076.64, 'nota': 'nihil et'}}, {'_index': 'extracto_cuenta_30m', '_id': 'GZrYY4QBGbS6fiSm7uZJ', '_score': 2.0806541, '_source': {'fecha': '1992-02-28 16:13:03', 'agencia': 'Beni', 'monto': 41808.33, 'descripcion': 'Transferencia interbancaria SIMPLE', 'saldo': 3575686.19, 'nota': 'odit animi'}}, {'_index': 'extracto_cuenta_30m', '_id': 'G5rYY4QBGbS6fiSm7uZJ', '_score': 2.0806541, '_source': {'fecha': '1964-07-06 15:31:35', 'agencia': 'Beni', 'monto': 153919, 'descripcion': 'Pago recibo de luz', 'saldo': 7677759.84, 'nota': 'dolorum nostrum accusamus sunt magnam iste repellendus repudiandae rerum enim aperiam'}}, {'_index': 'extracto_cuenta_30m', '_id': 'HZrYY4QBGbS6fiSm7uZJ', '_score': 2.0806541, '_source': {'fecha': '1989-03-07 03:54:52', 'agencia': 'Beni', 'monto': 346245.62, 'descripcion': 'Aporte inversor', 'saldo': 4003457.94, 'nota': 'quis facere'}}]}\n",
      "====================================================================================================\n",
      "{'suma Beni': {'value': 18730670956749.598}}\n",
      "====================================================================================================\n",
      " Consulta realizada en un tiempo de 0:00:04.871748\n",
      "====================================================================================================\n"
     ]
    }
   ],
   "source": [
    "agencia = \"Beni\"\n",
    "\n",
    "start_time = time.time()\n",
    "results = suma_saldo_agencia(agencia)\n",
    "end_time = time.time()\n",
    "\n",
    "\n",
    "print(\"=\"*100)\n",
    "print(results['hits'])\n",
    "print(\"=\"*100)\n",
    "print(results['aggregations'])\n",
    "print(\"=\"*100)\n",
    "print(f\" Consulta realizada en un tiempo de {str(timedelta(seconds = (end_time - start_time)))}\")\n",
    "print(\"=\"*100)"
   ]
  },
  {
   "cell_type": "markdown",
   "metadata": {},
   "source": [
    "## Agregación 2: Promedio de montos por agencia"
   ]
  },
  {
   "cell_type": "code",
   "execution_count": 74,
   "metadata": {},
   "outputs": [
    {
     "name": "stdout",
     "output_type": "stream",
     "text": [
      "====================================================================================================\n",
      "{'total': {'value': 10000, 'relation': 'gte'}, 'max_score': 1.0, 'hits': [{'_index': 'extracto_cuenta_30m', '_id': 'yJrYY4QBGbS6fiSm7uVJ', '_score': 1.0, '_source': {'fecha': '1985-01-08 00:43:31', 'agencia': 'Chuquisaca', 'monto': 224529.15, 'descripcion': 'Ingreso en efectivo', 'saldo': 3536179.16, 'nota': 'distinctio iste'}}, {'_index': 'extracto_cuenta_30m', '_id': 'yZrYY4QBGbS6fiSm7uVJ', '_score': 1.0, '_source': {'fecha': '1972-10-10 07:50:07', 'agencia': 'Oruro', 'monto': 314217.46, 'descripcion': 'Pago de nómina', 'saldo': 7217329.69, 'nota': 'quidem'}}, {'_index': 'extracto_cuenta_30m', '_id': 'yprYY4QBGbS6fiSm7uVJ', '_score': 1.0, '_source': {'fecha': '1955-06-10 17:59:28', 'agencia': 'Beni', 'monto': 182999.8, 'descripcion': 'Retención IVA', 'saldo': 365443.46, 'nota': 'quod voluptate quidem eius corporis blanditiis eveniet voluptatibus mollitia aut'}}, {'_index': 'extracto_cuenta_30m', '_id': 'y5rYY4QBGbS6fiSm7uVJ', '_score': 1.0, '_source': {'fecha': '1957-02-14 06:52:33', 'agencia': 'Santa Cruz', 'monto': 115836.12, 'descripcion': 'AB.CTA.P/MOVIL', 'saldo': 4240546.69, 'nota': 'nobis quaerat similique quisquam repellat unde possimus perferendis a ipsam cumque'}}, {'_index': 'extracto_cuenta_30m', '_id': 'zJrYY4QBGbS6fiSm7uVJ', '_score': 1.0, '_source': {'fecha': '1971-02-07 19:52:50', 'agencia': 'Pando', 'monto': 321466.39, 'descripcion': 'Transferencia de fondos de ahorros', 'saldo': 3432321.95, 'nota': 'quibusdam mollitia deserunt'}}, {'_index': 'extracto_cuenta_30m', '_id': 'zZrYY4QBGbS6fiSm7uVJ', '_score': 1.0, '_source': {'fecha': '1953-07-01 01:36:53', 'agencia': 'Chuquisaca', 'monto': 349557.7, 'descripcion': 'DEB.CTA.P/C.INTERNET', 'saldo': 4959837.07, 'nota': 'eum eveniet facere perspiciatis'}}, {'_index': 'extracto_cuenta_30m', '_id': 'zprYY4QBGbS6fiSm7uVJ', '_score': 1.0, '_source': {'fecha': '1996-04-03 23:48:28', 'agencia': 'La Paz', 'monto': 104769.71, 'descripcion': 'Debito Cta por ACH', 'saldo': 9392439.79, 'nota': 'hic voluptate repellendus odit provident corporis adipisci'}}, {'_index': 'extracto_cuenta_30m', '_id': 'z5rYY4QBGbS6fiSm7uVJ', '_score': 1.0, '_source': {'fecha': '1992-05-16 08:30:38', 'agencia': 'La Paz', 'monto': 129903.6, 'descripcion': 'Pago de servicio telefónico', 'saldo': 1426858.73, 'nota': 'quisquam minus repellat corrupti dolores quasi'}}, {'_index': 'extracto_cuenta_30m', '_id': '0JrYY4QBGbS6fiSm7uVJ', '_score': 1.0, '_source': {'fecha': '1991-04-05 09:34:58', 'agencia': 'Beni', 'monto': 111452.95, 'descripcion': 'Reintegro cajero automático', 'saldo': 530080.54, 'nota': 'repellat nihil ducimus iure voluptatibus mollitia non consequuntur quaerat ullam harum quas sint'}}, {'_index': 'extracto_cuenta_30m', '_id': '0ZrYY4QBGbS6fiSm7uVJ', '_score': 1.0, '_source': {'fecha': '2005-04-27 03:36:56', 'agencia': 'Beni', 'monto': 324726.77, 'descripcion': 'Pago en línea - Servicio de internet', 'saldo': 6662995.19, 'nota': 'nisi voluptatibus'}}]}\n",
      "====================================================================================================\n",
      "{'promedio': {'doc_count_error_upper_bound': 0, 'sum_other_doc_count': 0, 'buckets': [{'key': 'Cochabamba', 'doc_count': 3752823, 'promedio': {'value': 200031.0413259359}}, {'key': 'Oruro', 'doc_count': 3751207, 'promedio': {'value': 200005.39586952777}}, {'key': 'Santa Cruz', 'doc_count': 3750900, 'promedio': {'value': 200036.02537816088}}, {'key': 'Pando', 'doc_count': 3750360, 'promedio': {'value': 199910.63758218338}}, {'key': 'Chuquisaca', 'doc_count': 3749986, 'promedio': {'value': 199982.2347865495}}, {'key': 'La Paz', 'doc_count': 3749737, 'promedio': {'value': 199878.63241903813}}, {'key': 'Tarija', 'doc_count': 3749532, 'promedio': {'value': 199954.51679758908}}, {'key': 'Beni', 'doc_count': 3745455, 'promedio': {'value': 199989.03326468446}}]}}\n",
      "====================================================================================================\n",
      " Consulta realizada en un tiempo de 0:00:06.098725\n",
      "====================================================================================================\n"
     ]
    }
   ],
   "source": [
    "start_time = time.time()\n",
    "results = promedio_montos_agencia()\n",
    "end_time = time.time()\n",
    "\n",
    "\n",
    "print(\"=\"*100)\n",
    "print(results['hits'])\n",
    "print(\"=\"*100)\n",
    "print(results['aggregations'])\n",
    "print(\"=\"*100)\n",
    "print(f\" Consulta realizada en un tiempo de {str(timedelta(seconds = (end_time - start_time)))}\")\n",
    "print(\"=\"*100)"
   ]
  },
  {
   "cell_type": "markdown",
   "metadata": {},
   "source": [
    "# Consultas a la base de datos con 10 millones de registros y solo tres campos indexados (fecha, descripcion, nota)"
   ]
  },
  {
   "cell_type": "markdown",
   "metadata": {},
   "source": [
    "En esta sección se revisará la operación de búsqueda para la colección de 10 millones de documentos indexados en solo tres campos: fecha, descripcion y nota."
   ]
  },
  {
   "cell_type": "code",
   "execution_count": 75,
   "metadata": {},
   "outputs": [],
   "source": [
    "idx = \"extracto_cuenta_10m_3idx\""
   ]
  },
  {
   "cell_type": "markdown",
   "metadata": {},
   "source": [
    "## Consulta 1: Todos los datos"
   ]
  },
  {
   "cell_type": "markdown",
   "metadata": {},
   "source": [
    "Se realizará una búsqueda sobre todos los campos en la colección"
   ]
  },
  {
   "cell_type": "code",
   "execution_count": 76,
   "metadata": {},
   "outputs": [
    {
     "name": "stdout",
     "output_type": "stream",
     "text": [
      "====================================================================================================\n",
      "{'fecha': '1992-12-31 10:32:56', 'agencia': 'Chuquisaca', 'monto': 20373.61, 'descripcion': 'Transferencia de fondos de ahorros', 'saldo': 2177795.59, 'nota': 'a error veritatis quidem molestias aut ipsum laborum eveniet facilis'}\n",
      "\n",
      "{'fecha': '2017-04-09 09:21:09', 'agencia': 'Cochabamba', 'monto': 366131.71, 'descripcion': 'Compra en comercio', 'saldo': 1426094.89, 'nota': 'sunt totam ea quos deleniti delectus odio at quibusdam quasi quisquam'}\n",
      "\n",
      "{'fecha': '2001-10-22 20:50:54', 'agencia': 'Oruro', 'monto': 285350.58, 'descripcion': 'DEB.CTA.P/C.INTERNET', 'saldo': 7751277.84, 'nota': 'at maxime'}\n",
      "\n",
      "{'fecha': '1976-10-13 11:44:15', 'agencia': 'Oruro', 'monto': 93555.27, 'descripcion': 'Compra en comercio', 'saldo': 9441032.66, 'nota': 'obcaecati illo quod expedita esse tempore'}\n",
      "\n",
      "{'fecha': '2017-12-16 03:00:57', 'agencia': 'Oruro', 'monto': 341414.1, 'descripcion': 'Pago recibo de agua', 'saldo': 5223453.17, 'nota': 'illo tempora fugit'}\n",
      "\n",
      "{'fecha': '1990-11-09 01:41:06', 'agencia': 'La Paz', 'monto': 286837.2, 'descripcion': 'Debito Cta por pago de Seguro', 'saldo': 474757.52, 'nota': 'dolores laborum laudantium aliquam accusamus sapiente itaque quas ipsa culpa'}\n",
      "\n",
      "{'fecha': '1967-10-22 20:56:02', 'agencia': 'Tarija', 'monto': 103385.86, 'descripcion': 'Transferencia interbancaria SIMPLE', 'saldo': 3956221.65, 'nota': 'sequi optio eligendi ab perferendis earum praesentium cum molestiae consectetur'}\n",
      "\n",
      "{'fecha': '1951-06-02 01:54:09', 'agencia': 'Pando', 'monto': 285485.85, 'descripcion': 'Retiro en efectivo', 'saldo': 2670392.54, 'nota': 'odio reprehenderit odit corporis perspiciatis et illum maxime facilis cumque'}\n",
      "\n",
      "{'fecha': '1967-08-31 05:19:52', 'agencia': 'Chuquisaca', 'monto': 202514.91, 'descripcion': 'Pago recibo de agua', 'saldo': 1824975.45, 'nota': 'quis iste nam facilis possimus adipisci molestias amet repellendus consectetur nulla neque itaque'}\n",
      "\n",
      "{'fecha': '1994-07-01 23:01:42', 'agencia': 'Beni', 'monto': 210236.11, 'descripcion': 'Comisión de mantenimiento', 'saldo': 8603958.75, 'nota': 'cupiditate impedit obcaecati hic'}\n",
      "\n",
      "====================================================================================================\n",
      " Consulta realizada en un tiempo de 170.6545 milisegundos\n",
      "====================================================================================================\n"
     ]
    }
   ],
   "source": [
    "query = {\n",
    "    \"match_all\" : {}\n",
    "}\n",
    "\n",
    "start_time = time.time()\n",
    "results = es.search(index=idx, query=query)\n",
    "end_time = time.time()\n",
    "\n",
    "print(\"=\"*100)\n",
    "\n",
    "for hit in results['hits']['hits']:\n",
    "    print(hit[\"_source\"])\n",
    "    print(\"\")\n",
    "\n",
    "print(\"=\"*100)\n",
    "print(f\" Consulta realizada en un tiempo de {round((end_time - start_time)*1000, 4)} milisegundos\")\n",
    "print(\"=\"*100)"
   ]
  },
  {
   "cell_type": "markdown",
   "metadata": {},
   "source": [
    "## Consulta 2: Fecha y agencia"
   ]
  },
  {
   "cell_type": "markdown",
   "metadata": {},
   "source": [
    "Se realizará una búsqueda sobre los campos fecha y agencia. Siendo los parámetros de entrada una fecha inicial, una fecha final y una agencia."
   ]
  },
  {
   "cell_type": "code",
   "execution_count": 77,
   "metadata": {},
   "outputs": [
    {
     "name": "stdout",
     "output_type": "stream",
     "text": [
      "====================================================================================================\n",
      "{'fecha': '2019-08-30 14:09:59', 'agencia': 'Cochabamba', 'monto': 102664.52, 'descripcion': 'DEB.CTA.P/C.INTERNET', 'saldo': 8005956.07, 'nota': 'minus'}\n",
      "\n",
      "{'fecha': '2019-04-03 01:47:46', 'agencia': 'Cochabamba', 'monto': 95827.08, 'descripcion': 'Consignación en efectivo', 'saldo': 9466725.8, 'nota': 'voluptas voluptate velit nostrum deleniti molestias soluta'}\n",
      "\n",
      "{'fecha': '2019-02-22 21:08:11', 'agencia': 'Cochabamba', 'monto': 288747.54, 'descripcion': 'Pago en interés', 'saldo': 2030500.88, 'nota': 'aperiam voluptatum qui unde dolor dicta reprehenderit commodi et exercitationem velit in'}\n",
      "\n",
      "{'fecha': '2019-03-31 00:58:24', 'agencia': 'Cochabamba', 'monto': 221735.3, 'descripcion': 'Retiro en efectivo', 'saldo': 2680484.95, 'nota': 'quis quibusdam repudiandae minus vero'}\n",
      "\n",
      "{'fecha': '2019-11-30 03:41:23', 'agencia': 'Cochabamba', 'monto': 367487.74, 'descripcion': 'Pago de nómina', 'saldo': 2329827.82, 'nota': 'asperiores sint vitae'}\n",
      "\n",
      "{'fecha': '2019-12-31 14:07:27', 'agencia': 'Cochabamba', 'monto': 130542.36, 'descripcion': 'Transferencia de fondos de ahorros', 'saldo': 2430998.26, 'nota': 'expedita beatae ullam veritatis temporibus laborum hic'}\n",
      "\n",
      "{'fecha': '2019-03-06 17:06:19', 'agencia': 'Cochabamba', 'monto': 397548.63, 'descripcion': 'Retención IVA', 'saldo': 7155522.09, 'nota': 'commodi'}\n",
      "\n",
      "{'fecha': '2019-09-01 22:12:55', 'agencia': 'Cochabamba', 'monto': 205299.92, 'descripcion': 'Intereses', 'saldo': 6804152.77, 'nota': 'provident ex ducimus sunt optio commodi animi soluta'}\n",
      "\n",
      "{'fecha': '2019-11-13 05:53:06', 'agencia': 'Cochabamba', 'monto': 380625.9, 'descripcion': 'Pago recibo de gas', 'saldo': 7405157.64, 'nota': 'officiis possimus tenetur tempora dolorum suscipit quo quis dolor incidunt'}\n",
      "\n",
      "{'fecha': '2019-05-03 21:50:08', 'agencia': 'Cochabamba', 'monto': 30324.57, 'descripcion': 'Retiro en efectivo', 'saldo': 8307415.12, 'nota': 'soluta'}\n",
      "\n",
      "====================================================================================================\n",
      " Consulta realizada en un tiempo de 1328.6979 milisegundos\n",
      "====================================================================================================\n"
     ]
    }
   ],
   "source": [
    "start_date = \"2019-01-31\" \n",
    "end_date = \"2019-12-31\"\n",
    "agencia = \"Cochabamba\"\n",
    "\n",
    "start_time = time.time()\n",
    "results = busqueda_fecha_agencia(start_date, end_date, agencia)\n",
    "end_time = time.time()\n",
    "\n",
    "print(\"=\"*100)\n",
    "\n",
    "for hit in results['hits']['hits']:\n",
    "    print(hit[\"_source\"])\n",
    "    print(\"\")\n",
    "\n",
    "print(\"=\"*100)\n",
    "print(f\" Consulta realizada en un tiempo de {round((end_time - start_time)*1000, 4)} milisegundos\")\n",
    "print(\"=\"*100)"
   ]
  },
  {
   "cell_type": "markdown",
   "metadata": {},
   "source": [
    "## Consulta 3: Rango de saldo, dos opciones de agencias y descripción"
   ]
  },
  {
   "cell_type": "markdown",
   "metadata": {},
   "source": [
    "Se realizará una búsqueda sobre los campos saldo, agencia (OR 2 opciones) y descripción. Los parámetros de entrada son un rango de saldos, dos opciones de agencias, y una descripción."
   ]
  },
  {
   "cell_type": "code",
   "execution_count": 78,
   "metadata": {},
   "outputs": [
    {
     "name": "stdout",
     "output_type": "stream",
     "text": [
      "====================================================================================================\n",
      "{'fecha': '1986-09-10 08:42:58', 'agencia': 'Santa Cruz', 'monto': 166347.14, 'descripcion': 'Retiro en efectivo', 'saldo': 3814290.17, 'nota': 'aperiam placeat fugit ex officiis minima amet doloremque iusto'}\n",
      "\n",
      "{'fecha': '1984-05-21 23:48:38', 'agencia': 'Santa Cruz', 'monto': 222373.33, 'descripcion': 'Retiro en efectivo', 'saldo': 4525272.74, 'nota': 'eligendi esse voluptatibus'}\n",
      "\n",
      "{'fecha': '1966-01-30 00:22:43', 'agencia': 'La Paz', 'monto': 306101.64, 'descripcion': 'Retiro en efectivo', 'saldo': 7153563.3, 'nota': 'itaque nulla hic saepe'}\n",
      "\n",
      "{'fecha': '1977-04-03 23:37:39', 'agencia': 'La Paz', 'monto': 295277.2, 'descripcion': 'Retiro en efectivo', 'saldo': 6524128.2, 'nota': 'sed enim voluptatem veritatis reiciendis labore delectus optio'}\n",
      "\n",
      "{'fecha': '2018-11-01 08:30:31', 'agencia': 'La Paz', 'monto': 282528.98, 'descripcion': 'Retiro en efectivo', 'saldo': 302616.62, 'nota': 'eos cum sequi labore omnis'}\n",
      "\n",
      "{'fecha': '1970-06-07 03:05:26', 'agencia': 'Santa Cruz', 'monto': 272060.12, 'descripcion': 'Retiro en efectivo', 'saldo': 9616544.58, 'nota': 'inventore sit dicta fugit ratione incidunt doloribus'}\n",
      "\n",
      "{'fecha': '2021-11-10 14:41:09', 'agencia': 'La Paz', 'monto': 192667, 'descripcion': 'Retiro en efectivo', 'saldo': 9574112.29, 'nota': 'rem dignissimos excepturi quaerat nulla obcaecati'}\n",
      "\n",
      "{'fecha': '1970-05-21 03:04:05', 'agencia': 'La Paz', 'monto': 185676.28, 'descripcion': 'Retiro en efectivo', 'saldo': 7952242.42, 'nota': 'quisquam quos dicta impedit tempore neque nemo delectus facilis'}\n",
      "\n",
      "{'fecha': '2020-10-04 06:29:59', 'agencia': 'Santa Cruz', 'monto': 212471.85, 'descripcion': 'Retiro en efectivo', 'saldo': 5044882.54, 'nota': 'pariatur ex voluptates sint quisquam impedit atque vero quos accusantium'}\n",
      "\n",
      "{'fecha': '1955-11-30 21:54:28', 'agencia': 'La Paz', 'monto': 347710.77, 'descripcion': 'Retiro en efectivo', 'saldo': 9109972.31, 'nota': 'suscipit ad magni hic quisquam ut laudantium molestias unde asperiores'}\n",
      "\n",
      "====================================================================================================\n",
      " Consulta realizada en un tiempo de 3645.2553 milisegundos\n",
      "====================================================================================================\n"
     ]
    }
   ],
   "source": [
    "saldo_min = 162342\n",
    "saldo_max = 382304513\n",
    "agencia1 = \"La Paz\"\n",
    "agencia2 = \"Santa Cruz\"\n",
    "descripcion = \"Retiro en efectivo\"\n",
    "\n",
    "start_time = time.time()\n",
    "results = busqueda_saldo_agencias_descripcion(saldo_min, saldo_max, agencia1, agencia2, descripcion)\n",
    "end_time = time.time()\n",
    "\n",
    "print(\"=\"*100)\n",
    "\n",
    "for hit in results['hits']['hits']:\n",
    "    print(hit[\"_source\"])\n",
    "    print(\"\")\n",
    "\n",
    "print(\"=\"*100)\n",
    "print(f\" Consulta realizada en un tiempo de {round((end_time - start_time)*1000, 4)} milisegundos\")\n",
    "print(\"=\"*100)"
   ]
  },
  {
   "cell_type": "markdown",
   "metadata": {},
   "source": [
    "## Agregación 1: Suma de saldos de una agencia"
   ]
  },
  {
   "cell_type": "markdown",
   "metadata": {},
   "source": [
    "Se calculará la suma de los saldos de los datos agrupados de una agencia en específico."
   ]
  },
  {
   "cell_type": "code",
   "execution_count": 79,
   "metadata": {},
   "outputs": [
    {
     "name": "stdout",
     "output_type": "stream",
     "text": [
      "====================================================================================================\n",
      "{'total': {'value': 10000, 'relation': 'gte'}, 'max_score': 1.0, 'hits': [{'_index': 'extracto_cuenta_10m_3idx', '_id': '3n84aIQBPBNG2LESaO-h', '_score': 1.0, '_source': {'fecha': '1994-07-01 23:01:42', 'agencia': 'Beni', 'monto': 210236.11, 'descripcion': 'Comisión de mantenimiento', 'saldo': 8603958.75, 'nota': 'cupiditate impedit obcaecati hic'}}, {'_index': 'extracto_cuenta_10m_3idx', '_id': '5X84aIQBPBNG2LESaO-h', '_score': 1.0, '_source': {'fecha': '2006-11-05 20:49:20', 'agencia': 'Beni', 'monto': 263442.72, 'descripcion': 'Aporte inversor', 'saldo': 6956212.74, 'nota': 'vitae maiores minus'}}, {'_index': 'extracto_cuenta_10m_3idx', '_id': '7n84aIQBPBNG2LESaO-h', '_score': 1.0, '_source': {'fecha': '1960-12-23 20:55:39', 'agencia': 'Beni', 'monto': 318843.81, 'descripcion': 'Apertura de cuenta corriente', 'saldo': 4254979.3, 'nota': 'excepturi aspernatur ut non sit eos obcaecati'}}, {'_index': 'extracto_cuenta_10m_3idx', '_id': '9384aIQBPBNG2LESaO-h', '_score': 1.0, '_source': {'fecha': '2012-06-27 14:23:03', 'agencia': 'Beni', 'monto': 397892.77, 'descripcion': 'Pago en línea - Servicio de internet', 'saldo': 6731479.14, 'nota': 'est'}}, {'_index': 'extracto_cuenta_10m_3idx', '_id': '-H84aIQBPBNG2LESaO-h', '_score': 1.0, '_source': {'fecha': '1986-03-28 18:53:26', 'agencia': 'Beni', 'monto': 323012.77, 'descripcion': 'Apertura de caja de ahorros', 'saldo': 6971143.28, 'nota': 'numquam accusantium veritatis voluptas cumque minus officiis ullam nisi incidunt asperiores voluptates minima'}}, {'_index': 'extracto_cuenta_10m_3idx', '_id': 'AX84aIQBPBNG2LESaPCh', '_score': 1.0, '_source': {'fecha': '2008-11-19 06:17:20', 'agencia': 'Beni', 'monto': 84277.49, 'descripcion': 'Pago en interés', 'saldo': 2987244.49, 'nota': 'perferendis expedita sed amet quaerat laudantium inventore asperiores iste'}}, {'_index': 'extracto_cuenta_10m_3idx', '_id': 'CH84aIQBPBNG2LESaPCh', '_score': 1.0, '_source': {'fecha': '1953-10-01 06:38:27', 'agencia': 'Beni', 'monto': 355245.52, 'descripcion': 'Pago de nómina', 'saldo': 5338298.15, 'nota': 'veniam ipsam consequatur commodi atque earum libero eum'}}, {'_index': 'extracto_cuenta_10m_3idx', '_id': 'D384aIQBPBNG2LESaPCh', '_score': 1.0, '_source': {'fecha': '2004-12-14 19:36:21', 'agencia': 'Beni', 'monto': 200539.58, 'descripcion': 'Pago recibo de luz', 'saldo': 3681832.74, 'nota': 'distinctio accusantium sequi corrupti at iste perferendis accusamus quasi possimus voluptatibus sint repellat'}}, {'_index': 'extracto_cuenta_10m_3idx', '_id': 'FX84aIQBPBNG2LESaPCh', '_score': 1.0, '_source': {'fecha': '1969-01-30 17:32:14', 'agencia': 'Beni', 'monto': 394540.49, 'descripcion': 'Pago recibo de gas', 'saldo': 1963059.52, 'nota': 'soluta dolore voluptas omnis aut provident praesentium libero itaque nostrum'}}, {'_index': 'extracto_cuenta_10m_3idx', '_id': 'GX84aIQBPBNG2LESaPCh', '_score': 1.0, '_source': {'fecha': '2007-04-23 21:55:06', 'agencia': 'Beni', 'monto': 158131.3, 'descripcion': 'Apertura de caja de ahorros', 'saldo': 3564991.3, 'nota': 'tempora id omnis quis suscipit voluptas'}}]}\n",
      "====================================================================================================\n",
      "{'suma Beni': {'value': 6250461618165.64}}\n",
      "====================================================================================================\n",
      " Consulta realizada en un tiempo de 0:00:02.983346\n",
      "====================================================================================================\n"
     ]
    }
   ],
   "source": [
    "agencia = \"Beni\"\n",
    "\n",
    "start_time = time.time()\n",
    "results = suma_saldo_agencia(agencia)\n",
    "end_time = time.time()\n",
    "\n",
    "\n",
    "print(\"=\"*100)\n",
    "print(results['hits'])\n",
    "print(\"=\"*100)\n",
    "print(results['aggregations'])\n",
    "print(\"=\"*100)\n",
    "print(f\" Consulta realizada en un tiempo de {str(timedelta(seconds = (end_time - start_time)))}\")\n",
    "print(\"=\"*100)"
   ]
  },
  {
   "cell_type": "markdown",
   "metadata": {},
   "source": [
    "## Agregación 2: Promedio de montos por agencia"
   ]
  },
  {
   "cell_type": "code",
   "execution_count": 80,
   "metadata": {},
   "outputs": [
    {
     "name": "stdout",
     "output_type": "stream",
     "text": [
      "====================================================================================================\n",
      "{'total': {'value': 10000, 'relation': 'gte'}, 'max_score': 1.0, 'hits': [{'_index': 'extracto_cuenta_10m_3idx', '_id': '1X84aIQBPBNG2LESaO-h', '_score': 1.0, '_source': {'fecha': '1992-12-31 10:32:56', 'agencia': 'Chuquisaca', 'monto': 20373.61, 'descripcion': 'Transferencia de fondos de ahorros', 'saldo': 2177795.59, 'nota': 'a error veritatis quidem molestias aut ipsum laborum eveniet facilis'}}, {'_index': 'extracto_cuenta_10m_3idx', '_id': '1n84aIQBPBNG2LESaO-h', '_score': 1.0, '_source': {'fecha': '2017-04-09 09:21:09', 'agencia': 'Cochabamba', 'monto': 366131.71, 'descripcion': 'Compra en comercio', 'saldo': 1426094.89, 'nota': 'sunt totam ea quos deleniti delectus odio at quibusdam quasi quisquam'}}, {'_index': 'extracto_cuenta_10m_3idx', '_id': '1384aIQBPBNG2LESaO-h', '_score': 1.0, '_source': {'fecha': '2001-10-22 20:50:54', 'agencia': 'Oruro', 'monto': 285350.58, 'descripcion': 'DEB.CTA.P/C.INTERNET', 'saldo': 7751277.84, 'nota': 'at maxime'}}, {'_index': 'extracto_cuenta_10m_3idx', '_id': '2H84aIQBPBNG2LESaO-h', '_score': 1.0, '_source': {'fecha': '1976-10-13 11:44:15', 'agencia': 'Oruro', 'monto': 93555.27, 'descripcion': 'Compra en comercio', 'saldo': 9441032.66, 'nota': 'obcaecati illo quod expedita esse tempore'}}, {'_index': 'extracto_cuenta_10m_3idx', '_id': '2X84aIQBPBNG2LESaO-h', '_score': 1.0, '_source': {'fecha': '2017-12-16 03:00:57', 'agencia': 'Oruro', 'monto': 341414.1, 'descripcion': 'Pago recibo de agua', 'saldo': 5223453.17, 'nota': 'illo tempora fugit'}}, {'_index': 'extracto_cuenta_10m_3idx', '_id': '2n84aIQBPBNG2LESaO-h', '_score': 1.0, '_source': {'fecha': '1990-11-09 01:41:06', 'agencia': 'La Paz', 'monto': 286837.2, 'descripcion': 'Debito Cta por pago de Seguro', 'saldo': 474757.52, 'nota': 'dolores laborum laudantium aliquam accusamus sapiente itaque quas ipsa culpa'}}, {'_index': 'extracto_cuenta_10m_3idx', '_id': '2384aIQBPBNG2LESaO-h', '_score': 1.0, '_source': {'fecha': '1967-10-22 20:56:02', 'agencia': 'Tarija', 'monto': 103385.86, 'descripcion': 'Transferencia interbancaria SIMPLE', 'saldo': 3956221.65, 'nota': 'sequi optio eligendi ab perferendis earum praesentium cum molestiae consectetur'}}, {'_index': 'extracto_cuenta_10m_3idx', '_id': '3H84aIQBPBNG2LESaO-h', '_score': 1.0, '_source': {'fecha': '1951-06-02 01:54:09', 'agencia': 'Pando', 'monto': 285485.85, 'descripcion': 'Retiro en efectivo', 'saldo': 2670392.54, 'nota': 'odio reprehenderit odit corporis perspiciatis et illum maxime facilis cumque'}}, {'_index': 'extracto_cuenta_10m_3idx', '_id': '3X84aIQBPBNG2LESaO-h', '_score': 1.0, '_source': {'fecha': '1967-08-31 05:19:52', 'agencia': 'Chuquisaca', 'monto': 202514.91, 'descripcion': 'Pago recibo de agua', 'saldo': 1824975.45, 'nota': 'quis iste nam facilis possimus adipisci molestias amet repellendus consectetur nulla neque itaque'}}, {'_index': 'extracto_cuenta_10m_3idx', '_id': '3n84aIQBPBNG2LESaO-h', '_score': 1.0, '_source': {'fecha': '1994-07-01 23:01:42', 'agencia': 'Beni', 'monto': 210236.11, 'descripcion': 'Comisión de mantenimiento', 'saldo': 8603958.75, 'nota': 'cupiditate impedit obcaecati hic'}}]}\n",
      "====================================================================================================\n",
      "{'promedio': {'doc_count_error_upper_bound': 0, 'sum_other_doc_count': 0, 'buckets': [{'key': 'Tarija', 'doc_count': 1250888, 'promedio': {'value': 199891.7860178972}}, {'key': 'Santa Cruz', 'doc_count': 1250551, 'promedio': {'value': 200063.66878656106}}, {'key': 'Pando', 'doc_count': 1250197, 'promedio': {'value': 199851.94743137332}}, {'key': 'Oruro', 'doc_count': 1250021, 'promedio': {'value': 199828.1475366615}}, {'key': 'La Paz', 'doc_count': 1250003, 'promedio': {'value': 199711.1684258668}}, {'key': 'Cochabamba', 'doc_count': 1249736, 'promedio': {'value': 200044.5680553294}}, {'key': 'Chuquisaca', 'doc_count': 1249624, 'promedio': {'value': 200149.11637975104}}, {'key': 'Beni', 'doc_count': 1248980, 'promedio': {'value': 199944.65917725654}}]}}\n",
      "====================================================================================================\n",
      " Consulta realizada en un tiempo de 0:00:01.187728\n",
      "====================================================================================================\n"
     ]
    }
   ],
   "source": [
    "start_time = time.time()\n",
    "results = promedio_montos_agencia()\n",
    "end_time = time.time()\n",
    "\n",
    "\n",
    "print(\"=\"*100)\n",
    "print(results['hits'])\n",
    "print(\"=\"*100)\n",
    "print(results['aggregations'])\n",
    "print(\"=\"*100)\n",
    "print(f\" Consulta realizada en un tiempo de {str(timedelta(seconds = (end_time - start_time)))}\")\n",
    "print(\"=\"*100)"
   ]
  },
  {
   "cell_type": "markdown",
   "metadata": {},
   "source": [
    "# Consultas a la base de datos con 30 millones de registros y solo tres campos indexados (fecha, descripcion, nota)"
   ]
  },
  {
   "cell_type": "markdown",
   "metadata": {},
   "source": [
    "En esta sección se revisará la operación de búsqueda para la colección de 30 millones de documentos indexados en solo tres campos: fecha, descripcion y nota."
   ]
  },
  {
   "cell_type": "code",
   "execution_count": 81,
   "metadata": {},
   "outputs": [],
   "source": [
    "idx = \"extracto_cuenta_30m_3idx\""
   ]
  },
  {
   "cell_type": "markdown",
   "metadata": {},
   "source": [
    "## Consulta 1: Todos los datos"
   ]
  },
  {
   "cell_type": "markdown",
   "metadata": {},
   "source": [
    "Se realizará una búsqueda sobre todos los campos en la colección"
   ]
  },
  {
   "cell_type": "code",
   "execution_count": 82,
   "metadata": {},
   "outputs": [
    {
     "name": "stdout",
     "output_type": "stream",
     "text": [
      "====================================================================================================\n",
      "{'fecha': '2006-07-21 08:28:08', 'agencia': 'Santa Cruz', 'monto': 196956.04, 'descripcion': 'Pago en línea - Servicio de internet', 'saldo': 381738.48, 'nota': 'obcaecati aspernatur ex harum doloribus doloremque'}\n",
      "\n",
      "{'fecha': '1968-04-30 08:20:51', 'agencia': 'Tarija', 'monto': 9057.27, 'descripcion': 'Pago en interés', 'saldo': 1074640.58, 'nota': 'aliquam ipsum qui'}\n",
      "\n",
      "{'fecha': '1994-07-26 17:51:03', 'agencia': 'Chuquisaca', 'monto': 206889.3, 'descripcion': 'Retiro en efectivo', 'saldo': 8857751.66, 'nota': 'consectetur fugiat voluptates'}\n",
      "\n",
      "{'fecha': '1962-08-18 23:06:57', 'agencia': 'Tarija', 'monto': 114669.14, 'descripcion': 'Pago de cheque compensado', 'saldo': 5389451.89, 'nota': 'sequi eaque fugiat officia sit voluptatibus incidunt omnis nisi quasi'}\n",
      "\n",
      "{'fecha': '1961-07-18 14:38:26', 'agencia': 'Santa Cruz', 'monto': 233935.71, 'descripcion': 'Pago recibo de gas', 'saldo': 6850822.73, 'nota': 'impedit'}\n",
      "\n",
      "{'fecha': '1966-08-04 18:17:31', 'agencia': 'Cochabamba', 'monto': 390122.8, 'descripcion': 'Intereses', 'saldo': 4149375.11, 'nota': 'dolorem blanditiis animi inventore dignissimos'}\n",
      "\n",
      "{'fecha': '1966-07-11 07:16:25', 'agencia': 'Tarija', 'monto': 343472.53, 'descripcion': 'Pago recibo de luz', 'saldo': 55108.07, 'nota': 'nulla iusto dolorum expedita voluptates ut sapiente aperiam ipsam facere vitae deserunt'}\n",
      "\n",
      "{'fecha': '1969-01-29 20:03:53', 'agencia': 'Pando', 'monto': 146677.03, 'descripcion': 'Apertura de cuenta corriente', 'saldo': 5034158.71, 'nota': 'illo sit accusamus animi fugiat aliquid quaerat odit a iste perspiciatis doloribus nostrum'}\n",
      "\n",
      "{'fecha': '1952-02-27 01:25:47', 'agencia': 'La Paz', 'monto': 70996.54, 'descripcion': 'Aporte inversor', 'saldo': 1697043.51, 'nota': 'consequatur accusamus nam'}\n",
      "\n",
      "{'fecha': '1956-11-21 02:10:01', 'agencia': 'Santa Cruz', 'monto': 297835.43, 'descripcion': 'Debito Cta por pago de Seguro', 'saldo': 8638250.91, 'nota': 'iste sapiente aliquam debitis consequuntur voluptas consequatur possimus quis maxime repudiandae dolorum'}\n",
      "\n",
      "====================================================================================================\n",
      " Consulta realizada en un tiempo de 6.3758 milisegundos\n",
      "====================================================================================================\n"
     ]
    }
   ],
   "source": [
    "query = {\n",
    "    \"match_all\" : {}\n",
    "}\n",
    "\n",
    "start_time = time.time()\n",
    "results = es.search(index=idx, query=query)\n",
    "end_time = time.time()\n",
    "\n",
    "print(\"=\"*100)\n",
    "\n",
    "for hit in results['hits']['hits']:\n",
    "    print(hit[\"_source\"])\n",
    "    print(\"\")\n",
    "\n",
    "print(\"=\"*100)\n",
    "print(f\" Consulta realizada en un tiempo de {round((end_time - start_time)*1000, 4)} milisegundos\")\n",
    "print(\"=\"*100)"
   ]
  },
  {
   "cell_type": "markdown",
   "metadata": {},
   "source": [
    "## Consulta 2: Fecha y agencia"
   ]
  },
  {
   "cell_type": "markdown",
   "metadata": {},
   "source": [
    "Se realizará una búsqueda sobre los campos fecha y agencia. Siendo los parámetros de entrada una fecha inicial, una fecha final y una agencia."
   ]
  },
  {
   "cell_type": "code",
   "execution_count": 83,
   "metadata": {},
   "outputs": [
    {
     "name": "stdout",
     "output_type": "stream",
     "text": [
      "====================================================================================================\n",
      "{'fecha': '2019-05-28 21:35:40', 'agencia': 'Cochabamba', 'monto': 92712.8, 'descripcion': 'Cobro seguro', 'saldo': 6730644.66, 'nota': 'impedit officiis quisquam ducimus minus nesciunt provident ipsa libero omnis doloremque eius sed'}\n",
      "\n",
      "{'fecha': '2019-08-03 03:32:01', 'agencia': 'Cochabamba', 'monto': 71899.4, 'descripcion': 'Pago de servicio telefónico', 'saldo': 847438.81, 'nota': 'at architecto officia optio assumenda provident earum eligendi ducimus blanditiis voluptate'}\n",
      "\n",
      "{'fecha': '2019-03-06 17:06:19', 'agencia': 'Cochabamba', 'monto': 397548.63, 'descripcion': 'Retención IVA', 'saldo': 7155522.09, 'nota': 'commodi'}\n",
      "\n",
      "{'fecha': '2019-09-01 22:12:55', 'agencia': 'Cochabamba', 'monto': 205299.92, 'descripcion': 'Intereses', 'saldo': 6804152.77, 'nota': 'provident ex ducimus sunt optio commodi animi soluta'}\n",
      "\n",
      "{'fecha': '2019-11-13 05:53:06', 'agencia': 'Cochabamba', 'monto': 380625.9, 'descripcion': 'Pago recibo de gas', 'saldo': 7405157.64, 'nota': 'officiis possimus tenetur tempora dolorum suscipit quo quis dolor incidunt'}\n",
      "\n",
      "{'fecha': '2019-12-16 08:09:15', 'agencia': 'Cochabamba', 'monto': 250175.64, 'descripcion': 'Pago recibo de agua', 'saldo': 9792243.98, 'nota': 'error tenetur cumque fugit dolorem sit fugiat obcaecati nesciunt incidunt officia'}\n",
      "\n",
      "{'fecha': '2019-12-15 01:43:40', 'agencia': 'Cochabamba', 'monto': 147257.62, 'descripcion': 'Ingreso en efectivo', 'saldo': 9363710.37, 'nota': 'excepturi molestiae omnis itaque tempora tempore'}\n",
      "\n",
      "{'fecha': '2019-11-27 19:34:35', 'agencia': 'Cochabamba', 'monto': 322935.18, 'descripcion': 'Pago de cheque compensado', 'saldo': 1459085.33, 'nota': 'vero cum magni libero velit quas dolor eveniet ut aperiam aspernatur'}\n",
      "\n",
      "{'fecha': '2019-11-20 08:39:24', 'agencia': 'Cochabamba', 'monto': 328928.08, 'descripcion': 'Pago de cheque compensado', 'saldo': 5308676.82, 'nota': 'aliquid esse quia excepturi autem nesciunt doloremque laboriosam rem deleniti fugit'}\n",
      "\n",
      "{'fecha': '2019-07-25 10:05:51', 'agencia': 'Cochabamba', 'monto': 83135.08, 'descripcion': 'Pago de cheque compensado', 'saldo': 864300.92, 'nota': 'nihil error optio suscipit iure facilis provident quos excepturi a accusantium'}\n",
      "\n",
      "====================================================================================================\n",
      " Consulta realizada en un tiempo de 2090.3137 milisegundos\n",
      "====================================================================================================\n"
     ]
    }
   ],
   "source": [
    "start_date = \"2019-01-31\" \n",
    "end_date = \"2019-12-31\"\n",
    "agencia = \"Cochabamba\"\n",
    "\n",
    "start_time = time.time()\n",
    "results = busqueda_fecha_agencia(start_date, end_date, agencia)\n",
    "end_time = time.time()\n",
    "\n",
    "print(\"=\"*100)\n",
    "\n",
    "for hit in results['hits']['hits']:\n",
    "    print(hit[\"_source\"])\n",
    "    print(\"\")\n",
    "\n",
    "print(\"=\"*100)\n",
    "print(f\" Consulta realizada en un tiempo de {round((end_time - start_time)*1000, 4)} milisegundos\")\n",
    "print(\"=\"*100)"
   ]
  },
  {
   "cell_type": "markdown",
   "metadata": {},
   "source": [
    "## Consulta 3: Rango de saldo, dos opciones de agencias y descripción"
   ]
  },
  {
   "cell_type": "markdown",
   "metadata": {},
   "source": [
    "Se realizará una búsqueda sobre los campos saldo, agencia (OR 2 opciones) y descripción. Los parámetros de entrada son un rango de saldos, dos opciones de agencias, y una descripción."
   ]
  },
  {
   "cell_type": "code",
   "execution_count": 85,
   "metadata": {},
   "outputs": [
    {
     "name": "stdout",
     "output_type": "stream",
     "text": [
      "====================================================================================================\n",
      "{'fecha': '1965-01-31 14:44:42', 'agencia': 'Santa Cruz', 'monto': 355469.84, 'descripcion': 'Retiro en efectivo', 'saldo': 569583.87, 'nota': 'ea quisquam aut ab minus sunt velit quos suscipit'}\n",
      "\n",
      "{'fecha': '1971-05-07 11:43:24', 'agencia': 'Santa Cruz', 'monto': 196721.9, 'descripcion': 'Retiro en efectivo', 'saldo': 9712315.3, 'nota': 'vitae quibusdam quam fugit ipsum aliquid molestias nihil doloremque ipsam sed'}\n",
      "\n",
      "{'fecha': '1999-12-03 08:17:14', 'agencia': 'Santa Cruz', 'monto': 167380.92, 'descripcion': 'Retiro en efectivo', 'saldo': 7219208.5, 'nota': 'sequi vero'}\n",
      "\n",
      "{'fecha': '2014-02-26 04:05:12', 'agencia': 'Santa Cruz', 'monto': 315228.4, 'descripcion': 'Retiro en efectivo', 'saldo': 5602970.43, 'nota': 'error eos quasi ab iste reprehenderit quam eligendi ut illo recusandae'}\n",
      "\n",
      "{'fecha': '2000-10-07 19:00:56', 'agencia': 'La Paz', 'monto': 330782.68, 'descripcion': 'Retiro en efectivo', 'saldo': 7151659.31, 'nota': 'ratione nemo'}\n",
      "\n",
      "{'fecha': '2018-04-07 06:07:17', 'agencia': 'La Paz', 'monto': 215418.29, 'descripcion': 'Retiro en efectivo', 'saldo': 6379456.89, 'nota': 'soluta'}\n",
      "\n",
      "{'fecha': '1964-05-12 16:48:35', 'agencia': 'La Paz', 'monto': 251449.69, 'descripcion': 'Retiro en efectivo', 'saldo': 1064226.22, 'nota': 'nostrum ipsam dolorem unde fugiat iste recusandae voluptatem'}\n",
      "\n",
      "{'fecha': '1969-06-04 02:23:38', 'agencia': 'La Paz', 'monto': 247600.48, 'descripcion': 'Retiro en efectivo', 'saldo': 5678145.21, 'nota': 'rerum rem dignissimos architecto quos pariatur'}\n",
      "\n",
      "{'fecha': '1961-10-14 01:32:08', 'agencia': 'Santa Cruz', 'monto': 367695.31, 'descripcion': 'Retiro en efectivo', 'saldo': 5635624.34, 'nota': 'nostrum facilis facere recusandae'}\n",
      "\n",
      "{'fecha': '1959-09-24 01:57:53', 'agencia': 'Santa Cruz', 'monto': 196589.83, 'descripcion': 'Retiro en efectivo', 'saldo': 3043793.38, 'nota': 'asperiores et laborum quam architecto inventore'}\n",
      "\n",
      "====================================================================================================\n",
      " Consulta realizada en un tiempo de 3212.4443 milisegundos\n",
      "====================================================================================================\n"
     ]
    }
   ],
   "source": [
    "saldo_min = 162342\n",
    "saldo_max = 382304513\n",
    "agencia1 = \"La Paz\"\n",
    "agencia2 = \"Santa Cruz\"\n",
    "descripcion = \"Retiro en efectivo\"\n",
    "\n",
    "start_time = time.time()\n",
    "results = busqueda_saldo_agencias_descripcion(saldo_min, saldo_max, agencia1, agencia2, descripcion)\n",
    "end_time = time.time()\n",
    "\n",
    "print(\"=\"*100)\n",
    "\n",
    "for hit in results['hits']['hits']:\n",
    "    print(hit[\"_source\"])\n",
    "    print(\"\")\n",
    "\n",
    "print(\"=\"*100)\n",
    "print(f\" Consulta realizada en un tiempo de {round((end_time - start_time)*1000, 4)} milisegundos\")\n",
    "print(\"=\"*100)"
   ]
  },
  {
   "cell_type": "markdown",
   "metadata": {},
   "source": [
    "## Agregación 1: Suma de saldos de una agencia"
   ]
  },
  {
   "cell_type": "markdown",
   "metadata": {},
   "source": [
    "Se calculará la suma de los saldos de los datos agrupados de una agencia en específico."
   ]
  },
  {
   "cell_type": "code",
   "execution_count": 86,
   "metadata": {},
   "outputs": [
    {
     "name": "stdout",
     "output_type": "stream",
     "text": [
      "====================================================================================================\n",
      "{'total': {'value': 10000, 'relation': 'gte'}, 'max_score': 1.0, 'hits': [{'_index': 'extracto_cuenta_30m_3idx', '_id': 'Z769Z4QBPBNG2LESI3n6', '_score': 1.0, '_source': {'fecha': '1962-03-13 17:09:36', 'agencia': 'Beni', 'monto': 150308.02, 'descripcion': 'Debito Cta por ACH', 'saldo': 5049151.8, 'nota': 'error deserunt tenetur optio doloremque'}}, {'_index': 'extracto_cuenta_30m_3idx', '_id': 'cb69Z4QBPBNG2LESI3n6', '_score': 1.0, '_source': {'fecha': '2007-02-16 00:37:35', 'agencia': 'Beni', 'monto': 268940.12, 'descripcion': 'Pago recibo de luz', 'saldo': 6445665.08, 'nota': 'voluptatem velit aliquid magnam rerum'}}, {'_index': 'extracto_cuenta_30m_3idx', '_id': 'f769Z4QBPBNG2LESI3n6', '_score': 1.0, '_source': {'fecha': '1963-03-09 17:40:34', 'agencia': 'Beni', 'monto': 323094.79, 'descripcion': 'Deposito a cuenta', 'saldo': 6366524.78, 'nota': 'odio cumque necessitatibus officiis quam quae culpa deleniti'}}, {'_index': 'extracto_cuenta_30m_3idx', '_id': 'kL69Z4QBPBNG2LESI3n6', '_score': 1.0, '_source': {'fecha': '2011-10-26 23:18:03', 'agencia': 'Beni', 'monto': 72172.31, 'descripcion': 'Comisión de mantenimiento', 'saldo': 521815.26, 'nota': 'id molestias aut ullam pariatur debitis assumenda numquam enim'}}, {'_index': 'extracto_cuenta_30m_3idx', '_id': 'lL69Z4QBPBNG2LESI3n6', '_score': 1.0, '_source': {'fecha': '1991-05-31 00:03:10', 'agencia': 'Beni', 'monto': 377678.71, 'descripcion': 'Debito Cta por ACH', 'saldo': 6291518.42, 'nota': 'impedit repudiandae asperiores nostrum beatae cumque dolorem iusto reiciendis laboriosam in autem'}}, {'_index': 'extracto_cuenta_30m_3idx', '_id': 'nL69Z4QBPBNG2LESI3n6', '_score': 1.0, '_source': {'fecha': '1975-09-13 16:42:07', 'agencia': 'Beni', 'monto': 271586.33, 'descripcion': 'DEB.CTA.P/C.INTERNET', 'saldo': 1322303.11, 'nota': 'assumenda eius et nisi ea unde tempore veniam saepe alias eveniet'}}, {'_index': 'extracto_cuenta_30m_3idx', '_id': 'or69Z4QBPBNG2LESI3n6', '_score': 1.0, '_source': {'fecha': '1977-05-11 11:03:39', 'agencia': 'Beni', 'monto': 282024.11, 'descripcion': 'Reintegro cajero automático', 'saldo': 1563674.82, 'nota': 'ducimus'}}, {'_index': 'extracto_cuenta_30m_3idx', '_id': 'pL69Z4QBPBNG2LESI3n6', '_score': 1.0, '_source': {'fecha': '1969-03-11 02:09:04', 'agencia': 'Beni', 'monto': 165084.37, 'descripcion': 'Capitalización de intereses premio', 'saldo': 1245268.77, 'nota': 'consequuntur illo possimus labore'}}, {'_index': 'extracto_cuenta_30m_3idx', '_id': 'qb69Z4QBPBNG2LESI3n6', '_score': 1.0, '_source': {'fecha': '1954-05-17 18:57:09', 'agencia': 'Beni', 'monto': 184705.59, 'descripcion': 'Transferencia de fondos de ahorros', 'saldo': 3656304.81, 'nota': 'et esse saepe tempora nihil eveniet explicabo iusto temporibus corporis ullam voluptates ea'}}, {'_index': 'extracto_cuenta_30m_3idx', '_id': 'sr69Z4QBPBNG2LESI3n6', '_score': 1.0, '_source': {'fecha': '1958-01-17 01:11:52', 'agencia': 'Beni', 'monto': 32825.49, 'descripcion': 'Cobro seguro', 'saldo': 2140842.22, 'nota': 'ullam facilis deleniti vero ipsa sed error non odio laudantium molestiae doloribus minus'}}]}\n",
      "====================================================================================================\n",
      "{'suma Beni': {'value': 18730670956749.598}}\n",
      "====================================================================================================\n",
      " Consulta realizada en un tiempo de 0:00:03.052441\n",
      "====================================================================================================\n"
     ]
    }
   ],
   "source": [
    "agencia = \"Beni\"\n",
    "\n",
    "start_time = time.time()\n",
    "results = suma_saldo_agencia(agencia)\n",
    "end_time = time.time()\n",
    "\n",
    "\n",
    "print(\"=\"*100)\n",
    "print(results['hits'])\n",
    "print(\"=\"*100)\n",
    "print(results['aggregations'])\n",
    "print(\"=\"*100)\n",
    "print(f\" Consulta realizada en un tiempo de {str(timedelta(seconds = (end_time - start_time)))}\")\n",
    "print(\"=\"*100)"
   ]
  },
  {
   "cell_type": "markdown",
   "metadata": {},
   "source": [
    "## Agregación 2: Promedio de montos por agencia"
   ]
  },
  {
   "cell_type": "code",
   "execution_count": 87,
   "metadata": {},
   "outputs": [
    {
     "name": "stdout",
     "output_type": "stream",
     "text": [
      "====================================================================================================\n",
      "{'total': {'value': 10000, 'relation': 'gte'}, 'max_score': 1.0, 'hits': [{'_index': 'extracto_cuenta_30m_3idx', '_id': 'Vb69Z4QBPBNG2LESI3n6', '_score': 1.0, '_source': {'fecha': '2006-07-21 08:28:08', 'agencia': 'Santa Cruz', 'monto': 196956.04, 'descripcion': 'Pago en línea - Servicio de internet', 'saldo': 381738.48, 'nota': 'obcaecati aspernatur ex harum doloribus doloremque'}}, {'_index': 'extracto_cuenta_30m_3idx', '_id': 'Vr69Z4QBPBNG2LESI3n6', '_score': 1.0, '_source': {'fecha': '1968-04-30 08:20:51', 'agencia': 'Tarija', 'monto': 9057.27, 'descripcion': 'Pago en interés', 'saldo': 1074640.58, 'nota': 'aliquam ipsum qui'}}, {'_index': 'extracto_cuenta_30m_3idx', '_id': 'V769Z4QBPBNG2LESI3n6', '_score': 1.0, '_source': {'fecha': '1994-07-26 17:51:03', 'agencia': 'Chuquisaca', 'monto': 206889.3, 'descripcion': 'Retiro en efectivo', 'saldo': 8857751.66, 'nota': 'consectetur fugiat voluptates'}}, {'_index': 'extracto_cuenta_30m_3idx', '_id': 'WL69Z4QBPBNG2LESI3n6', '_score': 1.0, '_source': {'fecha': '1962-08-18 23:06:57', 'agencia': 'Tarija', 'monto': 114669.14, 'descripcion': 'Pago de cheque compensado', 'saldo': 5389451.89, 'nota': 'sequi eaque fugiat officia sit voluptatibus incidunt omnis nisi quasi'}}, {'_index': 'extracto_cuenta_30m_3idx', '_id': 'Wb69Z4QBPBNG2LESI3n6', '_score': 1.0, '_source': {'fecha': '1961-07-18 14:38:26', 'agencia': 'Santa Cruz', 'monto': 233935.71, 'descripcion': 'Pago recibo de gas', 'saldo': 6850822.73, 'nota': 'impedit'}}, {'_index': 'extracto_cuenta_30m_3idx', '_id': 'Wr69Z4QBPBNG2LESI3n6', '_score': 1.0, '_source': {'fecha': '1966-08-04 18:17:31', 'agencia': 'Cochabamba', 'monto': 390122.8, 'descripcion': 'Intereses', 'saldo': 4149375.11, 'nota': 'dolorem blanditiis animi inventore dignissimos'}}, {'_index': 'extracto_cuenta_30m_3idx', '_id': 'W769Z4QBPBNG2LESI3n6', '_score': 1.0, '_source': {'fecha': '1966-07-11 07:16:25', 'agencia': 'Tarija', 'monto': 343472.53, 'descripcion': 'Pago recibo de luz', 'saldo': 55108.07, 'nota': 'nulla iusto dolorum expedita voluptates ut sapiente aperiam ipsam facere vitae deserunt'}}, {'_index': 'extracto_cuenta_30m_3idx', '_id': 'XL69Z4QBPBNG2LESI3n6', '_score': 1.0, '_source': {'fecha': '1969-01-29 20:03:53', 'agencia': 'Pando', 'monto': 146677.03, 'descripcion': 'Apertura de cuenta corriente', 'saldo': 5034158.71, 'nota': 'illo sit accusamus animi fugiat aliquid quaerat odit a iste perspiciatis doloribus nostrum'}}, {'_index': 'extracto_cuenta_30m_3idx', '_id': 'Xb69Z4QBPBNG2LESI3n6', '_score': 1.0, '_source': {'fecha': '1952-02-27 01:25:47', 'agencia': 'La Paz', 'monto': 70996.54, 'descripcion': 'Aporte inversor', 'saldo': 1697043.51, 'nota': 'consequatur accusamus nam'}}, {'_index': 'extracto_cuenta_30m_3idx', '_id': 'Xr69Z4QBPBNG2LESI3n6', '_score': 1.0, '_source': {'fecha': '1956-11-21 02:10:01', 'agencia': 'Santa Cruz', 'monto': 297835.43, 'descripcion': 'Debito Cta por pago de Seguro', 'saldo': 8638250.91, 'nota': 'iste sapiente aliquam debitis consequuntur voluptas consequatur possimus quis maxime repudiandae dolorum'}}]}\n",
      "====================================================================================================\n",
      "{'promedio': {'doc_count_error_upper_bound': 0, 'sum_other_doc_count': 0, 'buckets': [{'key': 'Cochabamba', 'doc_count': 3752823, 'promedio': {'value': 200031.0413259359}}, {'key': 'Oruro', 'doc_count': 3751207, 'promedio': {'value': 200005.39586952777}}, {'key': 'Santa Cruz', 'doc_count': 3750900, 'promedio': {'value': 200036.02537816088}}, {'key': 'Pando', 'doc_count': 3750360, 'promedio': {'value': 199910.63758218338}}, {'key': 'Chuquisaca', 'doc_count': 3749986, 'promedio': {'value': 199982.2347865495}}, {'key': 'La Paz', 'doc_count': 3749737, 'promedio': {'value': 199878.63241903813}}, {'key': 'Tarija', 'doc_count': 3749532, 'promedio': {'value': 199954.51679758908}}, {'key': 'Beni', 'doc_count': 3745455, 'promedio': {'value': 199989.03326468446}}]}}\n",
      "====================================================================================================\n",
      " Consulta realizada en un tiempo de 0:00:03.810264\n",
      "====================================================================================================\n"
     ]
    }
   ],
   "source": [
    "start_time = time.time()\n",
    "results = promedio_montos_agencia()\n",
    "end_time = time.time()\n",
    "\n",
    "\n",
    "print(\"=\"*100)\n",
    "print(results['hits'])\n",
    "print(\"=\"*100)\n",
    "print(results['aggregations'])\n",
    "print(\"=\"*100)\n",
    "print(f\" Consulta realizada en un tiempo de {str(timedelta(seconds = (end_time - start_time)))}\")\n",
    "print(\"=\"*100)"
   ]
  }
 ],
 "metadata": {
  "kernelspec": {
   "display_name": "Python 3.9.12 64-bit",
   "language": "python",
   "name": "python3"
  },
  "language_info": {
   "codemirror_mode": {
    "name": "ipython",
    "version": 3
   },
   "file_extension": ".py",
   "mimetype": "text/x-python",
   "name": "python",
   "nbconvert_exporter": "python",
   "pygments_lexer": "ipython3",
   "version": "3.9.12"
  },
  "orig_nbformat": 4,
  "vscode": {
   "interpreter": {
    "hash": "d7e5a1f785ed82844e2da5d30522181462e1597dbd1807cbc4c5c0cc1d5a2e0b"
   }
  }
 },
 "nbformat": 4,
 "nbformat_minor": 2
}

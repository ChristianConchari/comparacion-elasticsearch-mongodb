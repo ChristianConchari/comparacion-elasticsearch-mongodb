{
 "cells": [
  {
   "cell_type": "markdown",
   "metadata": {},
   "source": [
    "# Carga de librerias"
   ]
  },
  {
   "cell_type": "code",
   "execution_count": 101,
   "metadata": {},
   "outputs": [
    {
     "name": "stdout",
     "output_type": "stream",
     "text": [
      "Connected to ElasticSearch cluster `docker-cluster`\n"
     ]
    }
   ],
   "source": [
    "from elasticsearch import Elasticsearch\n",
    "import time\n",
    "from datetime import timedelta, datetime\n",
    "from lorem_text import lorem\n",
    "\n",
    "es = Elasticsearch(\"http://127.0.0.1:9200\")\n",
    "\n",
    "print(f\"Connected to ElasticSearch cluster `{es.info().body['cluster_name']}`\")"
   ]
  },
  {
   "cell_type": "markdown",
   "metadata": {},
   "source": [
    "# Actualizaciones a la base de datos con 1 millón de registros y todos los campos indexados"
   ]
  },
  {
   "cell_type": "markdown",
   "metadata": {},
   "source": [
    "En esta sección se revisará la operación de actualización para la colección de 1 millón de documentos ya indexados"
   ]
  },
  {
   "cell_type": "code",
   "execution_count": 102,
   "metadata": {},
   "outputs": [
    {
     "data": {
      "text/plain": [
       "ObjectApiResponse({'extracto_cuenta_1m': {'mappings': {'properties': {'agencia': {'type': 'keyword'}, 'descripcion': {'type': 'text'}, 'fecha': {'type': 'date', 'format': 'yyyy-MM-dd HH:mm:ss'}, 'monto': {'type': 'float'}, 'nota': {'type': 'text'}, 'saldo': {'type': 'float'}}}}})"
      ]
     },
     "execution_count": 102,
     "metadata": {},
     "output_type": "execute_result"
    }
   ],
   "source": [
    "idx = \"extracto_cuenta_1m\"\n",
    "es.indices.get_mapping(index=idx)"
   ]
  },
  {
   "cell_type": "markdown",
   "metadata": {},
   "source": [
    "## Actualización 1: Monto por fecha"
   ]
  },
  {
   "cell_type": "markdown",
   "metadata": {},
   "source": [
    "Se actualizarán los campos monto y nota, dependiendo de una fecha especificada"
   ]
  },
  {
   "cell_type": "code",
   "execution_count": 59,
   "metadata": {},
   "outputs": [],
   "source": [
    "def actualizacion_fecha_monto(start_date, end_date, monto_actualizar):\n",
    "      from_date_str = f\"{start_date}\" + \" 00:00:00\"\n",
    "      to_date_str = f\"{end_date}\" + \" 23:59:59\"\n",
    "   \n",
    "\n",
    "      script = {\n",
    "            \"source\": f\"ctx._source['monto'] = {monto_actualizar}; ctx._source['nota'] = 'Actualización de monto por fecha'; \",\n",
    "            \"lang\": \"painless\"\n",
    "      }\n",
    "\n",
    "      query = {\n",
    "                  \"range\" : {\n",
    "                  \"fecha\": { \"gte\" : f\"{from_date_str}\", \"lte\" : f\"{to_date_str}\" },\n",
    "                  }\n",
    "      }\n",
    "\n",
    "      return es.options(request_timeout=60).update_by_query(query=query, script=script, index=idx)"
   ]
  },
  {
   "cell_type": "code",
   "execution_count": 13,
   "metadata": {},
   "outputs": [
    {
     "name": "stdout",
     "output_type": "stream",
     "text": [
      "====================================================================================================\n",
      " Se han actualizado 1175 documentos\n",
      "====================================================================================================\n",
      " Actualización realizada en un tiempo de 0:00:04.092742\n",
      "====================================================================================================\n"
     ]
    }
   ],
   "source": [
    "start_date = \"2021-07-01\"\n",
    "end_date = \"2021-07-31\"\n",
    "monto_actualizar = 7890\n",
    "\n",
    "start_time = time.time()\n",
    "results = actualizacion_fecha_monto(start_date, end_date, monto_actualizar)\n",
    "end_time = time.time()\n",
    "\n",
    "print(\"=\"*100)\n",
    "print(f\" Se han actualizado {results['total']} documentos\")\n",
    "print(\"=\"*100)\n",
    "print(f\" Actualización realizada en un tiempo de {str(timedelta(seconds = (end_time - start_time)))}\")\n",
    "print(\"=\"*100)"
   ]
  },
  {
   "cell_type": "code",
   "execution_count": 16,
   "metadata": {},
   "outputs": [
    {
     "name": "stdout",
     "output_type": "stream",
     "text": [
      "{'descripcion': 'Retención IVA', 'fecha': '2021-07-14 05:38:36', 'monto': 7890, 'saldo': 4376768.06, 'nota': 'Actualización de monto por fecha', 'agencia': 'Santa Cruz'}\n",
      "{'descripcion': 'Ingreso en efectivo', 'fecha': '2021-07-10 21:26:13', 'monto': 7890, 'saldo': 4989208.43, 'nota': 'Actualización de monto por fecha', 'agencia': 'Beni'}\n",
      "{'descripcion': 'Pago en interés', 'fecha': '2021-07-07 03:26:50', 'monto': 7890, 'saldo': 4070623.65, 'nota': 'Actualización de monto por fecha', 'agencia': 'Chuquisaca'}\n",
      "{'descripcion': 'Apertura de cuenta corriente', 'fecha': '2021-07-30 00:22:00', 'monto': 7890, 'saldo': 2384287.36, 'nota': 'Actualización de monto por fecha', 'agencia': 'Tarija'}\n",
      "{'descripcion': 'Capitalización de intereses premio', 'fecha': '2021-07-25 14:02:02', 'monto': 7890, 'saldo': 9181104.58, 'nota': 'Actualización de monto por fecha', 'agencia': 'Santa Cruz'}\n",
      "{'descripcion': 'Compra en comercio', 'fecha': '2021-07-06 03:15:50', 'monto': 7890, 'saldo': 4954872.26, 'nota': 'Actualización de monto por fecha', 'agencia': 'Pando'}\n",
      "{'descripcion': 'Transferencia de fondos de ahorros', 'fecha': '2021-07-26 19:19:21', 'monto': 7890, 'saldo': 3580057.23, 'nota': 'Actualización de monto por fecha', 'agencia': 'Oruro'}\n",
      "{'descripcion': 'Compra en comercio', 'fecha': '2021-07-28 05:38:31', 'monto': 7890, 'saldo': 7770616.92, 'nota': 'Actualización de monto por fecha', 'agencia': 'Cochabamba'}\n",
      "{'descripcion': 'Retiro en efectivo', 'fecha': '2021-07-31 13:39:13', 'monto': 7890, 'saldo': 4218776.52, 'nota': 'Actualización de monto por fecha', 'agencia': 'Cochabamba'}\n",
      "{'descripcion': 'Intereses', 'fecha': '2021-07-14 17:09:10', 'monto': 7890, 'saldo': 1199315.29, 'nota': 'Actualización de monto por fecha', 'agencia': 'Tarija'}\n",
      "Se encontraron: 1175 resultados\n"
     ]
    }
   ],
   "source": [
    "from_date_str = f\"{start_date}\" + \" 00:00:00\"\n",
    "to_date_str = f\"{end_date}\" + \" 23:59:59\"\n",
    "\n",
    "query = {\n",
    "    \"range\" : {\n",
    "                  \"fecha\": { \"gte\" : f\"{from_date_str}\", \"lte\" : f\"{to_date_str}\" },\n",
    "      }\n",
    "  }\n",
    "\n",
    "results = es.search(index=idx, query=query)\n",
    "\n",
    "for hit in results['hits']['hits']:\n",
    "    print(hit[\"_source\"])\n",
    "\n",
    "print(f\"Se encontraron: {results['hits']['total']['value']} resultados\")"
   ]
  },
  {
   "cell_type": "markdown",
   "metadata": {},
   "source": [
    "## Actualización 2: Nota por descripción y fecha"
   ]
  },
  {
   "cell_type": "markdown",
   "metadata": {},
   "source": [
    "Se actualizarán los campos monto y nota, dependiendo de una descripción especificada."
   ]
  },
  {
   "cell_type": "code",
   "execution_count": 49,
   "metadata": {},
   "outputs": [],
   "source": [
    "def actualizacion_monto_descripcion_fecha(start_date, end_date, descripcion1, descripcion2, monto_actualizar):\n",
    "    from_date_str = start_date + \" 00:00:00\"\n",
    "    to_date_str = end_date + \" 23:59:59\"\n",
    "    \n",
    "    script = {\n",
    "            \"source\": f\"ctx._source['monto'] = {monto_actualizar}; ctx._source['nota'] = 'Actualización de monto por descripción'; \",\n",
    "            \"lang\": \"painless\"\n",
    "      }\n",
    "\n",
    "\n",
    "    query = {\n",
    "        \"bool\": {\n",
    "            \"must\": [\n",
    "                {\n",
    "                    \"bool\": {\n",
    "                        \"should\": [\n",
    "                            {\"match\": {\"descripcion\": descripcion1}},\n",
    "                            {\"match\": {\"descripcion\": descripcion2}}\n",
    "                        ]\n",
    "                    }\n",
    "                },\n",
    "                {\n",
    "                    \"range\" : {\n",
    "                        \"fecha\": {\n",
    "                                \"gte\": from_date_str,\n",
    "                                \"lte\" : to_date_str \n",
    "                        },\n",
    "                    }\n",
    "                }\n",
    "            ]\n",
    "        }\n",
    "    }\n",
    "    \n",
    "    return es.options(request_timeout=30).update_by_query(query=query, script=script, index=idx)"
   ]
  },
  {
   "cell_type": "code",
   "execution_count": 104,
   "metadata": {},
   "outputs": [
    {
     "name": "stdout",
     "output_type": "stream",
     "text": [
      "====================================================================================================\n",
      " Se han actualizado 234 documentos\n",
      "====================================================================================================\n",
      " Actualización realizada en un tiempo de 0:00:05.068827\n",
      "====================================================================================================\n"
     ]
    }
   ],
   "source": [
    "start_date = \"1990-05-14\"\n",
    "end_date = \"1990-05-25\"\n",
    "descripcion1 = 'Aporte inversor'\n",
    "descripcion2 = 'Apertura de caja de ahorros'\n",
    "monto = 10.50\n",
    "\n",
    "start_time = time.time()\n",
    "results = actualizacion_monto_descripcion_fecha(start_date, end_date, descripcion1, descripcion2, monto)\n",
    "end_time = time.time()\n",
    "\n",
    "print(\"=\"*100)\n",
    "print(f\" Se han actualizado {results['total']} documentos\")\n",
    "print(\"=\"*100)\n",
    "print(f\" Actualización realizada en un tiempo de {str(timedelta(seconds = (end_time - start_time)))}\")\n",
    "print(\"=\"*100)"
   ]
  },
  {
   "cell_type": "code",
   "execution_count": 105,
   "metadata": {},
   "outputs": [
    {
     "name": "stdout",
     "output_type": "stream",
     "text": [
      "{'descripcion': 'Apertura de caja de ahorros', 'fecha': '1990-05-15 10:54:20', 'monto': 10.5, 'saldo': 9195278.66, 'nota': 'Actualización de monto por descripción', 'agencia': 'Tarija'}\n",
      "{'descripcion': 'Apertura de caja de ahorros', 'fecha': '1990-05-23 15:24:51', 'monto': 10.5, 'saldo': 7979192.79, 'nota': 'Actualización de monto por descripción', 'agencia': 'Santa Cruz'}\n",
      "{'descripcion': 'Apertura de caja de ahorros', 'fecha': '1990-05-21 19:54:52', 'monto': 10.5, 'saldo': 8282296.57, 'nota': 'Actualización de monto por descripción', 'agencia': 'Santa Cruz'}\n",
      "{'descripcion': 'Apertura de caja de ahorros', 'fecha': '1990-05-23 04:08:15', 'monto': 10.5, 'saldo': 3648083.1, 'nota': 'Actualización de monto por descripción', 'agencia': 'Pando'}\n",
      "{'descripcion': 'Apertura de caja de ahorros', 'fecha': '1990-05-18 17:11:53', 'monto': 10.5, 'saldo': 4276613.13, 'nota': 'Actualización de monto por descripción', 'agencia': 'La Paz'}\n",
      "{'descripcion': 'Apertura de caja de ahorros', 'fecha': '1990-05-20 12:46:08', 'monto': 10.5, 'saldo': 5035772.35, 'nota': 'Actualización de monto por descripción', 'agencia': 'Chuquisaca'}\n",
      "{'descripcion': 'Apertura de caja de ahorros', 'fecha': '1990-05-19 23:15:05', 'monto': 10.5, 'saldo': 9516830.8, 'nota': 'Actualización de monto por descripción', 'agencia': 'Santa Cruz'}\n",
      "{'descripcion': 'Apertura de caja de ahorros', 'fecha': '1990-05-24 12:01:55', 'monto': 10.5, 'saldo': 358814.65, 'nota': 'Actualización de monto por descripción', 'agencia': 'Beni'}\n",
      "{'descripcion': 'Apertura de caja de ahorros', 'fecha': '1990-05-22 09:38:46', 'monto': 10.5, 'saldo': 9366619.5, 'nota': 'Actualización de monto por descripción', 'agencia': 'Beni'}\n",
      "{'descripcion': 'Apertura de caja de ahorros', 'fecha': '1990-05-20 19:22:14', 'monto': 10.5, 'saldo': 6114628.72, 'nota': 'Actualización de monto por descripción', 'agencia': 'Pando'}\n",
      "Se encontraron: 234 resultados\n"
     ]
    }
   ],
   "source": [
    "from_date_str = f\"{start_date}\" + \" 00:00:00\"\n",
    "to_date_str = f\"{end_date}\" + \" 23:59:59\"\n",
    "\n",
    "query = {\n",
    "        \"bool\": {\n",
    "            \"must\": [\n",
    "                {\n",
    "                    \"bool\": {\n",
    "                        \"should\": [\n",
    "                            {\"match\": {\"descripcion\": descripcion1}},\n",
    "                            {\"match\": {\"descripcion\": descripcion2}}\n",
    "                        ]\n",
    "                    }\n",
    "                },\n",
    "                {\n",
    "                    \"range\" : {\n",
    "                        \"fecha\": {\n",
    "                                \"gte\": from_date_str,\n",
    "                                \"lte\" : to_date_str \n",
    "                        },\n",
    "                    }\n",
    "                }\n",
    "            ]\n",
    "        }\n",
    "    }\n",
    "\n",
    "results = es.search(index=idx, query=query)\n",
    "\n",
    "for hit in results['hits']['hits']:\n",
    "    print(hit[\"_source\"])\n",
    "\n",
    "print(f\"Se encontraron: {results['hits']['total']['value']} resultados\")"
   ]
  },
  {
   "cell_type": "markdown",
   "metadata": {},
   "source": [
    "## Actualización 3: Saldo por agencias, monto y descripcion"
   ]
  },
  {
   "cell_type": "markdown",
   "metadata": {},
   "source": [
    "Se actualizarán los campos monto y nota, dependiendo de una descripción especificada."
   ]
  },
  {
   "cell_type": "code",
   "execution_count": 56,
   "metadata": {},
   "outputs": [],
   "source": [
    "def actualizacion_saldo_monto_agencia(saldo, monto, agencia1, agencia2, descripcion):\n",
    "    query = {\n",
    "        \"bool\": {\n",
    "            \"must\": [\n",
    "                {\n",
    "                    \"bool\": {\n",
    "                        \"should\": [\n",
    "                            {\"match\": {\"agencia\": agencia1}},\n",
    "                            {\"match\": {\"agencia\": agencia2}}\n",
    "                        ]\n",
    "                    }\n",
    "                },\n",
    "                {\n",
    "                    \"range\" : {\n",
    "                        \"monto\": {\n",
    "                                \"lt\" : monto \n",
    "                        },\n",
    "                    }\n",
    "                },\n",
    "                {\n",
    "                    \"match\": {\"descripcion\": descripcion}\n",
    "                }\n",
    "            ]\n",
    "        }\n",
    "    }\n",
    "\n",
    "    script = {\n",
    "            \"source\": f\"ctx._source['saldo'] = {saldo}; ctx._source['nota'] = 'Actualización de saldo por agencia y monto'; \",\n",
    "            \"lang\": \"painless\"\n",
    "      }\n",
    "\n",
    "    return es.options(request_timeout=30).update_by_query(query=query, script=script, index=idx)"
   ]
  },
  {
   "cell_type": "code",
   "execution_count": 30,
   "metadata": {},
   "outputs": [
    {
     "name": "stdout",
     "output_type": "stream",
     "text": [
      "====================================================================================================\n",
      " Se han actualizado 50 documentos\n",
      "====================================================================================================\n",
      " Actualización realizada en un tiempo de 0:00:00.731463\n",
      "====================================================================================================\n"
     ]
    }
   ],
   "source": [
    "agencia1 = \"Oruro\"\n",
    "agencia2 = \"Potosi\"\n",
    "descripcion = 'Intereses'\n",
    "saldo = 1234.5\n",
    "monto = 2000\n",
    "\n",
    "start_time = time.time()\n",
    "results = actualizacion_saldo_monto_agencia(saldo, monto, agencia1, agencia2, descripcion)\n",
    "end_time = time.time()\n",
    "\n",
    "print(\"=\"*100)\n",
    "print(f\" Se han actualizado {results['total']} documentos\")\n",
    "print(\"=\"*100)\n",
    "print(f\" Actualización realizada en un tiempo de {str(timedelta(seconds = (end_time - start_time)))}\")\n",
    "print(\"=\"*100)"
   ]
  },
  {
   "cell_type": "code",
   "execution_count": 31,
   "metadata": {},
   "outputs": [
    {
     "name": "stdout",
     "output_type": "stream",
     "text": [
      "{'descripcion': 'Intereses', 'fecha': '2014-04-21 10:07:10', 'monto': 1062.11, 'saldo': 1234.5, 'nota': 'Actualización de saldo por agencia y monto', 'agencia': 'Oruro'}\n",
      "{'descripcion': 'Intereses', 'fecha': '1968-04-13 11:40:35', 'monto': 579.58, 'saldo': 1234.5, 'nota': 'Actualización de saldo por agencia y monto', 'agencia': 'Oruro'}\n",
      "{'descripcion': 'Intereses', 'fecha': '1979-03-29 21:48:29', 'monto': 1486.64, 'saldo': 1234.5, 'nota': 'Actualización de saldo por agencia y monto', 'agencia': 'Oruro'}\n",
      "{'descripcion': 'Intereses', 'fecha': '1970-04-11 01:54:56', 'monto': 1130.29, 'saldo': 1234.5, 'nota': 'Actualización de saldo por agencia y monto', 'agencia': 'Oruro'}\n",
      "{'descripcion': 'Intereses', 'fecha': '1974-02-13 07:04:30', 'monto': 1148.86, 'saldo': 1234.5, 'nota': 'Actualización de saldo por agencia y monto', 'agencia': 'Oruro'}\n",
      "{'descripcion': 'Intereses', 'fecha': '1952-08-23 01:11:59', 'monto': 648.56, 'saldo': 1234.5, 'nota': 'Actualización de saldo por agencia y monto', 'agencia': 'Oruro'}\n",
      "{'descripcion': 'Intereses', 'fecha': '1973-06-07 16:57:49', 'monto': 1165.98, 'saldo': 1234.5, 'nota': 'Actualización de saldo por agencia y monto', 'agencia': 'Oruro'}\n",
      "{'descripcion': 'Intereses', 'fecha': '1952-08-22 13:02:55', 'monto': 277.38, 'saldo': 1234.5, 'nota': 'Actualización de saldo por agencia y monto', 'agencia': 'Oruro'}\n",
      "{'descripcion': 'Intereses', 'fecha': '2007-05-09 18:10:10', 'monto': 1885.25, 'saldo': 1234.5, 'nota': 'Actualización de saldo por agencia y monto', 'agencia': 'Oruro'}\n",
      "{'descripcion': 'Intereses', 'fecha': '1992-04-07 06:59:21', 'monto': 204.84, 'saldo': 1234.5, 'nota': 'Actualización de saldo por agencia y monto', 'agencia': 'Oruro'}\n",
      "Se encontraron: 50 resultados\n"
     ]
    }
   ],
   "source": [
    "query = {\n",
    "        \"bool\": {\n",
    "            \"must\": [\n",
    "                {\n",
    "                    \"bool\": {\n",
    "                        \"should\": [\n",
    "                            {\"match\": {\"agencia\": agencia1}},\n",
    "                            {\"match\": {\"agencia\": agencia2}}\n",
    "                        ]\n",
    "                    }\n",
    "                },\n",
    "                {\n",
    "                    \"range\" : {\n",
    "                        \"monto\": {\n",
    "                                \"lt\" : monto \n",
    "                        },\n",
    "                    }\n",
    "                },\n",
    "                {\n",
    "                    \"match\": {\"descripcion\": descripcion}\n",
    "                }\n",
    "            ]\n",
    "        }\n",
    "    }\n",
    "\n",
    "results = es.search(index=idx, query=query)\n",
    "\n",
    "for hit in results['hits']['hits']:\n",
    "    print(hit[\"_source\"])\n",
    "\n",
    "print(f\"Se encontraron: {results['hits']['total']['value']} resultados\")"
   ]
  },
  {
   "cell_type": "markdown",
   "metadata": {},
   "source": [
    "| Tabla resumen de resultados | Valor obtenido |\n",
    "|-----------------------------|----------------|\n",
    "| Tiempo actualización 1      | 4.0927 s       |\n",
    "| Tiempo actualización 2      | 2.0756 s       |\n",
    "| Tiempo actualización 3      | 0.7315 s       |"
   ]
  },
  {
   "cell_type": "markdown",
   "metadata": {},
   "source": [
    "---------------------"
   ]
  },
  {
   "cell_type": "markdown",
   "metadata": {},
   "source": [
    "# Actualizaciones a la base de datos con 10 millones de registros y todos los campos indexados"
   ]
  },
  {
   "cell_type": "markdown",
   "metadata": {},
   "source": [
    "En esta sección se revisará la operación de actualización para la colección de 10 millones de documentos indexados."
   ]
  },
  {
   "cell_type": "code",
   "execution_count": 32,
   "metadata": {},
   "outputs": [
    {
     "data": {
      "text/plain": [
       "ObjectApiResponse({'extracto_cuenta_10m': {'mappings': {'properties': {'agencia': {'type': 'keyword'}, 'descripcion': {'type': 'text'}, 'fecha': {'type': 'date', 'format': 'yyyy-MM-dd HH:mm:ss'}, 'monto': {'type': 'float'}, 'nota': {'type': 'text'}, 'saldo': {'type': 'float'}}}}})"
      ]
     },
     "execution_count": 32,
     "metadata": {},
     "output_type": "execute_result"
    }
   ],
   "source": [
    "idx = \"extracto_cuenta_10m\"\n",
    "es.indices.get_mapping(index=idx)"
   ]
  },
  {
   "cell_type": "markdown",
   "metadata": {},
   "source": [
    "## Actualización 1: Monto por fecha"
   ]
  },
  {
   "cell_type": "markdown",
   "metadata": {},
   "source": [
    "Se actualizarán los campos monto y nota, dependiendo de una fecha especificada"
   ]
  },
  {
   "cell_type": "code",
   "execution_count": 60,
   "metadata": {},
   "outputs": [
    {
     "name": "stdout",
     "output_type": "stream",
     "text": [
      "====================================================================================================\n",
      " Se han actualizado 11768 documentos\n",
      "====================================================================================================\n",
      " Actualización realizada en un tiempo de 0:00:05.333148\n",
      "====================================================================================================\n"
     ]
    }
   ],
   "source": [
    "start_date = \"2010-08-01\"\n",
    "end_date = \"2010-08-31\"\n",
    "monto_actualizar = 7890\n",
    "\n",
    "start_time = time.time()\n",
    "results = actualizacion_fecha_monto(start_date, end_date, monto_actualizar)\n",
    "end_time = time.time()\n",
    "\n",
    "print(\"=\"*100)\n",
    "print(f\" Se han actualizado {results['total']} documentos\")\n",
    "print(\"=\"*100)\n",
    "print(f\" Actualización realizada en un tiempo de {str(timedelta(seconds = (end_time - start_time)))}\")\n",
    "print(\"=\"*100)"
   ]
  },
  {
   "cell_type": "code",
   "execution_count": 61,
   "metadata": {},
   "outputs": [
    {
     "name": "stdout",
     "output_type": "stream",
     "text": [
      "{'descripcion': 'Retiro en efectivo', 'fecha': '2010-08-01 03:10:35', 'monto': 7890, 'saldo': 6338413.4, 'nota': 'Actualización de monto por fecha', 'agencia': 'Tarija'}\n",
      "{'descripcion': 'Apertura de cuenta corriente', 'fecha': '2010-08-13 22:26:29', 'monto': 7890, 'saldo': 3657263.72, 'nota': 'Actualización de monto por fecha', 'agencia': 'Beni'}\n",
      "{'descripcion': 'Transferencia interbancaria SIMPLE', 'fecha': '2010-08-28 02:46:27', 'monto': 7890, 'saldo': 6609921.69, 'nota': 'Actualización de monto por fecha', 'agencia': 'Pando'}\n",
      "{'descripcion': 'Aporte inversor', 'fecha': '2010-08-12 11:18:20', 'monto': 7890, 'saldo': 4836288.31, 'nota': 'Actualización de monto por fecha', 'agencia': 'Chuquisaca'}\n",
      "{'descripcion': 'Retención IVA', 'fecha': '2010-08-24 10:42:34', 'monto': 7890, 'saldo': 9673117.63, 'nota': 'Actualización de monto por fecha', 'agencia': 'Chuquisaca'}\n",
      "{'descripcion': 'AB.CTA.P/MOVIL', 'fecha': '2010-08-04 19:18:48', 'monto': 7890, 'saldo': 4241415.5, 'nota': 'Actualización de monto por fecha', 'agencia': 'Santa Cruz'}\n",
      "{'descripcion': 'Pago en línea - Servicio de internet', 'fecha': '2010-08-30 11:40:19', 'monto': 7890, 'saldo': 6408067.45, 'nota': 'Actualización de monto por fecha', 'agencia': 'La Paz'}\n",
      "{'descripcion': 'Ingreso en efectivo', 'fecha': '2010-08-26 00:32:40', 'monto': 7890, 'saldo': 9439550.4, 'nota': 'Actualización de monto por fecha', 'agencia': 'Pando'}\n",
      "{'descripcion': 'Retención IVA', 'fecha': '2010-08-09 21:05:45', 'monto': 7890, 'saldo': 7948008.61, 'nota': 'Actualización de monto por fecha', 'agencia': 'Oruro'}\n",
      "{'descripcion': 'Debito Cta por pago de Seguro', 'fecha': '2010-08-07 13:02:54', 'monto': 7890, 'saldo': 7928232.95, 'nota': 'Actualización de monto por fecha', 'agencia': 'Oruro'}\n",
      "Se encontraron: 10000 resultados\n"
     ]
    }
   ],
   "source": [
    "from_date_str = f\"{start_date}\" + \" 00:00:00\"\n",
    "to_date_str = f\"{end_date}\" + \" 23:59:59\"\n",
    "\n",
    "query = {\n",
    "    \"range\" : {\n",
    "                  \"fecha\": { \"gte\" : f\"{from_date_str}\", \"lte\" : f\"{to_date_str}\" },\n",
    "      }\n",
    "  }\n",
    "\n",
    "results = es.search(index=idx, query=query)\n",
    "\n",
    "for hit in results['hits']['hits']:\n",
    "    print(hit[\"_source\"])\n",
    "\n",
    "print(f\"Se encontraron: {results['hits']['total']['value']} resultados\")"
   ]
  },
  {
   "cell_type": "markdown",
   "metadata": {},
   "source": [
    "## Actualización 2: Nota por descripción"
   ]
  },
  {
   "cell_type": "markdown",
   "metadata": {},
   "source": [
    "Se actualizarán los campos monto y nota, dependiendo de una descripción especificada."
   ]
  },
  {
   "cell_type": "code",
   "execution_count": 53,
   "metadata": {},
   "outputs": [
    {
     "name": "stdout",
     "output_type": "stream",
     "text": [
      "====================================================================================================\n",
      " Se han actualizado 1335 documentos\n",
      "====================================================================================================\n",
      " Actualización realizada en un tiempo de 0:00:13.778107\n",
      "====================================================================================================\n"
     ]
    }
   ],
   "source": [
    "start_date = \"1981-01-14\"\n",
    "end_date = \"1981-01-20\"\n",
    "descripcion1 = 'Aporte inversor'\n",
    "descripcion2 = 'Apertura de caja de ahorros'\n",
    "monto = 10.50\n",
    "\n",
    "start_time = time.time()\n",
    "results = actualizacion_monto_descripcion_fecha(start_date, end_date, descripcion1, descripcion2, monto)\n",
    "end_time = time.time()\n",
    "\n",
    "print(\"=\"*100)\n",
    "print(f\" Se han actualizado {results['total']} documentos\")\n",
    "print(\"=\"*100)\n",
    "print(f\" Actualización realizada en un tiempo de {str(timedelta(seconds = (end_time - start_time)))}\")\n",
    "print(\"=\"*100)"
   ]
  },
  {
   "cell_type": "code",
   "execution_count": 54,
   "metadata": {},
   "outputs": [
    {
     "name": "stdout",
     "output_type": "stream",
     "text": [
      "{'descripcion': 'Apertura de caja de ahorros', 'fecha': '1981-01-16 15:54:10', 'monto': 10.5, 'saldo': 4970158.64, 'nota': 'Actualización de monto por descripción', 'agencia': 'Tarija'}\n",
      "{'descripcion': 'Apertura de caja de ahorros', 'fecha': '1981-01-16 19:23:37', 'monto': 10.5, 'saldo': 9581197.33, 'nota': 'Actualización de monto por descripción', 'agencia': 'Santa Cruz'}\n",
      "{'descripcion': 'Apertura de caja de ahorros', 'fecha': '1981-01-18 06:43:58', 'monto': 10.5, 'saldo': 5780232.94, 'nota': 'Actualización de monto por descripción', 'agencia': 'Beni'}\n",
      "{'descripcion': 'Apertura de caja de ahorros', 'fecha': '1981-01-15 18:21:33', 'monto': 10.5, 'saldo': 1203279.79, 'nota': 'Actualización de monto por descripción', 'agencia': 'Pando'}\n",
      "{'descripcion': 'Apertura de caja de ahorros', 'fecha': '1981-01-15 21:08:07', 'monto': 10.5, 'saldo': 4815576.98, 'nota': 'Actualización de monto por descripción', 'agencia': 'Oruro'}\n",
      "{'descripcion': 'Apertura de caja de ahorros', 'fecha': '1981-01-19 10:32:23', 'monto': 10.5, 'saldo': 9779069.48, 'nota': 'Actualización de monto por descripción', 'agencia': 'Beni'}\n",
      "{'descripcion': 'Apertura de caja de ahorros', 'fecha': '1981-01-17 10:54:20', 'monto': 10.5, 'saldo': 6264169.92, 'nota': 'Actualización de monto por descripción', 'agencia': 'Oruro'}\n",
      "{'descripcion': 'Apertura de caja de ahorros', 'fecha': '1981-01-17 17:41:32', 'monto': 10.5, 'saldo': 3165558.89, 'nota': 'Actualización de monto por descripción', 'agencia': 'Chuquisaca'}\n",
      "{'descripcion': 'Apertura de caja de ahorros', 'fecha': '1981-01-20 15:48:35', 'monto': 10.5, 'saldo': 8221811.99, 'nota': 'Actualización de monto por descripción', 'agencia': 'Cochabamba'}\n",
      "{'descripcion': 'Apertura de caja de ahorros', 'fecha': '1981-01-14 02:31:45', 'monto': 10.5, 'saldo': 5857589.96, 'nota': 'Actualización de monto por descripción', 'agencia': 'Tarija'}\n",
      "Se encontraron: 1335 resultados\n"
     ]
    }
   ],
   "source": [
    "from_date_str = f\"{start_date}\" + \" 00:00:00\"\n",
    "to_date_str = f\"{end_date}\" + \" 23:59:59\"\n",
    "\n",
    "query = {\n",
    "        \"bool\": {\n",
    "            \"must\": [\n",
    "                {\n",
    "                    \"bool\": {\n",
    "                        \"should\": [\n",
    "                            {\"match\": {\"descripcion\": descripcion1}},\n",
    "                            {\"match\": {\"descripcion\": descripcion2}}\n",
    "                        ]\n",
    "                    }\n",
    "                },\n",
    "                {\n",
    "                    \"range\" : {\n",
    "                        \"fecha\": {\n",
    "                                \"gte\": from_date_str,\n",
    "                                \"lte\" : to_date_str \n",
    "                        },\n",
    "                    }\n",
    "                }\n",
    "            ]\n",
    "        }\n",
    "    }\n",
    "\n",
    "results = es.search(index=idx, query=query)\n",
    "\n",
    "for hit in results['hits']['hits']:\n",
    "    print(hit[\"_source\"])\n",
    "\n",
    "print(f\"Se encontraron: {results['hits']['total']['value']} resultados\")"
   ]
  },
  {
   "cell_type": "markdown",
   "metadata": {},
   "source": [
    "## Actualización 3: Saldo por agencias, monto y descripcion"
   ]
  },
  {
   "cell_type": "markdown",
   "metadata": {},
   "source": [
    "Se actualizarán los campos monto y nota, dependiendo de una descripción especificada."
   ]
  },
  {
   "cell_type": "code",
   "execution_count": 57,
   "metadata": {},
   "outputs": [
    {
     "name": "stdout",
     "output_type": "stream",
     "text": [
      "====================================================================================================\n",
      " Se han actualizado 496 documentos\n",
      "====================================================================================================\n",
      " Actualización realizada en un tiempo de 0:00:09.869640\n",
      "====================================================================================================\n"
     ]
    }
   ],
   "source": [
    "agencia1 = \"Oruro\"\n",
    "agencia2 = \"Potosi\"\n",
    "descripcion = 'Intereses'\n",
    "saldo = 1234.5\n",
    "monto = 2000\n",
    "\n",
    "start_time = time.time()\n",
    "results = actualizacion_saldo_monto_agencia(saldo, monto, agencia1, agencia2, descripcion)\n",
    "end_time = time.time()\n",
    "\n",
    "print(\"=\"*100)\n",
    "print(f\" Se han actualizado {results['total']} documentos\")\n",
    "print(\"=\"*100)\n",
    "print(f\" Actualización realizada en un tiempo de {str(timedelta(seconds = (end_time - start_time)))}\")\n",
    "print(\"=\"*100)"
   ]
  },
  {
   "cell_type": "code",
   "execution_count": 58,
   "metadata": {},
   "outputs": [
    {
     "name": "stdout",
     "output_type": "stream",
     "text": [
      "{'descripcion': 'Intereses', 'fecha': '2014-04-21 10:07:10', 'monto': 1062.11, 'saldo': 1234.5, 'nota': 'Actualización de saldo por agencia y monto', 'agencia': 'Oruro'}\n",
      "{'descripcion': 'Intereses', 'fecha': '1968-04-13 11:40:35', 'monto': 579.58, 'saldo': 1234.5, 'nota': 'Actualización de saldo por agencia y monto', 'agencia': 'Oruro'}\n",
      "{'descripcion': 'Intereses', 'fecha': '1979-03-29 21:48:29', 'monto': 1486.64, 'saldo': 1234.5, 'nota': 'Actualización de saldo por agencia y monto', 'agencia': 'Oruro'}\n",
      "{'descripcion': 'Intereses', 'fecha': '1970-04-11 01:54:56', 'monto': 1130.29, 'saldo': 1234.5, 'nota': 'Actualización de saldo por agencia y monto', 'agencia': 'Oruro'}\n",
      "{'descripcion': 'Intereses', 'fecha': '1974-02-13 07:04:30', 'monto': 1148.86, 'saldo': 1234.5, 'nota': 'Actualización de saldo por agencia y monto', 'agencia': 'Oruro'}\n",
      "{'descripcion': 'Intereses', 'fecha': '1952-08-23 01:11:59', 'monto': 648.56, 'saldo': 1234.5, 'nota': 'Actualización de saldo por agencia y monto', 'agencia': 'Oruro'}\n",
      "{'descripcion': 'Intereses', 'fecha': '1973-06-07 16:57:49', 'monto': 1165.98, 'saldo': 1234.5, 'nota': 'Actualización de saldo por agencia y monto', 'agencia': 'Oruro'}\n",
      "{'descripcion': 'Intereses', 'fecha': '1952-08-22 13:02:55', 'monto': 277.38, 'saldo': 1234.5, 'nota': 'Actualización de saldo por agencia y monto', 'agencia': 'Oruro'}\n",
      "{'descripcion': 'Intereses', 'fecha': '2007-05-09 18:10:10', 'monto': 1885.25, 'saldo': 1234.5, 'nota': 'Actualización de saldo por agencia y monto', 'agencia': 'Oruro'}\n",
      "{'descripcion': 'Intereses', 'fecha': '1992-04-07 06:59:21', 'monto': 204.84, 'saldo': 1234.5, 'nota': 'Actualización de saldo por agencia y monto', 'agencia': 'Oruro'}\n",
      "Se encontraron: 496 resultados\n"
     ]
    }
   ],
   "source": [
    "query = {\n",
    "        \"bool\": {\n",
    "            \"must\": [\n",
    "                {\n",
    "                    \"bool\": {\n",
    "                        \"should\": [\n",
    "                            {\"match\": {\"agencia\": agencia1}},\n",
    "                            {\"match\": {\"agencia\": agencia2}}\n",
    "                        ]\n",
    "                    }\n",
    "                },\n",
    "                {\n",
    "                    \"range\" : {\n",
    "                        \"monto\": {\n",
    "                                \"lt\" : monto \n",
    "                        },\n",
    "                    }\n",
    "                },\n",
    "                {\n",
    "                    \"match\": {\"descripcion\": descripcion}\n",
    "                }\n",
    "            ]\n",
    "        }\n",
    "    }\n",
    "\n",
    "results = es.search(index=idx, query=query)\n",
    "\n",
    "for hit in results['hits']['hits']:\n",
    "    print(hit[\"_source\"])\n",
    "\n",
    "print(f\"Se encontraron: {results['hits']['total']['value']} resultados\")"
   ]
  },
  {
   "cell_type": "markdown",
   "metadata": {},
   "source": [
    "| Tabla resumen de resultados | Valor obtenido |\n",
    "|-----------------------------|----------------|\n",
    "| Tiempo actualización 1      | 5.3331 s       |\n",
    "| Tiempo actualización 2      | 13.7781 s      |\n",
    "| Tiempo actualización 3      | 9.8696 s       |"
   ]
  },
  {
   "cell_type": "markdown",
   "metadata": {},
   "source": [
    "------------------------------------"
   ]
  },
  {
   "cell_type": "markdown",
   "metadata": {},
   "source": [
    "# Actualizaciones a la base de datos con 30 millones de registros y todos los campos indexados"
   ]
  },
  {
   "cell_type": "markdown",
   "metadata": {},
   "source": [
    "En esta sección se revisará la operación de actualización para la colección de 30 millones de documentos indexados."
   ]
  },
  {
   "cell_type": "code",
   "execution_count": 73,
   "metadata": {},
   "outputs": [
    {
     "data": {
      "text/plain": [
       "ObjectApiResponse({'extracto_cuenta_30m': {'mappings': {'properties': {'agencia': {'type': 'keyword'}, 'descripcion': {'type': 'text'}, 'fecha': {'type': 'date', 'format': 'yyyy-MM-dd HH:mm:ss'}, 'monto': {'type': 'float'}, 'nota': {'type': 'text'}, 'saldo': {'type': 'float'}}}}})"
      ]
     },
     "execution_count": 73,
     "metadata": {},
     "output_type": "execute_result"
    }
   ],
   "source": [
    "idx = \"extracto_cuenta_30m\"\n",
    "es.indices.get_mapping(index=idx)"
   ]
  },
  {
   "cell_type": "markdown",
   "metadata": {},
   "source": [
    "## Actualización 1: Monto por fecha"
   ]
  },
  {
   "cell_type": "markdown",
   "metadata": {},
   "source": [
    "Se actualizarán los campos monto y nota, dependiendo de una fecha especificada"
   ]
  },
  {
   "cell_type": "code",
   "execution_count": 77,
   "metadata": {},
   "outputs": [
    {
     "name": "stdout",
     "output_type": "stream",
     "text": [
      "====================================================================================================\n",
      " Se han actualizado 1169 documentos\n",
      "====================================================================================================\n",
      " Actualización realizada en un tiempo de 0:00:48.078708\n",
      "====================================================================================================\n"
     ]
    }
   ],
   "source": [
    "start_date = \"2009-12-01\"\n",
    "end_date = \"2009-12-01\"\n",
    "monto_actualizar = 7890\n",
    "\n",
    "start_time = time.time()\n",
    "results = actualizacion_fecha_monto(start_date, end_date, monto_actualizar)\n",
    "end_time = time.time()\n",
    "\n",
    "print(\"=\"*100)\n",
    "print(f\" Se han actualizado {results['total']} documentos\")\n",
    "print(\"=\"*100)\n",
    "print(f\" Actualización realizada en un tiempo de {str(timedelta(seconds = (end_time - start_time)))}\")\n",
    "print(\"=\"*100)"
   ]
  },
  {
   "cell_type": "code",
   "execution_count": 78,
   "metadata": {},
   "outputs": [
    {
     "name": "stdout",
     "output_type": "stream",
     "text": [
      "{'descripcion': 'Capitalización de intereses premio', 'fecha': '2009-12-01 03:21:57', 'monto': 7890, 'saldo': 4906592.89, 'nota': 'Actualización de monto por fecha', 'agencia': 'Oruro'}\n",
      "{'descripcion': 'Pago de cheque compensado', 'fecha': '2009-12-01 03:41:19', 'monto': 7890, 'saldo': 2817630.43, 'nota': 'Actualización de monto por fecha', 'agencia': 'Chuquisaca'}\n",
      "{'descripcion': 'Retención IVA', 'fecha': '2009-12-01 21:35:30', 'monto': 7890, 'saldo': 9094789.57, 'nota': 'Actualización de monto por fecha', 'agencia': 'Chuquisaca'}\n",
      "{'descripcion': 'Reintegro cajero automático', 'fecha': '2009-12-01 04:54:00', 'monto': 7890, 'saldo': 4120074.9, 'nota': 'Actualización de monto por fecha', 'agencia': 'Chuquisaca'}\n",
      "{'descripcion': 'Debito Cta por pago de Seguro', 'fecha': '2009-12-01 21:22:43', 'monto': 7890, 'saldo': 3125225.62, 'nota': 'Actualización de monto por fecha', 'agencia': 'Chuquisaca'}\n",
      "{'descripcion': 'Intereses', 'fecha': '2009-12-01 22:04:08', 'monto': 7890, 'saldo': 6444708.55, 'nota': 'Actualización de monto por fecha', 'agencia': 'Santa Cruz'}\n",
      "{'descripcion': 'Deposito a cuenta', 'fecha': '2009-12-01 22:44:50', 'monto': 7890, 'saldo': 2480373.6, 'nota': 'Actualización de monto por fecha', 'agencia': 'La Paz'}\n",
      "{'descripcion': 'Debito Cta por compra', 'fecha': '2009-12-01 08:53:00', 'monto': 7890, 'saldo': 7808776.08, 'nota': 'Actualización de monto por fecha', 'agencia': 'Beni'}\n",
      "{'descripcion': 'Cobro seguro', 'fecha': '2009-12-01 12:41:44', 'monto': 7890, 'saldo': 2260794.43, 'nota': 'Actualización de monto por fecha', 'agencia': 'Oruro'}\n",
      "{'descripcion': 'Ingreso en efectivo', 'fecha': '2009-12-01 02:07:39', 'monto': 7890, 'saldo': 9505409.68, 'nota': 'Actualización de monto por fecha', 'agencia': 'Tarija'}\n",
      "Se encontraron: 1169 resultados\n"
     ]
    }
   ],
   "source": [
    "from_date_str = f\"{start_date}\" + \" 00:00:00\"\n",
    "to_date_str = f\"{end_date}\" + \" 23:59:59\"\n",
    "\n",
    "query = {\n",
    "    \"range\" : {\n",
    "                  \"fecha\": { \"gte\" : f\"{from_date_str}\", \"lte\" : f\"{to_date_str}\" },\n",
    "      }\n",
    "  }\n",
    "\n",
    "results = es.search(index=idx, query=query)\n",
    "\n",
    "for hit in results['hits']['hits']:\n",
    "    print(hit[\"_source\"])\n",
    "\n",
    "print(f\"Se encontraron: {results['hits']['total']['value']} resultados\")"
   ]
  },
  {
   "cell_type": "markdown",
   "metadata": {},
   "source": [
    "## Actualización 2: Nota por descripción"
   ]
  },
  {
   "cell_type": "markdown",
   "metadata": {},
   "source": [
    "Se actualizarán los campos monto y nota, dependiendo de una descripción especificada."
   ]
  },
  {
   "cell_type": "code",
   "execution_count": 79,
   "metadata": {},
   "outputs": [
    {
     "name": "stdout",
     "output_type": "stream",
     "text": [
      "====================================================================================================\n",
      " Se han actualizado 545 documentos\n",
      "====================================================================================================\n",
      " Actualización realizada en un tiempo de 0:00:05.441910\n",
      "====================================================================================================\n"
     ]
    }
   ],
   "source": [
    "start_date = \"1981-01-14\"\n",
    "end_date = \"1981-01-14\"\n",
    "descripcion1 = 'Aporte inversor'\n",
    "descripcion2 = 'Apertura de caja de ahorros'\n",
    "monto = 10.50\n",
    "\n",
    "start_time = time.time()\n",
    "results = actualizacion_monto_descripcion_fecha(start_date, end_date, descripcion1, descripcion2, monto)\n",
    "end_time = time.time()\n",
    "\n",
    "print(\"=\"*100)\n",
    "print(f\" Se han actualizado {results['total']} documentos\")\n",
    "print(\"=\"*100)\n",
    "print(f\" Actualización realizada en un tiempo de {str(timedelta(seconds = (end_time - start_time)))}\")\n",
    "print(\"=\"*100)"
   ]
  },
  {
   "cell_type": "code",
   "execution_count": 80,
   "metadata": {},
   "outputs": [
    {
     "name": "stdout",
     "output_type": "stream",
     "text": [
      "{'descripcion': 'Apertura de caja de ahorros', 'fecha': '1981-01-14 14:31:27', 'monto': 10.5, 'saldo': 5574509.46, 'nota': 'Actualización de monto por descripción', 'agencia': 'Beni'}\n",
      "{'descripcion': 'Apertura de caja de ahorros', 'fecha': '1981-01-14 11:37:03', 'monto': 10.5, 'saldo': 2958007.97, 'nota': 'Actualización de monto por descripción', 'agencia': 'Cochabamba'}\n",
      "{'descripcion': 'Apertura de caja de ahorros', 'fecha': '1981-01-14 14:37:53', 'monto': 10.5, 'saldo': 6136543.39, 'nota': 'Actualización de monto por descripción', 'agencia': 'Beni'}\n",
      "{'descripcion': 'Apertura de caja de ahorros', 'fecha': '1981-01-14 18:54:04', 'monto': 10.5, 'saldo': 8080093.49, 'nota': 'Actualización de monto por descripción', 'agencia': 'Pando'}\n",
      "{'descripcion': 'Apertura de caja de ahorros', 'fecha': '1981-01-14 16:02:24', 'monto': 10.5, 'saldo': 8956844.5, 'nota': 'Actualización de monto por descripción', 'agencia': 'Chuquisaca'}\n",
      "{'descripcion': 'Apertura de caja de ahorros', 'fecha': '1981-01-14 14:16:53', 'monto': 10.5, 'saldo': 9812313.19, 'nota': 'Actualización de monto por descripción', 'agencia': 'Tarija'}\n",
      "{'descripcion': 'Apertura de caja de ahorros', 'fecha': '1981-01-14 22:15:47', 'monto': 10.5, 'saldo': 2991535.54, 'nota': 'Actualización de monto por descripción', 'agencia': 'La Paz'}\n",
      "{'descripcion': 'Apertura de caja de ahorros', 'fecha': '1981-01-14 06:43:48', 'monto': 10.5, 'saldo': 7275034.64, 'nota': 'Actualización de monto por descripción', 'agencia': 'Cochabamba'}\n",
      "{'descripcion': 'Apertura de caja de ahorros', 'fecha': '1981-01-14 00:07:57', 'monto': 10.5, 'saldo': 3015373.36, 'nota': 'Actualización de monto por descripción', 'agencia': 'Chuquisaca'}\n",
      "{'descripcion': 'Apertura de caja de ahorros', 'fecha': '1981-01-14 05:11:23', 'monto': 10.5, 'saldo': 6500246.74, 'nota': 'Actualización de monto por descripción', 'agencia': 'Cochabamba'}\n",
      "Se encontraron: 545 resultados\n"
     ]
    }
   ],
   "source": [
    "from_date_str = f\"{start_date}\" + \" 00:00:00\"\n",
    "to_date_str = f\"{end_date}\" + \" 23:59:59\"\n",
    "\n",
    "query = {\n",
    "        \"bool\": {\n",
    "            \"must\": [\n",
    "                {\n",
    "                    \"bool\": {\n",
    "                        \"should\": [\n",
    "                            {\"match\": {\"descripcion\": descripcion1}},\n",
    "                            {\"match\": {\"descripcion\": descripcion2}}\n",
    "                        ]\n",
    "                    }\n",
    "                },\n",
    "                {\n",
    "                    \"range\" : {\n",
    "                        \"fecha\": {\n",
    "                                \"gte\": from_date_str,\n",
    "                                \"lte\" : to_date_str \n",
    "                        },\n",
    "                    }\n",
    "                }\n",
    "            ]\n",
    "        }\n",
    "    }\n",
    "\n",
    "results = es.search(index=idx, query=query)\n",
    "\n",
    "for hit in results['hits']['hits']:\n",
    "    print(hit[\"_source\"])\n",
    "\n",
    "print(f\"Se encontraron: {results['hits']['total']['value']} resultados\")"
   ]
  },
  {
   "cell_type": "markdown",
   "metadata": {},
   "source": [
    "## Actualización 3: Saldo por agencias, monto y descripcion"
   ]
  },
  {
   "cell_type": "markdown",
   "metadata": {},
   "source": [
    "Se actualizarán los campos monto y nota, dependiendo de una descripción especificada."
   ]
  },
  {
   "cell_type": "code",
   "execution_count": 81,
   "metadata": {},
   "outputs": [
    {
     "name": "stdout",
     "output_type": "stream",
     "text": [
      "====================================================================================================\n",
      " Se han actualizado 1275 documentos\n",
      "====================================================================================================\n",
      " Actualización realizada en un tiempo de 0:00:03.250859\n",
      "====================================================================================================\n"
     ]
    }
   ],
   "source": [
    "agencia1 = \"Oruro\"\n",
    "agencia2 = \"Potosi\"\n",
    "descripcion = 'Intereses'\n",
    "saldo = 1234.5\n",
    "monto = 2000\n",
    "\n",
    "start_time = time.time()\n",
    "results = actualizacion_saldo_monto_agencia(saldo, monto, agencia1, agencia2, descripcion)\n",
    "end_time = time.time()\n",
    "\n",
    "print(\"=\"*100)\n",
    "print(f\" Se han actualizado {results['total']} documentos\")\n",
    "print(\"=\"*100)\n",
    "print(f\" Actualización realizada en un tiempo de {str(timedelta(seconds = (end_time - start_time)))}\")\n",
    "print(\"=\"*100)"
   ]
  },
  {
   "cell_type": "code",
   "execution_count": 82,
   "metadata": {},
   "outputs": [
    {
     "name": "stdout",
     "output_type": "stream",
     "text": [
      "{'descripcion': 'Intereses', 'fecha': '1961-08-18 10:01:42', 'monto': 1032.94, 'saldo': 1234.5, 'nota': 'Actualización de saldo por agencia y monto', 'agencia': 'Oruro'}\n",
      "{'descripcion': 'Intereses', 'fecha': '1981-08-30 12:57:39', 'monto': 941.13, 'saldo': 1234.5, 'nota': 'Actualización de saldo por agencia y monto', 'agencia': 'Oruro'}\n",
      "{'descripcion': 'Intereses', 'fecha': '1983-10-14 00:31:38', 'monto': 810.47, 'saldo': 1234.5, 'nota': 'Actualización de saldo por agencia y monto', 'agencia': 'Oruro'}\n",
      "{'descripcion': 'Intereses', 'fecha': '1967-01-21 19:24:26', 'monto': 707.38, 'saldo': 1234.5, 'nota': 'Actualización de saldo por agencia y monto', 'agencia': 'Oruro'}\n",
      "{'descripcion': 'Intereses', 'fecha': '1990-05-08 23:20:24', 'monto': 1953.31, 'saldo': 1234.5, 'nota': 'Actualización de saldo por agencia y monto', 'agencia': 'Oruro'}\n",
      "{'descripcion': 'Intereses', 'fecha': '1985-09-01 15:50:23', 'monto': 204.74, 'saldo': 1234.5, 'nota': 'Actualización de saldo por agencia y monto', 'agencia': 'Oruro'}\n",
      "{'descripcion': 'Intereses', 'fecha': '2015-06-13 14:48:32', 'monto': 539.86, 'saldo': 1234.5, 'nota': 'Actualización de saldo por agencia y monto', 'agencia': 'Oruro'}\n",
      "{'descripcion': 'Intereses', 'fecha': '1991-05-27 00:19:22', 'monto': 862.45, 'saldo': 1234.5, 'nota': 'Actualización de saldo por agencia y monto', 'agencia': 'Oruro'}\n",
      "{'descripcion': 'Intereses', 'fecha': '1966-03-20 00:31:42', 'monto': 1613.93, 'saldo': 1234.5, 'nota': 'Actualización de saldo por agencia y monto', 'agencia': 'Oruro'}\n",
      "{'descripcion': 'Intereses', 'fecha': '1956-10-30 03:26:23', 'monto': 645.6, 'saldo': 1234.5, 'nota': 'Actualización de saldo por agencia y monto', 'agencia': 'Oruro'}\n",
      "Se encontraron: 1275 resultados\n"
     ]
    }
   ],
   "source": [
    "query = {\n",
    "        \"bool\": {\n",
    "            \"must\": [\n",
    "                {\n",
    "                    \"bool\": {\n",
    "                        \"should\": [\n",
    "                            {\"match\": {\"agencia\": agencia1}},\n",
    "                            {\"match\": {\"agencia\": agencia2}}\n",
    "                        ]\n",
    "                    }\n",
    "                },\n",
    "                {\n",
    "                    \"range\" : {\n",
    "                        \"monto\": {\n",
    "                                \"lt\" : monto \n",
    "                        },\n",
    "                    }\n",
    "                },\n",
    "                {\n",
    "                    \"match\": {\"descripcion\": descripcion}\n",
    "                }\n",
    "            ]\n",
    "        }\n",
    "    }\n",
    "\n",
    "results = es.search(index=idx, query=query)\n",
    "\n",
    "for hit in results['hits']['hits']:\n",
    "    print(hit[\"_source\"])\n",
    "\n",
    "print(f\"Se encontraron: {results['hits']['total']['value']} resultados\")"
   ]
  },
  {
   "cell_type": "markdown",
   "metadata": {},
   "source": [
    "| Tabla resumen de resultados | Valor obtenido |\n",
    "|-----------------------------|----------------|\n",
    "| Tiempo actualización 1      | 48.0787 s      |\n",
    "| Tiempo actualización 2      | 5.4419 s       |\n",
    "| Tiempo actualización 3      | 3.2508 s       |"
   ]
  },
  {
   "cell_type": "markdown",
   "metadata": {},
   "source": [
    "--------------------"
   ]
  },
  {
   "cell_type": "markdown",
   "metadata": {},
   "source": [
    "# Actualizaciones a la base de datos con 10 millones de registros y 3 campos indexados (fecha, descripcion, nota)"
   ]
  },
  {
   "cell_type": "markdown",
   "metadata": {},
   "source": [
    "En esta sección se revisará la operación de actualización para la colección de 10 millones de documentos indexados en tres campos: fecha, descripcion, nota."
   ]
  },
  {
   "cell_type": "code",
   "execution_count": 83,
   "metadata": {},
   "outputs": [
    {
     "data": {
      "text/plain": [
       "ObjectApiResponse({'extracto_cuenta_10m_3idx': {'mappings': {'properties': {'agencia': {'type': 'keyword', 'index': False}, 'descripcion': {'type': 'text'}, 'fecha': {'type': 'date', 'format': 'yyyy-MM-dd HH:mm:ss'}, 'monto': {'type': 'float', 'index': False}, 'nota': {'type': 'text'}, 'saldo': {'type': 'float', 'index': False}}}}})"
      ]
     },
     "execution_count": 83,
     "metadata": {},
     "output_type": "execute_result"
    }
   ],
   "source": [
    "idx = \"extracto_cuenta_10m_3idx\"\n",
    "es.indices.get_mapping(index=idx)"
   ]
  },
  {
   "cell_type": "markdown",
   "metadata": {},
   "source": [
    "## Actualización 1: Monto por fecha"
   ]
  },
  {
   "cell_type": "markdown",
   "metadata": {},
   "source": [
    "Se actualizarán los campos monto y nota, dependiendo de una fecha especificada"
   ]
  },
  {
   "cell_type": "code",
   "execution_count": 86,
   "metadata": {},
   "outputs": [
    {
     "name": "stdout",
     "output_type": "stream",
     "text": [
      "====================================================================================================\n",
      " Se han actualizado 2021 documentos\n",
      "====================================================================================================\n",
      " Actualización realizada en un tiempo de 0:00:28.189595\n",
      "====================================================================================================\n"
     ]
    }
   ],
   "source": [
    "start_date = \"2009-12-01\"\n",
    "end_date = \"2009-12-05\"\n",
    "monto_actualizar = 7890\n",
    "\n",
    "start_time = time.time()\n",
    "results = actualizacion_fecha_monto(start_date, end_date, monto_actualizar)\n",
    "end_time = time.time()\n",
    "\n",
    "print(\"=\"*100)\n",
    "print(f\" Se han actualizado {results['total']} documentos\")\n",
    "print(\"=\"*100)\n",
    "print(f\" Actualización realizada en un tiempo de {str(timedelta(seconds = (end_time - start_time)))}\")\n",
    "print(\"=\"*100)"
   ]
  },
  {
   "cell_type": "code",
   "execution_count": 87,
   "metadata": {},
   "outputs": [
    {
     "name": "stdout",
     "output_type": "stream",
     "text": [
      "{'descripcion': 'Capitalización de intereses premio', 'fecha': '2009-12-03 01:22:10', 'monto': 7890, 'saldo': 5782096.86, 'nota': 'Actualización de monto por fecha', 'agencia': 'Cochabamba'}\n",
      "{'descripcion': 'Capitalización de intereses premio', 'fecha': '2009-12-04 18:40:23', 'monto': 7890, 'saldo': 5512900.73, 'nota': 'Actualización de monto por fecha', 'agencia': 'Chuquisaca'}\n",
      "{'descripcion': 'Retiro en efectivo', 'fecha': '2009-12-03 15:09:23', 'monto': 7890, 'saldo': 5977062.44, 'nota': 'Actualización de monto por fecha', 'agencia': 'Chuquisaca'}\n",
      "{'descripcion': 'Ingreso en efectivo', 'fecha': '2009-12-03 11:33:15', 'monto': 7890, 'saldo': 783330.78, 'nota': 'Actualización de monto por fecha', 'agencia': 'Oruro'}\n",
      "{'descripcion': 'Capitalización de intereses premio', 'fecha': '2009-12-01 03:21:57', 'monto': 7890, 'saldo': 4906592.89, 'nota': 'Actualización de monto por fecha', 'agencia': 'Oruro'}\n",
      "{'descripcion': 'Deposito a cuenta', 'fecha': '2009-12-04 12:22:41', 'monto': 7890, 'saldo': 1645008.07, 'nota': 'Actualización de monto por fecha', 'agencia': 'Santa Cruz'}\n",
      "{'descripcion': 'Retención IVA', 'fecha': '2009-12-05 03:39:22', 'monto': 7890, 'saldo': 1316067.59, 'nota': 'Actualización de monto por fecha', 'agencia': 'Cochabamba'}\n",
      "{'descripcion': 'Reintegro cajero automático', 'fecha': '2009-12-03 12:12:39', 'monto': 7890, 'saldo': 4160998.22, 'nota': 'Actualización de monto por fecha', 'agencia': 'Cochabamba'}\n",
      "{'descripcion': 'Pago recibo de gas', 'fecha': '2009-12-02 06:17:41', 'monto': 7890, 'saldo': 8717259.65, 'nota': 'Actualización de monto por fecha', 'agencia': 'Oruro'}\n",
      "{'descripcion': 'Pago recibo de gas', 'fecha': '2009-12-03 19:07:28', 'monto': 7890, 'saldo': 8607481.49, 'nota': 'Actualización de monto por fecha', 'agencia': 'Pando'}\n",
      "Se encontraron: 2021 resultados\n"
     ]
    }
   ],
   "source": [
    "from_date_str = f\"{start_date}\" + \" 00:00:00\"\n",
    "to_date_str = f\"{end_date}\" + \" 23:59:59\"\n",
    "\n",
    "query = {\n",
    "    \"range\" : {\n",
    "                  \"fecha\": { \"gte\" : f\"{from_date_str}\", \"lte\" : f\"{to_date_str}\" },\n",
    "      }\n",
    "  }\n",
    "\n",
    "results = es.search(index=idx, query=query)\n",
    "\n",
    "for hit in results['hits']['hits']:\n",
    "    print(hit[\"_source\"])\n",
    "\n",
    "print(f\"Se encontraron: {results['hits']['total']['value']} resultados\")"
   ]
  },
  {
   "cell_type": "code",
   "execution_count": 88,
   "metadata": {},
   "outputs": [
    {
     "name": "stdout",
     "output_type": "stream",
     "text": [
      "====================================================================================================\n",
      " Se han actualizado 201 documentos\n",
      "====================================================================================================\n",
      " Actualización realizada en un tiempo de 0:00:02.707747\n",
      "====================================================================================================\n"
     ]
    }
   ],
   "source": [
    "start_date = \"1981-01-14\"\n",
    "end_date = \"1981-01-14\"\n",
    "descripcion1 = 'Aporte inversor'\n",
    "descripcion2 = 'Apertura de caja de ahorros'\n",
    "monto = 10.50\n",
    "\n",
    "start_time = time.time()\n",
    "results = actualizacion_monto_descripcion_fecha(start_date, end_date, descripcion1, descripcion2, monto)\n",
    "end_time = time.time()\n",
    "\n",
    "print(\"=\"*100)\n",
    "print(f\" Se han actualizado {results['total']} documentos\")\n",
    "print(\"=\"*100)\n",
    "print(f\" Actualización realizada en un tiempo de {str(timedelta(seconds = (end_time - start_time)))}\")\n",
    "print(\"=\"*100)"
   ]
  },
  {
   "cell_type": "code",
   "execution_count": 89,
   "metadata": {},
   "outputs": [
    {
     "name": "stdout",
     "output_type": "stream",
     "text": [
      "{'descripcion': 'Apertura de caja de ahorros', 'fecha': '1981-01-14 02:31:45', 'monto': 10.5, 'saldo': 5857589.96, 'nota': 'Actualización de monto por descripción', 'agencia': 'Tarija'}\n",
      "{'descripcion': 'Apertura de caja de ahorros', 'fecha': '1981-01-14 20:58:41', 'monto': 10.5, 'saldo': 232370.51, 'nota': 'Actualización de monto por descripción', 'agencia': 'Tarija'}\n",
      "{'descripcion': 'Apertura de caja de ahorros', 'fecha': '1981-01-14 05:03:32', 'monto': 10.5, 'saldo': 2830562.61, 'nota': 'Actualización de monto por descripción', 'agencia': 'Santa Cruz'}\n",
      "{'descripcion': 'Apertura de caja de ahorros', 'fecha': '1981-01-14 19:14:06', 'monto': 10.5, 'saldo': 847023.48, 'nota': 'Actualización de monto por descripción', 'agencia': 'La Paz'}\n",
      "{'descripcion': 'Apertura de caja de ahorros', 'fecha': '1981-01-14 13:13:01', 'monto': 10.5, 'saldo': 3098863.51, 'nota': 'Actualización de monto por descripción', 'agencia': 'Pando'}\n",
      "{'descripcion': 'Apertura de caja de ahorros', 'fecha': '1981-01-14 00:57:55', 'monto': 10.5, 'saldo': 5169909.65, 'nota': 'Actualización de monto por descripción', 'agencia': 'Tarija'}\n",
      "{'descripcion': 'Apertura de caja de ahorros', 'fecha': '1981-01-14 05:40:39', 'monto': 10.5, 'saldo': 5699428.25, 'nota': 'Actualización de monto por descripción', 'agencia': 'Chuquisaca'}\n",
      "{'descripcion': 'Apertura de caja de ahorros', 'fecha': '1981-01-14 10:09:06', 'monto': 10.5, 'saldo': 8201326.65, 'nota': 'Actualización de monto por descripción', 'agencia': 'Chuquisaca'}\n",
      "{'descripcion': 'Apertura de caja de ahorros', 'fecha': '1981-01-14 00:15:59', 'monto': 10.5, 'saldo': 9695933.53, 'nota': 'Actualización de monto por descripción', 'agencia': 'Santa Cruz'}\n",
      "{'descripcion': 'Apertura de caja de ahorros', 'fecha': '1981-01-14 04:34:34', 'monto': 10.5, 'saldo': 8692916.66, 'nota': 'Actualización de monto por descripción', 'agencia': 'Santa Cruz'}\n",
      "Se encontraron: 201 resultados\n"
     ]
    }
   ],
   "source": [
    "from_date_str = f\"{start_date}\" + \" 00:00:00\"\n",
    "to_date_str = f\"{end_date}\" + \" 23:59:59\"\n",
    "\n",
    "query = {\n",
    "        \"bool\": {\n",
    "            \"must\": [\n",
    "                {\n",
    "                    \"bool\": {\n",
    "                        \"should\": [\n",
    "                            {\"match\": {\"descripcion\": descripcion1}},\n",
    "                            {\"match\": {\"descripcion\": descripcion2}}\n",
    "                        ]\n",
    "                    }\n",
    "                },\n",
    "                {\n",
    "                    \"range\" : {\n",
    "                        \"fecha\": {\n",
    "                                \"gte\": from_date_str,\n",
    "                                \"lte\" : to_date_str \n",
    "                        },\n",
    "                    }\n",
    "                }\n",
    "            ]\n",
    "        }\n",
    "    }\n",
    "\n",
    "results = es.search(index=idx, query=query)\n",
    "\n",
    "for hit in results['hits']['hits']:\n",
    "    print(hit[\"_source\"])\n",
    "\n",
    "print(f\"Se encontraron: {results['hits']['total']['value']} resultados\")"
   ]
  },
  {
   "cell_type": "markdown",
   "metadata": {},
   "source": [
    "## Actualización 3: Saldo por agencias, monto y descripcion"
   ]
  },
  {
   "cell_type": "markdown",
   "metadata": {},
   "source": [
    "Se actualizarán los campos monto y nota, dependiendo de una descripción especificada."
   ]
  },
  {
   "cell_type": "code",
   "execution_count": 90,
   "metadata": {},
   "outputs": [
    {
     "name": "stdout",
     "output_type": "stream",
     "text": [
      "====================================================================================================\n",
      " Se han actualizado 453 documentos\n",
      "====================================================================================================\n",
      " Actualización realizada en un tiempo de 0:00:05.372324\n",
      "====================================================================================================\n"
     ]
    }
   ],
   "source": [
    "agencia1 = \"Oruro\"\n",
    "agencia2 = \"Potosi\"\n",
    "descripcion = 'Intereses'\n",
    "saldo = 1234.5\n",
    "monto = 2000\n",
    "\n",
    "start_time = time.time()\n",
    "results = actualizacion_saldo_monto_agencia(saldo, monto, agencia1, agencia2, descripcion)\n",
    "end_time = time.time()\n",
    "\n",
    "print(\"=\"*100)\n",
    "print(f\" Se han actualizado {results['total']} documentos\")\n",
    "print(\"=\"*100)\n",
    "print(f\" Actualización realizada en un tiempo de {str(timedelta(seconds = (end_time - start_time)))}\")\n",
    "print(\"=\"*100)"
   ]
  },
  {
   "cell_type": "code",
   "execution_count": 91,
   "metadata": {},
   "outputs": [
    {
     "name": "stdout",
     "output_type": "stream",
     "text": [
      "{'descripcion': 'Intereses', 'fecha': '2014-04-21 10:07:10', 'monto': 1062.11, 'saldo': 1234.5, 'nota': 'Actualización de saldo por agencia y monto', 'agencia': 'Oruro'}\n",
      "{'descripcion': 'Intereses', 'fecha': '1968-04-13 11:40:35', 'monto': 579.58, 'saldo': 1234.5, 'nota': 'Actualización de saldo por agencia y monto', 'agencia': 'Oruro'}\n",
      "{'descripcion': 'Intereses', 'fecha': '1979-03-29 21:48:29', 'monto': 1486.64, 'saldo': 1234.5, 'nota': 'Actualización de saldo por agencia y monto', 'agencia': 'Oruro'}\n",
      "{'descripcion': 'Intereses', 'fecha': '1970-04-11 01:54:56', 'monto': 1130.29, 'saldo': 1234.5, 'nota': 'Actualización de saldo por agencia y monto', 'agencia': 'Oruro'}\n",
      "{'descripcion': 'Intereses', 'fecha': '1974-02-13 07:04:30', 'monto': 1148.86, 'saldo': 1234.5, 'nota': 'Actualización de saldo por agencia y monto', 'agencia': 'Oruro'}\n",
      "{'descripcion': 'Intereses', 'fecha': '1952-08-23 01:11:59', 'monto': 648.56, 'saldo': 1234.5, 'nota': 'Actualización de saldo por agencia y monto', 'agencia': 'Oruro'}\n",
      "{'descripcion': 'Intereses', 'fecha': '1973-06-07 16:57:49', 'monto': 1165.98, 'saldo': 1234.5, 'nota': 'Actualización de saldo por agencia y monto', 'agencia': 'Oruro'}\n",
      "{'descripcion': 'Intereses', 'fecha': '1952-08-22 13:02:55', 'monto': 277.38, 'saldo': 1234.5, 'nota': 'Actualización de saldo por agencia y monto', 'agencia': 'Oruro'}\n",
      "{'descripcion': 'Intereses', 'fecha': '2007-05-09 18:10:10', 'monto': 1885.25, 'saldo': 1234.5, 'nota': 'Actualización de saldo por agencia y monto', 'agencia': 'Oruro'}\n",
      "{'descripcion': 'Intereses', 'fecha': '1992-04-07 06:59:21', 'monto': 204.84, 'saldo': 1234.5, 'nota': 'Actualización de saldo por agencia y monto', 'agencia': 'Oruro'}\n",
      "Se encontraron: 453 resultados\n"
     ]
    }
   ],
   "source": [
    "query = {\n",
    "        \"bool\": {\n",
    "            \"must\": [\n",
    "                {\n",
    "                    \"bool\": {\n",
    "                        \"should\": [\n",
    "                            {\"match\": {\"agencia\": agencia1}},\n",
    "                            {\"match\": {\"agencia\": agencia2}}\n",
    "                        ]\n",
    "                    }\n",
    "                },\n",
    "                {\n",
    "                    \"range\" : {\n",
    "                        \"monto\": {\n",
    "                                \"lt\" : monto \n",
    "                        },\n",
    "                    }\n",
    "                },\n",
    "                {\n",
    "                    \"match\": {\"descripcion\": descripcion}\n",
    "                }\n",
    "            ]\n",
    "        }\n",
    "    }\n",
    "\n",
    "results = es.search(index=idx, query=query)\n",
    "\n",
    "for hit in results['hits']['hits']:\n",
    "    print(hit[\"_source\"])\n",
    "\n",
    "print(f\"Se encontraron: {results['hits']['total']['value']} resultados\")"
   ]
  },
  {
   "cell_type": "markdown",
   "metadata": {},
   "source": [
    "| Tabla resumen de resultados | Valor obtenido |\n",
    "|-----------------------------|----------------|\n",
    "| Tiempo actualización 1      | 28.1896 s      |\n",
    "| Tiempo actualización 2      | 2.7077 s       |\n",
    "| Tiempo actualización 3      | 5.3723 s       |"
   ]
  },
  {
   "cell_type": "markdown",
   "metadata": {},
   "source": [
    "----------------------------------"
   ]
  },
  {
   "cell_type": "markdown",
   "metadata": {},
   "source": [
    "# Actualizaciones a la base de datos con 30 millones de registros y todos los campos indexados"
   ]
  },
  {
   "cell_type": "markdown",
   "metadata": {},
   "source": [
    "En esta sección se revisará la operación de actualización para la colección de 30 millones de documentos indexados."
   ]
  },
  {
   "cell_type": "code",
   "execution_count": 92,
   "metadata": {},
   "outputs": [
    {
     "data": {
      "text/plain": [
       "ObjectApiResponse({'extracto_cuenta_30m_3idx': {'mappings': {'properties': {'agencia': {'type': 'keyword', 'index': False}, 'descripcion': {'type': 'text'}, 'fecha': {'type': 'date', 'format': 'yyyy-MM-dd HH:mm:ss'}, 'monto': {'type': 'float', 'index': False}, 'nota': {'type': 'text'}, 'saldo': {'type': 'float', 'index': False}}}}})"
      ]
     },
     "execution_count": 92,
     "metadata": {},
     "output_type": "execute_result"
    }
   ],
   "source": [
    "idx = \"extracto_cuenta_30m_3idx\"\n",
    "es.indices.get_mapping(index=idx)"
   ]
  },
  {
   "cell_type": "markdown",
   "metadata": {},
   "source": [
    "## Actualización 1: Monto por fecha"
   ]
  },
  {
   "cell_type": "markdown",
   "metadata": {},
   "source": [
    "Se actualizarán los campos monto y nota, dependiendo de una fecha especificada"
   ]
  },
  {
   "cell_type": "code",
   "execution_count": 94,
   "metadata": {},
   "outputs": [
    {
     "name": "stdout",
     "output_type": "stream",
     "text": [
      "====================================================================================================\n",
      " Se han actualizado 1118 documentos\n",
      "====================================================================================================\n",
      " Actualización realizada en un tiempo de 0:00:34.923516\n",
      "====================================================================================================\n"
     ]
    }
   ],
   "source": [
    "start_date = \"2008-12-01\"\n",
    "end_date = \"2008-12-01\"\n",
    "monto_actualizar = 7890\n",
    "\n",
    "start_time = time.time()\n",
    "results = actualizacion_fecha_monto(start_date, end_date, monto_actualizar)\n",
    "end_time = time.time()\n",
    "\n",
    "print(\"=\"*100)\n",
    "print(f\" Se han actualizado {results['total']} documentos\")\n",
    "print(\"=\"*100)\n",
    "print(f\" Actualización realizada en un tiempo de {str(timedelta(seconds = (end_time - start_time)))}\")\n",
    "print(\"=\"*100)"
   ]
  },
  {
   "cell_type": "code",
   "execution_count": 95,
   "metadata": {},
   "outputs": [
    {
     "name": "stdout",
     "output_type": "stream",
     "text": [
      "{'descripcion': 'Pago de servicio telefónico', 'fecha': '2008-12-01 01:03:01', 'monto': 7890, 'saldo': 5406024.36, 'nota': 'Actualización de monto por fecha', 'agencia': 'Beni'}\n",
      "{'descripcion': 'Compra en comercio', 'fecha': '2008-12-01 22:31:57', 'monto': 7890, 'saldo': 8919887.11, 'nota': 'Actualización de monto por fecha', 'agencia': 'Cochabamba'}\n",
      "{'descripcion': 'Retención IVA', 'fecha': '2008-12-01 23:43:08', 'monto': 7890, 'saldo': 9263142.44, 'nota': 'Actualización de monto por fecha', 'agencia': 'La Paz'}\n",
      "{'descripcion': 'AB.CTA.P/MOVIL', 'fecha': '2008-12-01 19:13:28', 'monto': 7890, 'saldo': 1458272.52, 'nota': 'Actualización de monto por fecha', 'agencia': 'Pando'}\n",
      "{'descripcion': 'Pago en línea - Servicio de internet', 'fecha': '2008-12-01 21:51:43', 'monto': 7890, 'saldo': 9359827.69, 'nota': 'Actualización de monto por fecha', 'agencia': 'La Paz'}\n",
      "{'descripcion': 'Pago recibo de luz', 'fecha': '2008-12-01 21:47:58', 'monto': 7890, 'saldo': 4318437.33, 'nota': 'Actualización de monto por fecha', 'agencia': 'Santa Cruz'}\n",
      "{'descripcion': 'Pago de nómina', 'fecha': '2008-12-01 19:20:13', 'monto': 7890, 'saldo': 3883154.8, 'nota': 'Actualización de monto por fecha', 'agencia': 'Cochabamba'}\n",
      "{'descripcion': 'Debito Cta por ACH', 'fecha': '2008-12-01 14:09:26', 'monto': 7890, 'saldo': 3797108.82, 'nota': 'Actualización de monto por fecha', 'agencia': 'Chuquisaca'}\n",
      "{'descripcion': 'Reintegro cajero automático', 'fecha': '2008-12-01 17:01:28', 'monto': 7890, 'saldo': 3447634.08, 'nota': 'Actualización de monto por fecha', 'agencia': 'Chuquisaca'}\n",
      "{'descripcion': 'Intereses', 'fecha': '2008-12-01 15:43:37', 'monto': 7890, 'saldo': 9266055.31, 'nota': 'Actualización de monto por fecha', 'agencia': 'Oruro'}\n",
      "Se encontraron: 1118 resultados\n"
     ]
    }
   ],
   "source": [
    "from_date_str = f\"{start_date}\" + \" 00:00:00\"\n",
    "to_date_str = f\"{end_date}\" + \" 23:59:59\"\n",
    "\n",
    "query = {\n",
    "    \"range\" : {\n",
    "                  \"fecha\": { \"gte\" : f\"{from_date_str}\", \"lte\" : f\"{to_date_str}\" },\n",
    "      }\n",
    "  }\n",
    "\n",
    "results = es.search(index=idx, query=query)\n",
    "\n",
    "for hit in results['hits']['hits']:\n",
    "    print(hit[\"_source\"])\n",
    "\n",
    "print(f\"Se encontraron: {results['hits']['total']['value']} resultados\")"
   ]
  },
  {
   "cell_type": "markdown",
   "metadata": {},
   "source": [
    "## Actualización 2: Nota por descripción\n",
    "Se actualizarán los campos monto y nota, dependiendo de una descripción especificada."
   ]
  },
  {
   "cell_type": "code",
   "execution_count": 96,
   "metadata": {},
   "outputs": [
    {
     "name": "stdout",
     "output_type": "stream",
     "text": [
      "====================================================================================================\n",
      " Se han actualizado 545 documentos\n",
      "====================================================================================================\n",
      " Actualización realizada en un tiempo de 0:00:29.347907\n",
      "====================================================================================================\n"
     ]
    }
   ],
   "source": [
    "start_date = \"1981-01-14\"\n",
    "end_date = \"1981-01-14\"\n",
    "descripcion1 = 'Aporte inversor'\n",
    "descripcion2 = 'Apertura de caja de ahorros'\n",
    "monto = 10.50\n",
    "\n",
    "start_time = time.time()\n",
    "results = actualizacion_monto_descripcion_fecha(start_date, end_date, descripcion1, descripcion2, monto)\n",
    "end_time = time.time()\n",
    "\n",
    "print(\"=\"*100)\n",
    "print(f\" Se han actualizado {results['total']} documentos\")\n",
    "print(\"=\"*100)\n",
    "print(f\" Actualización realizada en un tiempo de {str(timedelta(seconds = (end_time - start_time)))}\")\n",
    "print(\"=\"*100)"
   ]
  },
  {
   "cell_type": "code",
   "execution_count": 97,
   "metadata": {},
   "outputs": [
    {
     "name": "stdout",
     "output_type": "stream",
     "text": [
      "{'descripcion': 'Apertura de caja de ahorros', 'fecha': '1981-01-14 02:31:45', 'monto': 10.5, 'saldo': 5857589.96, 'nota': 'Actualización de monto por descripción', 'agencia': 'Tarija'}\n",
      "{'descripcion': 'Apertura de caja de ahorros', 'fecha': '1981-01-14 20:58:41', 'monto': 10.5, 'saldo': 232370.51, 'nota': 'Actualización de monto por descripción', 'agencia': 'Tarija'}\n",
      "{'descripcion': 'Apertura de caja de ahorros', 'fecha': '1981-01-14 05:03:32', 'monto': 10.5, 'saldo': 2830562.61, 'nota': 'Actualización de monto por descripción', 'agencia': 'Santa Cruz'}\n",
      "{'descripcion': 'Apertura de caja de ahorros', 'fecha': '1981-01-14 16:22:45', 'monto': 10.5, 'saldo': 9903779.97, 'nota': 'Actualización de monto por descripción', 'agencia': 'Santa Cruz'}\n",
      "{'descripcion': 'Apertura de caja de ahorros', 'fecha': '1981-01-14 14:22:02', 'monto': 10.5, 'saldo': 4603146.48, 'nota': 'Actualización de monto por descripción', 'agencia': 'Santa Cruz'}\n",
      "{'descripcion': 'Apertura de caja de ahorros', 'fecha': '1981-01-14 05:40:39', 'monto': 10.5, 'saldo': 5699428.25, 'nota': 'Actualización de monto por descripción', 'agencia': 'Chuquisaca'}\n",
      "{'descripcion': 'Apertura de caja de ahorros', 'fecha': '1981-01-14 10:09:06', 'monto': 10.5, 'saldo': 8201326.65, 'nota': 'Actualización de monto por descripción', 'agencia': 'Chuquisaca'}\n",
      "{'descripcion': 'Apertura de caja de ahorros', 'fecha': '1981-01-14 14:31:27', 'monto': 10.5, 'saldo': 5574509.46, 'nota': 'Actualización de monto por descripción', 'agencia': 'Beni'}\n",
      "{'descripcion': 'Apertura de caja de ahorros', 'fecha': '1981-01-14 04:34:34', 'monto': 10.5, 'saldo': 8692916.66, 'nota': 'Actualización de monto por descripción', 'agencia': 'Santa Cruz'}\n",
      "{'descripcion': 'Apertura de caja de ahorros', 'fecha': '1981-01-14 15:15:43', 'monto': 10.5, 'saldo': 9988466.19, 'nota': 'Actualización de monto por descripción', 'agencia': 'Cochabamba'}\n",
      "Se encontraron: 545 resultados\n"
     ]
    }
   ],
   "source": [
    "from_date_str = f\"{start_date}\" + \" 00:00:00\"\n",
    "to_date_str = f\"{end_date}\" + \" 23:59:59\"\n",
    "\n",
    "query = {\n",
    "        \"bool\": {\n",
    "            \"must\": [\n",
    "                {\n",
    "                    \"bool\": {\n",
    "                        \"should\": [\n",
    "                            {\"match\": {\"descripcion\": descripcion1}},\n",
    "                            {\"match\": {\"descripcion\": descripcion2}}\n",
    "                        ]\n",
    "                    }\n",
    "                },\n",
    "                {\n",
    "                    \"range\" : {\n",
    "                        \"fecha\": {\n",
    "                                \"gte\": from_date_str,\n",
    "                                \"lte\" : to_date_str \n",
    "                        },\n",
    "                    }\n",
    "                }\n",
    "            ]\n",
    "        }\n",
    "    }\n",
    "\n",
    "results = es.search(index=idx, query=query)\n",
    "\n",
    "for hit in results['hits']['hits']:\n",
    "    print(hit[\"_source\"])\n",
    "\n",
    "print(f\"Se encontraron: {results['hits']['total']['value']} resultados\")"
   ]
  },
  {
   "cell_type": "markdown",
   "metadata": {},
   "source": [
    "## Actualización 3: Saldo por agencias, monto y descripcion"
   ]
  },
  {
   "cell_type": "markdown",
   "metadata": {},
   "source": [
    "Se actualizarán los campos monto y nota, dependiendo de una descripción especificada."
   ]
  },
  {
   "cell_type": "code",
   "execution_count": 99,
   "metadata": {},
   "outputs": [
    {
     "name": "stdout",
     "output_type": "stream",
     "text": [
      "====================================================================================================\n",
      " Se han actualizado 119 documentos\n",
      "====================================================================================================\n",
      " Actualización realizada en un tiempo de 0:00:01.960684\n",
      "====================================================================================================\n"
     ]
    }
   ],
   "source": [
    "agencia1 = \"Oruro\"\n",
    "agencia2 = \"Potosi\"\n",
    "descripcion = 'Intereses'\n",
    "saldo = 1234.5\n",
    "monto = 200\n",
    "\n",
    "start_time = time.time()\n",
    "results = actualizacion_saldo_monto_agencia(saldo, monto, agencia1, agencia2, descripcion)\n",
    "end_time = time.time()\n",
    "\n",
    "print(\"=\"*100)\n",
    "print(f\" Se han actualizado {results['total']} documentos\")\n",
    "print(\"=\"*100)\n",
    "print(f\" Actualización realizada en un tiempo de {str(timedelta(seconds = (end_time - start_time)))}\")\n",
    "print(\"=\"*100)"
   ]
  },
  {
   "cell_type": "code",
   "execution_count": 100,
   "metadata": {},
   "outputs": [
    {
     "name": "stdout",
     "output_type": "stream",
     "text": [
      "{'descripcion': 'Intereses', 'fecha': '2017-11-01 13:08:13', 'monto': 126.87, 'saldo': 1234.5, 'nota': 'Actualización de saldo por agencia y monto', 'agencia': 'Oruro'}\n",
      "{'descripcion': 'Intereses', 'fecha': '1955-09-03 15:58:54', 'monto': 172.05, 'saldo': 1234.5, 'nota': 'Actualización de saldo por agencia y monto', 'agencia': 'Oruro'}\n",
      "{'descripcion': 'Intereses', 'fecha': '1969-04-27 15:44:04', 'monto': 138.31, 'saldo': 1234.5, 'nota': 'Actualización de saldo por agencia y monto', 'agencia': 'Oruro'}\n",
      "{'descripcion': 'Intereses', 'fecha': '1954-09-28 14:45:39', 'monto': 70.05, 'saldo': 1234.5, 'nota': 'Actualización de saldo por agencia y monto', 'agencia': 'Oruro'}\n",
      "{'descripcion': 'Intereses', 'fecha': '1984-08-01 05:16:38', 'monto': 40.56, 'saldo': 1234.5, 'nota': 'Actualización de saldo por agencia y monto', 'agencia': 'Oruro'}\n",
      "{'descripcion': 'Intereses', 'fecha': '2014-10-10 17:11:01', 'monto': 167.53, 'saldo': 1234.5, 'nota': 'Actualización de saldo por agencia y monto', 'agencia': 'Oruro'}\n",
      "{'descripcion': 'Intereses', 'fecha': '1951-06-20 05:35:25', 'monto': 175.48, 'saldo': 1234.5, 'nota': 'Actualización de saldo por agencia y monto', 'agencia': 'Oruro'}\n",
      "{'descripcion': 'Intereses', 'fecha': '2008-04-07 09:31:18', 'monto': 12.2, 'saldo': 1234.5, 'nota': 'Actualización de saldo por agencia y monto', 'agencia': 'Oruro'}\n",
      "{'descripcion': 'Intereses', 'fecha': '2021-04-16 16:20:40', 'monto': 178.59, 'saldo': 1234.5, 'nota': 'Actualización de saldo por agencia y monto', 'agencia': 'Oruro'}\n",
      "{'descripcion': 'Intereses', 'fecha': '1977-05-01 02:43:32', 'monto': 156.58, 'saldo': 1234.5, 'nota': 'Actualización de saldo por agencia y monto', 'agencia': 'Oruro'}\n",
      "Se encontraron: 119 resultados\n"
     ]
    }
   ],
   "source": [
    "query = {\n",
    "        \"bool\": {\n",
    "            \"must\": [\n",
    "                {\n",
    "                    \"bool\": {\n",
    "                        \"should\": [\n",
    "                            {\"match\": {\"agencia\": agencia1}},\n",
    "                            {\"match\": {\"agencia\": agencia2}}\n",
    "                        ]\n",
    "                    }\n",
    "                },\n",
    "                {\n",
    "                    \"range\" : {\n",
    "                        \"monto\": {\n",
    "                                \"lt\" : monto \n",
    "                        },\n",
    "                    }\n",
    "                },\n",
    "                {\n",
    "                    \"match\": {\"descripcion\": descripcion}\n",
    "                }\n",
    "            ]\n",
    "        }\n",
    "    }\n",
    "\n",
    "results = es.search(index=idx, query=query)\n",
    "\n",
    "for hit in results['hits']['hits']:\n",
    "    print(hit[\"_source\"])\n",
    "\n",
    "print(f\"Se encontraron: {results['hits']['total']['value']} resultados\")"
   ]
  },
  {
   "cell_type": "markdown",
   "metadata": {},
   "source": [
    "| Tabla resumen de resultados | Valor obtenido |\n",
    "|-----------------------------|----------------|\n",
    "| Tiempo actualización 1      | 34.9235 s      |\n",
    "| Tiempo actualización 2      | 29.3479 s      |\n",
    "| Tiempo actualización 3      | 1.9607 s       |"
   ]
  }
 ],
 "metadata": {
  "kernelspec": {
   "display_name": "Python 3.9.12 64-bit",
   "language": "python",
   "name": "python3"
  },
  "language_info": {
   "codemirror_mode": {
    "name": "ipython",
    "version": 3
   },
   "file_extension": ".py",
   "mimetype": "text/x-python",
   "name": "python",
   "nbconvert_exporter": "python",
   "pygments_lexer": "ipython3",
   "version": "3.9.12"
  },
  "orig_nbformat": 4,
  "vscode": {
   "interpreter": {
    "hash": "d7e5a1f785ed82844e2da5d30522181462e1597dbd1807cbc4c5c0cc1d5a2e0b"
   }
  }
 },
 "nbformat": 4,
 "nbformat_minor": 2
}

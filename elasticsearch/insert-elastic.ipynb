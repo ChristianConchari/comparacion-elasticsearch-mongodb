{
 "cells": [
  {
   "cell_type": "markdown",
   "metadata": {},
   "source": [
    "# Carga de librerias"
   ]
  },
  {
   "cell_type": "code",
   "execution_count": 1,
   "metadata": {},
   "outputs": [
    {
     "name": "stdout",
     "output_type": "stream",
     "text": [
      "Connected to ElasticSearch cluster `docker-cluster`\n"
     ]
    }
   ],
   "source": [
    "from elasticsearch import Elasticsearch\n",
    "from json import dumps\n",
    "\n",
    "es = Elasticsearch(\"http://127.0.0.1:9200\")\n",
    "\n",
    "print(f\"Connected to ElasticSearch cluster `{es.info().body['cluster_name']}`\")"
   ]
  },
  {
   "cell_type": "markdown",
   "metadata": {},
   "source": [
    "# Inserción de 1 millón de documentos"
   ]
  },
  {
   "cell_type": "markdown",
   "metadata": {},
   "source": [
    "En esta sección se revisará la carga y el tamaño de almacenamiento de 1 millón de documentos indexados en la base de datos."
   ]
  },
  {
   "cell_type": "markdown",
   "metadata": {},
   "source": [
    "## Carga de documentos"
   ]
  },
  {
   "cell_type": "markdown",
   "metadata": {},
   "source": [
    "La carga de documentos se llevará a cabo mediante el script de python ```load-documents-elastic.py``` localizado en el mismo directorio de este cuaderno. Para cargar la cantidad de datos en cuestión se ejecuta el siguiente comando:"
   ]
  },
  {
   "cell_type": "markdown",
   "metadata": {},
   "source": [
    "```\n",
    "python load-documents-elastic.py -n 1\n",
    "\n",
    "```"
   ]
  },
  {
   "cell_type": "markdown",
   "metadata": {},
   "source": [
    "**Nota:** es recomendable ejecutar el comando en una terminal aparte de este cuaderno, ya que se trata de una operación que dependiendo la cantidad de documentos, puede llegar a ocupar una considerable cantidad de memoria del sistema."
   ]
  },
  {
   "cell_type": "markdown",
   "metadata": {},
   "source": [
    "![Cargando 1 millón de documentos](../imagenes-de-soporte/load_1M_documents_elastic.png)"
   ]
  },
  {
   "cell_type": "markdown",
   "metadata": {},
   "source": [
    "Como se puede ver en la imagen superior, cargar 1 millón de documentos ha tomado un tiempo de **3 minutos y 57.38 segundos**."
   ]
  },
  {
   "cell_type": "markdown",
   "metadata": {},
   "source": [
    "Una vez cargados los documentos en la base de datos, podemos verificar la cantidad total de documentos en el índice ```extracto_cuenta_1m``` de la siguiente manera."
   ]
  },
  {
   "cell_type": "code",
   "execution_count": 9,
   "metadata": {},
   "outputs": [
    {
     "name": "stdout",
     "output_type": "stream",
     "text": [
      "Actualmente existen 753000 documentos en el índice 'extracto_cuenta_1m'\n"
     ]
    }
   ],
   "source": [
    "cnt = es.cat.count(index=\"extracto_cuenta_1m\", format= \"json\")[0]['count']\n",
    "print(f\"Actualmente existen {cnt} documentos en el índice 'extracto_cuenta_1m'\")"
   ]
  },
  {
   "cell_type": "markdown",
   "metadata": {},
   "source": [
    "## Tamaño de almacenamiento de datos"
   ]
  },
  {
   "cell_type": "markdown",
   "metadata": {},
   "source": [
    "Para obtener las estadísticas de uso de disco por parte del índice ```extracto_cuenta_1m``` en la base de datos ejecutaremos el siguiente comando:"
   ]
  },
  {
   "cell_type": "code",
   "execution_count": 19,
   "metadata": {},
   "outputs": [
    {
     "name": "stdout",
     "output_type": "stream",
     "text": [
      "{\n",
      " \"store_size\": \"140mb\",\n",
      " \"store_size_in_bytes\": 146817410,\n",
      " \"all_fields\": {\n",
      "  \"total\": \"138.8mb\",\n",
      "  \"total_in_bytes\": 145579776,\n",
      "  \"inverted_index\": {\n",
      "   \"total\": \"19mb\",\n",
      "   \"total_in_bytes\": 19999070\n",
      "  },\n",
      "  \"stored_fields\": \"87.7mb\",\n",
      "  \"stored_fields_in_bytes\": 91993326,\n",
      "  \"doc_values\": \"12.9mb\",\n",
      "  \"doc_values_in_bytes\": 13613645,\n",
      "  \"points\": \"17.1mb\",\n",
      "  \"points_in_bytes\": 17973735,\n",
      "  \"norms\": \"1.9mb\",\n",
      "  \"norms_in_bytes\": 2000000,\n",
      "  \"term_vectors\": \"0b\",\n",
      "  \"term_vectors_in_bytes\": 0,\n",
      "  \"knn_vectors\": \"0b\",\n",
      "  \"knn_vectors_in_bytes\": 0\n",
      " },\n",
      " \"fields\": {\n",
      "  \"_id\": {\n",
      "   \"total\": \"15.5mb\",\n",
      "   \"total_in_bytes\": 16289301,\n",
      "   \"inverted_index\": {\n",
      "    \"total\": \"5mb\",\n",
      "    \"total_in_bytes\": 5321048\n",
      "   },\n",
      "   \"stored_fields\": \"10.4mb\",\n",
      "   \"stored_fields_in_bytes\": 10968253,\n",
      "   \"doc_values\": \"0b\",\n",
      "   \"doc_values_in_bytes\": 0,\n",
      "   \"points\": \"0b\",\n",
      "   \"points_in_bytes\": 0,\n",
      "   \"norms\": \"0b\",\n",
      "   \"norms_in_bytes\": 0,\n",
      "   \"term_vectors\": \"0b\",\n",
      "   \"term_vectors_in_bytes\": 0,\n",
      "   \"knn_vectors\": \"0b\",\n",
      "   \"knn_vectors_in_bytes\": 0\n",
      "  },\n",
      "  \"_primary_term\": {\n",
      "   \"total\": \"0b\",\n",
      "   \"total_in_bytes\": 0,\n",
      "   \"inverted_index\": {\n",
      "    \"total\": \"0b\",\n",
      "    \"total_in_bytes\": 0\n",
      "   },\n",
      "   \"stored_fields\": \"0b\",\n",
      "   \"stored_fields_in_bytes\": 0,\n",
      "   \"doc_values\": \"0b\",\n",
      "   \"doc_values_in_bytes\": 0,\n",
      "   \"points\": \"0b\",\n",
      "   \"points_in_bytes\": 0,\n",
      "   \"norms\": \"0b\",\n",
      "   \"norms_in_bytes\": 0,\n",
      "   \"term_vectors\": \"0b\",\n",
      "   \"term_vectors_in_bytes\": 0,\n",
      "   \"knn_vectors\": \"0b\",\n",
      "   \"knn_vectors_in_bytes\": 0\n",
      "  },\n",
      "  \"_seq_no\": {\n",
      "   \"total\": \"3.1mb\",\n",
      "   \"total_in_bytes\": 3303088,\n",
      "   \"inverted_index\": {\n",
      "    \"total\": \"0b\",\n",
      "    \"total_in_bytes\": 0\n",
      "   },\n",
      "   \"stored_fields\": \"0b\",\n",
      "   \"stored_fields_in_bytes\": 0,\n",
      "   \"doc_values\": \"2mb\",\n",
      "   \"doc_values_in_bytes\": 2112517,\n",
      "   \"points\": \"1.1mb\",\n",
      "   \"points_in_bytes\": 1190571,\n",
      "   \"norms\": \"0b\",\n",
      "   \"norms_in_bytes\": 0,\n",
      "   \"term_vectors\": \"0b\",\n",
      "   \"term_vectors_in_bytes\": 0,\n",
      "   \"knn_vectors\": \"0b\",\n",
      "   \"knn_vectors_in_bytes\": 0\n",
      "  },\n",
      "  \"_source\": {\n",
      "   \"total\": \"77.2mb\",\n",
      "   \"total_in_bytes\": 81025073,\n",
      "   \"inverted_index\": {\n",
      "    \"total\": \"0b\",\n",
      "    \"total_in_bytes\": 0\n",
      "   },\n",
      "   \"stored_fields\": \"77.2mb\",\n",
      "   \"stored_fields_in_bytes\": 81025073,\n",
      "   \"doc_values\": \"0b\",\n",
      "   \"doc_values_in_bytes\": 0,\n",
      "   \"points\": \"0b\",\n",
      "   \"points_in_bytes\": 0,\n",
      "   \"norms\": \"0b\",\n",
      "   \"norms_in_bytes\": 0,\n",
      "   \"term_vectors\": \"0b\",\n",
      "   \"term_vectors_in_bytes\": 0,\n",
      "   \"knn_vectors\": \"0b\",\n",
      "   \"knn_vectors_in_bytes\": 0\n",
      "  },\n",
      "  \"_version\": {\n",
      "   \"total\": \"0b\",\n",
      "   \"total_in_bytes\": 0,\n",
      "   \"inverted_index\": {\n",
      "    \"total\": \"0b\",\n",
      "    \"total_in_bytes\": 0\n",
      "   },\n",
      "   \"stored_fields\": \"0b\",\n",
      "   \"stored_fields_in_bytes\": 0,\n",
      "   \"doc_values\": \"0b\",\n",
      "   \"doc_values_in_bytes\": 0,\n",
      "   \"points\": \"0b\",\n",
      "   \"points_in_bytes\": 0,\n",
      "   \"norms\": \"0b\",\n",
      "   \"norms_in_bytes\": 0,\n",
      "   \"term_vectors\": \"0b\",\n",
      "   \"term_vectors_in_bytes\": 0,\n",
      "   \"knn_vectors\": \"0b\",\n",
      "   \"knn_vectors_in_bytes\": 0\n",
      "  },\n",
      "  \"agencia\": {\n",
      "   \"total\": \"1.1mb\",\n",
      "   \"total_in_bytes\": 1203673,\n",
      "   \"inverted_index\": {\n",
      "    \"total\": \"686kb\",\n",
      "    \"total_in_bytes\": 702549\n",
      "   },\n",
      "   \"stored_fields\": \"0b\",\n",
      "   \"stored_fields_in_bytes\": 0,\n",
      "   \"doc_values\": \"489.3kb\",\n",
      "   \"doc_values_in_bytes\": 501124,\n",
      "   \"points\": \"0b\",\n",
      "   \"points_in_bytes\": 0,\n",
      "   \"norms\": \"0b\",\n",
      "   \"norms_in_bytes\": 0,\n",
      "   \"term_vectors\": \"0b\",\n",
      "   \"term_vectors_in_bytes\": 0,\n",
      "   \"knn_vectors\": \"0b\",\n",
      "   \"knn_vectors_in_bytes\": 0\n",
      "  },\n",
      "  \"descripcion\": {\n",
      "   \"total\": \"4.2mb\",\n",
      "   \"total_in_bytes\": 4427844,\n",
      "   \"inverted_index\": {\n",
      "    \"total\": \"3.2mb\",\n",
      "    \"total_in_bytes\": 3427844\n",
      "   },\n",
      "   \"stored_fields\": \"0b\",\n",
      "   \"stored_fields_in_bytes\": 0,\n",
      "   \"doc_values\": \"0b\",\n",
      "   \"doc_values_in_bytes\": 0,\n",
      "   \"points\": \"0b\",\n",
      "   \"points_in_bytes\": 0,\n",
      "   \"norms\": \"976.5kb\",\n",
      "   \"norms_in_bytes\": 1000000,\n",
      "   \"term_vectors\": \"0b\",\n",
      "   \"term_vectors_in_bytes\": 0,\n",
      "   \"knn_vectors\": \"0b\",\n",
      "   \"knn_vectors_in_bytes\": 0\n",
      "  },\n",
      "  \"fecha\": {\n",
      "   \"total\": \"10.4mb\",\n",
      "   \"total_in_bytes\": 10988477,\n",
      "   \"inverted_index\": {\n",
      "    \"total\": \"0b\",\n",
      "    \"total_in_bytes\": 0\n",
      "   },\n",
      "   \"stored_fields\": \"0b\",\n",
      "   \"stored_fields_in_bytes\": 0,\n",
      "   \"doc_values\": \"3.8mb\",\n",
      "   \"doc_values_in_bytes\": 4000000,\n",
      "   \"points\": \"6.6mb\",\n",
      "   \"points_in_bytes\": 6988477,\n",
      "   \"norms\": \"0b\",\n",
      "   \"norms_in_bytes\": 0,\n",
      "   \"term_vectors\": \"0b\",\n",
      "   \"term_vectors_in_bytes\": 0,\n",
      "   \"knn_vectors\": \"0b\",\n",
      "   \"knn_vectors_in_bytes\": 0\n",
      "  },\n",
      "  \"monto\": {\n",
      "   \"total\": \"8mb\",\n",
      "   \"total_in_bytes\": 8393324,\n",
      "   \"inverted_index\": {\n",
      "    \"total\": \"0b\",\n",
      "    \"total_in_bytes\": 0\n",
      "   },\n",
      "   \"stored_fields\": \"0b\",\n",
      "   \"stored_fields_in_bytes\": 0,\n",
      "   \"doc_values\": \"3.3mb\",\n",
      "   \"doc_values_in_bytes\": 3500002,\n",
      "   \"points\": \"4.6mb\",\n",
      "   \"points_in_bytes\": 4893322,\n",
      "   \"norms\": \"0b\",\n",
      "   \"norms_in_bytes\": 0,\n",
      "   \"term_vectors\": \"0b\",\n",
      "   \"term_vectors_in_bytes\": 0,\n",
      "   \"knn_vectors\": \"0b\",\n",
      "   \"knn_vectors_in_bytes\": 0\n",
      "  },\n",
      "  \"nota\": {\n",
      "   \"total\": \"11mb\",\n",
      "   \"total_in_bytes\": 11547629,\n",
      "   \"inverted_index\": {\n",
      "    \"total\": \"10mb\",\n",
      "    \"total_in_bytes\": 10547629\n",
      "   },\n",
      "   \"stored_fields\": \"0b\",\n",
      "   \"stored_fields_in_bytes\": 0,\n",
      "   \"doc_values\": \"0b\",\n",
      "   \"doc_values_in_bytes\": 0,\n",
      "   \"points\": \"0b\",\n",
      "   \"points_in_bytes\": 0,\n",
      "   \"norms\": \"976.5kb\",\n",
      "   \"norms_in_bytes\": 1000000,\n",
      "   \"term_vectors\": \"0b\",\n",
      "   \"term_vectors_in_bytes\": 0,\n",
      "   \"knn_vectors\": \"0b\",\n",
      "   \"knn_vectors_in_bytes\": 0\n",
      "  },\n",
      "  \"saldo\": {\n",
      "   \"total\": \"8mb\",\n",
      "   \"total_in_bytes\": 8401367,\n",
      "   \"inverted_index\": {\n",
      "    \"total\": \"0b\",\n",
      "    \"total_in_bytes\": 0\n",
      "   },\n",
      "   \"stored_fields\": \"0b\",\n",
      "   \"stored_fields_in_bytes\": 0,\n",
      "   \"doc_values\": \"3.3mb\",\n",
      "   \"doc_values_in_bytes\": 3500002,\n",
      "   \"points\": \"4.6mb\",\n",
      "   \"points_in_bytes\": 4901365,\n",
      "   \"norms\": \"0b\",\n",
      "   \"norms_in_bytes\": 0,\n",
      "   \"term_vectors\": \"0b\",\n",
      "   \"term_vectors_in_bytes\": 0,\n",
      "   \"knn_vectors\": \"0b\",\n",
      "   \"knn_vectors_in_bytes\": 0\n",
      "  }\n",
      " }\n",
      "}\n"
     ]
    }
   ],
   "source": [
    "r = dumps(es.indices.disk_usage(index=\"extracto_cuenta_1m\", run_expensive_tasks=True)['extracto_cuenta_1m'], indent=1)\n",
    "print(r)"
   ]
  },
  {
   "cell_type": "markdown",
   "metadata": {},
   "source": [
    "Extrayendo información importante de los datos recién obtenidos. El tamaño de almacenamiento de 1 documento de 1 millón de registros con un peso en bruto de 188.5 mb, **una vez comprimido en la base de datos es 140mb**. Esto nos da un radio de compresión del 74.27 %."
   ]
  }
 ],
 "metadata": {
  "kernelspec": {
   "display_name": "Python 3.9.12 ('base')",
   "language": "python",
   "name": "python3"
  },
  "language_info": {
   "codemirror_mode": {
    "name": "ipython",
    "version": 3
   },
   "file_extension": ".py",
   "mimetype": "text/x-python",
   "name": "python",
   "nbconvert_exporter": "python",
   "pygments_lexer": "ipython3",
   "version": "3.9.12"
  },
  "orig_nbformat": 4,
  "vscode": {
   "interpreter": {
    "hash": "d7e5a1f785ed82844e2da5d30522181462e1597dbd1807cbc4c5c0cc1d5a2e0b"
   }
  }
 },
 "nbformat": 4,
 "nbformat_minor": 2
}

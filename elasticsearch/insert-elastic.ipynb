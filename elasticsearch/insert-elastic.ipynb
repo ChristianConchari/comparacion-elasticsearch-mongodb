{
 "cells": [
  {
   "cell_type": "markdown",
   "metadata": {},
   "source": [
    "# Carga de librerias"
   ]
  },
  {
   "cell_type": "code",
   "execution_count": 3,
   "metadata": {},
   "outputs": [
    {
     "name": "stdout",
     "output_type": "stream",
     "text": [
      "Connected to ElasticSearch cluster `docker-cluster`\n"
     ]
    }
   ],
   "source": [
    "from elasticsearch import Elasticsearch\n",
    "from json import dumps\n",
    "import os\n",
    "\n",
    "es = Elasticsearch(\"http://127.0.0.1:9200\")\n",
    "\n",
    "print(f\"Connected to ElasticSearch cluster `{es.info().body['cluster_name']}`\")"
   ]
  },
  {
   "cell_type": "markdown",
   "metadata": {},
   "source": [
    "# Inserción de 1 millón de documentos"
   ]
  },
  {
   "cell_type": "markdown",
   "metadata": {},
   "source": [
    "En esta sección se revisará la carga y el tamaño de almacenamiento de 1 millón de documentos indexados en la base de datos."
   ]
  },
  {
   "cell_type": "markdown",
   "metadata": {},
   "source": [
    "## Carga de documentos"
   ]
  },
  {
   "cell_type": "markdown",
   "metadata": {},
   "source": [
    "La carga de documentos se llevará a cabo mediante el script de python ```load-documents-elastic.py``` localizado en el mismo directorio de este cuaderno. Para cargar la cantidad de datos en cuestión se ejecuta el siguiente comando:"
   ]
  },
  {
   "cell_type": "markdown",
   "metadata": {},
   "source": [
    "```\n",
    "python load-documents-elastic.py -n 1\n",
    "\n",
    "```"
   ]
  },
  {
   "cell_type": "markdown",
   "metadata": {},
   "source": [
    "**Nota:** es recomendable ejecutar el comando en una terminal aparte de este cuaderno, ya que se trata de una operación que dependiendo la cantidad de documentos, puede llegar a ocupar una considerable cantidad de memoria del sistema."
   ]
  },
  {
   "cell_type": "markdown",
   "metadata": {},
   "source": [
    "![Cargando 1 millón de documentos](../imagenes-de-soporte/elastic-insert/load_1M_documents_elastic.png)"
   ]
  },
  {
   "cell_type": "markdown",
   "metadata": {},
   "source": [
    "Como se puede ver en la imagen superior, cargar 1 millón de documentos ha tomado un tiempo de **4 minutos y 26.16 segundos**."
   ]
  },
  {
   "cell_type": "markdown",
   "metadata": {},
   "source": [
    "Una vez cargados los documentos en la base de datos, podemos verificar la cantidad total de documentos en el índice ```extracto_cuenta_1m``` de la siguiente manera."
   ]
  },
  {
   "cell_type": "code",
   "execution_count": 33,
   "metadata": {},
   "outputs": [
    {
     "name": "stdout",
     "output_type": "stream",
     "text": [
      "Actualmente existen 1000000 documentos en el índice 'extracto_cuenta_1m'\n"
     ]
    }
   ],
   "source": [
    "cnt = es.cat.count(index=\"extracto_cuenta_1m\", format= \"json\")[0]['count']\n",
    "print(f\"Actualmente existen {cnt} documentos en el índice 'extracto_cuenta_1m'\")"
   ]
  },
  {
   "cell_type": "markdown",
   "metadata": {},
   "source": [
    "## Tamaño de almacenamiento de datos"
   ]
  },
  {
   "cell_type": "markdown",
   "metadata": {},
   "source": [
    "Para encontrar el tamaño de los archivos JSON en su forma bruta, antes de cargarse a la base de datos, se utilizará el siguiente script:"
   ]
  },
  {
   "cell_type": "code",
   "execution_count": null,
   "metadata": {},
   "outputs": [
    {
     "name": "stdout",
     "output_type": "stream",
     "text": [
      "Documento random-generated-data-1.json con tamaño en memoria de 188495887 bytes\n"
     ]
    }
   ],
   "source": [
    "file_sizes = []\n",
    "n = 1\n",
    "\n",
    "for i, json_file in enumerate(sorted(os.listdir(\"../json-generated-data-elastic\"))):\n",
    "    file_stat = os.stat(os.path.join(\"../json-generated-data-elastic\", json_file))\n",
    "    file_sizes.append(file_stat)\n",
    "\n",
    "    if i+1 == n:\n",
    "        break\n",
    "\n",
    "for file in file_sizes:\n",
    "    print(f'Documento {json_file} con tamaño en memoria de {file.st_size} bytes')"
   ]
  },
  {
   "cell_type": "markdown",
   "metadata": {},
   "source": [
    "Para obtener las estadísticas de uso de disco por parte del índice ```extracto_cuenta_1m``` en la base de datos ejecutaremos el siguiente comando:"
   ]
  },
  {
   "cell_type": "code",
   "execution_count": 10,
   "metadata": {},
   "outputs": [
    {
     "name": "stdout",
     "output_type": "stream",
     "text": [
      "{\n",
      " \"store_size\": \"138.3mb\",\n",
      " \"store_size_in_bytes\": 145089787,\n",
      " \"all_fields\": {\n",
      "  \"total\": \"137.5mb\",\n",
      "  \"total_in_bytes\": 144187007,\n",
      "  \"inverted_index\": {\n",
      "   \"total\": \"19mb\",\n",
      "   \"total_in_bytes\": 19932341\n",
      "  },\n",
      "  \"stored_fields\": \"87.7mb\",\n",
      "  \"stored_fields_in_bytes\": 91994865,\n",
      "  \"doc_values\": \"12.8mb\",\n",
      "  \"doc_values_in_bytes\": 13503952,\n",
      "  \"points\": \"15.9mb\",\n",
      "  \"points_in_bytes\": 16755849,\n",
      "  \"norms\": \"1.9mb\",\n",
      "  \"norms_in_bytes\": 2000000,\n",
      "  \"term_vectors\": \"0b\",\n",
      "  \"term_vectors_in_bytes\": 0,\n",
      "  \"knn_vectors\": \"0b\",\n",
      "  \"knn_vectors_in_bytes\": 0\n",
      " },\n",
      " \"fields\": {\n",
      "  \"_id\": {\n",
      "   \"total\": \"15.5mb\",\n",
      "   \"total_in_bytes\": 16300151,\n",
      "   \"inverted_index\": {\n",
      "    \"total\": \"5.1mb\",\n",
      "    \"total_in_bytes\": 5348000\n",
      "   },\n",
      "   \"stored_fields\": \"10.4mb\",\n",
      "   \"stored_fields_in_bytes\": 10952151,\n",
      "   \"doc_values\": \"0b\",\n",
      "   \"doc_values_in_bytes\": 0,\n",
      "   \"points\": \"0b\",\n",
      "   \"points_in_bytes\": 0,\n",
      "   \"norms\": \"0b\",\n",
      "   \"norms_in_bytes\": 0,\n",
      "   \"term_vectors\": \"0b\",\n",
      "   \"term_vectors_in_bytes\": 0,\n",
      "   \"knn_vectors\": \"0b\",\n",
      "   \"knn_vectors_in_bytes\": 0\n",
      "  },\n",
      "  \"_primary_term\": {\n",
      "   \"total\": \"0b\",\n",
      "   \"total_in_bytes\": 0,\n",
      "   \"inverted_index\": {\n",
      "    \"total\": \"0b\",\n",
      "    \"total_in_bytes\": 0\n",
      "   },\n",
      "   \"stored_fields\": \"0b\",\n",
      "   \"stored_fields_in_bytes\": 0,\n",
      "   \"doc_values\": \"0b\",\n",
      "   \"doc_values_in_bytes\": 0,\n",
      "   \"points\": \"0b\",\n",
      "   \"points_in_bytes\": 0,\n",
      "   \"norms\": \"0b\",\n",
      "   \"norms_in_bytes\": 0,\n",
      "   \"term_vectors\": \"0b\",\n",
      "   \"term_vectors_in_bytes\": 0,\n",
      "   \"knn_vectors\": \"0b\",\n",
      "   \"knn_vectors_in_bytes\": 0\n",
      "  },\n",
      "  \"_seq_no\": {\n",
      "   \"total\": \"2.9mb\",\n",
      "   \"total_in_bytes\": 3097883,\n",
      "   \"inverted_index\": {\n",
      "    \"total\": \"0b\",\n",
      "    \"total_in_bytes\": 0\n",
      "   },\n",
      "   \"stored_fields\": \"0b\",\n",
      "   \"stored_fields_in_bytes\": 0,\n",
      "   \"doc_values\": \"1.9mb\",\n",
      "   \"doc_values_in_bytes\": 2003157,\n",
      "   \"points\": \"1mb\",\n",
      "   \"points_in_bytes\": 1094726,\n",
      "   \"norms\": \"0b\",\n",
      "   \"norms_in_bytes\": 0,\n",
      "   \"term_vectors\": \"0b\",\n",
      "   \"term_vectors_in_bytes\": 0,\n",
      "   \"knn_vectors\": \"0b\",\n",
      "   \"knn_vectors_in_bytes\": 0\n",
      "  },\n",
      "  \"_source\": {\n",
      "   \"total\": \"77.2mb\",\n",
      "   \"total_in_bytes\": 81042714,\n",
      "   \"inverted_index\": {\n",
      "    \"total\": \"0b\",\n",
      "    \"total_in_bytes\": 0\n",
      "   },\n",
      "   \"stored_fields\": \"77.2mb\",\n",
      "   \"stored_fields_in_bytes\": 81042714,\n",
      "   \"doc_values\": \"0b\",\n",
      "   \"doc_values_in_bytes\": 0,\n",
      "   \"points\": \"0b\",\n",
      "   \"points_in_bytes\": 0,\n",
      "   \"norms\": \"0b\",\n",
      "   \"norms_in_bytes\": 0,\n",
      "   \"term_vectors\": \"0b\",\n",
      "   \"term_vectors_in_bytes\": 0,\n",
      "   \"knn_vectors\": \"0b\",\n",
      "   \"knn_vectors_in_bytes\": 0\n",
      "  },\n",
      "  \"_version\": {\n",
      "   \"total\": \"0b\",\n",
      "   \"total_in_bytes\": 0,\n",
      "   \"inverted_index\": {\n",
      "    \"total\": \"0b\",\n",
      "    \"total_in_bytes\": 0\n",
      "   },\n",
      "   \"stored_fields\": \"0b\",\n",
      "   \"stored_fields_in_bytes\": 0,\n",
      "   \"doc_values\": \"0b\",\n",
      "   \"doc_values_in_bytes\": 0,\n",
      "   \"points\": \"0b\",\n",
      "   \"points_in_bytes\": 0,\n",
      "   \"norms\": \"0b\",\n",
      "   \"norms_in_bytes\": 0,\n",
      "   \"term_vectors\": \"0b\",\n",
      "   \"term_vectors_in_bytes\": 0,\n",
      "   \"knn_vectors\": \"0b\",\n",
      "   \"knn_vectors_in_bytes\": 0\n",
      "  },\n",
      "  \"agencia\": {\n",
      "   \"total\": \"1.1mb\",\n",
      "   \"total_in_bytes\": 1201839,\n",
      "   \"inverted_index\": {\n",
      "    \"total\": \"684.6kb\",\n",
      "    \"total_in_bytes\": 701046\n",
      "   },\n",
      "   \"stored_fields\": \"0b\",\n",
      "   \"stored_fields_in_bytes\": 0,\n",
      "   \"doc_values\": \"489kb\",\n",
      "   \"doc_values_in_bytes\": 500793,\n",
      "   \"points\": \"0b\",\n",
      "   \"points_in_bytes\": 0,\n",
      "   \"norms\": \"0b\",\n",
      "   \"norms_in_bytes\": 0,\n",
      "   \"term_vectors\": \"0b\",\n",
      "   \"term_vectors_in_bytes\": 0,\n",
      "   \"knn_vectors\": \"0b\",\n",
      "   \"knn_vectors_in_bytes\": 0\n",
      "  },\n",
      "  \"descripcion\": {\n",
      "   \"total\": \"4.2mb\",\n",
      "   \"total_in_bytes\": 4405333,\n",
      "   \"inverted_index\": {\n",
      "    \"total\": \"3.2mb\",\n",
      "    \"total_in_bytes\": 3405333\n",
      "   },\n",
      "   \"stored_fields\": \"0b\",\n",
      "   \"stored_fields_in_bytes\": 0,\n",
      "   \"doc_values\": \"0b\",\n",
      "   \"doc_values_in_bytes\": 0,\n",
      "   \"points\": \"0b\",\n",
      "   \"points_in_bytes\": 0,\n",
      "   \"norms\": \"976.5kb\",\n",
      "   \"norms_in_bytes\": 1000000,\n",
      "   \"term_vectors\": \"0b\",\n",
      "   \"term_vectors_in_bytes\": 0,\n",
      "   \"knn_vectors\": \"0b\",\n",
      "   \"knn_vectors_in_bytes\": 0\n",
      "  },\n",
      "  \"fecha\": {\n",
      "   \"total\": \"10mb\",\n",
      "   \"total_in_bytes\": 10589271,\n",
      "   \"inverted_index\": {\n",
      "    \"total\": \"0b\",\n",
      "    \"total_in_bytes\": 0\n",
      "   },\n",
      "   \"stored_fields\": \"0b\",\n",
      "   \"stored_fields_in_bytes\": 0,\n",
      "   \"doc_values\": \"3.8mb\",\n",
      "   \"doc_values_in_bytes\": 4000000,\n",
      "   \"points\": \"6.2mb\",\n",
      "   \"points_in_bytes\": 6589271,\n",
      "   \"norms\": \"0b\",\n",
      "   \"norms_in_bytes\": 0,\n",
      "   \"term_vectors\": \"0b\",\n",
      "   \"term_vectors_in_bytes\": 0,\n",
      "   \"knn_vectors\": \"0b\",\n",
      "   \"knn_vectors_in_bytes\": 0\n",
      "  },\n",
      "  \"monto\": {\n",
      "   \"total\": \"7.6mb\",\n",
      "   \"total_in_bytes\": 8033172,\n",
      "   \"inverted_index\": {\n",
      "    \"total\": \"0b\",\n",
      "    \"total_in_bytes\": 0\n",
      "   },\n",
      "   \"stored_fields\": \"0b\",\n",
      "   \"stored_fields_in_bytes\": 0,\n",
      "   \"doc_values\": \"3.3mb\",\n",
      "   \"doc_values_in_bytes\": 3500001,\n",
      "   \"points\": \"4.3mb\",\n",
      "   \"points_in_bytes\": 4533171,\n",
      "   \"norms\": \"0b\",\n",
      "   \"norms_in_bytes\": 0,\n",
      "   \"term_vectors\": \"0b\",\n",
      "   \"term_vectors_in_bytes\": 0,\n",
      "   \"knn_vectors\": \"0b\",\n",
      "   \"knn_vectors_in_bytes\": 0\n",
      "  },\n",
      "  \"nota\": {\n",
      "   \"total\": \"10.9mb\",\n",
      "   \"total_in_bytes\": 11477962,\n",
      "   \"inverted_index\": {\n",
      "    \"total\": \"9.9mb\",\n",
      "    \"total_in_bytes\": 10477962\n",
      "   },\n",
      "   \"stored_fields\": \"0b\",\n",
      "   \"stored_fields_in_bytes\": 0,\n",
      "   \"doc_values\": \"0b\",\n",
      "   \"doc_values_in_bytes\": 0,\n",
      "   \"points\": \"0b\",\n",
      "   \"points_in_bytes\": 0,\n",
      "   \"norms\": \"976.5kb\",\n",
      "   \"norms_in_bytes\": 1000000,\n",
      "   \"term_vectors\": \"0b\",\n",
      "   \"term_vectors_in_bytes\": 0,\n",
      "   \"knn_vectors\": \"0b\",\n",
      "   \"knn_vectors_in_bytes\": 0\n",
      "  },\n",
      "  \"saldo\": {\n",
      "   \"total\": \"7.6mb\",\n",
      "   \"total_in_bytes\": 8038682,\n",
      "   \"inverted_index\": {\n",
      "    \"total\": \"0b\",\n",
      "    \"total_in_bytes\": 0\n",
      "   },\n",
      "   \"stored_fields\": \"0b\",\n",
      "   \"stored_fields_in_bytes\": 0,\n",
      "   \"doc_values\": \"3.3mb\",\n",
      "   \"doc_values_in_bytes\": 3500001,\n",
      "   \"points\": \"4.3mb\",\n",
      "   \"points_in_bytes\": 4538681,\n",
      "   \"norms\": \"0b\",\n",
      "   \"norms_in_bytes\": 0,\n",
      "   \"term_vectors\": \"0b\",\n",
      "   \"term_vectors_in_bytes\": 0,\n",
      "   \"knn_vectors\": \"0b\",\n",
      "   \"knn_vectors_in_bytes\": 0\n",
      "  }\n",
      " }\n",
      "}\n",
      "...\n"
     ]
    }
   ],
   "source": [
    "r = dumps(es.indices.disk_usage(index=\"extracto_cuenta_1m\", run_expensive_tasks=True)['extracto_cuenta_1m'], indent=1)\n",
    "print(r[:300])\n",
    "print(\"...\")"
   ]
  },
  {
   "cell_type": "code",
   "execution_count": 12,
   "metadata": {},
   "outputs": [
    {
     "data": {
      "text/plain": [
       "ObjectApiResponse({'_shards': {'total': 2, 'successful': 1, 'failed': 0}, '_all': {'primaries': {'store': {'size': '138.3mb', 'size_in_bytes': 145089787, 'total_data_set_size': '138.3mb', 'total_data_set_size_in_bytes': 145089787, 'reserved': '0b', 'reserved_in_bytes': 0}}, 'total': {'store': {'size': '138.3mb', 'size_in_bytes': 145089787, 'total_data_set_size': '138.3mb', 'total_data_set_size_in_bytes': 145089787, 'reserved': '0b', 'reserved_in_bytes': 0}}}, 'indices': {'extracto_cuenta_1m': {'uuid': 'eyXzz3y6Tyu1NSdvSW60xQ', 'health': 'yellow', 'status': 'open', 'primaries': {'store': {'size': '138.3mb', 'size_in_bytes': 145089787, 'total_data_set_size': '138.3mb', 'total_data_set_size_in_bytes': 145089787, 'reserved': '0b', 'reserved_in_bytes': 0}}, 'total': {'store': {'size': '138.3mb', 'size_in_bytes': 145089787, 'total_data_set_size': '138.3mb', 'total_data_set_size_in_bytes': 145089787, 'reserved': '0b', 'reserved_in_bytes': 0}}}}})"
      ]
     },
     "execution_count": 12,
     "metadata": {},
     "output_type": "execute_result"
    }
   ],
   "source": [
    "r = dumps(es.indices.stats(metric='store', human=True, index=\"extracto_cuenta_1m\"), indent = 1)\n",
    "print(r)"
   ]
  },
  {
   "cell_type": "markdown",
   "metadata": {},
   "source": [
    "Extrayendo información importante de los datos recién obtenidos. El tamaño en almacenamiento aproximado de 1 documento de 1 millón de registros con un peso en bruto de 179.76 mb (en escala base binario $2^{20}$), una vez comprimido en la base de datos es **137.50 mb** (en escala base binario $2^{20}$). Esto nos da un radio de compresión de 0.7649 y una reducción de tamaño en memoria del 23.51%."
   ]
  },
  {
   "cell_type": "markdown",
   "metadata": {},
   "source": [
    "![Cargando 1 millón de documentos](../imagenes-de-soporte/elastic-insert/storage_kibana_1M_documents.png)"
   ]
  },
  {
   "cell_type": "markdown",
   "metadata": {},
   "source": [
    "------------------------"
   ]
  },
  {
   "cell_type": "markdown",
   "metadata": {},
   "source": [
    "# Inserción de 10 millones de documentos"
   ]
  },
  {
   "cell_type": "markdown",
   "metadata": {},
   "source": [
    "En esta sección se revisará la carga y el tamaño de almacenamiento de 10 millones de documentos indexados en la base de datos."
   ]
  },
  {
   "cell_type": "markdown",
   "metadata": {},
   "source": [
    "## Carga de documentos"
   ]
  },
  {
   "cell_type": "markdown",
   "metadata": {},
   "source": [
    "La carga de documentos se llevará a cabo mediante el script de python ```load-documents-elastic.py``` localizado en el mismo directorio de este cuaderno. Para cargar la cantidad de datos en cuestión se ejecuta el siguiente comando:"
   ]
  },
  {
   "cell_type": "markdown",
   "metadata": {},
   "source": [
    "```\n",
    "python load-documents-elastic.py -n 10\n",
    "\n",
    "```"
   ]
  },
  {
   "cell_type": "markdown",
   "metadata": {},
   "source": [
    "**Nota:** es recomendable ejecutar el comando en una terminal aparte de este cuaderno, ya que se trata de una operación que dependiendo la cantidad de documentos, puede llegar a ocupar una considerable cantidad de memoria del sistema."
   ]
  },
  {
   "cell_type": "markdown",
   "metadata": {},
   "source": [
    "![Cargando 1 millón de documentos](../imagenes-de-soporte/elastic-insert/load_10M_documents_elastic.png)"
   ]
  },
  {
   "cell_type": "markdown",
   "metadata": {},
   "source": [
    "Como se puede ver en la imagen superior, cargar 10 millones de documentos ha tomado un tiempo de **48 minutos y 52.61 segundos**."
   ]
  },
  {
   "cell_type": "markdown",
   "metadata": {},
   "source": [
    "Una vez cargados los documentos en la base de datos, podemos verificar la cantidad total de documentos en el índice ```extracto_cuenta_10m``` de la siguiente manera."
   ]
  },
  {
   "cell_type": "code",
   "execution_count": 36,
   "metadata": {},
   "outputs": [
    {
     "name": "stdout",
     "output_type": "stream",
     "text": [
      "Actualmente existen 10000000 documentos en el índice 'extracto_cuenta_10m'\n"
     ]
    }
   ],
   "source": [
    "cnt = es.cat.count(index=\"extracto_cuenta_10m\", format= \"json\")[0]['count']\n",
    "print(f\"Actualmente existen {cnt} documentos en el índice 'extracto_cuenta_10m'\")"
   ]
  },
  {
   "cell_type": "markdown",
   "metadata": {},
   "source": [
    "## Tamaño de almacenamiento de datos"
   ]
  },
  {
   "cell_type": "markdown",
   "metadata": {},
   "source": [
    "Para obtener las estadísticas de uso de disco por parte del índice ```extracto_cuenta_10m``` en la base de datos ejecutaremos el siguiente comando:"
   ]
  },
  {
   "cell_type": "code",
   "execution_count": 40,
   "metadata": {},
   "outputs": [
    {
     "name": "stdout",
     "output_type": "stream",
     "text": [
      "{\n",
      " \"store_size\": \"1.3gb\",\n",
      " \"store_size_in_bytes\": 1440202391,\n",
      " \"all_fields\": {\n",
      "  \"total\": \"1.3gb\",\n",
      "  \"total_in_bytes\": 1438808499,\n",
      "  \"inverted_index\": {\n",
      "   \"total\": \"191.3mb\",\n",
      "   \"total_in_bytes\": 200694994\n",
      "  },\n",
      "  \"stored_fields\": \"876.7mb\",\n",
      "  \"stored_fields_in_bytes\": 919322081,\n",
      "  \"doc_values\": \"128.7mb\",\n",
      "  \"doc_values_in_bytes\": 135007131,\n",
      "  \"points\": \"156.1mb\",\n",
      "  \"points_in_bytes\": 163784293,\n",
      "  \"norms\": \"19mb\",\n",
      "  \"norms_in_bytes\": 20000000,\n",
      "  \"term_vectors\": \"0b\",\n",
      "  \"term_vectors_in_bytes\": 0\n",
      "...\n"
     ]
    }
   ],
   "source": [
    "r = dumps(es.indices.disk_usage(index=\"extracto_cuenta_10m\", run_expensive_tasks=True)['extracto_cuenta_10m'], indent=1)\n",
    "print(r[:500])\n",
    "print(\"...\")"
   ]
  },
  {
   "cell_type": "markdown",
   "metadata": {},
   "source": [
    "Extrayendo información importante de los datos recién obtenidos. El tamaño de almacenamiento de 10 documento de 1 millón de registros con un peso en bruto de 1.9 gb, **una vez comprimido en la base de datos es 1.34 gb**. Esto nos da un radio de compresión de 1.42 y una reducción de tamaño en memoria del 29.47%."
   ]
  },
  {
   "cell_type": "markdown",
   "metadata": {},
   "source": [
    "![Cargando 1 millón de documentos](../imagenes-de-soporte/elastic-insert/kibana_10M_documents.png)"
   ]
  },
  {
   "cell_type": "code",
   "execution_count": 15,
   "metadata": {},
   "outputs": [],
   "source": [
    "\n",
    "mapping = {\n",
    "        \"properties\": {\n",
    "            \"fecha\": {\n",
    "                \"type\": \"date\",\n",
    "                \"format\": \"yyyy-MM-dd HH:mm:ss\",\n",
    "                \"index\": \"false\"\n",
    "            },\n",
    "            \"agencia\": {\n",
    "                \"type\": \"keyword\",\n",
    "                \"index\": \"false\"\n",
    "            },\n",
    "            \"monto\": {\n",
    "                \"type\": \"float\",\n",
    "                \"index\": \"false\"\n",
    "            },\n",
    "            \"descripcion\": {\n",
    "                \"type\": \"text\",\n",
    "                \"index\": \"false\"\n",
    "            },\n",
    "            \"saldo\": {\n",
    "                \"type\": \"float\",\n",
    "                \"index\": \"false\"\n",
    "            },\n",
    "            \"nota\": {\n",
    "                \"type\": \"text\",\n",
    "                \"index\": \"false\"\n",
    "            }\n",
    "        }\n",
    "}\n",
    "\n",
    "r = es.indices.create(\n",
    "    index=\"extracto_cuenta_test\",\n",
    "    mappings = mapping\n",
    ")\n"
   ]
  },
  {
   "cell_type": "code",
   "execution_count": 5,
   "metadata": {},
   "outputs": [
    {
     "name": "stdout",
     "output_type": "stream",
     "text": [
      "Cargando el documento 1/1\n"
     ]
    }
   ],
   "source": [
    "import time\n",
    "from elasticsearch import helpers\n",
    "n=1\n",
    "start_time = time.time()\n",
    "for i, json_file in enumerate(sorted(os.listdir(\"../json-generated-data-elastic\"))):\n",
    "    with open(os.path.join(\"../json-generated-data-elastic\", json_file)) as file:\n",
    "        file_dict = file.readlines()\n",
    "    \n",
    "    print(f'Cargando el documento {i+1}/{n}')\n",
    "    \n",
    "    \n",
    "    helpers.bulk(es, file_dict, index=f\"extracto_cuenta_test\")\n",
    "    \n",
    "    \n",
    "    if i+1 == n:\n",
    "        break\n",
    "\n",
    "end_time = time.time()"
   ]
  },
  {
   "cell_type": "code",
   "execution_count": 4,
   "metadata": {},
   "outputs": [
    {
     "data": {
      "text/plain": [
       "ObjectApiResponse({'_shards': {'total': 2, 'successful': 1, 'failed': 0}, '_all': {'primaries': {'store': {'size': '225b', 'size_in_bytes': 225, 'total_data_set_size': '225b', 'total_data_set_size_in_bytes': 225, 'reserved': '0b', 'reserved_in_bytes': 0}}, 'total': {'store': {'size': '225b', 'size_in_bytes': 225, 'total_data_set_size': '225b', 'total_data_set_size_in_bytes': 225, 'reserved': '0b', 'reserved_in_bytes': 0}}}, 'indices': {'extracto_cuenta_test': {'uuid': '2REKFn6qTLy0afgvHMaqJw', 'health': 'yellow', 'status': 'open', 'primaries': {'store': {'size': '225b', 'size_in_bytes': 225, 'total_data_set_size': '225b', 'total_data_set_size_in_bytes': 225, 'reserved': '0b', 'reserved_in_bytes': 0}}, 'total': {'store': {'size': '225b', 'size_in_bytes': 225, 'total_data_set_size': '225b', 'total_data_set_size_in_bytes': 225, 'reserved': '0b', 'reserved_in_bytes': 0}}}}})"
      ]
     },
     "execution_count": 4,
     "metadata": {},
     "output_type": "execute_result"
    }
   ],
   "source": [
    "es.indices.stats(metric='store', human=True, index=\"extracto_cuenta_test\")"
   ]
  },
  {
   "cell_type": "code",
   "execution_count": 6,
   "metadata": {},
   "outputs": [
    {
     "data": {
      "text/plain": [
       "ObjectApiResponse({'_shards': {'total': 2, 'successful': 1, 'failed': 0}, '_all': {'primaries': {'store': {'size': '105.6mb', 'size_in_bytes': 110769373, 'total_data_set_size': '105.6mb', 'total_data_set_size_in_bytes': 110769373, 'reserved': '0b', 'reserved_in_bytes': 0}}, 'total': {'store': {'size': '105.6mb', 'size_in_bytes': 110769373, 'total_data_set_size': '105.6mb', 'total_data_set_size_in_bytes': 110769373, 'reserved': '0b', 'reserved_in_bytes': 0}}}, 'indices': {'extracto_cuenta_test': {'uuid': '2REKFn6qTLy0afgvHMaqJw', 'health': 'yellow', 'status': 'open', 'primaries': {'store': {'size': '105.6mb', 'size_in_bytes': 110769373, 'total_data_set_size': '105.6mb', 'total_data_set_size_in_bytes': 110769373, 'reserved': '0b', 'reserved_in_bytes': 0}}, 'total': {'store': {'size': '105.6mb', 'size_in_bytes': 110769373, 'total_data_set_size': '105.6mb', 'total_data_set_size_in_bytes': 110769373, 'reserved': '0b', 'reserved_in_bytes': 0}}}}})"
      ]
     },
     "execution_count": 6,
     "metadata": {},
     "output_type": "execute_result"
    }
   ],
   "source": [
    "es.indices.stats(metric='store', human=True, index=\"extracto_cuenta_test\")"
   ]
  },
  {
   "cell_type": "code",
   "execution_count": 9,
   "metadata": {},
   "outputs": [
    {
     "name": "stdout",
     "output_type": "stream",
     "text": [
      "{\n",
      " \"store_size\": \"107.7mb\",\n",
      " \"store_size_in_bytes\": 112948520,\n",
      " \"all_fields\": {\n",
      "  \"total\": \"107mb\",\n",
      "  \"total_in_bytes\": 112223888,\n",
      "  \"inverted_index\": {\n",
      "   \"total\": \"5.2mb\",\n",
      "   \"total_in_bytes\": 5527165\n",
      "  },\n",
      "  \"stored_fields\": \"87.7mb\",\n",
      "  \"stored_fields_in_bytes\": 92016342,\n",
      "  \"doc_values\": \"12.9mb\",\n",
      "  \"doc_values_in_bytes\": 13567494,\n",
      "  \"points\": \"1mb\",\n",
      "  \"points_in_bytes\": 1112887,\n",
      "  \"norms\": \"0b\",\n",
      "  \"norms_in_bytes\": 0,\n",
      "  \"term_vectors\": \"0b\",\n",
      "  \"term_vectors_in_bytes\": 0,\n",
      "  \"knn_vectors\": \"0b\",\n",
      "  \"knn_vectors_in_bytes\": 0\n",
      " },\n",
      " \"fields\": {\n",
      "  \"_id\": {\n",
      "   \"total\": \"15.7mb\",\n",
      "   \"total_in_bytes\": 16521036,\n",
      "   \"inverted_index\": {\n",
      "    \"total\": \"5.2mb\",\n",
      "    \"total_in_bytes\": 5527165\n",
      "   },\n",
      "   \"stored_fields\": \"10.4mb\",\n",
      "   \"stored_fields_in_bytes\": 10993871,\n",
      "   \"doc_values\": \"0b\",\n",
      "   \"doc_values_in_bytes\": 0,\n",
      "   \"points\": \"0b\",\n",
      "   \"points_in_bytes\": 0,\n",
      "   \"norms\": \"0b\",\n",
      "   \"norms_in_bytes\": 0,\n",
      "   \"term_vectors\": \"0b\",\n",
      "   \"term_vectors_in_bytes\": 0,\n",
      "   \"knn_vectors\": \"0b\",\n",
      "   \"knn_vectors_in_bytes\": 0\n",
      "  },\n",
      "  \"_primary_term\": {\n",
      "   \"total\": \"0b\",\n",
      "   \"total_in_bytes\": 0,\n",
      "   \"inverted_index\": {\n",
      "    \"total\": \"0b\",\n",
      "    \"total_in_bytes\": 0\n",
      "   },\n",
      "   \"stored_fields\": \"0b\",\n",
      "   \"stored_fields_in_bytes\": 0,\n",
      "   \"doc_values\": \"0b\",\n",
      "   \"doc_values_in_bytes\": 0,\n",
      "   \"points\": \"0b\",\n",
      "   \"points_in_bytes\": 0,\n",
      "   \"norms\": \"0b\",\n",
      "   \"norms_in_bytes\": 0,\n",
      "   \"term_vectors\": \"0b\",\n",
      "   \"term_vectors_in_bytes\": 0,\n",
      "   \"knn_vectors\": \"0b\",\n",
      "   \"knn_vectors_in_bytes\": 0\n",
      "  },\n",
      "  \"_seq_no\": {\n",
      "   \"total\": \"3mb\",\n",
      "   \"total_in_bytes\": 3179520,\n",
      "   \"inverted_index\": {\n",
      "    \"total\": \"0b\",\n",
      "    \"total_in_bytes\": 0\n",
      "   },\n",
      "   \"stored_fields\": \"0b\",\n",
      "   \"stored_fields_in_bytes\": 0,\n",
      "   \"doc_values\": \"1.9mb\",\n",
      "   \"doc_values_in_bytes\": 2066633,\n",
      "   \"points\": \"1mb\",\n",
      "   \"points_in_bytes\": 1112887,\n",
      "   \"norms\": \"0b\",\n",
      "   \"norms_in_bytes\": 0,\n",
      "   \"term_vectors\": \"0b\",\n",
      "   \"term_vectors_in_bytes\": 0,\n",
      "   \"knn_vectors\": \"0b\",\n",
      "   \"knn_vectors_in_bytes\": 0\n",
      "  },\n",
      "  \"_source\": {\n",
      "   \"total\": \"77.2mb\",\n",
      "   \"total_in_bytes\": 81022471,\n",
      "   \"inverted_index\": {\n",
      "    \"total\": \"0b\",\n",
      "    \"total_in_bytes\": 0\n",
      "   },\n",
      "   \"stored_fields\": \"77.2mb\",\n",
      "   \"stored_fields_in_bytes\": 81022471,\n",
      "   \"doc_values\": \"0b\",\n",
      "   \"doc_values_in_bytes\": 0,\n",
      "   \"points\": \"0b\",\n",
      "   \"points_in_bytes\": 0,\n",
      "   \"norms\": \"0b\",\n",
      "   \"norms_in_bytes\": 0,\n",
      "   \"term_vectors\": \"0b\",\n",
      "   \"term_vectors_in_bytes\": 0,\n",
      "   \"knn_vectors\": \"0b\",\n",
      "   \"knn_vectors_in_bytes\": 0\n",
      "  },\n",
      "  \"_version\": {\n",
      "   \"total\": \"0b\",\n",
      "   \"total_in_bytes\": 0,\n",
      "   \"inverted_index\": {\n",
      "    \"total\": \"0b\",\n",
      "    \"total_in_bytes\": 0\n",
      "   },\n",
      "   \"stored_fields\": \"0b\",\n",
      "   \"stored_fields_in_bytes\": 0,\n",
      "   \"doc_values\": \"0b\",\n",
      "   \"doc_values_in_bytes\": 0,\n",
      "   \"points\": \"0b\",\n",
      "   \"points_in_bytes\": 0,\n",
      "   \"norms\": \"0b\",\n",
      "   \"norms_in_bytes\": 0,\n",
      "   \"term_vectors\": \"0b\",\n",
      "   \"term_vectors_in_bytes\": 0,\n",
      "   \"knn_vectors\": \"0b\",\n",
      "   \"knn_vectors_in_bytes\": 0\n",
      "  },\n",
      "  \"agencia\": {\n",
      "   \"total\": \"489.1kb\",\n",
      "   \"total_in_bytes\": 500859,\n",
      "   \"inverted_index\": {\n",
      "    \"total\": \"0b\",\n",
      "    \"total_in_bytes\": 0\n",
      "   },\n",
      "   \"stored_fields\": \"0b\",\n",
      "   \"stored_fields_in_bytes\": 0,\n",
      "   \"doc_values\": \"489.1kb\",\n",
      "   \"doc_values_in_bytes\": 500859,\n",
      "   \"points\": \"0b\",\n",
      "   \"points_in_bytes\": 0,\n",
      "   \"norms\": \"0b\",\n",
      "   \"norms_in_bytes\": 0,\n",
      "   \"term_vectors\": \"0b\",\n",
      "   \"term_vectors_in_bytes\": 0,\n",
      "   \"knn_vectors\": \"0b\",\n",
      "   \"knn_vectors_in_bytes\": 0\n",
      "  },\n",
      "  \"fecha\": {\n",
      "   \"total\": \"3.8mb\",\n",
      "   \"total_in_bytes\": 4000000,\n",
      "   \"inverted_index\": {\n",
      "    \"total\": \"0b\",\n",
      "    \"total_in_bytes\": 0\n",
      "   },\n",
      "   \"stored_fields\": \"0b\",\n",
      "   \"stored_fields_in_bytes\": 0,\n",
      "   \"doc_values\": \"3.8mb\",\n",
      "   \"doc_values_in_bytes\": 4000000,\n",
      "   \"points\": \"0b\",\n",
      "   \"points_in_bytes\": 0,\n",
      "   \"norms\": \"0b\",\n",
      "   \"norms_in_bytes\": 0,\n",
      "   \"term_vectors\": \"0b\",\n",
      "   \"term_vectors_in_bytes\": 0,\n",
      "   \"knn_vectors\": \"0b\",\n",
      "   \"knn_vectors_in_bytes\": 0\n",
      "  },\n",
      "  \"monto\": {\n",
      "   \"total\": \"3.3mb\",\n",
      "   \"total_in_bytes\": 3500001,\n",
      "   \"inverted_index\": {\n",
      "    \"total\": \"0b\",\n",
      "    \"total_in_bytes\": 0\n",
      "   },\n",
      "   \"stored_fields\": \"0b\",\n",
      "   \"stored_fields_in_bytes\": 0,\n",
      "   \"doc_values\": \"3.3mb\",\n",
      "   \"doc_values_in_bytes\": 3500001,\n",
      "   \"points\": \"0b\",\n",
      "   \"points_in_bytes\": 0,\n",
      "   \"norms\": \"0b\",\n",
      "   \"norms_in_bytes\": 0,\n",
      "   \"term_vectors\": \"0b\",\n",
      "   \"term_vectors_in_bytes\": 0,\n",
      "   \"knn_vectors\": \"0b\",\n",
      "   \"knn_vectors_in_bytes\": 0\n",
      "  },\n",
      "  \"saldo\": {\n",
      "   \"total\": \"3.3mb\",\n",
      "   \"total_in_bytes\": 3500001,\n",
      "   \"inverted_index\": {\n",
      "    \"total\": \"0b\",\n",
      "    \"total_in_bytes\": 0\n",
      "   },\n",
      "   \"stored_fields\": \"0b\",\n",
      "   \"stored_fields_in_bytes\": 0,\n",
      "   \"doc_values\": \"3.3mb\",\n",
      "   \"doc_values_in_bytes\": 3500001,\n",
      "   \"points\": \"0b\",\n",
      "   \"points_in_bytes\": 0,\n",
      "   \"norms\": \"0b\",\n",
      "   \"norms_in_bytes\": 0,\n",
      "   \"term_vectors\": \"0b\",\n",
      "   \"term_vectors_in_bytes\": 0,\n",
      "   \"knn_vectors\": \"0b\",\n",
      "   \"knn_vectors_in_bytes\": 0\n",
      "  }\n",
      " }\n",
      "}\n"
     ]
    }
   ],
   "source": [
    "r = dumps(es.indices.disk_usage(index=\"extracto_cuenta_test\", run_expensive_tasks=True)['extracto_cuenta_test'], indent=1)\n",
    "print(r)"
   ]
  },
  {
   "cell_type": "code",
   "execution_count": 12,
   "metadata": {},
   "outputs": [
    {
     "data": {
      "text/plain": [
       "ObjectApiResponse({'_shards': {'total': 2, 'successful': 1, 'failed': 0}, '_all': {'primaries': {'store': {'size': '3.1gb', 'size_in_bytes': 3364925723, 'total_data_set_size': '3.1gb', 'total_data_set_size_in_bytes': 3364925723, 'reserved': '0b', 'reserved_in_bytes': 0}}, 'total': {'store': {'size': '3.1gb', 'size_in_bytes': 3364925723, 'total_data_set_size': '3.1gb', 'total_data_set_size_in_bytes': 3364925723, 'reserved': '0b', 'reserved_in_bytes': 0}}}, 'indices': {'extracto_cuenta_30m': {'uuid': '9VBDsOpnTrizdpSu-e_aBA', 'health': 'yellow', 'status': 'open', 'primaries': {'store': {'size': '3.1gb', 'size_in_bytes': 3364925723, 'total_data_set_size': '3.1gb', 'total_data_set_size_in_bytes': 3364925723, 'reserved': '0b', 'reserved_in_bytes': 0}}, 'total': {'store': {'size': '3.1gb', 'size_in_bytes': 3364925723, 'total_data_set_size': '3.1gb', 'total_data_set_size_in_bytes': 3364925723, 'reserved': '0b', 'reserved_in_bytes': 0}}}}})"
      ]
     },
     "execution_count": 12,
     "metadata": {},
     "output_type": "execute_result"
    }
   ],
   "source": [
    "es.indices.stats(metric='store', human=True, index=\"extracto_cuenta_30m\")"
   ]
  },
  {
   "cell_type": "code",
   "execution_count": 19,
   "metadata": {},
   "outputs": [
    {
     "ename": "ConnectionTimeout",
     "evalue": "Connection timed out",
     "output_type": "error",
     "traceback": [
      "\u001b[0;31m---------------------------------------------------------------------------\u001b[0m",
      "\u001b[0;31mConnectionTimeout\u001b[0m                         Traceback (most recent call last)",
      "\u001b[1;32m/home/christian/Documents/comparacion-elasticsearch-mongodb/elasticsearch/insert-elastic.ipynb Cell 43\u001b[0m in \u001b[0;36m<cell line: 1>\u001b[0;34m()\u001b[0m\n\u001b[0;32m----> <a href='vscode-notebook-cell:/home/christian/Documents/comparacion-elasticsearch-mongodb/elasticsearch/insert-elastic.ipynb#X61sZmlsZQ%3D%3D?line=0'>1</a>\u001b[0m r \u001b[39m=\u001b[39m dumps(es\u001b[39m.\u001b[39;49mindices\u001b[39m.\u001b[39;49mdisk_usage(index\u001b[39m=\u001b[39;49m\u001b[39m\"\u001b[39;49m\u001b[39mextracto_cuenta_30m\u001b[39;49m\u001b[39m\"\u001b[39;49m, run_expensive_tasks\u001b[39m=\u001b[39;49m\u001b[39mTrue\u001b[39;49;00m)[\u001b[39m'\u001b[39m\u001b[39mextracto_cuenta_1m\u001b[39m\u001b[39m'\u001b[39m], indent\u001b[39m=\u001b[39m\u001b[39m1\u001b[39m)\n\u001b[1;32m      <a href='vscode-notebook-cell:/home/christian/Documents/comparacion-elasticsearch-mongodb/elasticsearch/insert-elastic.ipynb#X61sZmlsZQ%3D%3D?line=1'>2</a>\u001b[0m \u001b[39mprint\u001b[39m(r)\n",
      "File \u001b[0;32m~/anaconda3/lib/python3.9/site-packages/elasticsearch/_sync/client/utils.py:414\u001b[0m, in \u001b[0;36m_rewrite_parameters.<locals>.wrapper.<locals>.wrapped\u001b[0;34m(*args, **kwargs)\u001b[0m\n\u001b[1;32m    411\u001b[0m         \u001b[39mexcept\u001b[39;00m \u001b[39mKeyError\u001b[39;00m:\n\u001b[1;32m    412\u001b[0m             \u001b[39mpass\u001b[39;00m\n\u001b[0;32m--> 414\u001b[0m \u001b[39mreturn\u001b[39;00m api(\u001b[39m*\u001b[39;49margs, \u001b[39m*\u001b[39;49m\u001b[39m*\u001b[39;49mkwargs)\n",
      "File \u001b[0;32m~/anaconda3/lib/python3.9/site-packages/elasticsearch/_sync/client/indices.py:983\u001b[0m, in \u001b[0;36mIndicesClient.disk_usage\u001b[0;34m(self, index, allow_no_indices, error_trace, expand_wildcards, filter_path, flush, human, ignore_unavailable, pretty, run_expensive_tasks)\u001b[0m\n\u001b[1;32m    981\u001b[0m     __query[\u001b[39m\"\u001b[39m\u001b[39mrun_expensive_tasks\u001b[39m\u001b[39m\"\u001b[39m] \u001b[39m=\u001b[39m run_expensive_tasks\n\u001b[1;32m    982\u001b[0m __headers \u001b[39m=\u001b[39m {\u001b[39m\"\u001b[39m\u001b[39maccept\u001b[39m\u001b[39m\"\u001b[39m: \u001b[39m\"\u001b[39m\u001b[39mapplication/json\u001b[39m\u001b[39m\"\u001b[39m}\n\u001b[0;32m--> 983\u001b[0m \u001b[39mreturn\u001b[39;00m \u001b[39mself\u001b[39;49m\u001b[39m.\u001b[39;49mperform_request(  \u001b[39m# type: ignore[return-value]\u001b[39;49;00m\n\u001b[1;32m    984\u001b[0m     \u001b[39m\"\u001b[39;49m\u001b[39mPOST\u001b[39;49m\u001b[39m\"\u001b[39;49m, __path, params\u001b[39m=\u001b[39;49m__query, headers\u001b[39m=\u001b[39;49m__headers\n\u001b[1;32m    985\u001b[0m )\n",
      "File \u001b[0;32m~/anaconda3/lib/python3.9/site-packages/elasticsearch/_sync/client/_base.py:390\u001b[0m, in \u001b[0;36mNamespacedClient.perform_request\u001b[0;34m(self, method, path, params, headers, body)\u001b[0m\n\u001b[1;32m    379\u001b[0m \u001b[39mdef\u001b[39;00m \u001b[39mperform_request\u001b[39m(\n\u001b[1;32m    380\u001b[0m     \u001b[39mself\u001b[39m,\n\u001b[1;32m    381\u001b[0m     method: \u001b[39mstr\u001b[39m,\n\u001b[0;32m   (...)\u001b[0m\n\u001b[1;32m    388\u001b[0m     \u001b[39m# Use the internal clients .perform_request() implementation\u001b[39;00m\n\u001b[1;32m    389\u001b[0m     \u001b[39m# so we take advantage of their transport options.\u001b[39;00m\n\u001b[0;32m--> 390\u001b[0m     \u001b[39mreturn\u001b[39;00m \u001b[39mself\u001b[39;49m\u001b[39m.\u001b[39;49m_client\u001b[39m.\u001b[39;49mperform_request(\n\u001b[1;32m    391\u001b[0m         method, path, params\u001b[39m=\u001b[39;49mparams, headers\u001b[39m=\u001b[39;49mheaders, body\u001b[39m=\u001b[39;49mbody\n\u001b[1;32m    392\u001b[0m     )\n",
      "File \u001b[0;32m~/anaconda3/lib/python3.9/site-packages/elasticsearch/_sync/client/_base.py:286\u001b[0m, in \u001b[0;36mBaseClient.perform_request\u001b[0;34m(self, method, path, params, headers, body)\u001b[0m\n\u001b[1;32m    283\u001b[0m \u001b[39melse\u001b[39;00m:\n\u001b[1;32m    284\u001b[0m     target \u001b[39m=\u001b[39m path\n\u001b[0;32m--> 286\u001b[0m meta, resp_body \u001b[39m=\u001b[39m \u001b[39mself\u001b[39;49m\u001b[39m.\u001b[39;49mtransport\u001b[39m.\u001b[39;49mperform_request(\n\u001b[1;32m    287\u001b[0m     method,\n\u001b[1;32m    288\u001b[0m     target,\n\u001b[1;32m    289\u001b[0m     headers\u001b[39m=\u001b[39;49mrequest_headers,\n\u001b[1;32m    290\u001b[0m     body\u001b[39m=\u001b[39;49mbody,\n\u001b[1;32m    291\u001b[0m     request_timeout\u001b[39m=\u001b[39;49m\u001b[39mself\u001b[39;49m\u001b[39m.\u001b[39;49m_request_timeout,\n\u001b[1;32m    292\u001b[0m     max_retries\u001b[39m=\u001b[39;49m\u001b[39mself\u001b[39;49m\u001b[39m.\u001b[39;49m_max_retries,\n\u001b[1;32m    293\u001b[0m     retry_on_status\u001b[39m=\u001b[39;49m\u001b[39mself\u001b[39;49m\u001b[39m.\u001b[39;49m_retry_on_status,\n\u001b[1;32m    294\u001b[0m     retry_on_timeout\u001b[39m=\u001b[39;49m\u001b[39mself\u001b[39;49m\u001b[39m.\u001b[39;49m_retry_on_timeout,\n\u001b[1;32m    295\u001b[0m     client_meta\u001b[39m=\u001b[39;49m\u001b[39mself\u001b[39;49m\u001b[39m.\u001b[39;49m_client_meta,\n\u001b[1;32m    296\u001b[0m )\n\u001b[1;32m    298\u001b[0m \u001b[39m# HEAD with a 404 is returned as a normal response\u001b[39;00m\n\u001b[1;32m    299\u001b[0m \u001b[39m# since this is used as an 'exists' functionality.\u001b[39;00m\n\u001b[1;32m    300\u001b[0m \u001b[39mif\u001b[39;00m \u001b[39mnot\u001b[39;00m (method \u001b[39m==\u001b[39m \u001b[39m\"\u001b[39m\u001b[39mHEAD\u001b[39m\u001b[39m\"\u001b[39m \u001b[39mand\u001b[39;00m meta\u001b[39m.\u001b[39mstatus \u001b[39m==\u001b[39m \u001b[39m404\u001b[39m) \u001b[39mand\u001b[39;00m (\n\u001b[1;32m    301\u001b[0m     \u001b[39mnot\u001b[39;00m \u001b[39m200\u001b[39m \u001b[39m<\u001b[39m\u001b[39m=\u001b[39m meta\u001b[39m.\u001b[39mstatus \u001b[39m<\u001b[39m \u001b[39m299\u001b[39m\n\u001b[1;32m    302\u001b[0m     \u001b[39mand\u001b[39;00m (\n\u001b[0;32m   (...)\u001b[0m\n\u001b[1;32m    306\u001b[0m     )\n\u001b[1;32m    307\u001b[0m ):\n",
      "File \u001b[0;32m~/anaconda3/lib/python3.9/site-packages/elastic_transport/_transport.py:329\u001b[0m, in \u001b[0;36mTransport.perform_request\u001b[0;34m(self, method, target, body, headers, max_retries, retry_on_status, retry_on_timeout, request_timeout, client_meta)\u001b[0m\n\u001b[1;32m    327\u001b[0m start_time \u001b[39m=\u001b[39m time\u001b[39m.\u001b[39mtime()\n\u001b[1;32m    328\u001b[0m \u001b[39mtry\u001b[39;00m:\n\u001b[0;32m--> 329\u001b[0m     meta, raw_data \u001b[39m=\u001b[39m node\u001b[39m.\u001b[39;49mperform_request(\n\u001b[1;32m    330\u001b[0m         method,\n\u001b[1;32m    331\u001b[0m         target,\n\u001b[1;32m    332\u001b[0m         body\u001b[39m=\u001b[39;49mrequest_body,\n\u001b[1;32m    333\u001b[0m         headers\u001b[39m=\u001b[39;49mrequest_headers,\n\u001b[1;32m    334\u001b[0m         request_timeout\u001b[39m=\u001b[39;49mrequest_timeout,\n\u001b[1;32m    335\u001b[0m     )\n\u001b[1;32m    336\u001b[0m     _logger\u001b[39m.\u001b[39minfo(\n\u001b[1;32m    337\u001b[0m         \u001b[39m\"\u001b[39m\u001b[39m%s\u001b[39;00m\u001b[39m \u001b[39m\u001b[39m%s\u001b[39;00m\u001b[39m%s\u001b[39;00m\u001b[39m [status:\u001b[39m\u001b[39m%s\u001b[39;00m\u001b[39m duration:\u001b[39m\u001b[39m%.3f\u001b[39;00m\u001b[39ms]\u001b[39m\u001b[39m\"\u001b[39m\n\u001b[1;32m    338\u001b[0m         \u001b[39m%\u001b[39m (\n\u001b[0;32m   (...)\u001b[0m\n\u001b[1;32m    344\u001b[0m         )\n\u001b[1;32m    345\u001b[0m     )\n\u001b[1;32m    347\u001b[0m     \u001b[39mif\u001b[39;00m method \u001b[39m!=\u001b[39m \u001b[39m\"\u001b[39m\u001b[39mHEAD\u001b[39m\u001b[39m\"\u001b[39m:\n",
      "File \u001b[0;32m~/anaconda3/lib/python3.9/site-packages/elastic_transport/_node/_http_urllib3.py:199\u001b[0m, in \u001b[0;36mUrllib3HttpNode.perform_request\u001b[0;34m(self, method, target, body, headers, request_timeout)\u001b[0m\n\u001b[1;32m    191\u001b[0m         err \u001b[39m=\u001b[39m \u001b[39mConnectionError\u001b[39;00m(\u001b[39mstr\u001b[39m(e), errors\u001b[39m=\u001b[39m(e,))\n\u001b[1;32m    192\u001b[0m     \u001b[39mself\u001b[39m\u001b[39m.\u001b[39m_log_request(\n\u001b[1;32m    193\u001b[0m         method\u001b[39m=\u001b[39mmethod,\n\u001b[1;32m    194\u001b[0m         target\u001b[39m=\u001b[39mtarget,\n\u001b[0;32m   (...)\u001b[0m\n\u001b[1;32m    197\u001b[0m         exception\u001b[39m=\u001b[39merr,\n\u001b[1;32m    198\u001b[0m     )\n\u001b[0;32m--> 199\u001b[0m     \u001b[39mraise\u001b[39;00m err \u001b[39mfrom\u001b[39;00m \u001b[39mNone\u001b[39m\n\u001b[1;32m    201\u001b[0m meta \u001b[39m=\u001b[39m ApiResponseMeta(\n\u001b[1;32m    202\u001b[0m     node\u001b[39m=\u001b[39m\u001b[39mself\u001b[39m\u001b[39m.\u001b[39mconfig,\n\u001b[1;32m    203\u001b[0m     duration\u001b[39m=\u001b[39mduration,\n\u001b[0;32m   (...)\u001b[0m\n\u001b[1;32m    206\u001b[0m     headers\u001b[39m=\u001b[39mresponse_headers,\n\u001b[1;32m    207\u001b[0m )\n\u001b[1;32m    208\u001b[0m \u001b[39mself\u001b[39m\u001b[39m.\u001b[39m_log_request(\n\u001b[1;32m    209\u001b[0m     method\u001b[39m=\u001b[39mmethod,\n\u001b[1;32m    210\u001b[0m     target\u001b[39m=\u001b[39mtarget,\n\u001b[0;32m   (...)\u001b[0m\n\u001b[1;32m    214\u001b[0m     response\u001b[39m=\u001b[39mdata,\n\u001b[1;32m    215\u001b[0m )\n",
      "\u001b[0;31mConnectionTimeout\u001b[0m: Connection timed out"
     ]
    }
   ],
   "source": [
    "r = dumps(es.indices.disk_usage(index=\"extracto_cuenta_30m\", run_expensive_tasks=True)['extracto_cuenta_1m'], indent=1)\n",
    "print(r)"
   ]
  },
  {
   "cell_type": "code",
   "execution_count": 24,
   "metadata": {},
   "outputs": [],
   "source": [
    "\n",
    "mapping = {\n",
    "        \"properties\": {\n",
    "            \"fecha\": {\n",
    "                \"type\": \"date\",\n",
    "                \"format\": \"yyyy-MM-dd HH:mm:ss\",\n",
    "                \"index\": \"true\"\n",
    "            },\n",
    "            \"agencia\": {\n",
    "                \"type\": \"keyword\",\n",
    "                \"index\": \"true\"\n",
    "            },\n",
    "            \"monto\": {\n",
    "                \"type\": \"float\",\n",
    "                \"index\": \"true\"\n",
    "            },\n",
    "            \"descripcion\": {\n",
    "                \"type\": \"text\",\n",
    "                \"index\": \"true\"\n",
    "            },\n",
    "            \"saldo\": {\n",
    "                \"type\": \"float\",\n",
    "                \"index\": \"true\"\n",
    "            },\n",
    "            \"nota\": {\n",
    "                \"type\": \"text\",\n",
    "                \"index\": \"true\"\n",
    "            }\n",
    "        }\n",
    "}\n",
    "\n",
    "r = es.indices.create(\n",
    "    index=\"extracto_cuenta_30m_reindexed\",\n",
    "    mappings = mapping\n",
    ")"
   ]
  },
  {
   "cell_type": "code",
   "execution_count": 32,
   "metadata": {},
   "outputs": [],
   "source": [
    "source = {\n",
    "    \"index\": \"extracto_cuenta_30m\",\n",
    "    \"query\": {}\n",
    "}\n",
    "dest =  {\"index\": \"extracto_cuenta_30m_reindexed\"}"
   ]
  },
  {
   "cell_type": "code",
   "execution_count": 35,
   "metadata": {},
   "outputs": [
    {
     "ename": "ConnectionTimeout",
     "evalue": "Connection timed out",
     "output_type": "error",
     "traceback": [
      "\u001b[0;31m---------------------------------------------------------------------------\u001b[0m",
      "\u001b[0;31mConnectionTimeout\u001b[0m                         Traceback (most recent call last)",
      "\u001b[1;32m/home/christian/Documents/comparacion-elasticsearch-mongodb/elasticsearch/insert-elastic.ipynb Cell 46\u001b[0m in \u001b[0;36m<cell line: 1>\u001b[0;34m()\u001b[0m\n\u001b[0;32m----> <a href='vscode-notebook-cell:/home/christian/Documents/comparacion-elasticsearch-mongodb/elasticsearch/insert-elastic.ipynb#X62sZmlsZQ%3D%3D?line=0'>1</a>\u001b[0m r \u001b[39m=\u001b[39m es\u001b[39m.\u001b[39;49moptions(request_timeout\u001b[39m=\u001b[39;49m\u001b[39m30\u001b[39;49m)\u001b[39m.\u001b[39;49mreindex(source\u001b[39m=\u001b[39;49msource, dest\u001b[39m=\u001b[39;49mdest)\n",
      "File \u001b[0;32m~/anaconda3/lib/python3.9/site-packages/elasticsearch/_sync/client/utils.py:414\u001b[0m, in \u001b[0;36m_rewrite_parameters.<locals>.wrapper.<locals>.wrapped\u001b[0;34m(*args, **kwargs)\u001b[0m\n\u001b[1;32m    411\u001b[0m         \u001b[39mexcept\u001b[39;00m \u001b[39mKeyError\u001b[39;00m:\n\u001b[1;32m    412\u001b[0m             \u001b[39mpass\u001b[39;00m\n\u001b[0;32m--> 414\u001b[0m \u001b[39mreturn\u001b[39;00m api(\u001b[39m*\u001b[39;49margs, \u001b[39m*\u001b[39;49m\u001b[39m*\u001b[39;49mkwargs)\n",
      "File \u001b[0;32m~/anaconda3/lib/python3.9/site-packages/elasticsearch/_sync/client/__init__.py:3144\u001b[0m, in \u001b[0;36mElasticsearch.reindex\u001b[0;34m(self, dest, source, conflicts, error_trace, filter_path, human, max_docs, pretty, refresh, requests_per_second, require_alias, script, scroll, size, slices, timeout, wait_for_active_shards, wait_for_completion)\u001b[0m\n\u001b[1;32m   3142\u001b[0m     __query[\u001b[39m\"\u001b[39m\u001b[39mwait_for_completion\u001b[39m\u001b[39m\"\u001b[39m] \u001b[39m=\u001b[39m wait_for_completion\n\u001b[1;32m   3143\u001b[0m __headers \u001b[39m=\u001b[39m {\u001b[39m\"\u001b[39m\u001b[39maccept\u001b[39m\u001b[39m\"\u001b[39m: \u001b[39m\"\u001b[39m\u001b[39mapplication/json\u001b[39m\u001b[39m\"\u001b[39m, \u001b[39m\"\u001b[39m\u001b[39mcontent-type\u001b[39m\u001b[39m\"\u001b[39m: \u001b[39m\"\u001b[39m\u001b[39mapplication/json\u001b[39m\u001b[39m\"\u001b[39m}\n\u001b[0;32m-> 3144\u001b[0m \u001b[39mreturn\u001b[39;00m \u001b[39mself\u001b[39;49m\u001b[39m.\u001b[39;49mperform_request(  \u001b[39m# type: ignore[return-value]\u001b[39;49;00m\n\u001b[1;32m   3145\u001b[0m     \u001b[39m\"\u001b[39;49m\u001b[39mPOST\u001b[39;49m\u001b[39m\"\u001b[39;49m, __path, params\u001b[39m=\u001b[39;49m__query, headers\u001b[39m=\u001b[39;49m__headers, body\u001b[39m=\u001b[39;49m__body\n\u001b[1;32m   3146\u001b[0m )\n",
      "File \u001b[0;32m~/anaconda3/lib/python3.9/site-packages/elasticsearch/_sync/client/_base.py:286\u001b[0m, in \u001b[0;36mBaseClient.perform_request\u001b[0;34m(self, method, path, params, headers, body)\u001b[0m\n\u001b[1;32m    283\u001b[0m \u001b[39melse\u001b[39;00m:\n\u001b[1;32m    284\u001b[0m     target \u001b[39m=\u001b[39m path\n\u001b[0;32m--> 286\u001b[0m meta, resp_body \u001b[39m=\u001b[39m \u001b[39mself\u001b[39;49m\u001b[39m.\u001b[39;49mtransport\u001b[39m.\u001b[39;49mperform_request(\n\u001b[1;32m    287\u001b[0m     method,\n\u001b[1;32m    288\u001b[0m     target,\n\u001b[1;32m    289\u001b[0m     headers\u001b[39m=\u001b[39;49mrequest_headers,\n\u001b[1;32m    290\u001b[0m     body\u001b[39m=\u001b[39;49mbody,\n\u001b[1;32m    291\u001b[0m     request_timeout\u001b[39m=\u001b[39;49m\u001b[39mself\u001b[39;49m\u001b[39m.\u001b[39;49m_request_timeout,\n\u001b[1;32m    292\u001b[0m     max_retries\u001b[39m=\u001b[39;49m\u001b[39mself\u001b[39;49m\u001b[39m.\u001b[39;49m_max_retries,\n\u001b[1;32m    293\u001b[0m     retry_on_status\u001b[39m=\u001b[39;49m\u001b[39mself\u001b[39;49m\u001b[39m.\u001b[39;49m_retry_on_status,\n\u001b[1;32m    294\u001b[0m     retry_on_timeout\u001b[39m=\u001b[39;49m\u001b[39mself\u001b[39;49m\u001b[39m.\u001b[39;49m_retry_on_timeout,\n\u001b[1;32m    295\u001b[0m     client_meta\u001b[39m=\u001b[39;49m\u001b[39mself\u001b[39;49m\u001b[39m.\u001b[39;49m_client_meta,\n\u001b[1;32m    296\u001b[0m )\n\u001b[1;32m    298\u001b[0m \u001b[39m# HEAD with a 404 is returned as a normal response\u001b[39;00m\n\u001b[1;32m    299\u001b[0m \u001b[39m# since this is used as an 'exists' functionality.\u001b[39;00m\n\u001b[1;32m    300\u001b[0m \u001b[39mif\u001b[39;00m \u001b[39mnot\u001b[39;00m (method \u001b[39m==\u001b[39m \u001b[39m\"\u001b[39m\u001b[39mHEAD\u001b[39m\u001b[39m\"\u001b[39m \u001b[39mand\u001b[39;00m meta\u001b[39m.\u001b[39mstatus \u001b[39m==\u001b[39m \u001b[39m404\u001b[39m) \u001b[39mand\u001b[39;00m (\n\u001b[1;32m    301\u001b[0m     \u001b[39mnot\u001b[39;00m \u001b[39m200\u001b[39m \u001b[39m<\u001b[39m\u001b[39m=\u001b[39m meta\u001b[39m.\u001b[39mstatus \u001b[39m<\u001b[39m \u001b[39m299\u001b[39m\n\u001b[1;32m    302\u001b[0m     \u001b[39mand\u001b[39;00m (\n\u001b[0;32m   (...)\u001b[0m\n\u001b[1;32m    306\u001b[0m     )\n\u001b[1;32m    307\u001b[0m ):\n",
      "File \u001b[0;32m~/anaconda3/lib/python3.9/site-packages/elastic_transport/_transport.py:329\u001b[0m, in \u001b[0;36mTransport.perform_request\u001b[0;34m(self, method, target, body, headers, max_retries, retry_on_status, retry_on_timeout, request_timeout, client_meta)\u001b[0m\n\u001b[1;32m    327\u001b[0m start_time \u001b[39m=\u001b[39m time\u001b[39m.\u001b[39mtime()\n\u001b[1;32m    328\u001b[0m \u001b[39mtry\u001b[39;00m:\n\u001b[0;32m--> 329\u001b[0m     meta, raw_data \u001b[39m=\u001b[39m node\u001b[39m.\u001b[39;49mperform_request(\n\u001b[1;32m    330\u001b[0m         method,\n\u001b[1;32m    331\u001b[0m         target,\n\u001b[1;32m    332\u001b[0m         body\u001b[39m=\u001b[39;49mrequest_body,\n\u001b[1;32m    333\u001b[0m         headers\u001b[39m=\u001b[39;49mrequest_headers,\n\u001b[1;32m    334\u001b[0m         request_timeout\u001b[39m=\u001b[39;49mrequest_timeout,\n\u001b[1;32m    335\u001b[0m     )\n\u001b[1;32m    336\u001b[0m     _logger\u001b[39m.\u001b[39minfo(\n\u001b[1;32m    337\u001b[0m         \u001b[39m\"\u001b[39m\u001b[39m%s\u001b[39;00m\u001b[39m \u001b[39m\u001b[39m%s\u001b[39;00m\u001b[39m%s\u001b[39;00m\u001b[39m [status:\u001b[39m\u001b[39m%s\u001b[39;00m\u001b[39m duration:\u001b[39m\u001b[39m%.3f\u001b[39;00m\u001b[39ms]\u001b[39m\u001b[39m\"\u001b[39m\n\u001b[1;32m    338\u001b[0m         \u001b[39m%\u001b[39m (\n\u001b[0;32m   (...)\u001b[0m\n\u001b[1;32m    344\u001b[0m         )\n\u001b[1;32m    345\u001b[0m     )\n\u001b[1;32m    347\u001b[0m     \u001b[39mif\u001b[39;00m method \u001b[39m!=\u001b[39m \u001b[39m\"\u001b[39m\u001b[39mHEAD\u001b[39m\u001b[39m\"\u001b[39m:\n",
      "File \u001b[0;32m~/anaconda3/lib/python3.9/site-packages/elastic_transport/_node/_http_urllib3.py:199\u001b[0m, in \u001b[0;36mUrllib3HttpNode.perform_request\u001b[0;34m(self, method, target, body, headers, request_timeout)\u001b[0m\n\u001b[1;32m    191\u001b[0m         err \u001b[39m=\u001b[39m \u001b[39mConnectionError\u001b[39;00m(\u001b[39mstr\u001b[39m(e), errors\u001b[39m=\u001b[39m(e,))\n\u001b[1;32m    192\u001b[0m     \u001b[39mself\u001b[39m\u001b[39m.\u001b[39m_log_request(\n\u001b[1;32m    193\u001b[0m         method\u001b[39m=\u001b[39mmethod,\n\u001b[1;32m    194\u001b[0m         target\u001b[39m=\u001b[39mtarget,\n\u001b[0;32m   (...)\u001b[0m\n\u001b[1;32m    197\u001b[0m         exception\u001b[39m=\u001b[39merr,\n\u001b[1;32m    198\u001b[0m     )\n\u001b[0;32m--> 199\u001b[0m     \u001b[39mraise\u001b[39;00m err \u001b[39mfrom\u001b[39;00m \u001b[39mNone\u001b[39m\n\u001b[1;32m    201\u001b[0m meta \u001b[39m=\u001b[39m ApiResponseMeta(\n\u001b[1;32m    202\u001b[0m     node\u001b[39m=\u001b[39m\u001b[39mself\u001b[39m\u001b[39m.\u001b[39mconfig,\n\u001b[1;32m    203\u001b[0m     duration\u001b[39m=\u001b[39mduration,\n\u001b[0;32m   (...)\u001b[0m\n\u001b[1;32m    206\u001b[0m     headers\u001b[39m=\u001b[39mresponse_headers,\n\u001b[1;32m    207\u001b[0m )\n\u001b[1;32m    208\u001b[0m \u001b[39mself\u001b[39m\u001b[39m.\u001b[39m_log_request(\n\u001b[1;32m    209\u001b[0m     method\u001b[39m=\u001b[39mmethod,\n\u001b[1;32m    210\u001b[0m     target\u001b[39m=\u001b[39mtarget,\n\u001b[0;32m   (...)\u001b[0m\n\u001b[1;32m    214\u001b[0m     response\u001b[39m=\u001b[39mdata,\n\u001b[1;32m    215\u001b[0m )\n",
      "\u001b[0;31mConnectionTimeout\u001b[0m: Connection timed out"
     ]
    }
   ],
   "source": [
    "r = es.options(request_timeout=30).reindex(source=source, dest=dest)"
   ]
  },
  {
   "cell_type": "code",
   "execution_count": null,
   "metadata": {},
   "outputs": [],
   "source": []
  }
 ],
 "metadata": {
  "kernelspec": {
   "display_name": "Python 3.9.12 ('base')",
   "language": "python",
   "name": "python3"
  },
  "language_info": {
   "codemirror_mode": {
    "name": "ipython",
    "version": 3
   },
   "file_extension": ".py",
   "mimetype": "text/x-python",
   "name": "python",
   "nbconvert_exporter": "python",
   "pygments_lexer": "ipython3",
   "version": "3.9.12"
  },
  "orig_nbformat": 4,
  "vscode": {
   "interpreter": {
    "hash": "d7e5a1f785ed82844e2da5d30522181462e1597dbd1807cbc4c5c0cc1d5a2e0b"
   }
  }
 },
 "nbformat": 4,
 "nbformat_minor": 2
}

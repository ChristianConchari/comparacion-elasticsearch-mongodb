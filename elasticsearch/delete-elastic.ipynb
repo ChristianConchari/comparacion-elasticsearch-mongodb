{
 "cells": [
  {
   "cell_type": "markdown",
   "metadata": {},
   "source": [
    "# Carga de librerias"
   ]
  },
  {
   "cell_type": "code",
   "execution_count": 1,
   "metadata": {},
   "outputs": [
    {
     "name": "stdout",
     "output_type": "stream",
     "text": [
      "Connected to ElasticSearch cluster `docker-cluster`\n"
     ]
    }
   ],
   "source": [
    "from elasticsearch import Elasticsearch\n",
    "import time\n",
    "from datetime import timedelta, datetime\n",
    "from lorem_text import lorem\n",
    "\n",
    "es = Elasticsearch(\"http://127.0.0.1:9200\")\n",
    "\n",
    "print(f\"Connected to ElasticSearch cluster `{es.info().body['cluster_name']}`\")"
   ]
  },
  {
   "cell_type": "markdown",
   "metadata": {},
   "source": [
    "# Eliminación de documentos de la base de datos con 1 millón de registros y todos los campos indexados"
   ]
  },
  {
   "cell_type": "markdown",
   "metadata": {},
   "source": [
    "En esta sección se revisará la operación de eliminación en la colección de 1 millón de documentos ya indexados."
   ]
  },
  {
   "cell_type": "code",
   "execution_count": 2,
   "metadata": {},
   "outputs": [
    {
     "data": {
      "text/plain": [
       "ObjectApiResponse({'extracto_cuenta_1m': {'mappings': {'properties': {'agencia': {'type': 'keyword'}, 'descripcion': {'type': 'text'}, 'fecha': {'type': 'date', 'format': 'yyyy-MM-dd HH:mm:ss'}, 'monto': {'type': 'float'}, 'nota': {'type': 'text'}, 'saldo': {'type': 'float'}}}}})"
      ]
     },
     "execution_count": 2,
     "metadata": {},
     "output_type": "execute_result"
    }
   ],
   "source": [
    "idx = \"extracto_cuenta_1m\"\n",
    "es.indices.get_mapping(index=idx)"
   ]
  },
  {
   "cell_type": "markdown",
   "metadata": {},
   "source": [
    "## Eliminación 1: Saldo menor"
   ]
  },
  {
   "cell_type": "markdown",
   "metadata": {},
   "source": [
    "Se eliminarán de la base de datos aquellos documentos cuyos saldos sean menores a determinado número."
   ]
  },
  {
   "cell_type": "code",
   "execution_count": 12,
   "metadata": {},
   "outputs": [],
   "source": [
    "def eliminar_saldo_min(saldo_min):\n",
    "\n",
    "    query = {\n",
    "        \"range\" : {\n",
    "                  \"saldo\": { \"lte\" : f\"{saldo_min}\"},\n",
    "      }\n",
    "    }\n",
    "\n",
    "    return es.options(request_timeout=30).delete_by_query(index = idx, query = query)"
   ]
  },
  {
   "cell_type": "code",
   "execution_count": 6,
   "metadata": {},
   "outputs": [
    {
     "name": "stdout",
     "output_type": "stream",
     "text": [
      "{'took': 1270, 'timed_out': False, 'total': 7, 'deleted': 7, 'batches': 1, 'version_conflicts': 0, 'noops': 0, 'retries': {'bulk': 0, 'search': 0}, 'throttled_millis': 0, 'requests_per_second': -1.0, 'throttled_until_millis': 0, 'failures': []}\n",
      "Se eliminaron 7 en un tiempo de 0:00:01.314142\n"
     ]
    }
   ],
   "source": [
    "saldo_min= 100\n",
    "\n",
    "start_time = time.time()\n",
    "results = eliminar_saldo_min(saldo_min)\n",
    "end_time = time.time()\n",
    "\n",
    "print(results)\n",
    "print(f\"Se eliminaron {results['total']} en un tiempo de {str(timedelta(seconds = (end_time - start_time)))}\")"
   ]
  },
  {
   "cell_type": "markdown",
   "metadata": {},
   "source": [
    "| Tabla resumen de resultados | Valor obtenido |\n",
    "|-----------------------------|----------------|\n",
    "| Tiempo eliminación 1        | 1.3141 s       |"
   ]
  },
  {
   "cell_type": "markdown",
   "metadata": {},
   "source": [
    "# Eliminación de documentos de la base de datos con 10 millones de registros y todos los campos indexados"
   ]
  },
  {
   "cell_type": "markdown",
   "metadata": {},
   "source": [
    "En esta sección se revisará la operación de eliminación en la colección de 10 millones de documentos ya indexados."
   ]
  },
  {
   "cell_type": "code",
   "execution_count": 7,
   "metadata": {},
   "outputs": [
    {
     "data": {
      "text/plain": [
       "ObjectApiResponse({'extracto_cuenta_10m': {'mappings': {'properties': {'agencia': {'type': 'keyword'}, 'descripcion': {'type': 'text'}, 'fecha': {'type': 'date', 'format': 'yyyy-MM-dd HH:mm:ss'}, 'monto': {'type': 'float'}, 'nota': {'type': 'text'}, 'saldo': {'type': 'float'}}}}})"
      ]
     },
     "execution_count": 7,
     "metadata": {},
     "output_type": "execute_result"
    }
   ],
   "source": [
    "idx = \"extracto_cuenta_10m\"\n",
    "es.indices.get_mapping(index=idx)"
   ]
  },
  {
   "cell_type": "markdown",
   "metadata": {},
   "source": [
    "## Eliminación 1: Saldo menor"
   ]
  },
  {
   "cell_type": "markdown",
   "metadata": {},
   "source": [
    "Se eliminarán de la base de datos aquellos documentos cuyos saldos sean menores a determinado número."
   ]
  },
  {
   "cell_type": "code",
   "execution_count": 10,
   "metadata": {},
   "outputs": [
    {
     "name": "stdout",
     "output_type": "stream",
     "text": [
      "{'took': 3346, 'timed_out': False, 'total': 99, 'deleted': 99, 'batches': 1, 'version_conflicts': 0, 'noops': 0, 'retries': {'bulk': 0, 'search': 0}, 'throttled_millis': 0, 'requests_per_second': -1.0, 'throttled_until_millis': 0, 'failures': []}\n",
      "Se eliminaron 99 en un tiempo de 0:00:03.350267\n"
     ]
    }
   ],
   "source": [
    "saldo_min= 200\n",
    "\n",
    "start_time = time.time()\n",
    "results = eliminar_saldo_min(saldo_min)\n",
    "end_time = time.time()\n",
    "\n",
    "print(results)\n",
    "print(f\"Se eliminaron {results['total']} en un tiempo de {str(timedelta(seconds = (end_time - start_time)))}\")"
   ]
  },
  {
   "cell_type": "markdown",
   "metadata": {},
   "source": [
    "| Tabla resumen de resultados | Valor obtenido |\n",
    "|-----------------------------|----------------|\n",
    "| Tiempo eliminación 1        | 3.3503 s       |"
   ]
  },
  {
   "cell_type": "markdown",
   "metadata": {},
   "source": [
    "# Eliminación de documentos de la base de datos con 30 millones de registros y todos los campos indexados"
   ]
  },
  {
   "cell_type": "markdown",
   "metadata": {},
   "source": [
    "En esta sección se revisará la operación de eliminación en la colección de 10 millones de documentos ya indexados."
   ]
  },
  {
   "cell_type": "code",
   "execution_count": 15,
   "metadata": {},
   "outputs": [
    {
     "data": {
      "text/plain": [
       "ObjectApiResponse({'extracto_cuenta_30m': {'mappings': {'properties': {'agencia': {'type': 'keyword'}, 'descripcion': {'type': 'text'}, 'fecha': {'type': 'date', 'format': 'yyyy-MM-dd HH:mm:ss'}, 'monto': {'type': 'float'}, 'nota': {'type': 'text'}, 'saldo': {'type': 'float'}}}}})"
      ]
     },
     "execution_count": 15,
     "metadata": {},
     "output_type": "execute_result"
    }
   ],
   "source": [
    "idx = \"extracto_cuenta_30m\"\n",
    "es.indices.get_mapping(index=idx)"
   ]
  },
  {
   "cell_type": "markdown",
   "metadata": {},
   "source": [
    "## Eliminación 1: Saldo menor"
   ]
  },
  {
   "cell_type": "markdown",
   "metadata": {},
   "source": [
    "Se eliminarán de la base de datos aquellos documentos cuyos saldos sean menores a determinado número."
   ]
  },
  {
   "cell_type": "code",
   "execution_count": 18,
   "metadata": {},
   "outputs": [
    {
     "name": "stdout",
     "output_type": "stream",
     "text": [
      "{'took': 9096, 'timed_out': False, 'total': 284, 'deleted': 284, 'batches': 1, 'version_conflicts': 0, 'noops': 0, 'retries': {'bulk': 0, 'search': 0}, 'throttled_millis': 0, 'requests_per_second': -1.0, 'throttled_until_millis': 0, 'failures': []}\n",
      "Se eliminaron 284 en un tiempo de 0:00:09.099498\n"
     ]
    }
   ],
   "source": [
    "saldo_min= 200\n",
    "\n",
    "start_time = time.time()\n",
    "results = eliminar_saldo_min(saldo_min)\n",
    "end_time = time.time()\n",
    "\n",
    "print(results)\n",
    "print(f\"Se eliminaron {results['total']} en un tiempo de {str(timedelta(seconds = (end_time - start_time)))}\")"
   ]
  },
  {
   "cell_type": "markdown",
   "metadata": {},
   "source": [
    "| Tabla resumen de resultados | Valor obtenido |\n",
    "|-----------------------------|----------------|\n",
    "| Tiempo eliminación 1        | 9.0995 s       |"
   ]
  },
  {
   "cell_type": "markdown",
   "metadata": {},
   "source": [
    "# Eliminación de documentos de la base de datos con 10 millones de registros y 3 campos indexados (fecha, descripcion, nota)"
   ]
  },
  {
   "cell_type": "markdown",
   "metadata": {},
   "source": [
    "En esta sección se revisará la operación de eliminación en la colección de 10 millones de documentos indexados en tres campos: fecha, descripción y nota."
   ]
  },
  {
   "cell_type": "code",
   "execution_count": 13,
   "metadata": {},
   "outputs": [
    {
     "data": {
      "text/plain": [
       "ObjectApiResponse({'extracto_cuenta_10m_3idx': {'mappings': {'properties': {'agencia': {'type': 'keyword', 'index': False}, 'descripcion': {'type': 'text'}, 'fecha': {'type': 'date', 'format': 'yyyy-MM-dd HH:mm:ss'}, 'monto': {'type': 'float', 'index': False}, 'nota': {'type': 'text'}, 'saldo': {'type': 'float', 'index': False}}}}})"
      ]
     },
     "execution_count": 13,
     "metadata": {},
     "output_type": "execute_result"
    }
   ],
   "source": [
    "idx = \"extracto_cuenta_10m_3idx\"\n",
    "es.indices.get_mapping(index=idx)"
   ]
  },
  {
   "cell_type": "markdown",
   "metadata": {},
   "source": [
    "## Eliminación 1: Saldo menor"
   ]
  },
  {
   "cell_type": "markdown",
   "metadata": {},
   "source": [
    "Se eliminarán de la base de datos aquellos documentos cuyos saldos sean menores a determinado número."
   ]
  },
  {
   "cell_type": "code",
   "execution_count": 14,
   "metadata": {},
   "outputs": [
    {
     "name": "stdout",
     "output_type": "stream",
     "text": [
      "{'took': 12444, 'timed_out': False, 'total': 111, 'deleted': 111, 'batches': 1, 'version_conflicts': 0, 'noops': 0, 'retries': {'bulk': 0, 'search': 0}, 'throttled_millis': 0, 'requests_per_second': -1.0, 'throttled_until_millis': 0, 'failures': []}\n",
      "Se eliminaron 111 en un tiempo de 0:00:12.448786\n"
     ]
    }
   ],
   "source": [
    "saldo_min= 100\n",
    "\n",
    "start_time = time.time()\n",
    "results = eliminar_saldo_min(saldo_min)\n",
    "end_time = time.time()\n",
    "\n",
    "print(results)\n",
    "print(f\"Se eliminaron {results['total']} en un tiempo de {str(timedelta(seconds = (end_time - start_time)))}\")"
   ]
  },
  {
   "cell_type": "markdown",
   "metadata": {},
   "source": [
    "| Tabla resumen de resultados | Valor obtenido |\n",
    "|-----------------------------|----------------|\n",
    "| Tiempo eliminación 1        | 12.4488 s       |"
   ]
  },
  {
   "cell_type": "markdown",
   "metadata": {},
   "source": [
    "# Eliminación de documentos de la base de datos con 30 millones de registros y 3 campos indexados (fecha, descripcion, nota)"
   ]
  },
  {
   "cell_type": "markdown",
   "metadata": {},
   "source": [
    "En esta sección se revisará la operación de eliminación en la colección de 30 millones de documentos indexados en tres campos: fecha, descripción y nota."
   ]
  },
  {
   "cell_type": "code",
   "execution_count": 19,
   "metadata": {},
   "outputs": [
    {
     "data": {
      "text/plain": [
       "ObjectApiResponse({'extracto_cuenta_30m_3idx': {'mappings': {'properties': {'agencia': {'type': 'keyword', 'index': False}, 'descripcion': {'type': 'text'}, 'fecha': {'type': 'date', 'format': 'yyyy-MM-dd HH:mm:ss'}, 'monto': {'type': 'float', 'index': False}, 'nota': {'type': 'text'}, 'saldo': {'type': 'float', 'index': False}}}}})"
      ]
     },
     "execution_count": 19,
     "metadata": {},
     "output_type": "execute_result"
    }
   ],
   "source": [
    "idx = \"extracto_cuenta_30m_3idx\"\n",
    "es.indices.get_mapping(index=idx)"
   ]
  },
  {
   "cell_type": "markdown",
   "metadata": {},
   "source": [
    "## Eliminación 1: Saldo menor"
   ]
  },
  {
   "cell_type": "markdown",
   "metadata": {},
   "source": [
    "Se eliminarán de la base de datos aquellos documentos cuyos saldos sean menores a determinado número."
   ]
  },
  {
   "cell_type": "code",
   "execution_count": 21,
   "metadata": {},
   "outputs": [
    {
     "name": "stdout",
     "output_type": "stream",
     "text": [
      "{'took': 14292, 'timed_out': False, 'total': 284, 'deleted': 284, 'batches': 1, 'version_conflicts': 0, 'noops': 0, 'retries': {'bulk': 0, 'search': 0}, 'throttled_millis': 0, 'requests_per_second': -1.0, 'throttled_until_millis': 0, 'failures': []}\n",
      "Se eliminaron 284 en un tiempo de 0:00:14.298594\n"
     ]
    }
   ],
   "source": [
    "saldo_min= 200\n",
    "\n",
    "start_time = time.time()\n",
    "results = eliminar_saldo_min(saldo_min)\n",
    "end_time = time.time()\n",
    "\n",
    "print(results)\n",
    "print(f\"Se eliminaron {results['total']} en un tiempo de {str(timedelta(seconds = (end_time - start_time)))}\")"
   ]
  },
  {
   "cell_type": "markdown",
   "metadata": {},
   "source": [
    "| Tabla resumen de resultados | Valor obtenido |\n",
    "|-----------------------------|----------------|\n",
    "| Tiempo eliminación 1        | 14.2986 s      |"
   ]
  }
 ],
 "metadata": {
  "kernelspec": {
   "display_name": "Python 3.9.12 64-bit",
   "language": "python",
   "name": "python3"
  },
  "language_info": {
   "codemirror_mode": {
    "name": "ipython",
    "version": 3
   },
   "file_extension": ".py",
   "mimetype": "text/x-python",
   "name": "python",
   "nbconvert_exporter": "python",
   "pygments_lexer": "ipython3",
   "version": "3.9.12"
  },
  "orig_nbformat": 4,
  "vscode": {
   "interpreter": {
    "hash": "d7e5a1f785ed82844e2da5d30522181462e1597dbd1807cbc4c5c0cc1d5a2e0b"
   }
  }
 },
 "nbformat": 4,
 "nbformat_minor": 2
}
